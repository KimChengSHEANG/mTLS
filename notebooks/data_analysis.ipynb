{
 "cells": [
  {
   "cell_type": "markdown",
   "metadata": {},
   "source": [
    "# Import and Helper functions"
   ]
  },
  {
   "cell_type": "code",
   "execution_count": 5,
   "metadata": {
    "tags": []
   },
   "outputs": [],
   "source": [
    "# -- fix path --\n",
    "from pathlib import Path\n",
    "import sys\n",
    "sys.path.append(str(Path('..').resolve()))\n",
    "from source.resources import *\n",
    "from source.metrics import *\n",
    "from source.helper import *\n",
    "from source.preprocessor import *\n",
    "from source.constants import *\n",
    "import Levenshtein\n",
    "import wordfreq\n",
    "\n",
    "from nltk import word_tokenize\n",
    "from functools import lru_cache\n",
    "import unicodedata\n",
    "from collections import Counter\n",
    "# from nltk import word_tokenize\n",
    "import nltk\n",
    "import magic\n",
    "# nltk.download('punkt')\n",
    "# nltk.download('stopwords')\n",
    "from nltk.corpus import stopwords\n",
    "# import spacy\n",
    "# nlp = spacy.load(\"en_core_web_sm\")\n",
    "\n",
    "# from joblib import Memory\n",
    "current_dir = Path('.')\n",
    "\n",
    "DATASETS = [Dataset.BenchLS, Dataset.LexMTurk, Dataset.NNSeval, Dataset.SemEval2012, Dataset.TSAR_EN, Dataset.TSAR_ES, Dataset.TSAR_PT]\n"
   ]
  },
  {
   "cell_type": "code",
   "execution_count": 4,
   "metadata": {},
   "outputs": [],
   "source": [
    "# def __normalize_string(text):\n",
    "#         text = text.replace('``', '\"')\n",
    "#         text = text.replace('`', \"'\")\n",
    "#         text = text.replace(\"''\", '\"')\n",
    "#         text = text.strip('\"')\n",
    "\n",
    "#         return text \n",
    "    \n",
    "# def sort_candidates_by_frequency(candidates, return_frequency=False):\n",
    "#     '''\n",
    "#     Default with frequency: [('wandered', 29), ('drifted', 4), ('walked', 4), ('traveled', 3), ('moved', 2), ('strolled', 2), ...]\n",
    "    \n",
    "#     Return candidats only: ['wandered', 'drifted', 'walked', 'traveled', 'moved', ...]\n",
    "#     '''\n",
    "#     candidates = Counter(candidates).items()\n",
    "#     # [('pine', 16), ('tree', 16), ('evergreen', 10), ('pine tree', 2), ('cedar', 1)]\n",
    "#     # [('important', 4), ('noticeable', 4), ('great', 3), ('known', 3), ('major', 3)]\n",
    "#     candidates = sorted(candidates, key=lambda x: x[0]) # sort by alphabet when the frequencies are equal\n",
    "#     candidates = sorted(candidates, key=lambda x: x[1], reverse=True) # sort by frequency\n",
    "#     if not return_frequency:\n",
    "#         candidates = [item[0] for item in candidates]\n",
    "        \n",
    "#     return candidates  \n",
    "   \n",
    "# def sort_candidates_by_ranking(candidates, return_ranking=False):\n",
    "#     candidates = sorted(candidates, key=lambda x: x[0]) # sort by alphabet when the frequencies are equal\n",
    "#     candidates = sorted(candidates, key=lambda x: x[1]) # sort by frequency\n",
    "#     if not return_ranking:\n",
    "#         candidates = [item[0] for item in candidates]\n",
    "        \n",
    "#     return candidates \n",
    "    \n",
    "# def __load_data_with_index(dataset, return_frequency=False):\n",
    "#         dataset_filepath = get_dataset_filepath(dataset)\n",
    "#         lines = yield_lines(dataset_filepath)\n",
    "#         docs = []\n",
    "\n",
    "#         for line in lines:\n",
    "#             chunks = line.split('\\t')\n",
    "#             text = chunks[0]\n",
    "#             text = __normalize_string(text)\n",
    "#             candidates = chunks[3:]\n",
    "#             candidates = [tuple(candidate.split(':')[::-1]) for candidate in candidates]\n",
    "            \n",
    "#             # sort by alphabet and ranking\n",
    "#             candidates = sort_candidates_by_ranking(candidates, return_ranking=return_frequency)\n",
    "            \n",
    "#             doc = {'text': text,\n",
    "#                         'complex_word': chunks[1],\n",
    "#                         'complex_word_index': chunks[2],\n",
    "#                         'candidates': candidates}\n",
    "#             docs.append(doc)\n",
    "#         return pd.DataFrame(docs)\n",
    "    \n",
    "\n",
    "# def __load_data(dataset, return_frequency=False):\n",
    "#     dataset_filepath = get_dataset_filepath(dataset)\n",
    "#     lines = yield_lines(dataset_filepath)\n",
    "#     docs = []\n",
    "\n",
    "#     next(lines)  # skip the header\n",
    "#     for line in lines:\n",
    "#         chunks = line.split('\\t')\n",
    "#         text = chunks[0]\n",
    "#         text = __normalize_string(text)\n",
    "#         candidates = chunks[2:]\n",
    "#         candidates = sort_candidates_by_frequency(candidates, return_frequency=return_frequency)\n",
    "#         doc = {'text': text,\n",
    "#                     'complex_word': chunks[1],\n",
    "#                     'complex_word_index': word_index_in_text(text, chunks[1]),\n",
    "#                     'candidates': candidates}\n",
    "#         docs.append(doc)\n",
    "#     return pd.DataFrame(docs)\n",
    "\n",
    "# def load_data(dataset, return_frequency=False):\n",
    "#     if dataset in [Dataset.LexMTurk, Dataset.TSAR_EN]:\n",
    "#         data = __load_data(dataset, return_frequency=return_frequency)\n",
    "#     else:\n",
    "#         data = __load_data_with_index(dataset, return_frequency=return_frequency)\n",
    "#     return data \n",
    "\n"
   ]
  },
  {
   "cell_type": "code",
   "execution_count": 6,
   "metadata": {},
   "outputs": [],
   "source": [
    "# line = \"European Union foreign ministers agreed Monday to impose fresh sanctions on Syria as a U.N.-backed peace plan -- along with all other diplomatic efforts -- has yet to stop the carnage that mounts every day.\tcarnage\tdestruction\tdestruction\tdestruction\tdestruction\tdestruction\tdestruction\tbloodshed\tbloodshed\tbloodshed\tmassacre\tmassacre\tmassacre\tslaughter\tslaughter\tslaughter\tcarnage\tcarnage\tbrutality\tbutchering\tbutchery\tdamage\tdeath\tslaying\tviolence\twar\"\n",
    "# chunks = line.split('\\t')\n",
    "# sentence = chunks[0]\n",
    "# complex_word = chunks[1]\n",
    "# candidates = chunks[2:]\n",
    "# print(len(candidates))\n",
    "# candidates = sort_candidates_by_frequency(candidates, return_frequency=True)\n",
    "# # candidates = [f'{word}:{freq}' for word, freq in candidates]\n",
    "# for word, freq in candidates:\n",
    "#     print(f'{word}:{freq}', end=', ')"
   ]
  },
  {
   "cell_type": "markdown",
   "metadata": {},
   "source": [
    "## Preview Data"
   ]
  },
  {
   "cell_type": "markdown",
   "metadata": {},
   "source": [
    "### BenchLS"
   ]
  },
  {
   "cell_type": "code",
   "execution_count": 6,
   "metadata": {},
   "outputs": [
    {
     "data": {
      "text/html": [
       "<div>\n",
       "<style scoped>\n",
       "    .dataframe tbody tr th:only-of-type {\n",
       "        vertical-align: middle;\n",
       "    }\n",
       "\n",
       "    .dataframe tbody tr th {\n",
       "        vertical-align: top;\n",
       "    }\n",
       "\n",
       "    .dataframe thead th {\n",
       "        text-align: right;\n",
       "    }\n",
       "</style>\n",
       "<table border=\"1\" class=\"dataframe\">\n",
       "  <thead>\n",
       "    <tr style=\"text-align: right;\">\n",
       "      <th></th>\n",
       "      <th>text</th>\n",
       "      <th>complex_word</th>\n",
       "      <th>complex_word_index</th>\n",
       "      <th>candidates</th>\n",
       "    </tr>\n",
       "  </thead>\n",
       "  <tbody>\n",
       "    <tr>\n",
       "      <th>0</th>\n",
       "      <td>in march 1992 , linux version 0.95 was the fir...</td>\n",
       "      <td>pieces</td>\n",
       "      <td>35</td>\n",
       "      <td>[[\"parts\"], [\"bits\"], [\"components\"], [\"inform...</td>\n",
       "    </tr>\n",
       "    <tr>\n",
       "      <th>1</th>\n",
       "      <td>much of the water carried by these streams is ...</td>\n",
       "      <td>diverted</td>\n",
       "      <td>9</td>\n",
       "      <td>[[\"redirected\"], [\"rerouted\"], [\"changed\", \"mo...</td>\n",
       "    </tr>\n",
       "    <tr>\n",
       "      <th>2</th>\n",
       "      <td>harry also becomes the worthy possessor of the...</td>\n",
       "      <td>possessor</td>\n",
       "      <td>5</td>\n",
       "      <td>[[\"owner\"], [\"holder\"], [\"keeper\"], [\"buyer\", ...</td>\n",
       "    </tr>\n",
       "    <tr>\n",
       "      <th>3</th>\n",
       "      <td>escapologists escape from handcuffs , straitja...</td>\n",
       "      <td>perils</td>\n",
       "      <td>24</td>\n",
       "      <td>[[\"dangers\"], [\"hazards\", \"situations\", \"dange...</td>\n",
       "    </tr>\n",
       "    <tr>\n",
       "      <th>4</th>\n",
       "      <td>the storm continued , crossing the outer banks...</td>\n",
       "      <td>retained</td>\n",
       "      <td>13</td>\n",
       "      <td>[[\"kept\"], [\"held\"], [\"maintained\"], [\"regaine...</td>\n",
       "    </tr>\n",
       "  </tbody>\n",
       "</table>\n",
       "</div>"
      ],
      "text/plain": [
       "                                                text complex_word  \\\n",
       "0  in march 1992 , linux version 0.95 was the fir...       pieces   \n",
       "1  much of the water carried by these streams is ...     diverted   \n",
       "2  harry also becomes the worthy possessor of the...    possessor   \n",
       "3  escapologists escape from handcuffs , straitja...       perils   \n",
       "4  the storm continued , crossing the outer banks...     retained   \n",
       "\n",
       "  complex_word_index                                         candidates  \n",
       "0                 35  [[\"parts\"], [\"bits\"], [\"components\"], [\"inform...  \n",
       "1                  9  [[\"redirected\"], [\"rerouted\"], [\"changed\", \"mo...  \n",
       "2                  5  [[\"owner\"], [\"holder\"], [\"keeper\"], [\"buyer\", ...  \n",
       "3                 24  [[\"dangers\"], [\"hazards\", \"situations\", \"dange...  \n",
       "4                 13  [[\"kept\"], [\"held\"], [\"maintained\"], [\"regaine...  "
      ]
     },
     "execution_count": 6,
     "metadata": {},
     "output_type": "execute_result"
    }
   ],
   "source": [
    "#BenchLS\n",
    "data = load_dataset(Dataset.BenchLS)\n",
    "data.head()"
   ]
  },
  {
   "cell_type": "markdown",
   "metadata": {},
   "source": [
    "### LexMTurk"
   ]
  },
  {
   "cell_type": "code",
   "execution_count": 9,
   "metadata": {},
   "outputs": [
    {
     "data": {
      "text/html": [
       "<div>\n",
       "<style scoped>\n",
       "    .dataframe tbody tr th:only-of-type {\n",
       "        vertical-align: middle;\n",
       "    }\n",
       "\n",
       "    .dataframe tbody tr th {\n",
       "        vertical-align: top;\n",
       "    }\n",
       "\n",
       "    .dataframe thead th {\n",
       "        text-align: right;\n",
       "    }\n",
       "</style>\n",
       "<table border=\"1\" class=\"dataframe\">\n",
       "  <thead>\n",
       "    <tr style=\"text-align: right;\">\n",
       "      <th></th>\n",
       "      <th>text</th>\n",
       "      <th>complex_word</th>\n",
       "      <th>complex_word_index</th>\n",
       "      <th>candidates</th>\n",
       "    </tr>\n",
       "  </thead>\n",
       "  <tbody>\n",
       "    <tr>\n",
       "      <th>0</th>\n",
       "      <td>in march 1992 , linux version 0.95 was the fir...</td>\n",
       "      <td>pieces</td>\n",
       "      <td>34</td>\n",
       "      <td>[[\"parts\"], [\"bits\"], [\"components\"], [\"compon...</td>\n",
       "    </tr>\n",
       "    <tr>\n",
       "      <th>1</th>\n",
       "      <td>much of the water carried by these streams is ...</td>\n",
       "      <td>diverted</td>\n",
       "      <td>9</td>\n",
       "      <td>[[\"redirected\"], [\"rerouted\"], [\"changed\", \"mo...</td>\n",
       "    </tr>\n",
       "    <tr>\n",
       "      <th>2</th>\n",
       "      <td>harry also becomes the worthy possessor of the...</td>\n",
       "      <td>possessor</td>\n",
       "      <td>5</td>\n",
       "      <td>[[\"owner\"], [\"holder\"], [\"keeper\"], [\"buyer\", ...</td>\n",
       "    </tr>\n",
       "    <tr>\n",
       "      <th>3</th>\n",
       "      <td>escapologists escape from handcuffs , straitja...</td>\n",
       "      <td>perils</td>\n",
       "      <td>24</td>\n",
       "      <td>[[\"dangers\"], [\"difficulties\", \"danger\", \"rest...</td>\n",
       "    </tr>\n",
       "    <tr>\n",
       "      <th>4</th>\n",
       "      <td>the storm continued , crossing the outer banks...</td>\n",
       "      <td>retained</td>\n",
       "      <td>13</td>\n",
       "      <td>[[\"kept\"], [\"held\"], [\"maintained\"], [\"regaine...</td>\n",
       "    </tr>\n",
       "    <tr>\n",
       "      <th>...</th>\n",
       "      <td>...</td>\n",
       "      <td>...</td>\n",
       "      <td>...</td>\n",
       "      <td>...</td>\n",
       "    </tr>\n",
       "    <tr>\n",
       "      <th>495</th>\n",
       "      <td>the marriage was marked from the outset by sex...</td>\n",
       "      <td>outset</td>\n",
       "      <td>6</td>\n",
       "      <td>[[\"beginning\"], [\"start\"], [\"begining\"], [\"beg...</td>\n",
       "    </tr>\n",
       "    <tr>\n",
       "      <th>496</th>\n",
       "      <td>born as alfons karg , he was trained as a tele...</td>\n",
       "      <td>profession</td>\n",
       "      <td>19</td>\n",
       "      <td>[[\"job\"], [\"career\"], [\"work\", \"job.\", \"specia...</td>\n",
       "    </tr>\n",
       "    <tr>\n",
       "      <th>497</th>\n",
       "      <td>some features , however , are reminiscent of t...</td>\n",
       "      <td>reminiscent</td>\n",
       "      <td>6</td>\n",
       "      <td>[[\"similar\"], [\"remindful\"], [\"reminders\"], [\"...</td>\n",
       "    </tr>\n",
       "    <tr>\n",
       "      <th>498</th>\n",
       "      <td>the shinto pantheon alone consists of an uncou...</td>\n",
       "      <td>consists</td>\n",
       "      <td>4</td>\n",
       "      <td>[[\"is made\"], [\"is made up\"], [\"is\"], [\"contai...</td>\n",
       "    </tr>\n",
       "    <tr>\n",
       "      <th>499</th>\n",
       "      <td>this message earned saddam a great deal of pop...</td>\n",
       "      <td>sectors</td>\n",
       "      <td>11</td>\n",
       "      <td>[[\"parts\"], [\"areas\"], [\"sections\", \"regions\"]...</td>\n",
       "    </tr>\n",
       "  </tbody>\n",
       "</table>\n",
       "<p>500 rows × 4 columns</p>\n",
       "</div>"
      ],
      "text/plain": [
       "                                                  text complex_word  \\\n",
       "0    in march 1992 , linux version 0.95 was the fir...       pieces   \n",
       "1    much of the water carried by these streams is ...     diverted   \n",
       "2    harry also becomes the worthy possessor of the...    possessor   \n",
       "3    escapologists escape from handcuffs , straitja...       perils   \n",
       "4    the storm continued , crossing the outer banks...     retained   \n",
       "..                                                 ...          ...   \n",
       "495  the marriage was marked from the outset by sex...       outset   \n",
       "496  born as alfons karg , he was trained as a tele...   profession   \n",
       "497  some features , however , are reminiscent of t...  reminiscent   \n",
       "498  the shinto pantheon alone consists of an uncou...     consists   \n",
       "499  this message earned saddam a great deal of pop...      sectors   \n",
       "\n",
       "     complex_word_index                                         candidates  \n",
       "0                    34  [[\"parts\"], [\"bits\"], [\"components\"], [\"compon...  \n",
       "1                     9  [[\"redirected\"], [\"rerouted\"], [\"changed\", \"mo...  \n",
       "2                     5  [[\"owner\"], [\"holder\"], [\"keeper\"], [\"buyer\", ...  \n",
       "3                    24  [[\"dangers\"], [\"difficulties\", \"danger\", \"rest...  \n",
       "4                    13  [[\"kept\"], [\"held\"], [\"maintained\"], [\"regaine...  \n",
       "..                  ...                                                ...  \n",
       "495                   6  [[\"beginning\"], [\"start\"], [\"begining\"], [\"beg...  \n",
       "496                  19  [[\"job\"], [\"career\"], [\"work\", \"job.\", \"specia...  \n",
       "497                   6  [[\"similar\"], [\"remindful\"], [\"reminders\"], [\"...  \n",
       "498                   4  [[\"is made\"], [\"is made up\"], [\"is\"], [\"contai...  \n",
       "499                  11  [[\"parts\"], [\"areas\"], [\"sections\", \"regions\"]...  \n",
       "\n",
       "[500 rows x 4 columns]"
      ]
     },
     "execution_count": 9,
     "metadata": {},
     "output_type": "execute_result"
    }
   ],
   "source": [
    "data = load_dataset(Dataset.LexMTurk)\n",
    "data"
   ]
  },
  {
   "cell_type": "markdown",
   "metadata": {},
   "source": [
    "### NNSeval"
   ]
  },
  {
   "cell_type": "code",
   "execution_count": 10,
   "metadata": {},
   "outputs": [
    {
     "data": {
      "text/html": [
       "<div>\n",
       "<style scoped>\n",
       "    .dataframe tbody tr th:only-of-type {\n",
       "        vertical-align: middle;\n",
       "    }\n",
       "\n",
       "    .dataframe tbody tr th {\n",
       "        vertical-align: top;\n",
       "    }\n",
       "\n",
       "    .dataframe thead th {\n",
       "        text-align: right;\n",
       "    }\n",
       "</style>\n",
       "<table border=\"1\" class=\"dataframe\">\n",
       "  <thead>\n",
       "    <tr style=\"text-align: right;\">\n",
       "      <th></th>\n",
       "      <th>text</th>\n",
       "      <th>complex_word</th>\n",
       "      <th>complex_word_index</th>\n",
       "      <th>candidates</th>\n",
       "    </tr>\n",
       "  </thead>\n",
       "  <tbody>\n",
       "    <tr>\n",
       "      <th>0</th>\n",
       "      <td>harry also becomes the worthy possessor of the...</td>\n",
       "      <td>possessor</td>\n",
       "      <td>5</td>\n",
       "      <td>[[\"owner\"], [\"holder\"], [\"buyer\", \"master\", \"t...</td>\n",
       "    </tr>\n",
       "    <tr>\n",
       "      <th>1</th>\n",
       "      <td>escapologists escape from handcuffs , straitja...</td>\n",
       "      <td>perils</td>\n",
       "      <td>24</td>\n",
       "      <td>[[\"dangers\"], [\"danger\", \"situations\", \"hazard...</td>\n",
       "    </tr>\n",
       "    <tr>\n",
       "      <th>2</th>\n",
       "      <td>the storm continued , crossing the outer banks...</td>\n",
       "      <td>retained</td>\n",
       "      <td>13</td>\n",
       "      <td>[[\"kept\"], [\"regained\"]]</td>\n",
       "    </tr>\n",
       "    <tr>\n",
       "      <th>3</th>\n",
       "      <td>the united states convened a 13-nation confere...</td>\n",
       "      <td>convened</td>\n",
       "      <td>3</td>\n",
       "      <td>[[\"assembled\"], [\"gathered\"], [\"started\"], [\"o...</td>\n",
       "    </tr>\n",
       "    <tr>\n",
       "      <th>4</th>\n",
       "      <td>dodd simply retained his athletic director pos...</td>\n",
       "      <td>acquired</td>\n",
       "      <td>11</td>\n",
       "      <td>[[\"received\"], [\"obtained\"], [\"achieved\"], [\"t...</td>\n",
       "    </tr>\n",
       "    <tr>\n",
       "      <th>...</th>\n",
       "      <td>...</td>\n",
       "      <td>...</td>\n",
       "      <td>...</td>\n",
       "      <td>...</td>\n",
       "    </tr>\n",
       "    <tr>\n",
       "      <th>234</th>\n",
       "      <td>after adding the separate partnerships of jlw ...</td>\n",
       "      <td>worldwide</td>\n",
       "      <td>27</td>\n",
       "      <td>[[\"global\"], [\"international\"]]</td>\n",
       "    </tr>\n",
       "    <tr>\n",
       "      <th>235</th>\n",
       "      <td>osis also provides its users with direct , yet...</td>\n",
       "      <td>worldwide</td>\n",
       "      <td>20</td>\n",
       "      <td>[[\"global\"], [\"international\"]]</td>\n",
       "    </tr>\n",
       "    <tr>\n",
       "      <th>236</th>\n",
       "      <td>like maypoles , wreaths too , as she points ou...</td>\n",
       "      <td>worldwide</td>\n",
       "      <td>41</td>\n",
       "      <td>[[\"global\"], [\"international\"]]</td>\n",
       "    </tr>\n",
       "    <tr>\n",
       "      <th>237</th>\n",
       "      <td>these functions also use scheduling priority t...</td>\n",
       "      <td>functions</td>\n",
       "      <td>1</td>\n",
       "      <td>[[\"activities\", \"tasks\"], [\"operations\", \"sequ...</td>\n",
       "    </tr>\n",
       "    <tr>\n",
       "      <th>238</th>\n",
       "      <td>functions of the presidency one way of bringin...</td>\n",
       "      <td>functions</td>\n",
       "      <td>0</td>\n",
       "      <td>[[\"jobs\"], [\"roles\"]]</td>\n",
       "    </tr>\n",
       "  </tbody>\n",
       "</table>\n",
       "<p>239 rows × 4 columns</p>\n",
       "</div>"
      ],
      "text/plain": [
       "                                                  text complex_word  \\\n",
       "0    harry also becomes the worthy possessor of the...    possessor   \n",
       "1    escapologists escape from handcuffs , straitja...       perils   \n",
       "2    the storm continued , crossing the outer banks...     retained   \n",
       "3    the united states convened a 13-nation confere...     convened   \n",
       "4    dodd simply retained his athletic director pos...     acquired   \n",
       "..                                                 ...          ...   \n",
       "234  after adding the separate partnerships of jlw ...    worldwide   \n",
       "235  osis also provides its users with direct , yet...    worldwide   \n",
       "236  like maypoles , wreaths too , as she points ou...    worldwide   \n",
       "237  these functions also use scheduling priority t...    functions   \n",
       "238  functions of the presidency one way of bringin...    functions   \n",
       "\n",
       "    complex_word_index                                         candidates  \n",
       "0                    5  [[\"owner\"], [\"holder\"], [\"buyer\", \"master\", \"t...  \n",
       "1                   24  [[\"dangers\"], [\"danger\", \"situations\", \"hazard...  \n",
       "2                   13                           [[\"kept\"], [\"regained\"]]  \n",
       "3                    3  [[\"assembled\"], [\"gathered\"], [\"started\"], [\"o...  \n",
       "4                   11  [[\"received\"], [\"obtained\"], [\"achieved\"], [\"t...  \n",
       "..                 ...                                                ...  \n",
       "234                 27                    [[\"global\"], [\"international\"]]  \n",
       "235                 20                    [[\"global\"], [\"international\"]]  \n",
       "236                 41                    [[\"global\"], [\"international\"]]  \n",
       "237                  1  [[\"activities\", \"tasks\"], [\"operations\", \"sequ...  \n",
       "238                  0                              [[\"jobs\"], [\"roles\"]]  \n",
       "\n",
       "[239 rows x 4 columns]"
      ]
     },
     "execution_count": 10,
     "metadata": {},
     "output_type": "execute_result"
    }
   ],
   "source": [
    "data = load_dataset(Dataset.NNSeval)\n",
    "data"
   ]
  },
  {
   "cell_type": "markdown",
   "metadata": {},
   "source": [
    "### TSAR EN"
   ]
  },
  {
   "cell_type": "code",
   "execution_count": 3,
   "metadata": {},
   "outputs": [
    {
     "data": {
      "text/html": [
       "<div>\n",
       "<style scoped>\n",
       "    .dataframe tbody tr th:only-of-type {\n",
       "        vertical-align: middle;\n",
       "    }\n",
       "\n",
       "    .dataframe tbody tr th {\n",
       "        vertical-align: top;\n",
       "    }\n",
       "\n",
       "    .dataframe thead th {\n",
       "        text-align: right;\n",
       "    }\n",
       "</style>\n",
       "<table border=\"1\" class=\"dataframe\">\n",
       "  <thead>\n",
       "    <tr style=\"text-align: right;\">\n",
       "      <th></th>\n",
       "      <th>text</th>\n",
       "      <th>complex_word</th>\n",
       "      <th>complex_word_index</th>\n",
       "      <th>candidates</th>\n",
       "    </tr>\n",
       "  </thead>\n",
       "  <tbody>\n",
       "    <tr>\n",
       "      <th>0</th>\n",
       "      <td>this discovery helped to establish yet another...</td>\n",
       "      <td>prototype</td>\n",
       "      <td>28</td>\n",
       "      <td>[[\"model\", \"sample\"], [\"prototype\"], [\"origina...</td>\n",
       "    </tr>\n",
       "    <tr>\n",
       "      <th>1</th>\n",
       "      <td>putin was expected to formally register later ...</td>\n",
       "      <td>authoritarian</td>\n",
       "      <td>29</td>\n",
       "      <td>[[\"dictatorial\"], [\"controlling\", \"authoritari...</td>\n",
       "    </tr>\n",
       "    <tr>\n",
       "      <th>2</th>\n",
       "      <td>#7-8 despite the fog, other flights are report...</td>\n",
       "      <td>collision</td>\n",
       "      <td>18</td>\n",
       "      <td>[[\"crash\"], [\"impact\", \"accident\"], [\"collisio...</td>\n",
       "    </tr>\n",
       "    <tr>\n",
       "      <th>3</th>\n",
       "      <td>the larva grows to about 120-130 mm , and pupa...</td>\n",
       "      <td>pupates</td>\n",
       "      <td>9</td>\n",
       "      <td>[[\"grows\"], [\"pupates\"], [\"develops\"], [\"matur...</td>\n",
       "    </tr>\n",
       "    <tr>\n",
       "      <th>4</th>\n",
       "      <td>gorbachev told the interfax news agency that a...</td>\n",
       "      <td>discontent</td>\n",
       "      <td>20</td>\n",
       "      <td>[[\"dissatisfaction\"], [\"unhappiness\"], [\"unres...</td>\n",
       "    </tr>\n",
       "    <tr>\n",
       "      <th>...</th>\n",
       "      <td>...</td>\n",
       "      <td>...</td>\n",
       "      <td>...</td>\n",
       "      <td>...</td>\n",
       "    </tr>\n",
       "    <tr>\n",
       "      <th>381</th>\n",
       "      <td>pearl s. buck died of lung cancer on march 6 ,...</td>\n",
       "      <td>interred</td>\n",
       "      <td>20</td>\n",
       "      <td>[[\"buried\"], [\"burried\"], [\"entombed\", \"inhume...</td>\n",
       "    </tr>\n",
       "    <tr>\n",
       "      <th>382</th>\n",
       "      <td>his satirical street art and subversive epigra...</td>\n",
       "      <td>epigrams</td>\n",
       "      <td>6</td>\n",
       "      <td>[[\"quips\", \"jokes\"], [\"gems\", \"puns\"], [\"jest\"...</td>\n",
       "    </tr>\n",
       "    <tr>\n",
       "      <th>383</th>\n",
       "      <td>brevard county was the scene of six homicides ...</td>\n",
       "      <td>homicides</td>\n",
       "      <td>7</td>\n",
       "      <td>[[\"murders\"], [\"killings\"], [\"assassinations\"]...</td>\n",
       "    </tr>\n",
       "    <tr>\n",
       "      <th>384</th>\n",
       "      <td>#5-4 northern mali was seized by islamic milit...</td>\n",
       "      <td>seized</td>\n",
       "      <td>5</td>\n",
       "      <td>[[\"captured\", \"grabbed\"], [\"taken\"], [\"overtak...</td>\n",
       "    </tr>\n",
       "    <tr>\n",
       "      <th>385</th>\n",
       "      <td>#30-19 \"we would have preferred a different so...</td>\n",
       "      <td>impugned</td>\n",
       "      <td>32</td>\n",
       "      <td>[[\"challenged\"], [\"disputed\", \"questioned\"], [...</td>\n",
       "    </tr>\n",
       "  </tbody>\n",
       "</table>\n",
       "<p>386 rows × 4 columns</p>\n",
       "</div>"
      ],
      "text/plain": [
       "                                                  text   complex_word  \\\n",
       "0    this discovery helped to establish yet another...      prototype   \n",
       "1    putin was expected to formally register later ...  authoritarian   \n",
       "2    #7-8 despite the fog, other flights are report...      collision   \n",
       "3    the larva grows to about 120-130 mm , and pupa...        pupates   \n",
       "4    gorbachev told the interfax news agency that a...     discontent   \n",
       "..                                                 ...            ...   \n",
       "381  pearl s. buck died of lung cancer on march 6 ,...       interred   \n",
       "382  his satirical street art and subversive epigra...       epigrams   \n",
       "383  brevard county was the scene of six homicides ...      homicides   \n",
       "384  #5-4 northern mali was seized by islamic milit...         seized   \n",
       "385  #30-19 \"we would have preferred a different so...       impugned   \n",
       "\n",
       "     complex_word_index                                         candidates  \n",
       "0                    28  [[\"model\", \"sample\"], [\"prototype\"], [\"origina...  \n",
       "1                    29  [[\"dictatorial\"], [\"controlling\", \"authoritari...  \n",
       "2                    18  [[\"crash\"], [\"impact\", \"accident\"], [\"collisio...  \n",
       "3                     9  [[\"grows\"], [\"pupates\"], [\"develops\"], [\"matur...  \n",
       "4                    20  [[\"dissatisfaction\"], [\"unhappiness\"], [\"unres...  \n",
       "..                  ...                                                ...  \n",
       "381                  20  [[\"buried\"], [\"burried\"], [\"entombed\", \"inhume...  \n",
       "382                   6  [[\"quips\", \"jokes\"], [\"gems\", \"puns\"], [\"jest\"...  \n",
       "383                   7  [[\"murders\"], [\"killings\"], [\"assassinations\"]...  \n",
       "384                   5  [[\"captured\", \"grabbed\"], [\"taken\"], [\"overtak...  \n",
       "385                  32  [[\"challenged\"], [\"disputed\", \"questioned\"], [...  \n",
       "\n",
       "[386 rows x 4 columns]"
      ]
     },
     "execution_count": 3,
     "metadata": {},
     "output_type": "execute_result"
    }
   ],
   "source": [
    "data_tsar_en = load_dataset(Dataset.TSAR_EN)\n",
    "data_tsar_en"
   ]
  },
  {
   "attachments": {},
   "cell_type": "markdown",
   "metadata": {},
   "source": [
    "### TSAR ES"
   ]
  },
  {
   "cell_type": "code",
   "execution_count": 4,
   "metadata": {},
   "outputs": [
    {
     "data": {
      "text/html": [
       "<div>\n",
       "<style scoped>\n",
       "    .dataframe tbody tr th:only-of-type {\n",
       "        vertical-align: middle;\n",
       "    }\n",
       "\n",
       "    .dataframe tbody tr th {\n",
       "        vertical-align: top;\n",
       "    }\n",
       "\n",
       "    .dataframe thead th {\n",
       "        text-align: right;\n",
       "    }\n",
       "</style>\n",
       "<table border=\"1\" class=\"dataframe\">\n",
       "  <thead>\n",
       "    <tr style=\"text-align: right;\">\n",
       "      <th></th>\n",
       "      <th>text</th>\n",
       "      <th>complex_word</th>\n",
       "      <th>complex_word_index</th>\n",
       "      <th>candidates</th>\n",
       "    </tr>\n",
       "  </thead>\n",
       "  <tbody>\n",
       "    <tr>\n",
       "      <th>0</th>\n",
       "      <td>), fue un pianista y compositor folclórico, y ...</td>\n",
       "      <td>folclórico</td>\n",
       "      <td>7</td>\n",
       "      <td>[[\"tradicional\"], [\"pintoresco\", \"t\\u00edpico\"...</td>\n",
       "    </tr>\n",
       "    <tr>\n",
       "      <th>1</th>\n",
       "      <td>a comienzos de la década de 1980, se trasladó ...</td>\n",
       "      <td>labrarse</td>\n",
       "      <td>20</td>\n",
       "      <td>[[\"formarse\"], [\"construirse\", \"hacerse\"], [\"g...</td>\n",
       "    </tr>\n",
       "    <tr>\n",
       "      <th>2</th>\n",
       "      <td>a lo largo de sus más de veinte años de experi...</td>\n",
       "      <td>tertulias</td>\n",
       "      <td>33</td>\n",
       "      <td>[[\"charlas\"], [\"reuniones\"], [\"debates\"], [\"co...</td>\n",
       "    </tr>\n",
       "    <tr>\n",
       "      <th>3</th>\n",
       "      <td>a pesar de las pocas bajas (menos de 500 en to...</td>\n",
       "      <td>propiciado</td>\n",
       "      <td>38</td>\n",
       "      <td>[[\"provocado\"], [\"favorecido\", \"desencadenado\"...</td>\n",
       "    </tr>\n",
       "    <tr>\n",
       "      <th>4</th>\n",
       "      <td>a pesar de las pocas bajas (menos de 500 en to...</td>\n",
       "      <td>decadencia</td>\n",
       "      <td>40</td>\n",
       "      <td>[[\"ca\\u00edda\"], [\"debilitaci\\u00f3n\"], [\"caid...</td>\n",
       "    </tr>\n",
       "    <tr>\n",
       "      <th>...</th>\n",
       "      <td>...</td>\n",
       "      <td>...</td>\n",
       "      <td>...</td>\n",
       "      <td>...</td>\n",
       "    </tr>\n",
       "    <tr>\n",
       "      <th>376</th>\n",
       "      <td>una bomba peristáltica es un tipo de bomba hid...</td>\n",
       "      <td>hidráulica</td>\n",
       "      <td>8</td>\n",
       "      <td>[[\"hidr\\u00e1ulica\"], [\"hidromec\\u00e1nica\"], ...</td>\n",
       "    </tr>\n",
       "    <tr>\n",
       "      <th>377</th>\n",
       "      <td>una noche,un extraño personaje llamado dedo po...</td>\n",
       "      <td>secuaces</td>\n",
       "      <td>53</td>\n",
       "      <td>[[\"seguidores\"], [\"c\\u00f3mplices\"], [\"compa\\u...</td>\n",
       "    </tr>\n",
       "    <tr>\n",
       "      <th>378</th>\n",
       "      <td>utilizó el seudónimo \"etpa\" (ermelinda talea p...</td>\n",
       "      <td>seudónimo</td>\n",
       "      <td>2</td>\n",
       "      <td>[[\"alias\"], [\"apodo\", \"sobrenombre\"], [\"nombre...</td>\n",
       "    </tr>\n",
       "    <tr>\n",
       "      <th>379</th>\n",
       "      <td>villasequilla se llamó antes \"villaseca de val...</td>\n",
       "      <td>dependencia</td>\n",
       "      <td>18</td>\n",
       "      <td>[[\"vinculaci\\u00f3n\"], [\"subordinaci\\u00f3n\"],...</td>\n",
       "    </tr>\n",
       "    <tr>\n",
       "      <th>380</th>\n",
       "      <td>ya como alumna de ballet, gret palucca tenía u...</td>\n",
       "      <td>escéptica</td>\n",
       "      <td>11</td>\n",
       "      <td>[[\"incr\\u00e9dula\"], [\"desconfiada\", \"dudosa\"]...</td>\n",
       "    </tr>\n",
       "  </tbody>\n",
       "</table>\n",
       "<p>381 rows × 4 columns</p>\n",
       "</div>"
      ],
      "text/plain": [
       "                                                  text complex_word  \\\n",
       "0    ), fue un pianista y compositor folclórico, y ...   folclórico   \n",
       "1    a comienzos de la década de 1980, se trasladó ...     labrarse   \n",
       "2    a lo largo de sus más de veinte años de experi...    tertulias   \n",
       "3    a pesar de las pocas bajas (menos de 500 en to...   propiciado   \n",
       "4    a pesar de las pocas bajas (menos de 500 en to...   decadencia   \n",
       "..                                                 ...          ...   \n",
       "376  una bomba peristáltica es un tipo de bomba hid...   hidráulica   \n",
       "377  una noche,un extraño personaje llamado dedo po...     secuaces   \n",
       "378  utilizó el seudónimo \"etpa\" (ermelinda talea p...    seudónimo   \n",
       "379  villasequilla se llamó antes \"villaseca de val...  dependencia   \n",
       "380  ya como alumna de ballet, gret palucca tenía u...    escéptica   \n",
       "\n",
       "     complex_word_index                                         candidates  \n",
       "0                     7  [[\"tradicional\"], [\"pintoresco\", \"t\\u00edpico\"...  \n",
       "1                    20  [[\"formarse\"], [\"construirse\", \"hacerse\"], [\"g...  \n",
       "2                    33  [[\"charlas\"], [\"reuniones\"], [\"debates\"], [\"co...  \n",
       "3                    38  [[\"provocado\"], [\"favorecido\", \"desencadenado\"...  \n",
       "4                    40  [[\"ca\\u00edda\"], [\"debilitaci\\u00f3n\"], [\"caid...  \n",
       "..                  ...                                                ...  \n",
       "376                   8  [[\"hidr\\u00e1ulica\"], [\"hidromec\\u00e1nica\"], ...  \n",
       "377                  53  [[\"seguidores\"], [\"c\\u00f3mplices\"], [\"compa\\u...  \n",
       "378                   2  [[\"alias\"], [\"apodo\", \"sobrenombre\"], [\"nombre...  \n",
       "379                  18  [[\"vinculaci\\u00f3n\"], [\"subordinaci\\u00f3n\"],...  \n",
       "380                  11  [[\"incr\\u00e9dula\"], [\"desconfiada\", \"dudosa\"]...  \n",
       "\n",
       "[381 rows x 4 columns]"
      ]
     },
     "execution_count": 4,
     "metadata": {},
     "output_type": "execute_result"
    }
   ],
   "source": [
    "data_tsar_es = load_dataset(Dataset.TSAR_ES)\n",
    "data_tsar_es"
   ]
  },
  {
   "attachments": {},
   "cell_type": "markdown",
   "metadata": {},
   "source": [
    "### TSAR PT"
   ]
  },
  {
   "cell_type": "code",
   "execution_count": 5,
   "metadata": {},
   "outputs": [
    {
     "data": {
      "text/html": [
       "<div>\n",
       "<style scoped>\n",
       "    .dataframe tbody tr th:only-of-type {\n",
       "        vertical-align: middle;\n",
       "    }\n",
       "\n",
       "    .dataframe tbody tr th {\n",
       "        vertical-align: top;\n",
       "    }\n",
       "\n",
       "    .dataframe thead th {\n",
       "        text-align: right;\n",
       "    }\n",
       "</style>\n",
       "<table border=\"1\" class=\"dataframe\">\n",
       "  <thead>\n",
       "    <tr style=\"text-align: right;\">\n",
       "      <th></th>\n",
       "      <th>text</th>\n",
       "      <th>complex_word</th>\n",
       "      <th>complex_word_index</th>\n",
       "      <th>candidates</th>\n",
       "    </tr>\n",
       "  </thead>\n",
       "  <tbody>\n",
       "    <tr>\n",
       "      <th>0</th>\n",
       "      <td>ao prever a distribuição gratuita de uniforme ...</td>\n",
       "      <td>controvérsia</td>\n",
       "      <td>20</td>\n",
       "      <td>[[\"pol\\u00eamica\"], [\"contradi\\u00e7\\u00e3o\"],...</td>\n",
       "    </tr>\n",
       "    <tr>\n",
       "      <th>1</th>\n",
       "      <td>a matéria ainda precisa passar pela câmara dos...</td>\n",
       "      <td>matéria</td>\n",
       "      <td>1</td>\n",
       "      <td>[[\"assunto\", \"lei\"], [\"proposta\", \"conte\\u00fa...</td>\n",
       "    </tr>\n",
       "    <tr>\n",
       "      <th>2</th>\n",
       "      <td>o acessório polêmico entrou no projeto de auto...</td>\n",
       "      <td>polêmico</td>\n",
       "      <td>2</td>\n",
       "      <td>[[\"controverso\"], [\"discut\\u00edvel\"], [\"duvid...</td>\n",
       "    </tr>\n",
       "    <tr>\n",
       "      <th>3</th>\n",
       "      <td>toda a operação teria sido armada para vingar ...</td>\n",
       "      <td>armada</td>\n",
       "      <td>5</td>\n",
       "      <td>[[\"criada\"], [\"planejada\"], [\"organizada\", \"pr...</td>\n",
       "    </tr>\n",
       "    <tr>\n",
       "      <th>4</th>\n",
       "      <td>blitze barreiras e operações em profusão foram...</td>\n",
       "      <td>profusão</td>\n",
       "      <td>5</td>\n",
       "      <td>[[\"abund\\u00e2ncia\"], [\"fartura\", \"quantidade\"...</td>\n",
       "    </tr>\n",
       "    <tr>\n",
       "      <th>...</th>\n",
       "      <td>...</td>\n",
       "      <td>...</td>\n",
       "      <td>...</td>\n",
       "      <td>...</td>\n",
       "    </tr>\n",
       "    <tr>\n",
       "      <th>381</th>\n",
       "      <td>para provar a idéia os pesquisadores compilara...</td>\n",
       "      <td>compilaram</td>\n",
       "      <td>6</td>\n",
       "      <td>[[\"reuniram\"], [\"juntaram\"], [\"selecionaram\"],...</td>\n",
       "    </tr>\n",
       "    <tr>\n",
       "      <th>382</th>\n",
       "      <td>o estudo estará numa edição futura do periódic...</td>\n",
       "      <td>científico</td>\n",
       "      <td>8</td>\n",
       "      <td>[[\"tecnol\\u00f3gico\", \"t\\u00e9cnico\"], [\"mestr...</td>\n",
       "    </tr>\n",
       "    <tr>\n",
       "      <th>383</th>\n",
       "      <td>cremos que elas seriam mais eficientes que os ...</td>\n",
       "      <td>inibir</td>\n",
       "      <td>11</td>\n",
       "      <td>[[\"impedir\"], [\"diminuir\"], [\"impossibilitar\"]...</td>\n",
       "    </tr>\n",
       "    <tr>\n",
       "      <th>384</th>\n",
       "      <td>a ficção científica americana na forma de livr...</td>\n",
       "      <td>fascinada</td>\n",
       "      <td>12</td>\n",
       "      <td>[[\"encantada\", \"apaixonada\"], [\"deslumbrado\"],...</td>\n",
       "    </tr>\n",
       "    <tr>\n",
       "      <th>385</th>\n",
       "      <td>a universidade de tóquio desenvolveu uma pele ...</td>\n",
       "      <td>significativa</td>\n",
       "      <td>14</td>\n",
       "      <td>[[\"importante\"], [\"consider\\u00e1vel\"], [\"gran...</td>\n",
       "    </tr>\n",
       "  </tbody>\n",
       "</table>\n",
       "<p>386 rows × 4 columns</p>\n",
       "</div>"
      ],
      "text/plain": [
       "                                                  text   complex_word  \\\n",
       "0    ao prever a distribuição gratuita de uniforme ...   controvérsia   \n",
       "1    a matéria ainda precisa passar pela câmara dos...        matéria   \n",
       "2    o acessório polêmico entrou no projeto de auto...       polêmico   \n",
       "3    toda a operação teria sido armada para vingar ...         armada   \n",
       "4    blitze barreiras e operações em profusão foram...       profusão   \n",
       "..                                                 ...            ...   \n",
       "381  para provar a idéia os pesquisadores compilara...     compilaram   \n",
       "382  o estudo estará numa edição futura do periódic...     científico   \n",
       "383  cremos que elas seriam mais eficientes que os ...         inibir   \n",
       "384  a ficção científica americana na forma de livr...      fascinada   \n",
       "385  a universidade de tóquio desenvolveu uma pele ...  significativa   \n",
       "\n",
       "     complex_word_index                                         candidates  \n",
       "0                    20  [[\"pol\\u00eamica\"], [\"contradi\\u00e7\\u00e3o\"],...  \n",
       "1                     1  [[\"assunto\", \"lei\"], [\"proposta\", \"conte\\u00fa...  \n",
       "2                     2  [[\"controverso\"], [\"discut\\u00edvel\"], [\"duvid...  \n",
       "3                     5  [[\"criada\"], [\"planejada\"], [\"organizada\", \"pr...  \n",
       "4                     5  [[\"abund\\u00e2ncia\"], [\"fartura\", \"quantidade\"...  \n",
       "..                  ...                                                ...  \n",
       "381                   6  [[\"reuniram\"], [\"juntaram\"], [\"selecionaram\"],...  \n",
       "382                   8  [[\"tecnol\\u00f3gico\", \"t\\u00e9cnico\"], [\"mestr...  \n",
       "383                  11  [[\"impedir\"], [\"diminuir\"], [\"impossibilitar\"]...  \n",
       "384                  12  [[\"encantada\", \"apaixonada\"], [\"deslumbrado\"],...  \n",
       "385                  14  [[\"importante\"], [\"consider\\u00e1vel\"], [\"gran...  \n",
       "\n",
       "[386 rows x 4 columns]"
      ]
     },
     "execution_count": 5,
     "metadata": {},
     "output_type": "execute_result"
    }
   ],
   "source": [
    "data_tsar_pt = load_dataset(Dataset.TSAR_PT)\n",
    "data_tsar_pt"
   ]
  },
  {
   "cell_type": "markdown",
   "metadata": {},
   "source": [
    "# Check frequency"
   ]
  },
  {
   "cell_type": "code",
   "execution_count": 40,
   "metadata": {},
   "outputs": [
    {
     "name": "stdout",
     "output_type": "stream",
     "text": [
      "[('assembled', 11), ('called', 11), ('gathered', 6), ('held', 5), ('met', 3)]\n",
      "[('pine', 16), ('tree', 16), ('evergreen', 10), ('pine tree', 2), ('cedar', 1)]\n",
      "[('important', 4), ('noticeable', 4), ('great', 3), ('known', 3), ('major', 3)]\n",
      "[('almost never', 6), ('not often', 6), ('hardly', 5), ('hardly ever', 5), ('not usually', 5)]\n",
      "[('registered', 8), ('signed up', 8), ('studied', 7), ('started', 6), ('joined', 5)]\n",
      "[('past', 16), ('previous', 16), ('old', 8), ('prior', 4), ('earlier', 2)]\n",
      "[('ideas', 10), ('rules', 10), ('beliefs', 7), ('laws', 5), ('principles', 2)]\n",
      "[('honest', 16), ('reliable', 16), ('believable', 5), ('credible', 3), ('dependable', 3)]\n",
      "[('concentrated', 8), ('interested', 8), ('centered', 6), ('fixed', 5), ('fixated', 3)]\n",
      "[('before', 13), ('earlier', 13), ('already', 5), ('in the past', 4), ('once', 4)]\n",
      "[('decides', 11), ('determines', 11), ('shows', 5), ('tells', 4), ('causes', 3)]\n",
      "[('mated', 5), ('raised', 5), ('made', 4), ('added', 3), ('connected', 3)]\n",
      "[('ones', 8), ('types', 8), ('creatures', 5), ('kinds', 4), ('animals', 3)]\n",
      "lex.mturk 499 13\n"
     ]
    }
   ],
   "source": [
    "data = load_data(Dataset.LexMTurk, return_frequency=True)\n",
    "\n",
    "items = []\n",
    "for row in data.iloc:\n",
    "    candidates = row['candidates']\n",
    "    if len(candidates) > 1 and candidates[0][1] == candidates[1][1]:\n",
    "        print(candidates[:5])\n",
    "        items.append(items)\n",
    "print(Dataset.LexMTurk, len(data), len(items)) \n"
   ]
  },
  {
   "cell_type": "code",
   "execution_count": 41,
   "metadata": {},
   "outputs": [
    {
     "name": "stdout",
     "output_type": "stream",
     "text": [
      "[('blockade', '1'), ('capture', '1'), ('battle', '2'), ('invasion', '3'), ('surrounding', '3')]\n",
      "[('dream', '1'), ('try', '1'), ('aim', '2'), ('strive', '2'), ('want', '2')]\n",
      "[('born', '1'), ('established', '1'), ('founded', '1'), ('started', '1')]\n",
      "[('named', '1'), ('selected', '1'), ('elected', '2'), ('chosen as', '3'), ('designated', '3')]\n",
      "[('entirely', '1'), ('soley', '1'), ('singularly', '2')]\n",
      "[('old', '1'), ('present-day', '1'), ('historical', '2'), ('mainstream', '2'), ('popular', '2')]\n",
      "[('important', '1'), ('noticeable', '1'), ('great', '2'), ('known', '2'), ('major', '2')]\n",
      "[('earned', '1'), ('obtained', '1'), ('received', '1'), ('aquired', '2'), ('gave', '2')]\n",
      "[('eventually', '1'), ('increasingly', '1'), ('gently', '2'), ('little by little', '2'), ('over time', '2')]\n",
      "[('daid', '1'), ('sayed', '1')]\n",
      "[('cape', '1'), ('point', '1'), ('area', '2'), ('tip', '2'), ('landmass', '3')]\n",
      "[('developing', '1'), ('emerging', '1'), ('budding', '2'), ('abandoned', '3'), ('blossoming', '3')]\n",
      "[('adds', '1'), ('contain', '1'), ('incorporates', '1'), ('allows for', '2'), ('also has', '2')]\n",
      "[('acted', '1'), ('showed up', '1'), ('played', '2'), ('was in', '3'), ('arose', '4')]\n",
      "[('eventually', '1'), ('increasingly', '1'), ('little by little', '1'), ('progressively', '1'), ('regularly', '1')]\n",
      "[('controlling', '1'), ('handling', '1'), ('look after', '1'), ('take care of', '1'), ('directing', '2')]\n",
      "[('accordingly', '1'), ('consequently', '1')]\n",
      "[('accordingly', '1'), ('consequently', '1')]\n",
      "[('citizen', '1'), ('private', '1'), ('civic', '2'), ('noncriminal', '2'), ('ordinary private', '3')]\n",
      "[('civic', '1'), ('noncriminal', '1'), ('ordinary private', '2')]\n",
      "[('citizen', '1'), ('personal', '1'), (\"citizens\\\\'\", '2'), ('civic', '2'), ('individual', '2')]\n",
      "[('friendly', '1'), ('polite', '1'), ('cultured', '2'), ('well mannered', '2')]\n",
      "[('courteous', '1'), ('polite', '1'), ('cordial', '2'), ('social', '2')]\n",
      "[('accordingly', '1'), ('consequently', '1')]\n",
      "[('achieved', '1'), ('obtained', '1'), ('procured', '2')]\n",
      "[('bought', '1'), ('bring in', '1'), ('obtained', '2'), ('procured', '3')]\n",
      "[('carefully', '1'), ('together', '1'), ('alongside', '2'), ('in concert', '2'), ('in tandem', '2')]\n",
      "[('important', '1'), ('leading', '1'), ('well known', '1')]\n",
      "[('important', '1'), ('leading', '1'), ('well known', '1'), ('high profile', '2'), ('eminent', '3')]\n",
      "[('leading', '1'), ('well known', '1'), ('high profile', '2'), ('renowned', '2')]\n",
      "[('important', '1'), ('leading', '1'), ('significant', '2'), ('foremost', '3'), ('conspicuous', '4')]\n",
      "[('high profile', '1'), ('leading', '1'), ('well known', '1'), ('widely known', '1'), ('renowned', '2')]\n",
      "[('famous', '1'), ('leading', '1'), ('well known', '1'), ('widely known', '2'), ('renowned', '3')]\n",
      "[('important', '1'), ('major', '1'), ('foremost', '2'), ('conspicuous', '3')]\n",
      "[('obvious', '1'), ('visible', '1'), ('conspicuous', '2')]\n",
      "[('noticeable', '1'), ('obvious', '1'), ('conspicuous', '2'), ('salient', '2')]\n",
      "[('noticeable', '1'), ('obvious', '1'), ('conspicuous', '2'), ('prevalent', '2'), ('pronounced', '2')]\n",
      "[('cause to be', '1'), ('render', '1')]\n",
      "[('gentle', '1'), ('sensitive', '1')]\n",
      "[('activities', '1'), ('tasks', '1'), ('operations', '2'), ('sequences', '2'), ('subroutines', '3')]\n",
      "NNSeval 239 40\n"
     ]
    }
   ],
   "source": [
    "\n",
    "data = load_data(Dataset.NNSeval, return_frequency=True)\n",
    "\n",
    "items = []\n",
    "for row in data.iloc:\n",
    "    candidates = row['candidates']\n",
    "    if len(candidates) > 1 and candidates[0][1] == candidates[1][1]:\n",
    "        print(candidates[:5])\n",
    "        items.append(items)\n",
    "print(Dataset.NNSeval, len(data), len(items)) "
   ]
  },
  {
   "cell_type": "code",
   "execution_count": 42,
   "metadata": {},
   "outputs": [
    {
     "name": "stdout",
     "output_type": "stream",
     "text": [
      "[('assembled', '1'), ('called', '1'), ('gathered', '2'), ('held', '3'), ('met', '4')]\n",
      "[('pine', '1'), ('tree', '1'), ('evergreen', '2'), ('cedar', '3'), ('fir', '3')]\n",
      "[('important', '1'), ('noticeable', '1'), ('great', '2'), ('known', '2'), ('major', '2')]\n",
      "[('hardly', '1'), ('seldom', '1'), ('sometimes', '1'), ('not', '2'), ('barely', '3')]\n",
      "[('past', '1'), ('previous', '1'), ('old', '2'), ('prior', '3'), ('earlier', '4')]\n",
      "[('ideas', '1'), ('rules', '1'), ('beliefs', '2'), ('laws', '3'), ('principles', '4')]\n",
      "[('honest', '1'), ('reliable', '1'), ('believable', '2'), ('credible', '3'), ('dependable', '3')]\n",
      "[('concentrated', '1'), ('interested', '1'), ('centered', '2'), ('fixed', '3'), ('fixated', '4')]\n",
      "[('decides', '1'), ('determines', '1'), ('shows', '2'), ('tells', '3'), ('causes', '4')]\n",
      "[('mated', '1'), ('raised', '1'), ('made', '2'), ('added', '3'), ('connected', '3')]\n",
      "[('biggest', '1'), ('main', '1'), ('first', '2'), ('greatest', '2'), ('best', '3')]\n",
      "[('ones', '1'), ('types', '1'), ('creatures', '2'), ('kinds', '3'), ('animals', '4')]\n",
      "[('controlled', '1'), ('handled', '1'), ('directed', '2'), ('overseen', '2'), ('organised', '3')]\n",
      "[('controlling', '1'), ('handling', '1'), ('directing', '2'), ('organising', '3')]\n",
      "[('control', '1'), ('handle', '1'), ('organise', '2'), ('coordinate', '3')]\n",
      "[('controlled', '1'), ('run', '1'), ('directed', '2'), ('coordinated', '3'), ('conducted', '4')]\n",
      "[('assesment', '1'), ('inspection', '1'), ('investigation', '2'), ('consultation', '3')]\n",
      "[('analysis', '1'), ('investigation', '1'), ('enquiry', '3'), ('scrutiny', '3')]\n",
      "[('investigation', '1'), ('study', '1'), ('inspection', '2'), ('scrutiny', '2'), ('analysis', '3')]\n",
      "[('investigation', '1'), ('study', '1'), ('inspection', '2'), ('scrutiny', '2')]\n",
      "[('exam', '1'), ('test', '1'), ('assessment', '2')]\n",
      "[('exam', '1'), ('test', '1'), ('assessment', '2')]\n",
      "[('cheek', '1'), ('nerve', '1'), ('audacity', '3'), ('impudence', '3'), ('effrontery', '4')]\n",
      "[('bile-producing', '2'), ('pn', '2')]\n",
      "[('doomy', '1'), ('horrible', '1'), ('bleak', '2'), ('dire', '2'), ('horrific', '2')]\n",
      "[('terrible', '1'), ('unpleasant', '1'), ('horrible', '2'), ('horrific', '2'), ('gruesome', '3')]\n",
      "[('terrible', '1'), ('unpleasant', '1'), ('bleak', '2'), ('dire', '2'), ('depressing', '3')]\n",
      "[('depressing', '1'), ('gloomy', '1'), ('bleak', '2'), ('harsh', '2'), ('horrid', '3')]\n",
      "[('dark', '1'), ('horrible', '1'), ('dire', '2'), ('horrific', '2'), ('sinister', '3')]\n",
      "[('awful', '1'), ('unpleasant', '1'), ('depressing', '2'), ('harsh', '2'), ('horrid', '3')]\n",
      "[('awful', '1'), ('difficult', '1'), ('gloomy', '1'), ('harsh', '2'), ('severe', '2')]\n",
      "[('gloomy', '1'), ('serious', '1'), ('harsh', '2'), ('stern', '2'), ('severe', '3')]\n",
      "[('dark', '1'), ('gloomy', '1'), ('depressing', '2'), ('bleak', '3'), ('dire', '3')]\n",
      "[('fair', '1'), ('good', '1'), ('reliable', '2'), ('sensible', '3')]\n",
      "[('measured', '1'), ('rational', '1'), ('reliable', '1'), ('sensible', '2'), ('well-judged', '2')]\n",
      "[('fair', '1'), ('just', '1'), ('appropriate', '2'), ('acceptable', '3'), ('sensible', '3')]\n",
      "[('enough', '1'), ('fair', '1'), ('adequate', '3'), ('sufficient', '3')]\n",
      "[('fair', '1'), ('good', '1'), ('likely', '1'), ('acceptable', '3'), ('sufficient', '3')]\n",
      "[('so', '1'), ('there', '1'), ('consequently', '2'), ('therefore', '3')]\n",
      "[('citizen', '1'), ('private', '1'), ('civic', '2'), ('noncriminal', '2')]\n",
      "[('elected', '1'), ('public', '1'), ('civic', '2'), ('state', '2')]\n",
      "[('internal', '1'), (\"people\\\\'s\", '1'), ('domestic', '2')]\n",
      "[('polite', '1'), ('public', '1'), ('general', '2'), ('civic', '3'), ('nongovernmental', '3')]\n",
      "[('citizen', '1'), ('personal', '1'), (\"citizens\\\\'\", '2'), ('civic', '2'), ('individual', '2')]\n",
      "[('friendly', '1'), ('polite', '1'), ('ordinary', '2'), ('public', '2'), ('cultured', '3')]\n",
      "[('courteous', '1'), ('polite', '1'), ('cordial', '2'), ('social', '2')]\n",
      "[('beats', '1'), ('beeps', '1'), ('sounds', '1'), ('emanations', '3')]\n",
      "[('heartbeat', '1'), ('heartrate', '1')]\n",
      "[('beat', '1'), ('rhythm', '1'), ('throb', '3'), ('throbbing', '4')]\n",
      "[('beats', '1'), ('rhythms', '1'), ('throbs', '3')]\n",
      "[('beats', '1'), ('vibrations', '1'), ('waves', '1'), ('throbs', '2')]\n",
      "[('gently', '2'), ('quietly', '2'), ('slightly', '3'), ('tenderly', '3'), ('subtly', '4')]\n",
      "[('gently', '2'), ('slightly', '2'), ('tenderly', '2'), ('quietly', '3'), ('subtly', '4')]\n",
      "[('carefully', '1'), ('gently', '1'), ('lightly', '2'), ('delicately', '3')]\n",
      "[('gently', '2'), ('quietly', '2'), ('faintly', '3')]\n",
      "[('evidently', '1'), ('seemingly', '1'), ('supposedly', '2')]\n",
      "[('evidently', '1'), ('seemingly', '1'), ('manifestly', '3')]\n",
      "[('before', '1'), ('sooner', '1'), ('beforehand', '3')]\n",
      "[('before', '1'), ('sooner', '1'), ('beforehand', '3')]\n",
      "[('before', '1'), ('sooner', '1')]\n",
      "[('beforehand', '2'), ('formerly', '2'), ('previously', '2')]\n",
      "[('completely', '1'), ('totally', '1'), ('wholly', '3')]\n",
      "[('liberated', '1'), ('progressive', '1')]\n",
      "[('abundant', '1'), ('free', '1'), ('ample', '2'), ('generous', '2'), ('plentiful', '2')]\n",
      "[('believably', '2'), ('conceivably', '2'), ('necessarily', '3'), ('potentially', '3'), ('reasonably', '4')]\n",
      "[('just', '1'), ('soon', '1'), ('quickly', '2'), ('briefly', '3'), ('immediately', '4')]\n",
      "[('quickly', '1'), ('soon', '1'), ('briefly', '3'), ('abruptly', '4'), ('curtly', '4')]\n",
      "[('just', '1'), ('little', '1'), ('soon', '1')]\n",
      "[('just', '1'), ('soon', '1')]\n",
      "[('accordingly', '2'), ('hence', '2'), ('thus', '2'), ('consequently', '3')]\n",
      "[('excellent', '1'), ('trusted', '1'), ('deserved', '2'), ('deserving', '2'), ('commendable', '3')]\n",
      "[('deserved', '1'), ('deserving', '1')]\n",
      "[('acceptable', '1'), ('fitting', '1'), ('deserved', '2'), ('deserving', '2'), ('admirable', '3')]\n",
      "[('excellent', '1'), ('good', '1'), ('worthwhile', '2'), ('deserved', '3'), ('admirable', '4')]\n",
      "[('collect', '1'), ('gain', '1'), ('gather', '1'), ('acquire', '2'), ('amass', '3')]\n",
      "[('bought', '1'), ('gained', '1'), ('purchased', '1'), ('obtained', '2'), ('procured', '4')]\n",
      "[('buy', '1'), ('get', '1'), ('gain', '2'), ('purchase', '2'), ('obtain', '3')]\n",
      "[('gain', '1'), ('receive', '1'), ('obtain', '2'), ('amass', '3')]\n",
      "[('gain', '1'), ('get', '1'), ('learn', '1'), ('obtain', '2'), ('secure', '2')]\n",
      "[('bought', '1'), ('gained', '1'), ('obtained', '2'), ('purchased', '2'), ('procured', '4')]\n",
      "[('buy', '1'), ('find', '1'), ('get', '1'), ('obtain', '2'), ('purchase', '2')]\n",
      "[('bought', '1'), ('purchased', '1'), ('obtained', '2'), ('procured', '4')]\n",
      "[('gain', '1'), ('get', '1'), ('obtain', '2')]\n",
      "[('serious', '1'), ('severe', '1'), ('sudden', '2'), ('urgent', '2')]\n",
      "[('serious', '1'), ('severe', '1'), ('critical', '2')]\n",
      "[('emergency', '1'), ('severe', '1'), ('urgent', '1'), ('critical', '2')]\n",
      "[('intense', '1'), ('serious', '1'), ('heightened', '2'), ('severe', '3')]\n",
      "[('serious', '1'), ('severe', '1')]\n",
      "[('band', '1'), ('trailer', '1'), ('vehicle', '1'), ('roadshow', '3'), ('company', '4')]\n",
      "[('camper', '1'), ('trailer', '1'), ('camping', '2')]\n",
      "[('camper', '1'), ('trailer', '1')]\n",
      "[('parties', '1'), ('trains', '1'), ('travels', '1'), ('companies', '2'), ('convoys', '4')]\n",
      "[('trailer', '1'), ('troop', '1'), ('company', '2'), ('convoy', '3')]\n",
      "[('camper', '1'), ('trailer', '1')]\n",
      "[('carefully', '1'), ('together', '1'), ('jointly', '2'), ('alongside', '3')]\n",
      "[('dropped', '1'), ('fell', '1'), ('decreased', '2'), ('rejected', '2'), ('lessened', '3')]\n",
      "[('dropped', '1'), ('fell', '1'), ('decreased', '2')]\n",
      "[('drop', '1'), ('fall', '1'), ('decrease', '3'), ('deteriorate', '4')]\n",
      "[('drop', '1'), ('fall', '1'), ('decrease', '2'), ('deteriorate', '4')]\n",
      "[('dropped', '1'), ('fell', '1'), ('decreased', '2')]\n",
      "[('drops', '1'), ('falls', '1'), ('decreases', '3')]\n",
      "[('dropped', '1'), ('fallen', '1'), ('decreased', '2')]\n",
      "[('bear', '2'), ('suffer', '2'), ('tolerate', '2')]\n",
      "[('continue', '1'), ('last', '1')]\n",
      "[('bear', '1'), ('suffer', '1'), ('undergo', '1'), ('tolerate', '2')]\n",
      "[('continued', '1'), ('lasted', '1'), ('persisted', '2')]\n",
      "[('experienced', '1'), ('suffered', '1'), ('underwent', '1')]\n",
      "[('borne', '1'), ('suffered', '1'), ('tolerated', '1')]\n",
      "[('additional', '2'), ('expanded', '2'), ('wide', '2'), ('broad', '3')]\n",
      "[('increaseed', '1'), ('longed', '1'), ('exteneded', '2'), ('elongated', '3'), ('enlarged', '3')]\n",
      "[('lengthy', '1'), ('long', '1'), ('protracted', '2'), ('prolonged', '3')]\n",
      "[('lengthy', '2'), ('long', '2'), ('prolonged', '2'), ('protracted', '3')]\n",
      "[('outer', '1'), ('outside', '1'), ('exterior', '2')]\n",
      "[('basic', '1'), ('essential', '1'), ('radical', '2'), ('elemental', '3'), ('intrinsic', '4')]\n",
      "[('basic', '1'), ('primary', '1'), ('essential', '2'), ('significant', '2'), ('elemental', '3')]\n",
      "[('basic', '1'), ('necessary', '1'), ('essential', '2'), ('elemental', '3'), ('foundational', '3')]\n",
      "[('casual', '1'), ('relaxed', '1'), ('unofficial', '1')]\n",
      "[('casual', '1'), ('relaxed', '1'), ('unofficial', '1')]\n",
      "[('everyday', '1'), ('unofficial', '1'), ('ordinary', '2'), ('relaxed', '2')]\n",
      "[('casual', '1'), ('relaxed', '1'), ('unofficial', '1')]\n",
      "[('casual', '1'), ('friendly', '1'), ('relaxed', '1')]\n",
      "[('casual', '1'), ('friendly', '1'), ('relaxed', '2'), ('spontaneous', '2')]\n",
      "[('everyday', '1'), ('unofficial', '1'), ('casual', '2')]\n",
      "[('easygoing', '1'), ('unofficial', '1'), ('casual', '2')]\n",
      "[('experiments', '1'), ('researches', '1'), ('inquiries', '3')]\n",
      "[('experiments', '1'), ('researches', '1'), ('inquiries', '3')]\n",
      "[('detectives', '2'), ('examines', '2'), ('researches', '2')]\n",
      "[('aim', '1'), ('purpose', '1'), ('task', '1'), ('objective', '3'), ('assignment', '4')]\n",
      "[('operation', '2'), ('outreach', '2'), ('ministering', '3'), ('evangelical', '4')]\n",
      "[('operation', '2'), ('outreach', '2'), ('evangelical', '3')]\n",
      "[('duty', '1'), ('project', '1'), ('quest', '1'), ('calling', '2'), ('purpose', '3')]\n",
      "[('projects', '1'), ('tasks', '1'), ('assignments', '2'), ('operations', '2')]\n",
      "[('aims', '1'), ('tasks', '1'), ('operations', '2'), ('projects', '2'), ('assignments', '3')]\n",
      "[('deep', '1'), ('wise', '1'), ('insightful', '2'), ('discerning', '4'), ('sagacious', '5')]\n",
      "[('great', '1'), ('huge', '1'), ('deep', '2')]\n",
      "[('deep', '1'), ('thorough', '1')]\n",
      "[('important', '1'), ('leading', '1')]\n",
      "[('important', '1'), ('leading', '1'), ('eminent', '3')]\n",
      "[('important', '1'), ('leading', '1'), ('significant', '2'), ('foremost', '3'), ('conspicuous', '4')]\n",
      "[('famous', '1'), ('leading', '1'), ('renowned', '3')]\n",
      "[('important', '1'), ('major', '1'), ('notable', '2'), ('foremost', '3'), ('conspicuous', '4')]\n",
      "[('obvious', '1'), ('visible', '1'), ('conspicuous', '2')]\n",
      "[('notable', '1'), ('noticeable', '1'), ('obvious', '1'), ('conspicuous', '3'), ('salient', '3')]\n",
      "[('noticeable', '1'), ('obvious', '1'), ('conspicuous', '2'), ('prevalent', '2'), ('pronounced', '2')]\n",
      "[('left', '1'), ('made', '1'), ('portrayed', '2')]\n",
      "[('leaving', '1'), ('making', '1'), ('converting', '2')]\n",
      "[('display', '1'), ('submit', '1'), ('portray', '2'), ('represent', '3')]\n",
      "[('act', '1'), ('part', '1'), ('setting', '2'), ('sequence', '3')]\n",
      "[('business', '1'), ('field', '1'), ('community', '2'), ('environment', '3'), ('sphere', '3')]\n",
      "[('areas', '1'), ('pictures', '1'), ('sets', '2'), ('sights', '3'), ('sequences', '4')]\n",
      "[('believe', '1'), ('guess', '1'), ('think', '1'), ('assume', '2'), ('expect', '2')]\n",
      "[('believe', '1'), ('guess', '1'), ('think', '1'), ('imagine', '2'), ('postulate', '3')]\n",
      "[('believe', '1'), ('feel', '1'), ('think', '1'), ('reckon', '2')]\n",
      "[('believe', '1'), ('think', '1'), ('imagine', '2'), ('reckon', '2')]\n",
      "[('believe', '1'), ('think', '1'), ('reckon', '2'), ('surmise', '3')]\n",
      "[('believe', '1'), ('expect', '1'), ('imagine', '1'), ('reckon', '2')]\n",
      "[('gentle', '1'), ('sensitive', '1'), ('delicate', '2')]\n",
      "[('great', '1'), ('loving', '1'), ('soft', '1'), ('tender', '2'), ('fond', '3')]\n",
      "[('early', '1'), ('young', '1'), ('tender', '2'), ('immature', '3'), ('soft', '3')]\n",
      "[('great', '1'), ('huge', '1'), ('enormous', '2'), ('terrible', '2')]\n",
      "[('great', '1'), ('huge', '1'), ('terrific', '2'), ('enormous', '3')]\n",
      "[('great', '1'), ('huge', '1'), ('terrific', '2'), ('vast', '2'), ('wonderful', '2')]\n",
      "[('great', '1'), ('huge', '1'), ('enormous', '2'), ('terrific', '2')]\n",
      "[('huge', '1'), ('terrific', '1'), ('enormous', '2'), ('vast', '2'), ('extraordinary', '3')]\n",
      "[('huge', '1'), ('vast', '1'), ('enormous', '2'), ('extraordinary', '3')]\n",
      "[('great', '1'), ('huge', '1'), ('wonderful', '1'), ('enormous', '2'), ('terrific', '2')]\n",
      "[('great', '1'), ('huge', '1'), ('enormous', '2'), ('extraordinary', '2')]\n",
      "[('critical', '2'), ('crucial', '2'), ('essential', '2'), ('indispensable', '3')]\n",
      "[('important', '1'), ('necessary', '1'), ('essential', '2'), ('crucial', '3'), ('requisite', '4')]\n",
      "[('death', '1'), ('killing', '1')]\n",
      "[('death', '1'), ('killing', '1')]\n",
      "[('death', '1'), ('killing', '1')]\n",
      "[('activities', '1'), ('tasks', '1'), ('features', '2'), ('operations', '3'), ('sequences', '3')]\n",
      "[('purpose', '1'), ('role', '1'), ('activity', '2'), ('operation', '4'), ('performance', '4')]\n",
      "BenchLS 929 174\n"
     ]
    }
   ],
   "source": [
    "\n",
    "data = load_data(Dataset.BenchLS, return_frequency=True)\n",
    "\n",
    "items = []\n",
    "for row in data.iloc:\n",
    "    candidates = row['candidates']\n",
    "    if len(candidates) > 1 and candidates[0][1] == candidates[1][1]:\n",
    "        print(candidates[:5])\n",
    "        items.append(items)\n",
    "print(Dataset.BenchLS, len(data), len(items)) "
   ]
  },
  {
   "cell_type": "markdown",
   "metadata": {},
   "source": [
    "# Database similarity check\n"
   ]
  },
  {
   "cell_type": "code",
   "execution_count": 43,
   "metadata": {},
   "outputs": [],
   "source": [
    "# memory = Memory(current_dir / 'cache', verbose=False)\n",
    "\n",
    "# @memory.cache()\n",
    "def sentence_similarity(sentence, sentences):\n",
    "    scores = []\n",
    "    for s in sentences:\n",
    "        score = Levenshtein.ratio(sentence, s)\n",
    "        scores.append((s, score))\n",
    "    scores = sorted(scores, key=lambda x: x[1], reverse=True)\n",
    "    return scores[0]\n",
    "\n",
    "def compare_two_datasets(dataset1, dataset2):\n",
    "    # use Levenshtein similarity to check\n",
    "    data1 = load_data(dataset1)\n",
    "    data2 = load_data(dataset2)\n",
    "    # benchls\n",
    "    sentences = [row['text'].lower() for row in data2.iloc]\n",
    "    similarity_scores = []\n",
    "    for i in tqdm(range(len(data1))):\n",
    "        row = data1.iloc[i]\n",
    "        sent = row['text'].lower()\n",
    "        scores = sentence_similarity(sent, sentences)\n",
    "        similarity_scores.append((sent, scores))    \n",
    "\n",
    "    similarity_scores = sorted(similarity_scores, key=lambda x: x[1][1], reverse=True)\n",
    "    nb_similar_sent = 0\n",
    "    for sent, scores in similarity_scores:\n",
    "        sent2, score = scores\n",
    "        if score > 0.9:\n",
    "            nb_similar_sent +=1\n",
    "        if score > 0.5:\n",
    "            print(f'\\n{sent}')\n",
    "            print(sent2, score)\n",
    "    print(f'Compare {dataset1} and {dataset2}')\n",
    "    print(f'Total Count of similar sentences: {nb_similar_sent}')\n"
   ]
  },
  {
   "cell_type": "markdown",
   "metadata": {},
   "source": [
    "## BenchLS and LexMTurk"
   ]
  },
  {
   "cell_type": "code",
   "execution_count": 44,
   "metadata": {},
   "outputs": [
    {
     "name": "stderr",
     "output_type": "stream",
     "text": [
      "100%|██████████| 929/929 [00:02<00:00, 329.47it/s]"
     ]
    },
    {
     "name": "stdout",
     "output_type": "stream",
     "text": [
      "\n",
      "much of the water carried by these streams is diverted .\n",
      "much of the water carried by these streams is diverted . 1.0\n",
      "\n",
      "harry also becomes the worthy possessor of the remaining deathly hallows : the invisibility cloak and the resurrection stone , hence becoming the true master of death .\n",
      "harry also becomes the worthy possessor of the remaining deathly hallows : the invisibility cloak and the resurrection stone , hence becoming the true master of death . 1.0\n",
      "\n",
      "escapologists escape from handcuffs , straitjackets , cages , coffins , steel boxes , barrels , bags , burning buildings , fish-tanks and other perils , often in combination .\n",
      "escapologists escape from handcuffs , straitjackets , cages , coffins , steel boxes , barrels , bags , burning buildings , fish-tanks and other perils , often in combination . 1.0\n",
      "\n",
      "the storm continued , crossing the outer banks of north carolina , and retained its strength until june 20 when it became extratropical near newfoundland .\n",
      "the storm continued , crossing the outer banks of north carolina , and retained its strength until june 20 when it became extratropical near newfoundland . 1.0\n",
      "\n",
      "the convent has been the official residence of the governor of gibraltar since 1728 .\n",
      "the convent has been the official residence of the governor of gibraltar since 1728 . 1.0\n",
      "\n",
      "food is procured with its suckers and then crushed using its tough \" beak \" of chitin .\n",
      "food is procured with its suckers and then crushed using its tough \" beak \" of chitin . 1.0\n",
      "\n",
      "the united states convened a 13-nation conference of the international opium commission in 1909 in shanghai , china in response to increasing criticism of the opium trade .\n",
      "the united states convened a 13-nation conference of the international opium commission in 1909 in shanghai , china in response to increasing criticism of the opium trade . 1.0\n",
      "\n",
      "photosynthesis is vital for life on earth .\n",
      "photosynthesis is vital for life on earth . 1.0\n",
      "\n",
      "dodd simply retained his athletic director position , which he had acquired in 1950 .\n",
      "dodd simply retained his athletic director position , which he had acquired in 1950 . 1.0\n",
      "\n",
      "radiometric dating is a technique used to date materials , usually based on a comparison between the observed abundance of a naturally occurring radioactive isotope and its decay products , using known decay rates .\n",
      "radiometric dating is a technique used to date materials , usually based on a comparison between the observed abundance of a naturally occurring radioactive isotope and its decay products , using known decay rates . 1.0\n",
      "\n",
      "bacterial contaminants are ubiquitous , and foods left unused too long will often acquire substantial amounts of bacterial colonies and become dangerous to eat , leading to food poisoning .\n",
      "bacterial contaminants are ubiquitous , and foods left unused too long will often acquire substantial amounts of bacterial colonies and become dangerous to eat , leading to food poisoning . 1.0\n",
      "\n",
      "tibooburra has an arid , desert climate with temperatures soaring above 40 celsius in summer , often reaching as high as 47 c .\n",
      "tibooburra has an arid , desert climate with temperatures soaring above 40 celsius in summer , often reaching as high as 47 c . 1.0\n",
      "\n",
      "hanna meandered around the southeastern bahamas , weakening to a tropical storm while also dumping heavy rain on already-devastated haiti .\n",
      "hanna meandered around the southeastern bahamas , weakening to a tropical storm while also dumping heavy rain on already-devastated haiti . 1.0\n",
      "\n",
      "with the high gulf pressures - a ship reported a pressure of 1015.5 millibars less than 60 m from the storm center at the time it was upgraded to a tropical storm - alicia was unable to gain size , staying very small , but generated faster winds , and became a category 1 hurricane on august 16\n",
      "with the high gulf pressures - a ship reported a pressure of 1015.5 millibars less than 60 m from the storm center at the time it was upgraded to a tropical storm - alicia was unable to gain size , staying very small , but generated faster winds , and became a category 1 hurricane on august 16 1.0\n",
      "\n",
      "das rheingold is the first of the four operas that comprise der ring des nibelungen , by richard wagner .\n",
      "das rheingold is the first of the four operas that comprise der ring des nibelungen , by richard wagner . 1.0\n",
      "\n",
      "a frenulum is a small fold of tissue that secures or restricts the motion of a mobile organ in the body .\n",
      "a frenulum is a small fold of tissue that secures or restricts the motion of a mobile organ in the body . 1.0\n",
      "\n",
      "helen hunt has been recognized extensively in her career . in 1998 she become the second actress to win a golden globe award , an academy award and an emmy award in the same year .\n",
      "helen hunt has been recognized extensively in her career . in 1998 she become the second actress to win a golden globe award , an academy award and an emmy award in the same year . 1.0\n",
      "\n",
      "when wotan refuses to abandon his \" free hero \" , fricka lays bare his self-deception : siegmund is in no sense independent since his fate has been pre-ordained by wotan , who has even indirectly led him to find the magic sword .\n",
      "when wotan refuses to abandon his \" free hero \" , fricka lays bare his self-deception : siegmund is in no sense independent since his fate has been pre-ordained by wotan , who has even indirectly led him to find the magic sword . 1.0\n",
      "\n",
      "the storm never approached land during its lifespan , and no damage or casualties were reported .\n",
      "the storm never approached land during its lifespan , and no damage or casualties were reported . 1.0\n",
      "\n",
      "the purpose of public speaking can range from simply transmitting information , to motivating people to act , to simply telling a story .\n",
      "the purpose of public speaking can range from simply transmitting information , to motivating people to act , to simply telling a story . 1.0\n",
      "\n",
      "published by tor books , it was released on august 15 , 1994 in hardcover , and in paperback on july 15 , 1997 .\n",
      "published by tor books , it was released on august 15 , 1994 in hardcover , and in paperback on july 15 , 1997 . 1.0\n",
      "\n",
      "in many circumstances , these investments can be less expensive than fossil fuel energy systems .\n",
      "in many circumstances , these investments can be less expensive than fossil fuel energy systems . 1.0\n",
      "\n",
      "following the death of schidlof from a heart attack in 1987 , the amadeus quartet disbanded .\n",
      "following the death of schidlof from a heart attack in 1987 , the amadeus quartet disbanded . 1.0\n",
      "\n",
      "by 1960 he had developed the short story into a screenplay , and envisaged it as containing a suitable role for monroe .\n",
      "by 1960 he had developed the short story into a screenplay , and envisaged it as containing a suitable role for monroe . 1.0\n",
      "\n",
      "with poor sales of the a340-200 , airbus decided to use the fuselage of the a340-200 with the wings and engines of the a330-300 .\n",
      "with poor sales of the a340-200 , airbus decided to use the fuselage of the a340-200 with the wings and engines of the a330-300 . 1.0\n",
      "\n",
      "the last event was held on june 11 , 2000 , not to be held again due to the acquisition of wcw by world wrestling federation .\n",
      "the last event was held on june 11 , 2000 , not to be held again due to the acquisition of wcw by world wrestling federation . 1.0\n",
      "\n",
      "kowal suggested the name and the iau endorsed it in 1975 .\n",
      "kowal suggested the name and the iau endorsed it in 1975 . 1.0\n",
      "\n",
      "dry air wrapping around the southern periphery of the cyclone eroded most of the deep convection by early on september 12 .\n",
      "dry air wrapping around the southern periphery of the cyclone eroded most of the deep convection by early on september 12 . 1.0\n",
      "\n",
      "brief additional internal links are generally tolerated when used to facilitate communication or to provide general information , but undesirable if seen as canvassing for some purpose .\n",
      "brief additional internal links are generally tolerated when used to facilitate communication or to provide general information , but undesirable if seen as canvassing for some purpose . 1.0\n",
      "\n",
      "alfonso drops the marriage contract in front of the officers , and , when they read it , they become enraged .\n",
      "alfonso drops the marriage contract in front of the officers , and , when they read it , they become enraged . 1.0\n",
      "\n",
      "the overland expedition , also called the overland relief expedition or point barrow-overland relief expedition , was an expedition in the winter of 1897-1898 by officers of the united states revenue cutter service to save the lives of 265 whalers trapped in the arctic ocean by ice around their ships near point barrow , alaska .\n",
      "the overland expedition , also called the overland relief expedition or point barrow-overland relief expedition , was an expedition in the winter of 1897-1898 by officers of the united states revenue cutter service to save the lives of 265 whalers trapped in the arctic ocean by ice around their ships near point barrow , alaska . 1.0\n",
      "\n",
      "located on the river pedieos and situated almost in the center of the island , it is the seat of government as well as the main business center .\n",
      "located on the river pedieos and situated almost in the center of the island , it is the seat of government as well as the main business center . 1.0\n",
      "\n",
      "iero thought that it would be difficult to promote the album himself , if released through his own label , with his current obligations to my chemical romance and the other bands signed to his label .\n",
      "iero thought that it would be difficult to promote the album himself , if released through his own label , with his current obligations to my chemical romance and the other bands signed to his label . 1.0\n",
      "\n",
      "it has now been determined that europa is a prograde rotator , but the exact direction in which its pole points remains ambiguous .\n",
      "it has now been determined that europa is a prograde rotator , but the exact direction in which its pole points remains ambiguous . 1.0\n",
      "\n",
      "the bishops ceded the oversticht to the emperor charles v in 1528 , who styled himself \" lord of overijssel \" , thereby giving the province its modern name .\n",
      "the bishops ceded the oversticht to the emperor charles v in 1528 , who styled himself \" lord of overijssel \" , thereby giving the province its modern name . 1.0\n",
      "\n",
      "many parts of odessa were damaged during its siege and recapture on 10 april 1944 , when the city was finally liberated by the red army .\n",
      "many parts of odessa were damaged during its siege and recapture on 10 april 1944 , when the city was finally liberated by the red army . 1.0\n",
      "\n",
      "the city was first founded by the british in 1827 , who leased the island from spain during the colonial period .\n",
      "the city was first founded by the british in 1827 , who leased the island from spain during the colonial period . 1.0\n",
      "\n",
      "in reference to the landscape , bush describes a wooded area , intermediate between a shrubland and a forest , generally of dry and nitrogen-poor soil , mostly grassless , thin to thick woody shrubs and bushes , under a sparse canapy of eucalypts .\n",
      "in reference to the landscape , bush describes a wooded area , intermediate between a shrubland and a forest , generally of dry and nitrogen-poor soil , mostly grassless , thin to thick woody shrubs and bushes , under a sparse canapy of eucalypts . 1.0\n",
      "\n",
      "the theory of incentive compatibility that hurwicz developed changed the way many economists thought about outcomes , explaining why centrally planned economies may fail and how incentives for individuals make a difference in decision making .\n",
      "the theory of incentive compatibility that hurwicz developed changed the way many economists thought about outcomes , explaining why centrally planned economies may fail and how incentives for individuals make a difference in decision making . 1.0\n",
      "\n",
      "the axe , or ax , is an implement that has been used for millennia to shape , split and cut wood , harvest timber , as a weapon and a ceremonial or heraldic symbol . the axe has many forms and specialized uses but generally consists of an axe head with a handle , or helve .\n",
      "the axe , or ax , is an implement that has been used for millennia to shape , split and cut wood , harvest timber , as a weapon and a ceremonial or heraldic symbol . the axe has many forms and specialized uses but generally consists of an axe head with a handle , or helve . 1.0\n",
      "\n",
      "but critics note that francis galton did not advocate coercion when he defined the principles of eugenics .\n",
      "but critics note that francis galton did not advocate coercion when he defined the principles of eugenics . 1.0\n",
      "\n",
      "after its sale in 1998 , it merged into festival mushroom records .\n",
      "after its sale in 1998 , it merged into festival mushroom records . 1.0\n",
      "\n",
      "cobra and tango and cash did solid business domestically but overseas they did blockbuster business grossing over $ 100 million in foreign markets and over $ 160 million worldwide .\n",
      "cobra and tango and cash did solid business domestically but overseas they did blockbuster business grossing over $ 100 million in foreign markets and over $ 160 million worldwide . 1.0\n",
      "\n",
      "triangles can also be classified according to their internal angles , measured here in degrees .\n",
      "triangles can also be classified according to their internal angles , measured here in degrees . 1.0\n",
      "\n",
      "later describing the experience as a \" nightmare , \" she was able to phone joe dimaggio from the clinic , who immediately traveled from florida to new york to facilitate her transfer to the columbia presbyterian medical center , where she remained for three weeks .\n",
      "later describing the experience as a \" nightmare , \" she was able to phone joe dimaggio from the clinic , who immediately traveled from florida to new york to facilitate her transfer to the columbia presbyterian medical center , where she remained for three weeks . 1.0\n",
      "\n",
      "the pennines constitute the main watershed in northern england , dividing the eastern and western parts of the country .\n",
      "the pennines constitute the main watershed in northern england , dividing the eastern and western parts of the country . 1.0\n",
      "\n",
      "they locate food by smell , using sensors in the tip of their snout , and regularly feast on ants and termites .\n",
      "they locate food by smell , using sensors in the tip of their snout , and regularly feast on ants and termites . 1.0\n",
      "\n",
      "at present it is formed by the aa , which descends from the rigi and enters the southern extremity of the lake .\n",
      "at present it is formed by the aa , which descends from the rigi and enters the southern extremity of the lake . 1.0\n",
      "\n",
      "specialized english operates in the civil society sector , and the developers aspire to make programs for a variety of public service purposes , subject to resources being available .\n",
      "specialized english operates in the civil society sector , and the developers aspire to make programs for a variety of public service purposes , subject to resources being available . 1.0\n",
      "\n",
      "in this case , a relatively large kernel with sophisticated capabilities is adapted to suit an embedded environment .\n",
      "in this case , a relatively large kernel with sophisticated capabilities is adapted to suit an embedded environment . 1.0\n",
      "\n",
      "this period spanned the years from 1278 through 1288 .\n",
      "this period spanned the years from 1278 through 1288 . 1.0\n",
      "\n",
      "realising that the gang could not elude the police forever , moondyne joe formulated a plan to escape the colony by traveling overland to the colony of south australia .\n",
      "realising that the gang could not elude the police forever , moondyne joe formulated a plan to escape the colony by traveling overland to the colony of south australia . 1.0\n",
      "\n",
      "southeastern oklahoma , also known by its official tourism designation , kiamichi country , encompasses the southeastern quarter of the state of oklahoma .\n",
      "southeastern oklahoma , also known by its official tourism designation , kiamichi country , encompasses the southeastern quarter of the state of oklahoma . 1.0\n",
      "\n",
      "the a-train family comprises trains for both commuter services and limited express services .\n",
      "the a-train family comprises trains for both commuter services and limited express services . 1.0\n",
      "\n",
      "in dna , adenine binds to thymine via two hydrogen bonds to assist in stabilizing the nucleic acid structures .\n",
      "in dna , adenine binds to thymine via two hydrogen bonds to assist in stabilizing the nucleic acid structures . 1.0\n",
      "\n",
      "in 2001 , unesco inscribed the 2,750-year-old city on the world heritage list as samarkand - crossroads of cultures .\n",
      "in 2001 , unesco inscribed the 2,750-year-old city on the world heritage list as samarkand - crossroads of cultures . 1.0\n",
      "\n",
      "radames affirms that aida is the person he will marry , and aida convinces him to flee to the desert with her .\n",
      "radames affirms that aida is the person he will marry , and aida convinces him to flee to the desert with her . 1.0\n",
      "\n",
      "like many bolshevik artists , eisenstein envisioned a new society which would subsidize artists totally , freeing them from the confines of bosses and budgets , leaving them absolutely free to create , but budgets and producers were as significant to the soviet film industry as the rest of the world .\n",
      "like many bolshevik artists , eisenstein envisioned a new society which would subsidize artists totally , freeing them from the confines of bosses and budgets , leaving them absolutely free to create , but budgets and producers were as significant to the soviet film industry as the rest of the world . 1.0\n",
      "\n",
      "forming in the western caribbean sea during the first week of november , hurricane gordon became the twelfth tropical depression , the seventh named tropical storm , and the third hurricane of the 1994 atlantic hurricane season . an erratic , long-lived system which remained a tropical storm for most of its existence , it followed a winding path through the western caribbean and into florida before strengthening into a category 1 hurricane and threatening north carolina .\n",
      "forming in the western caribbean sea during the first week of november , hurricane gordon became the twelfth tropical depression , the seventh named tropical storm , and the third hurricane of the 1994 atlantic hurricane season . an erratic , long-lived system which remained a tropical storm for most of its existence , it followed a winding path through the western caribbean and into florida before strengthening into a category 1 hurricane and threatening north carolina . 1.0\n",
      "\n",
      "the latter means basic or radical change ; whereas reform may be no more than fine tuning , or at most redressing serious wrongs without altering the fundamentals of the system .\n",
      "the latter means basic or radical change ; whereas reform may be no more than fine tuning , or at most redressing serious wrongs without altering the fundamentals of the system . 1.0\n",
      "\n",
      "the kyoto protocol was adopted at the third session of the conference of parties to the unfccc in 1997 in kyoto , japan .\n",
      "the kyoto protocol was adopted at the third session of the conference of parties to the unfccc in 1997 in kyoto , japan . 1.0\n",
      "\n",
      "from 1885 to 1901 , locomotives stopped at young tank to replenish their water .\n",
      "from 1885 to 1901 , locomotives stopped at young tank to replenish their water . 1.0\n",
      "\n",
      "stone floor tiles tend to be heavier than ceramic tiles and somewhat more prone to breakage during shipment .\n",
      "stone floor tiles tend to be heavier than ceramic tiles and somewhat more prone to breakage during shipment . 1.0\n",
      "\n",
      "to enjoy qin songs , one must learn to become accustomed to the eccentric style some players may sing their songs to , like in the case of zha fuxi .\n",
      "to enjoy qin songs , one must learn to become accustomed to the eccentric style some players may sing their songs to , like in the case of zha fuxi . 1.0\n",
      "\n",
      "a voluntary association or union is a group of individuals who voluntarily enter into an agreement to form a body to accomplish a purpose .\n",
      "a voluntary association or union is a group of individuals who voluntarily enter into an agreement to form a body to accomplish a purpose . 1.0\n",
      "\n",
      "it is the teaching that , as a consequence of the fall of man , every person born into the world is enslaved to the service of sin and , apart from the efficacious or prevenient grace of god , is utterly unable to choose to follow god or choose to accept salvation as it is freely offered .\n",
      "it is the teaching that , as a consequence of the fall of man , every person born into the world is enslaved to the service of sin and , apart from the efficacious or prevenient grace of god , is utterly unable to choose to follow god or choose to accept salvation as it is freely offered . 1.0\n",
      "\n",
      "he was kidnapped and held by the notorious pirate peter easton in harbour grace .\n",
      "he was kidnapped and held by the notorious pirate peter easton in harbour grace . 1.0\n",
      "\n",
      "as a result of this acquisition and the legal dispute with hearst corporation , mandrakesoft announced that the new company name would be mandriva , and that mandriva linux would be the new name covering products .\n",
      "as a result of this acquisition and the legal dispute with hearst corporation , mandrakesoft announced that the new company name would be mandriva , and that mandriva linux would be the new name covering products . 1.0\n",
      "\n",
      "despite almost daily reports of missing property , he was able to evade capture until 15 february , when a man named wimbow , who had been pursuing him with a partner for days , found him in an area of thick brush called liberty plains and shot him .\n",
      "despite almost daily reports of missing property , he was able to evade capture until 15 february , when a man named wimbow , who had been pursuing him with a partner for days , found him in an area of thick brush called liberty plains and shot him . 1.0\n",
      "\n",
      "he was born at plessiel , a hamlet of drucat near abbeville , to a long-established family of picardy , the great-nephew of the painter eustache le sueur .\n",
      "he was born at plessiel , a hamlet of drucat near abbeville , to a long-established family of picardy , the great-nephew of the painter eustache le sueur . 1.0\n",
      "\n",
      "the man in the high castle occurs in an alternate universe united states ruled by the victorious axis powers .\n",
      "the man in the high castle occurs in an alternate universe united states ruled by the victorious axis powers . 1.0\n",
      "\n",
      "their quick acceleration makes them suitable for services with short intervals between stations .\n",
      "their quick acceleration makes them suitable for services with short intervals between stations . 1.0\n",
      "\n",
      "aung san suu kyi returned to burma in 1988 to take care of her ailing mother .\n",
      "aung san suu kyi returned to burma in 1988 to take care of her ailing mother . 1.0\n",
      "\n",
      "progress in developing the tar was hindered by political and economic obstacles throughout the 1960s , 1970s and early 1980s .\n",
      "progress in developing the tar was hindered by political and economic obstacles throughout the 1960s , 1970s and early 1980s . 1.0\n",
      "\n",
      "in 1832 his family emigrated thence to belleville , ontario , where he apprenticed with the printer at the town newspaper , the belleville intelligencer .\n",
      "in 1832 his family emigrated thence to belleville , ontario , where he apprenticed with the printer at the town newspaper , the belleville intelligencer . 1.0\n",
      "\n",
      "ohio state also announced in 2006 , that it would be designating at least $ 110 million of its research efforts to what it termed \" fundamental concerns \" such as research towards a cure for cancer , renewable energy sources and sustainable drinking water supplies .\n",
      "ohio state also announced in 2006 , that it would be designating at least $ 110 million of its research efforts to what it termed \" fundamental concerns \" such as research towards a cure for cancer , renewable energy sources and sustainable drinking water supplies . 1.0\n",
      "\n",
      "long ago , there was a decision by the late former prime minister , rafik hariri , to restore the synagogue and surround it with a garden .\n",
      "long ago , there was a decision by the late former prime minister , rafik hariri , to restore the synagogue and surround it with a garden . 1.0\n",
      "\n",
      "port arthur was also the destination for juvenile convicts , receiving many boys , some as young as nine arrested for stealing toys .\n",
      "port arthur was also the destination for juvenile convicts , receiving many boys , some as young as nine arrested for stealing toys . 1.0\n",
      "\n",
      "notrium is played from a top-down perspective , giving an overhead view of proceedings .\n",
      "notrium is played from a top-down perspective , giving an overhead view of proceedings . 1.0\n",
      "\n",
      "the international re-formed in 1923 , and was reconstituted again , in its present form , after world war ii .\n",
      "the international re-formed in 1923 , and was reconstituted again , in its present form , after world war ii . 1.0\n",
      "\n",
      "the amazon basin is the part of south america drained by the amazon river and its tributaries .\n",
      "the amazon basin is the part of south america drained by the amazon river and its tributaries . 1.0\n",
      "\n",
      "the sunnah is seen as crucial to guiding interpretation of the qur ' an .\n",
      "the sunnah is seen as crucial to guiding interpretation of the qur ' an . 1.0\n",
      "\n",
      "the avesta is the primary collection of sacred texts of zoroastrianism , composed in the avestan language .\n",
      "the avesta is the primary collection of sacred texts of zoroastrianism , composed in the avestan language . 1.0\n",
      "\n",
      "typically , the biggest difference between film and stage musicals is the use of lavish background scenery which would be impractical in a theater .\n",
      "typically , the biggest difference between film and stage musicals is the use of lavish background scenery which would be impractical in a theater . 1.0\n",
      "\n",
      "following the hassles ' demise in 1969 , he formed the duo attila with hassles drummer jon small .\n",
      "following the hassles ' demise in 1969 , he formed the duo attila with hassles drummer jon small . 1.0\n",
      "\n",
      "there they signed a collective protest , and vowed their newspapers would continue to run .\n",
      "there they signed a collective protest , and vowed their newspapers would continue to run . 1.0\n",
      "\n",
      "the first amniotes , such as casineria , resembled small lizards and evolved from amphibian reptiliomorphs about 340 million years ago .\n",
      "the first amniotes , such as casineria , resembled small lizards and evolved from amphibian reptiliomorphs about 340 million years ago . 1.0\n",
      "\n",
      "in 1999 , a world tamil confederation was established to protect and foster tamil culture and further a sense of togetherness amongst tamils in different countries .\n",
      "in 1999 , a world tamil confederation was established to protect and foster tamil culture and further a sense of togetherness amongst tamils in different countries . 1.0\n",
      "\n",
      "historically , in the warm mediterranean and middle eastern climates , the courtyard served to accommodate the large number of worshippers during friday prayers .\n",
      "historically , in the warm mediterranean and middle eastern climates , the courtyard served to accommodate the large number of worshippers during friday prayers . 1.0\n",
      "\n",
      "john mccain polled 62.5 % in the 2008 presidential election while 70.9 % of utahns opted for george w. bush in 2004 .\n",
      "john mccain polled 62.5 % in the 2008 presidential election while 70.9 % of utahns opted for george w. bush in 2004 . 1.0\n",
      "\n",
      "throughout most of the film , his only true friend , aside from his mother , is the mouse , timothy - a relationship parodying the stereotypical animosity between mice and elephants .\n",
      "throughout most of the film , his only true friend , aside from his mother , is the mouse , timothy - a relationship parodying the stereotypical animosity between mice and elephants . 1.0\n",
      "\n",
      "the band is known for its large line-up , which consists of nine members ; including a vocalist , two guitarists , a bassist , two percussionists in addition to a primary drummer , a sampler , and a turntablist .\n",
      "the band is known for its large line-up , which consists of nine members ; including a vocalist , two guitarists , a bassist , two percussionists in addition to a primary drummer , a sampler , and a turntablist . 1.0\n",
      "\n",
      "digital signatures are equivalent to traditional handwritten signatures in many respects ; properly implemented digital signatures are more difficult to forge than the handwritten type .\n",
      "digital signatures are equivalent to traditional handwritten signatures in many respects ; properly implemented digital signatures are more difficult to forge than the handwritten type . 1.0\n",
      "\n",
      "his linguistic capacity , thoughts and speeches correspond to those of modern man , including a vast knowledge about history , politics , philosophy and literature .\n",
      "his linguistic capacity , thoughts and speeches correspond to those of modern man , including a vast knowledge about history , politics , philosophy and literature . 1.0\n",
      "\n",
      "recent archaeological evidence may indicate an edomite nation as long ago as the 11th century bc , but the topic is controversial and others argue that the 8th or 9th century dates are correct .\n",
      "recent archaeological evidence may indicate an edomite nation as long ago as the 11th century bc , but the topic is controversial and others argue that the 8th or 9th century dates are correct . 1.0\n",
      "\n",
      "triton was revealed to have remarkable active geysers and polar caps .\n",
      "triton was revealed to have remarkable active geysers and polar caps . 1.0\n",
      "\n",
      "polar bear fur consists of a layer of dense underfur and an outer layer of guard hairs , which appear white to tan but are actually transparent .\n",
      "polar bear fur consists of a layer of dense underfur and an outer layer of guard hairs , which appear white to tan but are actually transparent . 1.0\n",
      "\n",
      "the most common reason for erecting a khachkar was for votive reasons - for the salvation of the soul of either a living or a deceased person .\n",
      "the most common reason for erecting a khachkar was for votive reasons - for the salvation of the soul of either a living or a deceased person . 1.0\n",
      "\n",
      "scene 2 : the doctor rushes by the captain in the street , who urges him to slow down .\n",
      "scene 2 : the doctor rushes by the captain in the street , who urges him to slow down . 1.0\n",
      "\n",
      "warner also set a super bowl record by attempting 45 passes without a single interception .\n",
      "warner also set a super bowl record by attempting 45 passes without a single interception . 1.0\n",
      "\n",
      "a carotenoid dye , crocin , allows saffron to impart a rich golden-yellow hue to dishes and textiles . saffron has further medicinal applications .\n",
      "a carotenoid dye , crocin , allows saffron to impart a rich golden-yellow hue to dishes and textiles . saffron has further medicinal applications . 1.0\n",
      "\n",
      "the revival of lute in the 20th century revitalized the interest of composers in the instruments of the lute family .\n",
      "the revival of lute in the 20th century revitalized the interest of composers in the instruments of the lute family . 1.0\n",
      "\n",
      "lancelot de carles called her \" beautiful with an elegant figure \" , and a venetian in paris in 1528 also reported that she was said to be beautiful .\n",
      "lancelot de carles called her \" beautiful with an elegant figure \" , and a venetian in paris in 1528 also reported that she was said to be beautiful . 1.0\n",
      "\n",
      "in 2005 , benson collaborated with artist jamie mckelvie on a short story within the image comics collection four letter worlds .\n",
      "in 2005 , benson collaborated with artist jamie mckelvie on a short story within the image comics collection four letter worlds . 1.0\n",
      "\n",
      "beaurieux is a commune in the department of aisne in picardy in northern france .\n",
      "beaurieux is a commune in the department of aisne in picardy in northern france . 1.0\n",
      "\n",
      "he is notable as a performer of australian traditional folk songs in an authentic style .\n",
      "he is notable as a performer of australian traditional folk songs in an authentic style . 1.0\n",
      "\n",
      "fired by enthusiasm , tolstoy returned to yasnaya polyana and founded thirteen schools for his serfs ' children , based on ground-breaking libertarian principles tolstoy described in his 1862 essay \" the school at yasnaya polyana \" .\n",
      "fired by enthusiasm , tolstoy returned to yasnaya polyana and founded thirteen schools for his serfs ' children , based on ground-breaking libertarian principles tolstoy described in his 1862 essay \" the school at yasnaya polyana \" . 1.0\n",
      "\n",
      "companies may also take out strike insurance prior to an anticipated strike , to help offset the losses which the strike would cause .\n",
      "companies may also take out strike insurance prior to an anticipated strike , to help offset the losses which the strike would cause . 1.0\n",
      "\n",
      "in 2006 , nippon ichi released a sequel called for the playstation 2 , as well as a 12 episode long anime titled makai senki disgaea .\n",
      "in 2006 , nippon ichi released a sequel called for the playstation 2 , as well as a 12 episode long anime titled makai senki disgaea . 1.0\n",
      "\n",
      "the false gharial , also known as the malayan gharial , false gavial , or tomistoma is a fresh-water reptile resembling a crocodile with a very thin and elongated snout , which is thicker than the gharial .\n",
      "the false gharial , also known as the malayan gharial , false gavial , or tomistoma is a fresh-water reptile resembling a crocodile with a very thin and elongated snout , which is thicker than the gharial . 1.0\n",
      "\n",
      "he held several senior positions in the royal flying corps during world war i , serving as the commander of royal flying corps in france from 1915 to 1917 .\n",
      "he held several senior positions in the royal flying corps during world war i , serving as the commander of royal flying corps in france from 1915 to 1917 . 1.0\n",
      "\n",
      "fernando navarro i corbacho is a spanish footballer who currently plays for sevilla fc , as a left defender .\n",
      "fernando navarro i corbacho is a spanish footballer who currently plays for sevilla fc , as a left defender . 1.0\n",
      "\n",
      "throughout recorded history , several cosmologies and cosmogonies have been proposed to account for observations of the universe .\n",
      "throughout recorded history , several cosmologies and cosmogonies have been proposed to account for observations of the universe . 1.0\n",
      "\n",
      "the term is also at times used as a derogatory term for films or sequels of films that are of inferior quality , or are not expected to find financial success .\n",
      "the term is also at times used as a derogatory term for films or sequels of films that are of inferior quality , or are not expected to find financial success . 1.0\n",
      "\n",
      "the hush sound is currently on hiatus .\n",
      "the hush sound is currently on hiatus . 1.0\n",
      "\n",
      "mainstream music denotes music that is familiar and unthreatening to the masses , as for example popular music , pop music , middle of the road music , pop rap or soft rock ; mainstream jazz is generally seen as an evolution of be-bop , which was originally regarded as radical .\n",
      "mainstream music denotes music that is familiar and unthreatening to the masses , as for example popular music , pop music , middle of the road music , pop rap or soft rock ; mainstream jazz is generally seen as an evolution of be-bop , which was originally regarded as radical . 1.0\n",
      "\n",
      "edwards attended west buckland school where his potential for the triple jump was spotted at an early age .\n",
      "edwards attended west buckland school where his potential for the triple jump was spotted at an early age . 1.0\n",
      "\n",
      "inheriting a collapsing empire and faced with constant warfare during his reign against both the seljuk turks in asia minor and the normans in the western balkans , alexios was able to halt the byzantine decline and begin the military , financial , and territorial recovery known as the \" komnenian restoration \" .\n",
      "inheriting a collapsing empire and faced with constant warfare during his reign against both the seljuk turks in asia minor and the normans in the western balkans , alexios was able to halt the byzantine decline and begin the military , financial , and territorial recovery known as the \" komnenian restoration \" . 1.0\n",
      "\n",
      "in the census of 2005 , the population of the banja luka region was at 709,000 residents , predominantly serb .\n",
      "in the census of 2005 , the population of the banja luka region was at 709,000 residents , predominantly serb . 1.0\n",
      "\n",
      "it is sent as an http header by a web server to a web browser and then sent back unchanged by the browser each time it accesses that server .\n",
      "it is sent as an http header by a web server to a web browser and then sent back unchanged by the browser each time it accesses that server . 1.0\n",
      "\n",
      "by 1961 , gordy had appointed robinson vice-president of motown records , a title robinson held for as long as gordy remained with the company .\n",
      "by 1961 , gordy had appointed robinson vice-president of motown records , a title robinson held for as long as gordy remained with the company . 1.0\n",
      "\n",
      "from 1908 to 1911 he was the principal conductor of the vienna hofoper succeeding gustav mahler ; he retained the conductorship of the vienna philharmonic until 1927 .\n",
      "from 1908 to 1911 he was the principal conductor of the vienna hofoper succeeding gustav mahler ; he retained the conductorship of the vienna philharmonic until 1927 . 1.0\n",
      "\n",
      "mexican cinnamon hot chocolate is traditionally served alongside a variety of mexican pastries known as pan dulce and , as in spain , churros .\n",
      "mexican cinnamon hot chocolate is traditionally served alongside a variety of mexican pastries known as pan dulce and , as in spain , churros . 1.0\n",
      "\n",
      "slaves were previously introduced by the british and french who colonized the island in the 18th century .\n",
      "slaves were previously introduced by the british and french who colonized the island in the 18th century . 1.0\n",
      "\n",
      "cholera , sometimes known as asiatic or epidemic cholera , is an infectious gastroenteritis caused by enterotoxin-producing strains of the bacterium vibrio cholerae .\n",
      "cholera , sometimes known as asiatic or epidemic cholera , is an infectious gastroenteritis caused by enterotoxin-producing strains of the bacterium vibrio cholerae . 1.0\n",
      "\n",
      "a hurricane struck dominica and puerto rico between july 22 and july 24 .\n",
      "a hurricane struck dominica and puerto rico between july 22 and july 24 . 1.0\n",
      "\n",
      "it was discovered by a team of astronomers led by brett j. gladman , et al . in 2003 .\n",
      "it was discovered by a team of astronomers led by brett j. gladman , et al . in 2003 . 1.0\n",
      "\n",
      "cyanobacteria , also known as blue-green algae , blue-green bacteria or cyanophyta , is a phylum of bacteria that obtain their energy through photosynthesis .\n",
      "cyanobacteria , also known as blue-green algae , blue-green bacteria or cyanophyta , is a phylum of bacteria that obtain their energy through photosynthesis . 1.0\n",
      "\n",
      "she finally divorced monroe in 1947 and also split with guy .\n",
      "she finally divorced monroe in 1947 and also split with guy . 1.0\n",
      "\n",
      "dan pulled in ruth marie as a fifth person in his alliance , but after losing another immunity challenge , sally convinced the la mina men that she was a more valuable player .\n",
      "dan pulled in ruth marie as a fifth person in his alliance , but after losing another immunity challenge , sally convinced the la mina men that she was a more valuable player . 1.0\n",
      "\n",
      "greater armenia is an armenian irredentist political goal aimed at uniting with armenia most of the armenian highland , the historical homeland of the armenians since antiquity up until the armenian genocide when they were massacred and forcefully expelled by the ottoman turkish government .\n",
      "greater armenia is an armenian irredentist political goal aimed at uniting with armenia most of the armenian highland , the historical homeland of the armenians since antiquity up until the armenian genocide when they were massacred and forcefully expelled by the ottoman turkish government . 1.0\n",
      "\n",
      "lightcurve data for europa has been particularly tricky to interpret , so much so for a long time its period of rotation was in dispute despite numerous observations .\n",
      "lightcurve data for europa has been particularly tricky to interpret , so much so for a long time its period of rotation was in dispute despite numerous observations . 1.0\n",
      "\n",
      "it is typically used for scraping or cutting food before the food enters the esophagus .\n",
      "it is typically used for scraping or cutting food before the food enters the esophagus . 1.0\n",
      "\n",
      "city of faizabad is the headquarters of faizabad district and a municipal board in the state of uttar pradesh , india , situated on the banks of river ghaghra .\n",
      "city of faizabad is the headquarters of faizabad district and a municipal board in the state of uttar pradesh , india , situated on the banks of river ghaghra . 1.0\n",
      "\n",
      "the name kalganup is believed to be the noongar word for ' place of many waters ' .\n",
      "the name kalganup is believed to be the noongar word for ' place of many waters ' . 1.0\n",
      "\n",
      "romano fogli is an italian retired footballer and former manager .\n",
      "romano fogli is an italian retired footballer and former manager . 1.0\n",
      "\n",
      "it overwinters in conifer groves .\n",
      "it overwinters in conifer groves . 1.0\n",
      "\n",
      "in mid-june 2006 , the slab was crumbling in frequent rockfalls , although it was still being extruded .\n",
      "in mid-june 2006 , the slab was crumbling in frequent rockfalls , although it was still being extruded . 1.0\n",
      "\n",
      "the billionaire of dismal downs is a scrooge mcduck comic by don rosa . it is the ninth of the original 12 chapters in the series the life and times of scrooge mcduck .\n",
      "the billionaire of dismal downs is a scrooge mcduck comic by don rosa . it is the ninth of the original 12 chapters in the series the life and times of scrooge mcduck . 1.0\n",
      "\n",
      "hms guardian set out before the convict ships but struck ice after leaving the cape of good hope , returned to southern africa and was wrecked on the coast .\n",
      "hms guardian set out before the convict ships but struck ice after leaving the cape of good hope , returned to southern africa and was wrecked on the coast . 1.0\n",
      "\n",
      "the concept of a \" picture element \" dates to the earliest days of television , for example as \" bildpunkt \" in the 1888 german patent of paul nipkow .\n",
      "the concept of a \" picture element \" dates to the earliest days of television , for example as \" bildpunkt \" in the 1888 german patent of paul nipkow . 1.0\n",
      "\n",
      "on 1 october 1983 the pilot project began operations as a full-fledged bank and was renamed the grameen bank to make loans to poor bangladeshis .\n",
      "on 1 october 1983 the pilot project began operations as a full-fledged bank and was renamed the grameen bank to make loans to poor bangladeshis . 1.0\n",
      "\n",
      "a lesson is a structured period of time where learning is intended to occur .\n",
      "a lesson is a structured period of time where learning is intended to occur . 1.0\n",
      "\n",
      "it has been suggested that eastern pacific ocean tropical cyclones are formed out of tropical waves that originate in north africa as well .\n",
      "it has been suggested that eastern pacific ocean tropical cyclones are formed out of tropical waves that originate in north africa as well . 1.0\n",
      "\n",
      "they are characterized by spirituality and metaphysical themes , extremely long takes , lack of conventional dramatic structure and plot , and memorable cinematography .\n",
      "they are characterized by spirituality and metaphysical themes , extremely long takes , lack of conventional dramatic structure and plot , and memorable cinematography . 1.0\n",
      "\n",
      "seismograms are essential for measuring earthquakes using the richter scale .\n",
      "seismograms are essential for measuring earthquakes using the richter scale . 1.0\n",
      "\n",
      "but , from time to time the church hierarchy , and even some popes , have given opinions on various matters ; although these \" guidelines \" are not binding on catholics , many tradition-minded catholics find them persuasive .\n",
      "but , from time to time the church hierarchy , and even some popes , have given opinions on various matters ; although these \" guidelines \" are not binding on catholics , many tradition-minded catholics find them persuasive . 1.0\n",
      "\n",
      "a haunted house is defined as a house that is believed to be a center for supernatural occurrences or paranormal phenomena .\n",
      "a haunted house is defined as a house that is believed to be a center for supernatural occurrences or paranormal phenomena . 1.0\n",
      "\n",
      "glaciologically , ice age implies the presence of extensive ice sheets in the northern and southern hemispheres ; by this definition we are still in the ice age that began at the start of the pleistocene .\n",
      "glaciologically , ice age implies the presence of extensive ice sheets in the northern and southern hemispheres ; by this definition we are still in the ice age that began at the start of the pleistocene . 1.0\n",
      "\n",
      "from scarborough monday to saturdays there is generally an hourly first transpennine express service to york , leeds , manchester piccadilly and liverpool lime street and a two-hourly northern rail service to bridlington , hull and sheffield via the yorkshire coast line .\n",
      "from scarborough monday to saturdays there is generally an hourly first transpennine express service to york , leeds , manchester piccadilly and liverpool lime street and a two-hourly northern rail service to bridlington , hull and sheffield via the yorkshire coast line . 1.0\n",
      "\n",
      "the county is divided into three areas of unorganized territory : dupree , north ziebach , and south ziebach .\n",
      "the county is divided into three areas of unorganized territory : dupree , north ziebach , and south ziebach . 1.0\n",
      "\n",
      "the pittsburgh steelers are a professional american football team based in pittsburgh , pennsylvania .\n",
      "the pittsburgh steelers are a professional american football team based in pittsburgh , pennsylvania . 1.0\n",
      "\n",
      "during the final immunity challenge , sandra fell out early , allowing jon to try to convince lil to take him to the final two .\n",
      "during the final immunity challenge , sandra fell out early , allowing jon to try to convince lil to take him to the final two . 1.0\n",
      "\n",
      "avian influenza virus h3n2 is endemic in pigs in china and has been detected in pigs in vietnam , increasing fears of the emergence of new variant strains .\n",
      "avian influenza virus h3n2 is endemic in pigs in china and has been detected in pigs in vietnam , increasing fears of the emergence of new variant strains . 1.0\n",
      "\n",
      "and though often viewed as a youthful expression of rebellion by the mainstream media , modern punk embodies a range of age groups who generally disagree with the perceived of countercultural principals and it is not uncommon for middle-aged people to form punk houses and resistance movements in the face of what they view as the widespread , unfair exploitation of human and animal rights .\n",
      "and though often viewed as a youthful expression of rebellion by the mainstream media , modern punk embodies a range of age groups who generally disagree with the perceived of countercultural principals and it is not uncommon for middle-aged people to form punk houses and resistance movements in the face of what they view as the widespread , unfair exploitation of human and animal rights . 1.0\n",
      "\n",
      "he received many awards , among them a posthumous special citation from the pulitzer prize board in 2007 for his \" masterful improvisation , supreme musicianship and iconic centrality to the history of jazz . \n",
      "he received many awards , among them a posthumous special citation from the pulitzer prize board in 2007 for his \" masterful improvisation , supreme musicianship and iconic centrality to the history of jazz .  1.0\n",
      "\n",
      "when a fair weather waterspout makes landfall it quickly dissipates as it loses the inflow of warm air into the vortex .\n",
      "when a fair weather waterspout makes landfall it quickly dissipates as it loses the inflow of warm air into the vortex . 1.0\n",
      "\n",
      "its purpose is to promote free trade and the fluid movement of goods , people , and currency .\n",
      "its purpose is to promote free trade and the fluid movement of goods , people , and currency . 1.0\n",
      "\n",
      "most of the state lies in an area known as tornado alley characterized by frequent interaction between cold and warm air masses producing severe weather .\n",
      "most of the state lies in an area known as tornado alley characterized by frequent interaction between cold and warm air masses producing severe weather . 1.0\n",
      "\n",
      "the reservoir has a volume of 4.26 mio m and a surface area of 0.25 km .\n",
      "the reservoir has a volume of 4.26 mio m and a surface area of 0.25 km . 1.0\n",
      "\n",
      "after receiving the news of the important award , yunus announced that he would use part of his share of the $ 1.4 million award money to create a company to make low-cost , high-nutrition food for the poor ; while the rest would go toward setting up an eye hospital for the poor in bangladesh .\n",
      "after receiving the news of the important award , yunus announced that he would use part of his share of the $ 1.4 million award money to create a company to make low-cost , high-nutrition food for the poor ; while the rest would go toward setting up an eye hospital for the poor in bangladesh . 1.0\n",
      "\n",
      "phillip was appointed governor of new south wales , the first european colony on the australian continent , and was the founder of the site which is now the city of sydney .\n",
      "phillip was appointed governor of new south wales , the first european colony on the australian continent , and was the founder of the site which is now the city of sydney . 1.0\n",
      "\n",
      "toshiba was founded by the merging of two companies in 1939 .\n",
      "toshiba was founded by the merging of two companies in 1939 . 1.0\n",
      "\n",
      "after crossing florida , hurricane hunters indicated a poorly defined circulation , but with winds exceeding tropical storm strength , and the system was designated as tropical storm erika late on august 14 while located 85 miles west of fort myers .\n",
      "after crossing florida , hurricane hunters indicated a poorly defined circulation , but with winds exceeding tropical storm strength , and the system was designated as tropical storm erika late on august 14 while located 85 miles west of fort myers . 1.0\n",
      "\n",
      "eucalyptus forests in california have been criticised because they compete with native plants and do not support native animals .\n",
      "eucalyptus forests in california have been criticised because they compete with native plants and do not support native animals . 1.0\n",
      "\n",
      "after the demise of the whl , however , the stanley cup was awarded exclusively to the nhl playoff champion , and the wales trophy was given to the regular season champion .\n",
      "after the demise of the whl , however , the stanley cup was awarded exclusively to the nhl playoff champion , and the wales trophy was given to the regular season champion . 1.0\n",
      "\n",
      "it was discovered and opened about the same time as crystal cave , but was closed by the owners in the 1940s .\n",
      "it was discovered and opened about the same time as crystal cave , but was closed by the owners in the 1940s . 1.0\n",
      "\n",
      "italy purchased the city in 1905 and made mogadishu the capital of italian somaliland .\n",
      "italy purchased the city in 1905 and made mogadishu the capital of italian somaliland . 1.0\n",
      "\n",
      "sir terence david john pratchett , obe , more commonly known as terry pratchett , is an english novelist , known for his frequently comical work in the fantasy genre .\n",
      "sir terence david john pratchett , obe , more commonly known as terry pratchett , is an english novelist , known for his frequently comical work in the fantasy genre . 1.0\n",
      "\n",
      "students are obligated to attend the central high school .\n",
      "students are obligated to attend the central high school . 1.0\n",
      "\n",
      "the technique consists of precoding the data so as to cancel the effect of the interference .\n",
      "the technique consists of precoding the data so as to cancel the effect of the interference . 1.0\n",
      "\n",
      "in 1989 , these diversified interests started growing into separate organizations , as the fisheries project became grameen motsho and the irrigation project became grameen krishi .\n",
      "in 1989 , these diversified interests started growing into separate organizations , as the fisheries project became grameen motsho and the irrigation project became grameen krishi . 1.0\n",
      "\n",
      "in august 1995 , the ttc suffered its worst subway accident in what it refers to as the russell hill accident , on the yonge-university-spadina line south of st. clair west station .\n",
      "in august 1995 , the ttc suffered its worst subway accident in what it refers to as the russell hill accident , on the yonge-university-spadina line south of st. clair west station . 1.0\n",
      "\n",
      "the short-beaked echidna is an iconic animal in contemporary australia , notably appearing on the australian five-cent piece and on a $ 200 commemorative coin released in 1992 .\n",
      "the short-beaked echidna is an iconic animal in contemporary australia , notably appearing on the australian five-cent piece and on a $ 200 commemorative coin released in 1992 . 1.0\n",
      "\n",
      "gygax is generally acknowledged as the father of role-playing games .\n",
      "gygax is generally acknowledged as the father of role-playing games . 1.0\n",
      "\n",
      "after 1910 , he spent the remainder of his life in moscow , working in the marfo-mariinsky convent .\n",
      "after 1910 , he spent the remainder of his life in moscow , working in the marfo-mariinsky convent . 1.0\n",
      "\n",
      "situated 13 miles southeast of seattle , washington , renton straddles the southeast shore of lake washington .\n",
      "situated 13 miles southeast of seattle , washington , renton straddles the southeast shore of lake washington . 1.0\n",
      "\n",
      "in the third book , harry potter and the prisoner of azkaban , rowling uses a time travel premise .\n",
      "in the third book , harry potter and the prisoner of azkaban , rowling uses a time travel premise . 1.0\n",
      "\n",
      "yass is a prominent area for raising sheep which produce very fine wool due to the soil and climatic conditions of the yass area .\n",
      "yass is a prominent area for raising sheep which produce very fine wool due to the soil and climatic conditions of the yass area . 1.0\n",
      "\n",
      "annual production of lego bricks averages approximately 20 billion per year , or about 600 pieces per second : if all the lego bricks ever produced were to be divided equally among a world population of six billion , each person would have 62 lego bricks .\n",
      "annual production of lego bricks averages approximately 20 billion per year , or about 600 pieces per second : if all the lego bricks ever produced were to be divided equally among a world population of six billion , each person would have 62 lego bricks . 1.0\n",
      "\n",
      "historians are undecided if lincoln actually said this line , and in a letter that stowe wrote to her husband a few hours after meeting with lincoln no mention of this comment was made .\n",
      "historians are undecided if lincoln actually said this line , and in a letter that stowe wrote to her husband a few hours after meeting with lincoln no mention of this comment was made . 1.0\n",
      "\n",
      "the interest was so great that developers found themselves advertising the parks rather than their own developments , as the highest prices would exist for the park perceived to be best .\n",
      "the interest was so great that developers found themselves advertising the parks rather than their own developments , as the highest prices would exist for the park perceived to be best . 1.0\n",
      "\n",
      "it generally consists of a shallow pool of water , usually quite calm .\n",
      "it generally consists of a shallow pool of water , usually quite calm . 1.0\n",
      "\n",
      "a tropical cyclone strikes eastern cuba on september 28 .\n",
      "a tropical cyclone strikes eastern cuba on september 28 . 1.0\n",
      "\n",
      "the romans believed the fumes produced by burning castoreum could induce an abortion ; paracelsus thought it could be used in the treatment of epilepsy ; and medieval beekeepers used it to increase honey production .\n",
      "the romans believed the fumes produced by burning castoreum could induce an abortion ; paracelsus thought it could be used in the treatment of epilepsy ; and medieval beekeepers used it to increase honey production . 1.0\n",
      "\n",
      "phosgene can be detected at 0.4 ppm , which is four times the threshold limit value .\n",
      "phosgene can be detected at 0.4 ppm , which is four times the threshold limit value . 1.0\n",
      "\n",
      "he invites his sister , may belle to enter terabithia ; she is delighted because she was previously denied any opportunity to enter .\n",
      "he invites his sister , may belle to enter terabithia ; she is delighted because she was previously denied any opportunity to enter . 1.0\n",
      "\n",
      "oat bread was first manufactured in england , where the first oat bread factory was established in 1899 .\n",
      "oat bread was first manufactured in england , where the first oat bread factory was established in 1899 . 1.0\n",
      "\n",
      "the trans-asian railway is a project to create an integrated freight railway network across europe and asia .\n",
      "the trans-asian railway is a project to create an integrated freight railway network across europe and asia . 1.0\n",
      "\n",
      "if the object has exactly the same density as the fluid , then its buoyancy equals its weight .\n",
      "if the object has exactly the same density as the fluid , then its buoyancy equals its weight . 1.0\n",
      "\n",
      "they have also been observed in captivity catching spiny dogfish of up to 3-4 feet in length .\n",
      "they have also been observed in captivity catching spiny dogfish of up to 3-4 feet in length . 1.0\n",
      "\n",
      "in mid-november 2008 , president-elect obama and clinton discussed the possibility of her serving as u.s. secretary of state in his administration , and on november 21 , reports indicated that she had accepted the position .\n",
      "in mid-november 2008 , president-elect obama and clinton discussed the possibility of her serving as u.s. secretary of state in his administration , and on november 21 , reports indicated that she had accepted the position . 1.0\n",
      "\n",
      "outcast of redwall is a fantasy novel by brian jacques , published in 1995 .\n",
      "outcast of redwall is a fantasy novel by brian jacques , published in 1995 . 1.0\n",
      "\n",
      "with the others bailed out for various food items , tom was the last man standing and won immunity .\n",
      "with the others bailed out for various food items , tom was the last man standing and won immunity . 1.0\n",
      "\n",
      "thus , on unification day , october 3 , 1990 , the german democratic republic ceased to exist , giving way to five new federal states , and east and west berlin were also unified as a single city , forming a sixth new federal state . the new federal states immediately became parts of the federal republic of germany , so that it was enlarged to include the whole territory of the former east germany .\n",
      "thus , on unification day , october 3 , 1990 , the german democratic republic ceased to exist , giving way to five new federal states , and east and west berlin were also unified as a single city , forming a sixth new federal state . the new federal states immediately became parts of the federal republic of germany , so that it was enlarged to include the whole territory of the former east germany . 1.0\n",
      "\n",
      "in the opening and middlegame , the king will rarely play an active role in the development of an offensive or defensive position .\n",
      "in the opening and middlegame , the king will rarely play an active role in the development of an offensive or defensive position . 1.0\n",
      "\n",
      "the most troublesome situation usually occurs with short journeys from west to east .\n",
      "the most troublesome situation usually occurs with short journeys from west to east . 1.0\n",
      "\n",
      "barnes & noble , inc. is the largest book retailer in the united states , operating mainly through its barnes & noble booksellers chain of bookstores headquartered in lower fifth avenue in lower manhattan , new york city .\n",
      "barnes & noble , inc. is the largest book retailer in the united states , operating mainly through its barnes & noble booksellers chain of bookstores headquartered in lower fifth avenue in lower manhattan , new york city . 1.0\n",
      "\n",
      "hurricane-force wind gusts were reported in new england .\n",
      "hurricane-force wind gusts were reported in new england . 1.0\n",
      "\n",
      "spain and luxembourg currently have bourbon monarchs .\n",
      "spain and luxembourg currently have bourbon monarchs . 1.0\n",
      "\n",
      "the toys are similar to many other small plush toys , however , each webkinz toy has an attached tag with a unique \" secret code \" printed on it that allows access to the \" webkinz world \" website .\n",
      "the toys are similar to many other small plush toys , however , each webkinz toy has an attached tag with a unique \" secret code \" printed on it that allows access to the \" webkinz world \" website . 1.0\n",
      "\n",
      "jamie farr is an american television and film actor and popular game show panelist .\n",
      "jamie farr is an american television and film actor and popular game show panelist . 1.0\n",
      "\n",
      "however , the availability of suitable habitat is critical : forest must be neither too old nor too young .\n",
      "however , the availability of suitable habitat is critical : forest must be neither too old nor too young . 1.0\n",
      "\n",
      "he enrolled at papanui high school , then university of canterbury , but for only one year .\n",
      "he enrolled at papanui high school , then university of canterbury , but for only one year . 1.0\n",
      "\n",
      "famous for hosting the annual rose bowl football game and the tournament of roses parade , pasadena is the home of many leading scientific and cultural institutions , including the california institute of technology , pasadena city college , the jet propulsion laboratory , art center college of design , the pasadena playhouse , california school of culinary arts pasadena , the norton simon museum of art and the pacific asia museum .\n",
      "famous for hosting the annual rose bowl football game and the tournament of roses parade , pasadena is the home of many leading scientific and cultural institutions , including the california institute of technology , pasadena city college , the jet propulsion laboratory , art center college of design , the pasadena playhouse , california school of culinary arts pasadena , the norton simon museum of art and the pacific asia museum . 1.0\n",
      "\n",
      "bunch is a small unincorporated community in southwestern adair county , oklahoma , united states .\n",
      "bunch is a small unincorporated community in southwestern adair county , oklahoma , united states . 1.0\n",
      "\n",
      "the association of virtue with withdrawal from society - and specifically from cities - was a familiar theme in religious literature .\n",
      "the association of virtue with withdrawal from society - and specifically from cities - was a familiar theme in religious literature . 1.0\n",
      "\n",
      "she has three older brothers : aaron , benjamin , and nathaniel , the latter of whom is a model and actor .\n",
      "she has three older brothers : aaron , benjamin , and nathaniel , the latter of whom is a model and actor . 1.0\n",
      "\n",
      "before meeting the sacramento river , the san joaquin river has two distributary rivers , the old river and the middle river , both of which once were the main channels of the river . due to the bend in the san joaquin river channel at the head of the old river , a significant portion of the san joaquin river flow continues down the old river instead of heading northward along the san joaquin .\n",
      "before meeting the sacramento river , the san joaquin river has two distributary rivers , the old river and the middle river , both of which once were the main channels of the river . due to the bend in the san joaquin river channel at the head of the old river , a significant portion of the san joaquin river flow continues down the old river instead of heading northward along the san joaquin . 1.0\n",
      "\n",
      "the primary trinity included tinia , uni and menrva .\n",
      "the primary trinity included tinia , uni and menrva . 1.0\n",
      "\n",
      "tolstoy was born in yasnaya polyana , the family estate in the tula region of russia .\n",
      "tolstoy was born in yasnaya polyana , the family estate in the tula region of russia . 1.0\n",
      "\n",
      "the earthquake engineering research institute is a leader in dissemination of earthquake engineering research related information both in the u.s. and globally .\n",
      "the earthquake engineering research institute is a leader in dissemination of earthquake engineering research related information both in the u.s. and globally . 1.0\n",
      "\n",
      "notable former managers of notts county include jimmy sirrel , neil warnock , howard kendall and sam allardyce .\n",
      "notable former managers of notts county include jimmy sirrel , neil warnock , howard kendall and sam allardyce . 1.0\n",
      "\n",
      "in addition to local research conducted at the radio telescope , parkes scientists have assisted nasa for several missions as a southern hemisphere relay and communications station .\n",
      "in addition to local research conducted at the radio telescope , parkes scientists have assisted nasa for several missions as a southern hemisphere relay and communications station . 1.0\n",
      "\n",
      "volcanologists frequently visit volcanoes , especially active ones , to observe volcanic eruptions , collect eruptive products including tephra , rock and lava samples .\n",
      "volcanologists frequently visit volcanoes , especially active ones , to observe volcanic eruptions , collect eruptive products including tephra , rock and lava samples . 1.0\n",
      "\n",
      "pool , also known as pocket billiards , is the general term for a family of cue sports played on a pool table with six receptacles called pockets along the , into which balls are deposited as the main goal of play .\n",
      "pool , also known as pocket billiards , is the general term for a family of cue sports played on a pool table with six receptacles called pockets along the , into which balls are deposited as the main goal of play . 1.0\n",
      "\n",
      "he normally appears in a running gag , where he usually suffers unfortunate , nearly always fatal , events .\n",
      "he normally appears in a running gag , where he usually suffers unfortunate , nearly always fatal , events . 1.0\n",
      "\n",
      "most digital media are based on translating analog data into digital data and vice-versa .\n",
      "most digital media are based on translating analog data into digital data and vice-versa . 1.0\n",
      "\n",
      "wrestlers portrayed a villain or a hero as they followed a series of events that built tension , and culminated into a wrestling match or series of matches .\n",
      "wrestlers portrayed a villain or a hero as they followed a series of events that built tension , and culminated into a wrestling match or series of matches . 1.0\n",
      "\n",
      "not to be confused with \" terms \" in colloquial usages , the shortened form of technical terms which are defined within a discipline or speciality field .\n",
      "not to be confused with \" terms \" in colloquial usages , the shortened form of technical terms which are defined within a discipline or speciality field . 1.0\n",
      "\n",
      "a \" dune field \" is an area covered by extensive sand dunes .\n",
      "a \" dune field \" is an area covered by extensive sand dunes . 1.0\n",
      "\n",
      "107 camilla is one of the largest main belt asteroids .\n",
      "107 camilla is one of the largest main belt asteroids . 1.0\n",
      "\n",
      "first mentioned by the ancient greek geographer ptolemy , the pre-christian settlement of the saxon people originally covered an area a little more to the northwest , with parts of the southern jutland peninsula , old saxony and small sections of the eastern low countries .\n",
      "first mentioned by the ancient greek geographer ptolemy , the pre-christian settlement of the saxon people originally covered an area a little more to the northwest , with parts of the southern jutland peninsula , old saxony and small sections of the eastern low countries . 1.0\n",
      "\n",
      "at the end of each season , a series of playoff games are contested among the top six teams in the nfc , consisting of the four division champions and the two other teams with the best win-loss records .\n",
      "at the end of each season , a series of playoff games are contested among the top six teams in the nfc , consisting of the four division champions and the two other teams with the best win-loss records . 1.0\n",
      "\n",
      "veritas and undina would have been the largest fragments of that collision .\n",
      "veritas and undina would have been the largest fragments of that collision . 1.0\n",
      "\n",
      "after the partitions of poland in 1794 the area was annexed by prussia .\n",
      "after the partitions of poland in 1794 the area was annexed by prussia . 1.0\n",
      "\n",
      "the models initially had difficulty predicting the track of the depression and the forecasts from the national hurricane center reflected this , indicating that the depression would move towards texas .\n",
      "the models initially had difficulty predicting the track of the depression and the forecasts from the national hurricane center reflected this , indicating that the depression would move towards texas . 1.0\n",
      "\n",
      "a british nobleman , lord stanhope , took an interest in hauser and gained custody of him late in 1831 .\n",
      "a british nobleman , lord stanhope , took an interest in hauser and gained custody of him late in 1831 . 1.0\n",
      "\n",
      "simon phillip cowell is an english music executive , television producer and entrepreneur .\n",
      "simon phillip cowell is an english music executive , television producer and entrepreneur . 1.0\n",
      "\n",
      "the remnants of the depression persisted until 2 am edt at which time it was absorbed by a warm front .\n",
      "the remnants of the depression persisted until 2 am edt at which time it was absorbed by a warm front . 1.0\n",
      "\n",
      "a good measure of notability is whether someone has been featured in multiple , independent , reliable sources .\n",
      "a good measure of notability is whether someone has been featured in multiple , independent , reliable sources . 1.0\n",
      "\n",
      "it originally aired on the fox network in the united states on october 10 , 1991 .\n",
      "it originally aired on the fox network in the united states on october 10 , 1991 . 1.0\n",
      "\n",
      "religious law is explicitly based on religious precepts .\n",
      "religious law is explicitly based on religious precepts . 1.0\n",
      "\n",
      "the principal greenhouse , in an art nouveau style with a modern metallic structure , resembles the mid-19th century crystal palace in london .\n",
      "the principal greenhouse , in an art nouveau style with a modern metallic structure , resembles the mid-19th century crystal palace in london . 1.0\n",
      "\n",
      "metlink , formerly the met , is the marketing body and umbrella brand for public train , tram and bus transport operators in greater melbourne , victoria , australia .\n",
      "metlink , formerly the met , is the marketing body and umbrella brand for public train , tram and bus transport operators in greater melbourne , victoria , australia . 1.0\n",
      "\n",
      "on april 9 , 1919 , miss marcella sherwood , who supervised the mission day school for girls was bicycling round the city to close her schools when she was assaulted by a mob in a narrow street , the kucha kurrichhan , was beaten and left wounded .\n",
      "on april 9 , 1919 , miss marcella sherwood , who supervised the mission day school for girls was bicycling round the city to close her schools when she was assaulted by a mob in a narrow street , the kucha kurrichhan , was beaten and left wounded . 1.0\n",
      "\n",
      "schoenberg refused , saying \" i would only make you a bad schoenberg , and you 're such a good gershwin already . \n",
      "schoenberg refused , saying \" i would only make you a bad schoenberg , and you 're such a good gershwin already .  1.0\n",
      "\n",
      "however media outlets soon found ways around the ban , initially by the use of subtitles , but later and more commonly by the use of an actor reading his words over the images of him speaking .\n",
      "however media outlets soon found ways around the ban , initially by the use of subtitles , but later and more commonly by the use of an actor reading his words over the images of him speaking . 1.0\n",
      "\n",
      "in 1873 mine employers attempted to introduce saturday afternoon and sunday shifts .\n",
      "in 1873 mine employers attempted to introduce saturday afternoon and sunday shifts . 1.0\n",
      "\n",
      "he then settled in the avon valley , one of the most rugged and inaccessible places in the darling range .\n",
      "he then settled in the avon valley , one of the most rugged and inaccessible places in the darling range . 1.0\n",
      "\n",
      "the central planets are firmly under alliance control , but the outlying planets and moons resemble the 19th century american west , with little governmental authority .\n",
      "the central planets are firmly under alliance control , but the outlying planets and moons resemble the 19th century american west , with little governmental authority . 1.0\n",
      "\n",
      "in 1639 , williams established a baptist church in providence , rhode island , and clarke began a baptist church in newport , rhode island .\n",
      "in 1639 , williams established a baptist church in providence , rhode island , and clarke began a baptist church in newport , rhode island . 1.0\n",
      "\n",
      "while each edition of windows 2000 was targeted to a different market , they share a core set of features , including many system utilities such as the microsoft management console and standard system administration applications .\n",
      "while each edition of windows 2000 was targeted to a different market , they share a core set of features , including many system utilities such as the microsoft management console and standard system administration applications . 1.0\n",
      "\n",
      "the first conflict between the british and the marathas was the first anglo-maratha war which began in 1774 and resulted in the 1782 treaty of salbai , by which the island of salsette , adjacent to bombay island , was ceded to the british , while bharuch was ceded to the maratha ruler scindia .\n",
      "the first conflict between the british and the marathas was the first anglo-maratha war which began in 1774 and resulted in the 1782 treaty of salbai , by which the island of salsette , adjacent to bombay island , was ceded to the british , while bharuch was ceded to the maratha ruler scindia . 1.0\n",
      "\n",
      "openoffice.org calc is the spreadsheet component of the openoffice.org software package .\n",
      "openoffice.org calc is the spreadsheet component of the openoffice.org software package . 1.0\n",
      "\n",
      "the countess tells him it is only susanna , trying on her wedding dress .\n",
      "the countess tells him it is only susanna , trying on her wedding dress . 1.0\n",
      "\n",
      "early representations of the balalaika show it with anywhere from two to six strings , which resembles certain central asian instruments .\n",
      "early representations of the balalaika show it with anywhere from two to six strings , which resembles certain central asian instruments . 1.0\n",
      "\n",
      "additional praise was given to its scope and future potential based on user-created content ; minor criticism was reserved for specific elements of the gameplay mechanics and level creation facilities .\n",
      "additional praise was given to its scope and future potential based on user-created content ; minor criticism was reserved for specific elements of the gameplay mechanics and level creation facilities . 1.0\n",
      "\n",
      "loamhedge is a fantasy novel by brian jacques , published in 2003 .\n",
      "loamhedge is a fantasy novel by brian jacques , published in 2003 . 1.0\n",
      "\n",
      "the eastern orthodox church accepts psalm 151 as canonical . roman catholics , protestants , and most jews consider it apocryphal .\n",
      "the eastern orthodox church accepts psalm 151 as canonical . roman catholics , protestants , and most jews consider it apocryphal . 1.0\n",
      "\n",
      "he aided the doukhobors in migrating to canada .\n",
      "he aided the doukhobors in migrating to canada . 1.0\n",
      "\n",
      "it is a permissive license , meaning that it permits reuse within proprietary software on the condition that the license is distributed with that software . the license is also gpl-compatible , meaning that the gpl permits combination and redistribution with software that uses the mit license .\n",
      "it is a permissive license , meaning that it permits reuse within proprietary software on the condition that the license is distributed with that software . the license is also gpl-compatible , meaning that the gpl permits combination and redistribution with software that uses the mit license . 1.0\n",
      "\n",
      "the battalion is usually part of a regiment , group or a brigade , depending on the organizational model used by that service .\n",
      "the battalion is usually part of a regiment , group or a brigade , depending on the organizational model used by that service . 1.0\n",
      "\n",
      "intense feelings of resentment trigger the initial retaliation , which causes the other party to feel equally aggrieved and vengeful .\n",
      "intense feelings of resentment trigger the initial retaliation , which causes the other party to feel equally aggrieved and vengeful . 1.0\n",
      "\n",
      "gravitational energy is the energy associated with the gravitational field .\n",
      "gravitational energy is the energy associated with the gravitational field . 1.0\n",
      "\n",
      "the dead body of a human is referred to as a cadaver , or corpse .\n",
      "the dead body of a human is referred to as a cadaver , or corpse . 1.0\n",
      "\n",
      "marshal manuel deodoro da fonseca became the first president of the republic of brazil after heading a military coup that deposed emperor pedro ii .\n",
      "marshal manuel deodoro da fonseca became the first president of the republic of brazil after heading a military coup that deposed emperor pedro ii . 1.0\n",
      "\n",
      "slipknot is a heavy metal band formed by vocalist and percussionist anders colsefni , guitarists donnie steele and josh \" gnar \" brainard , bassist paul gray , drummer joey jordison and percussionist shawn crahan , in des moines , iowa .\n",
      "slipknot is a heavy metal band formed by vocalist and percussionist anders colsefni , guitarists donnie steele and josh \" gnar \" brainard , bassist paul gray , drummer joey jordison and percussionist shawn crahan , in des moines , iowa . 1.0\n",
      "\n",
      "the most recent goaltender to have scored a goal by deliberately shooting the puck into his opponents ' net was evgeni nabokov , in 2002 .\n",
      "the most recent goaltender to have scored a goal by deliberately shooting the puck into his opponents ' net was evgeni nabokov , in 2002 . 1.0\n",
      "\n",
      "following the withdrawal of the more powerful class 74 electro-diesels in 1977 , the class 73 is now unique on the british railway network .\n",
      "following the withdrawal of the more powerful class 74 electro-diesels in 1977 , the class 73 is now unique on the british railway network . 1.0\n",
      "\n",
      "upon receiving its classification , the depression consisted of a partially exposed low-level center with deep convection occupying the northeastern semicircle .\n",
      "upon receiving its classification , the depression consisted of a partially exposed low-level center with deep convection occupying the northeastern semicircle . 1.0\n",
      "\n",
      "most of the detainees were captured japanese and italian military personnel , on august 5 , 1944 at least 545 japanese pows attempted a mass breakout from the camp , in perhaps the largest prison escape in world history .\n",
      "most of the detainees were captured japanese and italian military personnel , on august 5 , 1944 at least 545 japanese pows attempted a mass breakout from the camp , in perhaps the largest prison escape in world history . 1.0\n",
      "\n",
      "vinaigrette is a mixture of salad oil and vinegar , often flavored with herbs , spices , salt , pepper , sugar , and other ingredients .\n",
      "vinaigrette is a mixture of salad oil and vinegar , often flavored with herbs , spices , salt , pepper , sugar , and other ingredients . 1.0\n",
      "\n",
      "he supported the building of churches by distributing literature and providing ministers .\n",
      "he supported the building of churches by distributing literature and providing ministers . 1.0\n",
      "\n",
      "as of the early 21st century , christianity has between 1.5 billion and 2.2 billion adherents .\n",
      "as of the early 21st century , christianity has between 1.5 billion and 2.2 billion adherents . 1.0\n",
      "\n",
      "many schools teach children to make sock puppets and then have the children put on shows or plays for the whole school with them , sometimes with all the sock puppets singing .\n",
      "many schools teach children to make sock puppets and then have the children put on shows or plays for the whole school with them , sometimes with all the sock puppets singing . 1.0\n",
      "\n",
      "the word cereal derives from ceres , the name of the roman goddess of harvest and agriculture .\n",
      "the word cereal derives from ceres , the name of the roman goddess of harvest and agriculture . 1.0\n",
      "\n",
      "miramax films was last operated by daniel battsek who reported to rich ross , chairman of walt disney studios motion pictures .\n",
      "miramax films was last operated by daniel battsek who reported to rich ross , chairman of walt disney studios motion pictures . 1.0\n",
      "\n",
      "he is portrayed by mark hamill .\n",
      "he is portrayed by mark hamill . 1.0\n",
      "\n",
      "super smash bros. was developed by hal laboratory , a nintendo second-party developer , during .\n",
      "super smash bros. was developed by hal laboratory , a nintendo second-party developer , during . 1.0\n",
      "\n",
      "the northern and western edges of the cotswolds are marked by steep escarpments down to the severn valley and the warwickshire avon .\n",
      "the northern and western edges of the cotswolds are marked by steep escarpments down to the severn valley and the warwickshire avon . 1.0\n",
      "\n",
      "they renamed the place alcante or alcanatif which means port of salt , due to the old salt industry of phoenicians and romans .\n",
      "they renamed the place alcante or alcanatif which means port of salt , due to the old salt industry of phoenicians and romans . 1.0\n",
      "\n",
      "it was founded in 1964 in hamilton , ontario by canadian hockey player tim horton and jim charade , after an initial venture in hamburger restaurants .\n",
      "it was founded in 1964 in hamilton , ontario by canadian hockey player tim horton and jim charade , after an initial venture in hamburger restaurants . 1.0\n",
      "\n",
      "the annual mean temperature is 25 c ; regional mean temperatures range from 18 c in the heart of the cordillera central to as high as 27 c in arid regions .\n",
      "the annual mean temperature is 25 c ; regional mean temperatures range from 18 c in the heart of the cordillera central to as high as 27 c in arid regions . 1.0\n",
      "\n",
      "epistemology or theory of knowledge is the branch of philosophy concerned with the nature and scope of knowledge .\n",
      "epistemology or theory of knowledge is the branch of philosophy concerned with the nature and scope of knowledge . 1.0\n",
      "\n",
      "the process is termed lichenometry .\n",
      "the process is termed lichenometry . 1.0\n",
      "\n",
      "the 1997 atlantic hurricane season officially began on june 1 , 1997 , and lasted until november 30 , 1997 .\n",
      "the 1997 atlantic hurricane season officially began on june 1 , 1997 , and lasted until november 30 , 1997 . 1.0\n",
      "\n",
      "this was the first time in survivor history that the two initial teams were not preselected by the producers .\n",
      "this was the first time in survivor history that the two initial teams were not preselected by the producers . 1.0\n",
      "\n",
      "the geological community generally accepts this hypothesis because it best explains sedimentary deposits generally regarded as of glacial origin at tropical paleolatitudes and other enigmatic features in the geological record .\n",
      "the geological community generally accepts this hypothesis because it best explains sedimentary deposits generally regarded as of glacial origin at tropical paleolatitudes and other enigmatic features in the geological record . 1.0\n",
      "\n",
      "the hells angels , at the peak of their ' outlaw ' reputation , corralled lost children .\n",
      "the hells angels , at the peak of their ' outlaw ' reputation , corralled lost children . 1.0\n",
      "\n",
      "the roof of the west stand is corrugated iron this also houses the main television gantry which is accessed from the upper tier seating area by a temporary ladder .\n",
      "the roof of the west stand is corrugated iron this also houses the main television gantry which is accessed from the upper tier seating area by a temporary ladder . 1.0\n",
      "\n",
      "it gradually decayed into a surface low pressure trough , and developed into two disturbances ; one was centered 290 miles south-southeast of cape cod and another was located 200 miles south of cape hatteras , north carolina .\n",
      "it gradually decayed into a surface low pressure trough , and developed into two disturbances ; one was centered 290 miles south-southeast of cape cod and another was located 200 miles south of cape hatteras , north carolina . 1.0\n",
      "\n",
      "techno is a form of electronic dance music that emerged in detroit , michigan , us during the mid to late 1980s .\n",
      "techno is a form of electronic dance music that emerged in detroit , michigan , us during the mid to late 1980s . 1.0\n",
      "\n",
      "dhamtour has an average elevation of 1110 metres .\n",
      "dhamtour has an average elevation of 1110 metres . 1.0\n",
      "\n",
      "while in cambrai he collaborated with nicolas grenon on a complete revision of the liturgical musical collection of the cathedral , which included writing an extensive collection of polyphonic music for services .\n",
      "while in cambrai he collaborated with nicolas grenon on a complete revision of the liturgical musical collection of the cathedral , which included writing an extensive collection of polyphonic music for services . 1.0\n",
      "\n",
      "it is also the only one of the former provinces of south africa not to undergo border changes , excluding the incorporation of bantustans .\n",
      "it is also the only one of the former provinces of south africa not to undergo border changes , excluding the incorporation of bantustans . 1.0\n",
      "\n",
      "nevertheless , until the middle of the 20th century , agriculture dominated the canton .\n",
      "nevertheless , until the middle of the 20th century , agriculture dominated the canton . 1.0\n",
      "\n",
      "the chain accounted for 22.6 % of all fast food industry revenues in canada in 2005 .\n",
      "the chain accounted for 22.6 % of all fast food industry revenues in canada in 2005 . 1.0\n",
      "\n",
      "whatever the truth of the rumors , james required a royal match to preserve the stuart line .\n",
      "whatever the truth of the rumors , james required a royal match to preserve the stuart line . 1.0\n",
      "\n",
      "in 2005 and 2006 , the bulgarian state railways begin operating desiro trains as part of a 67-million deal with siemens ag for a total of 25 diesel multiple units .\n",
      "in 2005 and 2006 , the bulgarian state railways begin operating desiro trains as part of a 67-million deal with siemens ag for a total of 25 diesel multiple units . 1.0\n",
      "\n",
      "this category contains articles about albums released on island records .\n",
      "this category contains articles about albums released on island records . 1.0\n",
      "\n",
      "their heaviest defeats in the league were 10 - 1 against fulham in 1963 and 9 - 0 against manchester united in 1995 .\n",
      "their heaviest defeats in the league were 10 - 1 against fulham in 1963 and 9 - 0 against manchester united in 1995 . 1.0\n",
      "\n",
      "uniquely among mammals , these teeth are continuously replaced throughout life , with new teeth growing at the rear as older teeth fall out from farther forward in the mouth .\n",
      "uniquely among mammals , these teeth are continuously replaced throughout life , with new teeth growing at the rear as older teeth fall out from farther forward in the mouth . 1.0\n",
      "\n",
      "it is also known as a clothes iron , flat iron , or smoothing iron .\n",
      "it is also known as a clothes iron , flat iron , or smoothing iron . 1.0\n",
      "\n",
      "some of the first inhabitants of gili trawangan were from sulawesi who are fishermen and farmers .\n",
      "some of the first inhabitants of gili trawangan were from sulawesi who are fishermen and farmers . 1.0\n",
      "\n",
      "thousands of videos exist on youtube of users showing the original video to their friends and taping their reactions , although some videos seem to be staged .\n",
      "thousands of videos exist on youtube of users showing the original video to their friends and taping their reactions , although some videos seem to be staged . 1.0\n",
      "\n",
      "however , on 13 april 2008 , before the completion of the initial five years , it was announced that bryce was to become the next governor-general of australia .\n",
      "however , on 13 april 2008 , before the completion of the initial five years , it was announced that bryce was to become the next governor-general of australia . 1.0\n",
      "\n",
      "kasem is best known by name as a music historian and disc jockey , most notably as host of the weekly american top 40 radio program from 1970 to 1988 , and again from march 1998 until january 10 , 2004 , when ryan seacrest succeeded him .\n",
      "kasem is best known by name as a music historian and disc jockey , most notably as host of the weekly american top 40 radio program from 1970 to 1988 , and again from march 1998 until january 10 , 2004 , when ryan seacrest succeeded him . 1.0\n",
      "\n",
      "liriodendron tulipifera , commonly known as the american tulip tree , tulip poplar or yellow poplar , is the western hemisphere representative of the two-species liriodendron genus and the tallest eastern hardwood .\n",
      "liriodendron tulipifera , commonly known as the american tulip tree , tulip poplar or yellow poplar , is the western hemisphere representative of the two-species liriodendron genus and the tallest eastern hardwood . 1.0\n",
      "\n",
      "another allegation asserts that during the previous year , on saint bartholomew 's day , vlad had 30,000 of the merchants and officials of the transylvanian city of bra ov impaled for breaking his authority .\n",
      "another allegation asserts that during the previous year , on saint bartholomew 's day , vlad had 30,000 of the merchants and officials of the transylvanian city of bra ov impaled for breaking his authority . 1.0\n",
      "\n",
      "the result is a region of braided streams , marshes , and lakes the size of belgium ; the seasonal floods make the delta extremely productive for both fishing and agriculture .\n",
      "the result is a region of braided streams , marshes , and lakes the size of belgium ; the seasonal floods make the delta extremely productive for both fishing and agriculture . 1.0\n",
      "\n",
      "during one event , german charley attempting to prevent the theft of a racehorse from the coombing park stables was shot to death by mickey bourke .\n",
      "during one event , german charley attempting to prevent the theft of a racehorse from the coombing park stables was shot to death by mickey bourke . 1.0\n",
      "\n",
      "the cheetah hunts by vision rather than by scent .\n",
      "the cheetah hunts by vision rather than by scent . 1.0\n",
      "\n",
      "spun yarns may contain a single type of fiber , or be a blend of various types . combining synthetic fibers with natural fibers is very common .\n",
      "spun yarns may contain a single type of fiber , or be a blend of various types . combining synthetic fibers with natural fibers is very common . 1.0\n",
      "\n",
      "the character may be speaking his or her thoughts aloud , directly addressing another character , or speaking to the audience , especially the former .\n",
      "the character may be speaking his or her thoughts aloud , directly addressing another character , or speaking to the audience , especially the former . 1.0\n",
      "\n",
      "the aar , a tributary of the rhine , is the longest river that both rises and ends entirely within switzerland .\n",
      "the aar , a tributary of the rhine , is the longest river that both rises and ends entirely within switzerland . 1.0\n",
      "\n",
      "the intent is to display the likeness , personality , and even the mood of the person .\n",
      "the intent is to display the likeness , personality , and even the mood of the person . 1.0\n",
      "\n",
      "kavirondo is the former name of the region surrounding kavirondo gulf as well as of two native peoples living there under the regime of british east africa .\n",
      "kavirondo is the former name of the region surrounding kavirondo gulf as well as of two native peoples living there under the regime of british east africa . 1.0\n",
      "\n",
      "they are a type of reporter gene used in laboratory microbiology , molecular biology , and genetic engineering to indicate the success of a transfection or other procedure meant to introduce foreign dna into a cell .\n",
      "they are a type of reporter gene used in laboratory microbiology , molecular biology , and genetic engineering to indicate the success of a transfection or other procedure meant to introduce foreign dna into a cell . 1.0\n",
      "\n",
      "several other hollywood films are also believed to have been inspired by bollywood films .\n",
      "several other hollywood films are also believed to have been inspired by bollywood films . 1.0\n",
      "\n",
      "winchester college was founded in 1382 by william of wykeham , bishop of winchester and chancellor to both edward iii and richard ii , and the first seventy poor scholars entered the school in 1394 .\n",
      "winchester college was founded in 1382 by william of wykeham , bishop of winchester and chancellor to both edward iii and richard ii , and the first seventy poor scholars entered the school in 1394 . 1.0\n",
      "\n",
      "they consider the period of 1917 to 1991 to have been a period of occupation by the soviet regime which was internationalist and anti-christian .\n",
      "they consider the period of 1917 to 1991 to have been a period of occupation by the soviet regime which was internationalist and anti-christian . 1.0\n",
      "\n",
      "microsoft windows includes an implementation of ssl and tls as part of its secure channel package .\n",
      "microsoft windows includes an implementation of ssl and tls as part of its secure channel package . 1.0\n",
      "\n",
      "he proceeded to the franco-prussian war in 1870 , and , being taken prisoner at vaucouleurs , he remained in french captivity for three months .\n",
      "he proceeded to the franco-prussian war in 1870 , and , being taken prisoner at vaucouleurs , he remained in french captivity for three months . 1.0\n",
      "\n",
      "pind dadan khan tehsil is a subdivision of jhelum district , punjab , pakistan .\n",
      "pind dadan khan tehsil is a subdivision of jhelum district , punjab , pakistan . 1.0\n",
      "\n",
      "although these reports did not contain any scores or rankings , the evaluation report for paris was considered the most positive , now followed closely by london which had narrowed down most of the gap observed by the initial evaluation in 2004 regarding paris .\n",
      "although these reports did not contain any scores or rankings , the evaluation report for paris was considered the most positive , now followed closely by london which had narrowed down most of the gap observed by the initial evaluation in 2004 regarding paris . 1.0\n",
      "\n",
      "the island of ireland lies only 30 k from the southwestern peninsula of kintyre ; norway is 305 k to the east and the faroes , 270 k to the north .\n",
      "the island of ireland lies only 30 k from the southwestern peninsula of kintyre ; norway is 305 k to the east and the faroes , 270 k to the north . 1.0\n",
      "\n",
      "men are supposed to come to the mosque wearing loose and clean clothes that do not reveal the shape of the body .\n",
      "men are supposed to come to the mosque wearing loose and clean clothes that do not reveal the shape of the body . 1.0\n",
      "\n",
      "the kingdom of the franks under charlemagne was particularly hard-hit by these raiders , who could sail down the seine with near impunity .\n",
      "the kingdom of the franks under charlemagne was particularly hard-hit by these raiders , who could sail down the seine with near impunity . 1.0\n",
      "\n",
      "gumbasia , a 3 minute 34 second short film produced in 1953 , was the first clay animation produced by art clokey , who went on to create the classic series gumby and davy and goliath using the same technique .\n",
      "gumbasia , a 3 minute 34 second short film produced in 1953 , was the first clay animation produced by art clokey , who went on to create the classic series gumby and davy and goliath using the same technique . 1.0\n",
      "\n",
      "also , the sound of the regional language qawwali can be totally different from that of mainstream qawwali .\n",
      "also , the sound of the regional language qawwali can be totally different from that of mainstream qawwali . 1.0\n",
      "\n",
      "many people see al jazeera as a more trustworthy source of information than government and foreign channels .\n",
      "many people see al jazeera as a more trustworthy source of information than government and foreign channels . 1.0\n",
      "\n",
      "the epping ongar railway operates on a preserved railway along the final section of the old great eastern railway and london underground central line branch line between epping and ongar , with an intermediate station at north weald .\n",
      "the epping ongar railway operates on a preserved railway along the final section of the old great eastern railway and london underground central line branch line between epping and ongar , with an intermediate station at north weald . 1.0\n",
      "\n",
      "in the immunity challenge , koror had an early lead , but ulong made a slight comeback .\n",
      "in the immunity challenge , koror had an early lead , but ulong made a slight comeback . 1.0\n",
      "\n",
      "it is also widely believed that the size and number of connections in the prefrontal cortex relates directly to sentience , as the prefrontal cortex in humans occupies a far larger percentage of the brain than any other animal . as the brain has tripled in size over 5 million years of human evolution , the prefrontal cortex has increased in size sixfold .\n",
      "it is also widely believed that the size and number of connections in the prefrontal cortex relates directly to sentience , as the prefrontal cortex in humans occupies a far larger percentage of the brain than any other animal . as the brain has tripled in size over 5 million years of human evolution , the prefrontal cortex has increased in size sixfold . 1.0\n",
      "\n",
      "during its boom times , beechworth town boasted a range of industries including , a tannery , jewellers , boot makers , a brewery , blacksmiths , livestock sale yards .\n",
      "during its boom times , beechworth town boasted a range of industries including , a tannery , jewellers , boot makers , a brewery , blacksmiths , livestock sale yards . 1.0\n",
      "\n",
      "traditionally , after a long period of consuming gimjang kimchi during the winter , fresh potherbs and vegetables were popular for making kimchi . these kinds of kimchi were not fermented or even stored for long periods of time but were consumed fresh .\n",
      "traditionally , after a long period of consuming gimjang kimchi during the winter , fresh potherbs and vegetables were popular for making kimchi . these kinds of kimchi were not fermented or even stored for long periods of time but were consumed fresh . 1.0\n",
      "\n",
      "on 5 february 2007 , apple inc. and apple corps announced a settlement of their trademark dispute under which apple inc. will own all of the trademarks related to \" apple \" and will license certain of those trademarks back to apple corps for their continued use .\n",
      "on 5 february 2007 , apple inc. and apple corps announced a settlement of their trademark dispute under which apple inc. will own all of the trademarks related to \" apple \" and will license certain of those trademarks back to apple corps for their continued use . 1.0\n",
      "\n",
      "the head of ornitholestes was relatively small .\n",
      "the head of ornitholestes was relatively small . 1.0\n",
      "\n",
      "the northern part of the continent , covering much of siberia was also inaccessible to the steppe nomads due to the dense forests and the tundra .\n",
      "the northern part of the continent , covering much of siberia was also inaccessible to the steppe nomads due to the dense forests and the tundra . 1.0\n",
      "\n",
      "while at trinity he became more focussed on music , for there he met the folk song collector cecil sharp and composer and folk song enthusiast ralph vaughan williams .\n",
      "while at trinity he became more focussed on music , for there he met the folk song collector cecil sharp and composer and folk song enthusiast ralph vaughan williams . 1.0\n",
      "\n",
      "canadian english is the variety of english used in canada . more than 26 million canadians have some knowledge of english .\n",
      "canadian english is the variety of english used in canada . more than 26 million canadians have some knowledge of english . 1.0\n",
      "\n",
      "whedon wanted to create something for television that was more character-driven and gritty than most modern science fiction .\n",
      "whedon wanted to create something for television that was more character-driven and gritty than most modern science fiction . 1.0\n",
      "\n",
      "fought on 22 august 1485 , the battle was won by the lancastrians . their leader henry tudor , earl of richmond , became the first english monarch of the tudor dynasty by his victory and subsequent marriage to a yorkist princess .\n",
      "fought on 22 august 1485 , the battle was won by the lancastrians . their leader henry tudor , earl of richmond , became the first english monarch of the tudor dynasty by his victory and subsequent marriage to a yorkist princess . 1.0\n",
      "\n",
      "the books were later adapted into a television series and a feature film .\n",
      "the books were later adapted into a television series and a feature film . 1.0\n",
      "\n",
      "the mtr was immediately popular with residents of hong kong ; as a result , subsequent lines have been built to cover more territory . there are continual debates regarding how and where to expand the mtr network .\n",
      "the mtr was immediately popular with residents of hong kong ; as a result , subsequent lines have been built to cover more territory . there are continual debates regarding how and where to expand the mtr network . 1.0\n",
      "\n",
      "it is bounded by munshiganj district and comilla district on the north , noakhali district , lakshmipur district and barisal district on the south , comilla district on the east , and meghna river , shariatpur district and munshiganj district on the west .\n",
      "it is bounded by munshiganj district and comilla district on the north , noakhali district , lakshmipur district and barisal district on the south , comilla district on the east , and meghna river , shariatpur district and munshiganj district on the west . 1.0\n",
      "\n",
      "then we see her deliberately contract cholera and be transferred to hospital .\n",
      "then we see her deliberately contract cholera and be transferred to hospital . 1.0\n",
      "\n",
      "this arrangement provided most of the agricultural labor throughout the middle ages .\n",
      "this arrangement provided most of the agricultural labor throughout the middle ages . 1.0\n",
      "\n",
      "roadrunner records is a record label that concentrates primarily on heavy metal bands .\n",
      "roadrunner records is a record label that concentrates primarily on heavy metal bands . 1.0\n",
      "\n",
      "ashoka did not completely prohibit the killing of animals ; he prohibited gratuitous killings , he advocated restraint in the number that had to be killed for consumption , protected some of them , and in general condemned violent acts against animals , such as castration .\n",
      "ashoka did not completely prohibit the killing of animals ; he prohibited gratuitous killings , he advocated restraint in the number that had to be killed for consumption , protected some of them , and in general condemned violent acts against animals , such as castration . 1.0\n",
      "\n",
      "to reduce space and increase reading speed , virtually all braille books are transcribed in what is known as grade 2 braille , which uses a system of contractions to reduce space and speed the process of reading .\n",
      "to reduce space and increase reading speed , virtually all braille books are transcribed in what is known as grade 2 braille , which uses a system of contractions to reduce space and speed the process of reading . 1.0\n",
      "\n",
      "this is a considerably higher total than that of any other european country .\n",
      "this is a considerably higher total than that of any other european country . 1.0\n",
      "\n",
      "apples require cross-pollination between individuals by insects ; all are self-sterile , and self-pollination is impossible , making pollinating insects essential .\n",
      "apples require cross-pollination between individuals by insects ; all are self-sterile , and self-pollination is impossible , making pollinating insects essential . 1.0\n",
      "\n",
      "a final violent confrontation with police took place at glenrowan .\n",
      "a final violent confrontation with police took place at glenrowan . 1.0\n",
      "\n",
      "a tropical wave , which had previously spawned tropical depression six , interacted with an upper-level low pressure area to develop an area of deep convection near hispaniola on july 23 , 2003 .\n",
      "a tropical wave , which had previously spawned tropical depression six , interacted with an upper-level low pressure area to develop an area of deep convection near hispaniola on july 23 , 2003 . 1.0\n",
      "\n",
      "other females within the social group may assist in the birthing process and tend to the newborns .\n",
      "other females within the social group may assist in the birthing process and tend to the newborns . 1.0\n",
      "\n",
      "his reign spanned the years from 809 through 823 .\n",
      "his reign spanned the years from 809 through 823 . 1.0\n",
      "\n",
      "neem karoli was a life-long adept of bhakti yoga , and encouraged service to others as the highest form of unconditional devotion to god .\n",
      "neem karoli was a life-long adept of bhakti yoga , and encouraged service to others as the highest form of unconditional devotion to god . 1.0\n",
      "\n",
      "fives is a british sport believed to derive from the same origins as many racquet sports .\n",
      "fives is a british sport believed to derive from the same origins as many racquet sports . 1.0\n",
      "\n",
      "in 1269 it was the seat of a famous battle during the wars of guelphs and ghibellines and in 1479 it was besieged by neapolitan troops .\n",
      "in 1269 it was the seat of a famous battle during the wars of guelphs and ghibellines and in 1479 it was besieged by neapolitan troops . 1.0\n",
      "\n",
      "during their trip , aras and cirie made a pact for the final 2 ; while danielle and terry also conspired for their fate in the game during their time on exile .\n",
      "during their trip , aras and cirie made a pact for the final 2 ; while danielle and terry also conspired for their fate in the game during their time on exile . 1.0\n",
      "\n",
      "gorgoneia that decorate the shields of warriors on mid-5th century greek vases are considerably less grotesque and menacing .\n",
      "gorgoneia that decorate the shields of warriors on mid-5th century greek vases are considerably less grotesque and menacing . 1.0\n",
      "\n",
      "they are typically specified to withstand an impact of 3600 g and temperatures of over 1,000 c .\n",
      "they are typically specified to withstand an impact of 3600 g and temperatures of over 1,000 c . 1.0\n",
      "\n",
      "if k rei did exist , there is no evidence to suggest that the title tenn was used during the time period to which his reign has been assigned .\n",
      "if k rei did exist , there is no evidence to suggest that the title tenn was used during the time period to which his reign has been assigned . 1.0\n",
      "\n",
      "once a flourishing saxon riverport , it lies in the waveney valley and is a popular boating center .\n",
      "once a flourishing saxon riverport , it lies in the waveney valley and is a popular boating center . 1.0\n",
      "\n",
      "the circuit cost approximately us $ 150 million to construct .\n",
      "the circuit cost approximately us $ 150 million to construct . 1.0\n",
      "\n",
      "a page that is a redirect can be moved like any other page .\n",
      "a page that is a redirect can be moved like any other page . 1.0\n",
      "\n",
      "then cogswell asked gallaudet to travel to europe to study methods for teaching deaf students , especially those of the braidwood family in edinburgh , scotland .\n",
      "then cogswell asked gallaudet to travel to europe to study methods for teaching deaf students , especially those of the braidwood family in edinburgh , scotland . 1.0\n",
      "\n",
      "he is widely known for his roles as little joe cartwright in bonanza , charles ingalls in little house on the prairie , and jonathan smith in highway to heaven .\n",
      "he is widely known for his roles as little joe cartwright in bonanza , charles ingalls in little house on the prairie , and jonathan smith in highway to heaven . 1.0\n",
      "\n",
      "since minamoto no yoritomo launched the shogunate , the true power had been in the hand of the shoguns , who were mistaken several times for the emperors of japan by the chinese government .\n",
      "since minamoto no yoritomo launched the shogunate , the true power had been in the hand of the shoguns , who were mistaken several times for the emperors of japan by the chinese government . 1.0\n",
      "\n",
      "swiss cheese is a generic name common to many countries for several related varieties of cheese which resemble the swiss emmental .\n",
      "swiss cheese is a generic name common to many countries for several related varieties of cheese which resemble the swiss emmental . 1.0\n",
      "\n",
      "several of these tropical cyclones have caused deaths or heavy property damage , usually due to flooding caused by rain .\n",
      "several of these tropical cyclones have caused deaths or heavy property damage , usually due to flooding caused by rain . 1.0\n",
      "\n",
      "through these feedback processes , the cryosphere plays a significant role in global climate and in climate model response to global change .\n",
      "through these feedback processes , the cryosphere plays a significant role in global climate and in climate model response to global change . 1.0\n",
      "\n",
      "about 20 % of patients with acute ischemic colitis may develop a long-term complication known as chronic ischemic colitis .\n",
      "about 20 % of patients with acute ischemic colitis may develop a long-term complication known as chronic ischemic colitis . 1.0\n",
      "\n",
      "fiction records is a uk formerly indie label , now wholly owned by polydor a subsidiary of universal music group , started by chris parry in 1978 that is best known as being the home of the cure for over 20 years .\n",
      "fiction records is a uk formerly indie label , now wholly owned by polydor a subsidiary of universal music group , started by chris parry in 1978 that is best known as being the home of the cure for over 20 years . 1.0\n",
      "\n",
      "alexander stepanovich popov was a russian physicist who first demonstrated the practical application of electromagnetic waves , although he did not apply for a patent for his invention .\n",
      "alexander stepanovich popov was a russian physicist who first demonstrated the practical application of electromagnetic waves , although he did not apply for a patent for his invention . 1.0\n",
      "\n",
      "in nature , there is a strong evolutionary pressure for animals to blend into their environment or conceal their shape ; for prey animals to avoid predators and for predators to be able to sneak up on prey .\n",
      "in nature , there is a strong evolutionary pressure for animals to blend into their environment or conceal their shape ; for prey animals to avoid predators and for predators to be able to sneak up on prey . 1.0\n",
      "\n",
      "in switzerland , the constitutional ban on absinthe was repealed in 2000 during an overhaul of the national constitution , although the prohibition was written into ordinary law instead .\n",
      "in switzerland , the constitutional ban on absinthe was repealed in 2000 during an overhaul of the national constitution , although the prohibition was written into ordinary law instead . 1.0\n",
      "\n",
      "one theory suggests that the source of the name is an ancient finnic language , in which it means \" dark \" and \" turbid \" .\n",
      "one theory suggests that the source of the name is an ancient finnic language , in which it means \" dark \" and \" turbid \" . 1.0\n",
      "\n",
      "the geological composition of rock and soil dictates the type of shore which is created .\n",
      "the geological composition of rock and soil dictates the type of shore which is created . 1.0\n",
      "\n",
      "he held the imperial seal and could convene all other viziers to attend to affairs of the state ; the viziers in conference were called \" kubbealt viziers \" in reference to their meeting place , the kubbealt in topkap palace .\n",
      "he held the imperial seal and could convene all other viziers to attend to affairs of the state ; the viziers in conference were called \" kubbealt viziers \" in reference to their meeting place , the kubbealt in topkap palace . 1.0\n",
      "\n",
      "combining their observations with thermal measurements taken in november 2000 , the team estimated the size of the components of the system .\n",
      "combining their observations with thermal measurements taken in november 2000 , the team estimated the size of the components of the system . 1.0\n",
      "\n",
      "many beijing office towers were evacuated , including the building housing the media offices for the organizers of the 2008 summer olympics .\n",
      "many beijing office towers were evacuated , including the building housing the media offices for the organizers of the 2008 summer olympics . 1.0\n",
      "\n",
      "the sculpture was made from the same weathering steel as the angel of the north sculpture , which gradually develops a tightly adhering oxide layer as it is exposed to the elements .\n",
      "the sculpture was made from the same weathering steel as the angel of the north sculpture , which gradually develops a tightly adhering oxide layer as it is exposed to the elements . 1.0\n",
      "\n",
      "valzacchi and annina now offer their services to him .\n",
      "valzacchi and annina now offer their services to him . 1.0\n",
      "\n",
      "because carbon dioxide is released at a faster rate through the acid-base reaction than through fermentation , breads made by chemical leavening are called quick breads .\n",
      "because carbon dioxide is released at a faster rate through the acid-base reaction than through fermentation , breads made by chemical leavening are called quick breads . 1.0\n",
      "\n",
      "many publications , such as the suikoden world guide and suikoden encyclopedia , exist for the suikoden series , though the majority are only in japanese .\n",
      "many publications , such as the suikoden world guide and suikoden encyclopedia , exist for the suikoden series , though the majority are only in japanese . 1.0\n",
      "\n",
      "as an adult , he was charged with a long list of crimes , including possession of counterfeit money , loitering and prowling , burglary , kidnapping and armed robbery .\n",
      "as an adult , he was charged with a long list of crimes , including possession of counterfeit money , loitering and prowling , burglary , kidnapping and armed robbery . 1.0\n",
      "\n",
      "most baseball uniforms have the names and uniform numbers of players who wear them , usually on the backs of the uniforms to distinguish players from one other .\n",
      "most baseball uniforms have the names and uniform numbers of players who wear them , usually on the backs of the uniforms to distinguish players from one other . 1.0\n",
      "\n",
      "it was founded where the nascent sydney to melbourne road crossed water in the form of the yass river .\n",
      "it was founded where the nascent sydney to melbourne road crossed water in the form of the yass river . 1.0\n",
      "\n",
      "heights are measured to the structural height , which includes architectural elements , but not communications spires or antennas , per the guidelines of the council on tall buildings and urban habitat .\n",
      "heights are measured to the structural height , which includes architectural elements , but not communications spires or antennas , per the guidelines of the council on tall buildings and urban habitat . 1.0\n",
      "\n",
      "the decimal separator or decimal point or decimal comma is a symbol used to mark the boundary between the integral and the fractional parts of a decimal number in a positional numeral system .\n",
      "the decimal separator or decimal point or decimal comma is a symbol used to mark the boundary between the integral and the fractional parts of a decimal number in a positional numeral system . 1.0\n",
      "\n",
      "the dam was completed in 1974 and was designed to store water from the indus river for irrigation and flood control , and for the generation of hydro-electric power .\n",
      "the dam was completed in 1974 and was designed to store water from the indus river for irrigation and flood control , and for the generation of hydro-electric power . 1.0\n",
      "\n",
      "particularly , community-building activities that are not strictly \" on topic \" may be allowed , especially when initiated by committed wikipedians with good edit histories .\n",
      "particularly , community-building activities that are not strictly \" on topic \" may be allowed , especially when initiated by committed wikipedians with good edit histories . 1.0\n",
      "\n",
      "xanten is also a popular filming location and the site of many concerts .\n",
      "xanten is also a popular filming location and the site of many concerts . 1.0\n",
      "\n",
      "a reconnaissance aircraft flight into the system on september 20 reported a well-defined low and strong wind gusts in squalls as the system tracked into the northeastern gulf of mexico , along with limited and disorganized thunderstorm activity .\n",
      "a reconnaissance aircraft flight into the system on september 20 reported a well-defined low and strong wind gusts in squalls as the system tracked into the northeastern gulf of mexico , along with limited and disorganized thunderstorm activity . 1.0\n",
      "\n",
      "in electronics , a voltage divider is a simple linear circuit that produces an output voltage that is a fraction of its input voltage . voltage division refers to the partitioning of a voltage among the components of the divider .\n",
      "in electronics , a voltage divider is a simple linear circuit that produces an output voltage that is a fraction of its input voltage . voltage division refers to the partitioning of a voltage among the components of the divider . 1.0\n",
      "\n",
      "the cynics were an influential group of philosophers from the ancient school of cynicism .\n",
      "the cynics were an influential group of philosophers from the ancient school of cynicism . 1.0\n",
      "\n",
      "arche belongs to the carme group , made up of irregular retrograde moons orbiting jupiter at a distance ranging between 23 and 24 gm and at an inclination of about 165 .\n",
      "arche belongs to the carme group , made up of irregular retrograde moons orbiting jupiter at a distance ranging between 23 and 24 gm and at an inclination of about 165 . 1.0\n",
      "\n",
      "loch ness is best known for the alleged sightings of the legendary loch ness monster , also known as \" nessie \" .\n",
      "loch ness is best known for the alleged sightings of the legendary loch ness monster , also known as \" nessie \" . 1.0\n",
      "\n",
      "typically , a fast shutter speed will require a larger aperture to ensure sufficient light exposure , and a slow shutter speed will require a smaller aperture to avoid excessive exposure .\n",
      "typically , a fast shutter speed will require a larger aperture to ensure sufficient light exposure , and a slow shutter speed will require a smaller aperture to avoid excessive exposure . 1.0\n",
      "\n",
      "railways now bypass the three major falls , and much of the trade of central africa passes along the river , including copper , palm oil , sugar , coffee , and cotton .\n",
      "railways now bypass the three major falls , and much of the trade of central africa passes along the river , including copper , palm oil , sugar , coffee , and cotton . 1.0\n",
      "\n",
      "security-enhanced linux is a linux feature that provides a mechanism for supporting access control security policies , including u.s. department of defense style mandatory access controls , through the use of linux security modules in the linux kernel .\n",
      "security-enhanced linux is a linux feature that provides a mechanism for supporting access control security policies , including u.s. department of defense style mandatory access controls , through the use of linux security modules in the linux kernel . 1.0\n",
      "\n",
      "johns and williams would have spent the next seven months working on a government work party in the local area , before being transferred to millbank prison .\n",
      "johns and williams would have spent the next seven months working on a government work party in the local area , before being transferred to millbank prison . 1.0\n",
      "\n",
      "it lies on the southern side of lake constance .\n",
      "it lies on the southern side of lake constance . 1.0\n",
      "\n",
      "an england batting collapse resulted in an innings defeat , denying bradman the opportunity to bat again and so his career average finished at 99.94 ; if he had scored just four runs in his last innings , it would have been 100 . a story developed over the years that claimed bradman missed the ball because of tears in his eyes , a claim bradman denied for the rest of his life .\n",
      "an england batting collapse resulted in an innings defeat , denying bradman the opportunity to bat again and so his career average finished at 99.94 ; if he had scored just four runs in his last innings , it would have been 100 . a story developed over the years that claimed bradman missed the ball because of tears in his eyes , a claim bradman denied for the rest of his life . 1.0\n",
      "\n",
      "the croatia national football team represents the republic of croatia in international football .\n",
      "the croatia national football team represents the republic of croatia in international football . 1.0\n",
      "\n",
      "then , on august 15 , 1971 , united states president richard nixon announced that the united states dollar would no longer be convertible to gold , effectively ending the bretton woods system .\n",
      "then , on august 15 , 1971 , united states president richard nixon announced that the united states dollar would no longer be convertible to gold , effectively ending the bretton woods system . 1.0\n",
      "\n",
      "after holding the title for just over a month , they dropped them to john cena and batista on the august 4 episode of raw .\n",
      "after holding the title for just over a month , they dropped them to john cena and batista on the august 4 episode of raw . 1.0\n",
      "\n",
      "in general relativity , the effects of gravitation are ascribed to spacetime curvature instead of a force .\n",
      "in general relativity , the effects of gravitation are ascribed to spacetime curvature instead of a force . 1.0\n",
      "\n",
      "it is rare and valuable in finer grades and has been prized as a gem and ornamental stone for thousands of years owing to its unique hue .\n",
      "it is rare and valuable in finer grades and has been prized as a gem and ornamental stone for thousands of years owing to its unique hue . 1.0\n",
      "\n",
      "for adam baldwin , who grew up watching westerns , the role of jayne cobb was particularly resonant .\n",
      "for adam baldwin , who grew up watching westerns , the role of jayne cobb was particularly resonant . 1.0\n",
      "\n",
      "a tuning fork or electronic tuning device may be used as a reference pitch , though in ensemble rehearsals often a piano is used .\n",
      "a tuning fork or electronic tuning device may be used as a reference pitch , though in ensemble rehearsals often a piano is used . 1.0\n",
      "\n",
      "peter became extratropical on december 11 , and was absorbed by a cold front shortly thereafter .\n",
      "peter became extratropical on december 11 , and was absorbed by a cold front shortly thereafter . 1.0\n",
      "\n",
      "in 2003 , dushku appeared in wrong turn , a horror film in which she had the starring role , and the kiss , an independent comedy-drama .\n",
      "in 2003 , dushku appeared in wrong turn , a horror film in which she had the starring role , and the kiss , an independent comedy-drama . 1.0\n",
      "\n",
      "his fighting style is primarily judo but has been modified to fight without the use of a judogi .\n",
      "his fighting style is primarily judo but has been modified to fight without the use of a judogi . 1.0\n",
      "\n",
      "in 1901 , an independent governor was again appointed .\n",
      "in 1901 , an independent governor was again appointed . 1.0\n",
      "\n",
      "the album primarily deals with social issues that the band points on through various songs .\n",
      "the album primarily deals with social issues that the band points on through various songs . 1.0\n",
      "\n",
      "ganymede and callisto , at their maximum separation , are the likeliest targets for potential naked-eye observation .\n",
      "ganymede and callisto , at their maximum separation , are the likeliest targets for potential naked-eye observation . 1.0\n",
      "\n",
      "word processing templates enable the ability to bypass the initial setup and configuration time necessary to create standardized documents such as a resume .\n",
      "word processing templates enable the ability to bypass the initial setup and configuration time necessary to create standardized documents such as a resume . 1.0\n",
      "\n",
      "a state religion is a religious body or creed officially endorsed by the state .\n",
      "a state religion is a religious body or creed officially endorsed by the state . 1.0\n",
      "\n",
      "the cibf was founded by the general egyptian book organisation , a government publishers and retailers group , in 1969 to coincide with celebrations of the 1000th anniversary of the founding of the city of cairo .\n",
      "the cibf was founded by the general egyptian book organisation , a government publishers and retailers group , in 1969 to coincide with celebrations of the 1000th anniversary of the founding of the city of cairo . 1.0\n",
      "\n",
      "it initially was completely dark , but as voyager 2 approached the planet , a bright core developed and can be seen in most of the highest-resolution images .\n",
      "it initially was completely dark , but as voyager 2 approached the planet , a bright core developed and can be seen in most of the highest-resolution images . 1.0\n",
      "\n",
      "a perfectly elastic collision is defined as one in which there is no loss of kinetic energy in the collision . an inelastic collision is one in which part of the kinetic energy is changed to some other form of energy in the collision .\n",
      "a perfectly elastic collision is defined as one in which there is no loss of kinetic energy in the collision . an inelastic collision is one in which part of the kinetic energy is changed to some other form of energy in the collision . 1.0\n",
      "\n",
      "problems may arise particularly with disposable soft lenses ; if the surface tension between the lens and the finger is too great the lens may turn itself inside out ; alternatively it may fold itself in half . when the lens first contacts the eye , a brief period of irritation may ensue as the eye acclimatizes to the lens and also as dirt on the lens irritates the eye .\n",
      "problems may arise particularly with disposable soft lenses ; if the surface tension between the lens and the finger is too great the lens may turn itself inside out ; alternatively it may fold itself in half . when the lens first contacts the eye , a brief period of irritation may ensue as the eye acclimatizes to the lens and also as dirt on the lens irritates the eye . 1.0\n",
      "\n",
      "mary toft , also spelled tofts , was an english woman from godalming , surrey , who in 1726 became the subject of considerable controversy when she tricked doctors into believing that she had given birth to rabbits .\n",
      "mary toft , also spelled tofts , was an english woman from godalming , surrey , who in 1726 became the subject of considerable controversy when she tricked doctors into believing that she had given birth to rabbits . 1.0\n",
      "\n",
      "sdlp leader john hume , mp , identified the possibility that a negotiated settlement might be possible and began secret talks with adams in 1988 .\n",
      "sdlp leader john hume , mp , identified the possibility that a negotiated settlement might be possible and began secret talks with adams in 1988 . 1.0\n",
      "\n",
      "a brief stint on go kart records saw the release of \" fly the flag \" , and now with their latest release of \" windward tides and wayward sails \" in 2003 finds them on union label group .\n",
      "a brief stint on go kart records saw the release of \" fly the flag \" , and now with their latest release of \" windward tides and wayward sails \" in 2003 finds them on union label group . 1.0\n",
      "\n",
      "for the next several weeks , kozlov was interviewed on wwe programming , proclaiming his love for \" double double e \" but also began drawing a villainous response after declaring his superiority over whatever wrestlers were competing at the time , saying \" i could beat both of them . \n",
      "for the next several weeks , kozlov was interviewed on wwe programming , proclaiming his love for \" double double e \" but also began drawing a villainous response after declaring his superiority over whatever wrestlers were competing at the time , saying \" i could beat both of them .  1.0\n",
      "\n",
      "according to kojiki , the entrance to yomi lies in izumo province and was sealed off by izanagi-no-mikoto upon his flight from yomi , at which time he permanently blocked the entrance by placing a massive boulder at the base of the slope that leads to yomi . upon his return to ashihara-no-nakatsukuni , izanagi noted that yomi is a \" polluted land \" .\n",
      "according to kojiki , the entrance to yomi lies in izumo province and was sealed off by izanagi-no-mikoto upon his flight from yomi , at which time he permanently blocked the entrance by placing a massive boulder at the base of the slope that leads to yomi . upon his return to ashihara-no-nakatsukuni , izanagi noted that yomi is a \" polluted land \" . 1.0\n",
      "\n",
      "the rice plants in the strain can be bred to other rice strains or cultivars , and if desirable plants are produced , these are further bred to stabilize the desirable traits ; the stabilized plants that can be propagated and \" come true \" are given a cultivar name and released into production to be used by farmers .\n",
      "the rice plants in the strain can be bred to other rice strains or cultivars , and if desirable plants are produced , these are further bred to stabilize the desirable traits ; the stabilized plants that can be propagated and \" come true \" are given a cultivar name and released into production to be used by farmers . 1.0\n",
      "\n",
      "due to their fast growth , the foremost benefit of these trees is their wood .\n",
      "due to their fast growth , the foremost benefit of these trees is their wood . 1.0\n",
      "\n",
      "its status as an official geological period was ratified in 2004 by the international union of geological sciences , making it the first new geological period declared in 120 years .\n",
      "its status as an official geological period was ratified in 2004 by the international union of geological sciences , making it the first new geological period declared in 120 years . 1.0\n",
      "\n",
      "more specifically , the term stratus is used to describe flat , hazy , featureless clouds of low altitude varying in color from dark gray to nearly white . a \" cloudy day \" usually features a sky filled with stratus clouds obscuring the disk of the sun .\n",
      "more specifically , the term stratus is used to describe flat , hazy , featureless clouds of low altitude varying in color from dark gray to nearly white . a \" cloudy day \" usually features a sky filled with stratus clouds obscuring the disk of the sun . 1.0\n",
      "\n",
      "nuremberg was then an important and prosperous city , a center for publishing and many luxury trades .\n",
      "nuremberg was then an important and prosperous city , a center for publishing and many luxury trades . 1.0\n",
      "\n",
      "super mario 64 is also characterized by featuring more puzzles than earlier mario games .\n",
      "super mario 64 is also characterized by featuring more puzzles than earlier mario games . 1.0\n",
      "\n",
      "their escapades earned them a cover shot and a nude pictorial in a playboy spread .\n",
      "their escapades earned them a cover shot and a nude pictorial in a playboy spread . 1.0\n",
      "\n",
      "in 1971 , she witnessed the impoverished conditions of the trash collectors in cairo , egypt , and decided to live among them .\n",
      "in 1971 , she witnessed the impoverished conditions of the trash collectors in cairo , egypt , and decided to live among them . 1.0\n",
      "\n",
      "nearby there is the goobang national park , and peak hill which features an open cut mine that can be toured during holidays .\n",
      "nearby there is the goobang national park , and peak hill which features an open cut mine that can be toured during holidays . 1.0\n",
      "\n",
      "good friday , also called holy friday , black friday , or great friday , is a holiday observed primarily by adherents to christianity commemorating the crucifixion of jesus and his death at calvary .\n",
      "good friday , also called holy friday , black friday , or great friday , is a holiday observed primarily by adherents to christianity commemorating the crucifixion of jesus and his death at calvary . 1.0\n",
      "\n",
      "as of , it lies at latitude 66 33 39 south of the equator .\n",
      "as of , it lies at latitude 66 33 39 south of the equator . 1.0\n",
      "\n",
      "along with herculaneum , its sister city , pompeii was destroyed , and completely buried , during a long catastrophic eruption of the volcano mount vesuvius spanning two days in 79 ad .\n",
      "along with herculaneum , its sister city , pompeii was destroyed , and completely buried , during a long catastrophic eruption of the volcano mount vesuvius spanning two days in 79 ad . 1.0\n",
      "\n",
      "human interference has nearly exterminated them in many areas , and , except for the beech forests of the austrian alps , forests of deciduous trees are rarely found .\n",
      "human interference has nearly exterminated them in many areas , and , except for the beech forests of the austrian alps , forests of deciduous trees are rarely found . 1.0\n",
      "\n",
      "the sheer weight of the continental icecap sitting on top of lake vostok is believed to contribute to the high oxygen concentration .\n",
      "the sheer weight of the continental icecap sitting on top of lake vostok is believed to contribute to the high oxygen concentration . 1.0\n",
      "\n",
      "the album peaked at number 10 on the u.s. billboard 200 chart , selling 48,397 copies in its first week of release ; it was eventually certified gold by the riaa in 2008 .\n",
      "the album peaked at number 10 on the u.s. billboard 200 chart , selling 48,397 copies in its first week of release ; it was eventually certified gold by the riaa in 2008 . 1.0\n",
      "\n",
      "the adjacent town of gzhatsk was renamed gagarin in 1968 in his honor .\n",
      "the adjacent town of gzhatsk was renamed gagarin in 1968 in his honor . 1.0\n",
      "\n",
      "at backlash , benoit retained the world title , after he forced michaels to submit to the sharpshooter .\n",
      "at backlash , benoit retained the world title , after he forced michaels to submit to the sharpshooter . 1.0\n",
      "\n",
      "during the first boer war , the city was besieged by republican forces in december 1880 and march 1881 .\n",
      "during the first boer war , the city was besieged by republican forces in december 1880 and march 1881 . 1.0\n",
      "\n",
      "one of the defining aspects of the nintendo gamecube is the rejuvenated relationship between nintendo and its licensees . unlike previous generations in which nintendo was seen by some as bullying its third-party game developers , nintendo openly sought game-development aid on the nintendo gamecube .\n",
      "one of the defining aspects of the nintendo gamecube is the rejuvenated relationship between nintendo and its licensees . unlike previous generations in which nintendo was seen by some as bullying its third-party game developers , nintendo openly sought game-development aid on the nintendo gamecube . 1.0\n",
      "\n",
      "none of your watched items were edited in the time period displayed .\n",
      "none of your watched items were edited in the time period displayed . 1.0\n",
      "\n",
      "originally made for the apple ii , they were later ported to other platforms .\n",
      "originally made for the apple ii , they were later ported to other platforms . 1.0\n",
      "\n",
      "his work is displayed in the museum of modern art in yerevan .\n",
      "his work is displayed in the museum of modern art in yerevan . 1.0\n",
      "\n",
      "he was a prolific discoverer of asteroids , discovering 122 in all , from 136 austria in 1874 to 1073 gellivara in 1923 .\n",
      "he was a prolific discoverer of asteroids , discovering 122 in all , from 136 austria in 1874 to 1073 gellivara in 1923 . 1.0\n",
      "\n",
      "males usually weigh about 500 lbs , but very large & old specimens can reach up to 2000 lbs .\n",
      "males usually weigh about 500 lbs , but very large & old specimens can reach up to 2000 lbs . 1.0\n",
      "\n",
      "it was used to signify those who appreciated austen in the \" wrong \" way and the term , according to lynch , is \" now used almost exclusively about and against other people \" .\n",
      "it was used to signify those who appreciated austen in the \" wrong \" way and the term , according to lynch , is \" now used almost exclusively about and against other people \" . 1.0\n",
      "\n",
      "a committee of the institute appoints the laureates for the nobel prize in physiology or medicine .\n",
      "a committee of the institute appoints the laureates for the nobel prize in physiology or medicine . 1.0\n",
      "\n",
      "montgomery county of the u.s. state of maryland is situated just north of washington , d.c. and southwest of baltimore .\n",
      "montgomery county of the u.s. state of maryland is situated just north of washington , d.c. and southwest of baltimore . 1.0\n",
      "\n",
      "this spelling was later corrupted to ouisconsin by other french explorers , and over time this version became the french name for both the wisconsin river and the surrounding lands .\n",
      "this spelling was later corrupted to ouisconsin by other french explorers , and over time this version became the french name for both the wisconsin river and the surrounding lands . 1.0\n",
      "\n",
      "several people required rescue assistance , and in comal county a car accident caused three fatalities .\n",
      "several people required rescue assistance , and in comal county a car accident caused three fatalities . 1.0\n",
      "\n",
      "schigolch removes the body while geschwitz contemplates suicide , an idea she gives up when she realizes that lulu will not be moved by it .\n",
      "schigolch removes the body while geschwitz contemplates suicide , an idea she gives up when she realizes that lulu will not be moved by it . 1.0\n",
      "\n",
      "anti-tank dogs were dogs taught to carry explosives to tanks , armored vehicles and other military targets .\n",
      "anti-tank dogs were dogs taught to carry explosives to tanks , armored vehicles and other military targets . 1.0\n",
      "\n",
      "a historic organ was installed in it by the austrian firm rieger , in 1907 .\n",
      "a historic organ was installed in it by the austrian firm rieger , in 1907 . 1.0\n",
      "\n",
      "the birthday cake is traditionally highly decorated , and typically covered with lit candles when presented , the number of candles signifying the age of the celebrant .\n",
      "the birthday cake is traditionally highly decorated , and typically covered with lit candles when presented , the number of candles signifying the age of the celebrant . 1.0\n",
      "\n",
      "he secured a top post at the vienna state opera in 1943 , eventually becoming music director .\n",
      "he secured a top post at the vienna state opera in 1943 , eventually becoming music director . 1.0\n",
      "\n",
      "the family - mother , father , old woman , young man , baby , and dog - are attempting to eat pieces of metal , such as chains , bicycle handlebars , and rifles .\n",
      "the family - mother , father , old woman , young man , baby , and dog - are attempting to eat pieces of metal , such as chains , bicycle handlebars , and rifles . 1.0\n",
      "\n",
      "in wales , four church of england dioceses were disestablished in 1920 , becoming separated from the church of england in the process and subsequently becoming the church in wales .\n",
      "in wales , four church of england dioceses were disestablished in 1920 , becoming separated from the church of england in the process and subsequently becoming the church in wales . 1.0\n",
      "\n",
      "in the 19th century and the first part of the 20th , baseball shoes were commonly black in color .\n",
      "in the 19th century and the first part of the 20th , baseball shoes were commonly black in color . 1.0\n",
      "\n",
      "hydrostatic equilibrium occurs when compression due to gravity is balanced by a pressure gradient which creates a pressure gradient force in the opposite direction .\n",
      "hydrostatic equilibrium occurs when compression due to gravity is balanced by a pressure gradient which creates a pressure gradient force in the opposite direction . 1.0\n",
      "\n",
      "the true cross is the name for physical remnants which , by a christian tradition , are believed to be from the cross upon which jesus was crucified .\n",
      "the true cross is the name for physical remnants which , by a christian tradition , are believed to be from the cross upon which jesus was crucified . 1.0\n",
      "\n",
      "seafloor spreading occurs at mid-ocean ridges , where new oceanic crust is formed through volcanic activity and then gradually moves away from the ridge .\n",
      "seafloor spreading occurs at mid-ocean ridges , where new oceanic crust is formed through volcanic activity and then gradually moves away from the ridge . 1.0\n",
      "\n",
      "in 1887 the school relocated to the east lake community of birmingham .\n",
      "in 1887 the school relocated to the east lake community of birmingham . 1.0\n",
      "\n",
      "some han chinese believe they share common ancestors , mythically ascribed to the patriarchs yellow emperor and yan emperor , some thousands of years ago .\n",
      "some han chinese believe they share common ancestors , mythically ascribed to the patriarchs yellow emperor and yan emperor , some thousands of years ago . 1.0\n",
      "\n",
      "simms works alongside co-host and designer daniel kucan to redecorate a room of a home in just two days and with only $ 2,500 .\n",
      "simms works alongside co-host and designer daniel kucan to redecorate a room of a home in just two days and with only $ 2,500 . 1.0\n",
      "\n",
      "harvey became a strong extratropical storm during the night on august 8 and survived another few days before dissipating northwest of the azores on august 14 .\n",
      "harvey became a strong extratropical storm during the night on august 8 and survived another few days before dissipating northwest of the azores on august 14 . 1.0\n",
      "\n",
      "in response to the weather system , the american national weather service issued wind watches for the oregon coast .\n",
      "in response to the weather system , the american national weather service issued wind watches for the oregon coast . 1.0\n",
      "\n",
      "it reached a peak position of number thirty-seven on the billboard hot modern rock tracks chart .\n",
      "it reached a peak position of number thirty-seven on the billboard hot modern rock tracks chart . 1.0\n",
      "\n",
      "pskov is an ancient city located in the north-west of russia about east from the estonian border , on the velikaya river .\n",
      "pskov is an ancient city located in the north-west of russia about east from the estonian border , on the velikaya river . 1.0\n",
      "\n",
      "the major scale may predominate the minor scale in western music because of its unique harmonic properties ; in particular the major third is much stronger in the harmonic series than the minor third .\n",
      "the major scale may predominate the minor scale in western music because of its unique harmonic properties ; in particular the major third is much stronger in the harmonic series than the minor third . 1.0\n",
      "\n",
      "so impressed was rostropovich with his young pupil that at the end of her study with him , he declared her \" the only cellist of the younger generation that could equal and overtake own achievement . \n",
      "so impressed was rostropovich with his young pupil that at the end of her study with him , he declared her \" the only cellist of the younger generation that could equal and overtake own achievement .  1.0\n",
      "\n",
      "the marriage was marked from the outset by sexual passion and emotional insensitivity when tolstoy , on the eve of their marriage , gave her his diaries detailing his extensive sexual past and the fact that one of the serfs on his estate had borne him a son .\n",
      "the marriage was marked from the outset by sexual passion and emotional insensitivity when tolstoy , on the eve of their marriage , gave her his diaries detailing his extensive sexual past and the fact that one of the serfs on his estate had borne him a son . 1.0\n",
      "\n",
      "born as alfons karg , he was trained as a telecommunications technician , but soon became disenchanted with this profession .\n",
      "born as alfons karg , he was trained as a telecommunications technician , but soon became disenchanted with this profession . 1.0\n",
      "\n",
      "some features , however , are reminiscent of the scout movement .\n",
      "some features , however , are reminiscent of the scout movement . 1.0\n",
      "\n",
      "the shinto pantheon alone consists of an uncountable number of kami .\n",
      "the shinto pantheon alone consists of an uncountable number of kami . 1.0\n",
      "\n",
      "this message earned saddam a great deal of popularity in many sectors of the arab world .\n",
      "this message earned saddam a great deal of popularity in many sectors of the arab world . 1.0\n",
      "\n",
      "these notable synagogues include ; the great synagogue of rome , the new synagogue , the leopoldst_dter tempel , the grand choral synagogue , the great synagogue , the moscow choral synagogue , the great synagogue of florence , the great synagogue , plzen , the great synagogue , the ko ice orthodox synagogue , the novi sad synagogue , the szeged synagogue , the sofia synagogue and the great synagogue of oran .\n",
      "these notable synagogues include ; the great synagogue of rome , the new synagogue , the leopoldstì_dter tempel , the grand choral synagogue , the great synagogue , the moscow choral synagogue , the great synagogue of florence , the great synagogue , plzen , the great synagogue , the ko ice orthodox synagogue , the novi sad synagogue , the szeged synagogue , the sofia synagogue and the great synagogue of oran . 0.9987908101571947\n",
      "\n",
      "charon , discovered in 1978 at the united states naval observatory flagstaff station , is the largest satellite of the dwarf planet pluto . following the 2005 discovery of two other natural satellites of pluto , charon may also be referred to as pluto i . the new horizons mission is scheduled to visit charon and pluto in july 2015 .\n",
      "charon , discovered in 1978 at the united states naval observatory flagstaff station , is the largest satellite of the dwarf planet pluto . following the 2005 discovery of two other natural satellites of pluto , charon may also be referred to as pluto i. the new horizons mission is scheduled to visit charon and pluto in july 2015 . 0.9985007496251874\n",
      "\n",
      "for much of the twentieth century it was used by the queensland government as a settlement for aboriginals considered guilty of such infractions as being \" disruptive \" , being pregnant to a white man or being born with \" mixed blood \" .\n",
      "for much of the twentieth century it was used by the queensland government as a settlement for aboriginals considered guilty of such infractions as being \" disruptive \" , being pregnant to a white man or being born with  \" mixed blood \" . 0.9978947368421053\n",
      "\n",
      "gr_nberg and fert have received a number of prestigious prizes and awards for their discovery and contributions to the field of spintronics including the 2007 nobel prize in physics .\n",
      "grì_nberg and fert have received a number of prestigious prizes and awards for their discovery and contributions to the field of spintronics including the 2007 nobel prize in physics . 0.997275204359673\n",
      "\n",
      "in 1975 the old district steinfurt was merged with the district tecklenburg , and together with greven and saerbeck from the former district m_nster the current district was formed .\n",
      "in 1975 the old district steinfurt was merged with the district tecklenburg , and together with greven and saerbeck from the former district mì_nster the current district was formed . 0.9972602739726028\n",
      "\n",
      "in contrast , the 2007 microp_dia has roughly 65,000 articles , the vast majority of which contain fewer than 750 words , no references , and no named contributors .\n",
      "in contrast , the 2007 micropì_dia has roughly 65,000 articles , the vast majority of which contain fewer than 750 words , no references , and no named contributors . 0.9969788519637462\n",
      "\n",
      "monte plata is a province of the dominican republic , and also the name of its capital city . it was split from san crist_bal in 1992 .\n",
      "monte plata is a province of the dominican republic , and also the name of its capital city . it was split from san cristì_bal in 1992 . 0.996309963099631\n",
      "\n",
      "however , the new king , louis xviii , knew that ideas of nationalism and democracy still lingered in his country ; hence the establishment and signing of the charte constitutionnelle franaise , the french constitution otherwise known as la charte .\n",
      "however , the new king , louis xviii , knew that ideas of nationalism and democracy still lingered in his country ; hence the establishment and signing of the charte constitutionnelle franì¤aise , the french constitution otherwise known as la charte . 0.996\n",
      "\n",
      "still visible throughout former east berlin are the characteristic \" ampelm_nnchen \" on some pedestrian traffic lights .\n",
      "still visible throughout former east berlin are the characteristic \" ampelmì_nnchen \" on some pedestrian traffic lights . 0.995850622406639\n",
      "\n",
      "darth maul appears in as the apprentice of sith lord darth sidious who sends him to capture queen padm amidala and eliminate the two jedi , qui-gon jinn and obi-wan kenobi .\n",
      "darth maul appears in as the apprentice of sith lord darth sidious who sends him to capture queen padmì© amidala and eliminate the two jedi , qui-gon jinn and obi-wan kenobi . 0.9942528735632183\n",
      "\n",
      "riel sought to preserve mtis rights and culture as their homelands in the northwest came progressively under the canadian sphere of influence .\n",
      "riel sought to preserve mì©tis rights and culture as their homelands in the northwest came progressively under the canadian sphere of influence . 0.9930555555555556\n",
      "\n",
      "the atmosphere was so intense that gring , in a telephone call that evening , stated : \" there is unbelievable jubilation in austria .\n",
      "the atmosphere was so intense that gì¦ring , in a telephone call that evening , stated : \" there is unbelievable jubilation in austria . 0.9925925925925926\n",
      "\n",
      "it is currently used mostly for football matches and is the home stadium of union sportive du foyer de la rgie abidjan-niger .\n",
      "it is currently used mostly for football matches and is the home stadium of union sportive du foyer de la rì©gie abidjan-niger . 0.9921259842519685\n",
      "\n",
      "jeanne demessieux had a prodigious memory : she had memorized more than 2,500 works , including the complete organ works of johann sebastian bach , csar franck , franz liszt , felix mendelssohn and marcel dupr .\n",
      "jeanne demessieux had a prodigious memory : she had memorized more than 2,500 works , including the complete organ works of johann sebastian bach , cì©sar franck , franz liszt , felix mendelssohn and marcel duprì© . 0.9906103286384976\n",
      "\n",
      "criss is a commune in the sarthe department in the pays de la loire region in north-western france .\n",
      "crissì© is a commune in the sarthe department in the pays de la loire region in north-western france . 0.9900990099009901\n",
      "\n",
      "the sonata did not enter the mainstream repertoire , but it has been more recently championed by such pianists as marc-andr hamelin .\n",
      "the sonata did not enter the mainstream repertoire , but it has been more recently championed by such pianists as marc-andr ì© hamelin . 0.9888475836431226\n",
      "\n",
      "grolangheim is a municipality in the district of kitzingen in bavaria in germany .\n",
      "groìùlangheim is a municipality in the district of kitzingen in bavaria in germany . 0.9879518072289156\n",
      "\n",
      "saint-montan is a commune in the ardche department in south-eastern france .\n",
      "saint-montan is a commune in the ardì¬che department in south-eastern france . 0.987012987012987\n",
      "\n",
      "pikachu is among the most recognizable pokmon , largely because a pikachu is a central character in the pokmon anime series . pikachu is widely considered the most popular pokmon , is regarded as the official mascot of the pokmon franchise , and has become an icon of japanese culture in recent years .\n",
      "pikachu is among the most recognizable pokì©mon , largely because a pikachu is a central character in the pokì©mon anime series . pikachu is widely considered the most popular pokì©mon , is regarded as the official mascot of the pokì©mon franchise , and has become an icon of japanese culture in recent years . 0.9869281045751634\n",
      "\n",
      "the name \" sea of corts \" is the one preferred by most local residents .\n",
      "the name \" sea of cortì©s \" is the one preferred by most local residents . 0.9863013698630136\n",
      "\n",
      "one day , she was given a home in stergtland as a gift by some rich women after she had cured them successfully and treated them .\n",
      "one day , she was given a home in ìðstergì¦tland as a gift by some rich women after she had cured them successfully and treated them . 0.9848484848484849\n",
      "\n",
      "ge_lson de carvalho soares or simply ge_lson , is a striker .\n",
      "geì_lson de carvalho soares or simply geì_lson , is a striker . 0.9838709677419355\n",
      "\n",
      "urepel is a commune in the pyrnes - atlantiques department in south-western france .\n",
      "urepel is a commune in the pyrì©nì©es - atlantiques department in south-western france . 0.9767441860465116\n",
      "\n",
      "nakm won , and yaxh was instructed to find a new campsite .\n",
      "nakì¼m won , and yaxhìá was instructed to find a new campsite . 0.9672131147540983\n",
      "\n",
      "i will not endure the laughter of the court .\n",
      "it lies on the southern side of lake constance . 0.5591397849462365\n",
      "\n",
      "the grilled octopus was very tender .\n",
      "the process is termed lichenometry . 0.547945205479452\n",
      "\n",
      "the evidence of wallat was given very shortly .\n",
      "the head of ornitholestes was relatively small . 0.5473684210526316\n",
      "\n",
      "the different variables defining the optimal state can therefore be seen as intrinsic needs .\n",
      "the technique consists of precoding the data so as to cancel the effect of the interference . 0.5376344086021505\n",
      "\n",
      "to understand why this should have been so , we need to look more closely at the nature of the style and its origins .\n",
      "it was founded where the nascent sydney to melbourne road crossed water in the form of the yass river . 0.5339366515837104\n",
      "\n",
      "either way , it appears that the spdc commander suspects that the rice has gone to the knla .\n",
      "other females within the social group may assist in the birthing process and tend to the newborns . 0.53125\n",
      "\n",
      "go \" he leaves and she sits down in the chair , looks over the figures and mutters softly to herself as she reaches for the mouse .\n",
      "located on the river pedieos and situated almost in the center of the island , it is the seat of government as well as the main business center . 0.5289855072463768\n",
      "\n",
      "the experiment also helps us in understanding the language of dreams , and thus begins the process of interpretation .\n",
      "the intent is to display the likeness , personality , and even the mood of the person . 0.526829268292683\n",
      "\n",
      "in his distress of mind at being left behind by the caravan , he had not noticed where he had thrown the load .\n",
      "men are supposed to come to the mosque wearing loose and clean clothes that do not reveal the shape of the body . 0.5267857142857143\n",
      "\n",
      "the us ranks 37th in a world health organization examination of the world 's health care systems .\n",
      "the sunnah is seen as crucial to guiding interpretation of the qur ' an . 0.5263157894736842\n",
      "\n",
      "mutual funds are so severely conflicted that they will not avail themselves of the alleged benefits of the proposed rule .\n",
      "this was the first time in survivor history that the two initial teams were not preselected by the producers . 0.5258620689655172\n",
      "\n",
      "do not be swayed by herd constraints -- know that you are working on another level entirely from the rest of the world .\n",
      "men are supposed to come to the mosque wearing loose and clean clothes that do not reveal the shape of the body . 0.5236051502145923\n",
      "\n",
      "this external communication could be with external trading partners or within the organization .\n",
      "gravitational energy is the energy associated with the gravitational field . 0.5232558139534884\n",
      "\n",
      "the pulses were either short or long , representing the dots and dashes of morse code .\n",
      "the pennines constitute the main watershed in northern england , dividing the eastern and western parts of the country . 0.5217391304347826\n",
      "\n",
      "there 's a tremendous amount of information on the kitimat pipeline .\n",
      "xanten is also a popular filming location and the site of many concerts . 0.5211267605633803\n",
      "\n",
      "the prohibitive cost of heroin in alice springs is keeping the drug off the streets but not entirely out of the town .\n",
      "the pennines constitute the main watershed in northern england , dividing the eastern and western parts of the country . 0.5210084033613446\n",
      "\n",
      "the department is also working closely with hm customs and excise who are in the lead on developing the national lorry road user charging scheme .\n",
      "the battalion is usually part of a regiment , group or a brigade , depending on the organizational model used by that service . 0.5201465201465202\n",
      "\n",
      "their involvement depends entirely on what the individual wants .\n",
      "this arrangement provided most of the agricultural labor throughout the middle ages . 0.52\n",
      "\n",
      "the same is true if you are using internet newspaper sites : some media outlets can be worthy sources of information and analysis and others are not .\n",
      "many people see al jazeera as a more trustworthy source of information than government and foreign channels . 0.5173745173745173\n",
      "\n",
      "usually , these test questions are based entirely on the material covered in the text .\n",
      "a page that is a redirect can be moved like any other page . 0.5170068027210885\n",
      "\n",
      "and the morans have the gall to ruin beethoven 's 6th in the process , too .\n",
      "scene 2 : the doctor rushes by the captain in the street , who urges him to slow down . 0.5153374233128835\n",
      "\n",
      "the key to public choice , as you said earlier , is common sense .\n",
      "the dead body of a human is referred to as a cadaver , or corpse . 0.5151515151515151\n",
      "\n",
      "note that the expression reads in the file entirely in one go .\n",
      "none of your watched items were edited in the time period displayed . 0.5151515151515151\n",
      "\n",
      "as well , he will continue his examination of the transatlantic connections that fuelled the slave trade .\n",
      "in 1971 , she witnessed the impoverished conditions of the trash collectors in cairo , egypt , and decided to live among them . 0.5150214592274678\n",
      "\n",
      "the cost of providing easy to use access systems is likewise a consideration .\n",
      "the technique consists of precoding the data so as to cancel the effect of the interference . 0.5146198830409356\n",
      "\n",
      "if we do not take a lead on the national scene , our fate will be in the hands of others -- others who are not likely to share our mission or concerns .\n",
      "since minamoto no yoritomo launched the shogunate , the true power had been in the hand of the shoguns , who were mistaken several times for the emperors of japan by the chinese government . 0.5146198830409356\n",
      "\n",
      "truly classy people find a way to be polite , civil and courteous .\n",
      "xanten is also a popular filming location and the site of many concerts . 0.5142857142857142\n",
      "\n",
      "he was born at arles in present day southern france and possibly raised as a christian .\n",
      "the amazon basin is the part of south america drained by the amazon river and its tributaries . 0.5136612021857924\n",
      "\n",
      "the productivity of crops and pastures , as well as the health of other vegetation , declines as the saline watertable reaches their root zones .\n",
      "the pennines constitute the main watershed in northern england , dividing the eastern and western parts of the country . 0.5132075471698113\n",
      "\n",
      "and this combined annual incidence-rate will endure indefinitely too , until the annual production-rate is altered .\n",
      "yass is a prominent area for raising sheep which produce very fine wool due to the soil and climatic conditions of the yass area . 0.5121951219512195\n",
      "\n",
      "external links to other internet sites should not be construed as an endorsement of the views or privacy policies contained therein .\n",
      "the northern and western edges of the cotswolds are marked by steep escarpments down to the severn valley and the warwickshire avon . 0.5112781954887218\n",
      "\n",
      "the river has always been the pulse of the town , although the reasons have changed slightly over the years .\n",
      "the intent is to display the likeness , personality , and even the mood of the person . 0.5102040816326531\n",
      "\n",
      "the town is also well known as a transit point for the camel caravans bringing salt up from the arid lands of the dankal depression .\n",
      "he is widely known for his roles as little joe cartwright in bonanza , charles ingalls in little house on the prairie , and jonathan smith in highway to heaven . 0.5102040816326531\n",
      "\n",
      "they feed at that period on the opening buds of maples , and others that are equally tender and juicy .\n",
      "men are supposed to come to the mosque wearing loose and clean clothes that do not reveal the shape of the body . 0.5092592592592593\n",
      "\n",
      "i suspect i will be able to nitpick all counterarguments .\n",
      "a page that is a redirect can be moved like any other page . 0.5084745762711864\n",
      "\n",
      "i 've always been kind of at loose ends whenever i 'm given an extended period of free time .\n",
      "notrium is played from a top-down perspective , giving an overhead view of proceedings . 0.5082872928176796\n",
      "\n",
      "over the last several decades , both the town and county have seen tremendous growth .\n",
      "the word cereal derives from ceres , the name of the roman goddess of harvest and agriculture . 0.5082872928176796\n",
      "\n",
      " what is the world to do in the face of these grim predictions ?\n",
      "his work is displayed in the museum of modern art in yerevan . 0.5079365079365079\n",
      "\n",
      "spontaneous gestures are a pie in the face of civil society .\n",
      "none of your watched items were edited in the time period displayed . 0.5076923076923077\n",
      "\n",
      "anointing of the sick may be repeated if the person becomes ill again or the danger becomes more acute .\n",
      "the revival of lute in the 20th century revitalized the interest of composers in the instruments of the lute family . 0.5067873303167421\n",
      "\n",
      "i suspect that all the other committees will have an away day and that all of those will have a european element .\n",
      "she has three older brothers : aaron , benjamin , and nathaniel , the latter of whom is a model and actor . 0.5067873303167421\n",
      "\n",
      "a subsidiary was floated in the uk , tata tea ( gb ) ltd. , which acquired the controlling interest in the tetley group .\n",
      "at present it is formed by the aa , which descends from the rigi and enters the southern extremity of the lake . 0.5064377682403434\n",
      "\n",
      "there is something just so profound about that .\n",
      "the hush sound is currently on hiatus . 0.5057471264367817\n",
      "\n",
      "psychologists are not doctors and therefore they can not prescribe medication .\n",
      "a committee of the institute appoints the laureates for the nobel prize in physiology or medicine . 0.5056179775280899\n",
      "\n",
      " i can be very , very strong , but on the other hand , i have very tender sentiments .\n",
      "triangles can also be classified according to their internal angles , measured here in degrees . 0.5054945054945055\n",
      "\n",
      "listen to the kangaroo , to her low moans and sighs , she 's just so upset about her tremendous thighs .\n",
      "due to their fast growth , the foremost benefit of these trees is their wood . 0.5054945054945055\n",
      "\n",
      "functions of the presidency one way of bringing focus to the presidency is to determine what the functions of the position should be .\n",
      "thousands of videos exist on youtube of users showing the original video to their friends and taping their reactions , although some videos seem to be staged . 0.5051194539249146\n",
      "\n",
      "these functions also use scheduling priority to decide which thread gets to execute when there is contention .\n",
      "triangles can also be classified according to their internal angles , measured here in degrees . 0.5048543689320388\n",
      "\n",
      "you produce the content , and my browser decides -- along with some input from me -- how to render the content .\n",
      "the northern part of the continent , covering much of siberia was also inaccessible to the steppe nomads due to the dense forests and the tundra . 0.5038759689922481\n",
      "\n",
      "it is possible that if he had gone earlier he may have recovered .\n",
      "this is a considerably higher total than that of any other european country . 0.5034965034965035\n",
      "\n",
      "patients should limit exposure to the sun and use liberal amounts of sunscreen .\n",
      "in 1887 the school relocated to the east lake community of birmingham . 0.5033112582781457\n",
      "\n",
      " troops continue to work to provide vital infrastructure throughout iraq .\n",
      "this arrangement provided most of the agricultural labor throughout the middle ages . 0.5031446540880503\n",
      "\n",
      "the white sox , who are enduring what i call the curse of the 1919 black sox ?\n",
      "the technique consists of precoding the data so as to cancel the effect of the interference . 0.5029239766081871\n",
      "\n",
      "in the front seat stel and dominic are chuckling softly at us and dominic slides in a tape of sky-noise .\n",
      "he then settled in the avon valley , one of the most rugged and inaccessible places in the darling range . 0.5023696682464455\n",
      "\n",
      "the chilling conclusion is that apparently fairly modest changes in initial conditions can produce huge differences in the final outcome .\n",
      "the technique consists of precoding the data so as to cancel the effect of the interference . 0.5021645021645021\n",
      "\n",
      "the campaign should challenge the notion that prostate problems are an inevitable part of ageing to be endured rather than investigated .\n",
      "he then settled in the avon valley , one of the most rugged and inaccessible places in the darling range . 0.5020576131687243\n",
      "\n",
      "it 's also present in adequate quantities in dairy products , eggs and nuts , as well as in combinations of foods such as pulses and grains .\n",
      "yass is a prominent area for raising sheep which produce very fine wool due to the soil and climatic conditions of the yass area . 0.5018450184501845\n",
      "\n",
      "examination leave also includes the mornings of days in which examinations are held in the afternoon as well as the time spent travelling to and from the examination centre .\n",
      "kavirondo is the former name of the region surrounding kavirondo gulf as well as of two native peoples living there under the regime of british east africa . 0.5015105740181269\n",
      "Compare BenchLS and lex.mturk\n",
      "Total Count of similar sentences: 499\n"
     ]
    },
    {
     "name": "stderr",
     "output_type": "stream",
     "text": [
      "\n"
     ]
    }
   ],
   "source": [
    "compare_two_datasets(Dataset.BenchLS, Dataset.LexMTurk)"
   ]
  },
  {
   "cell_type": "markdown",
   "metadata": {},
   "source": [
    "## BenchLS and NNSeval"
   ]
  },
  {
   "cell_type": "code",
   "execution_count": 45,
   "metadata": {},
   "outputs": [
    {
     "name": "stderr",
     "output_type": "stream",
     "text": [
      "100%|██████████| 929/929 [00:01<00:00, 565.03it/s]"
     ]
    },
    {
     "name": "stdout",
     "output_type": "stream",
     "text": [
      "\n",
      "harry also becomes the worthy possessor of the remaining deathly hallows : the invisibility cloak and the resurrection stone , hence becoming the true master of death .\n",
      "harry also becomes the worthy possessor of the remaining deathly hallows : the invisibility cloak and the resurrection stone , hence becoming the true master of death . 1.0\n",
      "\n",
      "escapologists escape from handcuffs , straitjackets , cages , coffins , steel boxes , barrels , bags , burning buildings , fish-tanks and other perils , often in combination .\n",
      "escapologists escape from handcuffs , straitjackets , cages , coffins , steel boxes , barrels , bags , burning buildings , fish-tanks and other perils , often in combination . 1.0\n",
      "\n",
      "the storm continued , crossing the outer banks of north carolina , and retained its strength until june 20 when it became extratropical near newfoundland .\n",
      "the storm continued , crossing the outer banks of north carolina , and retained its strength until june 20 when it became extratropical near newfoundland . 1.0\n",
      "\n",
      "the united states convened a 13-nation conference of the international opium commission in 1909 in shanghai , china in response to increasing criticism of the opium trade .\n",
      "the united states convened a 13-nation conference of the international opium commission in 1909 in shanghai , china in response to increasing criticism of the opium trade . 1.0\n",
      "\n",
      "dodd simply retained his athletic director position , which he had acquired in 1950 .\n",
      "dodd simply retained his athletic director position , which he had acquired in 1950 . 1.0\n",
      "\n",
      "radiometric dating is a technique used to date materials , usually based on a comparison between the observed abundance of a naturally occurring radioactive isotope and its decay products , using known decay rates .\n",
      "radiometric dating is a technique used to date materials , usually based on a comparison between the observed abundance of a naturally occurring radioactive isotope and its decay products , using known decay rates . 1.0\n",
      "\n",
      "bacterial contaminants are ubiquitous , and foods left unused too long will often acquire substantial amounts of bacterial colonies and become dangerous to eat , leading to food poisoning .\n",
      "bacterial contaminants are ubiquitous , and foods left unused too long will often acquire substantial amounts of bacterial colonies and become dangerous to eat , leading to food poisoning . 1.0\n",
      "\n",
      "tibooburra has an arid , desert climate with temperatures soaring above 40 celsius in summer , often reaching as high as 47 c .\n",
      "tibooburra has an arid , desert climate with temperatures soaring above 40 celsius in summer , often reaching as high as 47 c . 1.0\n",
      "\n",
      "hanna meandered around the southeastern bahamas , weakening to a tropical storm while also dumping heavy rain on already-devastated haiti .\n",
      "hanna meandered around the southeastern bahamas , weakening to a tropical storm while also dumping heavy rain on already-devastated haiti . 1.0\n",
      "\n",
      "das rheingold is the first of the four operas that comprise der ring des nibelungen , by richard wagner .\n",
      "das rheingold is the first of the four operas that comprise der ring des nibelungen , by richard wagner . 1.0\n",
      "\n",
      "published by tor books , it was released on august 15 , 1994 in hardcover , and in paperback on july 15 , 1997 .\n",
      "published by tor books , it was released on august 15 , 1994 in hardcover , and in paperback on july 15 , 1997 . 1.0\n",
      "\n",
      "by 1960 he had developed the short story into a screenplay , and envisaged it as containing a suitable role for monroe .\n",
      "by 1960 he had developed the short story into a screenplay , and envisaged it as containing a suitable role for monroe . 1.0\n",
      "\n",
      "with poor sales of the a340-200 , airbus decided to use the fuselage of the a340-200 with the wings and engines of the a330-300 .\n",
      "with poor sales of the a340-200 , airbus decided to use the fuselage of the a340-200 with the wings and engines of the a330-300 . 1.0\n",
      "\n",
      "the last event was held on june 11 , 2000 , not to be held again due to the acquisition of wcw by world wrestling federation .\n",
      "the last event was held on june 11 , 2000 , not to be held again due to the acquisition of wcw by world wrestling federation . 1.0\n",
      "\n",
      "kowal suggested the name and the iau endorsed it in 1975 .\n",
      "kowal suggested the name and the iau endorsed it in 1975 . 1.0\n",
      "\n",
      "dry air wrapping around the southern periphery of the cyclone eroded most of the deep convection by early on september 12 .\n",
      "dry air wrapping around the southern periphery of the cyclone eroded most of the deep convection by early on september 12 . 1.0\n",
      "\n",
      "alfonso drops the marriage contract in front of the officers , and , when they read it , they become enraged .\n",
      "alfonso drops the marriage contract in front of the officers , and , when they read it , they become enraged . 1.0\n",
      "\n",
      "located on the river pedieos and situated almost in the center of the island , it is the seat of government as well as the main business center .\n",
      "located on the river pedieos and situated almost in the center of the island , it is the seat of government as well as the main business center . 1.0\n",
      "\n",
      "it has now been determined that europa is a prograde rotator , but the exact direction in which its pole points remains ambiguous .\n",
      "it has now been determined that europa is a prograde rotator , but the exact direction in which its pole points remains ambiguous . 1.0\n",
      "\n",
      "the bishops ceded the oversticht to the emperor charles v in 1528 , who styled himself \" lord of overijssel \" , thereby giving the province its modern name .\n",
      "the bishops ceded the oversticht to the emperor charles v in 1528 , who styled himself \" lord of overijssel \" , thereby giving the province its modern name . 1.0\n",
      "\n",
      "many parts of odessa were damaged during its siege and recapture on 10 april 1944 , when the city was finally liberated by the red army .\n",
      "many parts of odessa were damaged during its siege and recapture on 10 april 1944 , when the city was finally liberated by the red army . 1.0\n",
      "\n",
      "the city was first founded by the british in 1827 , who leased the island from spain during the colonial period .\n",
      "the city was first founded by the british in 1827 , who leased the island from spain during the colonial period . 1.0\n",
      "\n",
      "in reference to the landscape , bush describes a wooded area , intermediate between a shrubland and a forest , generally of dry and nitrogen-poor soil , mostly grassless , thin to thick woody shrubs and bushes , under a sparse canapy of eucalypts .\n",
      "in reference to the landscape , bush describes a wooded area , intermediate between a shrubland and a forest , generally of dry and nitrogen-poor soil , mostly grassless , thin to thick woody shrubs and bushes , under a sparse canapy of eucalypts . 1.0\n",
      "\n",
      "they locate food by smell , using sensors in the tip of their snout , and regularly feast on ants and termites .\n",
      "they locate food by smell , using sensors in the tip of their snout , and regularly feast on ants and termites . 1.0\n",
      "\n",
      "at present it is formed by the aa , which descends from the rigi and enters the southern extremity of the lake .\n",
      "at present it is formed by the aa , which descends from the rigi and enters the southern extremity of the lake . 1.0\n",
      "\n",
      "specialized english operates in the civil society sector , and the developers aspire to make programs for a variety of public service purposes , subject to resources being available .\n",
      "specialized english operates in the civil society sector , and the developers aspire to make programs for a variety of public service purposes , subject to resources being available . 1.0\n",
      "\n",
      "this period spanned the years from 1278 through 1288 .\n",
      "this period spanned the years from 1278 through 1288 . 1.0\n",
      "\n",
      "realising that the gang could not elude the police forever , moondyne joe formulated a plan to escape the colony by traveling overland to the colony of south australia .\n",
      "realising that the gang could not elude the police forever , moondyne joe formulated a plan to escape the colony by traveling overland to the colony of south australia . 1.0\n",
      "\n",
      "southeastern oklahoma , also known by its official tourism designation , kiamichi country , encompasses the southeastern quarter of the state of oklahoma .\n",
      "southeastern oklahoma , also known by its official tourism designation , kiamichi country , encompasses the southeastern quarter of the state of oklahoma . 1.0\n",
      "\n",
      "in 2001 , unesco inscribed the 2,750-year-old city on the world heritage list as samarkand - crossroads of cultures .\n",
      "in 2001 , unesco inscribed the 2,750-year-old city on the world heritage list as samarkand - crossroads of cultures . 1.0\n",
      "\n",
      "to enjoy qin songs , one must learn to become accustomed to the eccentric style some players may sing their songs to , like in the case of zha fuxi .\n",
      "to enjoy qin songs , one must learn to become accustomed to the eccentric style some players may sing their songs to , like in the case of zha fuxi . 1.0\n",
      "\n",
      "as a result of this acquisition and the legal dispute with hearst corporation , mandrakesoft announced that the new company name would be mandriva , and that mandriva linux would be the new name covering products .\n",
      "as a result of this acquisition and the legal dispute with hearst corporation , mandrakesoft announced that the new company name would be mandriva , and that mandriva linux would be the new name covering products . 1.0\n",
      "\n",
      "he was born at plessiel , a hamlet of drucat near abbeville , to a long-established family of picardy , the great-nephew of the painter eustache le sueur .\n",
      "he was born at plessiel , a hamlet of drucat near abbeville , to a long-established family of picardy , the great-nephew of the painter eustache le sueur . 1.0\n",
      "\n",
      "their quick acceleration makes them suitable for services with short intervals between stations .\n",
      "their quick acceleration makes them suitable for services with short intervals between stations . 1.0\n",
      "\n",
      "aung san suu kyi returned to burma in 1988 to take care of her ailing mother .\n",
      "aung san suu kyi returned to burma in 1988 to take care of her ailing mother . 1.0\n",
      "\n",
      "port arthur was also the destination for juvenile convicts , receiving many boys , some as young as nine arrested for stealing toys .\n",
      "port arthur was also the destination for juvenile convicts , receiving many boys , some as young as nine arrested for stealing toys . 1.0\n",
      "\n",
      "the international re-formed in 1923 , and was reconstituted again , in its present form , after world war ii .\n",
      "the international re-formed in 1923 , and was reconstituted again , in its present form , after world war ii . 1.0\n",
      "\n",
      "the amazon basin is the part of south america drained by the amazon river and its tributaries .\n",
      "the amazon basin is the part of south america drained by the amazon river and its tributaries . 1.0\n",
      "\n",
      "typically , the biggest difference between film and stage musicals is the use of lavish background scenery which would be impractical in a theater .\n",
      "typically , the biggest difference between film and stage musicals is the use of lavish background scenery which would be impractical in a theater . 1.0\n",
      "\n",
      "following the hassles ' demise in 1969 , he formed the duo attila with hassles drummer jon small .\n",
      "following the hassles ' demise in 1969 , he formed the duo attila with hassles drummer jon small . 1.0\n",
      "\n",
      "the first amniotes , such as casineria , resembled small lizards and evolved from amphibian reptiliomorphs about 340 million years ago .\n",
      "the first amniotes , such as casineria , resembled small lizards and evolved from amphibian reptiliomorphs about 340 million years ago . 1.0\n",
      "\n",
      "in 1999 , a world tamil confederation was established to protect and foster tamil culture and further a sense of togetherness amongst tamils in different countries .\n",
      "in 1999 , a world tamil confederation was established to protect and foster tamil culture and further a sense of togetherness amongst tamils in different countries . 1.0\n",
      "\n",
      "historically , in the warm mediterranean and middle eastern climates , the courtyard served to accommodate the large number of worshippers during friday prayers .\n",
      "historically , in the warm mediterranean and middle eastern climates , the courtyard served to accommodate the large number of worshippers during friday prayers . 1.0\n",
      "\n",
      "john mccain polled 62.5 % in the 2008 presidential election while 70.9 % of utahns opted for george w. bush in 2004 .\n",
      "john mccain polled 62.5 % in the 2008 presidential election while 70.9 % of utahns opted for george w. bush in 2004 . 1.0\n",
      "\n",
      "throughout most of the film , his only true friend , aside from his mother , is the mouse , timothy - a relationship parodying the stereotypical animosity between mice and elephants .\n",
      "throughout most of the film , his only true friend , aside from his mother , is the mouse , timothy - a relationship parodying the stereotypical animosity between mice and elephants . 1.0\n",
      "\n",
      "the band is known for its large line-up , which consists of nine members ; including a vocalist , two guitarists , a bassist , two percussionists in addition to a primary drummer , a sampler , and a turntablist .\n",
      "the band is known for its large line-up , which consists of nine members ; including a vocalist , two guitarists , a bassist , two percussionists in addition to a primary drummer , a sampler , and a turntablist . 1.0\n",
      "\n",
      "digital signatures are equivalent to traditional handwritten signatures in many respects ; properly implemented digital signatures are more difficult to forge than the handwritten type .\n",
      "digital signatures are equivalent to traditional handwritten signatures in many respects ; properly implemented digital signatures are more difficult to forge than the handwritten type . 1.0\n",
      "\n",
      "triton was revealed to have remarkable active geysers and polar caps .\n",
      "triton was revealed to have remarkable active geysers and polar caps . 1.0\n",
      "\n",
      "polar bear fur consists of a layer of dense underfur and an outer layer of guard hairs , which appear white to tan but are actually transparent .\n",
      "polar bear fur consists of a layer of dense underfur and an outer layer of guard hairs , which appear white to tan but are actually transparent . 1.0\n",
      "\n",
      "the most common reason for erecting a khachkar was for votive reasons - for the salvation of the soul of either a living or a deceased person .\n",
      "the most common reason for erecting a khachkar was for votive reasons - for the salvation of the soul of either a living or a deceased person . 1.0\n",
      "\n",
      "scene 2 : the doctor rushes by the captain in the street , who urges him to slow down .\n",
      "scene 2 : the doctor rushes by the captain in the street , who urges him to slow down . 1.0\n",
      "\n",
      "the revival of lute in the 20th century revitalized the interest of composers in the instruments of the lute family .\n",
      "the revival of lute in the 20th century revitalized the interest of composers in the instruments of the lute family . 1.0\n",
      "\n",
      "lancelot de carles called her \" beautiful with an elegant figure \" , and a venetian in paris in 1528 also reported that she was said to be beautiful .\n",
      "lancelot de carles called her \" beautiful with an elegant figure \" , and a venetian in paris in 1528 also reported that she was said to be beautiful . 1.0\n",
      "\n",
      "he is notable as a performer of australian traditional folk songs in an authentic style .\n",
      "he is notable as a performer of australian traditional folk songs in an authentic style . 1.0\n",
      "\n",
      "the false gharial , also known as the malayan gharial , false gavial , or tomistoma is a fresh-water reptile resembling a crocodile with a very thin and elongated snout , which is thicker than the gharial .\n",
      "the false gharial , also known as the malayan gharial , false gavial , or tomistoma is a fresh-water reptile resembling a crocodile with a very thin and elongated snout , which is thicker than the gharial . 1.0\n",
      "\n",
      "he held several senior positions in the royal flying corps during world war i , serving as the commander of royal flying corps in france from 1915 to 1917 .\n",
      "he held several senior positions in the royal flying corps during world war i , serving as the commander of royal flying corps in france from 1915 to 1917 . 1.0\n",
      "\n",
      "the hush sound is currently on hiatus .\n",
      "the hush sound is currently on hiatus . 1.0\n",
      "\n",
      "monte plata is a province of the dominican republic , and also the name of its capital city . it was split from san crist_bal in 1992 .\n",
      "monte plata is a province of the dominican republic , and also the name of its capital city . it was split from san crist_bal in 1992 . 1.0\n",
      "\n",
      "from 1908 to 1911 he was the principal conductor of the vienna hofoper succeeding gustav mahler ; he retained the conductorship of the vienna philharmonic until 1927 .\n",
      "from 1908 to 1911 he was the principal conductor of the vienna hofoper succeeding gustav mahler ; he retained the conductorship of the vienna philharmonic until 1927 . 1.0\n",
      "\n",
      "mexican cinnamon hot chocolate is traditionally served alongside a variety of mexican pastries known as pan dulce and , as in spain , churros .\n",
      "mexican cinnamon hot chocolate is traditionally served alongside a variety of mexican pastries known as pan dulce and , as in spain , churros . 1.0\n",
      "\n",
      "cholera , sometimes known as asiatic or epidemic cholera , is an infectious gastroenteritis caused by enterotoxin-producing strains of the bacterium vibrio cholerae .\n",
      "cholera , sometimes known as asiatic or epidemic cholera , is an infectious gastroenteritis caused by enterotoxin-producing strains of the bacterium vibrio cholerae . 1.0\n",
      "\n",
      "a hurricane struck dominica and puerto rico between july 22 and july 24 .\n",
      "a hurricane struck dominica and puerto rico between july 22 and july 24 . 1.0\n",
      "\n",
      "in 1975 the old district steinfurt was merged with the district tecklenburg , and together with greven and saerbeck from the former district m_nster the current district was formed .\n",
      "in 1975 the old district steinfurt was merged with the district tecklenburg , and together with greven and saerbeck from the former district m_nster the current district was formed . 1.0\n",
      "\n",
      "it was discovered by a team of astronomers led by brett j. gladman , et al . in 2003 .\n",
      "it was discovered by a team of astronomers led by brett j. gladman , et al . in 2003 . 1.0\n",
      "\n",
      "city of faizabad is the headquarters of faizabad district and a municipal board in the state of uttar pradesh , india , situated on the banks of river ghaghra .\n",
      "city of faizabad is the headquarters of faizabad district and a municipal board in the state of uttar pradesh , india , situated on the banks of river ghaghra . 1.0\n",
      "\n",
      "hms guardian set out before the convict ships but struck ice after leaving the cape of good hope , returned to southern africa and was wrecked on the coast .\n",
      "hms guardian set out before the convict ships but struck ice after leaving the cape of good hope , returned to southern africa and was wrecked on the coast . 1.0\n",
      "\n",
      "on 1 october 1983 the pilot project began operations as a full-fledged bank and was renamed the grameen bank to make loans to poor bangladeshis .\n",
      "on 1 october 1983 the pilot project began operations as a full-fledged bank and was renamed the grameen bank to make loans to poor bangladeshis . 1.0\n",
      "\n",
      "riel sought to preserve mtis rights and culture as their homelands in the northwest came progressively under the canadian sphere of influence .\n",
      "riel sought to preserve mtis rights and culture as their homelands in the northwest came progressively under the canadian sphere of influence . 1.0\n",
      "\n",
      "they are characterized by spirituality and metaphysical themes , extremely long takes , lack of conventional dramatic structure and plot , and memorable cinematography .\n",
      "they are characterized by spirituality and metaphysical themes , extremely long takes , lack of conventional dramatic structure and plot , and memorable cinematography . 1.0\n",
      "\n",
      "glaciologically , ice age implies the presence of extensive ice sheets in the northern and southern hemispheres ; by this definition we are still in the ice age that began at the start of the pleistocene .\n",
      "glaciologically , ice age implies the presence of extensive ice sheets in the northern and southern hemispheres ; by this definition we are still in the ice age that began at the start of the pleistocene . 1.0\n",
      "\n",
      "grolangheim is a municipality in the district of kitzingen in bavaria in germany .\n",
      "grolangheim is a municipality in the district of kitzingen in bavaria in germany . 1.0\n",
      "\n",
      "when a fair weather waterspout makes landfall it quickly dissipates as it loses the inflow of warm air into the vortex .\n",
      "when a fair weather waterspout makes landfall it quickly dissipates as it loses the inflow of warm air into the vortex . 1.0\n",
      "\n",
      "after receiving the news of the important award , yunus announced that he would use part of his share of the $ 1.4 million award money to create a company to make low-cost , high-nutrition food for the poor ; while the rest would go toward setting up an eye hospital for the poor in bangladesh .\n",
      "after receiving the news of the important award , yunus announced that he would use part of his share of the $ 1.4 million award money to create a company to make low-cost , high-nutrition food for the poor ; while the rest would go toward setting up an eye hospital for the poor in bangladesh . 1.0\n",
      "\n",
      "phillip was appointed governor of new south wales , the first european colony on the australian continent , and was the founder of the site which is now the city of sydney .\n",
      "phillip was appointed governor of new south wales , the first european colony on the australian continent , and was the founder of the site which is now the city of sydney . 1.0\n",
      "\n",
      "after the demise of the whl , however , the stanley cup was awarded exclusively to the nhl playoff champion , and the wales trophy was given to the regular season champion .\n",
      "after the demise of the whl , however , the stanley cup was awarded exclusively to the nhl playoff champion , and the wales trophy was given to the regular season champion . 1.0\n",
      "\n",
      "italy purchased the city in 1905 and made mogadishu the capital of italian somaliland .\n",
      "italy purchased the city in 1905 and made mogadishu the capital of italian somaliland . 1.0\n",
      "\n",
      "the short-beaked echidna is an iconic animal in contemporary australia , notably appearing on the australian five-cent piece and on a $ 200 commemorative coin released in 1992 .\n",
      "the short-beaked echidna is an iconic animal in contemporary australia , notably appearing on the australian five-cent piece and on a $ 200 commemorative coin released in 1992 . 1.0\n",
      "\n",
      "situated 13 miles southeast of seattle , washington , renton straddles the southeast shore of lake washington .\n",
      "situated 13 miles southeast of seattle , washington , renton straddles the southeast shore of lake washington . 1.0\n",
      "\n",
      "yass is a prominent area for raising sheep which produce very fine wool due to the soil and climatic conditions of the yass area .\n",
      "yass is a prominent area for raising sheep which produce very fine wool due to the soil and climatic conditions of the yass area . 1.0\n",
      "\n",
      "the interest was so great that developers found themselves advertising the parks rather than their own developments , as the highest prices would exist for the park perceived to be best .\n",
      "the interest was so great that developers found themselves advertising the parks rather than their own developments , as the highest prices would exist for the park perceived to be best . 1.0\n",
      "\n",
      "the romans believed the fumes produced by burning castoreum could induce an abortion ; paracelsus thought it could be used in the treatment of epilepsy ; and medieval beekeepers used it to increase honey production .\n",
      "the romans believed the fumes produced by burning castoreum could induce an abortion ; paracelsus thought it could be used in the treatment of epilepsy ; and medieval beekeepers used it to increase honey production . 1.0\n",
      "\n",
      "outcast of redwall is a fantasy novel by brian jacques , published in 1995 .\n",
      "outcast of redwall is a fantasy novel by brian jacques , published in 1995 . 1.0\n",
      "\n",
      "with the others bailed out for various food items , tom was the last man standing and won immunity .\n",
      "with the others bailed out for various food items , tom was the last man standing and won immunity . 1.0\n",
      "\n",
      "jamie farr is an american television and film actor and popular game show panelist .\n",
      "jamie farr is an american television and film actor and popular game show panelist . 1.0\n",
      "\n",
      "the association of virtue with withdrawal from society - and specifically from cities - was a familiar theme in religious literature .\n",
      "the association of virtue with withdrawal from society - and specifically from cities - was a familiar theme in religious literature . 1.0\n",
      "\n",
      "at the end of each season , a series of playoff games are contested among the top six teams in the nfc , consisting of the four division champions and the two other teams with the best win-loss records .\n",
      "at the end of each season , a series of playoff games are contested among the top six teams in the nfc , consisting of the four division champions and the two other teams with the best win-loss records . 1.0\n",
      "\n",
      "after the partitions of poland in 1794 the area was annexed by prussia .\n",
      "after the partitions of poland in 1794 the area was annexed by prussia . 1.0\n",
      "\n",
      "a british nobleman , lord stanhope , took an interest in hauser and gained custody of him late in 1831 .\n",
      "a british nobleman , lord stanhope , took an interest in hauser and gained custody of him late in 1831 . 1.0\n",
      "\n",
      "simon phillip cowell is an english music executive , television producer and entrepreneur .\n",
      "simon phillip cowell is an english music executive , television producer and entrepreneur . 1.0\n",
      "\n",
      "the principal greenhouse , in an art nouveau style with a modern metallic structure , resembles the mid-19th century crystal palace in london .\n",
      "the principal greenhouse , in an art nouveau style with a modern metallic structure , resembles the mid-19th century crystal palace in london . 1.0\n",
      "\n",
      "metlink , formerly the met , is the marketing body and umbrella brand for public train , tram and bus transport operators in greater melbourne , victoria , australia .\n",
      "metlink , formerly the met , is the marketing body and umbrella brand for public train , tram and bus transport operators in greater melbourne , victoria , australia . 1.0\n",
      "\n",
      "schoenberg refused , saying \" i would only make you a bad schoenberg , and you 're such a good gershwin already . \n",
      "schoenberg refused , saying \" i would only make you a bad schoenberg , and you 're such a good gershwin already .  1.0\n",
      "\n",
      "however media outlets soon found ways around the ban , initially by the use of subtitles , but later and more commonly by the use of an actor reading his words over the images of him speaking .\n",
      "however media outlets soon found ways around the ban , initially by the use of subtitles , but later and more commonly by the use of an actor reading his words over the images of him speaking . 1.0\n",
      "\n",
      "however , the new king , louis xviii , knew that ideas of nationalism and democracy still lingered in his country ; hence the establishment and signing of the charte constitutionnelle franaise , the french constitution otherwise known as la charte .\n",
      "however , the new king , louis xviii , knew that ideas of nationalism and democracy still lingered in his country ; hence the establishment and signing of the charte constitutionnelle franaise , the french constitution otherwise known as la charte . 1.0\n",
      "\n",
      "in 1639 , williams established a baptist church in providence , rhode island , and clarke began a baptist church in newport , rhode island .\n",
      "in 1639 , williams established a baptist church in providence , rhode island , and clarke began a baptist church in newport , rhode island . 1.0\n",
      "\n",
      "while each edition of windows 2000 was targeted to a different market , they share a core set of features , including many system utilities such as the microsoft management console and standard system administration applications .\n",
      "while each edition of windows 2000 was targeted to a different market , they share a core set of features , including many system utilities such as the microsoft management console and standard system administration applications . 1.0\n",
      "\n",
      "the battalion is usually part of a regiment , group or a brigade , depending on the organizational model used by that service .\n",
      "the battalion is usually part of a regiment , group or a brigade , depending on the organizational model used by that service . 1.0\n",
      "\n",
      "intense feelings of resentment trigger the initial retaliation , which causes the other party to feel equally aggrieved and vengeful .\n",
      "intense feelings of resentment trigger the initial retaliation , which causes the other party to feel equally aggrieved and vengeful . 1.0\n",
      "\n",
      "slipknot is a heavy metal band formed by vocalist and percussionist anders colsefni , guitarists donnie steele and josh \" gnar \" brainard , bassist paul gray , drummer joey jordison and percussionist shawn crahan , in des moines , iowa .\n",
      "slipknot is a heavy metal band formed by vocalist and percussionist anders colsefni , guitarists donnie steele and josh \" gnar \" brainard , bassist paul gray , drummer joey jordison and percussionist shawn crahan , in des moines , iowa . 1.0\n",
      "\n",
      "the most recent goaltender to have scored a goal by deliberately shooting the puck into his opponents ' net was evgeni nabokov , in 2002 .\n",
      "the most recent goaltender to have scored a goal by deliberately shooting the puck into his opponents ' net was evgeni nabokov , in 2002 . 1.0\n",
      "\n",
      "these notable synagogues include ; the great synagogue of rome , the new synagogue , the leopoldst_dter tempel , the grand choral synagogue , the great synagogue , the moscow choral synagogue , the great synagogue of florence , the great synagogue , plzen , the great synagogue , the ko ice orthodox synagogue , the novi sad synagogue , the szeged synagogue , the sofia synagogue and the great synagogue of oran .\n",
      "these notable synagogues include ; the great synagogue of rome , the new synagogue , the leopoldst_dter tempel , the grand choral synagogue , the great synagogue , the moscow choral synagogue , the great synagogue of florence , the great synagogue , plzen , the great synagogue , the ko ice orthodox synagogue , the novi sad synagogue , the szeged synagogue , the sofia synagogue and the great synagogue of oran . 1.0\n",
      "\n",
      "the northern and western edges of the cotswolds are marked by steep escarpments down to the severn valley and the warwickshire avon .\n",
      "the northern and western edges of the cotswolds are marked by steep escarpments down to the severn valley and the warwickshire avon . 1.0\n",
      "\n",
      "the roof of the west stand is corrugated iron this also houses the main television gantry which is accessed from the upper tier seating area by a temporary ladder .\n",
      "the roof of the west stand is corrugated iron this also houses the main television gantry which is accessed from the upper tier seating area by a temporary ladder . 1.0\n",
      "\n",
      "it gradually decayed into a surface low pressure trough , and developed into two disturbances ; one was centered 290 miles south-southeast of cape cod and another was located 200 miles south of cape hatteras , north carolina .\n",
      "it gradually decayed into a surface low pressure trough , and developed into two disturbances ; one was centered 290 miles south-southeast of cape cod and another was located 200 miles south of cape hatteras , north carolina . 1.0\n",
      "\n",
      "while in cambrai he collaborated with nicolas grenon on a complete revision of the liturgical musical collection of the cathedral , which included writing an extensive collection of polyphonic music for services .\n",
      "while in cambrai he collaborated with nicolas grenon on a complete revision of the liturgical musical collection of the cathedral , which included writing an extensive collection of polyphonic music for services . 1.0\n",
      "\n",
      "nevertheless , until the middle of the 20th century , agriculture dominated the canton .\n",
      "nevertheless , until the middle of the 20th century , agriculture dominated the canton . 1.0\n",
      "\n",
      "this category contains articles about albums released on island records .\n",
      "this category contains articles about albums released on island records . 1.0\n",
      "\n",
      "kasem is best known by name as a music historian and disc jockey , most notably as host of the weekly american top 40 radio program from 1970 to 1988 , and again from march 1998 until january 10 , 2004 , when ryan seacrest succeeded him .\n",
      "kasem is best known by name as a music historian and disc jockey , most notably as host of the weekly american top 40 radio program from 1970 to 1988 , and again from march 1998 until january 10 , 2004 , when ryan seacrest succeeded him . 1.0\n",
      "\n",
      "spun yarns may contain a single type of fiber , or be a blend of various types . combining synthetic fibers with natural fibers is very common .\n",
      "spun yarns may contain a single type of fiber , or be a blend of various types . combining synthetic fibers with natural fibers is very common . 1.0\n",
      "\n",
      "the atmosphere was so intense that gring , in a telephone call that evening , stated : \" there is unbelievable jubilation in austria .\n",
      "the atmosphere was so intense that gring , in a telephone call that evening , stated : \" there is unbelievable jubilation in austria . 1.0\n",
      "\n",
      "several other hollywood films are also believed to have been inspired by bollywood films .\n",
      "several other hollywood films are also believed to have been inspired by bollywood films . 1.0\n",
      "\n",
      "the island of ireland lies only 30 k from the southwestern peninsula of kintyre ; norway is 305 k to the east and the faroes , 270 k to the north .\n",
      "the island of ireland lies only 30 k from the southwestern peninsula of kintyre ; norway is 305 k to the east and the faroes , 270 k to the north . 1.0\n",
      "\n",
      "the kingdom of the franks under charlemagne was particularly hard-hit by these raiders , who could sail down the seine with near impunity .\n",
      "the kingdom of the franks under charlemagne was particularly hard-hit by these raiders , who could sail down the seine with near impunity . 1.0\n",
      "\n",
      "during its boom times , beechworth town boasted a range of industries including , a tannery , jewellers , boot makers , a brewery , blacksmiths , livestock sale yards .\n",
      "during its boom times , beechworth town boasted a range of industries including , a tannery , jewellers , boot makers , a brewery , blacksmiths , livestock sale yards . 1.0\n",
      "\n",
      "traditionally , after a long period of consuming gimjang kimchi during the winter , fresh potherbs and vegetables were popular for making kimchi . these kinds of kimchi were not fermented or even stored for long periods of time but were consumed fresh .\n",
      "traditionally , after a long period of consuming gimjang kimchi during the winter , fresh potherbs and vegetables were popular for making kimchi . these kinds of kimchi were not fermented or even stored for long periods of time but were consumed fresh . 1.0\n",
      "\n",
      "on 5 february 2007 , apple inc. and apple corps announced a settlement of their trademark dispute under which apple inc. will own all of the trademarks related to \" apple \" and will license certain of those trademarks back to apple corps for their continued use .\n",
      "on 5 february 2007 , apple inc. and apple corps announced a settlement of their trademark dispute under which apple inc. will own all of the trademarks related to \" apple \" and will license certain of those trademarks back to apple corps for their continued use . 1.0\n",
      "\n",
      "canadian english is the variety of english used in canada . more than 26 million canadians have some knowledge of english .\n",
      "canadian english is the variety of english used in canada . more than 26 million canadians have some knowledge of english . 1.0\n",
      "\n",
      "the books were later adapted into a television series and a feature film .\n",
      "the books were later adapted into a television series and a feature film . 1.0\n",
      "\n",
      "the mtr was immediately popular with residents of hong kong ; as a result , subsequent lines have been built to cover more territory . there are continual debates regarding how and where to expand the mtr network .\n",
      "the mtr was immediately popular with residents of hong kong ; as a result , subsequent lines have been built to cover more territory . there are continual debates regarding how and where to expand the mtr network . 1.0\n",
      "\n",
      "this is a considerably higher total than that of any other european country .\n",
      "this is a considerably higher total than that of any other european country . 1.0\n",
      "\n",
      "his reign spanned the years from 809 through 823 .\n",
      "his reign spanned the years from 809 through 823 . 1.0\n",
      "\n",
      "in 1269 it was the seat of a famous battle during the wars of guelphs and ghibellines and in 1479 it was besieged by neapolitan troops .\n",
      "in 1269 it was the seat of a famous battle during the wars of guelphs and ghibellines and in 1479 it was besieged by neapolitan troops . 1.0\n",
      "\n",
      "once a flourishing saxon riverport , it lies in the waveney valley and is a popular boating center .\n",
      "once a flourishing saxon riverport , it lies in the waveney valley and is a popular boating center . 1.0\n",
      "\n",
      "then cogswell asked gallaudet to travel to europe to study methods for teaching deaf students , especially those of the braidwood family in edinburgh , scotland .\n",
      "then cogswell asked gallaudet to travel to europe to study methods for teaching deaf students , especially those of the braidwood family in edinburgh , scotland . 1.0\n",
      "\n",
      "swiss cheese is a generic name common to many countries for several related varieties of cheese which resemble the swiss emmental .\n",
      "swiss cheese is a generic name common to many countries for several related varieties of cheese which resemble the swiss emmental . 1.0\n",
      "\n",
      "fiction records is a uk formerly indie label , now wholly owned by polydor a subsidiary of universal music group , started by chris parry in 1978 that is best known as being the home of the cure for over 20 years .\n",
      "fiction records is a uk formerly indie label , now wholly owned by polydor a subsidiary of universal music group , started by chris parry in 1978 that is best known as being the home of the cure for over 20 years . 1.0\n",
      "\n",
      "the sculpture was made from the same weathering steel as the angel of the north sculpture , which gradually develops a tightly adhering oxide layer as it is exposed to the elements .\n",
      "the sculpture was made from the same weathering steel as the angel of the north sculpture , which gradually develops a tightly adhering oxide layer as it is exposed to the elements . 1.0\n",
      "\n",
      "valzacchi and annina now offer their services to him .\n",
      "valzacchi and annina now offer their services to him . 1.0\n",
      "\n",
      "because carbon dioxide is released at a faster rate through the acid-base reaction than through fermentation , breads made by chemical leavening are called quick breads .\n",
      "because carbon dioxide is released at a faster rate through the acid-base reaction than through fermentation , breads made by chemical leavening are called quick breads . 1.0\n",
      "\n",
      "as an adult , he was charged with a long list of crimes , including possession of counterfeit money , loitering and prowling , burglary , kidnapping and armed robbery .\n",
      "as an adult , he was charged with a long list of crimes , including possession of counterfeit money , loitering and prowling , burglary , kidnapping and armed robbery . 1.0\n",
      "\n",
      "it was founded where the nascent sydney to melbourne road crossed water in the form of the yass river .\n",
      "it was founded where the nascent sydney to melbourne road crossed water in the form of the yass river . 1.0\n",
      "\n",
      "heights are measured to the structural height , which includes architectural elements , but not communications spires or antennas , per the guidelines of the council on tall buildings and urban habitat .\n",
      "heights are measured to the structural height , which includes architectural elements , but not communications spires or antennas , per the guidelines of the council on tall buildings and urban habitat . 1.0\n",
      "\n",
      "the dam was completed in 1974 and was designed to store water from the indus river for irrigation and flood control , and for the generation of hydro-electric power .\n",
      "the dam was completed in 1974 and was designed to store water from the indus river for irrigation and flood control , and for the generation of hydro-electric power . 1.0\n",
      "\n",
      "xanten is also a popular filming location and the site of many concerts .\n",
      "xanten is also a popular filming location and the site of many concerts . 1.0\n",
      "\n",
      "loch ness is best known for the alleged sightings of the legendary loch ness monster , also known as \" nessie \" .\n",
      "loch ness is best known for the alleged sightings of the legendary loch ness monster , also known as \" nessie \" . 1.0\n",
      "\n",
      "security-enhanced linux is a linux feature that provides a mechanism for supporting access control security policies , including u.s. department of defense style mandatory access controls , through the use of linux security modules in the linux kernel .\n",
      "security-enhanced linux is a linux feature that provides a mechanism for supporting access control security policies , including u.s. department of defense style mandatory access controls , through the use of linux security modules in the linux kernel . 1.0\n",
      "\n",
      "it lies on the southern side of lake constance .\n",
      "it lies on the southern side of lake constance . 1.0\n",
      "\n",
      "the croatia national football team represents the republic of croatia in international football .\n",
      "the croatia national football team represents the republic of croatia in international football . 1.0\n",
      "\n",
      "it is rare and valuable in finer grades and has been prized as a gem and ornamental stone for thousands of years owing to its unique hue .\n",
      "it is rare and valuable in finer grades and has been prized as a gem and ornamental stone for thousands of years owing to its unique hue . 1.0\n",
      "\n",
      "a tuning fork or electronic tuning device may be used as a reference pitch , though in ensemble rehearsals often a piano is used .\n",
      "a tuning fork or electronic tuning device may be used as a reference pitch , though in ensemble rehearsals often a piano is used . 1.0\n",
      "\n",
      "peter became extratropical on december 11 , and was absorbed by a cold front shortly thereafter .\n",
      "peter became extratropical on december 11 , and was absorbed by a cold front shortly thereafter . 1.0\n",
      "\n",
      "in 2003 , dushku appeared in wrong turn , a horror film in which she had the starring role , and the kiss , an independent comedy-drama .\n",
      "in 2003 , dushku appeared in wrong turn , a horror film in which she had the starring role , and the kiss , an independent comedy-drama . 1.0\n",
      "\n",
      "his fighting style is primarily judo but has been modified to fight without the use of a judogi .\n",
      "his fighting style is primarily judo but has been modified to fight without the use of a judogi . 1.0\n",
      "\n",
      "in 1901 , an independent governor was again appointed .\n",
      "in 1901 , an independent governor was again appointed . 1.0\n",
      "\n",
      "the album primarily deals with social issues that the band points on through various songs .\n",
      "the album primarily deals with social issues that the band points on through various songs . 1.0\n",
      "\n",
      "a state religion is a religious body or creed officially endorsed by the state .\n",
      "a state religion is a religious body or creed officially endorsed by the state . 1.0\n",
      "\n",
      "it initially was completely dark , but as voyager 2 approached the planet , a bright core developed and can be seen in most of the highest-resolution images .\n",
      "it initially was completely dark , but as voyager 2 approached the planet , a bright core developed and can be seen in most of the highest-resolution images . 1.0\n",
      "\n",
      "according to kojiki , the entrance to yomi lies in izumo province and was sealed off by izanagi-no-mikoto upon his flight from yomi , at which time he permanently blocked the entrance by placing a massive boulder at the base of the slope that leads to yomi . upon his return to ashihara-no-nakatsukuni , izanagi noted that yomi is a \" polluted land \" .\n",
      "according to kojiki , the entrance to yomi lies in izumo province and was sealed off by izanagi-no-mikoto upon his flight from yomi , at which time he permanently blocked the entrance by placing a massive boulder at the base of the slope that leads to yomi . upon his return to ashihara-no-nakatsukuni , izanagi noted that yomi is a \" polluted land \" . 1.0\n",
      "\n",
      "its status as an official geological period was ratified in 2004 by the international union of geological sciences , making it the first new geological period declared in 120 years .\n",
      "its status as an official geological period was ratified in 2004 by the international union of geological sciences , making it the first new geological period declared in 120 years . 1.0\n",
      "\n",
      "nearby there is the goobang national park , and peak hill which features an open cut mine that can be toured during holidays .\n",
      "nearby there is the goobang national park , and peak hill which features an open cut mine that can be toured during holidays . 1.0\n",
      "\n",
      "good friday , also called holy friday , black friday , or great friday , is a holiday observed primarily by adherents to christianity commemorating the crucifixion of jesus and his death at calvary .\n",
      "good friday , also called holy friday , black friday , or great friday , is a holiday observed primarily by adherents to christianity commemorating the crucifixion of jesus and his death at calvary . 1.0\n",
      "\n",
      "as of , it lies at latitude 66 33 39 south of the equator .\n",
      "as of , it lies at latitude 66 33 39 south of the equator . 1.0\n",
      "\n",
      "during the first boer war , the city was besieged by republican forces in december 1880 and march 1881 .\n",
      "during the first boer war , the city was besieged by republican forces in december 1880 and march 1881 . 1.0\n",
      "\n",
      "one of the defining aspects of the nintendo gamecube is the rejuvenated relationship between nintendo and its licensees . unlike previous generations in which nintendo was seen by some as bullying its third-party game developers , nintendo openly sought game-development aid on the nintendo gamecube .\n",
      "one of the defining aspects of the nintendo gamecube is the rejuvenated relationship between nintendo and its licensees . unlike previous generations in which nintendo was seen by some as bullying its third-party game developers , nintendo openly sought game-development aid on the nintendo gamecube . 1.0\n",
      "\n",
      "montgomery county of the u.s. state of maryland is situated just north of washington , d.c. and southwest of baltimore .\n",
      "montgomery county of the u.s. state of maryland is situated just north of washington , d.c. and southwest of baltimore . 1.0\n",
      "\n",
      "the birthday cake is traditionally highly decorated , and typically covered with lit candles when presented , the number of candles signifying the age of the celebrant .\n",
      "the birthday cake is traditionally highly decorated , and typically covered with lit candles when presented , the number of candles signifying the age of the celebrant . 1.0\n",
      "\n",
      "in wales , four church of england dioceses were disestablished in 1920 , becoming separated from the church of england in the process and subsequently becoming the church in wales .\n",
      "in wales , four church of england dioceses were disestablished in 1920 , becoming separated from the church of england in the process and subsequently becoming the church in wales . 1.0\n",
      "\n",
      "the true cross is the name for physical remnants which , by a christian tradition , are believed to be from the cross upon which jesus was crucified .\n",
      "the true cross is the name for physical remnants which , by a christian tradition , are believed to be from the cross upon which jesus was crucified . 1.0\n",
      "\n",
      "seafloor spreading occurs at mid-ocean ridges , where new oceanic crust is formed through volcanic activity and then gradually moves away from the ridge .\n",
      "seafloor spreading occurs at mid-ocean ridges , where new oceanic crust is formed through volcanic activity and then gradually moves away from the ridge . 1.0\n",
      "\n",
      "it reached a peak position of number thirty-seven on the billboard hot modern rock tracks chart .\n",
      "it reached a peak position of number thirty-seven on the billboard hot modern rock tracks chart . 1.0\n",
      "\n",
      "the shinto pantheon alone consists of an uncountable number of kami .\n",
      "the shinto pantheon alone consists of an uncountable number of kami . 1.0\n",
      "\n",
      "business development manager strategic alliances this individual will be responsible for coordinating , negotiating , launching , and managing accuity 's partner relationships .\n",
      "business development manager strategic alliances this individual will be responsible for coordinating , negotiating , launching , and managing accuity 's partner relationships . 1.0\n",
      "\n",
      "it is relatively simple to find lenses which will maintain reasonably good central resolution the central resolution , but thus far , i have not been able to achieve an edge resolution better than about 0.1 mm with \" off the shelf \" lenses .\n",
      "it is relatively simple to find lenses which will maintain reasonably good central resolution the central resolution , but thus far , i have not been able to achieve an edge resolution better than about 0.1 mm with \" off the shelf \" lenses . 1.0\n",
      "\n",
      "the calculation is based on the loan 's original principal , so fellows who are not recent graduates , and thus have been making loan payments , are treated the same as new graduates .\n",
      "the calculation is based on the loan 's original principal , so fellows who are not recent graduates , and thus have been making loan payments , are treated the same as new graduates . 1.0\n",
      "\n",
      "thus for example , ophthalmologists will need to know in a given population how many people of a particular age group and/or sex will suffer a retina detachment in the course of a year .\n",
      "thus for example , ophthalmologists will need to know in a given population how many people of a particular age group and/or sex will suffer a retina detachment in the course of a year . 1.0\n",
      "\n",
      "although he 's pitched 200 innings for the first time since mike had a girlfriend ( 200 innings being 6 more than any met has pitched this season thus far ) , pedro has , again , seemed annoyingly off-balance lately .\n",
      "although he 's pitched 200 innings for the first time since mike had a girlfriend ( 200 innings being 6 more than any met has pitched this season thus far ) , pedro has , again , seemed annoyingly off-balance lately . 1.0\n",
      "\n",
      "grey 's reformist doctrines can thus be seen , not as an attempt to set out on the road to democracy , but as a means to strengthen the power of his own class , the aristocracy .\n",
      "grey 's reformist doctrines can thus be seen , not as an attempt to set out on the road to democracy , but as a means to strengthen the power of his own class , the aristocracy . 1.0\n",
      "\n",
      "a clear imperative thus confronts american progressives -- that intricate ( and frequently fragile ) web of communities comprised of people of color , feminists , gays and lesbians , the poor and working class , as well as ethnic whites who value ethnicity , indeed all who have been systematically disenfrancised and dehumanized under the once ascendant \" traditional values \" of pre-civil rights america .\n",
      "a clear imperative thus confronts american progressives -- that intricate ( and frequently fragile ) web of communities comprised of people of color , feminists , gays and lesbians , the poor and working class , as well as ethnic whites who value ethnicity , indeed all who have been systematically disenfrancised and dehumanized under the once ascendant \" traditional values \" of pre-civil rights america . 1.0\n",
      "\n",
      "we struggle to think of any other minority group in society who would be so easily and conveniently stereotyped and are saddened that law abiding , genuine football supporters of both sexes , all ages and backgrounds who want to stand are thus thought of and portrayed as would be hooligans merely because they prefer to stand .\n",
      "we struggle to think of any other minority group in society who would be so easily and conveniently stereotyped and are saddened that law abiding , genuine football supporters of both sexes , all ages and backgrounds who want to stand are thus thought of and portrayed as would be hooligans merely because they prefer to stand . 1.0\n",
      "\n",
      "the kind of control he exercises is thus likely to be limited to \" passive \" control such as inspection of produced goods and testing to insure that quality standards are being met .\n",
      "the kind of control he exercises is thus likely to be limited to \" passive \" control such as inspection of produced goods and testing to insure that quality standards are being met . 1.0\n",
      "\n",
      "thus they can connect with \" who found them \" .\n",
      "thus they can connect with \" who found them \" . 1.0\n",
      "\n",
      "the experiment also helps us in understanding the language of dreams , and thus begins the process of interpretation .\n",
      "the experiment also helps us in understanding the language of dreams , and thus begins the process of interpretation . 1.0\n",
      "\n",
      "going to court : civil trial procedure this pamphlet explains what happens when you go to court about civil cases involving negligence or damages .\n",
      "going to court : civil trial procedure this pamphlet explains what happens when you go to court about civil cases involving negligence or damages . 1.0\n",
      "\n",
      "with all due respect to our civil authorities and lawmakers , we are called to testify by word and action , to the essential truths of our faith .\n",
      "with all due respect to our civil authorities and lawmakers , we are called to testify by word and action , to the essential truths of our faith . 1.0\n",
      "\n",
      "it is contrary to the spirit of civil law , and to the natural working of economic law .\n",
      "it is contrary to the spirit of civil law , and to the natural working of economic law . 1.0\n",
      "\n",
      "yes , we occasionally get into some heated discussions here , and the language can get a bit colorful at times , but in general , the posters are relatively civil and well-behaved .\n",
      "yes , we occasionally get into some heated discussions here , and the language can get a bit colorful at times , but in general , the posters are relatively civil and well-behaved . 1.0\n",
      "\n",
      "lionel , singapore lebanon has overcome all adversities in the past , ranging from civil wars to israeli invasion .\n",
      "lionel , singapore lebanon has overcome all adversities in the past , ranging from civil wars to israeli invasion . 1.0\n",
      "\n",
      "this means combating corruption , building strong and accountable public sectors which have the necessary staff to deliver vital services , and ensuring that parliaments , civil society , and the media can monitor public spending and act as watchdogs against corruption .\n",
      "this means combating corruption , building strong and accountable public sectors which have the necessary staff to deliver vital services , and ensuring that parliaments , civil society , and the media can monitor public spending and act as watchdogs against corruption . 1.0\n",
      "\n",
      "truly classy people find a way to be polite , civil and courteous .\n",
      "truly classy people find a way to be polite , civil and courteous . 1.0\n",
      "\n",
      "not just another period piece on germany 's disturbing past , this film should have deep resonance for today 's movie fans who are concerned about civil and human rights .\n",
      "not just another period piece on germany 's disturbing past , this film should have deep resonance for today 's movie fans who are concerned about civil and human rights . 1.0\n",
      "\n",
      "spontaneous gestures are a pie in the face of civil society .\n",
      "spontaneous gestures are a pie in the face of civil society . 1.0\n",
      "\n",
      "since civil discourse in our country is increasingly lacking , and the word insanity in this context implies a lack of such civility , how can that be a good thing for anybody or the mark of a great president ? eh , one episode , wha-evuh .\n",
      "since civil discourse in our country is increasingly lacking , and the word insanity in this context implies a lack of such civility , how can that be a good thing for anybody or the mark of a great president ? eh , one episode , wha-evuh . 1.0\n",
      "\n",
      "the different variables defining the optimal state can therefore be seen as intrinsic needs .\n",
      "the different variables defining the optimal state can therefore be seen as intrinsic needs . 1.0\n",
      "\n",
      "this is not a new phenomenon , but one inherent to capitalism itself and recognised by karl marx who pointed out that \" during its time of circulation capital does not perform the functions of productive capital and therefore produces neither commodities nor surplus-value \" 16 and , circulation proceeds in space and time .\n",
      "this is not a new phenomenon , but one inherent to capitalism itself and recognised by karl marx who pointed out that \" during its time of circulation capital does not perform the functions of productive capital and therefore produces neither commodities nor surplus-value \" 16 and , circulation proceeds in space and time . 1.0\n",
      "\n",
      "the terms therefore seek to preclude plaxo from complying with a request by an individual for alteration or deletion of their personal data .\n",
      "the terms therefore seek to preclude plaxo from complying with a request by an individual for alteration or deletion of their personal data . 1.0\n",
      "\n",
      "psychologists are not doctors and therefore they can not prescribe medication .\n",
      "psychologists are not doctors and therefore they can not prescribe medication . 1.0\n",
      "\n",
      "labour market deregulation is therefore instrumental in boosting jobs and reducing unemployment .\n",
      "labour market deregulation is therefore instrumental in boosting jobs and reducing unemployment . 1.0\n",
      "\n",
      "you should therefore report the break-in to the police .\n",
      "you should therefore report the break-in to the police . 1.0\n",
      "\n",
      "we therefore oppose the government 's proposals .\n",
      "we therefore oppose the government 's proposals . 1.0\n",
      "\n",
      "this setting exists to prevent accidental 'panning ' on mouse downs that are intended for other actions ( and therefore , prevent unintended changing of the scaling into manual mode ) .\n",
      "this setting exists to prevent accidental 'panning ' on mouse downs that are intended for other actions ( and therefore , prevent unintended changing of the scaling into manual mode ) . 1.0\n",
      "\n",
      "you will therefore permit me to repeat , emphatically , that marley was as dead as a door-nail .\n",
      "you will therefore permit me to repeat , emphatically , that marley was as dead as a door-nail . 1.0\n",
      "\n",
      "a subsidiary was floated in the uk , tata tea ( gb ) ltd. , which acquired the controlling interest in the tetley group .\n",
      "a subsidiary was floated in the uk , tata tea ( gb ) ltd. , which acquired the controlling interest in the tetley group . 1.0\n",
      "\n",
      "how many times have i caught up with those people several years later , to discover that they have acquired a lifestyle , a car and a mortgage to match their salary , and that their initial ideals have faded to the haziest of memories , which they now dismiss as a post-adolescent fantasy ?\n",
      "how many times have i caught up with those people several years later , to discover that they have acquired a lifestyle , a car and a mortgage to match their salary , and that their initial ideals have faded to the haziest of memories , which they now dismiss as a post-adolescent fantasy ? 1.0\n",
      "\n",
      "thank you for having osiris here . we 've been involved in mesenchymal stem cell , adult stem cell research for about 11 years now . our technology came out of arnie kaplan 's lab and was acquired from case western at that time , and we 've been solely focused in that area since on several applications .\n",
      "thank you for having osiris here . we 've been involved in mesenchymal stem cell , adult stem cell research for about 11 years now . our technology came out of arnie kaplan 's lab and was acquired from case western at that time , and we 've been solely focused in that area since on several applications . 1.0\n",
      "\n",
      "more than 200 of the most significant works acquired by the corning museum of glass during the 1990s , to augment its holdings of 35,000 objects , are featured here .\n",
      "more than 200 of the most significant works acquired by the corning museum of glass during the 1990s , to augment its holdings of 35,000 objects , are featured here . 1.0\n",
      "\n",
      "to understand why this should have been so , we need to look more closely at the nature of the style and its origins .\n",
      "to understand why this should have been so , we need to look more closely at the nature of the style and its origins . 1.0\n",
      "\n",
      "some people have guessed that this radiation is closely related to a period of intense cold and a high level of ice cover occurring around 600 mya ; perhaps environmental stresses wiped out competitors and created opportunities for a ( relatively ) clever animal to succeed and proliferate .\n",
      "some people have guessed that this radiation is closely related to a period of intense cold and a high level of ice cover occurring around 600 mya ; perhaps environmental stresses wiped out competitors and created opportunities for a ( relatively ) clever animal to succeed and proliferate . 1.0\n",
      "\n",
      "they are working closely with natural tunnel state park , where the staff , eager to have additional housing nearby , have assured the bakers that they will be booked on a regular basis since the demand for housing outweighs supply .\n",
      "they are working closely with natural tunnel state park , where the staff , eager to have additional housing nearby , have assured the bakers that they will be booked on a regular basis since the demand for housing outweighs supply . 1.0\n",
      "\n",
      "the department is also working closely with hm customs and excise who are in the lead on developing the national lorry road user charging scheme .\n",
      "the department is also working closely with hm customs and excise who are in the lead on developing the national lorry road user charging scheme . 1.0\n",
      "\n",
      "retail : in the u.s. , analysts will be looking closely at third-quarter results .\n",
      "retail : in the u.s. , analysts will be looking closely at third-quarter results . 1.0\n",
      "\n",
      "their academic careers are closely intertwined with social and political developments such as secularisation and antisemitism .\n",
      "their academic careers are closely intertwined with social and political developments such as secularisation and antisemitism . 1.0\n",
      "\n",
      " the baby has developed very normally and has been followed closely .\n",
      " the baby has developed very normally and has been followed closely . 1.0\n",
      "\n",
      "to prevent asthma episodes you will have to work closely with your doctor to : develop a medicine plan that keeps you from getting symptoms .\n",
      "to prevent asthma episodes you will have to work closely with your doctor to : develop a medicine plan that keeps you from getting symptoms . 1.0\n",
      "\n",
      "problems are flagged quickly and , working closely with your staff , we propose solutions .\n",
      "problems are flagged quickly and , working closely with your staff , we propose solutions . 1.0\n",
      "\n",
      "what women want on a first date ( updated thursday , dec 5 , 2002 , 02:06:55 pm to reflect the 100 most recent valid responses. ) assuming you are a woman , which most closely matches your idea of a great first date ?\n",
      "what women want on a first date ( updated thursday , dec 5 , 2002 , 02:06:55 pm to reflect the 100 most recent valid responses. ) assuming you are a woman , which most closely matches your idea of a great first date ? 1.0\n",
      "\n",
      " what meeks did not mention is that guea bought the building from her church , victory apostolic faith church in chicago , where she and her father are prominent members , according to cook county property records and the church 's web site .\n",
      " what meeks did not mention is that guea bought the building from her church , victory apostolic faith church in chicago , where she and her father are prominent members , according to cook county property records and the church 's web site . 1.0\n",
      "\n",
      "among the recipients were prominent journalists and producers , scions of the alternative press , and a smattering of current and former intelligence analysts who often serve as sources in news analyses and articles .\n",
      "among the recipients were prominent journalists and producers , scions of the alternative press , and a smattering of current and former intelligence analysts who often serve as sources in news analyses and articles . 1.0\n",
      "\n",
      "update posted at 10:00 am -- permalink back in this post , i reported that the tropicana hotel in las vegas had stopped accepting reservations for after april 15 and that a prominent demolition company had told a reporter that it was studying how to blow up the place .\n",
      "update posted at 10:00 am -- permalink back in this post , i reported that the tropicana hotel in las vegas had stopped accepting reservations for after april 15 and that a prominent demolition company had told a reporter that it was studying how to blow up the place . 1.0\n",
      "\n",
      " evidence is easily found of multipolarity and china 's prominent role in promoting it .\n",
      " evidence is easily found of multipolarity and china 's prominent role in promoting it . 1.0\n",
      "\n",
      "reeling from the effects of world war ii , prominent local businessmen led by the visionary archie jewell , purchased the building in 1943 and renovated it to become \" the international house \" , a newly-created non-profit trade association dedicated to world peace , trade and understanding .\n",
      "reeling from the effects of world war ii , prominent local businessmen led by the visionary archie jewell , purchased the building in 1943 and renovated it to become \" the international house \" , a newly-created non-profit trade association dedicated to world peace , trade and understanding . 1.0\n",
      "\n",
      "there were five references to crawford : three dealing with his present claims that he lied on behalf of the tobacco companies , one dealing with a property dispute , and another , which identified him as a prominent criminal lawyer , who had been involved in 33 capital cases .\n",
      "there were five references to crawford : three dealing with his present claims that he lied on behalf of the tobacco companies , one dealing with a property dispute , and another , which identified him as a prominent criminal lawyer , who had been involved in 33 capital cases . 1.0\n",
      "\n",
      "expansion of markets , improvement of profit potential , and reduction of cost factors join the enhancement of competitive position as prominent forces moving organizations toward globalization .\n",
      "expansion of markets , improvement of profit potential , and reduction of cost factors join the enhancement of competitive position as prominent forces moving organizations toward globalization . 1.0\n",
      "\n",
      "i have argued in my previous article for pdf that \" [ f ] or armstrong williams-like bloggers actually paid by campaigns or other political committees to promote or attack a candidate for federal office , prominent and on-the-spot disclosure should be mandated . \" a disclosure on a campaign 's website in a quarterly report after the election deprives voters of valuable information about the possible motivations for an analysis or commentary appearing on a website .\n",
      "i have argued in my previous article for pdf that \" [ f ] or armstrong williams-like bloggers actually paid by campaigns or other political committees to promote or attack a candidate for federal office , prominent and on-the-spot disclosure should be mandated . \" a disclosure on a campaign 's website in a quarterly report after the election deprives voters of valuable information about the possible motivations for an analysis or commentary appearing on a website . 1.0\n",
      "\n",
      "this pattern of bad journalism is a prominent feature of every pro-hoax text and video .\n",
      "this pattern of bad journalism is a prominent feature of every pro-hoax text and video . 1.0\n",
      "\n",
      "apple vs. microsoft my altavista survey results revealed that \" gates hate \" is more prominent among mac fans than with other groups -- providing a rationale for starting with apple in our examination of the various conflicts listed above .\n",
      "apple vs. microsoft my altavista survey results revealed that \" gates hate \" is more prominent among mac fans than with other groups -- providing a rationale for starting with apple in our examination of the various conflicts listed above . 1.0\n",
      "\n",
      "posted by : robrob at june 23 , 2005 02:04 am where will the greed of corporations intent on rendering skilled american workers obsolete end ?\n",
      "posted by : robrob at june 23 , 2005 02:04 am where will the greed of corporations intent on rendering skilled american workers obsolete end ? 1.0\n",
      "\n",
      "in particular , provision of an alternative route for cyclists should never be regarded as an excuse for rendering the original road or junction unsuitable for cyclists .\n",
      "in particular , provision of an alternative route for cyclists should never be regarded as an excuse for rendering the original road or junction unsuitable for cyclists . 1.0\n",
      "\n",
      " this renders necessary a brief review of the position occupied by the administration on this important and vital question .\n",
      " this renders necessary a brief review of the position occupied by the administration on this important and vital question . 1.0\n",
      "\n",
      "spaghettini with mullet roe and grated vegetables , and penne with sundried tomatoes and basil were both full of flavour and pleasantly light , which was lucky as i was almost defeated by an exceptionally tender and tasty lamb shank to follow .\n",
      "spaghettini with mullet roe and grated vegetables , and penne with sundried tomatoes and basil were both full of flavour and pleasantly light , which was lucky as i was almost defeated by an exceptionally tender and tasty lamb shank to follow . 1.0\n",
      "\n",
      "women usually notice little change in their breasts , but if you are a man , your breasts may become slightly larger and may be tender .\n",
      "women usually notice little change in their breasts , but if you are a man , your breasts may become slightly larger and may be tender . 1.0\n",
      "\n",
      " i can be very , very strong , but on the other hand , i have very tender sentiments .\n",
      " i can be very , very strong , but on the other hand , i have very tender sentiments . 1.0\n",
      "\n",
      "rabbits often feed on young , tender perennial growth as it emerges in spring , or on young transplants .\n",
      "rabbits often feed on young , tender perennial growth as it emerges in spring , or on young transplants . 1.0\n",
      "\n",
      "the grilled octopus was very tender .\n",
      "the grilled octopus was very tender . 1.0\n",
      "\n",
      "cook the rice , covered , over boiling water for about 30 minutes , or until the grains are tender .\n",
      "cook the rice , covered , over boiling water for about 30 minutes , or until the grains are tender . 1.0\n",
      "\n",
      "they feed at that period on the opening buds of maples , and others that are equally tender and juicy .\n",
      "they feed at that period on the opening buds of maples , and others that are equally tender and juicy . 1.0\n",
      "\n",
      "anne bradstreet 's poetry is so tender and poignant , cotton mather 's preaching is both ornery and passionate , richard baxter 's reformed pastor is one of the classics , and jonathan edwards , is , well , jonathan edwards ( if you consider him a puritan , not everyone does. ) oh , by the way , great article about puritans here .\n",
      "anne bradstreet 's poetry is so tender and poignant , cotton mather 's preaching is both ornery and passionate , richard baxter 's reformed pastor is one of the classics , and jonathan edwards , is , well , jonathan edwards ( if you consider him a puritan , not everyone does. ) oh , by the way , great article about puritans here . 1.0\n",
      "\n",
      "china , india , latin america and the rest of asia will help grow worldwide demand for electric power by 59 percent over the next two decades . \" the hydrogen economy is based on the idea that fuel cells that run on hydrogen have the potential to replace current energy systems in all forms , from vehicle propulsion to stationary power generation to mobile phone batteries .\n",
      "china , india , latin america and the rest of asia will help grow worldwide demand for electric power by 59 percent over the next two decades . \" the hydrogen economy is based on the idea that fuel cells that run on hydrogen have the potential to replace current energy systems in all forms , from vehicle propulsion to stationary power generation to mobile phone batteries . 1.0\n",
      "\n",
      "this has been , at times , merely an effort to gain greater public renown for their group or cause , but more troubling have been the groups seeking to push forward al-qaida 's agenda of worldwide terror .\n",
      "this has been , at times , merely an effort to gain greater public renown for their group or cause , but more troubling have been the groups seeking to push forward al-qaida 's agenda of worldwide terror . 1.0\n",
      "\n",
      "this is where the information revolution is happening -- and our share of these voices is smaller and smaller -- so america must find way to reach and engage a wider , younger , more diverse worldwide audience .\n",
      "this is where the information revolution is happening -- and our share of these voices is smaller and smaller -- so america must find way to reach and engage a wider , younger , more diverse worldwide audience . 1.0\n",
      "\n",
      "that same thing could happen if we had a manhattan type project focusing on renewables , potential worldwide markets , if we are the leader , and we have every reason to be the leader because we have the biggest problem .\n",
      "that same thing could happen if we had a manhattan type project focusing on renewables , potential worldwide markets , if we are the leader , and we have every reason to be the leader because we have the biggest problem . 1.0\n",
      "\n",
      "at the time of writing , the anti-semitic policies of the soviet union are also a subject of worldwide protest .\n",
      "at the time of writing , the anti-semitic policies of the soviet union are also a subject of worldwide protest . 1.0\n",
      "\n",
      "he suggested building an experimental hypertext ' web ' for the worldwide community of physicists who used cern and its publications .\n",
      "he suggested building an experimental hypertext ' web ' for the worldwide community of physicists who used cern and its publications . 1.0\n",
      "\n",
      "furthermore , non-residents can apply to be treated like a resident if his/her income from german sources is either at least 90 percent of his/her worldwide income or his/her non-german source income is less than dm12,000 ( 24,000 for married couples ) .\n",
      "furthermore , non-residents can apply to be treated like a resident if his/her income from german sources is either at least 90 percent of his/her worldwide income or his/her non-german source income is less than dm12,000 ( 24,000 for married couples ) . 1.0\n",
      "\n",
      "after adding the separate partnerships of jlw ireland and jlw scotland , the combined total of our european and north american businesses represented approximately 75 % of worldwide revenue in 1998 , up from approximately 63 % in 1997 .\n",
      "after adding the separate partnerships of jlw ireland and jlw scotland , the combined total of our european and north american businesses represented approximately 75 % of worldwide revenue in 1998 , up from approximately 63 % in 1997 . 1.0\n",
      "\n",
      "osis also provides its users with direct , yet protected , access to the internet and its broad range of worldwide open source information resources .\n",
      "osis also provides its users with direct , yet protected , access to the internet and its broad range of worldwide open source information resources . 1.0\n",
      "\n",
      "like maypoles , wreaths too , as she points out , figure in may day as well as summer solstice celebrations . http : //www.schooloftheseasons.com/signssummer.html [ link updated 5/20/02 ] [ added 26 may 2000 ] : this fun page collects worldwide insights from people who write to waverly and comment on how summer begins for them .\n",
      "like maypoles , wreaths too , as she points out , figure in may day as well as summer solstice celebrations . http : //www.schooloftheseasons.com/signssummer.html [ link updated 5/20/02 ] [ added 26 may 2000 ] : this fun page collects worldwide insights from people who write to waverly and comment on how summer begins for them . 1.0\n",
      "\n",
      "these functions also use scheduling priority to decide which thread gets to execute when there is contention .\n",
      "these functions also use scheduling priority to decide which thread gets to execute when there is contention . 1.0\n",
      "\n",
      "functions of the presidency one way of bringing focus to the presidency is to determine what the functions of the position should be .\n",
      "functions of the presidency one way of bringing focus to the presidency is to determine what the functions of the position should be . 1.0\n",
      "\n",
      "they should take note of darius ' admonitions. -- well i think this is ok because they 're part of your race and therefore part of your extended family .\n",
      "they should take note of darius ' admonitions . -- well i think this is ok because they 're part of your race and therefore part of your extended family . 0.996742671009772\n",
      "\n",
      "loamhedge is a fantasy novel by brian jacques , published in 2003 .\n",
      "outcast of redwall is a fantasy novel by brian jacques , published in 1995 . 0.8111888111888111\n",
      "\n",
      "i will not endure the laughter of the court .\n",
      "it lies on the southern side of lake constance . 0.5591397849462365\n",
      "\n",
      "slaves were previously introduced by the british and french who colonized the island in the 18th century .\n",
      "the city was first founded by the british in 1827 , who leased the island from spain during the colonial period . 0.5570776255707762\n",
      "\n",
      "beaurieux is a commune in the department of aisne in picardy in northern france .\n",
      "grolangheim is a municipality in the district of kitzingen in bavaria in germany . 0.5521472392638037\n",
      "\n",
      "the pennines constitute the main watershed in northern england , dividing the eastern and western parts of the country .\n",
      "located on the river pedieos and situated almost in the center of the island , it is the seat of government as well as the main business center . 0.5509433962264151\n",
      "\n",
      "the process is termed lichenometry .\n",
      "the grilled octopus was very tender . 0.547945205479452\n",
      "\n",
      "the technique consists of precoding the data so as to cancel the effect of the interference .\n",
      "the different variables defining the optimal state can therefore be seen as intrinsic needs . 0.5376344086021505\n",
      "\n",
      "it was discovered and opened about the same time as crystal cave , but was closed by the owners in the 1940s .\n",
      "it was discovered by a team of astronomers led by brett j. gladman , et al . in 2003 . 0.5306122448979592\n",
      "\n",
      "go \" he leaves and she sits down in the chair , looks over the figures and mutters softly to herself as she reaches for the mouse .\n",
      "located on the river pedieos and situated almost in the center of the island , it is the seat of government as well as the main business center . 0.5289855072463768\n",
      "\n",
      "his work is displayed in the museum of modern art in yerevan .\n",
      "grolangheim is a municipality in the district of kitzingen in bavaria in germany . 0.5277777777777778\n",
      "\n",
      "we are also reminding the member states that they should do likewise .\n",
      "the different variables defining the optimal state can therefore be seen as intrinsic needs . 0.5276073619631901\n",
      "\n",
      "the intent is to display the likeness , personality , and even the mood of the person .\n",
      "the experiment also helps us in understanding the language of dreams , and thus begins the process of interpretation . 0.526829268292683\n",
      "\n",
      "the evidence of wallat was given very shortly .\n",
      "the grilled octopus was very tender . 0.5238095238095238\n",
      "\n",
      "the convent has been the official residence of the governor of gibraltar since 1728 .\n",
      "the amazon basin is the part of south america drained by the amazon river and its tributaries . 0.5222222222222223\n",
      "\n",
      "the aar , a tributary of the rhine , is the longest river that both rises and ends entirely within switzerland .\n",
      "the amazon basin is the part of south america drained by the amazon river and its tributaries . 0.5217391304347826\n",
      "\n",
      "there 's a tremendous amount of information on the kitimat pipeline .\n",
      "xanten is also a popular filming location and the site of many concerts . 0.5211267605633803\n",
      "\n",
      "oat bread was first manufactured in england , where the first oat bread factory was established in 1899 .\n",
      "outcast of redwall is a fantasy novel by brian jacques , published in 1995 . 0.5193370165745856\n",
      "\n",
      "the head of ornitholestes was relatively small .\n",
      "the grilled octopus was very tender . 0.5176470588235295\n",
      "\n",
      "the northern part of the continent , covering much of siberia was also inaccessible to the steppe nomads due to the dense forests and the tundra .\n",
      "the northern and western edges of the cotswolds are marked by steep escarpments down to the severn valley and the warwickshire avon . 0.5161290322580645\n",
      "\n",
      "the annual mean temperature is 25 c ; regional mean temperatures range from 18 c in the heart of the cordillera central to as high as 27 c in arid regions .\n",
      "tibooburra has an arid , desert climate with temperatures soaring above 40 celsius in summer , often reaching as high as 47 c . 0.5159010600706714\n",
      "\n",
      "veritas and undina would have been the largest fragments of that collision .\n",
      "to understand why this should have been so , we need to look more closely at the nature of the style and its origins . 0.5154639175257731\n",
      "\n",
      "and the morans have the gall to ruin beethoven 's 6th in the process , too .\n",
      "scene 2 : the doctor rushes by the captain in the street , who urges him to slow down . 0.5153374233128835\n",
      "\n",
      "he was born at arles in present day southern france and possibly raised as a christian .\n",
      "the amazon basin is the part of south america drained by the amazon river and its tributaries . 0.5136612021857924\n",
      "\n",
      "they renamed the place alcante or alcanatif which means port of salt , due to the old salt industry of phoenicians and romans .\n",
      "yass is a prominent area for raising sheep which produce very fine wool due to the soil and climatic conditions of the yass area . 0.5136186770428015\n",
      "\n",
      "usually , these test questions are based entirely on the material covered in the text .\n",
      "spontaneous gestures are a pie in the face of civil society . 0.5135135135135135\n",
      "\n",
      "other females within the social group may assist in the birthing process and tend to the newborns .\n",
      "the album primarily deals with social issues that the band points on through various songs . 0.5130890052356021\n",
      "\n",
      "and this combined annual incidence-rate will endure indefinitely too , until the annual production-rate is altered .\n",
      "yass is a prominent area for raising sheep which produce very fine wool due to the soil and climatic conditions of the yass area . 0.5121951219512195\n",
      "\n",
      "the word cereal derives from ceres , the name of the roman goddess of harvest and agriculture .\n",
      "they locate food by smell , using sensors in the tip of their snout , and regularly feast on ants and termites . 0.5120772946859904\n",
      "\n",
      "over the last several decades , both the town and county have seen tremendous growth .\n",
      " i can be very , very strong , but on the other hand , i have very tender sentiments . 0.5116279069767442\n",
      "\n",
      "external links to other internet sites should not be construed as an endorsement of the views or privacy policies contained therein .\n",
      "the northern and western edges of the cotswolds are marked by steep escarpments down to the severn valley and the warwickshire avon . 0.5112781954887218\n",
      "\n",
      "in particular , per capita incomes in africa have declined relative to the industrial countries and in some countries have declined in absolute terms .\n",
      "in particular , provision of an alternative route for cyclists should never be regarded as an excuse for rendering the original road or junction unsuitable for cyclists . 0.5109034267912772\n",
      "\n",
      "the productivity of crops and pastures , as well as the health of other vegetation , declines as the saline watertable reaches their root zones .\n",
      "located on the river pedieos and situated almost in the center of the island , it is the seat of government as well as the main business center . 0.5103448275862069\n",
      "\n",
      "the pulses were either short or long , representing the dots and dashes of morse code .\n",
      "the books were later adapted into a television series and a feature film . 0.5093167701863354\n",
      "\n",
      "men are supposed to come to the mosque wearing loose and clean clothes that do not reveal the shape of the body .\n",
      "they feed at that period on the opening buds of maples , and others that are equally tender and juicy . 0.5092592592592593\n",
      "\n",
      "in the third book , harry potter and the prisoner of azkaban , rowling uses a time travel premise .\n",
      "the books were later adapted into a television series and a feature film . 0.5086705202312138\n",
      "\n",
      "gravitational energy is the energy associated with the gravitational field .\n",
      "the croatia national football team represents the republic of croatia in international football . 0.5086705202312138\n",
      "\n",
      "do not be swayed by herd constraints -- know that you are working on another level entirely from the rest of the world .\n",
      "at present it is formed by the aa , which descends from the rigi and enters the southern extremity of the lake . 0.5086206896551724\n",
      "\n",
      "the prohibitive cost of heroin in alice springs is keeping the drug off the streets but not entirely out of the town .\n",
      "the experiment also helps us in understanding the language of dreams , and thus begins the process of interpretation . 0.5084745762711864\n",
      "\n",
      "hurricane-force wind gusts were reported in new england .\n",
      "a hurricane struck dominica and puerto rico between july 22 and july 24 . 0.5076923076923077\n",
      "\n",
      "none of your watched items were edited in the time period displayed .\n",
      "spontaneous gestures are a pie in the face of civil society . 0.5076923076923077\n",
      "\n",
      "the sonata did not enter the mainstream repertoire , but it has been more recently championed by such pianists as marc-andr hamelin .\n",
      "it has now been determined that europa is a prograde rotator , but the exact direction in which its pole points remains ambiguous . 0.5075757575757576\n",
      "\n",
      "the hells angels , at the peak of their ' outlaw ' reputation , corralled lost children .\n",
      "they locate food by smell , using sensors in the tip of their snout , and regularly feast on ants and termites . 0.5074626865671642\n",
      "\n",
      "a page that is a redirect can be moved like any other page .\n",
      "aung san suu kyi returned to burma in 1988 to take care of her ailing mother . 0.5072463768115942\n",
      "\n",
      "the town is also well known as a transit point for the camel caravans bringing salt up from the arid lands of the dankal depression .\n",
      "the most common reason for erecting a khachkar was for votive reasons - for the salvation of the soul of either a living or a deceased person . 0.5072463768115942\n",
      "\n",
      "anointing of the sick may be repeated if the person becomes ill again or the danger becomes more acute .\n",
      "the revival of lute in the 20th century revitalized the interest of composers in the instruments of the lute family . 0.5067873303167421\n",
      "\n",
      "there is something just so profound about that .\n",
      "the hush sound is currently on hiatus . 0.5057471264367817\n",
      "\n",
      "a committee of the institute appoints the laureates for the nobel prize in physiology or medicine .\n",
      "psychologists are not doctors and therefore they can not prescribe medication . 0.5056179775280899\n",
      "\n",
      "however , this apparently crushing blow early in a promising career took a strange twist .\n",
      "this pattern of bad journalism is a prominent feature of every pro-hoax text and video . 0.5056179775280899\n",
      "\n",
      "triangles can also be classified according to their internal angles , measured here in degrees .\n",
      " i can be very , very strong , but on the other hand , i have very tender sentiments . 0.5054945054945055\n",
      "\n",
      "the most troublesome situation usually occurs with short journeys from west to east .\n",
      "their quick acceleration makes them suitable for services with short intervals between stations . 0.5054945054945055\n",
      "\n",
      "thousands of videos exist on youtube of users showing the original video to their friends and taping their reactions , although some videos seem to be staged .\n",
      "functions of the presidency one way of bringing focus to the presidency is to determine what the functions of the position should be . 0.5051194539249146\n",
      "\n",
      "the county is divided into three areas of unorganized territory : dupree , north ziebach , and south ziebach .\n",
      "montgomery county of the u.s. state of maryland is situated just north of washington , d.c. and southwest of baltimore . 0.5043478260869565\n",
      "\n",
      "but he could feel the whale was sensing him with sound pulses .\n",
      "you should therefore report the break-in to the police . 0.5042016806722689\n",
      "\n",
      "the river has always been the pulse of the town , although the reasons have changed slightly over the years .\n",
      "located on the river pedieos and situated almost in the center of the island , it is the seat of government as well as the main business center . 0.5039370078740157\n",
      "\n",
      "combining their observations with thermal measurements taken in november 2000 , the team estimated the size of the components of the system .\n",
      "the revival of lute in the 20th century revitalized the interest of composers in the instruments of the lute family . 0.5038759689922481\n",
      "\n",
      "the same is true if you are using internet newspaper sites : some media outlets can be worthy sources of information and analysis and others are not .\n",
      "they locate food by smell , using sensors in the tip of their snout , and regularly feast on ants and termites . 0.5038167938931297\n",
      "\n",
      " what is the world to do in the face of these grim predictions ?\n",
      "psychologists are not doctors and therefore they can not prescribe medication . 0.5034965034965035\n",
      "\n",
      "it is possible that if he had gone earlier he may have recovered .\n",
      "this is a considerably higher total than that of any other european country . 0.5034965034965035\n",
      "\n",
      "much of the water carried by these streams is diverted .\n",
      "the amazon basin is the part of south america drained by the amazon river and its tributaries . 0.5033112582781457\n",
      "\n",
      "fives is a british sport believed to derive from the same origins as many racquet sports .\n",
      "xanten is also a popular filming location and the site of many concerts . 0.5030674846625767\n",
      "\n",
      "if we divide any number by 4 , we would get 1 or 2 or 3 , as the remainders .\n",
      " i can be very , very strong , but on the other hand , i have very tender sentiments . 0.5030674846625767\n",
      "\n",
      "the name \" sea of corts \" is the one preferred by most local residents .\n",
      "the amazon basin is the part of south america drained by the amazon river and its tributaries . 0.5029940119760479\n",
      "\n",
      "for example in 1794 a man called isaac rooke was found apparently dead in a close near nottingham .\n",
      " evidence is easily found of multipolarity and china 's prominent role in promoting it . 0.5026737967914439\n",
      "\n",
      "this was the first time in survivor history that the two initial teams were not preselected by the producers .\n",
      "das rheingold is the first of the four operas that comprise der ring des nibelungen , by richard wagner . 0.5023255813953489\n",
      "\n",
      "in response to the weather system , the american national weather service issued wind watches for the oregon coast .\n",
      "it was founded where the nascent sydney to melbourne road crossed water in the form of the yass river . 0.502283105022831\n",
      "\n",
      "in his distress of mind at being left behind by the caravan , he had not noticed where he had thrown the load .\n",
      "at present it is formed by the aa , which descends from the rigi and enters the southern extremity of the lake . 0.5022421524663677\n",
      "\n",
      "stone floor tiles tend to be heavier than ceramic tiles and somewhat more prone to breakage during shipment .\n",
      "nearby there is the goobang national park , and peak hill which features an open cut mine that can be toured during holidays . 0.502127659574468\n",
      "\n",
      "especially in a legislature such as the english , in which the responsibility for the execution of the laws is and must be felt .\n",
      "these functions also use scheduling priority to decide which thread gets to execute when there is contention . 0.502092050209205\n",
      "\n",
      "a guide for the scientific novice - concepts are clearly explained with liberal use of careful definitions and analogy .\n",
      "their academic careers are closely intertwined with social and political developments such as secularisation and antisemitism . 0.5020242914979757\n",
      "\n",
      "it 's also present in adequate quantities in dairy products , eggs and nuts , as well as in combinations of foods such as pulses and grains .\n",
      "yass is a prominent area for raising sheep which produce very fine wool due to the soil and climatic conditions of the yass area . 0.5018450184501845\n",
      "\n",
      "the air force has experienced low levels of equipment availability in the last five years , and availability of the hercules and the aurora fleets continues to decline .\n",
      "the experiment also helps us in understanding the language of dreams , and thus begins the process of interpretation . 0.5017421602787456\n",
      "Compare BenchLS and NNSeval\n",
      "Total Count of similar sentences: 239\n"
     ]
    },
    {
     "name": "stderr",
     "output_type": "stream",
     "text": [
      "\n"
     ]
    }
   ],
   "source": [
    "compare_two_datasets(Dataset.BenchLS, Dataset.NNSeval)"
   ]
  },
  {
   "cell_type": "markdown",
   "metadata": {},
   "source": [
    "## BenchLS and TSAR_EN"
   ]
  },
  {
   "cell_type": "code",
   "execution_count": 2,
   "metadata": {},
   "outputs": [
    {
     "ename": "NameError",
     "evalue": "name 'compare_two_datasets' is not defined",
     "output_type": "error",
     "traceback": [
      "\u001b[0;31m---------------------------------------------------------------------------\u001b[0m",
      "\u001b[0;31mNameError\u001b[0m                                 Traceback (most recent call last)",
      "\u001b[0;32m/tmp/ipykernel_25045/154683456.py\u001b[0m in \u001b[0;36m<module>\u001b[0;34m\u001b[0m\n\u001b[0;32m----> 1\u001b[0;31m \u001b[0mcompare_two_datasets\u001b[0m\u001b[0;34m(\u001b[0m\u001b[0mDataset\u001b[0m\u001b[0;34m.\u001b[0m\u001b[0mBenchLS\u001b[0m\u001b[0;34m,\u001b[0m \u001b[0mDataset\u001b[0m\u001b[0;34m.\u001b[0m\u001b[0mTSAR_EN\u001b[0m\u001b[0;34m)\u001b[0m\u001b[0;34m\u001b[0m\u001b[0;34m\u001b[0m\u001b[0m\n\u001b[0m",
      "\u001b[0;31mNameError\u001b[0m: name 'compare_two_datasets' is not defined"
     ]
    }
   ],
   "source": [
    "compare_two_datasets(Dataset.BenchLS, Dataset.TSAR_EN)"
   ]
  },
  {
   "cell_type": "markdown",
   "metadata": {},
   "source": [
    "## BenchLS and SemEval2012"
   ]
  },
  {
   "cell_type": "code",
   "execution_count": 47,
   "metadata": {},
   "outputs": [
    {
     "name": "stderr",
     "output_type": "stream",
     "text": [
      "100%|██████████| 929/929 [00:09<00:00, 101.50it/s]"
     ]
    },
    {
     "name": "stdout",
     "output_type": "stream",
     "text": [
      "\n",
      "suddenly there was a scattering of fire , which three outfielders caught the brunt ; the centerfield was hit and was captured , left and right field managed to get back to our lines .\n",
      "suddenly there was a scattering of fire , which three outfielders caught the brunt ; the centerfield was hit and was captured , left and right field managed to get back to our lines . 1.0\n",
      "\n",
      " c158 ( cf ex r145 ) \" the provincial in councilor the superior ofthe delegation in councilsets the financial competency of local superiorsand their councilsand determines which assets can be managed by individualoblates and by local superiors and their councils .\n",
      " c158 ( cf ex r145 ) \" the provincial in councilor the superior ofthe delegation in councilsets the financial competency of local superiorsand their councilsand determines which assets can be managed by individualoblates and by local superiors and their councils . 1.0\n",
      "\n",
      "business development manager strategic alliances this individual will be responsible for coordinating , negotiating , launching , and managing accuity 's partner relationships .\n",
      "business development manager strategic alliances this individual will be responsible for coordinating , negotiating , launching , and managing accuity 's partner relationships . 1.0\n",
      "\n",
      "a married woman retains ownership of any property she brought to the marriage , but the husband has the right to manage the property and to enjoy profits from the property .\n",
      "a married woman retains ownership of any property she brought to the marriage , but the husband has the right to manage the property and to enjoy profits from the property . 1.0\n",
      "\n",
      "we do not need to ask for your specific permission to do these things , as explained below : treatment partners health care providers will use and share your health information to provide and manage your health care and related services .\n",
      "we do not need to ask for your specific permission to do these things , as explained below : treatment partners health care providers will use and share your health information to provide and manage your health care and related services . 1.0\n",
      "\n",
      "according to a white house press release , al-taqwa and its affiliates \" raise , manage , invest , and distribute funds for al-qaeda ; provide terrorist supporters with internet service and secure telephone communications ; and arrange for the shipment of weapons .\n",
      "according to a white house press release , al-taqwa and its affiliates \" raise , manage , invest , and distribute funds for al-qaeda ; provide terrorist supporters with internet service and secure telephone communications ; and arrange for the shipment of weapons . 1.0\n",
      "\n",
      "that is , if the average person ( say this is 98 % of people ) amasses 10 things , if i manage to acquire 20 things then perhaps my account is not worth twice as much but maybe 10x or 100x as much as average .\n",
      "that is , if the average person ( say this is 98 % of people ) amasses 10 things , if i manage to acquire 20 things then perhaps my account is not worth twice as much but maybe 10x or 100x as much as average . 1.0\n",
      "\n",
      "there are different types of managed care systems .\n",
      "there are different types of managed care systems . 1.0\n",
      "\n",
      "saddam hussein did n't manage to defeat the iranians .\n",
      "saddam hussein did n't manage to defeat the iranians . 1.0\n",
      "\n",
      "rubinstein held the gambit pawn with 4.bf4 and 7.qd5 , but his neglect of kingside development was severely punished .\n",
      "rubinstein held the gambit pawn with 4.bf4 and 7.qd5 , but his neglect of kingside development was severely punished . 1.0\n",
      "\n",
      "this veteran , the oldest pensioner in great britain , entered the army in 1758 , and was severely wounded at the battle of quebec under general wolfe , in consequence of which he became an out-pensioner of chelsea hospital , and continued so for the period of seventy-five years .\n",
      "this veteran , the oldest pensioner in great britain , entered the army in 1758 , and was severely wounded at the battle of quebec under general wolfe , in consequence of which he became an out-pensioner of chelsea hospital , and continued so for the period of seventy-five years . 1.0\n",
      "\n",
      "perhaps the effect of west nile virus is sufficient to extinguish endemic birds already severely stressed by habitat losses .\n",
      "perhaps the effect of west nile virus is sufficient to extinguish endemic birds already severely stressed by habitat losses . 1.0\n",
      "\n",
      "she looked as severely as she could muster at draco .\n",
      "she looked as severely as she could muster at draco . 1.0\n",
      "\n",
      "a day before he was due to return to the united states patton was severely injured in a road accident .\n",
      "a day before he was due to return to the united states patton was severely injured in a road accident . 1.0\n",
      "\n",
      "use market tools to address environmental issues , such as eliminating subsidies for industries that severely harm the environment , like coal .\n",
      "use market tools to address environmental issues , such as eliminating subsidies for industries that severely harm the environment , like coal . 1.0\n",
      "\n",
      "this picture was severely damaged in the flood of 1913 and has rarely been seen until now .\n",
      "this picture was severely damaged in the flood of 1913 and has rarely been seen until now . 1.0\n",
      "\n",
      "i was very disappointed when the author did not go into detail about how he regained his faith after having it severely undermined by his early studies in theology at university .\n",
      "i was very disappointed when the author did not go into detail about how he regained his faith after having it severely undermined by his early studies in theology at university . 1.0\n",
      "\n",
      "we do continue to support research on the differentiation of adult precursor cells into beta cells , but that 's a severely limited field in terms of how successful it has been .\n",
      "we do continue to support research on the differentiation of adult precursor cells into beta cells , but that 's a severely limited field in terms of how successful it has been . 1.0\n",
      "\n",
      "mutual funds are so severely conflicted that they will not avail themselves of the alleged benefits of the proposed rule .\n",
      "mutual funds are so severely conflicted that they will not avail themselves of the alleged benefits of the proposed rule . 1.0\n",
      "\n",
      "however , the examination will be detailed if the applicant expressly requests it ( for example , at the same time as filing the demand ) , or if the applicant files amendments and/or arguments ( for example , in response to the international search report , with the demand or in response to a written opinion ; see below ) .\n",
      "however , the examination will be detailed if the applicant expressly requests it ( for example , at the same time as filing the demand ) , or if the applicant files amendments and/or arguments ( for example , in response to the international search report , with the demand or in response to a written opinion ; see below ) . 1.0\n",
      "\n",
      "from the previous examination last week the auto-immune deficiency could also be excluded .\n",
      "from the previous examination last week the auto-immune deficiency could also be excluded . 1.0\n",
      "\n",
      "readers will appreciate this well-researched examination .\n",
      "readers will appreciate this well-researched examination . 1.0\n",
      "\n",
      "as well , he will continue his examination of the transatlantic connections that fuelled the slave trade .\n",
      "as well , he will continue his examination of the transatlantic connections that fuelled the slave trade . 1.0\n",
      "\n",
      "the us ranks 37th in a world health organization examination of the world 's health care systems .\n",
      "the us ranks 37th in a world health organization examination of the world 's health care systems . 1.0\n",
      "\n",
      "40 among studies that found differences in procedure use in sex-discordant pairings , these differences have been seen largely in sex-specific services such as mammography screening , 25 , 35 , 39 prostate examination , 39 and pelvic examination or papanicolaou smear testing , 25 , 35 , 39 selected procedures that may have produced differences in use rates because of their sex-specific nature .\n",
      "40 among studies that found differences in procedure use in sex-discordant pairings , these differences have been seen largely in sex-specific services such as mammography screening , 25 , 35 , 39 prostate examination , 39 and pelvic examination or papanicolaou smear testing , 25 , 35 , 39 selected procedures that may have produced differences in use rates because of their sex-specific nature . 1.0\n",
      "\n",
      "examination questions , 1961-1965 examination questions , ca 1961-1965 , 30 cm ( c.1 , c.21 ) examination question papers for various courses arranged alphabetically by subject and session .\n",
      "examination questions , 1961-1965 examination questions , ca 1961-1965 , 30 cm ( c.1 , c.21 ) examination question papers for various courses arranged alphabetically by subject and session . 1.0\n",
      "\n",
      "examination leave also includes the mornings of days in which examinations are held in the afternoon as well as the time spent travelling to and from the examination centre .\n",
      "examination leave also includes the mornings of days in which examinations are held in the afternoon as well as the time spent travelling to and from the examination centre . 1.0\n",
      "\n",
      "galls indeed arise from the stinging of the plant tissues by the ovipositors of female gall wasps , and the egg laid in the plant tissues develops inside the gall into a grub , which eventually emerges full-grown and transformed into a mature gall wasp .\n",
      "galls indeed arise from the stinging of the plant tissues by the ovipositors of female gall wasps , and the egg laid in the plant tissues develops inside the gall into a grub , which eventually emerges full-grown and transformed into a mature gall wasp . 1.0\n",
      "\n",
      "these include laparoscopic gall bladder surgery and reflux disease surgery , non-cardiac thoracoscopic chest surgery , and certain cardiotomy procedures such as mitral valve repair .\n",
      "these include laparoscopic gall bladder surgery and reflux disease surgery , non-cardiac thoracoscopic chest surgery , and certain cardiotomy procedures such as mitral valve repair . 1.0\n",
      "\n",
      " ( adams , pp.196-9 ) what arrogance and gall it took to write those words and demand that they be spoken by native tongues .\n",
      " ( adams , pp.196-9 ) what arrogance and gall it took to write those words and demand that they be spoken by native tongues . 1.0\n",
      "\n",
      "in the case of my gall bladder removal , i was out the next day .\n",
      "in the case of my gall bladder removal , i was out the next day . 1.0\n",
      "\n",
      "even galls that formed on their trunks were eaten .\n",
      "even galls that formed on their trunks were eaten . 1.0\n",
      "\n",
      "come to my woman 's breasts , and take my milk for gall , you murdering ministers , wherever in your sightless substances you wait on nature 's mischief !\n",
      "come to my woman 's breasts , and take my milk for gall , you murdering ministers , wherever in your sightless substances you wait on nature 's mischief ! 1.0\n",
      "\n",
      "galls indeed arise from the stinging of the plant tissues by the ovipositors of female gall wasps , and the egg laid in the plant tissues develops inside the gall into a grub , which eventually emerges full-grown and transformed into a mature gall wasp .\n",
      "galls indeed arise from the stinging of the plant tissues by the ovipositors of female gall wasps , and the egg laid in the plant tissues develops inside the gall into a grub , which eventually emerges full-grown and transformed into a mature gall wasp . 1.0\n",
      "\n",
      "in boston magazine 's glowing blurb on via matta , it had the extraordinary gall to say this : \" via matta has unquestionably found its niche with boston 's it crowd .\n",
      "in boston magazine 's glowing blurb on via matta , it had the extraordinary gall to say this : \" via matta has unquestionably found its niche with boston 's it crowd . 1.0\n",
      "\n",
      " what is the world to do in the face of these grim predictions ?\n",
      " what is the world to do in the face of these grim predictions ? 1.0\n",
      "\n",
      "vincent van gogh in 1880 was a 27-year-old failure : a despised and rejected clergyman in a grim backwater mining town in belgium .\n",
      "vincent van gogh in 1880 was a 27-year-old failure : a despised and rejected clergyman in a grim backwater mining town in belgium . 1.0\n",
      "\n",
      "hoarding and saving react with grim vengeance .\n",
      "hoarding and saving react with grim vengeance . 1.0\n",
      "\n",
      " once that grim reality had sunk in , kubrick 's response was an extraordinary tribute to sellers as an actor : \" we ca n't replace him with another actor , we 've got to get an authentic character from life , someone whose acting career is secondary-a real-life cowboy .\n",
      " once that grim reality had sunk in , kubrick 's response was an extraordinary tribute to sellers as an actor : \" we ca n't replace him with another actor , we 've got to get an authentic character from life , someone whose acting career is secondary-a real-life cowboy . 1.0\n",
      "\n",
      "their trip had been a grim struggle with wet pitches , friable rock and bad bolts : they had reached the 1979 limit , but failed to go further .\n",
      "their trip had been a grim struggle with wet pitches , friable rock and bad bolts : they had reached the 1979 limit , but failed to go further . 1.0\n",
      "\n",
      "i 'm concerned that they 're so grim and angry .\n",
      "i 'm concerned that they 're so grim and angry . 1.0\n",
      "\n",
      " that 's lawrence kaplan ' s grim verdict from baghdad .\n",
      " that 's lawrence kaplan ' s grim verdict from baghdad . 1.0\n",
      "\n",
      "it started out looking pretty grim but we had pretty good rainfall in april and may .\n",
      "it started out looking pretty grim but we had pretty good rainfall in april and may . 1.0\n",
      "\n",
      "due to china 's economic reliance on trade , balance of payments should be the main factor for judging whether the yuan exchange rate is reasonable .\n",
      "due to china 's economic reliance on trade , balance of payments should be the main factor for judging whether the yuan exchange rate is reasonable . 1.0\n",
      "\n",
      "copyright law already addressed the issue in a much more reasonable manner .\n",
      "copyright law already addressed the issue in a much more reasonable manner . 1.0\n",
      "\n",
      " what we require now is the co-operation from the federal government to provide a flow of mortgage money through cmhc at reasonable interest rates and to encourage the conventional loans to be channelled into smaller units so that we may have the opportunity of the best housing and building programme in canada in 1971 .\n",
      " what we require now is the co-operation from the federal government to provide a flow of mortgage money through cmhc at reasonable interest rates and to encourage the conventional loans to be channelled into smaller units so that we may have the opportunity of the best housing and building programme in canada in 1971 . 1.0\n",
      "\n",
      "for reasonable people , sure that 'll suffice .\n",
      "for reasonable people , sure that 'll suffice . 1.0\n",
      "\n",
      "your objective should be to negotiate a contract type and price ( or estimated fee and cost ) that will result in reasonable contractor risk and provide the contractor with the greatest incentive for efficient and economical contract performance .\n",
      "your objective should be to negotiate a contract type and price ( or estimated fee and cost ) that will result in reasonable contractor risk and provide the contractor with the greatest incentive for efficient and economical contract performance . 1.0\n",
      "\n",
      "besides overseeing the operation of pipeda and dealing with complaints , i can conduct audits into organizations ' personal information-handling practices , if we have reasonable grounds .\n",
      "besides overseeing the operation of pipeda and dealing with complaints , i can conduct audits into organizations ' personal information-handling practices , if we have reasonable grounds . 1.0\n",
      "\n",
      "the matter of the further evidence may then be heard when the other party has had reasonable opportunity to prepare submissions on the matter .\n",
      "the matter of the further evidence may then be heard when the other party has had reasonable opportunity to prepare submissions on the matter . 1.0\n",
      "\n",
      "this will allow state-licensed health-care providers to utilize safe , non-fda approved , alternative therapies that have a reasonable expectation of therapeutic gain if the patient has been fully informed about the treatment .\n",
      "this will allow state-licensed health-care providers to utilize safe , non-fda approved , alternative therapies that have a reasonable expectation of therapeutic gain if the patient has been fully informed about the treatment . 1.0\n",
      "\n",
      "( 2 ) in a civil action under subsection ( a ) of this section , the court , in its discretion , may allow the prevailing party , other than the united states , a reasonable attorney 's fee and costs .\n",
      "( 2 ) in a civil action under subsection ( a ) of this section , the court , in its discretion , may allow the prevailing party , other than the united states , a reasonable attorney 's fee and costs . 1.0\n",
      "\n",
      "it is relatively simple to find lenses which will maintain reasonably good central resolution the central resolution , but thus far , i have not been able to achieve an edge resolution better than about 0.1 mm with \" off the shelf \" lenses .\n",
      "it is relatively simple to find lenses which will maintain reasonably good central resolution the central resolution , but thus far , i have not been able to achieve an edge resolution better than about 0.1 mm with \" off the shelf \" lenses . 1.0\n",
      "\n",
      "the calculation is based on the loan 's original principal , so fellows who are not recent graduates , and thus have been making loan payments , are treated the same as new graduates .\n",
      "the calculation is based on the loan 's original principal , so fellows who are not recent graduates , and thus have been making loan payments , are treated the same as new graduates . 1.0\n",
      "\n",
      "thus for example , ophthalmologists will need to know in a given population how many people of a particular age group and/or sex will suffer a retina detachment in the course of a year .\n",
      "thus for example , ophthalmologists will need to know in a given population how many people of a particular age group and/or sex will suffer a retina detachment in the course of a year . 1.0\n",
      "\n",
      "although he 's pitched 200 innings for the first time since mike had a girlfriend ( 200 innings being 6 more than any met has pitched this season thus far ) , pedro has , again , seemed annoyingly off-balance lately .\n",
      "although he 's pitched 200 innings for the first time since mike had a girlfriend ( 200 innings being 6 more than any met has pitched this season thus far ) , pedro has , again , seemed annoyingly off-balance lately . 1.0\n",
      "\n",
      "grey 's reformist doctrines can thus be seen , not as an attempt to set out on the road to democracy , but as a means to strengthen the power of his own class , the aristocracy .\n",
      "grey 's reformist doctrines can thus be seen , not as an attempt to set out on the road to democracy , but as a means to strengthen the power of his own class , the aristocracy . 1.0\n",
      "\n",
      "a clear imperative thus confronts american progressives -- that intricate ( and frequently fragile ) web of communities comprised of people of color , feminists , gays and lesbians , the poor and working class , as well as ethnic whites who value ethnicity , indeed all who have been systematically disenfrancised and dehumanized under the once ascendant \" traditional values \" of pre-civil rights america .\n",
      "a clear imperative thus confronts american progressives -- that intricate ( and frequently fragile ) web of communities comprised of people of color , feminists , gays and lesbians , the poor and working class , as well as ethnic whites who value ethnicity , indeed all who have been systematically disenfrancised and dehumanized under the once ascendant \" traditional values \" of pre-civil rights america . 1.0\n",
      "\n",
      "we struggle to think of any other minority group in society who would be so easily and conveniently stereotyped and are saddened that law abiding , genuine football supporters of both sexes , all ages and backgrounds who want to stand are thus thought of and portrayed as would be hooligans merely because they prefer to stand .\n",
      "we struggle to think of any other minority group in society who would be so easily and conveniently stereotyped and are saddened that law abiding , genuine football supporters of both sexes , all ages and backgrounds who want to stand are thus thought of and portrayed as would be hooligans merely because they prefer to stand . 1.0\n",
      "\n",
      "the kind of control he exercises is thus likely to be limited to \" passive \" control such as inspection of produced goods and testing to insure that quality standards are being met .\n",
      "the kind of control he exercises is thus likely to be limited to \" passive \" control such as inspection of produced goods and testing to insure that quality standards are being met . 1.0\n",
      "\n",
      "thus they can connect with \" who found them \" .\n",
      "thus they can connect with \" who found them \" . 1.0\n",
      "\n",
      "the experiment also helps us in understanding the language of dreams , and thus begins the process of interpretation .\n",
      "the experiment also helps us in understanding the language of dreams , and thus begins the process of interpretation . 1.0\n",
      "\n",
      "going to court : civil trial procedure this pamphlet explains what happens when you go to court about civil cases involving negligence or damages .\n",
      "going to court : civil trial procedure this pamphlet explains what happens when you go to court about civil cases involving negligence or damages . 1.0\n",
      "\n",
      "with all due respect to our civil authorities and lawmakers , we are called to testify by word and action , to the essential truths of our faith .\n",
      "with all due respect to our civil authorities and lawmakers , we are called to testify by word and action , to the essential truths of our faith . 1.0\n",
      "\n",
      "it is contrary to the spirit of civil law , and to the natural working of economic law .\n",
      "it is contrary to the spirit of civil law , and to the natural working of economic law . 1.0\n",
      "\n",
      "yes , we occasionally get into some heated discussions here , and the language can get a bit colorful at times , but in general , the posters are relatively civil and well-behaved .\n",
      "yes , we occasionally get into some heated discussions here , and the language can get a bit colorful at times , but in general , the posters are relatively civil and well-behaved . 1.0\n",
      "\n",
      "lionel , singapore lebanon has overcome all adversities in the past , ranging from civil wars to israeli invasion .\n",
      "lionel , singapore lebanon has overcome all adversities in the past , ranging from civil wars to israeli invasion . 1.0\n",
      "\n",
      "this means combating corruption , building strong and accountable public sectors which have the necessary staff to deliver vital services , and ensuring that parliaments , civil society , and the media can monitor public spending and act as watchdogs against corruption .\n",
      "this means combating corruption , building strong and accountable public sectors which have the necessary staff to deliver vital services , and ensuring that parliaments , civil society , and the media can monitor public spending and act as watchdogs against corruption . 1.0\n",
      "\n",
      "truly classy people find a way to be polite , civil and courteous .\n",
      "truly classy people find a way to be polite , civil and courteous . 1.0\n",
      "\n",
      "spontaneous gestures are a pie in the face of civil society .\n",
      "spontaneous gestures are a pie in the face of civil society . 1.0\n",
      "\n",
      "the pulses were either short or long , representing the dots and dashes of morse code .\n",
      "the pulses were either short or long , representing the dots and dashes of morse code . 1.0\n",
      "\n",
      "the river has always been the pulse of the town , although the reasons have changed slightly over the years .\n",
      "the river has always been the pulse of the town , although the reasons have changed slightly over the years . 1.0\n",
      "\n",
      "non alcohol related questions & answers q. i take a fair amount of exercise on a training machine , and my pulse is 110 at the end of the session .\n",
      "non alcohol related questions & answers q. i take a fair amount of exercise on a training machine , and my pulse is 110 at the end of the session . 1.0\n",
      "\n",
      "most of the time , it lies hidden beneath the noise and confusion of our everyday lives , a quiet pulse that almost unconsciously drives us forward to this day and the next .\n",
      "most of the time , it lies hidden beneath the noise and confusion of our everyday lives , a quiet pulse that almost unconsciously drives us forward to this day and the next . 1.0\n",
      "\n",
      "on examination the knee was found to be swollen , and distal limb pulses were absent .\n",
      "on examination the knee was found to be swollen , and distal limb pulses were absent . 1.0\n",
      "\n",
      "sustained bass notes and ambient pulses keep things gently swirling .\n",
      "sustained bass notes and ambient pulses keep things gently swirling . 1.0\n",
      "\n",
      "it 's also present in adequate quantities in dairy products , eggs and nuts , as well as in combinations of foods such as pulses and grains .\n",
      "it 's also present in adequate quantities in dairy products , eggs and nuts , as well as in combinations of foods such as pulses and grains . 1.0\n",
      "\n",
      "but he could feel the whale was sensing him with sound pulses .\n",
      "but he could feel the whale was sensing him with sound pulses . 1.0\n",
      "\n",
      "she drank a great deal of coffee and had a rapid , thin pulse .\n",
      "she drank a great deal of coffee and had a rapid , thin pulse . 1.0\n",
      "\n",
      "go \" he leaves and she sits down in the chair , looks over the figures and mutters softly to herself as she reaches for the mouse .\n",
      "go \" he leaves and she sits down in the chair , looks over the figures and mutters softly to herself as she reaches for the mouse . 1.0\n",
      "\n",
      "the best small cars ride smoothly , even over uneven road surfaces , but are not so softly sprung that they wallow when turning , braking or accelerating .\n",
      "the best small cars ride smoothly , even over uneven road surfaces , but are not so softly sprung that they wallow when turning , braking or accelerating . 1.0\n",
      "\n",
      "it was falling on every part of the dark central plain , on the treeless hills , falling softly upon the bog of allen and , farther westward , softly falling into the dark mutinous shannon waves .\n",
      "it was falling on every part of the dark central plain , on the treeless hills , falling softly upon the bog of allen and , farther westward , softly falling into the dark mutinous shannon waves . 1.0\n",
      "\n",
      "it should not be that a son should remember his father for having tapped the table after a meal ... smiling softly , he touched his knuckles to his lips .\n",
      "it should not be that a son should remember his father for having tapped the table after a meal ... smiling softly , he touched his knuckles to his lips . 1.0\n",
      "\n",
      "finally she smiled softly and told him , \" as a matter of fact i did .\n",
      "finally she smiled softly and told him , \" as a matter of fact i did . 1.0\n",
      "\n",
      "the wood was softly polished , the bronze had a beautiful green\n",
      "the wood was softly polished , the bronze had a beautiful green 1.0\n",
      "\n",
      "that day , said the father softly with tears now rolling down his face , the boys from both teams helped bring a piece of true love and humanity into this world .\n",
      "that day , said the father softly with tears now rolling down his face , the boys from both teams helped bring a piece of true love and humanity into this world . 1.0\n",
      "\n",
      "nia steps beside rafe , her hands gripping softly on the straps of her backpack .\n",
      "nia steps beside rafe , her hands gripping softly on the straps of her backpack . 1.0\n",
      "\n",
      "in the front seat stel and dominic are chuckling softly at us and dominic slides in a tape of sky-noise .\n",
      "in the front seat stel and dominic are chuckling softly at us and dominic slides in a tape of sky-noise . 1.0\n",
      "\n",
      "if we divide any number by 4 , we would get 1 or 2 or 3 , as the remainders .\n",
      "if we divide any number by 4 , we would get 1 or 2 or 3 , as the remainders . 1.0\n",
      "\n",
      "the majority of subjects , 90 percent , came from the metropolitan seattle area , with the remainder coming from across the united states .\n",
      "the majority of subjects , 90 percent , came from the metropolitan seattle area , with the remainder coming from across the united states . 1.0\n",
      "\n",
      "humor books , which are ephemeral , and appeal to a narrow audience , often go out of print quickly ; they are especially likely to turn up at remainder houses or remainder tables in bookstores .\n",
      "humor books , which are ephemeral , and appeal to a narrow audience , often go out of print quickly ; they are especially likely to turn up at remainder houses or remainder tables in bookstores . 1.0\n",
      "\n",
      "the remainder of the soup list evokes eastern europe , comprising soljanka , a ruddy vegetable-based soup containing a significant fraction of some unfortunate animal ( $ 4.50 ) and a sweetish roasted beet soup ( $ 4 ) .\n",
      "the remainder of the soup list evokes eastern europe , comprising soljanka , a ruddy vegetable-based soup containing a significant fraction of some unfortunate animal ( $ 4.50 ) and a sweetish roasted beet soup ( $ 4 ) . 1.0\n",
      "\n",
      "however , with only .14 of an inch falling the remainder of the month , this left only 2.86 for the month , or .69 of an inch below normal .\n",
      "however , with only .14 of an inch falling the remainder of the month , this left only 2.86 for the month , or .69 of an inch below normal . 1.0\n",
      "\n",
      "jimfurtado - this thread is the sum of a remainder of an unbalanced equation inherent to the programming of the primate .\n",
      "jimfurtado - this thread is the sum of a remainder of an unbalanced equation inherent to the programming of the primate . 1.0\n",
      "\n",
      "of course a whole number can be negative and we have to agree what we mean by the remainder in this case ; for example , what is the remainder of -12 when we divide it by 10 ?\n",
      "of course a whole number can be negative and we have to agree what we mean by the remainder in this case ; for example , what is the remainder of -12 when we divide it by 10 ? 1.0\n",
      "\n",
      "cost : $ 1,990.00 for the eleven day trip , ( payable with a non- refundable deposit of $ 500 by july 31 , 2001 and the remainder by september 1 , 2001 ) .\n",
      "cost : $ 1,990.00 for the eleven day trip , ( payable with a non- refundable deposit of $ 500 by july 31 , 2001 and the remainder by september 1 , 2001 ) . 1.0\n",
      "\n",
      "if there is one child then the first $ 20,000 would go to the widow or widower and the remainder would be divided equally , half to the child and half to the widow .\n",
      "if there is one child then the first $ 20,000 would go to the widow or widower and the remainder would be divided equally , half to the child and half to the widow . 1.0\n",
      "\n",
      "the rapid disintegration of apparently strong and united countries , and the bitter internal conflicts which usually followed , has made a real impact in rangoon .\n",
      "the rapid disintegration of apparently strong and united countries , and the bitter internal conflicts which usually followed , has made a real impact in rangoon . 1.0\n",
      "\n",
      "for example in 1794 a man called isaac rooke was found apparently dead in a close near nottingham .\n",
      "for example in 1794 a man called isaac rooke was found apparently dead in a close near nottingham . 1.0\n",
      "\n",
      "moreover , play seems not only inefficient because of its vigor ; it seems to be sometimes downright dangerous , exposing the organism to apparently unnecessary risks .\n",
      "moreover , play seems not only inefficient because of its vigor ; it seems to be sometimes downright dangerous , exposing the organism to apparently unnecessary risks . 1.0\n",
      "\n",
      "however , this apparently crushing blow early in a promising career took a strange twist .\n",
      "however , this apparently crushing blow early in a promising career took a strange twist . 1.0\n",
      "\n",
      "the rest of the world is apparently not doing too differently or even better , whatever the latter may mean in consequence .\n",
      "the rest of the world is apparently not doing too differently or even better , whatever the latter may mean in consequence . 1.0\n",
      "\n",
      "the chilling conclusion is that apparently fairly modest changes in initial conditions can produce huge differences in the final outcome .\n",
      "the chilling conclusion is that apparently fairly modest changes in initial conditions can produce huge differences in the final outcome . 1.0\n",
      "\n",
      " the system apparently requires nothing more than an internet connection and a web browser to use -- no software or hardware required .\n",
      " the system apparently requires nothing more than an internet connection and a web browser to use -- no software or hardware required . 1.0\n",
      "\n",
      "the world has been apparently powerless to do anything about it .\n",
      "the world has been apparently powerless to do anything about it . 1.0\n",
      "\n",
      "in those twenty years , the national highway traffic safety administration has apparently never deemed the location of the malibu 's fuel system to be a problem .\n",
      "in those twenty years , the national highway traffic safety administration has apparently never deemed the location of the malibu 's fuel system to be a problem . 1.0\n",
      "\n",
      "apparently you had to write in to the show requesting tickets at least 9 months in advance .\n",
      "apparently you had to write in to the show requesting tickets at least 9 months in advance . 1.0\n",
      "\n",
      "finno-ugrian languages , in the widest sense of the word , share a few core vocabulary items , though when critically examined , the number of satisfactory etymologies appears smaller than was thought earlier ( janhunen 1981 ; sammallahti 1988 ) .\n",
      "finno-ugrian languages , in the widest sense of the word , share a few core vocabulary items , though when critically examined , the number of satisfactory etymologies appears smaller than was thought earlier ( janhunen 1981 ; sammallahti 1988 ) . 1.0\n",
      "\n",
      "if you wish to collect your robes earlier you should contact the above number to arrange collection .\n",
      "if you wish to collect your robes earlier you should contact the above number to arrange collection . 1.0\n",
      "\n",
      "it is possible that if he had gone earlier he may have recovered .\n",
      "it is possible that if he had gone earlier he may have recovered . 1.0\n",
      "\n",
      "finding it earlier would have saved me lots of time and made it easier to work with my architect .\n",
      "finding it earlier would have saved me lots of time and made it easier to work with my architect . 1.0\n",
      "\n",
      "i came to this realization later than some older and more perceptive scientists , but , even so , earlier than many others .\n",
      "i came to this realization later than some older and more perceptive scientists , but , even so , earlier than many others . 1.0\n",
      "\n",
      "many countries have changed policies to allow investments that earlier might have been prohibited or been otherwise difficult .\n",
      "many countries have changed policies to allow investments that earlier might have been prohibited or been otherwise difficult . 1.0\n",
      "\n",
      "earlier , during world war i , hitler was an isolated human being , scorned for his strange pathetic ramblings .\n",
      "earlier , during world war i , hitler was an isolated human being , scorned for his strange pathetic ramblings . 1.0\n",
      "\n",
      "i mentioned that i would be seeing this new dr regarding counselling and psychology , jan thinks it is a good idea and it would probably help me , as i 'd missed out earlier .\n",
      "i mentioned that i would be seeing this new dr regarding counselling and psychology , jan thinks it is a good idea and it would probably help me , as i 'd missed out earlier . 1.0\n",
      "\n",
      "the key to public choice , as you said earlier , is common sense .\n",
      "the key to public choice , as you said earlier , is common sense . 1.0\n",
      "\n",
      "do not be swayed by herd constraints -- know that you are working on another level entirely from the rest of the world .\n",
      "do not be swayed by herd constraints -- know that you are working on another level entirely from the rest of the world . 1.0\n",
      "\n",
      "the prohibitive cost of heroin in alice springs is keeping the drug off the streets but not entirely out of the town .\n",
      "the prohibitive cost of heroin in alice springs is keeping the drug off the streets but not entirely out of the town . 1.0\n",
      "\n",
      "if you link to any such websites you will leave the business essentials website and do so entirely at your own risk .\n",
      "if you link to any such websites you will leave the business essentials website and do so entirely at your own risk . 1.0\n",
      "\n",
      "usually , these test questions are based entirely on the material covered in the text .\n",
      "usually , these test questions are based entirely on the material covered in the text . 1.0\n",
      "\n",
      "both schemes are funded entirely from general revenue and non-contributory .\n",
      "both schemes are funded entirely from general revenue and non-contributory . 1.0\n",
      "\n",
      "still , even against all odds , they have decided to put hope entirely on what they see as a fresh start .\n",
      "still , even against all odds , they have decided to put hope entirely on what they see as a fresh start . 1.0\n",
      "\n",
      "note that the expression reads in the file entirely in one go .\n",
      "note that the expression reads in the file entirely in one go . 1.0\n",
      "\n",
      "their involvement depends entirely on what the individual wants .\n",
      "their involvement depends entirely on what the individual wants . 1.0\n",
      "\n",
      "according to this liberal approach , capital is a source of powe r that should be used by capitalists , just as political power should be used by politicians , for the benefit of society .\n",
      "according to this liberal approach , capital is a source of powe r that should be used by capitalists , just as political power should be used by politicians , for the benefit of society . 1.0\n",
      "\n",
      "i have heard educated , liberal women talking about how long to wait before calling a man back , or whether the date should be in her neighbourh ood , or how long to wait until sleeping with him , as if there is some secret formula , some mathematical principle to romantic happiness that she has yet to divine .\n",
      "i have heard educated , liberal women talking about how long to wait before calling a man back , or whether the date should be in her neighbourh ood , or how long to wait until sleeping with him , as if there is some secret formula , some mathematical principle to romantic happiness that she has yet to divine . 1.0\n",
      "\n",
      "the show was a liberal smattering of silly voices , awful puns , and mildly smutty humour , and was totally anarchic , with the audience controlling most of the show in later series .\n",
      "the show was a liberal smattering of silly voices , awful puns , and mildly smutty humour , and was totally anarchic , with the audience controlling most of the show in later series . 1.0\n",
      "\n",
      "she is a product of a tremendously unorthodox family with liberal views toward sex , marriage , religion and child-rearing .\n",
      "she is a product of a tremendously unorthodox family with liberal views toward sex , marriage , religion and child-rearing . 1.0\n",
      "\n",
      "a guide for the scientific novice - concepts are clearly explained with liberal use of careful definitions and analogy .\n",
      "a guide for the scientific novice - concepts are clearly explained with liberal use of careful definitions and analogy . 1.0\n",
      "\n",
      "municipal housing schemes with liberal aid from the central government will be encouraged for those who do not wish to establish their own houses .\n",
      "municipal housing schemes with liberal aid from the central government will be encouraged for those who do not wish to establish their own houses . 1.0\n",
      "\n",
      "patients should limit exposure to the sun and use liberal amounts of sunscreen .\n",
      "patients should limit exposure to the sun and use liberal amounts of sunscreen . 1.0\n",
      "\n",
      "the potatoes were remarkable ... they did n't look like much , but were cooked with herbs and a liberal sprinkling of pepper that made me wish for more after my plate had been cleaned .\n",
      "the potatoes were remarkable ... they did n't look like much , but were cooked with herbs and a liberal sprinkling of pepper that made me wish for more after my plate had been cleaned . 1.0\n",
      "\n",
      "this decision , by liberal judges no less , is so blatantly at odds with the intention of private ownership and the constitution that it makes me , a lifelong democrat , extremely suspicious of what is going on in that court .\n",
      "this decision , by liberal judges no less , is so blatantly at odds with the intention of private ownership and the constitution that it makes me , a lifelong democrat , extremely suspicious of what is going on in that court . 1.0\n",
      "\n",
      "1co 7:22 for he who was called in the lord while a slave , is the lord 's freedman ; likewise he who was called while free , is christ 's slave .\n",
      "1co 7:22 for he who was called in the lord while a slave , is the lord 's freedman ; likewise he who was called while free , is christ 's slave . 1.0\n",
      "\n",
      "the minister and his wife were likewise ill-treated , but they steadfastly refused to betray the hiding-place wherein they had disposed the valuable honours .\n",
      "the minister and his wife were likewise ill-treated , but they steadfastly refused to betray the hiding-place wherein they had disposed the valuable honours . 1.0\n",
      "\n",
      "the other could likewise be a constellation of some type , an animal or a map .\n",
      "the other could likewise be a constellation of some type , an animal or a map . 1.0\n",
      "\n",
      "in this sense of the word , faith is the essential virtue of science , and likewise of any religion that is not self-deception .\n",
      "in this sense of the word , faith is the essential virtue of science , and likewise of any religion that is not self-deception . 1.0\n",
      "\n",
      "maybe a journalist 's privilege should likewise be limited .\n",
      "maybe a journalist 's privilege should likewise be limited . 1.0\n",
      "\n",
      "the canal project would likewise have a high impact , reversing these trends .\n",
      "the canal project would likewise have a high impact , reversing these trends . 1.0\n",
      "\n",
      "the cost of providing easy to use access systems is likewise a consideration .\n",
      "the cost of providing easy to use access systems is likewise a consideration . 1.0\n",
      "\n",
      "we are also reminding the member states that they should do likewise .\n",
      "we are also reminding the member states that they should do likewise . 1.0\n",
      "\n",
      "collective penalties and likewise all measures of intimidation or of terrorism are prohibited .\n",
      "collective penalties and likewise all measures of intimidation or of terrorism are prohibited . 1.0\n",
      "\n",
      "there are many false beliefs about two-stroke oils and some say that cheap oils do not mix with the expensive stuff and likewise with synthetic and mineral oils .\n",
      "there are many false beliefs about two-stroke oils and some say that cheap oils do not mix with the expensive stuff and likewise with synthetic and mineral oils . 1.0\n",
      "\n",
      "however , fine ceramics from iran , china , and possibly yemen , were imported and these enable us to date the occupation .\n",
      "however , fine ceramics from iran , china , and possibly yemen , were imported and these enable us to date the occupation . 1.0\n",
      "\n",
      "but , what is there of value that satan could possibly hope to win from jesus ?\n",
      "but , what is there of value that satan could possibly hope to win from jesus ? 1.0\n",
      "\n",
      "bloggers , who sometimes think of themselves as the current big thing of the internet , wondered how this could possibly be .\n",
      "bloggers , who sometimes think of themselves as the current big thing of the internet , wondered how this could possibly be . 1.0\n",
      "\n",
      "( 22 ) general dwight d. eisenhower letter to george patton ( 29th april 1944 ) i have warned you time and again against your impulsiveness and have flatly instructed you to say nothing that could possibly be misinterpreted .\n",
      "( 22 ) general dwight d. eisenhower letter to george patton ( 29th april 1944 ) i have warned you time and again against your impulsiveness and have flatly instructed you to say nothing that could possibly be misinterpreted . 1.0\n",
      "\n",
      "on average , bud 's dodging with his 6 combat dice would generate 3 successes , bud will be definitely be shot at least once and would possibly end up getting shot twice .\n",
      "on average , bud 's dodging with his 6 combat dice would generate 3 successes , bud will be definitely be shot at least once and would possibly end up getting shot twice . 1.0\n",
      "\n",
      "yet if you are a seasoned webmaster this website system gives you everything you could possibly want , and saves you time in your busy day !\n",
      "yet if you are a seasoned webmaster this website system gives you everything you could possibly want , and saves you time in your busy day ! 1.0\n",
      "\n",
      "he was born at arles in present day southern france and possibly raised as a christian .\n",
      "he was born at arles in present day southern france and possibly raised as a christian . 1.0\n",
      "\n",
      "although immunizations may be uncomfortable for your child and for you as a parent , it is one of the best ways to prevent your child from getting a contagious and possibly dangerous disease .\n",
      "although immunizations may be uncomfortable for your child and for you as a parent , it is one of the best ways to prevent your child from getting a contagious and possibly dangerous disease . 1.0\n",
      "\n",
      "the only detectable effect was psychological stress during and shortly after the accident .\n",
      "the only detectable effect was psychological stress during and shortly after the accident . 1.0\n",
      "\n",
      "performance test for a system coupled with a locally manufactured station engine model mwm will start shortly .\n",
      "performance test for a system coupled with a locally manufactured station engine model mwm will start shortly . 1.0\n",
      "\n",
      "the evidence of wallat was given very shortly .\n",
      "the evidence of wallat was given very shortly . 1.0\n",
      "\n",
      "family members went to a neighbor 's house and called 911 shortly before 3:00 a.m. firefighters arrived within minutes to find the home fully involved .\n",
      "family members went to a neighbor 's house and called 911 shortly before 3:00 a.m. firefighters arrived within minutes to find the home fully involved . 1.0\n",
      "\n",
      "shortly , he closed his book and raised his eyes upwards , acknowledging them all with a slight nod of the head .\n",
      "shortly , he closed his book and raised his eyes upwards , acknowledging them all with a slight nod of the head . 1.0\n",
      "\n",
      "they said to me that he spoke with those patient very shortly without any interest in the patient and many times , i had to say to him -- ' take care about those patients ' or something , you know .\n",
      "they said to me that he spoke with those patient very shortly without any interest in the patient and many times , i had to say to him -- ' take care about those patients ' or something , you know . 1.0\n",
      "\n",
      "you shortly come upon grassingdon , a picturesque old village with lead mining heritage .\n",
      "you shortly come upon grassingdon , a picturesque old village with lead mining heritage . 1.0\n",
      "\n",
      "they were penned by libertarianz founder ian fraser shortly before he left act in disgust .\n",
      "they were penned by libertarianz founder ian fraser shortly before he left act in disgust . 1.0\n",
      "\n",
      "the different variables defining the optimal state can therefore be seen as intrinsic needs .\n",
      "the different variables defining the optimal state can therefore be seen as intrinsic needs . 1.0\n",
      "\n",
      "the terms therefore seek to preclude plaxo from complying with a request by an individual for alteration or deletion of their personal data .\n",
      "the terms therefore seek to preclude plaxo from complying with a request by an individual for alteration or deletion of their personal data . 1.0\n",
      "\n",
      "labour market deregulation is therefore instrumental in boosting jobs and reducing unemployment .\n",
      "labour market deregulation is therefore instrumental in boosting jobs and reducing unemployment . 1.0\n",
      "\n",
      "you should therefore report the break-in to the police .\n",
      "you should therefore report the break-in to the police . 1.0\n",
      "\n",
      "you will therefore permit me to repeat , emphatically , that marley was as dead as a door-nail .\n",
      "you will therefore permit me to repeat , emphatically , that marley was as dead as a door-nail . 1.0\n",
      "\n",
      "the same is true if you are using internet newspaper sites : some media outlets can be worthy sources of information and analysis and others are not .\n",
      "the same is true if you are using internet newspaper sites : some media outlets can be worthy sources of information and analysis and others are not . 1.0\n",
      "\n",
      "we are so profoundly ignorant in these matters , so far from anything worthy of the name of science , that one view is just as permissible and just as untrustworthy as the other .\n",
      "we are so profoundly ignorant in these matters , so far from anything worthy of the name of science , that one view is just as permissible and just as untrustworthy as the other . 1.0\n",
      "\n",
      "but there has been a good campaign fought by all the candidates and i would like to think that a person taking his place in this house in the next week or two will be a worthy representative of the residents in north vancouver .\n",
      "but there has been a good campaign fought by all the candidates and i would like to think that a person taking his place in this house in the next week or two will be a worthy representative of the residents in north vancouver . 1.0\n",
      "\n",
      "nicolson : 1 do n't think that anyone has suggested that in a good number of these amounts , the money is not going toward worthy causes .\n",
      "nicolson : 1 do n't think that anyone has suggested that in a good number of these amounts , the money is not going toward worthy causes . 1.0\n",
      "\n",
      "thirty-three-year-old delahaye was a popular figure in the paris office and was talked about as a worthy successor to robert capa .\n",
      "thirty-three-year-old delahaye was a popular figure in the paris office and was talked about as a worthy successor to robert capa . 1.0\n",
      "\n",
      "but i pictured carolyn looking just as slender and elegant , appearing at benefits for worthy causes .\n",
      "but i pictured carolyn looking just as slender and elegant , appearing at benefits for worthy causes . 1.0\n",
      "\n",
      "but overall , it makes for worthy listening on a good sound system .\n",
      "but overall , it makes for worthy listening on a good sound system . 1.0\n",
      "\n",
      "it means knowing and loving ourselves enough to open the doors to allow a higher understanding of what the idle half our minds are capable of doing , disciplining ourselves to use the gifts accurately , for worthy purposes .\n",
      "it means knowing and loving ourselves enough to open the doors to allow a higher understanding of what the idle half our minds are capable of doing , disciplining ourselves to use the gifts accurately , for worthy purposes . 1.0\n",
      "\n",
      "we fork over cash for all sorts of less worthy things .\n",
      "we fork over cash for all sorts of less worthy things . 1.0\n",
      "\n",
      "thus , the analyst acquires knowledge about the nature of the patient through an awareness of something going on in him .\n",
      "thus , the analyst acquires knowledge about the nature of the patient through an awareness of something going on in him . 1.0\n",
      "\n",
      "a subsidiary was floated in the uk , tata tea ( gb ) ltd. , which acquired the controlling interest in the tetley group .\n",
      "a subsidiary was floated in the uk , tata tea ( gb ) ltd. , which acquired the controlling interest in the tetley group . 1.0\n",
      "\n",
      "with the offer now completed , 2016091 ontario inc. will proceed with further steps to acquire the remaining ixos shares not owned by it , in accordance with german law .\n",
      "with the offer now completed , 2016091 ontario inc. will proceed with further steps to acquire the remaining ixos shares not owned by it , in accordance with german law . 1.0\n",
      "\n",
      "teacher education students will acquire the knowledge and skills required to apply current and emerging educational technologies both as teachers in training and as practicing teachers .\n",
      "teacher education students will acquire the knowledge and skills required to apply current and emerging educational technologies both as teachers in training and as practicing teachers . 1.0\n",
      "\n",
      "how many times have i caught up with those people several years later , to discover that they have acquired a lifestyle , a car and a mortgage to match their salary , and that their initial ideals have faded to the haziest of memories , which they now dismiss as a post-adolescent fantasy ?\n",
      "how many times have i caught up with those people several years later , to discover that they have acquired a lifestyle , a car and a mortgage to match their salary , and that their initial ideals have faded to the haziest of memories , which they now dismiss as a post-adolescent fantasy ? 1.0\n",
      "\n",
      "then judge whether you already have these skills in some form or could reasonably acquire them before retirement .\n",
      "then judge whether you already have these skills in some form or could reasonably acquire them before retirement . 1.0\n",
      "\n",
      "provides counseling , education and advocacy programs which help area residents acquire and retain/maintain safe and affordable housing .\n",
      "provides counseling , education and advocacy programs which help area residents acquire and retain/maintain safe and affordable housing . 1.0\n",
      "\n",
      "more than 200 of the most significant works acquired by the corning museum of glass during the 1990s , to augment its holdings of 35,000 objects , are featured here .\n",
      "more than 200 of the most significant works acquired by the corning museum of glass during the 1990s , to augment its holdings of 35,000 objects , are featured here . 1.0\n",
      "\n",
      "anointing of the sick may be repeated if the person becomes ill again or the danger becomes more acute .\n",
      "anointing of the sick may be repeated if the person becomes ill again or the danger becomes more acute . 1.0\n",
      "\n",
      "using occasional case studies , cutler defines her terms and provides specific examples of acute and chronic allergens causing asthma and allergic reactions and the genetic , environmental , metabolic , and little-known causes that play roles in asthma onset .\n",
      "using occasional case studies , cutler defines her terms and provides specific examples of acute and chronic allergens causing asthma and allergic reactions and the genetic , environmental , metabolic , and little-known causes that play roles in asthma onset . 1.0\n",
      "\n",
      "patchwork solutions produced by the personality ethic are like painkillers for an acute disease ; the problems might be temporarily hidden , only to return later with a vengeance .\n",
      "patchwork solutions produced by the personality ethic are like painkillers for an acute disease ; the problems might be temporarily hidden , only to return later with a vengeance . 1.0\n",
      "\n",
      "hands , in particular , seem to be acute qi detectors and transmitters .\n",
      "hands , in particular , seem to be acute qi detectors and transmitters . 1.0\n",
      "\n",
      "recommendations regards less of inappropriately placed patients in acute hospitals and the difficulties associated in placing these patients we estimate that the equivalent of a fully resourced general hospital ( 130million ) is taken up by p atients who have suffered from preventable error .\n",
      "recommendations regards less of inappropriately placed patients in acute hospitals and the difficulties associated in placing these patients we estimate that the equivalent of a fully resourced general hospital ( 130million ) is taken up by p atients who have suffered from preventable error . 1.0\n",
      "\n",
      "coronavirus as a possible cause of severe acute respiratory syndrome .\n",
      "coronavirus as a possible cause of severe acute respiratory syndrome . 1.0\n",
      "\n",
      "by sheer personal determination he raised the subject of psychic phenomena into the arena of acute controversy -- and kept it there .\n",
      "by sheer personal determination he raised the subject of psychic phenomena into the arena of acute controversy -- and kept it there . 1.0\n",
      "\n",
      "isis-3 : a randomised trial of streptokinase vs tissue plasminogen activator vs anistreplase and of aspirin plus heparin vs aspirin alone among 41,299 cases of suspected acute myocardial infarction .\n",
      "isis-3 : a randomised trial of streptokinase vs tissue plasminogen activator vs anistreplase and of aspirin plus heparin vs aspirin alone among 41,299 cases of suspected acute myocardial infarction . 1.0\n",
      "\n",
      " generous chinese loans ' the best recovery that money can buy ' for all its fragilities , nothing yet has slowed this fire-breathing dragon - not the asian financial crisis of 1997-'98 ; not the internet and technology crash ; not synchronous global recession of 2001 ; and not this year 's outbreak of severe acute respiratory syndrome , or sars .\n",
      " generous chinese loans ' the best recovery that money can buy ' for all its fragilities , nothing yet has slowed this fire-breathing dragon - not the asian financial crisis of 1997-'98 ; not the internet and technology crash ; not synchronous global recession of 2001 ; and not this year 's outbreak of severe acute respiratory syndrome , or sars . 1.0\n",
      "\n",
      "does this woman have an acute uncomplicated urinary tract infection ?\n",
      "does this woman have an acute uncomplicated urinary tract infection ? 1.0\n",
      "\n",
      "wherever the azt caravan stopped , it presented physicians from important metropolitan centres like london and new york .\n",
      "wherever the azt caravan stopped , it presented physicians from important metropolitan centres like london and new york . 1.0\n",
      "\n",
      "your trailer or caravan must be fitted with an approved style number plate .\n",
      "your trailer or caravan must be fitted with an approved style number plate . 1.0\n",
      "\n",
      "if you sat facing cologne you could n't see the chimney stacks further up the river , if you squinted you could n't see the caravan park on the other side , if you drank enough weisse weijn the thronging day-trippers greyed-themselves out .\n",
      "if you sat facing cologne you could n't see the chimney stacks further up the river , if you squinted you could n't see the caravan park on the other side , if you drank enough weisse weijn the thronging day-trippers greyed-themselves out . 1.0\n",
      "\n",
      "you might think of several caravans of trucks all using the same road system to carry materials .\n",
      "you might think of several caravans of trucks all using the same road system to carry materials . 1.0\n",
      "\n",
      "the town is also well known as a transit point for the camel caravans bringing salt up from the arid lands of the dankal depression .\n",
      "the town is also well known as a transit point for the camel caravans bringing salt up from the arid lands of the dankal depression . 1.0\n",
      "\n",
      "in his distress of mind at being left behind by the caravan , he had not noticed where he had thrown the load .\n",
      "in his distress of mind at being left behind by the caravan , he had not noticed where he had thrown the load . 1.0\n",
      "\n",
      "about the time that ross , trudo , and benware were beating tipton senseless , the three-vehicle caravan , led by the blazer , with defendant as the driver and harris as a passenger , pulled into the parking lot .\n",
      "about the time that ross , trudo , and benware were beating tipton senseless , the three-vehicle caravan , led by the blazer , with defendant as the driver and harris as a passenger , pulled into the parking lot . 1.0\n",
      "\n",
      "lazy lizard caravan park , pine creek small and nondescript caravan park behind the pine creek tavern , off the stuart highway .\n",
      "lazy lizard caravan park , pine creek small and nondescript caravan park behind the pine creek tavern , off the stuart highway . 1.0\n",
      "\n",
      "to understand why this should have been so , we need to look more closely at the nature of the style and its origins .\n",
      "to understand why this should have been so , we need to look more closely at the nature of the style and its origins . 1.0\n",
      "\n",
      "some people have guessed that this radiation is closely related to a period of intense cold and a high level of ice cover occurring around 600 mya ; perhaps environmental stresses wiped out competitors and created opportunities for a ( relatively ) clever animal to succeed and proliferate .\n",
      "some people have guessed that this radiation is closely related to a period of intense cold and a high level of ice cover occurring around 600 mya ; perhaps environmental stresses wiped out competitors and created opportunities for a ( relatively ) clever animal to succeed and proliferate . 1.0\n",
      "\n",
      "they are working closely with natural tunnel state park , where the staff , eager to have additional housing nearby , have assured the bakers that they will be booked on a regular basis since the demand for housing outweighs supply .\n",
      "they are working closely with natural tunnel state park , where the staff , eager to have additional housing nearby , have assured the bakers that they will be booked on a regular basis since the demand for housing outweighs supply . 1.0\n",
      "\n",
      "the department is also working closely with hm customs and excise who are in the lead on developing the national lorry road user charging scheme .\n",
      "the department is also working closely with hm customs and excise who are in the lead on developing the national lorry road user charging scheme . 1.0\n",
      "\n",
      "retail : in the u.s. , analysts will be looking closely at third-quarter results .\n",
      "retail : in the u.s. , analysts will be looking closely at third-quarter results . 1.0\n",
      "\n",
      "their academic careers are closely intertwined with social and political developments such as secularisation and antisemitism .\n",
      "their academic careers are closely intertwined with social and political developments such as secularisation and antisemitism . 1.0\n",
      "\n",
      " the baby has developed very normally and has been followed closely .\n",
      " the baby has developed very normally and has been followed closely . 1.0\n",
      "\n",
      "to prevent asthma episodes you will have to work closely with your doctor to : develop a medicine plan that keeps you from getting symptoms .\n",
      "to prevent asthma episodes you will have to work closely with your doctor to : develop a medicine plan that keeps you from getting symptoms . 1.0\n",
      "\n",
      "problems are flagged quickly and , working closely with your staff , we propose solutions .\n",
      "problems are flagged quickly and , working closely with your staff , we propose solutions . 1.0\n",
      "\n",
      "what women want on a first date ( updated thursday , dec 5 , 2002 , 02:06:55 pm to reflect the 100 most recent valid responses. ) assuming you are a woman , which most closely matches your idea of a great first date ?\n",
      "what women want on a first date ( updated thursday , dec 5 , 2002 , 02:06:55 pm to reflect the 100 most recent valid responses. ) assuming you are a woman , which most closely matches your idea of a great first date ? 1.0\n",
      "\n",
      "st. lawrence cement increased domestic cement deliveries , but on balance volumes declined owing to delivery bottlenecks in the northeastern us .\n",
      "st. lawrence cement increased domestic cement deliveries , but on balance volumes declined owing to delivery bottlenecks in the northeastern us . 1.0\n",
      "\n",
      "the air force has experienced low levels of equipment availability in the last five years , and availability of the hercules and the aurora fleets continues to decline .\n",
      "the air force has experienced low levels of equipment availability in the last five years , and availability of the hercules and the aurora fleets continues to decline . 1.0\n",
      "\n",
      "high school non-completion rates continue to decline 5 and an increasing number of young people are pursuing post-secondary education 6 .\n",
      "high school non-completion rates continue to decline 5 and an increasing number of young people are pursuing post-secondary education 6 . 1.0\n",
      "\n",
      "whenever there is a condition with results in cardiac dysfunction stroke volume will eventually declined .\n",
      "whenever there is a condition with results in cardiac dysfunction stroke volume will eventually declined . 1.0\n",
      "\n",
      "the productivity of crops and pastures , as well as the health of other vegetation , declines as the saline watertable reaches their root zones .\n",
      "the productivity of crops and pastures , as well as the health of other vegetation , declines as the saline watertable reaches their root zones . 1.0\n",
      "\n",
      "unhappy with being called to task for declining scores , political educators complained that the tests were unfair to some , so they watered them down - - as if 2+2=4 was being challenged as unfair on racial , gender or other social-oriented measures .\n",
      "unhappy with being called to task for declining scores , political educators complained that the tests were unfair to some , so they watered them down - - as if 2+2=4 was being challenged as unfair on racial , gender or other social-oriented measures . 1.0\n",
      "\n",
      "in particular , per capita incomes in africa have declined relative to the industrial countries and in some countries have declined in absolute terms .\n",
      "in particular , per capita incomes in africa have declined relative to the industrial countries and in some countries have declined in absolute terms . 1.0\n",
      "\n",
      "the garch model is an infinite order arch model with a geometrically declining set of weights .\n",
      "the garch model is an infinite order arch model with a geometrically declining set of weights . 1.0\n",
      "\n",
      "i will not endure the laughter of the court .\n",
      "i will not endure the laughter of the court . 1.0\n",
      "\n",
      "and this combined annual incidence-rate will endure indefinitely too , until the annual production-rate is altered .\n",
      "and this combined annual incidence-rate will endure indefinitely too , until the annual production-rate is altered . 1.0\n",
      "\n",
      "positive attitude overcomes pelvic pain former athlete janet h has endured 20 operations and has been reduced to surviving on a special liquid diet after being stricken 24 years ago with endometriosis .\n",
      "positive attitude overcomes pelvic pain former athlete janet h has endured 20 operations and has been reduced to surviving on a special liquid diet after being stricken 24 years ago with endometriosis . 1.0\n",
      "\n",
      "what was n't my fault was the ordeal i had to endure to fix it .\n",
      "what was n't my fault was the ordeal i had to endure to fix it . 1.0\n",
      "\n",
      "developers are routinely asked to endure the hardships of design extremes , such as a low-memory footprint , in order to reduce total system cost .\n",
      "developers are routinely asked to endure the hardships of design extremes , such as a low-memory footprint , in order to reduce total system cost . 1.0\n",
      "\n",
      "the white sox , who are enduring what i call the curse of the 1919 black sox ?\n",
      "the white sox , who are enduring what i call the curse of the 1919 black sox ? 1.0\n",
      "\n",
      "now here he is , gowned and on a gurney , forced to endure a medical procedure all because of some soup .\n",
      "now here he is , gowned and on a gurney , forced to endure a medical procedure all because of some soup . 1.0\n",
      "\n",
      "however , people often endured inadequate at because of the lack of a viable alternative .\n",
      "however , people often endured inadequate at because of the lack of a viable alternative . 1.0\n",
      "\n",
      "the campaign should challenge the notion that prostate problems are an inevitable part of ageing to be endured rather than investigated .\n",
      "the campaign should challenge the notion that prostate problems are an inevitable part of ageing to be endured rather than investigated . 1.0\n",
      "\n",
      ") and recording an extended soundcheck on a little tape machine that may end up playing a big role on our next record .\n",
      ") and recording an extended soundcheck on a little tape machine that may end up playing a big role on our next record . 1.0\n",
      "\n",
      "discussion top in this study , we have shown that recombinant gp120 increases the permeability of brain endothelium cultures to albumin , most likely by altering the cell morphology and inducing extended intercellular gaps that allow passage of macromolecules and probably facilitate cell transmigration across the bbb .\n",
      "discussion top in this study , we have shown that recombinant gp120 increases the permeability of brain endothelium cultures to albumin , most likely by altering the cell morphology and inducing extended intercellular gaps that allow passage of macromolecules and probably facilitate cell transmigration across the bbb . 1.0\n",
      "\n",
      "nuclear family this unit observes and assesses the effectiveness of childcare in the nuclear family home environment , looking at the childrens ' experience with their parents and extended family .\n",
      "nuclear family this unit observes and assesses the effectiveness of childcare in the nuclear family home environment , looking at the childrens ' experience with their parents and extended family . 1.0\n",
      "\n",
      "at work : calling in sick , coming in late , leaving early , taking extended breaks , giving up your territory ( \" why do n't you let mary take over that assignment for you \" ) .\n",
      "at work : calling in sick , coming in late , leaving early , taking extended breaks , giving up your territory ( \" why do n't you let mary take over that assignment for you \" ) . 1.0\n",
      "\n",
      "( grieve 1927a , 19 ) [ 9 ] this book therefore marked the beginning of what was to be an extended battle between macdiarmid , as well as the other celticist fundamentalists in the nps , and the conservative nationalists of the scottish party .\n",
      "( grieve 1927a , 19 ) [ 9 ] this book therefore marked the beginning of what was to be an extended battle between macdiarmid , as well as the other celticist fundamentalists in the nps , and the conservative nationalists of the scottish party . 1.0\n",
      "\n",
      "not surprisingly , ellison spends a considerable amount of time describing the results of his own extended fieldwork among efe hunter-gatherers and lese horticulturalists living in the rainforests of the democratic republic of congo .\n",
      "not surprisingly , ellison spends a considerable amount of time describing the results of his own extended fieldwork among efe hunter-gatherers and lese horticulturalists living in the rainforests of the democratic republic of congo . 1.0\n",
      "\n",
      "extended warranties for desktop computers tend to be rip-offs , because you would usually pay an independent technician much less in repair costs over the same period that a typical extended warranty costs to provide repair cover .\n",
      "extended warranties for desktop computers tend to be rip-offs , because you would usually pay an independent technician much less in repair costs over the same period that a typical extended warranty costs to provide repair cover . 1.0\n",
      "\n",
      "i was taking a prescription medication over an extended length of time under the supervision of a physician who specializes in the management of pain .\n",
      "i was taking a prescription medication over an extended length of time under the supervision of a physician who specializes in the management of pain . 1.0\n",
      "\n",
      "this external communication could be with external trading partners or within the organization .\n",
      "this external communication could be with external trading partners or within the organization . 1.0\n",
      "\n",
      "that is , we can be glad so long as we do not believe in external authority ( for example , the testimony of others ) alone for our religious beliefs .\n",
      "that is , we can be glad so long as we do not believe in external authority ( for example , the testimony of others ) alone for our religious beliefs . 1.0\n",
      "\n",
      "the external appearance of each type of extinguisher maybe different and each carries its own instructions for use .\n",
      "the external appearance of each type of extinguisher maybe different and each carries its own instructions for use . 1.0\n",
      "\n",
      "external links to other internet sites should not be construed as an endorsement of the views or privacy policies contained therein .\n",
      "external links to other internet sites should not be construed as an endorsement of the views or privacy policies contained therein . 1.0\n",
      "\n",
      "when careful measurements are taken of current flows in the generator and in the external circuit , evidence suggests that electric charges are appearing at the periphery of the generator and disappearing at the center of the generator that do not actually pass through the generator .\n",
      "when careful measurements are taken of current flows in the generator and in the external circuit , evidence suggests that electric charges are appearing at the periphery of the generator and disappearing at the center of the generator that do not actually pass through the generator . 1.0\n",
      "\n",
      "many spiritual traditions still eschew technological techniques in favor of more \" authentic \" ones ; so unassisted meditation is said to be better than use of mind machines , electronic biofeedback , or psychotropic chemicals , and the use of technology as a sign of attachment to \" worldly \" things or reliance on external crutches rather than \" self-realization .\n",
      "many spiritual traditions still eschew technological techniques in favor of more \" authentic \" ones ; so unassisted meditation is said to be better than use of mind machines , electronic biofeedback , or psychotropic chemicals , and the use of technology as a sign of attachment to \" worldly \" things or reliance on external crutches rather than \" self-realization . 1.0\n",
      "\n",
      " nothing came to our attention indicating evidence of influence or pressure from internal or external sources , \" he wrote .\n",
      " nothing came to our attention indicating evidence of influence or pressure from internal or external sources , \" he wrote . 1.0\n",
      "\n",
      "the end of the cold war could not but sharply increase its international isolation and legitimacy deficit ; bartering its anti-communist credentials for external assistance was no longer a feasible option .\n",
      "the end of the cold war could not but sharply increase its international isolation and legitimacy deficit ; bartering its anti-communist credentials for external assistance was no longer a feasible option . 1.0\n",
      "\n",
      "the emancipation of women can only be completed when a fundamental transformation of living is effected ; and life-styles will change only with the fundamental transformation of all production and the establishment of a communist economy .\n",
      "the emancipation of women can only be completed when a fundamental transformation of living is effected ; and life-styles will change only with the fundamental transformation of all production and the establishment of a communist economy . 1.0\n",
      "\n",
      "but as the approach moves into the commercial realm , especially the software business , it 's challenging fundamental notions about who owns ideas and how best to foster innovation .\n",
      "but as the approach moves into the commercial realm , especially the software business , it 's challenging fundamental notions about who owns ideas and how best to foster innovation . 1.0\n",
      "\n",
      "the occasion is often a personal failure of fundamental understanding , where understanding transcends the grammar of associative consciousness .\n",
      "the occasion is often a personal failure of fundamental understanding , where understanding transcends the grammar of associative consciousness . 1.0\n",
      "\n",
      "first , he clearly distinguishes norms or values within the social network as having a fundamental impact on the development of social capital .\n",
      "first , he clearly distinguishes norms or values within the social network as having a fundamental impact on the development of social capital . 1.0\n",
      "\n",
      "two of the fundamental limitations of northern eias are the lack of adequate ecological baseline data and the lack of an adequate framework or method to link ecological and social components of the environment .\n",
      "two of the fundamental limitations of northern eias are the lack of adequate ecological baseline data and the lack of an adequate framework or method to link ecological and social components of the environment . 1.0\n",
      "\n",
      "we generally do not permit transferral into the second year due to the unique nature of our course and fundamental skills that are learnt in the first year , but you are welcome to discuss your case with the admissions tutor .\n",
      "we generally do not permit transferral into the second year due to the unique nature of our course and fundamental skills that are learnt in the first year , but you are welcome to discuss your case with the admissions tutor . 1.0\n",
      "\n",
      "they will also support two fundamental instructional objectives .\n",
      "they will also support two fundamental instructional objectives . 1.0\n",
      "\n",
      "the training demands outlined above ; the needs of governors for trained , well-led , and appropriately organized forces to defend against terrorist threats ; and possible political pressures not to deploy some arng units during times of heightened terrorist threats will demand a fundamental reexamination of army organization .\n",
      "the training demands outlined above ; the needs of governors for trained , well-led , and appropriately organized forces to defend against terrorist threats ; and possible political pressures not to deploy some arng units during times of heightened terrorist threats will demand a fundamental reexamination of army organization . 1.0\n",
      "\n",
      "to facilitate that involvement , the university will maintain appropriate processes within which students can communicate their views by formal and informal means , and can , directly or through their representatives , actively contribute to decisions affecting the university community .\n",
      "to facilitate that involvement , the university will maintain appropriate processes within which students can communicate their views by formal and informal means , and can , directly or through their representatives , actively contribute to decisions affecting the university community . 1.0\n",
      "\n",
      "this is one of the most important areas of informal employment and can take place in home-based , micro-enterprise-based or in factory-based locations .\n",
      "this is one of the most important areas of informal employment and can take place in home-based , micro-enterprise-based or in factory-based locations . 1.0\n",
      "\n",
      "there are also quite a number of informal barriers .\n",
      "there are also quite a number of informal barriers . 1.0\n",
      "\n",
      "for instance , copls generally provide interface specifications ( formal or informal ) for classes by running a tool such as javadoc or eiffel 's ' short ' over the class definition , meaning that the poor person writing a class has to write to 4 different ' audiences ' at once : the compiler , people writing code that uses the class , people writing derived classes and people maintaining the class itself .\n",
      "for instance , copls generally provide interface specifications ( formal or informal ) for classes by running a tool such as javadoc or eiffel 's ' short ' over the class definition , meaning that the poor person writing a class has to write to 4 different ' audiences ' at once : the compiler , people writing code that uses the class , people writing derived classes and people maintaining the class itself . 1.0\n",
      "\n",
      "institutions can be informal or formal .\n",
      "institutions can be informal or formal . 1.0\n",
      "\n",
      "things continued on an informal , personal basis , by phone , i [ remained ] close friends with two of them , but izzat al gazawi died last year .\n",
      "things continued on an informal , personal basis , by phone , i [ remained ] close friends with two of them , but izzat al gazawi died last year . 1.0\n",
      "\n",
      "schoolyard habitats - national wildlife federation - offers an array of resources and programs for formal and informal k-12 educators in a traditional classroom situation , nature center or other youth service facility .\n",
      "schoolyard habitats - national wildlife federation - offers an array of resources and programs for formal and informal k-12 educators in a traditional classroom situation , nature center or other youth service facility . 1.0\n",
      "\n",
      "the investigators , all part of a team known as the antithrombotic trialists ' collaboration ( atc ) , looked at whether the antiplatelets cut patients ' risk of heart attack , stroke and death from a cardiovascular cause .\n",
      "the investigators , all part of a team known as the antithrombotic trialists ' collaboration ( atc ) , looked at whether the antiplatelets cut patients ' risk of heart attack , stroke and death from a cardiovascular cause . 1.0\n",
      "\n",
      "reilly says he lost interest in the phone tap after finding in the wastebasket a piece of carbon paper with the impression of 15 questions which otepka had allegedly typed out for senate investigators to ask reilly .\n",
      "reilly says he lost interest in the phone tap after finding in the wastebasket a piece of carbon paper with the impression of 15 questions which otepka had allegedly typed out for senate investigators to ask reilly . 1.0\n",
      "\n",
      " [ new york times , 9/11/02 ] oct 5 , 2002 : congressional investigators say the fbi 's efforts to block their inquiry makes them skeptical of fbi assertions .\n",
      " [ new york times , 9/11/02 ] oct 5 , 2002 : congressional investigators say the fbi 's efforts to block their inquiry makes them skeptical of fbi assertions . 1.0\n",
      "\n",
      "the key to good science in this field is always to keep the experiment totally under the control of the investigators and to use blind and double-blind testing procedures wherever possible .\n",
      "the key to good science in this field is always to keep the experiment totally under the control of the investigators and to use blind and double-blind testing procedures wherever possible . 1.0\n",
      "\n",
      "leading international private detective and private investigator firm for all private investigations , we stand ready with any private detective or private investigator matter .\n",
      "leading international private detective and private investigator firm for all private investigations , we stand ready with any private detective or private investigator matter . 1.0\n",
      "\n",
      "in addition , it is important for clinicians and investigators to account for any herbs or natural products being taken by their patients or research subjects that might interact with traditional treatments .\n",
      "in addition , it is important for clinicians and investigators to account for any herbs or natural products being taken by their patients or research subjects that might interact with traditional treatments . 1.0\n",
      "\n",
      "american investigators had to be sent anywhere but holland .\n",
      "american investigators had to be sent anywhere but holland . 1.0\n",
      "\n",
      "they suggest that investigators of new religious movements should look into adaptation in host communities as well as nrms , and that they pay special attention to the role of the mass media in this two-way process of adaptation .\n",
      "they suggest that investigators of new religious movements should look into adaptation in host communities as well as nrms , and that they pay special attention to the role of the mass media in this two-way process of adaptation . 1.0\n",
      "\n",
      "the present , rejecting attitude restricts investigators to using simple tools , which are incapable of answering the questions skeptics demand be answered .\n",
      "the present , rejecting attitude restricts investigators to using simple tools , which are incapable of answering the questions skeptics demand be answered . 1.0\n",
      "\n",
      "there he was a section leader for inorganic chemistry and principal investigator on several research projects dealing with actinide coordination and organometallic chemistry , organometallic chemical vapor deposition , and technetium-99 chemistry .\n",
      "there he was a section leader for inorganic chemistry and principal investigator on several research projects dealing with actinide coordination and organometallic chemistry , organometallic chemical vapor deposition , and technetium-99 chemistry . 1.0\n",
      "\n",
      " something will hopefully be done \" , to ensure that even if the mission were to close tomorrow , fm103 \" continues in some form or sort , to consolidate the peace process .\n",
      " something will hopefully be done \" , to ensure that even if the mission were to close tomorrow , fm103 \" continues in some form or sort , to consolidate the peace process . 1.0\n",
      "\n",
      " what we 're seeing over time is the equivalent of mission creep : cases that would not be terrorism cases before sept. 11 are swept onto the terrorism docket , \" said juliette kayyem , a former clinton administration justice official who heads the national security program at harvard university 's john f. kennedy school of government .\n",
      " what we 're seeing over time is the equivalent of mission creep : cases that would not be terrorism cases before sept. 11 are swept onto the terrorism docket , \" said juliette kayyem , a former clinton administration justice official who heads the national security program at harvard university 's john f. kennedy school of government . 1.0\n",
      "\n",
      "local churches reproduce themselves in their neighborhood and on the mission field .\n",
      "local churches reproduce themselves in their neighborhood and on the mission field . 1.0\n",
      "\n",
      " 52 the method of al imam al shafi'i in his book , al risalah al imam al shafi'i began his book by describing the state of mankind just before the mission of the prophet .\n",
      " 52 the method of al imam al shafi'i in his book , al risalah al imam al shafi'i began his book by describing the state of mankind just before the mission of the prophet . 1.0\n",
      "\n",
      "nk : we are the children of the hippie generation and girl has been imbued with this mission from her mother from a very young age .\n",
      "nk : we are the children of the hippie generation and girl has been imbued with this mission from her mother from a very young age . 1.0\n",
      "\n",
      "c. operational role of weu weu 's operational role will be strengthened by examining and defining appropriate missions , structures and means , covering in particular : weu planning cell ; closer military cooperation complementary to the alliance in particular in the fields of logistics , transport , training and strategic surveillance ; meetings of weu chiefs of defence staff ; military units answerable to weu .\n",
      "c. operational role of weu weu 's operational role will be strengthened by examining and defining appropriate missions , structures and means , covering in particular : weu planning cell ; closer military cooperation complementary to the alliance in particular in the fields of logistics , transport , training and strategic surveillance ; meetings of weu chiefs of defence staff ; military units answerable to weu . 1.0\n",
      "\n",
      "that said , the best foundations are focused on accomplishing programmatic missions .\n",
      "that said , the best foundations are focused on accomplishing programmatic missions . 1.0\n",
      "\n",
      "there is something just so profound about that .\n",
      "there is something just so profound about that . 1.0\n",
      "\n",
      "segall and timiras discovered profound changes in neurotransmitter levels in the brains of their experimental animals , but were unable to explore the implications of these changes with regard to aging because their funding ran out .\n",
      "segall and timiras discovered profound changes in neurotransmitter levels in the brains of their experimental animals , but were unable to explore the implications of these changes with regard to aging because their funding ran out . 1.0\n",
      "\n",
      "the human genome project is going to be of profound significance for the pharmaceuticals and healthcare sectors , offering real hope in the treatment of conditions such as cystic fibrosis and cancer .\n",
      "the human genome project is going to be of profound significance for the pharmaceuticals and healthcare sectors , offering real hope in the treatment of conditions such as cystic fibrosis and cancer . 1.0\n",
      "\n",
      "if you hesitate , therefore , a moment , or if , after reflection , you produce any intricate or profound argument , you , in a manner , give up the question , and confess that it is not reasoning which engages us to suppose the past resembling the future , and to expect similar effects from causes which are , to appearance , similar .\n",
      "if you hesitate , therefore , a moment , or if , after reflection , you produce any intricate or profound argument , you , in a manner , give up the question , and confess that it is not reasoning which engages us to suppose the past resembling the future , and to expect similar effects from causes which are , to appearance , similar . 1.0\n",
      "\n",
      "you have surely given an exceptional argument which raises many profound questions concerning the foundations of artificial intelligence .\n",
      "you have surely given an exceptional argument which raises many profound questions concerning the foundations of artificial intelligence . 1.0\n",
      "\n",
      "gaining the confidence of local residents , for example , so that they will allow the students to enter and test their homes requires profound cultural understanding .\n",
      "gaining the confidence of local residents , for example , so that they will allow the students to enter and test their homes requires profound cultural understanding . 1.0\n",
      "\n",
      " what meeks did not mention is that guea bought the building from her church , victory apostolic faith church in chicago , where she and her father are prominent members , according to cook county property records and the church 's web site .\n",
      " what meeks did not mention is that guea bought the building from her church , victory apostolic faith church in chicago , where she and her father are prominent members , according to cook county property records and the church 's web site . 1.0\n",
      "\n",
      "among the recipients were prominent journalists and producers , scions of the alternative press , and a smattering of current and former intelligence analysts who often serve as sources in news analyses and articles .\n",
      "among the recipients were prominent journalists and producers , scions of the alternative press , and a smattering of current and former intelligence analysts who often serve as sources in news analyses and articles . 1.0\n",
      "\n",
      " evidence is easily found of multipolarity and china 's prominent role in promoting it .\n",
      " evidence is easily found of multipolarity and china 's prominent role in promoting it . 1.0\n",
      "\n",
      "reeling from the effects of world war ii , prominent local businessmen led by the visionary archie jewell , purchased the building in 1943 and renovated it to become \" the international house \" , a newly-created non-profit trade association dedicated to world peace , trade and understanding .\n",
      "reeling from the effects of world war ii , prominent local businessmen led by the visionary archie jewell , purchased the building in 1943 and renovated it to become \" the international house \" , a newly-created non-profit trade association dedicated to world peace , trade and understanding . 1.0\n",
      "\n",
      "there were five references to crawford : three dealing with his present claims that he lied on behalf of the tobacco companies , one dealing with a property dispute , and another , which identified him as a prominent criminal lawyer , who had been involved in 33 capital cases .\n",
      "there were five references to crawford : three dealing with his present claims that he lied on behalf of the tobacco companies , one dealing with a property dispute , and another , which identified him as a prominent criminal lawyer , who had been involved in 33 capital cases . 1.0\n",
      "\n",
      "expansion of markets , improvement of profit potential , and reduction of cost factors join the enhancement of competitive position as prominent forces moving organizations toward globalization .\n",
      "expansion of markets , improvement of profit potential , and reduction of cost factors join the enhancement of competitive position as prominent forces moving organizations toward globalization . 1.0\n",
      "\n",
      "this pattern of bad journalism is a prominent feature of every pro-hoax text and video .\n",
      "this pattern of bad journalism is a prominent feature of every pro-hoax text and video . 1.0\n",
      "\n",
      "apple vs. microsoft my altavista survey results revealed that \" gates hate \" is more prominent among mac fans than with other groups -- providing a rationale for starting with apple in our examination of the various conflicts listed above .\n",
      "apple vs. microsoft my altavista survey results revealed that \" gates hate \" is more prominent among mac fans than with other groups -- providing a rationale for starting with apple in our examination of the various conflicts listed above . 1.0\n",
      "\n",
      "in short , he may be rendered insane upon every subject which is not founded on , and which does not remain in never-varying consistency with , the facts that surround mankind .\n",
      "in short , he may be rendered insane upon every subject which is not founded on , and which does not remain in never-varying consistency with , the facts that surround mankind . 1.0\n",
      "\n",
      "a shared interest in prosperity has not been enough to render benign alienage and the political erasures of borders .\n",
      "a shared interest in prosperity has not been enough to render benign alienage and the political erasures of borders . 1.0\n",
      "\n",
      "it is , therefore , without any substance to urge that the services under the scheme are rendered free of charge and , therefore , the scheme is not a \" service \" under the act .\n",
      "it is , therefore , without any substance to urge that the services under the scheme are rendered free of charge and , therefore , the scheme is not a \" service \" under the act . 1.0\n",
      "\n",
      "posted by : robrob at june 23 , 2005 02:04 am where will the greed of corporations intent on rendering skilled american workers obsolete end ?\n",
      "posted by : robrob at june 23 , 2005 02:04 am where will the greed of corporations intent on rendering skilled american workers obsolete end ? 1.0\n",
      "\n",
      "in general , the speech stylesheet will not attempt to specify the mapping between visual layout tags and speech properties , instead leaving it to specific browser implementations and user-specific stylesheets to decide how such tags are rendered .\n",
      "in general , the speech stylesheet will not attempt to specify the mapping between visual layout tags and speech properties , instead leaving it to specific browser implementations and user-specific stylesheets to decide how such tags are rendered . 1.0\n",
      "\n",
      "you produce the content , and my browser decides -- along with some input from me -- how to render the content .\n",
      "you produce the content , and my browser decides -- along with some input from me -- how to render the content . 1.0\n",
      "\n",
      "in particular , provision of an alternative route for cyclists should never be regarded as an excuse for rendering the original road or junction unsuitable for cyclists .\n",
      "in particular , provision of an alternative route for cyclists should never be regarded as an excuse for rendering the original road or junction unsuitable for cyclists . 1.0\n",
      "\n",
      "although technological advancements make it possible to ship products from one side of the world to the other within a few days , abuse of a good-quality food before , during or after transportation and storage may render it spoiled or unsafe by the time it reaches the consumer .\n",
      "although technological advancements make it possible to ship products from one side of the world to the other within a few days , abuse of a good-quality food before , during or after transportation and storage may render it spoiled or unsafe by the time it reaches the consumer . 1.0\n",
      "\n",
      " this renders necessary a brief review of the position occupied by the administration on this important and vital question .\n",
      " this renders necessary a brief review of the position occupied by the administration on this important and vital question . 1.0\n",
      "\n",
      "schon ( 1983,1987 ) has noted that \" practice is characterized by indeterminacy , and what distinguishes the excellent practitioner from the merely adequate one is the ability to render indeterminate situations determinate .\n",
      "schon ( 1983,1987 ) has noted that \" practice is characterized by indeterminacy , and what distinguishes the excellent practitioner from the merely adequate one is the ability to render indeterminate situations determinate . 1.0\n",
      "\n",
      "hence becoming the scene of more than one major battle between the olde enemy england .\n",
      "hence becoming the scene of more than one major battle between the olde enemy england . 1.0\n",
      "\n",
      "every scene seems totally natural like it could have really happened , and yet the movie is not a dull slice-of-life diorama either .\n",
      "every scene seems totally natural like it could have really happened , and yet the movie is not a dull slice-of-life diorama either . 1.0\n",
      "\n",
      "on the plus side , the immediate mode offers the possibility of exploring dynamic scenes .\n",
      "on the plus side , the immediate mode offers the possibility of exploring dynamic scenes . 1.0\n",
      "\n",
      "both times we have a cajus who goes out to walk ; both times a carriage full of people , who both times sing and shout ; both times cajus meets with the carnage ; both times a family is mentioned ; both times an aged woman figures in the scene ; both times the hand is kissed .\n",
      "both times we have a cajus who goes out to walk ; both times a carriage full of people , who both times sing and shout ; both times cajus meets with the carnage ; both times a family is mentioned ; both times an aged woman figures in the scene ; both times the hand is kissed . 1.0\n",
      "\n",
      " reverse : whaling scene with two boats , one being stove by a whale ; ship in background , labeled \" 18 jan 1851 / the accident off new zealand .\n",
      " reverse : whaling scene with two boats , one being stove by a whale ; ship in background , labeled \" 18 jan 1851 / the accident off new zealand . 1.0\n",
      "\n",
      "3 [ 432 u.s. 312 , 332 ] i suspect that the only justification for the court 's decision today is its belief that the statute is unfair in its application .\n",
      "3 [ 432 u.s. 312 , 332 ] i suspect that the only justification for the court 's decision today is its belief that the statute is unfair in its application . 1.0\n",
      "\n",
      "it is doubtful that many viewers who witness the process and effects of such nefarious and insidious \" mind control \" in their entertainment , ever suspect that they themselves are the victims of similar programs of influence and plots of intrigue in real life .\n",
      "it is doubtful that many viewers who witness the process and effects of such nefarious and insidious \" mind control \" in their entertainment , ever suspect that they themselves are the victims of similar programs of influence and plots of intrigue in real life . 1.0\n",
      "\n",
      "this variable degree of symptoms can make the diagnosis of an oxidative metabolic disorder more difficult to recognize , but should be highly suspected when myopathy and encephalopathy are present together .\n",
      "this variable degree of symptoms can make the diagnosis of an oxidative metabolic disorder more difficult to recognize , but should be highly suspected when myopathy and encephalopathy are present together . 1.0\n",
      "\n",
      "if you suspect something is out of the ordinary then its time to call the police and either pass on the information or request to see an officer if necessary .\n",
      "if you suspect something is out of the ordinary then its time to call the police and either pass on the information or request to see an officer if necessary . 1.0\n",
      "\n",
      "i suspect that all the other committees will have an away day and that all of those will have a european element .\n",
      "i suspect that all the other committees will have an away day and that all of those will have a european element . 1.0\n",
      "\n",
      "suspected of conspiracy , securities fraud and obstruction of justice , stewart is ultimately indicted , found guilty of all charges and sentenced to five months in prison followed by five months of house arrest .\n",
      "suspected of conspiracy , securities fraud and obstruction of justice , stewart is ultimately indicted , found guilty of all charges and sentenced to five months in prison followed by five months of house arrest . 1.0\n",
      "\n",
      "either way , it appears that the spdc commander suspects that the rice has gone to the knla .\n",
      "either way , it appears that the spdc commander suspects that the rice has gone to the knla . 1.0\n",
      "\n",
      "i suspect i will be able to nitpick all counterarguments .\n",
      "i suspect i will be able to nitpick all counterarguments . 1.0\n",
      "\n",
      "plaintiff presents , as an example of \" government spying , \" an incident in which another person is suspected , without factual basis , of being an infiltrator : on october 10 , 2001 , seattle central community college freedom socialists club held a form entitled \" a speakout against war .\n",
      "plaintiff presents , as an example of \" government spying , \" an incident in which another person is suspected , without factual basis , of being an infiltrator : on october 10 , 2001 , seattle central community college freedom socialists club held a form entitled \" a speakout against war . 1.0\n",
      "\n",
      "spaghettini with mullet roe and grated vegetables , and penne with sundried tomatoes and basil were both full of flavour and pleasantly light , which was lucky as i was almost defeated by an exceptionally tender and tasty lamb shank to follow .\n",
      "spaghettini with mullet roe and grated vegetables , and penne with sundried tomatoes and basil were both full of flavour and pleasantly light , which was lucky as i was almost defeated by an exceptionally tender and tasty lamb shank to follow . 1.0\n",
      "\n",
      "women usually notice little change in their breasts , but if you are a man , your breasts may become slightly larger and may be tender .\n",
      "women usually notice little change in their breasts , but if you are a man , your breasts may become slightly larger and may be tender . 1.0\n",
      "\n",
      " i can be very , very strong , but on the other hand , i have very tender sentiments .\n",
      " i can be very , very strong , but on the other hand , i have very tender sentiments . 1.0\n",
      "\n",
      "rabbits often feed on young , tender perennial growth as it emerges in spring , or on young transplants .\n",
      "rabbits often feed on young , tender perennial growth as it emerges in spring , or on young transplants . 1.0\n",
      "\n",
      "the grilled octopus was very tender .\n",
      "the grilled octopus was very tender . 1.0\n",
      "\n",
      "cook the rice , covered , over boiling water for about 30 minutes , or until the grains are tender .\n",
      "cook the rice , covered , over boiling water for about 30 minutes , or until the grains are tender . 1.0\n",
      "\n",
      "they feed at that period on the opening buds of maples , and others that are equally tender and juicy .\n",
      "they feed at that period on the opening buds of maples , and others that are equally tender and juicy . 1.0\n",
      "\n",
      "i fancy you would , perhaps , like the rule of the russians , who are very great friends of india and of mahomedans , and under whom the hindus will live in great comfort , and who will protect with the tenderest care the wealth and property which they have acquired under english rule ?\n",
      "i fancy you would , perhaps , like the rule of the russians , who are very great friends of india and of mahomedans , and under whom the hindus will live in great comfort , and who will protect with the tenderest care the wealth and property which they have acquired under english rule ? 1.0\n",
      "\n",
      "after breaking though into the first team at the tenderest of ages , the youngster received his full international call up shortly afterwards .\n",
      "after breaking though into the first team at the tenderest of ages , the youngster received his full international call up shortly afterwards . 1.0\n",
      "\n",
      "yes , this had happened : the pirates to windward and the pirates to leeward of the agra had found out , at one and the same moment , that the merchant captain they had lashed , and bullied , and tortured was a patient but tremendous man .\n",
      "yes , this had happened : the pirates to windward and the pirates to leeward of the agra had found out , at one and the same moment , that the merchant captain they had lashed , and bullied , and tortured was a patient but tremendous man . 1.0\n",
      "\n",
      "these occurrences are never reported to the general public because they would cause a tremendous backlash against the present system .\n",
      "these occurrences are never reported to the general public because they would cause a tremendous backlash against the present system . 1.0\n",
      "\n",
      " it does not foster the tremendous sense of accomplishment that a child receives when another person can read his writing , \" she said .\n",
      " it does not foster the tremendous sense of accomplishment that a child receives when another person can read his writing , \" she said . 1.0\n",
      "\n",
      "-- posted by jess on august 12 , 2003 12:23 pm i think this idea has tremendous promise .\n",
      "-- posted by jess on august 12 , 2003 12:23 pm i think this idea has tremendous promise . 1.0\n",
      "\n",
      "over the last several decades , both the town and county have seen tremendous growth .\n",
      "over the last several decades , both the town and county have seen tremendous growth . 1.0\n",
      "\n",
      "organizational re-design we have seen the need in our transformation efforts to re-design some of our military organizations to harness the tremendous power of new technologies and exploit the synergy of joint forces .\n",
      "organizational re-design we have seen the need in our transformation efforts to re-design some of our military organizations to harness the tremendous power of new technologies and exploit the synergy of joint forces . 1.0\n",
      "\n",
      "the tremendous mobilization of resources made the allied victory possible .\n",
      "the tremendous mobilization of resources made the allied victory possible . 1.0\n",
      "\n",
      "at the september groundbreaking for the new academic building at george mason university , larry czarda , vice president for operations , prince william campus said : the surge of economic development in the manassas/prince william county area offers tremendous opportunities for growth and programming at the prince william campus as well as the potential for forging academic and research partnerships with our corporate neighbors .\n",
      "at the september groundbreaking for the new academic building at george mason university , larry czarda , vice president for operations , prince william campus said : the surge of economic development in the manassas/prince william county area offers tremendous opportunities for growth and programming at the prince william campus as well as the potential for forging academic and research partnerships with our corporate neighbors . 1.0\n",
      "\n",
      "there 's a tremendous amount of information on the kitimat pipeline .\n",
      "there 's a tremendous amount of information on the kitimat pipeline . 1.0\n",
      "\n",
      "a first negative social effect of retrenchment programmes is the redistribution of incentives given for voluntary retirement ; these tend to attract the most skilled employees who have the best chances for advancement in the private sector but who are vital to the successful implementation of the reform .\n",
      "a first negative social effect of retrenchment programmes is the redistribution of incentives given for voluntary retirement ; these tend to attract the most skilled employees who have the best chances for advancement in the private sector but who are vital to the successful implementation of the reform . 1.0\n",
      "\n",
      "4. ) bone is being reabsorbed from the skeleton in order to keep the vital blood level of calcium normal .\n",
      "4. ) bone is being reabsorbed from the skeleton in order to keep the vital blood level of calcium normal . 1.0\n",
      "\n",
      "it says that it has been inundated by correspondence from clubs that risk losing vital income that helps to keep their organisations alive .\n",
      "it says that it has been inundated by correspondence from clubs that risk losing vital income that helps to keep their organisations alive . 1.0\n",
      "\n",
      "( see resources. ) consulting them is a vital piece of the selection process as you 'll get a good idea of what 's appropriate or historic for your area .\n",
      "( see resources. ) consulting them is a vital piece of the selection process as you 'll get a good idea of what 's appropriate or historic for your area . 1.0\n",
      "\n",
      "information technology keeping out the wrong people tightened visa rules are slowing the vital flow of professionals into the u.s. like a forlorn estragon from samuel beckett 's waiting for godot , zubair malik has been waiting .\n",
      "information technology keeping out the wrong people tightened visa rules are slowing the vital flow of professionals into the u.s. like a forlorn estragon from samuel beckett 's waiting for godot , zubair malik has been waiting . 1.0\n",
      "\n",
      "if anything , the mission understates its own vital role in order to keep the focus on local churches and their missionaries , but those of us who are served so well by gfa can testify that we would not be anywhere near as effective without these skilled , dedicated yoke-fellows in the lord 's work .\n",
      "if anything , the mission understates its own vital role in order to keep the focus on local churches and their missionaries , but those of us who are served so well by gfa can testify that we would not be anywhere near as effective without these skilled , dedicated yoke-fellows in the lord 's work . 1.0\n",
      "\n",
      "replacing mideast oil is vital , but not by substituting equally or more vulnerable domestic sources .\n",
      "replacing mideast oil is vital , but not by substituting equally or more vulnerable domestic sources . 1.0\n",
      "\n",
      "hearing aid wearers were provided access to the telephone system because congress recognized the vital nature of the phone system and the importance of everyone , including people with hearing loss , being able to access it .\n",
      "hearing aid wearers were provided access to the telephone system because congress recognized the vital nature of the phone system and the importance of everyone , including people with hearing loss , being able to access it . 1.0\n",
      "\n",
      " troops continue to work to provide vital infrastructure throughout iraq .\n",
      " troops continue to work to provide vital infrastructure throughout iraq . 1.0\n",
      "\n",
      "this is where the information revolution is happening -- and our share of these voices is smaller and smaller -- so america must find way to reach and engage a wider , younger , more diverse worldwide audience .\n",
      "this is where the information revolution is happening -- and our share of these voices is smaller and smaller -- so america must find way to reach and engage a wider , younger , more diverse worldwide audience . 1.0\n",
      "\n",
      "that same thing could happen if we had a manhattan type project focusing on renewables , potential worldwide markets , if we are the leader , and we have every reason to be the leader because we have the biggest problem .\n",
      "that same thing could happen if we had a manhattan type project focusing on renewables , potential worldwide markets , if we are the leader , and we have every reason to be the leader because we have the biggest problem . 1.0\n",
      "\n",
      "at the time of writing , the anti-semitic policies of the soviet union are also a subject of worldwide protest .\n",
      "at the time of writing , the anti-semitic policies of the soviet union are also a subject of worldwide protest . 1.0\n",
      "\n",
      "he suggested building an experimental hypertext ' web ' for the worldwide community of physicists who used cern and its publications .\n",
      "he suggested building an experimental hypertext ' web ' for the worldwide community of physicists who used cern and its publications . 1.0\n",
      "\n",
      "furthermore , non-residents can apply to be treated like a resident if his/her income from german sources is either at least 90 percent of his/her worldwide income or his/her non-german source income is less than dm12,000 ( 24,000 for married couples ) .\n",
      "furthermore , non-residents can apply to be treated like a resident if his/her income from german sources is either at least 90 percent of his/her worldwide income or his/her non-german source income is less than dm12,000 ( 24,000 for married couples ) . 1.0\n",
      "\n",
      "after adding the separate partnerships of jlw ireland and jlw scotland , the combined total of our european and north american businesses represented approximately 75 % of worldwide revenue in 1998 , up from approximately 63 % in 1997 .\n",
      "after adding the separate partnerships of jlw ireland and jlw scotland , the combined total of our european and north american businesses represented approximately 75 % of worldwide revenue in 1998 , up from approximately 63 % in 1997 . 1.0\n",
      "\n",
      "osis also provides its users with direct , yet protected , access to the internet and its broad range of worldwide open source information resources .\n",
      "osis also provides its users with direct , yet protected , access to the internet and its broad range of worldwide open source information resources . 1.0\n",
      "\n",
      "may 13 , 2002 - dunn 's execution , scheduled for may 14th , was stayed by the fifth circuit pending resolution of the appeal .\n",
      "may 13 , 2002 - dunn 's execution , scheduled for may 14th , was stayed by the fifth circuit pending resolution of the appeal . 1.0\n",
      "\n",
      "more broadly , it provides context for the question of what immediate executions are worth to investors .\n",
      "more broadly , it provides context for the question of what immediate executions are worth to investors . 1.0\n",
      "\n",
      "especially in a legislature such as the english , in which the responsibility for the execution of the laws is and must be felt .\n",
      "especially in a legislature such as the english , in which the responsibility for the execution of the laws is and must be felt . 1.0\n",
      "\n",
      "found is set this way when the for loop exits ; inside the execution of the loop , found is not modified by the for statement , although it may be changed by the execution of other statements within the loop body .\n",
      "found is set this way when the for loop exits ; inside the execution of the loop , found is not modified by the for statement , although it may be changed by the execution of other statements within the loop body . 1.0\n",
      "\n",
      "of course , this approach requires good execution including strong encryption and authentication , and secure key management .\n",
      "of course , this approach requires good execution including strong encryption and authentication , and secure key management . 1.0\n",
      "\n",
      "but a new survey shows that the execution of ms. tucker and the resulting debate led some residents of the lone star state to have second thoughts about capital punishment .\n",
      "but a new survey shows that the execution of ms. tucker and the resulting debate led some residents of the lone star state to have second thoughts about capital punishment . 1.0\n",
      "\n",
      "i understand that the presence of those individuals that came to the congress to testify about the years they had spent awaiting execution before having being declared innocent was particularly moving and valuable .\n",
      "i understand that the presence of those individuals that came to the congress to testify about the years they had spent awaiting execution before having being declared innocent was particularly moving and valuable . 1.0\n",
      "\n",
      "the most poignant part of the book is when we learn of raw 's loss of his 15-year old daughter to a murderer and how he dealt with the pain and grief ( it was not , incidentally , by calling the murderer names and demanding his execution ) .\n",
      "the most poignant part of the book is when we learn of raw 's loss of his 15-year old daughter to a murderer and how he dealt with the pain and grief ( it was not , incidentally , by calling the murderer names and demanding his execution ) . 1.0\n",
      "\n",
      "happiness is a by-product of function .\n",
      "happiness is a by-product of function . 1.0\n",
      "\n",
      "4 how can one generate the probability density function of an erlang distribution using stella ?\n",
      "4 how can one generate the probability density function of an erlang distribution using stella ? 1.0\n",
      "\n",
      "these functions also use scheduling priority to decide which thread gets to execute when there is contention .\n",
      "these functions also use scheduling priority to decide which thread gets to execute when there is contention . 1.0\n",
      "\n",
      "functions of the presidency one way of bringing focus to the presidency is to determine what the functions of the position should be .\n",
      "functions of the presidency one way of bringing focus to the presidency is to determine what the functions of the position should be . 1.0\n",
      "\n",
      "the orientation of unionids in rivers as a function of the hydrological variability .\n",
      "the orientation of unionids in rivers as a function of the hydrological variability . 1.0\n",
      "\n",
      "because of the obvious incapacity of these bourgeois classes to fulfill the normal economic function of a bourgeoisie , each of them faces a subversion based on the bureaucratic model , more or less adapted to local peculiarities , and eager to seize the heritage of this bourgeoisie .\n",
      "because of the obvious incapacity of these bourgeois classes to fulfill the normal economic function of a bourgeoisie , each of them faces a subversion based on the bureaucratic model , more or less adapted to local peculiarities , and eager to seize the heritage of this bourgeoisie . 1.0\n",
      "\n",
      "the composition , structure , function and distribution of populations and the biology of population communities ( producers , consumers , and decomposers ) , ecosystems , nutrient cycles , energy flow , bio-geographical cycles , human impact on environment will be covered .\n",
      "the composition , structure , function and distribution of populations and the biology of population communities ( producers , consumers , and decomposers ) , ecosystems , nutrient cycles , energy flow , bio-geographical cycles , human impact on environment will be covered . 1.0\n",
      "\n",
      "however , their arguments are identical in function to the creationists ' arguments : rather than provide positive evidence for their own position , they mainly try to find weaknesses in natural selection .\n",
      "however , their arguments are identical in function to the creationists ' arguments : rather than provide positive evidence for their own position , they mainly try to find weaknesses in natural selection . 1.0\n",
      "\n",
      "its main function is to act as a bridge between your hi-fi and computer , so that you can stream music from one to the other .\n",
      "its main function is to act as a bridge between your hi-fi and computer , so that you can stream music from one to the other . 1.0\n",
      "\n",
      "where most experiments show only \" shadows \" of the wave function in the form of measurement outcomes , konrad was able to go one step further , designing and implementing a measurement scheme that is sensitive enough to reveal the complete function .\n",
      "where most experiments show only \" shadows \" of the wave function in the form of measurement outcomes , konrad was able to go one step further , designing and implementing a measurement scheme that is sensitive enough to reveal the complete function . 1.0\n",
      "\n",
      "framed by the remains of a smoking , burning doorway and silhouetted against the light , ethan squats and surveys the butchered dead , and his head drops as he imagines the torture that three family members suffered , including martha 's rape . [ a similar scene of luke skywalker 's discovery of his aunt and uncle 's burning home after their murder by imperial stormtroopers is found in george lucas ' star wars ( 1977 ) .\n",
      "framed by the remains of a smoking , burning doorway and silhouetted against the light , ethan squats and surveys the butchered dead , and his head drops as he imagines the torture that three family members suffered , including martha 's rape. [ a similar scene of luke skywalker 's discovery of his aunt and uncle 's burning home after their murder by imperial stormtroopers is found in george lucas ' star wars ( 1977 ) . 0.9988193624557261\n",
      "\n",
      "prevalence of different agro-ecological tracts has made it possible to grow a multitude of over 60 crops ranging from typical tropical ones to moderate temperate varieties including cereals such as rice , wheat . maize , millet , beans , pulses and oilseeds : industrial crops such as cotton , jute , rubber , sugar cane , toddy palm , tobacco and spices , and many others both edible and non-edible .\n",
      "prevalence of different agro-ecological tracts has made it possible to grow a multitude of over 60 crops ranging from typical tropical ones to moderate temperate varieties including cereals such as rice , wheat. maize , millet , beans , pulses and oilseeds : industrial crops such as cotton , jute , rubber , sugar cane , toddy palm , tobacco and spices , and many others both edible and non-edible . 0.9987515605493134\n",
      "\n",
      "in an interview for this survey , gordon brown , the british chancellor and himself a scotsman , said that support for the snp declined as the election neared because the party failed to give convincing answers to big questions about how it would run scotland 's economy .\n",
      "in an interview for this survey , gordon brown , the british chancellor and himself a scotsman , said that support for the snp declined as the election neared because the party failed to give convincing answers to big questions about how it would run scotland's economy . 0.998158379373849\n",
      "\n",
      "but that last statistic is misleading , because a variety of studies shows that about 40 % of the workers who do n't take up healthcare offers have coverage through a spouse , and another 20 % ( likely younger workers ) decline coverage to save money .\n",
      "but that last statistic is misleading , because a variety of studies shows that about 40 % of the workers who don't take up healthcare offers have coverage through a spouse , and another 20 % ( likely younger workers ) decline coverage to save money . 0.9980119284294234\n",
      "\n",
      "we have measures in place to keep it that way , \" spokeswoman maeve o'beirne said . [ the key point is whether the us should have acted a week earlier given the fact that france had imported 20,000 sheep from the uk during the critical period .\n",
      "we have measures in place to keep it that way , \" spokeswoman maeve o'beirne said. [ the key point is whether the us should have acted a week earlier given the fact that france had imported 20,000 sheep from the uk during the critical period . 0.997946611909651\n",
      "\n",
      "we 're both in our early thirties , both grew up in the suburbs of east coast us cities , raised by liberal parents who pushed us towards soccer , the progressive , globalized , nonviolent sport of choice for seventies and eighties us parents .\n",
      "we're both in our early thirties , both grew up in the suburbs of east coast us cities , raised by liberal parents who pushed us towards soccer , the progressive , globalized , nonviolent sport of choice for seventies and eighties us parents . 0.997946611909651\n",
      "\n",
      "e-mail to : methodius baptist union of great britain - archive of mission-related dissertations with a focus on baptist mission in the uk e-mail to : darrell jackson , mission adviser bethany christian services ( bcs ) - bcs is a non-profit organization with a mission to protect and enhance the lives of children and individuals through professional social services like int . and dom . adoption , counseling ( pregnancy+family ) foster care and a 1-800-bethany hotline .\n",
      "e-mail to : methodius baptist union of great britain - archive of mission-related dissertations with a focus on baptist mission in the uk e-mail to : darrell jackson , mission adviser bethany christian services ( bcs ) - bcs is a non-profit organization with a mission to protect and enhance the lives of children and individuals through professional social services like int. and dom. adoption , counseling ( pregnancy+family ) foster care and a 1-800-bethany hotline . 0.9978768577494692\n",
      "\n",
      "and , hissing softly with the voice of fire , and brightening to a wrathful , terrible gold , the demon leapt forward to do battle with the beast , even as it had promised me , in return for its freedom after cycles of captivity .\n",
      "and , hissing softly with the voice of fire , and brightening to a wrathful , terrible gold , the demon leapt forward to do battle with the beast, even as it had promised me , in return for its freedom after cycles of captivity . 0.9978213507625272\n",
      "\n",
      "here are some of the principal sources for evidence in inductive arguments : 1 . in essays on literature , the evidence comes almost entirely from the text of the work you are evaluating , that is , from the words on the page .\n",
      "here are some of the principal sources for evidence in inductive arguments : 1. in essays on literature , the evidence comes almost entirely from the text of the work you are evaluating , that is , from the words on the page . 0.9977924944812362\n",
      "\n",
      "no . 19504 regents action date : december 20 , 2001 action : application for consent order granted ; penalty agreed upon : 2 year suspension , execution of suspension stayed , probation 2 years , $ 5,000 fine .\n",
      "no. 19504 regents action date : december 20 , 2001 action : application for consent order granted ; penalty agreed upon : 2 year suspension , execution of suspension stayed , probation 2 years , $ 5,000 fine . 0.9976133651551312\n",
      "\n",
      "this has been , at times , merely an effort to gain greater public renown for their group or cause , but more troubling have been the groups seeking to push forward al-qaida 's agenda of worldwide terror .\n",
      "this has been , at times , merely an effort to gain greater public renown for their group or cause , but more troubling have been the groups seeking to push forward al-qaida's agenda of worldwide terror . 0.9975550122249389\n",
      "\n",
      "i was given cardiovascular tests , including treadmill stress tests and ultrasound examinations of my heart , but apparently , things were n't bad enough that i was singled out for consultation .\n",
      "i was given cardiovascular tests , including treadmill stress tests and ultrasound examinations of my heart , but apparently , things weren't bad enough that i was singled out for consultation . 0.9974293059125964\n",
      "\n",
      "external resources : assess external resources and the community 's institutional , political , technical , legal and fiscal capability to engage in hazard mitigation and response .\n",
      "external resources : assess external resources and the community's institutional , political , technical , legal and fiscal capability to engage in hazard mitigation and response . 0.997229916897507\n",
      "\n",
      "undoubtedly a mainstay of the texas music scene , one of lloyd 's best known credits is his daughter , natalie maines , the lead singer for the grammy award winning dixie chicks .\n",
      "undoubtedly a mainstay of the texas music scene , one of lloyd's best known credits is his daughter , natalie maines , the lead singer for the grammy award winning dixie chicks . 0.9971988795518207\n",
      "\n",
      "the m107 program is managed by the project manager soldier weapons with engineering support provided by picatinny 's armament research , development and engineering center .\n",
      "the m107 program is managed by the project manager soldier weapons with engineering support provided by picatinny's armament research , development and engineering center . 0.9971014492753624\n",
      "\n",
      "since kt is the established symbol for the kilotonne , kn is the best choice as a symbol for the knot . knot [ 2 ] an informal unit of distance equal to the nautical mile .\n",
      "since kt is the established symbol for the kilotonne , kn is the best choice as a symbol for the knot. knot [ 2 ] an informal unit of distance equal to the nautical mile . 0.9970845481049563\n",
      "\n",
      "and if no exact & safe equilibrium can be introduced , it is more reasonable that a preponderating weight shd . be allowed to the greater interest than to the lesser .\n",
      "and if no exact & safe equilibrium can be introduced , it is more reasonable that a preponderating weight shd. be allowed to the greater interest than to the lesser . 0.996996996996997\n",
      "\n",
      "but even willy 's conception of the past is not as idyllic as it seems on the surface , as his split consciousness , the profound rift in his psyche , shows through .\n",
      "but even willy's conception of the past is not as idyllic as it seems on the surface , as his split consciousness , the profound rift in his psyche , shows through . 0.9969788519637462\n",
      "\n",
      "only one third of the young people questioned said that they had recently had a satiating meal . , the remainder could not remember when they last had one .\n",
      "only one third of the young people questioned said that they had recently had a satiating meal. , the remainder could not remember when they last had one . 0.9967845659163987\n",
      "\n",
      "they should take note of darius ' admonitions. -- well i think this is ok because they 're part of your race and therefore part of your extended family .\n",
      "they should take note of darius ' admonitions.-- well i think this is ok because they 're part of your race and therefore part of your extended family . 0.9967213114754099\n",
      "\n",
      "thank you for having osiris here . we 've been involved in mesenchymal stem cell , adult stem cell research for about 11 years now . our technology came out of arnie kaplan 's lab and was acquired from case western at that time , and we 've been solely focused in that area since on several applications .\n",
      "thank you for having osiris here. we 've been involved in mesenchymal stem cell , adult stem cell research for about 11 years now. our technology came out of arnie kaplan 's lab and was acquired from case western at that time , and we 've been solely focused in that area since on several applications . 0.9967105263157895\n",
      "\n",
      "i 'd rather go face down , fast , in a plate of chili at 76 than suffer the grim attenuations of mental decay and wander off this mortal plane at 78 .\n",
      "i'd rather go face down , fast , in a plate of chili at 76 than suffer the grim attenuations of mental decay and wander off this mortal plane at 78 . 0.9966555183946488\n",
      "\n",
      "the whole organization is utterly impersonal ; it is hard , mechanical , inhuman , relentless , and must be so , and can not possibly be otherwise .\n",
      "the whole organization is utterly impersonal ; it is hard , mechanical , inhuman , relentless , and must be so , and cannot possibly be otherwise . 0.9966101694915255\n",
      "\n",
      "q can you kindly advise if team roles change with different team members and external factors e.g . company setting , cultural context ?\n",
      "q can you kindly advise if team roles change with different team members and external factors e.g. company setting , cultural context ? 0.996309963099631\n",
      "\n",
      "key findings are available in the informal education archives : ; full report : \" institute of public policy research 2003 reprinted here with the kind permission of the institute of public policy research first placed in the archives : december 2003\n",
      "key findings are available in the informal education archives : ; full report : institute of public policy research 2003 reprinted here with the kind permission of the institute of public policy research first placed in the archives : december 2003 0.9959839357429718\n",
      "\n",
      "china , india , latin america and the rest of asia will help grow worldwide demand for electric power by 59 percent over the next two decades . \" the hydrogen economy is based on the idea that fuel cells that run on hydrogen have the potential to replace current energy systems in all forms , from vehicle propulsion to stationary power generation to mobile phone batteries .\n",
      "china , india , latin america and the rest of asia will help grow worldwide demand for electric power by 59 percent over the next two decades. the hydrogen economy is based on the idea that fuel cells that run on hydrogen have the potential to replace current energy systems in all forms , from vehicle propulsion to stationary power generation to mobile phone batteries . 0.9959839357429718\n",
      "\n",
      "protest is vital , but small , incessant protests are impotent . *** what do you do when the message wo n't get through ?\n",
      "protest is vital , but small , incessant protests are impotent. *** what do you do when the message wo n't get through ? 0.995850622406639\n",
      "\n",
      "since civil discourse in our country is increasingly lacking , and the word insanity in this context implies a lack of such civility , how can that be a good thing for anybody or the mark of a great president ? eh , one episode , wha-evuh .\n",
      "since civil discourse in our country is increasingly lacking , and the word insanity in this context implies a lack of such civility , how can that be a good thing for anybody or the mark of a great president?\" eh , one episode , wha-evuh . 0.9958333333333333\n",
      "\n",
      "tent , caravan or campervan . make sure of your future work plans before you move on from your present location .\n",
      "tent , caravan or campervan. make sure of your future work plans before you move on from your present location . 0.9955555555555555\n",
      "\n",
      "anne bradstreet 's poetry is so tender and poignant , cotton mather 's preaching is both ornery and passionate , richard baxter 's reformed pastor is one of the classics , and jonathan edwards , is , well , jonathan edwards ( if you consider him a puritan , not everyone does. ) oh , by the way , great article about puritans here .\n",
      "anne bradstreet's poetry is so tender and poignant , cotton mather's preaching is both ornery and passionate , richard baxter's reformed pastor is one of the classics , and jonathan edwards , is , well , jonathan edwards ( if you consider him a puritan , not everyone does. ) oh , by the way , great article about puritans here . 0.9954614220877458\n",
      "\n",
      "although i told you after the program how pleased i was and how successful i felt everything went , what i did n't tell you after the program was this : on a scale of 1 to 10 , your execution was also a \" 10 !\n",
      "although i told you after the program how pleased i was and how successful i felt everything went , what i did n't tell you after the program was this : on a scale of 1 to 10 , your execution was also a\"10 ! 0.9951923076923077\n",
      "\n",
      "here 's a cross-section : -- wizbang 's kevin alyward : \" i remain skeptical of the argument the schindler 's lawyers have put forth ( they claimed that terri schiavo 's religious and due process rights have been violated ) in their federal case , and suspect the supreme court may decided not to hear the case .\n",
      "here 's a cross-section : --wizbang 's kevin alyward :\"i remain skeptical of the argument the schindler 's lawyers have put forth ( they claimed that terri schiavo 's religious and due process rights have been violated ) in their federal case , and suspect the supreme court may decided not to hear the case . 0.9951690821256038\n",
      "\n",
      "listen to the kangaroo , to her low moans and sighs , she 's just so upset about her tremendous thighs .\n",
      "listen to the kangaroo , to her low moans and sighs , she's just so upset about her tremendous thighs . 0.9951690821256038\n",
      "\n",
      "there are many important and urgent responsibilities to attract the missionary 's attention on the mission field , e.g . adult literacy . social and developmental projects , educational and medical work .\n",
      "there are many important and urgent responsibilities to attract the missionary 's attention on the mission field , e.g. adult literacy. social and developmental projects , educational and medical work . 0.9950738916256158\n",
      "\n",
      "directly away from where the caravan was headed . : : : yang watched the exchange with interest .\n",
      "directly away from where the caravan was headed. : : : yang watched the exchange with interest . 0.9948186528497409\n",
      "\n",
      "the hispanic family : an untapped resource one step that schools can take is to understand and tap into an important and underutilized source of strength -- the hispanic extended family .\n",
      "the hispanic family : an untapped resource one step that schools can take is to understand and tap into an important and underutilized source of strength--the hispanic extended family . 0.9946236559139785\n",
      "\n",
      "update posted at 10:00 am -- permalink back in this post , i reported that the tropicana hotel in las vegas had stopped accepting reservations for after april 15 and that a prominent demolition company had told a reporter that it was studying how to blow up the place .\n",
      "update posted at 10:00 am permalink back in this post , i reported that the tropicana hotel in las vegas had stopped accepting reservations for after april 15 and that a prominent demolition company had told a reporter that it was studying how to blow up the place . 0.994392523364486\n",
      "\n",
      "and are we doing it in a way that keeps us competitive economically ? his question defined his passion , my stewardship and the mission of the environmental protection agency .\n",
      "and are we doing it in a way that keeps us competitive economically?\" his question defined his passion , my stewardship and the mission of the environmental protection agency . 0.9943181818181818\n",
      "\n",
      "not just another period piece on germany 's disturbing past , this film should have deep resonance for today 's movie fans who are concerned about civil and human rights .\n",
      "not just another period piece on germany's disturbing past , this film should have deep resonance for today's movie fans who are concerned about civil and human rights . 0.9941176470588236\n",
      "\n",
      "this is not a new phenomenon , but one inherent to capitalism itself and recognised by karl marx who pointed out that \" during its time of circulation capital does not perform the functions of productive capital and therefore produces neither commodities nor surplus-value \" 16 and , circulation proceeds in space and time .\n",
      "this is not a new phenomenon , but one inherent to capitalism itself and recognised by karl marx who pointed out that during its time of circulation capital does not perform the functions of productive capital and therefore produces neither commodities nor surplus-value 16 and , circulation proceeds in space and time . 0.9937888198757764\n",
      "\n",
      "25 association , of course , does not establish causality -- but it raises the possibility that the profound and apparently deepening pessimism about personal circumstances widely reflected in an array of opinion polls and surveys is among the determinants underlying russia 's fearsome levels of cardiovascular death .\n",
      "25 association , of course , does not establish causality but it raises the possibility that the profound and apparently deepening pessimism about personal circumstances widely reflected in an array of opinion polls and surveys is among the determinants underlying russia's fearsome levels of cardiovascular death . 0.9936908517350158\n",
      "\n",
      "psychologists are not doctors and therefore they can not prescribe medication .\n",
      "psychologists are not doctors and therefore they cannot prescribe medication . 0.9936305732484076\n",
      "\n",
      "a fresh miracle , one with a profound political dimension and such spectacular possibilities was just what they had to be looking for . [ 8 ] lourdes ' mother superior is depicted as a jealous , resentful and ambitious woman who viewed the newly arrived order as a threat-a competitor for donations and novices .\n",
      "a fresh miracle , one with a profound political dimension and such spectacular possibilities was just what they had to be looking for. [ 8 ] lourdes' mother superior is depicted as a jealous , resentful and ambitious woman who viewed the newly arrived order as a threat—a competitor for donations and novices . 0.9935691318327974\n",
      "\n",
      "possibly in the future i see the elimination of poverty , economic freedom , the repair of the ecosystem , the elimination of war ... all possibilities .\n",
      "possibly in the future i see the elimination of poverty , economic freedom , the repair of the ecosystem , the elimination of war...all possibilities . 0.993421052631579\n",
      "\n",
      "and the morans have the gall to ruin beethoven 's 6th in the process , too .\n",
      "and the morans have the gall to ruin beethoven's 6th in the process , too . 0.9933774834437086\n",
      "\n",
      "go to hell ! she remembers paul yelling at her shortly after their wedding .\n",
      "go to hell! she remembers paul yelling at her shortly after their wedding . 0.9933774834437086\n",
      "\n",
      "( missing last minute ) ( gsn/wo/c/a+/133 ) biography bob barker ( a+ ) mark goodson ( a+ ) deal a very interesting and intimate behind-the scenes look at \" let 's make a deal \" , one of the most popular game shows of all time .\n",
      "( missing last minute)(gsn/wo/c/a+/133 ) biography bob barker ( a+ ) mark goodson ( a+ ) deal a very interesting and intimate behind-the scenes look at \" let 's make a deal \" , one of the most popular game shows of all time . 0.9933774834437086\n",
      "\n",
      "avoid cliches too - words and phrases that are so frequently used that they are entirely predictable and emptied of any interesting content .\n",
      "avoid clich's too - words and phrases that are so frequently used that they are entirely predictable and emptied of any interesting content . 0.9929078014184397\n",
      "\n",
      "would you rather have made the camera that shot citizen kane , or make citizen kane ? \" silicon alley is unique , but the fundamental processes that have facilitated its emergence are not .\n",
      "would you rather have made the camera that shot citizen kane , or make citizen kane? silicon alley is unique , but the fundamental processes that have facilitated its emergence are not . 0.992\n",
      "\n",
      "this setting exists to prevent accidental 'panning ' on mouse downs that are intended for other actions ( and therefore , prevent unintended changing of the scaling into manual mode ) .\n",
      "this setting exists to prevent accidental panning on mouse downs that are intended for other actions ( and therefore , prevent unintended changing of the scaling into manual mode ) . 0.9918256130790191\n",
      "\n",
      "and , to a large extent i have harvard to thank for that -- for the extraordinary role models i studied and studied under and the friendships i made that have endured .\n",
      "and , to a large extent i have harvard to thank for that for the extraordinary role models i studied and studied under and the friendships i made that have endured . 0.990990990990991\n",
      "\n",
      "i have argued in my previous article for pdf that \" [ f ] or armstrong williams-like bloggers actually paid by campaigns or other political committees to promote or attack a candidate for federal office , prominent and on-the-spot disclosure should be mandated . \" a disclosure on a campaign 's website in a quarterly report after the election deprives voters of valuable information about the possible motivations for an analysis or commentary appearing on a website .\n",
      "i have argued in my previous article for pdf that [f]or armstrong williams-like bloggers actually paid by campaigns or other political committees to promote or attack a candidate for federal office , prominent and on-the-spot disclosure should be mandated. a disclosure on a campaign's website in a quarterly report after the election deprives voters of valuable information about the possible motivations for an analysis or commentary appearing on a website . 0.9903121636167922\n",
      "\n",
      "yet the last four are unattainable , the narrator insists , if you ca n't acquire the personal security -- the \" inner core , \" says covey -- that presumably comes from a mastery of the foundation .\n",
      "yet the last four are unattainable , the narrator insists , if you ca n't acquire the personal security--the \" inner core , \" says covey--that presumably comes from a mastery of the foundation . 0.9897959183673469\n",
      "\n",
      "we therefore oppose the government 's proposals .\n",
      "we therefore oppose the government's proposals . 0.9896907216494846\n",
      "\n",
      "the photograph on the surface does not show a conflict or an irony , but with close examination , the punctum -the element which stands out and punctures the stadium -becomes apparent .\n",
      "the photograph on the surface does not show a conflict or an irony , but with close examination , the punctum —the element which stands out and punctures the stadium —becomes apparent . 0.9891891891891892\n",
      "\n",
      "i 've always been kind of at loose ends whenever i 'm given an extended period of free time .\n",
      "i've always been kind of at loose ends whenever i'm given an extended period of free time . 0.9891304347826086\n",
      "\n",
      " we 're trying to build things that work and to prove theorems about why they work.we 're trying to articulate the more fundamental concepts of the field . \" koditschek mentions alan turing , who in the early 20th century first envisioned machines capable of methodical , goal-directed computation .\n",
      "we're trying to build things that work and to prove theorems about why they work. we're trying to articulate the more fundamental concepts of the field. koditschek mentions alan turing , who in the early 20th century first envisioned machines capable of methodical , goal-directed computation . 0.9881956155143339\n",
      "\n",
      "return to contents natural selection and other mechanisms-such as chromosomal changes , symbiosis and hybridization-can drive profound changes in populations over time .\n",
      "return to contents natural selection and other mechanisms—such as chromosomal changes , symbiosis and hybridization—can drive profound changes in populations over time . 0.9881656804733728\n",
      "\n",
      " he too can only watch in deepening despair as the grim work proceeds . \" looks more like resignation to me , but audiovision is not interested in letting us make up our own minds . \" finally , the military police carry the crates away for disposal . \" no , they just take them away .\n",
      "he too can only watch in deepening despair as the grim work proceeds.\" looks more like resignation to me , but audiovision is not interested in letting us make up our own minds. \"finally , the military police carry the crates away for disposal.\" no , they just take them away . 0.9875222816399287\n",
      "\n",
      "if babydaddy says he wo n't be around for the kid if you are n't sleeping with him , or you fear he wo n't , ask yourself if he 's a worthy boyfriend or father .\n",
      "if babydaddy says he won't be around for the kid if you aren't sleeping with him , or you fear he won't , ask yourself if he's a worthy boyfriend or father . 0.9874213836477987\n",
      "\n",
      " it does n't come into play unless you 're actually at a scene or taking action photographs , but digital cameras do not have a shutter speed fast enough to photograph action , \" says pasqualone .\n",
      "it doesn't come into play unless you're actually at a scene or taking action photographs , but digital cameras do not have a shutter speed fast enough to photograph action, says pasqualone . 0.9844559585492227\n",
      "\n",
      "jeffs and smith suggest that informal educators are \" guided ... by their understanding of what makes for the good ; of what makes for human well being \" ( 1990 : 1 7-1 8 ) .\n",
      "jeffs and smith suggest that informal educators are guided...by their understanding of what makes for the good ; of what makes for human well being ( 1990 : 1 7-1 8 ) . 0.9824561403508771\n",
      "\n",
      "hannah will just keep spouting her pat answers . \" how about we all go to copperchino for coffee ? \" tyler suggested . \" we can talk there . \" \" can't , \" said becca shortly , as they reached the bike rack at the edge of the parking lot . \" today 's my mom 's staff meeting at the community center and i promised i 'd be home to watch alvaro . \" hannah nodded approvingly . \" jacie told me about the wonderful things your family is doing for that little alien boy .\n",
      "hannah will just keep spouting her pat answers. how about we all go to copperchino for coffee? tyler suggested. we can talk there. can't, said becca shortly , as they reached the bike rack at the edge of the parking lot. today's my mom's staff meeting at the community center and i promised i'd be home to watch alvaro. hannah nodded approvingly. jacie told me about the wonderful things your family is doing for that little alien boy . 0.9678135405105438\n",
      "\n",
      "if we do not take a lead on the national scene , our fate will be in the hands of others -- others who are not likely to share our mission or concerns .\n",
      "if we do not take a lead on the national scene , our fate will be in the hands of others who are not likely to share our mission or concerns . 0.9659863945578231\n",
      "\n",
      "like maypoles , wreaths too , as she points out , figure in may day as well as summer solstice celebrations . http : //www.schooloftheseasons.com/signssummer.html [ link updated 5/20/02 ] [ added 26 may 2000 ] : this fun page collects worldwide insights from people who write to waverly and comment on how summer begins for them .\n",
      "like maypoles , wreaths too , as she points out , figure in may day as well as summer solstice celebrations. https://www.google.com/url?q=http://www.schooloftheseasons.com/signssummer.html&source=gmail-imap&ust=1645800371000000&usg=aovvaw0d6vfmcqwvngzbctn3alps [ link updated 5/20/02 ] [ added 26 may 2000 ] : this fun page collects worldwide insights from people who write to waverly and comment on how summer begins for them . 0.862796833773087\n",
      "\n",
      "it lies on the southern side of lake constance .\n",
      "then would that thou wert on the other side of christ . 0.6019417475728155\n",
      "\n",
      "none of your watched items were edited in the time period displayed .\n",
      "open members of the isfp are listed on the isfp open members page . 0.5735294117647058\n",
      "\n",
      "the cheetah hunts by vision rather than by scent .\n",
      "4. technology is a tool a means rather than an end . 0.5686274509803921\n",
      "\n",
      "veritas and undina would have been the largest fragments of that collision .\n",
      "it would have been the perfect time to kiss her , had he not been driving . 0.5562913907284768\n",
      "\n",
      "other females within the social group may assist in the birthing process and tend to the newborns .\n",
      "moore fired two shots , the first a warning shot in the air and the second at the man . 0.5483870967741935\n",
      "\n",
      "his work is displayed in the museum of modern art in yerevan .\n",
      "this book is more than just a compendium of conference papers , however . 0.5481481481481482\n",
      "\n",
      "the process is termed lichenometry .\n",
      "the grilled octopus was very tender . 0.547945205479452\n",
      "\n",
      "the head of ornitholestes was relatively small .\n",
      "the evidence of wallat was given very shortly . 0.5473684210526316\n",
      "\n",
      "the primary trinity included tinia , uni and menrva .\n",
      "they normally include strains in current or recent circulation . 0.5470085470085471\n",
      "\n",
      "the amazon basin is the part of south america drained by the amazon river and its tributaries .\n",
      "the database is particularly strong in american and british families . 0.5454545454545454\n",
      "\n",
      "the hush sound is currently on hiatus .\n",
      "currency the cypriot pound is the legal currency in cyprus . 0.5454545454545454\n",
      "\n",
      "in 1901 , an independent governor was again appointed .\n",
      "he was bright and independent and proud . 0.5416666666666666\n",
      "\n",
      "originally made for the apple ii , they were later ported to other platforms .\n",
      "unfortunately , the results fell far short of their expectations . 0.5416666666666666\n",
      "\n",
      "at present it is formed by the aa , which descends from the rigi and enters the southern extremity of the lake .\n",
      "at one side of each factory there is a great chimney which belches forth black smoke and indicates the presence of the powerful steam engines . 0.5411764705882353\n",
      "\n",
      "the name \" sea of corts \" is the one preferred by most local residents .\n",
      "four-set in a cross , the points meeting in water surrounded by luminous crescents . 0.5384615384615384\n",
      "\n",
      "the technique consists of precoding the data so as to cancel the effect of the interference .\n",
      "the different variables defining the optimal state can therefore be seen as intrinsic needs . 0.5376344086021505\n",
      "\n",
      "the word cereal derives from ceres , the name of the roman goddess of harvest and agriculture .\n",
      "they face a more serious problem in that the bottom of the market is beginning to bundle these sorts of features and rightly so . 0.5357142857142857\n",
      "\n",
      "he then settled in the avon valley , one of the most rugged and inaccessible places in the darling range .\n",
      "he went on farther , and in the great hall he saw the whole of the court lying asleep , and up by the throne lay the king and queen . 0.5355648535564853\n",
      "\n",
      "men are supposed to come to the mosque wearing loose and clean clothes that do not reveal the shape of the body .\n",
      "do n't forget to do the quick inventory and again tape it to the outside of the box . 0.5353535353535354\n",
      "\n",
      "he was kidnapped and held by the notorious pirate peter easton in harbour grace .\n",
      "he was apparently given a rough ride by the interviewer , cathal maccoille . 0.535031847133758\n",
      "\n",
      "the intent is to display the likeness , personality , and even the mood of the person .\n",
      "gattlinburg , tennessee is a touristy town to stay in on the north side of the park . 0.5348837209302325\n",
      "\n",
      "it is typically used for scraping or cutting food before the food enters the esophagus .\n",
      "you will still be responsible for the shipping and handling fees , and for the cost of returning the merchandise . 0.5346534653465347\n",
      "\n",
      "triton was revealed to have remarkable active geysers and polar caps .\n",
      "she was said to have been an attractive girl . 0.5344827586206896\n",
      "\n",
      "the books were later adapted into a television series and a feature film .\n",
      "their concern was being able to check their answers at that later time . 0.5342465753424658\n",
      "\n",
      "it was founded where the nascent sydney to melbourne road crossed water in the form of the yass river .\n",
      "to understand why this should have been so , we need to look more closely at the nature of the style and its origins . 0.5339366515837104\n",
      "\n",
      "it originally aired on the fox network in the united states on october 10 , 1991 .\n",
      "a wide gap existed between europe and the united states in the education of youth . 0.5333333333333333\n",
      "\n",
      "located on the river pedieos and situated almost in the center of the island , it is the seat of government as well as the main business center .\n",
      "the town is prettily situated on a hillside in the western curve of the bay , and moving about the roads we caught our first glimpse of the cape wagon drawn by sixteen oxen . 0.5329153605015674\n",
      "\n",
      "due to their fast growth , the foremost benefit of these trees is their wood .\n",
      "king 's room ) where the offset of the rest of the rooms begins . 0.5314685314685315\n",
      "\n",
      "after the partitions of poland in 1794 the area was annexed by prussia .\n",
      "currency the cypriot pound is the legal currency in cyprus . 0.5303030303030303\n",
      "\n",
      "some features , however , are reminiscent of the scout movement .\n",
      "open members of the isfp are listed on the isfp open members page . 0.5303030303030303\n",
      "\n",
      "they renamed the place alcante or alcanatif which means port of salt , due to the old salt industry of phoenicians and romans .\n",
      "tea tree a tea bush or plant which has been allowed to return to its wild state and grow back into a tree . 0.5299145299145299\n",
      "\n",
      "nakm won , and yaxh was instructed to find a new campsite .\n",
      "i love pigeons , and was excited about going to see them . 0.5299145299145299\n",
      "\n",
      "the revival of lute in the 20th century revitalized the interest of composers in the instruments of the lute family .\n",
      "7 ) true or false : the 2000 u. s. census will drop the question on marital status on the universal form . 0.5291479820627802\n",
      "\n",
      "the sunnah is seen as crucial to guiding interpretation of the qur ' an .\n",
      "the us ranks 37th in a world health organization examination of the world 's health care systems . 0.5263157894736842\n",
      "\n",
      "107 camilla is one of the largest main belt asteroids .\n",
      "one of these strange prophets is idris . 0.5263157894736842\n",
      "\n",
      "this was the first time in survivor history that the two initial teams were not preselected by the producers .\n",
      "mutual funds are so severely conflicted that they will not avail themselves of the alleged benefits of the proposed rule . 0.5258620689655172\n",
      "\n",
      "their quick acceleration makes them suitable for services with short intervals between stations .\n",
      "they generally lack the critical mass to be able to deliver services in a cost effective manner . 0.5257731958762887\n",
      "\n",
      "saint-montan is a commune in the ardche department in south-eastern france .\n",
      "in the still mountain air it would be heard clearly in the rustic cabin before him . 0.525\n",
      "\n",
      "their escapades earned them a cover shot and a nude pictorial in a playboy spread .\n",
      "there is much ground to cover , and i will touch on each topic only briefly . 0.525\n",
      "\n",
      "if k rei did exist , there is no evidence to suggest that the title tenn was used during the time period to which his reign has been assigned .\n",
      "however , there is strong anecdotal evidence , from students , to suggest that it is not as valued as it once was by employers . 0.5239852398523985\n",
      "\n",
      "the birthday cake is traditionally highly decorated , and typically covered with lit candles when presented , the number of candles signifying the age of the celebrant .\n",
      "the strength of its radiation increases with altitude , as does its boundaries , until it completely merges with the inner belt proper at around 600 miles from the surface of the earth . 0.523943661971831\n",
      "\n",
      "students are obligated to attend the central high school .\n",
      "we were not able to travel in the weather , and there was no phone . 0.5238095238095238\n",
      "\n",
      "gravitational energy is the energy associated with the gravitational field .\n",
      "this external communication could be with external trading partners or within the organization . 0.5232558139534884\n",
      "\n",
      "thousands of videos exist on youtube of users showing the original video to their friends and taping their reactions , although some videos seem to be staged .\n",
      "thomas golf irons give you an exceptional advantage over other brands by making it easier to aim and align your shot to the target . 0.5223367697594502\n",
      "\n",
      "the convent has been the official residence of the governor of gibraltar since 1728 .\n",
      "their concern was being able to check their answers at that later time . 0.5222929936305732\n",
      "\n",
      "the pennines constitute the main watershed in northern england , dividing the eastern and western parts of the country .\n",
      "the pulses were either short or long , representing the dots and dashes of morse code . 0.5217391304347826\n",
      "\n",
      "the aar , a tributary of the rhine , is the longest river that both rises and ends entirely within switzerland .\n",
      "instead , think about the following : dont feel that you must read everything on the reading list . 0.5213270142180095\n",
      "\n",
      "xanten is also a popular filming location and the site of many concerts .\n",
      "there 's a tremendous amount of information on the kitimat pipeline . 0.5211267605633803\n",
      "\n",
      "much of the water carried by these streams is diverted .\n",
      "one of these strange prophets is idris . 0.5208333333333334\n",
      "\n",
      "in dna , adenine binds to thymine via two hydrogen bonds to assist in stabilizing the nucleic acid structures .\n",
      "it 's a good examining into the evil dead mythos and gives us an insight into the people on and off screen . 0.5205479452054794\n",
      "\n",
      "the countess tells him it is only susanna , trying on her wedding dress .\n",
      "when it comes to music , the figures do n't tell us anything new really . 0.5205479452054794\n",
      "\n",
      "as of , it lies at latitude 66 33 39 south of the equator .\n",
      "she then selected a student to write the solution on the board . 0.5203252032520326\n",
      "\n",
      "the battalion is usually part of a regiment , group or a brigade , depending on the organizational model used by that service .\n",
      "the department is also working closely with hm customs and excise who are in the lead on developing the national lorry road user charging scheme . 0.5201465201465202\n",
      "\n",
      "this arrangement provided most of the agricultural labor throughout the middle ages .\n",
      "their involvement depends entirely on what the individual wants . 0.52\n",
      "\n",
      "they locate food by smell , using sensors in the tip of their snout , and regularly feast on ants and termites .\n",
      "here the novices performed well , getting lost , falling through holes in the floor and refusing to climb pitches . 0.5198237885462555\n",
      "\n",
      "toshiba was founded by the merging of two companies in 1939 .\n",
      "his job was unpaid , but he was working just to keep himself fit . 0.5196850393700787\n",
      "\n",
      "he is portrayed by mark hamill .\n",
      "the compass pointed right towards this land . 0.5194805194805194\n",
      "\n",
      "the northern part of the continent , covering much of siberia was also inaccessible to the steppe nomads due to the dense forests and the tundra .\n",
      "the governor took the big sheets of imitation parchment , glanced over them , signed his name to each , laid down the pen , and handed the papers across the table to dreier . 0.51875\n",
      "\n",
      "alfonso drops the marriage contract in front of the officers , and , when they read it , they become enraged .\n",
      "sow direct onto the soil , with a bit of compost if the soil is poor , then water and let nature do the rest . 0.5181818181818182\n",
      "\n",
      "whatever the truth of the rumors , james required a royal match to preserve the stuart line .\n",
      "the war of 1914, he wrote , was a rude shock for the socialist religion . 0.5180722891566265\n",
      "\n",
      "since minamoto no yoritomo launched the shogunate , the true power had been in the hand of the shoguns , who were mistaken several times for the emperors of japan by the chinese government .\n",
      "if we do not take a lead on the national scene , our fate will be in the hands of others who are not likely to share our mission or concerns . 0.5180722891566265\n",
      "\n",
      "many people see al jazeera as a more trustworthy source of information than government and foreign channels .\n",
      "the same is true if you are using internet newspaper sites : some media outlets can be worthy sources of information and analysis and others are not . 0.5173745173745173\n",
      "\n",
      "with the others bailed out for various food items , tom was the last man standing and won immunity .\n",
      "if you take the time to work on a problem , take the time to do it right . 0.5172413793103449\n",
      "\n",
      "in response to the weather system , the american national weather service issued wind watches for the oregon coast .\n",
      "8d. a pound , and there is therefore no substance in the argument that a small advance in price would inflict hardship even on the poorer classes . 0.5171102661596958\n",
      "\n",
      "a page that is a redirect can be moved like any other page .\n",
      "usually , these test questions are based entirely on the material covered in the text . 0.5170068027210885\n",
      "\n",
      "it is also known as a clothes iron , flat iron , or smoothing iron .\n",
      "it 's long past time to get serious about that one . 0.5166666666666667\n",
      "\n",
      "the avesta is the primary collection of sacred texts of zoroastrianism , composed in the avestan language .\n",
      "the folks at lake hawk have a super selection of dyes ( see colors below ) for soft plastic baits , spinner bait blades , and for plugs . 0.5163934426229508\n",
      "\n",
      "there they signed a collective protest , and vowed their newspapers would continue to run .\n",
      "she then selected a student to write the solution on the board . 0.5161290322580645\n",
      "\n",
      "the sheer weight of the continental icecap sitting on top of lake vostok is believed to contribute to the high oxygen concentration .\n",
      "put some more crushed paper on top of the component and place the next piece on top , put paper between the component and the wall of the carton . 0.5161290322580645\n",
      "\n",
      "kowal suggested the name and the iau endorsed it in 1975 .\n",
      "we also illustrate the themes by drawing on the contributors stories . 0.515625\n",
      "\n",
      "he is notable as a performer of australian traditional folk songs in an authentic style .\n",
      "that 's not to say the process of actual negotiating is n't taking place . 0.5153374233128835\n",
      "\n",
      "ganymede and callisto , at their maximum separation , are the likeliest targets for potential naked-eye observation .\n",
      "in any case , it deems the us president to have the power to authorise bugs on any person and any organisation . 0.5152838427947598\n",
      "\n",
      "the dead body of a human is referred to as a cadaver , or corpse .\n",
      "the key to public choice , as you said earlier , is common sense . 0.5151515151515151\n",
      "\n",
      "in the immunity challenge , koror had an early lead , but ulong made a slight comeback .\n",
      "if they want to come along to one of our shows and shake their heads and run around like mad pigs , they can . 0.5151515151515151\n",
      "\n",
      "in 1971 , she witnessed the impoverished conditions of the trash collectors in cairo , egypt , and decided to live among them .\n",
      "as well , he will continue his examination of the transatlantic connections that fuelled the slave trade . 0.5150214592274678\n",
      "\n",
      "in 2001 , unesco inscribed the 2,750-year-old city on the world heritage list as samarkand - crossroads of cultures .\n",
      "i am more inclined to see the world and the regimes in it in varying shades of grey . 0.5148514851485149\n",
      "\n",
      "its purpose is to promote free trade and the fluid movement of goods , people , and currency .\n",
      "it 's a good examining into the evil dead mythos and gives us an insight into the people on and off screen . 0.5148514851485149\n",
      "\n",
      "phosgene can be detected at 0.4 ppm , which is four times the threshold limit value .\n",
      "no one can bear to think that , less than an hour later , the person who made it is dead . 0.5142857142857142\n",
      "\n",
      "typically , the biggest difference between film and stage musicals is the use of lavish background scenery which would be impractical in a theater .\n",
      "periodically , they would bring over their phone bills and lott would reimburse them out of his own pocket--either in cash or by check . 0.5140845070422535\n",
      "\n",
      "riel sought to preserve mtis rights and culture as their homelands in the northwest came progressively under the canadian sphere of influence .\n",
      "the southern forests travelling east and inland from augusta , the roads wind their way through some of the most incredible forests found anywhere in the world . 0.5131578947368421\n",
      "\n",
      "seismograms are essential for measuring earthquakes using the richter scale .\n",
      "and the morans have the gall to ruin beethoven's 6th in the process , too . 0.5131578947368421\n",
      "\n",
      "openoffice.org calc is the spreadsheet component of the openoffice.org software package .\n",
      "open members of the isfp are listed on the isfp open members page . 0.5128205128205128\n",
      "\n",
      "the hells angels , at the peak of their ' outlaw ' reputation , corralled lost children .\n",
      "the video lesson done at the end of the test has to be done live and that also runs into a lot more time . 0.5128205128205128\n",
      "\n",
      "this is a considerably higher total than that of any other european country .\n",
      " he asked with a knowing smile that made her breath catch and her heart pound . 0.5128205128205128\n",
      "\n",
      "the name kalganup is believed to be the noongar word for ' place of many waters ' .\n",
      "many of the jokes fall flat in this movie due to the poor delivery of lines . 0.5125\n",
      "\n",
      "this message earned saddam a great deal of popularity in many sectors of the arab world .\n",
      "at this stage there is fairly stiff pressure to go the commercial way . 0.5125\n",
      "\n",
      "port arthur was also the destination for juvenile convicts , receiving many boys , some as young as nine arrested for stealing toys .\n",
      "the board is easy to make and resonates , enhancing any sound created by a person lying on it or tapping it . 0.512396694214876\n",
      "\n",
      "urepel is a commune in the pyrnes - atlantiques department in south-western france .\n",
      "the gains from tapping the creative potential of the work force are phenomenal . 0.5121951219512195\n",
      "\n",
      "yass is a prominent area for raising sheep which produce very fine wool due to the soil and climatic conditions of the yass area .\n",
      "and this combined annual incidence-rate will endure indefinitely too , until the annual production-rate is altered . 0.5121951219512195\n",
      "\n",
      "it was discovered and opened about the same time as crystal cave , but was closed by the owners in the 1940s .\n",
      "if you want a mad night out , find out when the party nights are on , they are the ones not to miss . 0.5118483412322274\n",
      "\n",
      "she has three older brothers : aaron , benjamin , and nathaniel , the latter of whom is a model and actor .\n",
      "she had two small dogs that peed on everything , and had free range of the office and clients ' portfolios . 0.5116279069767442\n",
      "\n",
      "the northern and western edges of the cotswolds are marked by steep escarpments down to the severn valley and the warwickshire avon .\n",
      "external links to other internet sites should not be construed as an endorsement of the views or privacy policies contained therein . 0.5112781954887218\n",
      "\n",
      "the a-train family comprises trains for both commuter services and limited express services .\n",
      "the charge for noncredit courses or for audited courses is the same as for credit courses . 0.5108695652173914\n",
      "\n",
      "schigolch removes the body while geschwitz contemplates suicide , an idea she gives up when she realizes that lulu will not be moved by it .\n",
      "not only are we forced to acknowledge that we , as a country , fell short , but we also realize that the cup wo n't be coming home any time soon . 0.5104895104895105\n",
      "\n",
      "whedon wanted to create something for television that was more character-driven and gritty than most modern science fiction .\n",
      "these children now receive some education so the position is much more satisfactory than it had been in the past . 0.5104602510460251\n",
      "\n",
      "he is widely known for his roles as little joe cartwright in bonanza , charles ingalls in little house on the prairie , and jonathan smith in highway to heaven .\n",
      "the town is also well known as a transit point for the camel caravans bringing salt up from the arid lands of the dankal depression . 0.5102040816326531\n",
      "\n",
      "criss is a commune in the sarthe department in the pays de la loire region in north-western france .\n",
      "anointing of the sick may be repeated if the person becomes ill again or the danger becomes more acute . 0.5098039215686274\n",
      "\n",
      "valzacchi and annina now offer their services to him .\n",
      "maybe and fbi agent.... not secret service ... . 0.5098039215686274\n",
      "\n",
      "in general relativity , the effects of gravitation are ascribed to spacetime curvature instead of a force .\n",
      "they generally lack the critical mass to be able to deliver services in a cost effective manner . 0.5098039215686274\n",
      "\n",
      "a british nobleman , lord stanhope , took an interest in hauser and gained custody of him late in 1831 .\n",
      "the transgenic rice performed better than the parent strain in heat and in recovery from heat shock [ 13 ] . 0.5094339622641509\n",
      "\n",
      "loch ness is best known for the alleged sightings of the legendary loch ness monster , also known as \" nessie \" .\n",
      "most states in the us now base their local standards for teacher licensure on the intasc or praxis models . 0.509090909090909\n",
      "\n",
      "a frenulum is a small fold of tissue that secures or restricts the motion of a mobile organ in the body .\n",
      "she then selected a student to write the solution on the board . 0.5088757396449705\n",
      "\n",
      "tolstoy was born in yasnaya polyana , the family estate in the tula region of russia .\n",
      "a wide gap existed between europe and the united states in the education of youth . 0.5088757396449705\n",
      "\n",
      "the character may be speaking his or her thoughts aloud , directly addressing another character , or speaking to the audience , especially the former .\n",
      "start by making small changes to your daily activities , such as walking to the shops or using the stairs instead of the lift or escalator . 0.5085910652920962\n",
      "\n",
      "a committee of the institute appoints the laureates for the nobel prize in physiology or medicine .\n",
      "psychologists are not doctors and therefore they cannot prescribe medication . 0.5084745762711864\n",
      "\n",
      "the man in the high castle occurs in an alternate universe united states ruled by the victorious axis powers .\n",
      "note some of the perches are new and are positioned close to the original perches . 0.5077720207253886\n",
      "\n",
      "scene 2 : the doctor rushes by the captain in the street , who urges him to slow down .\n",
      "packed the soil itself into huge trash cans and in the 14 truckloads , two a day , carried soil to new house . 0.5076142131979695\n",
      "\n",
      "the most common reason for erecting a khachkar was for votive reasons - for the salvation of the soul of either a living or a deceased person .\n",
      "the town is also well known as a transit point for the camel caravans bringing salt up from the arid lands of the dankal depression . 0.5072463768115942\n",
      "\n",
      "one day , she was given a home in stergtland as a gift by some rich women after she had cured them successfully and treated them .\n",
      "moore fired two shots , the first a warning shot in the air and the second at the man . 0.5069124423963134\n",
      "\n",
      "then we see her deliberately contract cholera and be transferred to hospital .\n",
      "we were not able to travel in the weather , and there was no phone . 0.5068493150684932\n",
      "\n",
      "in the third book , harry potter and the prisoner of azkaban , rowling uses a time travel premise .\n",
      "with the methods to date and order the prehistoric past , archeologists could use data to systematically categorize the past . 0.5066666666666667\n",
      "\n",
      "food is procured with its suckers and then crushed using its tough \" beak \" of chitin .\n",
      "glacius - pour some water into your hand and cause it to freeze solid ! 0.5063291139240507\n",
      "\n",
      "the album primarily deals with social issues that the band points on through various songs .\n",
      "we also illustrate the themes by drawing on the contributors stories . 0.5061728395061729\n",
      "\n",
      "the remnants of the depression persisted until 2 am edt at which time it was absorbed by a warm front .\n",
      "note that the expression reads in the file entirely in one go . 0.5060240963855421\n",
      "\n",
      "they consider the period of 1917 to 1991 to have been a period of occupation by the soviet regime which was internationalist and anti-christian .\n",
      "in any case , it deems the us president to have the power to authorise bugs on any person and any organisation . 0.5058365758754864\n",
      "\n",
      "the storm never approached land during its lifespan , and no damage or casualties were reported .\n",
      "the stock market never goes up in a straight line , so there will always be crashes . 0.5054945054945055\n",
      "\n",
      "triangles can also be classified according to their internal angles , measured here in degrees .\n",
      " i can be very , very strong , but on the other hand , i have very tender sentiments . 0.5054945054945055\n",
      "\n",
      "harry also becomes the worthy possessor of the remaining deathly hallows : the invisibility cloak and the resurrection stone , hence becoming the true master of death .\n",
      "we have also proposed that they continue to encourage ways of giving greater priority to coaches on the national road network following the successful introduction of a dedicated lane on the m4 spur to heathrow . 0.5052631578947369\n",
      "\n",
      "he aided the doukhobors in migrating to canada .\n",
      "from here , there are two options for getting to champery . 0.5046728971962616\n",
      "\n",
      "phillip was appointed governor of new south wales , the first european colony on the australian continent , and was the founder of the site which is now the city of sydney .\n",
      "the night is a good place ; sand and stone , the moon and the pale stars , the red glow of the fire and the cold wind 's quiet whisper along the crest of the dune . 0.5044510385756676\n",
      "\n",
      "religious law is explicitly based on religious precepts .\n",
      "i love pigeons , and was excited about going to see them . 0.5043478260869565\n",
      "\n",
      "dhamtour has an average elevation of 1110 metres .\n",
      "there also wasn't any toilet paper left in any of the bathrooms . 0.5043478260869565\n",
      "\n",
      "this category contains articles about albums released on island records .\n",
      "it went about as well as you can imagine . 0.5043478260869565\n",
      "\n",
      "in 1887 the school relocated to the east lake community of birmingham .\n",
      "patients should limit exposure to the sun and use liberal amounts of sunscreen . 0.5033112582781457\n",
      "\n",
      "aung san suu kyi returned to burma in 1988 to take care of her ailing mother .\n",
      "the patent is granted in return for full disclosure of the details of the invention . 0.5030674846625767\n",
      "\n",
      "several other hollywood films are also believed to have been inspired by bollywood films .\n",
      "there were also pieces that would have been terrible in any environment . 0.5030674846625767\n",
      "\n",
      "after its sale in 1998 , it merged into festival mushroom records .\n",
      "after a fire extinguisher is used , it must always be returned for recharging and its use recorded . 0.5029940119760479\n",
      "\n",
      "uniquely among mammals , these teeth are continuously replaced throughout life , with new teeth growing at the rear as older teeth fall out from farther forward in the mouth .\n",
      "bolt the mount on and then secure the whole thing with a small zip tie through one of the original holes at the bottom of the map holder and around the mount . 0.5029940119760479\n",
      "\n",
      "a state religion is a religious body or creed officially endorsed by the state .\n",
      "usually , these test questions are based entirely on the material covered in the text . 0.5029940119760479\n",
      "\n",
      "it is rare and valuable in finer grades and has been prized as a gem and ornamental stone for thousands of years owing to its unique hue .\n",
      "it is particularly unfortunate for wind resources given the cost reductions wind has been able to achieve and the momentum that was building for the sustainable development of wind in a number of states . 0.5029239766081871\n",
      "\n",
      "the cynics were an influential group of philosophers from the ancient school of cynicism .\n",
      "the patent is granted in return for full disclosure of the details of the invention . 0.5028571428571429\n",
      "\n",
      "notrium is played from a top-down perspective , giving an overhead view of proceedings .\n",
      "i've always been kind of at loose ends whenever i'm given an extended period of free time . 0.5027932960893855\n",
      "\n",
      "the sculpture was made from the same weathering steel as the angel of the north sculpture , which gradually develops a tightly adhering oxide layer as it is exposed to the elements .\n",
      "the software is the program that sifts through the millions of pages recorded in the index to find matches to a search and rank them in order of what it believes is most relevant . 0.5027624309392266\n",
      "\n",
      "warner also set a super bowl record by attempting 45 passes without a single interception .\n",
      "the bonnet has a coloured cord and tassels which often identify the institution they represent . 0.5026737967914439\n",
      "\n",
      "nearby there is the goobang national park , and peak hill which features an open cut mine that can be toured during holidays .\n",
      "there is much ground to cover , and i will touch on each topic only briefly . 0.5024630541871922\n",
      "\n",
      "by 1960 he had developed the short story into a screenplay , and envisaged it as containing a suitable role for monroe .\n",
      "the pulses were either short or long , representing the dots and dashes of morse code . 0.5024154589371981\n",
      "\n",
      "the city was first founded by the british in 1827 , who leased the island from spain during the colonial period .\n",
      "after the coin has been sleeved , there is no hesitation as the can apparently covers the coin in the lh . 0.502283105022831\n",
      "\n",
      "the kyoto protocol was adopted at the third session of the conference of parties to the unfccc in 1997 in kyoto , japan .\n",
      "after the coin has been sleeved , there is no hesitation as the can apparently covers the coin in the lh . 0.5022026431718062\n",
      "\n",
      "he invites his sister , may belle to enter terabithia ; she is delighted because she was previously denied any opportunity to enter .\n",
      "the video lesson done at the end of the test has to be done live and that also runs into a lot more time . 0.502092050209205\n",
      "\n",
      "born as alfons karg , he was trained as a telecommunications technician , but soon became disenchanted with this profession .\n",
      "i feared only her car , and she was like a ghost , an apparition haunting the car , only a part of it , not a person . 0.5020576131687243\n",
      "\n",
      "hms guardian set out before the convict ships but struck ice after leaving the cape of good hope , returned to southern africa and was wrecked on the coast .\n",
      "the guardian uses the example that it's easier to create uk maps using the american google maps than our own ordnance survey . 0.5017667844522968\n",
      "\n",
      "during their trip , aras and cirie made a pact for the final 2 ; while danielle and terry also conspired for their fate in the game during their time on exile .\n",
      "now each day the central banker taxes the other asians on the island by confiscating a portion of the scraps of food the american throws them each day from his table . 0.5015290519877675\n",
      "\n",
      "kavirondo is the former name of the region surrounding kavirondo gulf as well as of two native peoples living there under the regime of british east africa .\n",
      "examination leave also includes the mornings of days in which examinations are held in the afternoon as well as the time spent travelling to and from the examination centre . 0.5015105740181269\n",
      "Compare BenchLS and semeval2012\n",
      "Total Count of similar sentences: 428\n"
     ]
    },
    {
     "name": "stderr",
     "output_type": "stream",
     "text": [
      "\n"
     ]
    }
   ],
   "source": [
    "compare_two_datasets(Dataset.BenchLS, Dataset.SemEval2012)"
   ]
  },
  {
   "cell_type": "code",
   "execution_count": 48,
   "metadata": {},
   "outputs": [
    {
     "name": "stderr",
     "output_type": "stream",
     "text": [
      "100%|██████████| 239/239 [00:02<00:00, 103.72it/s]"
     ]
    },
    {
     "name": "stdout",
     "output_type": "stream",
     "text": [
      "\n",
      "business development manager strategic alliances this individual will be responsible for coordinating , negotiating , launching , and managing accuity 's partner relationships .\n",
      "business development manager strategic alliances this individual will be responsible for coordinating , negotiating , launching , and managing accuity 's partner relationships . 1.0\n",
      "\n",
      "it is relatively simple to find lenses which will maintain reasonably good central resolution the central resolution , but thus far , i have not been able to achieve an edge resolution better than about 0.1 mm with \" off the shelf \" lenses .\n",
      "it is relatively simple to find lenses which will maintain reasonably good central resolution the central resolution , but thus far , i have not been able to achieve an edge resolution better than about 0.1 mm with \" off the shelf \" lenses . 1.0\n",
      "\n",
      "the calculation is based on the loan 's original principal , so fellows who are not recent graduates , and thus have been making loan payments , are treated the same as new graduates .\n",
      "the calculation is based on the loan 's original principal , so fellows who are not recent graduates , and thus have been making loan payments , are treated the same as new graduates . 1.0\n",
      "\n",
      "thus for example , ophthalmologists will need to know in a given population how many people of a particular age group and/or sex will suffer a retina detachment in the course of a year .\n",
      "thus for example , ophthalmologists will need to know in a given population how many people of a particular age group and/or sex will suffer a retina detachment in the course of a year . 1.0\n",
      "\n",
      "although he 's pitched 200 innings for the first time since mike had a girlfriend ( 200 innings being 6 more than any met has pitched this season thus far ) , pedro has , again , seemed annoyingly off-balance lately .\n",
      "although he 's pitched 200 innings for the first time since mike had a girlfriend ( 200 innings being 6 more than any met has pitched this season thus far ) , pedro has , again , seemed annoyingly off-balance lately . 1.0\n",
      "\n",
      "grey 's reformist doctrines can thus be seen , not as an attempt to set out on the road to democracy , but as a means to strengthen the power of his own class , the aristocracy .\n",
      "grey 's reformist doctrines can thus be seen , not as an attempt to set out on the road to democracy , but as a means to strengthen the power of his own class , the aristocracy . 1.0\n",
      "\n",
      "a clear imperative thus confronts american progressives -- that intricate ( and frequently fragile ) web of communities comprised of people of color , feminists , gays and lesbians , the poor and working class , as well as ethnic whites who value ethnicity , indeed all who have been systematically disenfrancised and dehumanized under the once ascendant \" traditional values \" of pre-civil rights america .\n",
      "a clear imperative thus confronts american progressives -- that intricate ( and frequently fragile ) web of communities comprised of people of color , feminists , gays and lesbians , the poor and working class , as well as ethnic whites who value ethnicity , indeed all who have been systematically disenfrancised and dehumanized under the once ascendant \" traditional values \" of pre-civil rights america . 1.0\n",
      "\n",
      "we struggle to think of any other minority group in society who would be so easily and conveniently stereotyped and are saddened that law abiding , genuine football supporters of both sexes , all ages and backgrounds who want to stand are thus thought of and portrayed as would be hooligans merely because they prefer to stand .\n",
      "we struggle to think of any other minority group in society who would be so easily and conveniently stereotyped and are saddened that law abiding , genuine football supporters of both sexes , all ages and backgrounds who want to stand are thus thought of and portrayed as would be hooligans merely because they prefer to stand . 1.0\n",
      "\n",
      "the kind of control he exercises is thus likely to be limited to \" passive \" control such as inspection of produced goods and testing to insure that quality standards are being met .\n",
      "the kind of control he exercises is thus likely to be limited to \" passive \" control such as inspection of produced goods and testing to insure that quality standards are being met . 1.0\n",
      "\n",
      "thus they can connect with \" who found them \" .\n",
      "thus they can connect with \" who found them \" . 1.0\n",
      "\n",
      "the experiment also helps us in understanding the language of dreams , and thus begins the process of interpretation .\n",
      "the experiment also helps us in understanding the language of dreams , and thus begins the process of interpretation . 1.0\n",
      "\n",
      "going to court : civil trial procedure this pamphlet explains what happens when you go to court about civil cases involving negligence or damages .\n",
      "going to court : civil trial procedure this pamphlet explains what happens when you go to court about civil cases involving negligence or damages . 1.0\n",
      "\n",
      "with all due respect to our civil authorities and lawmakers , we are called to testify by word and action , to the essential truths of our faith .\n",
      "with all due respect to our civil authorities and lawmakers , we are called to testify by word and action , to the essential truths of our faith . 1.0\n",
      "\n",
      "it is contrary to the spirit of civil law , and to the natural working of economic law .\n",
      "it is contrary to the spirit of civil law , and to the natural working of economic law . 1.0\n",
      "\n",
      "yes , we occasionally get into some heated discussions here , and the language can get a bit colorful at times , but in general , the posters are relatively civil and well-behaved .\n",
      "yes , we occasionally get into some heated discussions here , and the language can get a bit colorful at times , but in general , the posters are relatively civil and well-behaved . 1.0\n",
      "\n",
      "lionel , singapore lebanon has overcome all adversities in the past , ranging from civil wars to israeli invasion .\n",
      "lionel , singapore lebanon has overcome all adversities in the past , ranging from civil wars to israeli invasion . 1.0\n",
      "\n",
      "this means combating corruption , building strong and accountable public sectors which have the necessary staff to deliver vital services , and ensuring that parliaments , civil society , and the media can monitor public spending and act as watchdogs against corruption .\n",
      "this means combating corruption , building strong and accountable public sectors which have the necessary staff to deliver vital services , and ensuring that parliaments , civil society , and the media can monitor public spending and act as watchdogs against corruption . 1.0\n",
      "\n",
      "truly classy people find a way to be polite , civil and courteous .\n",
      "truly classy people find a way to be polite , civil and courteous . 1.0\n",
      "\n",
      "spontaneous gestures are a pie in the face of civil society .\n",
      "spontaneous gestures are a pie in the face of civil society . 1.0\n",
      "\n",
      "the different variables defining the optimal state can therefore be seen as intrinsic needs .\n",
      "the different variables defining the optimal state can therefore be seen as intrinsic needs . 1.0\n",
      "\n",
      "the terms therefore seek to preclude plaxo from complying with a request by an individual for alteration or deletion of their personal data .\n",
      "the terms therefore seek to preclude plaxo from complying with a request by an individual for alteration or deletion of their personal data . 1.0\n",
      "\n",
      "labour market deregulation is therefore instrumental in boosting jobs and reducing unemployment .\n",
      "labour market deregulation is therefore instrumental in boosting jobs and reducing unemployment . 1.0\n",
      "\n",
      "you should therefore report the break-in to the police .\n",
      "you should therefore report the break-in to the police . 1.0\n",
      "\n",
      "you will therefore permit me to repeat , emphatically , that marley was as dead as a door-nail .\n",
      "you will therefore permit me to repeat , emphatically , that marley was as dead as a door-nail . 1.0\n",
      "\n",
      "a subsidiary was floated in the uk , tata tea ( gb ) ltd. , which acquired the controlling interest in the tetley group .\n",
      "a subsidiary was floated in the uk , tata tea ( gb ) ltd. , which acquired the controlling interest in the tetley group . 1.0\n",
      "\n",
      "how many times have i caught up with those people several years later , to discover that they have acquired a lifestyle , a car and a mortgage to match their salary , and that their initial ideals have faded to the haziest of memories , which they now dismiss as a post-adolescent fantasy ?\n",
      "how many times have i caught up with those people several years later , to discover that they have acquired a lifestyle , a car and a mortgage to match their salary , and that their initial ideals have faded to the haziest of memories , which they now dismiss as a post-adolescent fantasy ? 1.0\n",
      "\n",
      "more than 200 of the most significant works acquired by the corning museum of glass during the 1990s , to augment its holdings of 35,000 objects , are featured here .\n",
      "more than 200 of the most significant works acquired by the corning museum of glass during the 1990s , to augment its holdings of 35,000 objects , are featured here . 1.0\n",
      "\n",
      "to understand why this should have been so , we need to look more closely at the nature of the style and its origins .\n",
      "to understand why this should have been so , we need to look more closely at the nature of the style and its origins . 1.0\n",
      "\n",
      "some people have guessed that this radiation is closely related to a period of intense cold and a high level of ice cover occurring around 600 mya ; perhaps environmental stresses wiped out competitors and created opportunities for a ( relatively ) clever animal to succeed and proliferate .\n",
      "some people have guessed that this radiation is closely related to a period of intense cold and a high level of ice cover occurring around 600 mya ; perhaps environmental stresses wiped out competitors and created opportunities for a ( relatively ) clever animal to succeed and proliferate . 1.0\n",
      "\n",
      "they are working closely with natural tunnel state park , where the staff , eager to have additional housing nearby , have assured the bakers that they will be booked on a regular basis since the demand for housing outweighs supply .\n",
      "they are working closely with natural tunnel state park , where the staff , eager to have additional housing nearby , have assured the bakers that they will be booked on a regular basis since the demand for housing outweighs supply . 1.0\n",
      "\n",
      "the department is also working closely with hm customs and excise who are in the lead on developing the national lorry road user charging scheme .\n",
      "the department is also working closely with hm customs and excise who are in the lead on developing the national lorry road user charging scheme . 1.0\n",
      "\n",
      "retail : in the u.s. , analysts will be looking closely at third-quarter results .\n",
      "retail : in the u.s. , analysts will be looking closely at third-quarter results . 1.0\n",
      "\n",
      "their academic careers are closely intertwined with social and political developments such as secularisation and antisemitism .\n",
      "their academic careers are closely intertwined with social and political developments such as secularisation and antisemitism . 1.0\n",
      "\n",
      " the baby has developed very normally and has been followed closely .\n",
      " the baby has developed very normally and has been followed closely . 1.0\n",
      "\n",
      "to prevent asthma episodes you will have to work closely with your doctor to : develop a medicine plan that keeps you from getting symptoms .\n",
      "to prevent asthma episodes you will have to work closely with your doctor to : develop a medicine plan that keeps you from getting symptoms . 1.0\n",
      "\n",
      "problems are flagged quickly and , working closely with your staff , we propose solutions .\n",
      "problems are flagged quickly and , working closely with your staff , we propose solutions . 1.0\n",
      "\n",
      "what women want on a first date ( updated thursday , dec 5 , 2002 , 02:06:55 pm to reflect the 100 most recent valid responses. ) assuming you are a woman , which most closely matches your idea of a great first date ?\n",
      "what women want on a first date ( updated thursday , dec 5 , 2002 , 02:06:55 pm to reflect the 100 most recent valid responses. ) assuming you are a woman , which most closely matches your idea of a great first date ? 1.0\n",
      "\n",
      " what meeks did not mention is that guea bought the building from her church , victory apostolic faith church in chicago , where she and her father are prominent members , according to cook county property records and the church 's web site .\n",
      " what meeks did not mention is that guea bought the building from her church , victory apostolic faith church in chicago , where she and her father are prominent members , according to cook county property records and the church 's web site . 1.0\n",
      "\n",
      "among the recipients were prominent journalists and producers , scions of the alternative press , and a smattering of current and former intelligence analysts who often serve as sources in news analyses and articles .\n",
      "among the recipients were prominent journalists and producers , scions of the alternative press , and a smattering of current and former intelligence analysts who often serve as sources in news analyses and articles . 1.0\n",
      "\n",
      " evidence is easily found of multipolarity and china 's prominent role in promoting it .\n",
      " evidence is easily found of multipolarity and china 's prominent role in promoting it . 1.0\n",
      "\n",
      "reeling from the effects of world war ii , prominent local businessmen led by the visionary archie jewell , purchased the building in 1943 and renovated it to become \" the international house \" , a newly-created non-profit trade association dedicated to world peace , trade and understanding .\n",
      "reeling from the effects of world war ii , prominent local businessmen led by the visionary archie jewell , purchased the building in 1943 and renovated it to become \" the international house \" , a newly-created non-profit trade association dedicated to world peace , trade and understanding . 1.0\n",
      "\n",
      "there were five references to crawford : three dealing with his present claims that he lied on behalf of the tobacco companies , one dealing with a property dispute , and another , which identified him as a prominent criminal lawyer , who had been involved in 33 capital cases .\n",
      "there were five references to crawford : three dealing with his present claims that he lied on behalf of the tobacco companies , one dealing with a property dispute , and another , which identified him as a prominent criminal lawyer , who had been involved in 33 capital cases . 1.0\n",
      "\n",
      "expansion of markets , improvement of profit potential , and reduction of cost factors join the enhancement of competitive position as prominent forces moving organizations toward globalization .\n",
      "expansion of markets , improvement of profit potential , and reduction of cost factors join the enhancement of competitive position as prominent forces moving organizations toward globalization . 1.0\n",
      "\n",
      "this pattern of bad journalism is a prominent feature of every pro-hoax text and video .\n",
      "this pattern of bad journalism is a prominent feature of every pro-hoax text and video . 1.0\n",
      "\n",
      "apple vs. microsoft my altavista survey results revealed that \" gates hate \" is more prominent among mac fans than with other groups -- providing a rationale for starting with apple in our examination of the various conflicts listed above .\n",
      "apple vs. microsoft my altavista survey results revealed that \" gates hate \" is more prominent among mac fans than with other groups -- providing a rationale for starting with apple in our examination of the various conflicts listed above . 1.0\n",
      "\n",
      "posted by : robrob at june 23 , 2005 02:04 am where will the greed of corporations intent on rendering skilled american workers obsolete end ?\n",
      "posted by : robrob at june 23 , 2005 02:04 am where will the greed of corporations intent on rendering skilled american workers obsolete end ? 1.0\n",
      "\n",
      "in particular , provision of an alternative route for cyclists should never be regarded as an excuse for rendering the original road or junction unsuitable for cyclists .\n",
      "in particular , provision of an alternative route for cyclists should never be regarded as an excuse for rendering the original road or junction unsuitable for cyclists . 1.0\n",
      "\n",
      " this renders necessary a brief review of the position occupied by the administration on this important and vital question .\n",
      " this renders necessary a brief review of the position occupied by the administration on this important and vital question . 1.0\n",
      "\n",
      "spaghettini with mullet roe and grated vegetables , and penne with sundried tomatoes and basil were both full of flavour and pleasantly light , which was lucky as i was almost defeated by an exceptionally tender and tasty lamb shank to follow .\n",
      "spaghettini with mullet roe and grated vegetables , and penne with sundried tomatoes and basil were both full of flavour and pleasantly light , which was lucky as i was almost defeated by an exceptionally tender and tasty lamb shank to follow . 1.0\n",
      "\n",
      "women usually notice little change in their breasts , but if you are a man , your breasts may become slightly larger and may be tender .\n",
      "women usually notice little change in their breasts , but if you are a man , your breasts may become slightly larger and may be tender . 1.0\n",
      "\n",
      " i can be very , very strong , but on the other hand , i have very tender sentiments .\n",
      " i can be very , very strong , but on the other hand , i have very tender sentiments . 1.0\n",
      "\n",
      "rabbits often feed on young , tender perennial growth as it emerges in spring , or on young transplants .\n",
      "rabbits often feed on young , tender perennial growth as it emerges in spring , or on young transplants . 1.0\n",
      "\n",
      "the grilled octopus was very tender .\n",
      "the grilled octopus was very tender . 1.0\n",
      "\n",
      "cook the rice , covered , over boiling water for about 30 minutes , or until the grains are tender .\n",
      "cook the rice , covered , over boiling water for about 30 minutes , or until the grains are tender . 1.0\n",
      "\n",
      "they feed at that period on the opening buds of maples , and others that are equally tender and juicy .\n",
      "they feed at that period on the opening buds of maples , and others that are equally tender and juicy . 1.0\n",
      "\n",
      "this is where the information revolution is happening -- and our share of these voices is smaller and smaller -- so america must find way to reach and engage a wider , younger , more diverse worldwide audience .\n",
      "this is where the information revolution is happening -- and our share of these voices is smaller and smaller -- so america must find way to reach and engage a wider , younger , more diverse worldwide audience . 1.0\n",
      "\n",
      "that same thing could happen if we had a manhattan type project focusing on renewables , potential worldwide markets , if we are the leader , and we have every reason to be the leader because we have the biggest problem .\n",
      "that same thing could happen if we had a manhattan type project focusing on renewables , potential worldwide markets , if we are the leader , and we have every reason to be the leader because we have the biggest problem . 1.0\n",
      "\n",
      "at the time of writing , the anti-semitic policies of the soviet union are also a subject of worldwide protest .\n",
      "at the time of writing , the anti-semitic policies of the soviet union are also a subject of worldwide protest . 1.0\n",
      "\n",
      "he suggested building an experimental hypertext ' web ' for the worldwide community of physicists who used cern and its publications .\n",
      "he suggested building an experimental hypertext ' web ' for the worldwide community of physicists who used cern and its publications . 1.0\n",
      "\n",
      "furthermore , non-residents can apply to be treated like a resident if his/her income from german sources is either at least 90 percent of his/her worldwide income or his/her non-german source income is less than dm12,000 ( 24,000 for married couples ) .\n",
      "furthermore , non-residents can apply to be treated like a resident if his/her income from german sources is either at least 90 percent of his/her worldwide income or his/her non-german source income is less than dm12,000 ( 24,000 for married couples ) . 1.0\n",
      "\n",
      "after adding the separate partnerships of jlw ireland and jlw scotland , the combined total of our european and north american businesses represented approximately 75 % of worldwide revenue in 1998 , up from approximately 63 % in 1997 .\n",
      "after adding the separate partnerships of jlw ireland and jlw scotland , the combined total of our european and north american businesses represented approximately 75 % of worldwide revenue in 1998 , up from approximately 63 % in 1997 . 1.0\n",
      "\n",
      "osis also provides its users with direct , yet protected , access to the internet and its broad range of worldwide open source information resources .\n",
      "osis also provides its users with direct , yet protected , access to the internet and its broad range of worldwide open source information resources . 1.0\n",
      "\n",
      "these functions also use scheduling priority to decide which thread gets to execute when there is contention .\n",
      "these functions also use scheduling priority to decide which thread gets to execute when there is contention . 1.0\n",
      "\n",
      "functions of the presidency one way of bringing focus to the presidency is to determine what the functions of the position should be .\n",
      "functions of the presidency one way of bringing focus to the presidency is to determine what the functions of the position should be . 1.0\n",
      "\n",
      "this has been , at times , merely an effort to gain greater public renown for their group or cause , but more troubling have been the groups seeking to push forward al-qaida 's agenda of worldwide terror .\n",
      "this has been , at times , merely an effort to gain greater public renown for their group or cause , but more troubling have been the groups seeking to push forward al-qaida's agenda of worldwide terror . 0.9975550122249389\n",
      "\n",
      "thank you for having osiris here . we 've been involved in mesenchymal stem cell , adult stem cell research for about 11 years now . our technology came out of arnie kaplan 's lab and was acquired from case western at that time , and we 've been solely focused in that area since on several applications .\n",
      "thank you for having osiris here. we 've been involved in mesenchymal stem cell , adult stem cell research for about 11 years now. our technology came out of arnie kaplan 's lab and was acquired from case western at that time , and we 've been solely focused in that area since on several applications . 0.9967105263157895\n",
      "\n",
      "china , india , latin america and the rest of asia will help grow worldwide demand for electric power by 59 percent over the next two decades . \" the hydrogen economy is based on the idea that fuel cells that run on hydrogen have the potential to replace current energy systems in all forms , from vehicle propulsion to stationary power generation to mobile phone batteries .\n",
      "china , india , latin america and the rest of asia will help grow worldwide demand for electric power by 59 percent over the next two decades. the hydrogen economy is based on the idea that fuel cells that run on hydrogen have the potential to replace current energy systems in all forms , from vehicle propulsion to stationary power generation to mobile phone batteries . 0.9959839357429718\n",
      "\n",
      "since civil discourse in our country is increasingly lacking , and the word insanity in this context implies a lack of such civility , how can that be a good thing for anybody or the mark of a great president ? eh , one episode , wha-evuh .\n",
      "since civil discourse in our country is increasingly lacking , and the word insanity in this context implies a lack of such civility , how can that be a good thing for anybody or the mark of a great president?\" eh , one episode , wha-evuh . 0.9958333333333333\n",
      "\n",
      "anne bradstreet 's poetry is so tender and poignant , cotton mather 's preaching is both ornery and passionate , richard baxter 's reformed pastor is one of the classics , and jonathan edwards , is , well , jonathan edwards ( if you consider him a puritan , not everyone does. ) oh , by the way , great article about puritans here .\n",
      "anne bradstreet's poetry is so tender and poignant , cotton mather's preaching is both ornery and passionate , richard baxter's reformed pastor is one of the classics , and jonathan edwards , is , well , jonathan edwards ( if you consider him a puritan , not everyone does. ) oh , by the way , great article about puritans here . 0.9954614220877458\n",
      "\n",
      "update posted at 10:00 am -- permalink back in this post , i reported that the tropicana hotel in las vegas had stopped accepting reservations for after april 15 and that a prominent demolition company had told a reporter that it was studying how to blow up the place .\n",
      "update posted at 10:00 am permalink back in this post , i reported that the tropicana hotel in las vegas had stopped accepting reservations for after april 15 and that a prominent demolition company had told a reporter that it was studying how to blow up the place . 0.994392523364486\n",
      "\n",
      "not just another period piece on germany 's disturbing past , this film should have deep resonance for today 's movie fans who are concerned about civil and human rights .\n",
      "not just another period piece on germany's disturbing past , this film should have deep resonance for today's movie fans who are concerned about civil and human rights . 0.9941176470588236\n",
      "\n",
      "this is not a new phenomenon , but one inherent to capitalism itself and recognised by karl marx who pointed out that \" during its time of circulation capital does not perform the functions of productive capital and therefore produces neither commodities nor surplus-value \" 16 and , circulation proceeds in space and time .\n",
      "this is not a new phenomenon , but one inherent to capitalism itself and recognised by karl marx who pointed out that during its time of circulation capital does not perform the functions of productive capital and therefore produces neither commodities nor surplus-value 16 and , circulation proceeds in space and time . 0.9937888198757764\n",
      "\n",
      "psychologists are not doctors and therefore they can not prescribe medication .\n",
      "psychologists are not doctors and therefore they cannot prescribe medication . 0.9936305732484076\n",
      "\n",
      "they should take note of darius ' admonitions . -- well i think this is ok because they 're part of your race and therefore part of your extended family .\n",
      "they should take note of darius ' admonitions.-- well i think this is ok because they 're part of your race and therefore part of your extended family . 0.9934640522875817\n",
      "\n",
      "this setting exists to prevent accidental 'panning ' on mouse downs that are intended for other actions ( and therefore , prevent unintended changing of the scaling into manual mode ) .\n",
      "this setting exists to prevent accidental panning on mouse downs that are intended for other actions ( and therefore , prevent unintended changing of the scaling into manual mode ) . 0.9918256130790191\n",
      "\n",
      "i have argued in my previous article for pdf that \" [ f ] or armstrong williams-like bloggers actually paid by campaigns or other political committees to promote or attack a candidate for federal office , prominent and on-the-spot disclosure should be mandated . \" a disclosure on a campaign 's website in a quarterly report after the election deprives voters of valuable information about the possible motivations for an analysis or commentary appearing on a website .\n",
      "i have argued in my previous article for pdf that [f]or armstrong williams-like bloggers actually paid by campaigns or other political committees to promote or attack a candidate for federal office , prominent and on-the-spot disclosure should be mandated. a disclosure on a campaign's website in a quarterly report after the election deprives voters of valuable information about the possible motivations for an analysis or commentary appearing on a website . 0.9903121636167922\n",
      "\n",
      "we therefore oppose the government 's proposals .\n",
      "we therefore oppose the government's proposals . 0.9896907216494846\n",
      "\n",
      "like maypoles , wreaths too , as she points out , figure in may day as well as summer solstice celebrations . http : //www.schooloftheseasons.com/signssummer.html [ link updated 5/20/02 ] [ added 26 may 2000 ] : this fun page collects worldwide insights from people who write to waverly and comment on how summer begins for them .\n",
      "like maypoles , wreaths too , as she points out , figure in may day as well as summer solstice celebrations. https://www.google.com/url?q=http://www.schooloftheseasons.com/signssummer.html&source=gmail-imap&ust=1645800371000000&usg=aovvaw0d6vfmcqwvngzbctn3alps [ link updated 5/20/02 ] [ added 26 may 2000 ] : this fun page collects worldwide insights from people who write to waverly and comment on how summer begins for them . 0.862796833773087\n",
      "\n",
      "it lies on the southern side of lake constance .\n",
      "then would that thou wert on the other side of christ . 0.6019417475728155\n",
      "\n",
      "the amazon basin is the part of south america drained by the amazon river and its tributaries .\n",
      "the database is particularly strong in american and british families . 0.5454545454545454\n",
      "\n",
      "the hush sound is currently on hiatus .\n",
      "currency the cypriot pound is the legal currency in cyprus . 0.5454545454545454\n",
      "\n",
      "in 1901 , an independent governor was again appointed .\n",
      "he was bright and independent and proud . 0.5416666666666666\n",
      "\n",
      "at present it is formed by the aa , which descends from the rigi and enters the southern extremity of the lake .\n",
      "at one side of each factory there is a great chimney which belches forth black smoke and indicates the presence of the powerful steam engines . 0.5411764705882353\n",
      "\n",
      "triton was revealed to have remarkable active geysers and polar caps .\n",
      "she was said to have been an attractive girl . 0.5344827586206896\n",
      "\n",
      "the books were later adapted into a television series and a feature film .\n",
      "their concern was being able to check their answers at that later time . 0.5342465753424658\n",
      "\n",
      "it was founded where the nascent sydney to melbourne road crossed water in the form of the yass river .\n",
      "to understand why this should have been so , we need to look more closely at the nature of the style and its origins . 0.5339366515837104\n",
      "\n",
      "located on the river pedieos and situated almost in the center of the island , it is the seat of government as well as the main business center .\n",
      "the town is prettily situated on a hillside in the western curve of the bay , and moving about the roads we caught our first glimpse of the cape wagon drawn by sixteen oxen . 0.5329153605015674\n",
      "\n",
      "after the partitions of poland in 1794 the area was annexed by prussia .\n",
      "currency the cypriot pound is the legal currency in cyprus . 0.5303030303030303\n",
      "\n",
      "the revival of lute in the 20th century revitalized the interest of composers in the instruments of the lute family .\n",
      "7 ) true or false : the 2000 u. s. census will drop the question on marital status on the universal form . 0.5291479820627802\n",
      "\n",
      "their quick acceleration makes them suitable for services with short intervals between stations .\n",
      "they generally lack the critical mass to be able to deliver services in a cost effective manner . 0.5257731958762887\n",
      "\n",
      "the birthday cake is traditionally highly decorated , and typically covered with lit candles when presented , the number of candles signifying the age of the celebrant .\n",
      "the strength of its radiation increases with altitude , as does its boundaries , until it completely merges with the inner belt proper at around 600 miles from the surface of the earth . 0.523943661971831\n",
      "\n",
      "xanten is also a popular filming location and the site of many concerts .\n",
      "there 's a tremendous amount of information on the kitimat pipeline . 0.5211267605633803\n",
      "\n",
      "as of , it lies at latitude 66 33 39 south of the equator .\n",
      "she then selected a student to write the solution on the board . 0.5203252032520326\n",
      "\n",
      "the battalion is usually part of a regiment , group or a brigade , depending on the organizational model used by that service .\n",
      "the department is also working closely with hm customs and excise who are in the lead on developing the national lorry road user charging scheme . 0.5201465201465202\n",
      "\n",
      "they locate food by smell , using sensors in the tip of their snout , and regularly feast on ants and termites .\n",
      "here the novices performed well , getting lost , falling through holes in the floor and refusing to climb pitches . 0.5198237885462555\n",
      "\n",
      "alfonso drops the marriage contract in front of the officers , and , when they read it , they become enraged .\n",
      "sow direct onto the soil , with a bit of compost if the soil is poor , then water and let nature do the rest . 0.5181818181818182\n",
      "\n",
      "with the others bailed out for various food items , tom was the last man standing and won immunity .\n",
      "if you take the time to work on a problem , take the time to do it right . 0.5172413793103449\n",
      "\n",
      "kowal suggested the name and the iau endorsed it in 1975 .\n",
      "we also illustrate the themes by drawing on the contributors stories . 0.515625\n",
      "\n",
      "he is notable as a performer of australian traditional folk songs in an authentic style .\n",
      "that 's not to say the process of actual negotiating is n't taking place . 0.5153374233128835\n",
      "\n",
      "in 2001 , unesco inscribed the 2,750-year-old city on the world heritage list as samarkand - crossroads of cultures .\n",
      "i am more inclined to see the world and the regimes in it in varying shades of grey . 0.5148514851485149\n",
      "\n",
      "typically , the biggest difference between film and stage musicals is the use of lavish background scenery which would be impractical in a theater .\n",
      "periodically , they would bring over their phone bills and lott would reimburse them out of his own pocket--either in cash or by check . 0.5140845070422535\n",
      "\n",
      "riel sought to preserve mtis rights and culture as their homelands in the northwest came progressively under the canadian sphere of influence .\n",
      "the southern forests travelling east and inland from augusta , the roads wind their way through some of the most incredible forests found anywhere in the world . 0.5131578947368421\n",
      "\n",
      "this is a considerably higher total than that of any other european country .\n",
      " he asked with a knowing smile that made her breath catch and her heart pound . 0.5128205128205128\n",
      "\n",
      "port arthur was also the destination for juvenile convicts , receiving many boys , some as young as nine arrested for stealing toys .\n",
      "the board is easy to make and resonates , enhancing any sound created by a person lying on it or tapping it . 0.512396694214876\n",
      "\n",
      "yass is a prominent area for raising sheep which produce very fine wool due to the soil and climatic conditions of the yass area .\n",
      "and this combined annual incidence-rate will endure indefinitely too , until the annual production-rate is altered . 0.5121951219512195\n",
      "\n",
      "the northern and western edges of the cotswolds are marked by steep escarpments down to the severn valley and the warwickshire avon .\n",
      "external links to other internet sites should not be construed as an endorsement of the views or privacy policies contained therein . 0.5112781954887218\n",
      "\n",
      "valzacchi and annina now offer their services to him .\n",
      "maybe and fbi agent.... not secret service ... . 0.5098039215686274\n",
      "\n",
      "a british nobleman , lord stanhope , took an interest in hauser and gained custody of him late in 1831 .\n",
      "the transgenic rice performed better than the parent strain in heat and in recovery from heat shock [ 13 ] . 0.5094339622641509\n",
      "\n",
      "loch ness is best known for the alleged sightings of the legendary loch ness monster , also known as \" nessie \" .\n",
      "most states in the us now base their local standards for teacher licensure on the intasc or praxis models . 0.509090909090909\n",
      "\n",
      "scene 2 : the doctor rushes by the captain in the street , who urges him to slow down .\n",
      "packed the soil itself into huge trash cans and in the 14 truckloads , two a day , carried soil to new house . 0.5076142131979695\n",
      "\n",
      "the most common reason for erecting a khachkar was for votive reasons - for the salvation of the soul of either a living or a deceased person .\n",
      "the town is also well known as a transit point for the camel caravans bringing salt up from the arid lands of the dankal depression . 0.5072463768115942\n",
      "\n",
      "the album primarily deals with social issues that the band points on through various songs .\n",
      "we also illustrate the themes by drawing on the contributors stories . 0.5061728395061729\n",
      "\n",
      "harry also becomes the worthy possessor of the remaining deathly hallows : the invisibility cloak and the resurrection stone , hence becoming the true master of death .\n",
      "we have also proposed that they continue to encourage ways of giving greater priority to coaches on the national road network following the successful introduction of a dedicated lane on the m4 spur to heathrow . 0.5052631578947369\n",
      "\n",
      "phillip was appointed governor of new south wales , the first european colony on the australian continent , and was the founder of the site which is now the city of sydney .\n",
      "the night is a good place ; sand and stone , the moon and the pale stars , the red glow of the fire and the cold wind 's quiet whisper along the crest of the dune . 0.5044510385756676\n",
      "\n",
      "this category contains articles about albums released on island records .\n",
      "it went about as well as you can imagine . 0.5043478260869565\n",
      "\n",
      "aung san suu kyi returned to burma in 1988 to take care of her ailing mother .\n",
      "the patent is granted in return for full disclosure of the details of the invention . 0.5030674846625767\n",
      "\n",
      "several other hollywood films are also believed to have been inspired by bollywood films .\n",
      "there were also pieces that would have been terrible in any environment . 0.5030674846625767\n",
      "\n",
      "a state religion is a religious body or creed officially endorsed by the state .\n",
      "usually , these test questions are based entirely on the material covered in the text . 0.5029940119760479\n",
      "\n",
      "it is rare and valuable in finer grades and has been prized as a gem and ornamental stone for thousands of years owing to its unique hue .\n",
      "it is particularly unfortunate for wind resources given the cost reductions wind has been able to achieve and the momentum that was building for the sustainable development of wind in a number of states . 0.5029239766081871\n",
      "\n",
      "the sculpture was made from the same weathering steel as the angel of the north sculpture , which gradually develops a tightly adhering oxide layer as it is exposed to the elements .\n",
      "the software is the program that sifts through the millions of pages recorded in the index to find matches to a search and rank them in order of what it believes is most relevant . 0.5027624309392266\n",
      "\n",
      "nearby there is the goobang national park , and peak hill which features an open cut mine that can be toured during holidays .\n",
      "there is much ground to cover , and i will touch on each topic only briefly . 0.5024630541871922\n",
      "\n",
      "by 1960 he had developed the short story into a screenplay , and envisaged it as containing a suitable role for monroe .\n",
      "the pulses were either short or long , representing the dots and dashes of morse code . 0.5024154589371981\n",
      "\n",
      "the city was first founded by the british in 1827 , who leased the island from spain during the colonial period .\n",
      "after the coin has been sleeved , there is no hesitation as the can apparently covers the coin in the lh . 0.502283105022831\n",
      "\n",
      "hms guardian set out before the convict ships but struck ice after leaving the cape of good hope , returned to southern africa and was wrecked on the coast .\n",
      "the guardian uses the example that it's easier to create uk maps using the american google maps than our own ordnance survey . 0.5017667844522968\n",
      "Compare NNSeval and semeval2012\n",
      "Total Count of similar sentences: 77\n"
     ]
    },
    {
     "name": "stderr",
     "output_type": "stream",
     "text": [
      "\n"
     ]
    }
   ],
   "source": [
    "compare_two_datasets(Dataset.NNSeval, Dataset.SemEval2012)"
   ]
  },
  {
   "cell_type": "markdown",
   "metadata": {},
   "source": [
    "## TSAR EN"
   ]
  },
  {
   "cell_type": "code",
   "execution_count": 49,
   "metadata": {},
   "outputs": [
    {
     "name": "stderr",
     "output_type": "stream",
     "text": [
      "100%|██████████| 385/385 [00:01<00:00, 201.09it/s]"
     ]
    },
    {
     "name": "stdout",
     "output_type": "stream",
     "text": [
      "\n",
      "hundreds were beaten and detained.\n",
      "hurricane-force wind gusts were reported in new england . 0.5494505494505495\n",
      "\n",
      "we do feel we are prevailing in this with our afghan partners, he said.\n",
      "but he could feel the whale was sensing him with sound pulses . 0.5373134328358209\n",
      "\n",
      "we do feel we are prevailing in this with our afghan partners,\" he said.\n",
      "but he could feel the whale was sensing him with sound pulses . 0.5333333333333333\n",
      "\n",
      "that prompted the military to deploy its largest warship, the brp gregorio del pilar, which was recently acquired from the united states.\n",
      "the majority of subjects , 90 percent , came from the metropolitan seattle area , with the remainder coming from across the united states . 0.5289855072463768\n",
      "\n",
      "the official spoke on condition of anonymity because he was not authorized to speak to the press.\n",
      "the geological composition of rock and soil dictates the type of shore which is created . 0.5268817204301075\n",
      "\n",
      "the official spoke on condition of anonymity because he was not authorized to speak to the press.\n",
      "the geological composition of rock and soil dictates the type of shore which is created . 0.5268817204301075\n",
      "\n",
      "the chinese embassy accused the philippine warship of harassing the fishermen and called for it to leave chinese territory.\n",
      "the pennines constitute the main watershed in northern england , dividing the eastern and western parts of the country . 0.5185185185185185\n",
      "\n",
      "the shootings are the worst homicides to take place in brevard county since 1987.\n",
      "the convent has been the official residence of the governor of gibraltar since 1728 . 0.5180722891566265\n",
      "\n",
      "#5-4 northern mali was seized by islamic militants in 2012, with france leading a military intervention the following year.\n",
      "the city was first founded by the british in 1827 , who leased the island from spain during the colonial period . 0.5169491525423728\n",
      "\n",
      "#7-8 despite the fog, other flights are reported to have landed safely leading up to the collision.\n",
      "you should therefore report the break-in to the police . 0.5161290322580645\n",
      "\n",
      "her older sister, aged 21, lived at the rented house, in a recently built development at the back of the established housing estate.\n",
      "located on the river pedieos and situated almost in the center of the island , it is the seat of government as well as the main business center . 0.5126353790613718\n",
      "\n",
      "a lieutenant who had defected was also killed in the clashes.\n",
      "a page that is a redirect can be moved like any other page . 0.512396694214876\n",
      "\n",
      "lebanon is sharply split along sectarian lines, with 18 religious sects.\n",
      "religious law is explicitly based on religious precepts . 0.5116279069767442\n",
      "\n",
      "the text was ominous that said she wanted to be cremated with her children.\n",
      "it is possible that if he had gone earlier he may have recovered . 0.5106382978723404\n",
      "\n",
      "the first regional casino was initially proposed to be in the city of manchester , but this has since been scrapped by the uk government soon after gordon brown became prime minister of the united kingdom .\n",
      "this spelling was later corrupted to ouisconsin by other french explorers , and over time this version became the french name for both the wisconsin river and the surrounding lands . 0.5103092783505154\n",
      "\n",
      "he spoke on condition of anonymity because of a lack of authority to discuss the situation with the media.\n",
      "however , people often endured inadequate at because of the lack of a viable alternative . 0.5102040816326531\n",
      "\n",
      "google says authorities in china have approved its acquisition of motorola mobility.\n",
      "the orientation of unionids in rivers as a function of the hydrological variability . 0.5088757396449705\n",
      "\n",
      "#2-19 robert added the group knew travel and work in the area was dangerous, and took precautions.\n",
      "after the partitions of poland in 1794 the area was annexed by prussia . 0.5058823529411764\n",
      "\n",
      "that prompted the chinese surveillance ships to insert themselves into the situation.\n",
      "whatever the truth of the rumors , james required a royal match to preserve the stuart line . 0.5056179775280899\n",
      "\n",
      "the syrian observatory for human rights said dozens of others were wounded in the city, in the restive homs province.\n",
      "the a-train family comprises trains for both commuter services and limited express services . 0.5047619047619047\n",
      "\n",
      "nine people were reportedly killed in the bombardment.\n",
      "hurricane-force wind gusts were reported in new england . 0.5045045045045045\n",
      "\n",
      "the mother of the children came out of the residence next door, called for the children to return home, at which time they left and went back to the house.\n",
      "go \" he leaves and she sits down in the chair , looks over the figures and mutters softly to herself as she reaches for the mouse . 0.5034965034965035\n",
      "\n",
      "the order was the first national decoration awarded by the japanese government , created on 10 april 1875 by decree of the council of state .\n",
      "the birthday cake is traditionally highly decorated , and typically covered with lit candles when presented , the number of candles signifying the age of the celebrant . 0.5032258064516129\n",
      "\n",
      "a monument to the virgin mary is located on top of el panecillo and is visible from most of the city of quito .\n",
      "anointing of the sick may be repeated if the person becomes ill again or the danger becomes more acute . 0.5023255813953489\n",
      "\n",
      "as the front pair wears down and drops out in pieces , the back pair shifts forward , and two new molars emerge in the back of the mouth .\n",
      "in the front seat stel and dominic are chuckling softly at us and dominic slides in a tape of sky-noise . 0.5020576131687243\n",
      "Compare tsar-en and BenchLS\n",
      "Total Count of similar sentences: 0\n"
     ]
    },
    {
     "name": "stderr",
     "output_type": "stream",
     "text": [
      "\n"
     ]
    }
   ],
   "source": [
    "compare_two_datasets(Dataset.TSAR_EN, Dataset.BenchLS)"
   ]
  },
  {
   "cell_type": "code",
   "execution_count": 50,
   "metadata": {},
   "outputs": [
    {
     "name": "stderr",
     "output_type": "stream",
     "text": [
      "100%|██████████| 385/385 [00:00<00:00, 565.34it/s]"
     ]
    },
    {
     "name": "stdout",
     "output_type": "stream",
     "text": [
      "\n",
      "#5-4 northern mali was seized by islamic militants in 2012, with france leading a military intervention the following year.\n",
      "the city was first founded by the british in 1827 , who leased the island from spain during the colonial period . 0.5169491525423728\n",
      "\n",
      "#7-8 despite the fog, other flights are reported to have landed safely leading up to the collision.\n",
      "you should therefore report the break-in to the police . 0.5161290322580645\n",
      "\n",
      "her older sister, aged 21, lived at the rented house, in a recently built development at the back of the established housing estate.\n",
      "located on the river pedieos and situated almost in the center of the island , it is the seat of government as well as the main business center . 0.5126353790613718\n",
      "\n",
      "#2-19 robert added the group knew travel and work in the area was dangerous, and took precautions.\n",
      "after the partitions of poland in 1794 the area was annexed by prussia . 0.5058823529411764\n",
      "\n",
      "the order was the first national decoration awarded by the japanese government , created on 10 april 1875 by decree of the council of state .\n",
      "the birthday cake is traditionally highly decorated , and typically covered with lit candles when presented , the number of candles signifying the age of the celebrant . 0.5032258064516129\n",
      "Compare tsar-en and NNSeval\n",
      "Total Count of similar sentences: 0\n"
     ]
    },
    {
     "name": "stderr",
     "output_type": "stream",
     "text": [
      "\n"
     ]
    }
   ],
   "source": [
    "compare_two_datasets(Dataset.TSAR_EN, Dataset.NNSeval)"
   ]
  },
  {
   "cell_type": "code",
   "execution_count": 51,
   "metadata": {},
   "outputs": [
    {
     "name": "stderr",
     "output_type": "stream",
     "text": [
      "100%|██████████| 385/385 [00:01<00:00, 344.21it/s]"
     ]
    },
    {
     "name": "stdout",
     "output_type": "stream",
     "text": [
      "\n",
      "hundreds were beaten and detained.\n",
      "hurricane-force wind gusts were reported in new england . 0.5494505494505495\n",
      "\n",
      "the official spoke on condition of anonymity because he was not authorized to speak to the press.\n",
      "the geological composition of rock and soil dictates the type of shore which is created . 0.5268817204301075\n",
      "\n",
      "the official spoke on condition of anonymity because he was not authorized to speak to the press.\n",
      "the geological composition of rock and soil dictates the type of shore which is created . 0.5268817204301075\n",
      "\n",
      "the chinese embassy accused the philippine warship of harassing the fishermen and called for it to leave chinese territory.\n",
      "the pennines constitute the main watershed in northern england , dividing the eastern and western parts of the country . 0.5185185185185185\n",
      "\n",
      "the shootings are the worst homicides to take place in brevard county since 1987.\n",
      "the convent has been the official residence of the governor of gibraltar since 1728 . 0.5180722891566265\n",
      "\n",
      "#5-4 northern mali was seized by islamic militants in 2012, with france leading a military intervention the following year.\n",
      "the city was first founded by the british in 1827 , who leased the island from spain during the colonial period . 0.5169491525423728\n",
      "\n",
      "her older sister, aged 21, lived at the rented house, in a recently built development at the back of the established housing estate.\n",
      "located on the river pedieos and situated almost in the center of the island , it is the seat of government as well as the main business center . 0.5126353790613718\n",
      "\n",
      "a lieutenant who had defected was also killed in the clashes.\n",
      "a page that is a redirect can be moved like any other page . 0.512396694214876\n",
      "\n",
      "lebanon is sharply split along sectarian lines, with 18 religious sects.\n",
      "religious law is explicitly based on religious precepts . 0.5116279069767442\n",
      "\n",
      "the first regional casino was initially proposed to be in the city of manchester , but this has since been scrapped by the uk government soon after gordon brown became prime minister of the united kingdom .\n",
      "this spelling was later corrupted to ouisconsin by other french explorers , and over time this version became the french name for both the wisconsin river and the surrounding lands . 0.5103092783505154\n",
      "\n",
      "#2-19 robert added the group knew travel and work in the area was dangerous, and took precautions.\n",
      "after the partitions of poland in 1794 the area was annexed by prussia . 0.5058823529411764\n",
      "\n",
      "that prompted the chinese surveillance ships to insert themselves into the situation.\n",
      "whatever the truth of the rumors , james required a royal match to preserve the stuart line . 0.5056179775280899\n",
      "\n",
      "the syrian observatory for human rights said dozens of others were wounded in the city, in the restive homs province.\n",
      "the a-train family comprises trains for both commuter services and limited express services . 0.5047619047619047\n",
      "\n",
      "nine people were reportedly killed in the bombardment.\n",
      "hurricane-force wind gusts were reported in new england . 0.5045045045045045\n",
      "\n",
      "the order was the first national decoration awarded by the japanese government , created on 10 april 1875 by decree of the council of state .\n",
      "the birthday cake is traditionally highly decorated , and typically covered with lit candles when presented , the number of candles signifying the age of the celebrant . 0.5032258064516129\n",
      "Compare tsar-en and lex.mturk\n",
      "Total Count of similar sentences: 0\n"
     ]
    },
    {
     "name": "stderr",
     "output_type": "stream",
     "text": [
      "\n"
     ]
    }
   ],
   "source": [
    "compare_two_datasets(Dataset.TSAR_EN, Dataset.LexMTurk)"
   ]
  },
  {
   "cell_type": "markdown",
   "metadata": {},
   "source": [
    "# Features Analysis\n",
    "---"
   ]
  },
  {
   "cell_type": "markdown",
   "metadata": {},
   "source": [
    "## CharRatioFeature"
   ]
  },
  {
   "cell_type": "code",
   "execution_count": 52,
   "metadata": {},
   "outputs": [],
   "source": [
    "def char_ratio_check(dataset, i_candidate=0, print_words=False):\n",
    "    print(dataset, i_candidate)\n",
    "    \n",
    "    data = load_data(dataset)\n",
    "    size = len(data)\n",
    "    count_bigger = 0 \n",
    "    count_smaller = 0\n",
    "    equal = 0\n",
    "    length_dict = {}\n",
    "    for row in data.iloc:\n",
    "        complex = row['complex_word']\n",
    "        candidates = row['candidates']\n",
    "        \n",
    "        candidate = candidates[i_candidate] if len(candidates) > i_candidate else candidates[0]\n",
    "        \n",
    "        # print(complex, candidates)\n",
    "        if print_words:\n",
    "            print(f'{complex:15} {candidate:15} {len(complex):15} {len(candidate):15}')\n",
    "        if len(complex) > len(candidate):\n",
    "            count_bigger += 1\n",
    "        elif len(complex) < len(candidate):\n",
    "            count_smaller += 1\n",
    "        else:\n",
    "            equal += 1 \n",
    "    print(f'Complex is longer than candidate: {count_bigger / size * 100 :.2f}%')\n",
    "    print(f'Complex is shorter than candidate: {count_smaller / size * 100 :.2f}%')\n",
    "    print(f'Complex is equal to candidate: {equal / size * 100 :.2f}%')\n",
    "\n"
   ]
  },
  {
   "cell_type": "code",
   "execution_count": 53,
   "metadata": {},
   "outputs": [
    {
     "name": "stdout",
     "output_type": "stream",
     "text": [
      "BenchLS 0\n",
      "Complex is longer than candidate: 69.32%\n",
      "Complex is shorter than candidate: 22.39%\n",
      "Complex is equal to candidate: 8.29%\n",
      "BenchLS 1\n",
      "Complex is longer than candidate: 59.20%\n",
      "Complex is shorter than candidate: 28.42%\n",
      "Complex is equal to candidate: 12.38%\n",
      "BenchLS 2\n",
      "Complex is longer than candidate: 54.36%\n",
      "Complex is shorter than candidate: 33.15%\n",
      "Complex is equal to candidate: 12.49%\n",
      "BenchLS 3\n",
      "Complex is longer than candidate: 57.91%\n",
      "Complex is shorter than candidate: 31.97%\n",
      "Complex is equal to candidate: 10.12%\n",
      "BenchLS 4\n",
      "Complex is longer than candidate: 58.56%\n",
      "Complex is shorter than candidate: 31.22%\n",
      "Complex is equal to candidate: 10.23%\n",
      "\n",
      "lex.mturk 0\n",
      "Complex is longer than candidate: 77.96%\n",
      "Complex is shorter than candidate: 14.43%\n",
      "Complex is equal to candidate: 7.62%\n",
      "lex.mturk 1\n",
      "Complex is longer than candidate: 66.93%\n",
      "Complex is shorter than candidate: 20.24%\n",
      "Complex is equal to candidate: 12.83%\n",
      "lex.mturk 2\n",
      "Complex is longer than candidate: 64.13%\n",
      "Complex is shorter than candidate: 22.65%\n",
      "Complex is equal to candidate: 13.23%\n",
      "lex.mturk 3\n",
      "Complex is longer than candidate: 62.12%\n",
      "Complex is shorter than candidate: 24.65%\n",
      "Complex is equal to candidate: 13.23%\n",
      "lex.mturk 4\n",
      "Complex is longer than candidate: 60.92%\n",
      "Complex is shorter than candidate: 28.46%\n",
      "Complex is equal to candidate: 10.62%\n",
      "\n",
      "NNSeval 0\n",
      "Complex is longer than candidate: 55.65%\n",
      "Complex is shorter than candidate: 30.54%\n",
      "Complex is equal to candidate: 13.81%\n",
      "NNSeval 1\n",
      "Complex is longer than candidate: 43.93%\n",
      "Complex is shorter than candidate: 39.75%\n",
      "Complex is equal to candidate: 16.32%\n",
      "NNSeval 2\n",
      "Complex is longer than candidate: 45.19%\n",
      "Complex is shorter than candidate: 41.84%\n",
      "Complex is equal to candidate: 12.97%\n",
      "NNSeval 3\n",
      "Complex is longer than candidate: 48.54%\n",
      "Complex is shorter than candidate: 39.33%\n",
      "Complex is equal to candidate: 12.13%\n",
      "NNSeval 4\n",
      "Complex is longer than candidate: 51.88%\n",
      "Complex is shorter than candidate: 39.75%\n",
      "Complex is equal to candidate: 8.37%\n",
      "\n",
      "semeval2012 0\n",
      "Complex is longer than candidate: 32.89%\n",
      "Complex is shorter than candidate: 24.33%\n",
      "Complex is equal to candidate: 42.79%\n",
      "semeval2012 1\n",
      "Complex is longer than candidate: 25.32%\n",
      "Complex is shorter than candidate: 43.73%\n",
      "Complex is equal to candidate: 30.95%\n",
      "semeval2012 2\n",
      "Complex is longer than candidate: 21.49%\n",
      "Complex is shorter than candidate: 53.48%\n",
      "Complex is equal to candidate: 25.02%\n",
      "semeval2012 3\n",
      "Complex is longer than candidate: 20.50%\n",
      "Complex is shorter than candidate: 54.88%\n",
      "Complex is equal to candidate: 24.63%\n",
      "semeval2012 4\n",
      "Complex is longer than candidate: 22.79%\n",
      "Complex is shorter than candidate: 48.66%\n",
      "Complex is equal to candidate: 28.56%\n",
      "\n",
      "tsar-en 0\n",
      "Complex is longer than candidate: 65.71%\n",
      "Complex is shorter than candidate: 21.30%\n",
      "Complex is equal to candidate: 12.99%\n",
      "tsar-en 1\n",
      "Complex is longer than candidate: 57.40%\n",
      "Complex is shorter than candidate: 25.19%\n",
      "Complex is equal to candidate: 17.40%\n",
      "tsar-en 2\n",
      "Complex is longer than candidate: 53.77%\n",
      "Complex is shorter than candidate: 24.94%\n",
      "Complex is equal to candidate: 21.30%\n",
      "tsar-en 3\n",
      "Complex is longer than candidate: 53.51%\n",
      "Complex is shorter than candidate: 24.16%\n",
      "Complex is equal to candidate: 22.34%\n",
      "tsar-en 4\n",
      "Complex is longer than candidate: 52.47%\n",
      "Complex is shorter than candidate: 25.97%\n",
      "Complex is equal to candidate: 21.56%\n",
      "\n"
     ]
    }
   ],
   "source": [
    "for dataset in DATASETS:\n",
    "    char_ratio_check(dataset, i_candidate=0)\n",
    "    char_ratio_check(dataset, i_candidate=1)\n",
    "    char_ratio_check(dataset, i_candidate=2)\n",
    "    char_ratio_check(dataset, i_candidate=3)\n",
    "    char_ratio_check(dataset, i_candidate=4)\n",
    "    print()"
   ]
  },
  {
   "cell_type": "markdown",
   "metadata": {},
   "source": [
    "## WordRank"
   ]
  },
  {
   "cell_type": "code",
   "execution_count": 54,
   "metadata": {},
   "outputs": [],
   "source": [
    "\n",
    "def word_rank_check(dataset, i_candidate=0, verbose=False):\n",
    "    data = load_data(dataset)\n",
    "    word_rank = WordRank()\n",
    "    count = 0\n",
    "    for row in data.iloc:\n",
    "        complex_word = row['complex_word']\n",
    "        candidates = row['candidates']\n",
    "        # candidate = candidates[0]\n",
    "        candidate = candidates[i_candidate] if len(candidates) > i_candidate else candidates[0]\n",
    "        # if candidate == complex_word and len(candidates) > 1: candidate = candidates[1]\n",
    "        \n",
    "        score_complex = word_rank.get_lexical_complexity_score(complex_word)\n",
    "        score_candidate = word_rank.get_lexical_complexity_score(candidate)\n",
    "        ratio = score_candidate / score_complex\n",
    "        if ratio < 1: count += 1\n",
    "        # if ratio == 1: print(complex_word, candidate)\n",
    "        if verbose:\n",
    "            print(f'{complex_word:10} {candidate:15} {score_complex:.2f} {score_candidate:.2f} {ratio:.2f}') \n",
    "        \n",
    "    print(f'{dataset} {i_candidate:15} : {count / len(data) * 100:.2f}')\n",
    "    # print()"
   ]
  },
  {
   "cell_type": "code",
   "execution_count": 55,
   "metadata": {},
   "outputs": [
    {
     "name": "stdout",
     "output_type": "stream",
     "text": [
      "BenchLS               0 : 84.61\n",
      "BenchLS               1 : 70.40\n",
      "BenchLS               2 : 61.46\n",
      "BenchLS               3 : 62.11\n",
      "BenchLS               4 : 67.06\n",
      "lex.mturk               0 : 91.18\n",
      "lex.mturk               1 : 81.36\n",
      "lex.mturk               2 : 78.96\n",
      "lex.mturk               3 : 75.95\n",
      "lex.mturk               4 : 72.75\n",
      "NNSeval               0 : 75.31\n",
      "NNSeval               1 : 68.20\n",
      "NNSeval               2 : 61.09\n",
      "NNSeval               3 : 65.69\n",
      "NNSeval               4 : 66.11\n",
      "semeval2012               0 : 55.22\n",
      "semeval2012               1 : 46.52\n",
      "semeval2012               2 : 38.51\n",
      "semeval2012               3 : 33.68\n",
      "semeval2012               4 : 34.23\n",
      "tsar-en               0 : 85.45\n",
      "tsar-en               1 : 74.29\n",
      "tsar-en               2 : 69.09\n",
      "tsar-en               3 : 66.75\n",
      "tsar-en               4 : 64.42\n"
     ]
    }
   ],
   "source": [
    "for dataset in DATASETS:\n",
    "    word_rank_check(dataset)\n",
    "    word_rank_check(dataset, i_candidate=1)\n",
    "    word_rank_check(dataset, i_candidate=2)\n",
    "    word_rank_check(dataset, i_candidate=3)\n",
    "    word_rank_check(dataset, i_candidate=4)\n",
    "    \n",
    "# SemEval 2012 includes many first candidates the same as the complex words."
   ]
  },
  {
   "cell_type": "markdown",
   "metadata": {},
   "source": [
    "## WordSyllableRatioFeature"
   ]
  },
  {
   "cell_type": "code",
   "execution_count": 56,
   "metadata": {},
   "outputs": [],
   "source": [
    "\n",
    "def word_syllables_check(dataset, verbose=False):\n",
    "    data = load_data(dataset)\n",
    "    feature = WordSyllable()\n",
    "    count = 0\n",
    "    for row in data.iloc:\n",
    "        complex_word = row['complex_word']\n",
    "        candidates = row['candidates']\n",
    "        candidate = candidates[0]\n",
    "        # if candidate == complex_word and len(candidates) > 1: candidate = candidates[1]\n",
    "        \n",
    "        nb_syllable_complex = feature.count_syllable(complex_word)\n",
    "        nb_syllable_candidate = feature.count_syllable(candidate)\n",
    "        ratio = safe_division(nb_syllable_candidate, nb_syllable_complex)\n",
    "        # ratio = safe_division(nb_syllable_complex, nb_syllable_candidate)\n",
    "        \n",
    "        if ratio < 1: count += 1\n",
    "        # if ratio == 1: print(complex_word, candidate)\n",
    "        \n",
    "        if verbose:\n",
    "            print(f'{complex_word:10} {candidate:15} {nb_syllable_complex:.2f} {nb_syllable_candidate:.2f} {ratio:.2f}') \n",
    "        \n",
    "    print(f'{dataset:12}: {count / len(data) * 100:.2f}')\n",
    "    print()"
   ]
  },
  {
   "cell_type": "code",
   "execution_count": 57,
   "metadata": {},
   "outputs": [
    {
     "name": "stdout",
     "output_type": "stream",
     "text": [
      "BenchLS     : 59.85\n",
      "\n",
      "lex.mturk   : 67.33\n",
      "\n",
      "NNSeval     : 48.54\n",
      "\n",
      "semeval2012 : 30.25\n",
      "\n",
      "tsar-en     : 50.65\n",
      "\n"
     ]
    }
   ],
   "source": [
    "for dataset in DATASETS:\n",
    "    word_syllables_check(dataset)"
   ]
  },
  {
   "cell_type": "markdown",
   "metadata": {},
   "source": [
    "## CandidateRankingRatioFeature"
   ]
  },
  {
   "cell_type": "code",
   "execution_count": 58,
   "metadata": {},
   "outputs": [],
   "source": [
    "\n",
    "def candidate_ranking_check(dataset, verbose=False):\n",
    "    data = load_data(dataset)\n",
    "    feature = CandidateRanking()\n",
    "    count = 0\n",
    "    for row in data.iloc:\n",
    "        complex_word = row['complex_word']\n",
    "        candidates = row['candidates']\n",
    "        candidate = candidates[0]\n",
    "        # if candidate == complex_word and len(candidates) > 1: candidate = candidates[1]\n",
    "        \n",
    "        # score_complex = feature.count_syllable(complex_word)\n",
    "        # score_candidate = feature.count_syllable(candidate)\n",
    "        # ratio = safe_division(score_candidate, score_complex)\n",
    "        ratio = feature.get_ranking_ratio()\n",
    "        \n",
    "        if ratio < 1: count += 1\n",
    "        # if ratio == 1: print(complex_word, candidate)\n",
    "        \n",
    "        if verbose:\n",
    "            print(f'{complex_word:10} {candidate:15} {score_complex:.2f} {score_candidate:.2f} {ratio:.2f}') \n",
    "        \n",
    "    print(f'{dataset:12}: {count / len(data) * 100:.2f}')\n",
    "    print()"
   ]
  },
  {
   "attachments": {},
   "cell_type": "markdown",
   "metadata": {},
   "source": [
    "# Cosine Similarity - BERT"
   ]
  },
  {
   "cell_type": "code",
   "execution_count": 80,
   "metadata": {},
   "outputs": [],
   "source": [
    "import json \n",
    "from minicons import cwe # https://github.com/kanishkamisra/minicons\n",
    "from sklearn.metrics.pairwise import cosine_similarity\n",
    "from functools import lru_cache\n",
    "from diskcache import Cache\n",
    "cache = Cache(CACHE_DIR)\n",
    "\n",
    "@lru_cache(maxsize=10)\n",
    "def get_model(lang='en'):\n",
    "    if lang == 'en':\n",
    "        return cwe.CWE('bert-base-uncased')\n",
    "    elif lang == 'es':\n",
    "        return cwe.CWE('dccuchile/bert-base-spanish-wwm-uncased')\n",
    "    elif lang == 'pt':\n",
    "        return cwe.CWE('')\n",
    "    elif lang == 'de':\n",
    "        pass \n",
    "    elif lang == 'fr':\n",
    "        pass \n",
    "\n",
    "# cache.evict(tag='get_cosine_similarity')\n",
    "\n",
    "@cache.memoize(tag='get_cosine_similarity')\n",
    "def get_cosine_similarity(text, complex_word, candidate):\n",
    "    context_words = [(text, complex_word), (text.replace(complex_word, candidate), candidate)]\n",
    "    model = get_model()\n",
    "    embeddings = model.extract_representation(context_words, layer=12)\n",
    "    # embeddings = model.extract_representation(context_words, layer=[-1])\n",
    "    \n",
    "    return cosine_similarity(embeddings[0].reshape(1, -1), embeddings[1].reshape(1, -1))[0][0]\n",
    "    \n",
    "data = load_dataset(Dataset.TSAR_EN)"
   ]
  },
  {
   "cell_type": "code",
   "execution_count": 81,
   "metadata": {},
   "outputs": [
    {
     "name": "stdout",
     "output_type": "stream",
     "text": [
      "#7-8 despite the fog, other flights are reported to have landed safely leading up to the collision.\n",
      "collision [[\"crash\"], [\"impact\", \"accident\"], [\"collision\"], [\"clash\", \"striking\"]]\n",
      "['crash', 'impact', 'accident', 'collision', 'clash', 'striking']\n",
      "collision crash           0.8515915274620056\n",
      "collision impact          0.8278858661651611\n",
      "collision accident        0.8578176498413086\n",
      "collision collision       0.9999998807907104\n",
      "collision clash           0.6809971928596497\n",
      "collision striking        0.6488008499145508\n"
     ]
    }
   ],
   "source": [
    "# for dataset in DATASETS:\n",
    "#     word_syllables_check(dataset)\n",
    "\n",
    "row = data.iloc[2]\n",
    "text = row['text']\n",
    "complex_word = row['complex_word']\n",
    "candidates = row['candidates']\n",
    "print(text)\n",
    "print(complex_word, candidates)\n",
    "\n",
    "candidates = json.loads(row['candidates'])\n",
    "candidates = [candidate for items in candidates for candidate in items]\n",
    "print(candidates)\n",
    "for candidate in candidates: \n",
    "    print(f\"{row['complex_word']} {candidate:<15} {get_cosine_similarity(row['text'], row['complex_word'], candidate)}\")\n"
   ]
  },
  {
   "cell_type": "code",
   "execution_count": 82,
   "metadata": {},
   "outputs": [
    {
     "name": "stdout",
     "output_type": "stream",
     "text": [
      "prototype       model           0.7478899955749512\n",
      "authoritarian   dictatorial     0.8635026812553406\n",
      "collision       crash           0.8515915274620056\n",
      "pupates         grows           0.7571403384208679\n",
      "discontent      dissatisfaction 0.8958964347839355\n",
      "decomposes      decays          0.8171378970146179\n",
      "descent         landing         0.7276878356933594\n",
      "sectarian       divided         0.8202275037765503\n",
      "sectarian       sectarian       0.9999998807907104\n",
      "offshoot        branch          0.8018960952758789\n"
     ]
    }
   ],
   "source": [
    "for i in range(len(data[:10])):\n",
    "    row = data.iloc[i]\n",
    "    text = row['text']\n",
    "    complex_word = row['complex_word']\n",
    "    candidates = json.loads(row['candidates'])\n",
    "    candidates = [candidate for items in candidates for candidate in items]\n",
    "    # print('='*80)\n",
    "    # print(text)\n",
    "    # print(complex_word)\n",
    "    # print(candidates)\n",
    "    candidate = candidates[0]\n",
    "    print(f\"{row['complex_word']:<15} {candidate:<15} {get_cosine_similarity(row['text'], row['complex_word'], candidate)}\")\n",
    "    \n",
    "    "
   ]
  },
  {
   "cell_type": "code",
   "execution_count": 83,
   "metadata": {},
   "outputs": [
    {
     "name": "stdout",
     "output_type": "stream",
     "text": [
      "prototype       model           0.75 sample          0.66\n",
      "authoritarian   dictatorial     0.86 controlling     0.79\n",
      "collision       crash           0.85 impact          0.83\n",
      "pupates         grows           0.76 develops        0.81\n",
      "discontent      dissatisfaction 0.90 unhappiness     0.75\n",
      "decomposes      decays          0.82 breaks down     0.77\n",
      "descent         landing         0.73 drop            0.81\n",
      "sectarian       divided         0.82 denoting        0.63\n",
      "sectarian       religious       0.76 dissenter       0.87\n",
      "offshoot        branch          0.80 subsidiary      0.78\n"
     ]
    }
   ],
   "source": [
    "for i in range(len(data[:10])):\n",
    "    row = data.iloc[i]\n",
    "    text = row['text']\n",
    "    complex_word = row['complex_word']\n",
    "    candidates = json.loads(row['candidates'])\n",
    "    candidates = [candidate for items in candidates for candidate in items]\n",
    "    candidates = remove_word_from_list(complex_word, candidates)\n",
    "    candidate = candidates[0]\n",
    "    score1 = get_cosine_similarity(row['text'], row['complex_word'], candidate)\n",
    "    candidate2 = candidates[1]\n",
    "    score2 = get_cosine_similarity(row['text'], row['complex_word'], candidate2)\n",
    "    print(f\"{row['complex_word']:<15} {candidate:<15} {score1:.2f} {candidate2:<15} {score2:.2f}\")\n",
    "    \n",
    "    "
   ]
  },
  {
   "cell_type": "code",
   "execution_count": 84,
   "metadata": {},
   "outputs": [
    {
     "name": "stderr",
     "output_type": "stream",
     "text": [
      "100%|██████████| 386/386 [02:59<00:00,  2.15it/s]\n"
     ]
    },
    {
     "name": "stdout",
     "output_type": "stream",
     "text": [
      "0: 0.26\n"
     ]
    },
    {
     "name": "stderr",
     "output_type": "stream",
     "text": [
      "100%|██████████| 386/386 [00:00<00:00, 2924.51it/s]\n"
     ]
    },
    {
     "name": "stdout",
     "output_type": "stream",
     "text": [
      "1: 0.17\n"
     ]
    },
    {
     "name": "stderr",
     "output_type": "stream",
     "text": [
      "100%|██████████| 386/386 [00:00<00:00, 3126.49it/s]\n"
     ]
    },
    {
     "name": "stdout",
     "output_type": "stream",
     "text": [
      "2: 0.10\n"
     ]
    },
    {
     "name": "stderr",
     "output_type": "stream",
     "text": [
      "100%|██████████| 386/386 [00:00<00:00, 3091.26it/s]\n"
     ]
    },
    {
     "name": "stdout",
     "output_type": "stream",
     "text": [
      "3: 0.12\n"
     ]
    },
    {
     "name": "stderr",
     "output_type": "stream",
     "text": [
      "100%|██████████| 386/386 [00:00<00:00, 3180.80it/s]"
     ]
    },
    {
     "name": "stdout",
     "output_type": "stream",
     "text": [
      "4: 0.08\n"
     ]
    },
    {
     "name": "stderr",
     "output_type": "stream",
     "text": [
      "\n"
     ]
    }
   ],
   "source": [
    "def process_candidates(complex_word, candidates_str):\n",
    "    # convert from string to array, flatten the array from 2d to 1d, and remove the candidate which is the same as the complex word\n",
    "    candidates = json.loads(candidates_str)\n",
    "    candidates = [candidate for items in candidates for candidate in items]\n",
    "    candidates = remove_word_from_list(complex_word, candidates) # remove candidate == complex word\n",
    "    return candidates \n",
    "\n",
    "def get_candidates_cosine_similarity(text,complex_word, candidates):\n",
    "    return {candidate: get_cosine_similarity(text, complex_word, candidate) for candidate in candidates}\n",
    "\n",
    "def find_candidate_with_highest_similarity_score(similarity_scores):\n",
    "    max_key = max(similarity_scores, key=similarity_scores.get)\n",
    "    return max_key, similarity_scores[max_key]\n",
    "    \n",
    "def cosine_similarity_check(i_candidate=0):\n",
    "    \n",
    "    size = len(data)\n",
    "    # size = 10\n",
    "    count = 0\n",
    "    for i in tqdm(range(size)):\n",
    "        row = data.iloc[i]\n",
    "        text = row['text']\n",
    "        complex_word = row['complex_word']\n",
    "        candidates = process_candidates(complex_word, row['candidates'])\n",
    "        similarity_scores = get_candidates_cosine_similarity(text, complex_word, candidates)\n",
    "        max_candidate, max_score = find_candidate_with_highest_similarity_score(similarity_scores)\n",
    "        if i_candidate < len(candidates):\n",
    "            candidate = candidates[i_candidate]\n",
    "            score = similarity_scores[candidate]\n",
    "            # print('='*80)\n",
    "            # print(candidates)\n",
    "            if score == max_score: count +=1\n",
    "        # print(f'{complex_word:<15} {candidate:<15} {score:.2f} {max_candidate:<15} {max_score:.2f}')\n",
    "    print(f'{i_candidate}: {count/size:.2f}')\n",
    "    \n",
    "for i in range(5):\n",
    "    cosine_similarity_check(i)\n",
    "    "
   ]
  },
  {
   "attachments": {},
   "cell_type": "markdown",
   "metadata": {},
   "source": [
    "# Max Sequence Length"
   ]
  },
  {
   "attachments": {},
   "cell_type": "markdown",
   "metadata": {},
   "source": [
    "#"
   ]
  },
  {
   "cell_type": "code",
   "execution_count": 3,
   "metadata": {},
   "outputs": [
    {
     "name": "stdout",
     "output_type": "stream",
     "text": [
      "BenchLS \t 6 \t 100 \t 27.90\n",
      "lex.mturk \t 6 \t 78 \t 26.23\n",
      "NNSeval \t 7 \t 78 \t 27.95\n",
      "semeval2012 \t 5 \t 92 \t 28.23\n",
      "tsar-en \t 6 \t 83 \t 29.85\n",
      "tsar-es \t 5 \t 138 \t 35.14\n",
      "tsar-pt \t 3 \t 57 \t 23.12\n"
     ]
    }
   ],
   "source": [
    "\n",
    "    \n",
    "def get_length(text):\n",
    "    return len(word_tokenize(text))\n",
    "\n",
    "def get_min_max_seq_length(dataset):\n",
    "    data = load_dataset(dataset)\n",
    "    l = [get_length(line) for line in data['text']]\n",
    "             \n",
    "    return min(l), max(l)\n",
    "\n",
    "def get_avg_seq_length(data):\n",
    "    data = load_dataset(dataset)\n",
    "    lengths = [get_length(line) for line in data['text']]\n",
    "    return np.mean(lengths)\n",
    "    \n",
    "for dataset in DATASETS:\n",
    "    min_length, max_length = get_min_max_seq_length(dataset)\n",
    "    print(f'{dataset} \\t {min_length} \\t {max_length} \\t {get_avg_seq_length(dataset):.2f}')\n",
    "    "
   ]
  },
  {
   "cell_type": "code",
   "execution_count": null,
   "metadata": {},
   "outputs": [],
   "source": []
  },
  {
   "attachments": {},
   "cell_type": "markdown",
   "metadata": {},
   "source": [
    "# Length distribution"
   ]
  },
  {
   "cell_type": "code",
   "execution_count": 62,
   "metadata": {},
   "outputs": [],
   "source": [
    "# import plotly.graph_objects as go\n",
    "\n",
    "# fig = go.Figure(go.Bar(\n",
    "#             x=[20, 14, 23],\n",
    "#             y=['giraffes', 'orangutans', 'monkeys'],\n",
    "#             orientation='h'))\n",
    "import plotly.graph_objects as go\n",
    "def plot_length_distibution(dataset):\n",
    "    # dataset = Dataset.TSAR_EN\n",
    "\n",
    "    data = load_dataset(dataset)\n",
    "    dict = {}\n",
    "    for line in data['text']:\n",
    "        l = str(get_length(line))\n",
    "        if l in dict:\n",
    "            dict[l] += 1\n",
    "        else:\n",
    "            dict[l] = 1\n",
    "    vals = tuple((key, val) for key, val in dict.items())\n",
    "    vals = sorted(vals, key=lambda x: x[1], reverse=True)\n",
    "    x = [i[0] for i in vals]\n",
    "    y = [i[1] for i in vals]\n",
    "    fig = go.Figure(go.Bar(\n",
    "                x=x,\n",
    "                y=y,\n",
    "                orientation='v'))\n",
    "    fig.show()\n",
    "    print('Dataset: ', dataset)\n",
    "    print('Max length: ', max(v[0] for v in vals))\n",
    "    print('(len, count) (sorted by count):', vals)\n",
    "    print('(len, count) (sorted by len): ', sorted(vals, key=lambda x: int(x[0]), reverse=True))"
   ]
  },
  {
   "cell_type": "code",
   "execution_count": 63,
   "metadata": {},
   "outputs": [
    {
     "data": {
      "application/vnd.plotly.v1+json": {
       "config": {
        "plotlyServerURL": "https://plot.ly"
       },
       "data": [
        {
         "orientation": "v",
         "type": "bar",
         "x": [
          "24",
          "18",
          "25",
          "23",
          "20",
          "19",
          "14",
          "30",
          "17",
          "16",
          "28",
          "15",
          "31",
          "26",
          "21",
          "22",
          "27",
          "33",
          "34",
          "11",
          "32",
          "35",
          "13",
          "39",
          "37",
          "10",
          "12",
          "29",
          "42",
          "40",
          "36",
          "43",
          "49",
          "44",
          "45",
          "38",
          "9",
          "47",
          "41",
          "46",
          "48",
          "8",
          "58",
          "50",
          "7",
          "59",
          "55",
          "51",
          "56",
          "66",
          "62",
          "67",
          "52",
          "78",
          "54",
          "6",
          "57",
          "74",
          "61",
          "65",
          "79",
          "77",
          "73",
          "76",
          "64",
          "71",
          "60",
          "72",
          "100",
          "75",
          "53",
          "68"
         ],
         "y": [
          37,
          35,
          35,
          35,
          34,
          34,
          31,
          30,
          30,
          30,
          29,
          29,
          28,
          27,
          27,
          27,
          26,
          25,
          21,
          20,
          20,
          19,
          18,
          17,
          17,
          17,
          16,
          15,
          13,
          12,
          11,
          10,
          10,
          9,
          9,
          9,
          9,
          8,
          8,
          8,
          8,
          6,
          6,
          6,
          5,
          4,
          4,
          4,
          3,
          3,
          3,
          3,
          2,
          2,
          2,
          2,
          2,
          2,
          2,
          2,
          2,
          1,
          1,
          1,
          1,
          1,
          1,
          1,
          1,
          1,
          1,
          1
         ]
        }
       ],
       "layout": {
        "template": {
         "data": {
          "bar": [
           {
            "error_x": {
             "color": "#2a3f5f"
            },
            "error_y": {
             "color": "#2a3f5f"
            },
            "marker": {
             "line": {
              "color": "#E5ECF6",
              "width": 0.5
             },
             "pattern": {
              "fillmode": "overlay",
              "size": 10,
              "solidity": 0.2
             }
            },
            "type": "bar"
           }
          ],
          "barpolar": [
           {
            "marker": {
             "line": {
              "color": "#E5ECF6",
              "width": 0.5
             },
             "pattern": {
              "fillmode": "overlay",
              "size": 10,
              "solidity": 0.2
             }
            },
            "type": "barpolar"
           }
          ],
          "carpet": [
           {
            "aaxis": {
             "endlinecolor": "#2a3f5f",
             "gridcolor": "white",
             "linecolor": "white",
             "minorgridcolor": "white",
             "startlinecolor": "#2a3f5f"
            },
            "baxis": {
             "endlinecolor": "#2a3f5f",
             "gridcolor": "white",
             "linecolor": "white",
             "minorgridcolor": "white",
             "startlinecolor": "#2a3f5f"
            },
            "type": "carpet"
           }
          ],
          "choropleth": [
           {
            "colorbar": {
             "outlinewidth": 0,
             "ticks": ""
            },
            "type": "choropleth"
           }
          ],
          "contour": [
           {
            "colorbar": {
             "outlinewidth": 0,
             "ticks": ""
            },
            "colorscale": [
             [
              0,
              "#0d0887"
             ],
             [
              0.1111111111111111,
              "#46039f"
             ],
             [
              0.2222222222222222,
              "#7201a8"
             ],
             [
              0.3333333333333333,
              "#9c179e"
             ],
             [
              0.4444444444444444,
              "#bd3786"
             ],
             [
              0.5555555555555556,
              "#d8576b"
             ],
             [
              0.6666666666666666,
              "#ed7953"
             ],
             [
              0.7777777777777778,
              "#fb9f3a"
             ],
             [
              0.8888888888888888,
              "#fdca26"
             ],
             [
              1,
              "#f0f921"
             ]
            ],
            "type": "contour"
           }
          ],
          "contourcarpet": [
           {
            "colorbar": {
             "outlinewidth": 0,
             "ticks": ""
            },
            "type": "contourcarpet"
           }
          ],
          "heatmap": [
           {
            "colorbar": {
             "outlinewidth": 0,
             "ticks": ""
            },
            "colorscale": [
             [
              0,
              "#0d0887"
             ],
             [
              0.1111111111111111,
              "#46039f"
             ],
             [
              0.2222222222222222,
              "#7201a8"
             ],
             [
              0.3333333333333333,
              "#9c179e"
             ],
             [
              0.4444444444444444,
              "#bd3786"
             ],
             [
              0.5555555555555556,
              "#d8576b"
             ],
             [
              0.6666666666666666,
              "#ed7953"
             ],
             [
              0.7777777777777778,
              "#fb9f3a"
             ],
             [
              0.8888888888888888,
              "#fdca26"
             ],
             [
              1,
              "#f0f921"
             ]
            ],
            "type": "heatmap"
           }
          ],
          "heatmapgl": [
           {
            "colorbar": {
             "outlinewidth": 0,
             "ticks": ""
            },
            "colorscale": [
             [
              0,
              "#0d0887"
             ],
             [
              0.1111111111111111,
              "#46039f"
             ],
             [
              0.2222222222222222,
              "#7201a8"
             ],
             [
              0.3333333333333333,
              "#9c179e"
             ],
             [
              0.4444444444444444,
              "#bd3786"
             ],
             [
              0.5555555555555556,
              "#d8576b"
             ],
             [
              0.6666666666666666,
              "#ed7953"
             ],
             [
              0.7777777777777778,
              "#fb9f3a"
             ],
             [
              0.8888888888888888,
              "#fdca26"
             ],
             [
              1,
              "#f0f921"
             ]
            ],
            "type": "heatmapgl"
           }
          ],
          "histogram": [
           {
            "marker": {
             "pattern": {
              "fillmode": "overlay",
              "size": 10,
              "solidity": 0.2
             }
            },
            "type": "histogram"
           }
          ],
          "histogram2d": [
           {
            "colorbar": {
             "outlinewidth": 0,
             "ticks": ""
            },
            "colorscale": [
             [
              0,
              "#0d0887"
             ],
             [
              0.1111111111111111,
              "#46039f"
             ],
             [
              0.2222222222222222,
              "#7201a8"
             ],
             [
              0.3333333333333333,
              "#9c179e"
             ],
             [
              0.4444444444444444,
              "#bd3786"
             ],
             [
              0.5555555555555556,
              "#d8576b"
             ],
             [
              0.6666666666666666,
              "#ed7953"
             ],
             [
              0.7777777777777778,
              "#fb9f3a"
             ],
             [
              0.8888888888888888,
              "#fdca26"
             ],
             [
              1,
              "#f0f921"
             ]
            ],
            "type": "histogram2d"
           }
          ],
          "histogram2dcontour": [
           {
            "colorbar": {
             "outlinewidth": 0,
             "ticks": ""
            },
            "colorscale": [
             [
              0,
              "#0d0887"
             ],
             [
              0.1111111111111111,
              "#46039f"
             ],
             [
              0.2222222222222222,
              "#7201a8"
             ],
             [
              0.3333333333333333,
              "#9c179e"
             ],
             [
              0.4444444444444444,
              "#bd3786"
             ],
             [
              0.5555555555555556,
              "#d8576b"
             ],
             [
              0.6666666666666666,
              "#ed7953"
             ],
             [
              0.7777777777777778,
              "#fb9f3a"
             ],
             [
              0.8888888888888888,
              "#fdca26"
             ],
             [
              1,
              "#f0f921"
             ]
            ],
            "type": "histogram2dcontour"
           }
          ],
          "mesh3d": [
           {
            "colorbar": {
             "outlinewidth": 0,
             "ticks": ""
            },
            "type": "mesh3d"
           }
          ],
          "parcoords": [
           {
            "line": {
             "colorbar": {
              "outlinewidth": 0,
              "ticks": ""
             }
            },
            "type": "parcoords"
           }
          ],
          "pie": [
           {
            "automargin": true,
            "type": "pie"
           }
          ],
          "scatter": [
           {
            "fillpattern": {
             "fillmode": "overlay",
             "size": 10,
             "solidity": 0.2
            },
            "type": "scatter"
           }
          ],
          "scatter3d": [
           {
            "line": {
             "colorbar": {
              "outlinewidth": 0,
              "ticks": ""
             }
            },
            "marker": {
             "colorbar": {
              "outlinewidth": 0,
              "ticks": ""
             }
            },
            "type": "scatter3d"
           }
          ],
          "scattercarpet": [
           {
            "marker": {
             "colorbar": {
              "outlinewidth": 0,
              "ticks": ""
             }
            },
            "type": "scattercarpet"
           }
          ],
          "scattergeo": [
           {
            "marker": {
             "colorbar": {
              "outlinewidth": 0,
              "ticks": ""
             }
            },
            "type": "scattergeo"
           }
          ],
          "scattergl": [
           {
            "marker": {
             "colorbar": {
              "outlinewidth": 0,
              "ticks": ""
             }
            },
            "type": "scattergl"
           }
          ],
          "scattermapbox": [
           {
            "marker": {
             "colorbar": {
              "outlinewidth": 0,
              "ticks": ""
             }
            },
            "type": "scattermapbox"
           }
          ],
          "scatterpolar": [
           {
            "marker": {
             "colorbar": {
              "outlinewidth": 0,
              "ticks": ""
             }
            },
            "type": "scatterpolar"
           }
          ],
          "scatterpolargl": [
           {
            "marker": {
             "colorbar": {
              "outlinewidth": 0,
              "ticks": ""
             }
            },
            "type": "scatterpolargl"
           }
          ],
          "scatterternary": [
           {
            "marker": {
             "colorbar": {
              "outlinewidth": 0,
              "ticks": ""
             }
            },
            "type": "scatterternary"
           }
          ],
          "surface": [
           {
            "colorbar": {
             "outlinewidth": 0,
             "ticks": ""
            },
            "colorscale": [
             [
              0,
              "#0d0887"
             ],
             [
              0.1111111111111111,
              "#46039f"
             ],
             [
              0.2222222222222222,
              "#7201a8"
             ],
             [
              0.3333333333333333,
              "#9c179e"
             ],
             [
              0.4444444444444444,
              "#bd3786"
             ],
             [
              0.5555555555555556,
              "#d8576b"
             ],
             [
              0.6666666666666666,
              "#ed7953"
             ],
             [
              0.7777777777777778,
              "#fb9f3a"
             ],
             [
              0.8888888888888888,
              "#fdca26"
             ],
             [
              1,
              "#f0f921"
             ]
            ],
            "type": "surface"
           }
          ],
          "table": [
           {
            "cells": {
             "fill": {
              "color": "#EBF0F8"
             },
             "line": {
              "color": "white"
             }
            },
            "header": {
             "fill": {
              "color": "#C8D4E3"
             },
             "line": {
              "color": "white"
             }
            },
            "type": "table"
           }
          ]
         },
         "layout": {
          "annotationdefaults": {
           "arrowcolor": "#2a3f5f",
           "arrowhead": 0,
           "arrowwidth": 1
          },
          "autotypenumbers": "strict",
          "coloraxis": {
           "colorbar": {
            "outlinewidth": 0,
            "ticks": ""
           }
          },
          "colorscale": {
           "diverging": [
            [
             0,
             "#8e0152"
            ],
            [
             0.1,
             "#c51b7d"
            ],
            [
             0.2,
             "#de77ae"
            ],
            [
             0.3,
             "#f1b6da"
            ],
            [
             0.4,
             "#fde0ef"
            ],
            [
             0.5,
             "#f7f7f7"
            ],
            [
             0.6,
             "#e6f5d0"
            ],
            [
             0.7,
             "#b8e186"
            ],
            [
             0.8,
             "#7fbc41"
            ],
            [
             0.9,
             "#4d9221"
            ],
            [
             1,
             "#276419"
            ]
           ],
           "sequential": [
            [
             0,
             "#0d0887"
            ],
            [
             0.1111111111111111,
             "#46039f"
            ],
            [
             0.2222222222222222,
             "#7201a8"
            ],
            [
             0.3333333333333333,
             "#9c179e"
            ],
            [
             0.4444444444444444,
             "#bd3786"
            ],
            [
             0.5555555555555556,
             "#d8576b"
            ],
            [
             0.6666666666666666,
             "#ed7953"
            ],
            [
             0.7777777777777778,
             "#fb9f3a"
            ],
            [
             0.8888888888888888,
             "#fdca26"
            ],
            [
             1,
             "#f0f921"
            ]
           ],
           "sequentialminus": [
            [
             0,
             "#0d0887"
            ],
            [
             0.1111111111111111,
             "#46039f"
            ],
            [
             0.2222222222222222,
             "#7201a8"
            ],
            [
             0.3333333333333333,
             "#9c179e"
            ],
            [
             0.4444444444444444,
             "#bd3786"
            ],
            [
             0.5555555555555556,
             "#d8576b"
            ],
            [
             0.6666666666666666,
             "#ed7953"
            ],
            [
             0.7777777777777778,
             "#fb9f3a"
            ],
            [
             0.8888888888888888,
             "#fdca26"
            ],
            [
             1,
             "#f0f921"
            ]
           ]
          },
          "colorway": [
           "#636efa",
           "#EF553B",
           "#00cc96",
           "#ab63fa",
           "#FFA15A",
           "#19d3f3",
           "#FF6692",
           "#B6E880",
           "#FF97FF",
           "#FECB52"
          ],
          "font": {
           "color": "#2a3f5f"
          },
          "geo": {
           "bgcolor": "white",
           "lakecolor": "white",
           "landcolor": "#E5ECF6",
           "showlakes": true,
           "showland": true,
           "subunitcolor": "white"
          },
          "hoverlabel": {
           "align": "left"
          },
          "hovermode": "closest",
          "mapbox": {
           "style": "light"
          },
          "paper_bgcolor": "white",
          "plot_bgcolor": "#E5ECF6",
          "polar": {
           "angularaxis": {
            "gridcolor": "white",
            "linecolor": "white",
            "ticks": ""
           },
           "bgcolor": "#E5ECF6",
           "radialaxis": {
            "gridcolor": "white",
            "linecolor": "white",
            "ticks": ""
           }
          },
          "scene": {
           "xaxis": {
            "backgroundcolor": "#E5ECF6",
            "gridcolor": "white",
            "gridwidth": 2,
            "linecolor": "white",
            "showbackground": true,
            "ticks": "",
            "zerolinecolor": "white"
           },
           "yaxis": {
            "backgroundcolor": "#E5ECF6",
            "gridcolor": "white",
            "gridwidth": 2,
            "linecolor": "white",
            "showbackground": true,
            "ticks": "",
            "zerolinecolor": "white"
           },
           "zaxis": {
            "backgroundcolor": "#E5ECF6",
            "gridcolor": "white",
            "gridwidth": 2,
            "linecolor": "white",
            "showbackground": true,
            "ticks": "",
            "zerolinecolor": "white"
           }
          },
          "shapedefaults": {
           "line": {
            "color": "#2a3f5f"
           }
          },
          "ternary": {
           "aaxis": {
            "gridcolor": "white",
            "linecolor": "white",
            "ticks": ""
           },
           "baxis": {
            "gridcolor": "white",
            "linecolor": "white",
            "ticks": ""
           },
           "bgcolor": "#E5ECF6",
           "caxis": {
            "gridcolor": "white",
            "linecolor": "white",
            "ticks": ""
           }
          },
          "title": {
           "x": 0.05
          },
          "xaxis": {
           "automargin": true,
           "gridcolor": "white",
           "linecolor": "white",
           "ticks": "",
           "title": {
            "standoff": 15
           },
           "zerolinecolor": "white",
           "zerolinewidth": 2
          },
          "yaxis": {
           "automargin": true,
           "gridcolor": "white",
           "linecolor": "white",
           "ticks": "",
           "title": {
            "standoff": 15
           },
           "zerolinecolor": "white",
           "zerolinewidth": 2
          }
         }
        }
       }
      },
      "text/html": [
       "<div>                            <div id=\"f8ebaabb-e471-4663-ad8c-241b19c5d4e7\" class=\"plotly-graph-div\" style=\"height:525px; width:100%;\"></div>            <script type=\"text/javascript\">                require([\"plotly\"], function(Plotly) {                    window.PLOTLYENV=window.PLOTLYENV || {};                                    if (document.getElementById(\"f8ebaabb-e471-4663-ad8c-241b19c5d4e7\")) {                    Plotly.newPlot(                        \"f8ebaabb-e471-4663-ad8c-241b19c5d4e7\",                        [{\"orientation\":\"v\",\"x\":[\"24\",\"18\",\"25\",\"23\",\"20\",\"19\",\"14\",\"30\",\"17\",\"16\",\"28\",\"15\",\"31\",\"26\",\"21\",\"22\",\"27\",\"33\",\"34\",\"11\",\"32\",\"35\",\"13\",\"39\",\"37\",\"10\",\"12\",\"29\",\"42\",\"40\",\"36\",\"43\",\"49\",\"44\",\"45\",\"38\",\"9\",\"47\",\"41\",\"46\",\"48\",\"8\",\"58\",\"50\",\"7\",\"59\",\"55\",\"51\",\"56\",\"66\",\"62\",\"67\",\"52\",\"78\",\"54\",\"6\",\"57\",\"74\",\"61\",\"65\",\"79\",\"77\",\"73\",\"76\",\"64\",\"71\",\"60\",\"72\",\"100\",\"75\",\"53\",\"68\"],\"y\":[37,35,35,35,34,34,31,30,30,30,29,29,28,27,27,27,26,25,21,20,20,19,18,17,17,17,16,15,13,12,11,10,10,9,9,9,9,8,8,8,8,6,6,6,5,4,4,4,3,3,3,3,2,2,2,2,2,2,2,2,2,1,1,1,1,1,1,1,1,1,1,1],\"type\":\"bar\"}],                        {\"template\":{\"data\":{\"histogram2dcontour\":[{\"type\":\"histogram2dcontour\",\"colorbar\":{\"outlinewidth\":0,\"ticks\":\"\"},\"colorscale\":[[0.0,\"#0d0887\"],[0.1111111111111111,\"#46039f\"],[0.2222222222222222,\"#7201a8\"],[0.3333333333333333,\"#9c179e\"],[0.4444444444444444,\"#bd3786\"],[0.5555555555555556,\"#d8576b\"],[0.6666666666666666,\"#ed7953\"],[0.7777777777777778,\"#fb9f3a\"],[0.8888888888888888,\"#fdca26\"],[1.0,\"#f0f921\"]]}],\"choropleth\":[{\"type\":\"choropleth\",\"colorbar\":{\"outlinewidth\":0,\"ticks\":\"\"}}],\"histogram2d\":[{\"type\":\"histogram2d\",\"colorbar\":{\"outlinewidth\":0,\"ticks\":\"\"},\"colorscale\":[[0.0,\"#0d0887\"],[0.1111111111111111,\"#46039f\"],[0.2222222222222222,\"#7201a8\"],[0.3333333333333333,\"#9c179e\"],[0.4444444444444444,\"#bd3786\"],[0.5555555555555556,\"#d8576b\"],[0.6666666666666666,\"#ed7953\"],[0.7777777777777778,\"#fb9f3a\"],[0.8888888888888888,\"#fdca26\"],[1.0,\"#f0f921\"]]}],\"heatmap\":[{\"type\":\"heatmap\",\"colorbar\":{\"outlinewidth\":0,\"ticks\":\"\"},\"colorscale\":[[0.0,\"#0d0887\"],[0.1111111111111111,\"#46039f\"],[0.2222222222222222,\"#7201a8\"],[0.3333333333333333,\"#9c179e\"],[0.4444444444444444,\"#bd3786\"],[0.5555555555555556,\"#d8576b\"],[0.6666666666666666,\"#ed7953\"],[0.7777777777777778,\"#fb9f3a\"],[0.8888888888888888,\"#fdca26\"],[1.0,\"#f0f921\"]]}],\"heatmapgl\":[{\"type\":\"heatmapgl\",\"colorbar\":{\"outlinewidth\":0,\"ticks\":\"\"},\"colorscale\":[[0.0,\"#0d0887\"],[0.1111111111111111,\"#46039f\"],[0.2222222222222222,\"#7201a8\"],[0.3333333333333333,\"#9c179e\"],[0.4444444444444444,\"#bd3786\"],[0.5555555555555556,\"#d8576b\"],[0.6666666666666666,\"#ed7953\"],[0.7777777777777778,\"#fb9f3a\"],[0.8888888888888888,\"#fdca26\"],[1.0,\"#f0f921\"]]}],\"contourcarpet\":[{\"type\":\"contourcarpet\",\"colorbar\":{\"outlinewidth\":0,\"ticks\":\"\"}}],\"contour\":[{\"type\":\"contour\",\"colorbar\":{\"outlinewidth\":0,\"ticks\":\"\"},\"colorscale\":[[0.0,\"#0d0887\"],[0.1111111111111111,\"#46039f\"],[0.2222222222222222,\"#7201a8\"],[0.3333333333333333,\"#9c179e\"],[0.4444444444444444,\"#bd3786\"],[0.5555555555555556,\"#d8576b\"],[0.6666666666666666,\"#ed7953\"],[0.7777777777777778,\"#fb9f3a\"],[0.8888888888888888,\"#fdca26\"],[1.0,\"#f0f921\"]]}],\"surface\":[{\"type\":\"surface\",\"colorbar\":{\"outlinewidth\":0,\"ticks\":\"\"},\"colorscale\":[[0.0,\"#0d0887\"],[0.1111111111111111,\"#46039f\"],[0.2222222222222222,\"#7201a8\"],[0.3333333333333333,\"#9c179e\"],[0.4444444444444444,\"#bd3786\"],[0.5555555555555556,\"#d8576b\"],[0.6666666666666666,\"#ed7953\"],[0.7777777777777778,\"#fb9f3a\"],[0.8888888888888888,\"#fdca26\"],[1.0,\"#f0f921\"]]}],\"mesh3d\":[{\"type\":\"mesh3d\",\"colorbar\":{\"outlinewidth\":0,\"ticks\":\"\"}}],\"scatter\":[{\"fillpattern\":{\"fillmode\":\"overlay\",\"size\":10,\"solidity\":0.2},\"type\":\"scatter\"}],\"parcoords\":[{\"type\":\"parcoords\",\"line\":{\"colorbar\":{\"outlinewidth\":0,\"ticks\":\"\"}}}],\"scatterpolargl\":[{\"type\":\"scatterpolargl\",\"marker\":{\"colorbar\":{\"outlinewidth\":0,\"ticks\":\"\"}}}],\"bar\":[{\"error_x\":{\"color\":\"#2a3f5f\"},\"error_y\":{\"color\":\"#2a3f5f\"},\"marker\":{\"line\":{\"color\":\"#E5ECF6\",\"width\":0.5},\"pattern\":{\"fillmode\":\"overlay\",\"size\":10,\"solidity\":0.2}},\"type\":\"bar\"}],\"scattergeo\":[{\"type\":\"scattergeo\",\"marker\":{\"colorbar\":{\"outlinewidth\":0,\"ticks\":\"\"}}}],\"scatterpolar\":[{\"type\":\"scatterpolar\",\"marker\":{\"colorbar\":{\"outlinewidth\":0,\"ticks\":\"\"}}}],\"histogram\":[{\"marker\":{\"pattern\":{\"fillmode\":\"overlay\",\"size\":10,\"solidity\":0.2}},\"type\":\"histogram\"}],\"scattergl\":[{\"type\":\"scattergl\",\"marker\":{\"colorbar\":{\"outlinewidth\":0,\"ticks\":\"\"}}}],\"scatter3d\":[{\"type\":\"scatter3d\",\"line\":{\"colorbar\":{\"outlinewidth\":0,\"ticks\":\"\"}},\"marker\":{\"colorbar\":{\"outlinewidth\":0,\"ticks\":\"\"}}}],\"scattermapbox\":[{\"type\":\"scattermapbox\",\"marker\":{\"colorbar\":{\"outlinewidth\":0,\"ticks\":\"\"}}}],\"scatterternary\":[{\"type\":\"scatterternary\",\"marker\":{\"colorbar\":{\"outlinewidth\":0,\"ticks\":\"\"}}}],\"scattercarpet\":[{\"type\":\"scattercarpet\",\"marker\":{\"colorbar\":{\"outlinewidth\":0,\"ticks\":\"\"}}}],\"carpet\":[{\"aaxis\":{\"endlinecolor\":\"#2a3f5f\",\"gridcolor\":\"white\",\"linecolor\":\"white\",\"minorgridcolor\":\"white\",\"startlinecolor\":\"#2a3f5f\"},\"baxis\":{\"endlinecolor\":\"#2a3f5f\",\"gridcolor\":\"white\",\"linecolor\":\"white\",\"minorgridcolor\":\"white\",\"startlinecolor\":\"#2a3f5f\"},\"type\":\"carpet\"}],\"table\":[{\"cells\":{\"fill\":{\"color\":\"#EBF0F8\"},\"line\":{\"color\":\"white\"}},\"header\":{\"fill\":{\"color\":\"#C8D4E3\"},\"line\":{\"color\":\"white\"}},\"type\":\"table\"}],\"barpolar\":[{\"marker\":{\"line\":{\"color\":\"#E5ECF6\",\"width\":0.5},\"pattern\":{\"fillmode\":\"overlay\",\"size\":10,\"solidity\":0.2}},\"type\":\"barpolar\"}],\"pie\":[{\"automargin\":true,\"type\":\"pie\"}]},\"layout\":{\"autotypenumbers\":\"strict\",\"colorway\":[\"#636efa\",\"#EF553B\",\"#00cc96\",\"#ab63fa\",\"#FFA15A\",\"#19d3f3\",\"#FF6692\",\"#B6E880\",\"#FF97FF\",\"#FECB52\"],\"font\":{\"color\":\"#2a3f5f\"},\"hovermode\":\"closest\",\"hoverlabel\":{\"align\":\"left\"},\"paper_bgcolor\":\"white\",\"plot_bgcolor\":\"#E5ECF6\",\"polar\":{\"bgcolor\":\"#E5ECF6\",\"angularaxis\":{\"gridcolor\":\"white\",\"linecolor\":\"white\",\"ticks\":\"\"},\"radialaxis\":{\"gridcolor\":\"white\",\"linecolor\":\"white\",\"ticks\":\"\"}},\"ternary\":{\"bgcolor\":\"#E5ECF6\",\"aaxis\":{\"gridcolor\":\"white\",\"linecolor\":\"white\",\"ticks\":\"\"},\"baxis\":{\"gridcolor\":\"white\",\"linecolor\":\"white\",\"ticks\":\"\"},\"caxis\":{\"gridcolor\":\"white\",\"linecolor\":\"white\",\"ticks\":\"\"}},\"coloraxis\":{\"colorbar\":{\"outlinewidth\":0,\"ticks\":\"\"}},\"colorscale\":{\"sequential\":[[0.0,\"#0d0887\"],[0.1111111111111111,\"#46039f\"],[0.2222222222222222,\"#7201a8\"],[0.3333333333333333,\"#9c179e\"],[0.4444444444444444,\"#bd3786\"],[0.5555555555555556,\"#d8576b\"],[0.6666666666666666,\"#ed7953\"],[0.7777777777777778,\"#fb9f3a\"],[0.8888888888888888,\"#fdca26\"],[1.0,\"#f0f921\"]],\"sequentialminus\":[[0.0,\"#0d0887\"],[0.1111111111111111,\"#46039f\"],[0.2222222222222222,\"#7201a8\"],[0.3333333333333333,\"#9c179e\"],[0.4444444444444444,\"#bd3786\"],[0.5555555555555556,\"#d8576b\"],[0.6666666666666666,\"#ed7953\"],[0.7777777777777778,\"#fb9f3a\"],[0.8888888888888888,\"#fdca26\"],[1.0,\"#f0f921\"]],\"diverging\":[[0,\"#8e0152\"],[0.1,\"#c51b7d\"],[0.2,\"#de77ae\"],[0.3,\"#f1b6da\"],[0.4,\"#fde0ef\"],[0.5,\"#f7f7f7\"],[0.6,\"#e6f5d0\"],[0.7,\"#b8e186\"],[0.8,\"#7fbc41\"],[0.9,\"#4d9221\"],[1,\"#276419\"]]},\"xaxis\":{\"gridcolor\":\"white\",\"linecolor\":\"white\",\"ticks\":\"\",\"title\":{\"standoff\":15},\"zerolinecolor\":\"white\",\"automargin\":true,\"zerolinewidth\":2},\"yaxis\":{\"gridcolor\":\"white\",\"linecolor\":\"white\",\"ticks\":\"\",\"title\":{\"standoff\":15},\"zerolinecolor\":\"white\",\"automargin\":true,\"zerolinewidth\":2},\"scene\":{\"xaxis\":{\"backgroundcolor\":\"#E5ECF6\",\"gridcolor\":\"white\",\"linecolor\":\"white\",\"showbackground\":true,\"ticks\":\"\",\"zerolinecolor\":\"white\",\"gridwidth\":2},\"yaxis\":{\"backgroundcolor\":\"#E5ECF6\",\"gridcolor\":\"white\",\"linecolor\":\"white\",\"showbackground\":true,\"ticks\":\"\",\"zerolinecolor\":\"white\",\"gridwidth\":2},\"zaxis\":{\"backgroundcolor\":\"#E5ECF6\",\"gridcolor\":\"white\",\"linecolor\":\"white\",\"showbackground\":true,\"ticks\":\"\",\"zerolinecolor\":\"white\",\"gridwidth\":2}},\"shapedefaults\":{\"line\":{\"color\":\"#2a3f5f\"}},\"annotationdefaults\":{\"arrowcolor\":\"#2a3f5f\",\"arrowhead\":0,\"arrowwidth\":1},\"geo\":{\"bgcolor\":\"white\",\"landcolor\":\"#E5ECF6\",\"subunitcolor\":\"white\",\"showland\":true,\"showlakes\":true,\"lakecolor\":\"white\"},\"title\":{\"x\":0.05},\"mapbox\":{\"style\":\"light\"}}}},                        {\"responsive\": true}                    ).then(function(){\n",
       "                            \n",
       "var gd = document.getElementById('f8ebaabb-e471-4663-ad8c-241b19c5d4e7');\n",
       "var x = new MutationObserver(function (mutations, observer) {{\n",
       "        var display = window.getComputedStyle(gd).display;\n",
       "        if (!display || display === 'none') {{\n",
       "            console.log([gd, 'removed!']);\n",
       "            Plotly.purge(gd);\n",
       "            observer.disconnect();\n",
       "        }}\n",
       "}});\n",
       "\n",
       "// Listen for the removal of the full notebook cells\n",
       "var notebookContainer = gd.closest('#notebook-container');\n",
       "if (notebookContainer) {{\n",
       "    x.observe(notebookContainer, {childList: true});\n",
       "}}\n",
       "\n",
       "// Listen for the clearing of the current output cell\n",
       "var outputEl = gd.closest('.output');\n",
       "if (outputEl) {{\n",
       "    x.observe(outputEl, {childList: true});\n",
       "}}\n",
       "\n",
       "                        })                };                });            </script>        </div>"
      ]
     },
     "metadata": {},
     "output_type": "display_data"
    },
    {
     "name": "stdout",
     "output_type": "stream",
     "text": [
      "Dataset:  BenchLS\n",
      "Max length:  9\n",
      "(len, count) (sorted by count): [('24', 37), ('18', 35), ('25', 35), ('23', 35), ('20', 34), ('19', 34), ('14', 31), ('30', 30), ('17', 30), ('16', 30), ('28', 29), ('15', 29), ('31', 28), ('26', 27), ('21', 27), ('22', 27), ('27', 26), ('33', 25), ('34', 21), ('11', 20), ('32', 20), ('35', 19), ('13', 18), ('39', 17), ('37', 17), ('10', 17), ('12', 16), ('29', 15), ('42', 13), ('40', 12), ('36', 11), ('43', 10), ('49', 10), ('44', 9), ('45', 9), ('38', 9), ('9', 9), ('47', 8), ('41', 8), ('46', 8), ('48', 8), ('8', 6), ('58', 6), ('50', 6), ('7', 5), ('59', 4), ('55', 4), ('51', 4), ('56', 3), ('66', 3), ('62', 3), ('67', 3), ('52', 2), ('78', 2), ('54', 2), ('6', 2), ('57', 2), ('74', 2), ('61', 2), ('65', 2), ('79', 2), ('77', 1), ('73', 1), ('76', 1), ('64', 1), ('71', 1), ('60', 1), ('72', 1), ('100', 1), ('75', 1), ('53', 1), ('68', 1)]\n",
      "(len, count) (sorted by len):  [('100', 1), ('79', 2), ('78', 2), ('77', 1), ('76', 1), ('75', 1), ('74', 2), ('73', 1), ('72', 1), ('71', 1), ('68', 1), ('67', 3), ('66', 3), ('65', 2), ('64', 1), ('62', 3), ('61', 2), ('60', 1), ('59', 4), ('58', 6), ('57', 2), ('56', 3), ('55', 4), ('54', 2), ('53', 1), ('52', 2), ('51', 4), ('50', 6), ('49', 10), ('48', 8), ('47', 8), ('46', 8), ('45', 9), ('44', 9), ('43', 10), ('42', 13), ('41', 8), ('40', 12), ('39', 17), ('38', 9), ('37', 17), ('36', 11), ('35', 19), ('34', 21), ('33', 25), ('32', 20), ('31', 28), ('30', 30), ('29', 15), ('28', 29), ('27', 26), ('26', 27), ('25', 35), ('24', 37), ('23', 35), ('22', 27), ('21', 27), ('20', 34), ('19', 34), ('18', 35), ('17', 30), ('16', 30), ('15', 29), ('14', 31), ('13', 18), ('12', 16), ('11', 20), ('10', 17), ('9', 9), ('8', 6), ('7', 5), ('6', 2)]\n"
     ]
    },
    {
     "data": {
      "application/vnd.plotly.v1+json": {
       "config": {
        "plotlyServerURL": "https://plot.ly"
       },
       "data": [
        {
         "orientation": "v",
         "type": "bar",
         "x": [
          "18",
          "30",
          "15",
          "24",
          "20",
          "25",
          "19",
          "23",
          "27",
          "17",
          "28",
          "22",
          "14",
          "16",
          "26",
          "31",
          "21",
          "13",
          "33",
          "29",
          "11",
          "12",
          "37",
          "10",
          "32",
          "39",
          "35",
          "36",
          "34",
          "38",
          "8",
          "44",
          "45",
          "47",
          "41",
          "40",
          "43",
          "42",
          "9",
          "49",
          "48",
          "58",
          "52",
          "54",
          "6",
          "46",
          "74",
          "60",
          "56",
          "78",
          "59",
          "50",
          "66",
          "57",
          "77",
          "73",
          "76",
          "55",
          "7",
          "64",
          "71",
          "51",
          "65"
         ],
         "y": [
          24,
          22,
          22,
          21,
          21,
          21,
          21,
          20,
          19,
          18,
          17,
          17,
          17,
          16,
          15,
          14,
          13,
          11,
          11,
          10,
          9,
          9,
          9,
          9,
          9,
          9,
          7,
          7,
          7,
          4,
          4,
          4,
          4,
          4,
          4,
          4,
          4,
          4,
          4,
          3,
          3,
          2,
          2,
          2,
          2,
          2,
          2,
          2,
          1,
          1,
          1,
          1,
          1,
          1,
          1,
          1,
          1,
          1,
          1,
          1,
          1,
          1,
          1
         ]
        }
       ],
       "layout": {
        "template": {
         "data": {
          "bar": [
           {
            "error_x": {
             "color": "#2a3f5f"
            },
            "error_y": {
             "color": "#2a3f5f"
            },
            "marker": {
             "line": {
              "color": "#E5ECF6",
              "width": 0.5
             },
             "pattern": {
              "fillmode": "overlay",
              "size": 10,
              "solidity": 0.2
             }
            },
            "type": "bar"
           }
          ],
          "barpolar": [
           {
            "marker": {
             "line": {
              "color": "#E5ECF6",
              "width": 0.5
             },
             "pattern": {
              "fillmode": "overlay",
              "size": 10,
              "solidity": 0.2
             }
            },
            "type": "barpolar"
           }
          ],
          "carpet": [
           {
            "aaxis": {
             "endlinecolor": "#2a3f5f",
             "gridcolor": "white",
             "linecolor": "white",
             "minorgridcolor": "white",
             "startlinecolor": "#2a3f5f"
            },
            "baxis": {
             "endlinecolor": "#2a3f5f",
             "gridcolor": "white",
             "linecolor": "white",
             "minorgridcolor": "white",
             "startlinecolor": "#2a3f5f"
            },
            "type": "carpet"
           }
          ],
          "choropleth": [
           {
            "colorbar": {
             "outlinewidth": 0,
             "ticks": ""
            },
            "type": "choropleth"
           }
          ],
          "contour": [
           {
            "colorbar": {
             "outlinewidth": 0,
             "ticks": ""
            },
            "colorscale": [
             [
              0,
              "#0d0887"
             ],
             [
              0.1111111111111111,
              "#46039f"
             ],
             [
              0.2222222222222222,
              "#7201a8"
             ],
             [
              0.3333333333333333,
              "#9c179e"
             ],
             [
              0.4444444444444444,
              "#bd3786"
             ],
             [
              0.5555555555555556,
              "#d8576b"
             ],
             [
              0.6666666666666666,
              "#ed7953"
             ],
             [
              0.7777777777777778,
              "#fb9f3a"
             ],
             [
              0.8888888888888888,
              "#fdca26"
             ],
             [
              1,
              "#f0f921"
             ]
            ],
            "type": "contour"
           }
          ],
          "contourcarpet": [
           {
            "colorbar": {
             "outlinewidth": 0,
             "ticks": ""
            },
            "type": "contourcarpet"
           }
          ],
          "heatmap": [
           {
            "colorbar": {
             "outlinewidth": 0,
             "ticks": ""
            },
            "colorscale": [
             [
              0,
              "#0d0887"
             ],
             [
              0.1111111111111111,
              "#46039f"
             ],
             [
              0.2222222222222222,
              "#7201a8"
             ],
             [
              0.3333333333333333,
              "#9c179e"
             ],
             [
              0.4444444444444444,
              "#bd3786"
             ],
             [
              0.5555555555555556,
              "#d8576b"
             ],
             [
              0.6666666666666666,
              "#ed7953"
             ],
             [
              0.7777777777777778,
              "#fb9f3a"
             ],
             [
              0.8888888888888888,
              "#fdca26"
             ],
             [
              1,
              "#f0f921"
             ]
            ],
            "type": "heatmap"
           }
          ],
          "heatmapgl": [
           {
            "colorbar": {
             "outlinewidth": 0,
             "ticks": ""
            },
            "colorscale": [
             [
              0,
              "#0d0887"
             ],
             [
              0.1111111111111111,
              "#46039f"
             ],
             [
              0.2222222222222222,
              "#7201a8"
             ],
             [
              0.3333333333333333,
              "#9c179e"
             ],
             [
              0.4444444444444444,
              "#bd3786"
             ],
             [
              0.5555555555555556,
              "#d8576b"
             ],
             [
              0.6666666666666666,
              "#ed7953"
             ],
             [
              0.7777777777777778,
              "#fb9f3a"
             ],
             [
              0.8888888888888888,
              "#fdca26"
             ],
             [
              1,
              "#f0f921"
             ]
            ],
            "type": "heatmapgl"
           }
          ],
          "histogram": [
           {
            "marker": {
             "pattern": {
              "fillmode": "overlay",
              "size": 10,
              "solidity": 0.2
             }
            },
            "type": "histogram"
           }
          ],
          "histogram2d": [
           {
            "colorbar": {
             "outlinewidth": 0,
             "ticks": ""
            },
            "colorscale": [
             [
              0,
              "#0d0887"
             ],
             [
              0.1111111111111111,
              "#46039f"
             ],
             [
              0.2222222222222222,
              "#7201a8"
             ],
             [
              0.3333333333333333,
              "#9c179e"
             ],
             [
              0.4444444444444444,
              "#bd3786"
             ],
             [
              0.5555555555555556,
              "#d8576b"
             ],
             [
              0.6666666666666666,
              "#ed7953"
             ],
             [
              0.7777777777777778,
              "#fb9f3a"
             ],
             [
              0.8888888888888888,
              "#fdca26"
             ],
             [
              1,
              "#f0f921"
             ]
            ],
            "type": "histogram2d"
           }
          ],
          "histogram2dcontour": [
           {
            "colorbar": {
             "outlinewidth": 0,
             "ticks": ""
            },
            "colorscale": [
             [
              0,
              "#0d0887"
             ],
             [
              0.1111111111111111,
              "#46039f"
             ],
             [
              0.2222222222222222,
              "#7201a8"
             ],
             [
              0.3333333333333333,
              "#9c179e"
             ],
             [
              0.4444444444444444,
              "#bd3786"
             ],
             [
              0.5555555555555556,
              "#d8576b"
             ],
             [
              0.6666666666666666,
              "#ed7953"
             ],
             [
              0.7777777777777778,
              "#fb9f3a"
             ],
             [
              0.8888888888888888,
              "#fdca26"
             ],
             [
              1,
              "#f0f921"
             ]
            ],
            "type": "histogram2dcontour"
           }
          ],
          "mesh3d": [
           {
            "colorbar": {
             "outlinewidth": 0,
             "ticks": ""
            },
            "type": "mesh3d"
           }
          ],
          "parcoords": [
           {
            "line": {
             "colorbar": {
              "outlinewidth": 0,
              "ticks": ""
             }
            },
            "type": "parcoords"
           }
          ],
          "pie": [
           {
            "automargin": true,
            "type": "pie"
           }
          ],
          "scatter": [
           {
            "fillpattern": {
             "fillmode": "overlay",
             "size": 10,
             "solidity": 0.2
            },
            "type": "scatter"
           }
          ],
          "scatter3d": [
           {
            "line": {
             "colorbar": {
              "outlinewidth": 0,
              "ticks": ""
             }
            },
            "marker": {
             "colorbar": {
              "outlinewidth": 0,
              "ticks": ""
             }
            },
            "type": "scatter3d"
           }
          ],
          "scattercarpet": [
           {
            "marker": {
             "colorbar": {
              "outlinewidth": 0,
              "ticks": ""
             }
            },
            "type": "scattercarpet"
           }
          ],
          "scattergeo": [
           {
            "marker": {
             "colorbar": {
              "outlinewidth": 0,
              "ticks": ""
             }
            },
            "type": "scattergeo"
           }
          ],
          "scattergl": [
           {
            "marker": {
             "colorbar": {
              "outlinewidth": 0,
              "ticks": ""
             }
            },
            "type": "scattergl"
           }
          ],
          "scattermapbox": [
           {
            "marker": {
             "colorbar": {
              "outlinewidth": 0,
              "ticks": ""
             }
            },
            "type": "scattermapbox"
           }
          ],
          "scatterpolar": [
           {
            "marker": {
             "colorbar": {
              "outlinewidth": 0,
              "ticks": ""
             }
            },
            "type": "scatterpolar"
           }
          ],
          "scatterpolargl": [
           {
            "marker": {
             "colorbar": {
              "outlinewidth": 0,
              "ticks": ""
             }
            },
            "type": "scatterpolargl"
           }
          ],
          "scatterternary": [
           {
            "marker": {
             "colorbar": {
              "outlinewidth": 0,
              "ticks": ""
             }
            },
            "type": "scatterternary"
           }
          ],
          "surface": [
           {
            "colorbar": {
             "outlinewidth": 0,
             "ticks": ""
            },
            "colorscale": [
             [
              0,
              "#0d0887"
             ],
             [
              0.1111111111111111,
              "#46039f"
             ],
             [
              0.2222222222222222,
              "#7201a8"
             ],
             [
              0.3333333333333333,
              "#9c179e"
             ],
             [
              0.4444444444444444,
              "#bd3786"
             ],
             [
              0.5555555555555556,
              "#d8576b"
             ],
             [
              0.6666666666666666,
              "#ed7953"
             ],
             [
              0.7777777777777778,
              "#fb9f3a"
             ],
             [
              0.8888888888888888,
              "#fdca26"
             ],
             [
              1,
              "#f0f921"
             ]
            ],
            "type": "surface"
           }
          ],
          "table": [
           {
            "cells": {
             "fill": {
              "color": "#EBF0F8"
             },
             "line": {
              "color": "white"
             }
            },
            "header": {
             "fill": {
              "color": "#C8D4E3"
             },
             "line": {
              "color": "white"
             }
            },
            "type": "table"
           }
          ]
         },
         "layout": {
          "annotationdefaults": {
           "arrowcolor": "#2a3f5f",
           "arrowhead": 0,
           "arrowwidth": 1
          },
          "autotypenumbers": "strict",
          "coloraxis": {
           "colorbar": {
            "outlinewidth": 0,
            "ticks": ""
           }
          },
          "colorscale": {
           "diverging": [
            [
             0,
             "#8e0152"
            ],
            [
             0.1,
             "#c51b7d"
            ],
            [
             0.2,
             "#de77ae"
            ],
            [
             0.3,
             "#f1b6da"
            ],
            [
             0.4,
             "#fde0ef"
            ],
            [
             0.5,
             "#f7f7f7"
            ],
            [
             0.6,
             "#e6f5d0"
            ],
            [
             0.7,
             "#b8e186"
            ],
            [
             0.8,
             "#7fbc41"
            ],
            [
             0.9,
             "#4d9221"
            ],
            [
             1,
             "#276419"
            ]
           ],
           "sequential": [
            [
             0,
             "#0d0887"
            ],
            [
             0.1111111111111111,
             "#46039f"
            ],
            [
             0.2222222222222222,
             "#7201a8"
            ],
            [
             0.3333333333333333,
             "#9c179e"
            ],
            [
             0.4444444444444444,
             "#bd3786"
            ],
            [
             0.5555555555555556,
             "#d8576b"
            ],
            [
             0.6666666666666666,
             "#ed7953"
            ],
            [
             0.7777777777777778,
             "#fb9f3a"
            ],
            [
             0.8888888888888888,
             "#fdca26"
            ],
            [
             1,
             "#f0f921"
            ]
           ],
           "sequentialminus": [
            [
             0,
             "#0d0887"
            ],
            [
             0.1111111111111111,
             "#46039f"
            ],
            [
             0.2222222222222222,
             "#7201a8"
            ],
            [
             0.3333333333333333,
             "#9c179e"
            ],
            [
             0.4444444444444444,
             "#bd3786"
            ],
            [
             0.5555555555555556,
             "#d8576b"
            ],
            [
             0.6666666666666666,
             "#ed7953"
            ],
            [
             0.7777777777777778,
             "#fb9f3a"
            ],
            [
             0.8888888888888888,
             "#fdca26"
            ],
            [
             1,
             "#f0f921"
            ]
           ]
          },
          "colorway": [
           "#636efa",
           "#EF553B",
           "#00cc96",
           "#ab63fa",
           "#FFA15A",
           "#19d3f3",
           "#FF6692",
           "#B6E880",
           "#FF97FF",
           "#FECB52"
          ],
          "font": {
           "color": "#2a3f5f"
          },
          "geo": {
           "bgcolor": "white",
           "lakecolor": "white",
           "landcolor": "#E5ECF6",
           "showlakes": true,
           "showland": true,
           "subunitcolor": "white"
          },
          "hoverlabel": {
           "align": "left"
          },
          "hovermode": "closest",
          "mapbox": {
           "style": "light"
          },
          "paper_bgcolor": "white",
          "plot_bgcolor": "#E5ECF6",
          "polar": {
           "angularaxis": {
            "gridcolor": "white",
            "linecolor": "white",
            "ticks": ""
           },
           "bgcolor": "#E5ECF6",
           "radialaxis": {
            "gridcolor": "white",
            "linecolor": "white",
            "ticks": ""
           }
          },
          "scene": {
           "xaxis": {
            "backgroundcolor": "#E5ECF6",
            "gridcolor": "white",
            "gridwidth": 2,
            "linecolor": "white",
            "showbackground": true,
            "ticks": "",
            "zerolinecolor": "white"
           },
           "yaxis": {
            "backgroundcolor": "#E5ECF6",
            "gridcolor": "white",
            "gridwidth": 2,
            "linecolor": "white",
            "showbackground": true,
            "ticks": "",
            "zerolinecolor": "white"
           },
           "zaxis": {
            "backgroundcolor": "#E5ECF6",
            "gridcolor": "white",
            "gridwidth": 2,
            "linecolor": "white",
            "showbackground": true,
            "ticks": "",
            "zerolinecolor": "white"
           }
          },
          "shapedefaults": {
           "line": {
            "color": "#2a3f5f"
           }
          },
          "ternary": {
           "aaxis": {
            "gridcolor": "white",
            "linecolor": "white",
            "ticks": ""
           },
           "baxis": {
            "gridcolor": "white",
            "linecolor": "white",
            "ticks": ""
           },
           "bgcolor": "#E5ECF6",
           "caxis": {
            "gridcolor": "white",
            "linecolor": "white",
            "ticks": ""
           }
          },
          "title": {
           "x": 0.05
          },
          "xaxis": {
           "automargin": true,
           "gridcolor": "white",
           "linecolor": "white",
           "ticks": "",
           "title": {
            "standoff": 15
           },
           "zerolinecolor": "white",
           "zerolinewidth": 2
          },
          "yaxis": {
           "automargin": true,
           "gridcolor": "white",
           "linecolor": "white",
           "ticks": "",
           "title": {
            "standoff": 15
           },
           "zerolinecolor": "white",
           "zerolinewidth": 2
          }
         }
        }
       }
      },
      "text/html": [
       "<div>                            <div id=\"44f9ffb8-5e41-4503-8b52-164da2aed511\" class=\"plotly-graph-div\" style=\"height:525px; width:100%;\"></div>            <script type=\"text/javascript\">                require([\"plotly\"], function(Plotly) {                    window.PLOTLYENV=window.PLOTLYENV || {};                                    if (document.getElementById(\"44f9ffb8-5e41-4503-8b52-164da2aed511\")) {                    Plotly.newPlot(                        \"44f9ffb8-5e41-4503-8b52-164da2aed511\",                        [{\"orientation\":\"v\",\"x\":[\"18\",\"30\",\"15\",\"24\",\"20\",\"25\",\"19\",\"23\",\"27\",\"17\",\"28\",\"22\",\"14\",\"16\",\"26\",\"31\",\"21\",\"13\",\"33\",\"29\",\"11\",\"12\",\"37\",\"10\",\"32\",\"39\",\"35\",\"36\",\"34\",\"38\",\"8\",\"44\",\"45\",\"47\",\"41\",\"40\",\"43\",\"42\",\"9\",\"49\",\"48\",\"58\",\"52\",\"54\",\"6\",\"46\",\"74\",\"60\",\"56\",\"78\",\"59\",\"50\",\"66\",\"57\",\"77\",\"73\",\"76\",\"55\",\"7\",\"64\",\"71\",\"51\",\"65\"],\"y\":[24,22,22,21,21,21,21,20,19,18,17,17,17,16,15,14,13,11,11,10,9,9,9,9,9,9,7,7,7,4,4,4,4,4,4,4,4,4,4,3,3,2,2,2,2,2,2,2,1,1,1,1,1,1,1,1,1,1,1,1,1,1,1],\"type\":\"bar\"}],                        {\"template\":{\"data\":{\"histogram2dcontour\":[{\"type\":\"histogram2dcontour\",\"colorbar\":{\"outlinewidth\":0,\"ticks\":\"\"},\"colorscale\":[[0.0,\"#0d0887\"],[0.1111111111111111,\"#46039f\"],[0.2222222222222222,\"#7201a8\"],[0.3333333333333333,\"#9c179e\"],[0.4444444444444444,\"#bd3786\"],[0.5555555555555556,\"#d8576b\"],[0.6666666666666666,\"#ed7953\"],[0.7777777777777778,\"#fb9f3a\"],[0.8888888888888888,\"#fdca26\"],[1.0,\"#f0f921\"]]}],\"choropleth\":[{\"type\":\"choropleth\",\"colorbar\":{\"outlinewidth\":0,\"ticks\":\"\"}}],\"histogram2d\":[{\"type\":\"histogram2d\",\"colorbar\":{\"outlinewidth\":0,\"ticks\":\"\"},\"colorscale\":[[0.0,\"#0d0887\"],[0.1111111111111111,\"#46039f\"],[0.2222222222222222,\"#7201a8\"],[0.3333333333333333,\"#9c179e\"],[0.4444444444444444,\"#bd3786\"],[0.5555555555555556,\"#d8576b\"],[0.6666666666666666,\"#ed7953\"],[0.7777777777777778,\"#fb9f3a\"],[0.8888888888888888,\"#fdca26\"],[1.0,\"#f0f921\"]]}],\"heatmap\":[{\"type\":\"heatmap\",\"colorbar\":{\"outlinewidth\":0,\"ticks\":\"\"},\"colorscale\":[[0.0,\"#0d0887\"],[0.1111111111111111,\"#46039f\"],[0.2222222222222222,\"#7201a8\"],[0.3333333333333333,\"#9c179e\"],[0.4444444444444444,\"#bd3786\"],[0.5555555555555556,\"#d8576b\"],[0.6666666666666666,\"#ed7953\"],[0.7777777777777778,\"#fb9f3a\"],[0.8888888888888888,\"#fdca26\"],[1.0,\"#f0f921\"]]}],\"heatmapgl\":[{\"type\":\"heatmapgl\",\"colorbar\":{\"outlinewidth\":0,\"ticks\":\"\"},\"colorscale\":[[0.0,\"#0d0887\"],[0.1111111111111111,\"#46039f\"],[0.2222222222222222,\"#7201a8\"],[0.3333333333333333,\"#9c179e\"],[0.4444444444444444,\"#bd3786\"],[0.5555555555555556,\"#d8576b\"],[0.6666666666666666,\"#ed7953\"],[0.7777777777777778,\"#fb9f3a\"],[0.8888888888888888,\"#fdca26\"],[1.0,\"#f0f921\"]]}],\"contourcarpet\":[{\"type\":\"contourcarpet\",\"colorbar\":{\"outlinewidth\":0,\"ticks\":\"\"}}],\"contour\":[{\"type\":\"contour\",\"colorbar\":{\"outlinewidth\":0,\"ticks\":\"\"},\"colorscale\":[[0.0,\"#0d0887\"],[0.1111111111111111,\"#46039f\"],[0.2222222222222222,\"#7201a8\"],[0.3333333333333333,\"#9c179e\"],[0.4444444444444444,\"#bd3786\"],[0.5555555555555556,\"#d8576b\"],[0.6666666666666666,\"#ed7953\"],[0.7777777777777778,\"#fb9f3a\"],[0.8888888888888888,\"#fdca26\"],[1.0,\"#f0f921\"]]}],\"surface\":[{\"type\":\"surface\",\"colorbar\":{\"outlinewidth\":0,\"ticks\":\"\"},\"colorscale\":[[0.0,\"#0d0887\"],[0.1111111111111111,\"#46039f\"],[0.2222222222222222,\"#7201a8\"],[0.3333333333333333,\"#9c179e\"],[0.4444444444444444,\"#bd3786\"],[0.5555555555555556,\"#d8576b\"],[0.6666666666666666,\"#ed7953\"],[0.7777777777777778,\"#fb9f3a\"],[0.8888888888888888,\"#fdca26\"],[1.0,\"#f0f921\"]]}],\"mesh3d\":[{\"type\":\"mesh3d\",\"colorbar\":{\"outlinewidth\":0,\"ticks\":\"\"}}],\"scatter\":[{\"fillpattern\":{\"fillmode\":\"overlay\",\"size\":10,\"solidity\":0.2},\"type\":\"scatter\"}],\"parcoords\":[{\"type\":\"parcoords\",\"line\":{\"colorbar\":{\"outlinewidth\":0,\"ticks\":\"\"}}}],\"scatterpolargl\":[{\"type\":\"scatterpolargl\",\"marker\":{\"colorbar\":{\"outlinewidth\":0,\"ticks\":\"\"}}}],\"bar\":[{\"error_x\":{\"color\":\"#2a3f5f\"},\"error_y\":{\"color\":\"#2a3f5f\"},\"marker\":{\"line\":{\"color\":\"#E5ECF6\",\"width\":0.5},\"pattern\":{\"fillmode\":\"overlay\",\"size\":10,\"solidity\":0.2}},\"type\":\"bar\"}],\"scattergeo\":[{\"type\":\"scattergeo\",\"marker\":{\"colorbar\":{\"outlinewidth\":0,\"ticks\":\"\"}}}],\"scatterpolar\":[{\"type\":\"scatterpolar\",\"marker\":{\"colorbar\":{\"outlinewidth\":0,\"ticks\":\"\"}}}],\"histogram\":[{\"marker\":{\"pattern\":{\"fillmode\":\"overlay\",\"size\":10,\"solidity\":0.2}},\"type\":\"histogram\"}],\"scattergl\":[{\"type\":\"scattergl\",\"marker\":{\"colorbar\":{\"outlinewidth\":0,\"ticks\":\"\"}}}],\"scatter3d\":[{\"type\":\"scatter3d\",\"line\":{\"colorbar\":{\"outlinewidth\":0,\"ticks\":\"\"}},\"marker\":{\"colorbar\":{\"outlinewidth\":0,\"ticks\":\"\"}}}],\"scattermapbox\":[{\"type\":\"scattermapbox\",\"marker\":{\"colorbar\":{\"outlinewidth\":0,\"ticks\":\"\"}}}],\"scatterternary\":[{\"type\":\"scatterternary\",\"marker\":{\"colorbar\":{\"outlinewidth\":0,\"ticks\":\"\"}}}],\"scattercarpet\":[{\"type\":\"scattercarpet\",\"marker\":{\"colorbar\":{\"outlinewidth\":0,\"ticks\":\"\"}}}],\"carpet\":[{\"aaxis\":{\"endlinecolor\":\"#2a3f5f\",\"gridcolor\":\"white\",\"linecolor\":\"white\",\"minorgridcolor\":\"white\",\"startlinecolor\":\"#2a3f5f\"},\"baxis\":{\"endlinecolor\":\"#2a3f5f\",\"gridcolor\":\"white\",\"linecolor\":\"white\",\"minorgridcolor\":\"white\",\"startlinecolor\":\"#2a3f5f\"},\"type\":\"carpet\"}],\"table\":[{\"cells\":{\"fill\":{\"color\":\"#EBF0F8\"},\"line\":{\"color\":\"white\"}},\"header\":{\"fill\":{\"color\":\"#C8D4E3\"},\"line\":{\"color\":\"white\"}},\"type\":\"table\"}],\"barpolar\":[{\"marker\":{\"line\":{\"color\":\"#E5ECF6\",\"width\":0.5},\"pattern\":{\"fillmode\":\"overlay\",\"size\":10,\"solidity\":0.2}},\"type\":\"barpolar\"}],\"pie\":[{\"automargin\":true,\"type\":\"pie\"}]},\"layout\":{\"autotypenumbers\":\"strict\",\"colorway\":[\"#636efa\",\"#EF553B\",\"#00cc96\",\"#ab63fa\",\"#FFA15A\",\"#19d3f3\",\"#FF6692\",\"#B6E880\",\"#FF97FF\",\"#FECB52\"],\"font\":{\"color\":\"#2a3f5f\"},\"hovermode\":\"closest\",\"hoverlabel\":{\"align\":\"left\"},\"paper_bgcolor\":\"white\",\"plot_bgcolor\":\"#E5ECF6\",\"polar\":{\"bgcolor\":\"#E5ECF6\",\"angularaxis\":{\"gridcolor\":\"white\",\"linecolor\":\"white\",\"ticks\":\"\"},\"radialaxis\":{\"gridcolor\":\"white\",\"linecolor\":\"white\",\"ticks\":\"\"}},\"ternary\":{\"bgcolor\":\"#E5ECF6\",\"aaxis\":{\"gridcolor\":\"white\",\"linecolor\":\"white\",\"ticks\":\"\"},\"baxis\":{\"gridcolor\":\"white\",\"linecolor\":\"white\",\"ticks\":\"\"},\"caxis\":{\"gridcolor\":\"white\",\"linecolor\":\"white\",\"ticks\":\"\"}},\"coloraxis\":{\"colorbar\":{\"outlinewidth\":0,\"ticks\":\"\"}},\"colorscale\":{\"sequential\":[[0.0,\"#0d0887\"],[0.1111111111111111,\"#46039f\"],[0.2222222222222222,\"#7201a8\"],[0.3333333333333333,\"#9c179e\"],[0.4444444444444444,\"#bd3786\"],[0.5555555555555556,\"#d8576b\"],[0.6666666666666666,\"#ed7953\"],[0.7777777777777778,\"#fb9f3a\"],[0.8888888888888888,\"#fdca26\"],[1.0,\"#f0f921\"]],\"sequentialminus\":[[0.0,\"#0d0887\"],[0.1111111111111111,\"#46039f\"],[0.2222222222222222,\"#7201a8\"],[0.3333333333333333,\"#9c179e\"],[0.4444444444444444,\"#bd3786\"],[0.5555555555555556,\"#d8576b\"],[0.6666666666666666,\"#ed7953\"],[0.7777777777777778,\"#fb9f3a\"],[0.8888888888888888,\"#fdca26\"],[1.0,\"#f0f921\"]],\"diverging\":[[0,\"#8e0152\"],[0.1,\"#c51b7d\"],[0.2,\"#de77ae\"],[0.3,\"#f1b6da\"],[0.4,\"#fde0ef\"],[0.5,\"#f7f7f7\"],[0.6,\"#e6f5d0\"],[0.7,\"#b8e186\"],[0.8,\"#7fbc41\"],[0.9,\"#4d9221\"],[1,\"#276419\"]]},\"xaxis\":{\"gridcolor\":\"white\",\"linecolor\":\"white\",\"ticks\":\"\",\"title\":{\"standoff\":15},\"zerolinecolor\":\"white\",\"automargin\":true,\"zerolinewidth\":2},\"yaxis\":{\"gridcolor\":\"white\",\"linecolor\":\"white\",\"ticks\":\"\",\"title\":{\"standoff\":15},\"zerolinecolor\":\"white\",\"automargin\":true,\"zerolinewidth\":2},\"scene\":{\"xaxis\":{\"backgroundcolor\":\"#E5ECF6\",\"gridcolor\":\"white\",\"linecolor\":\"white\",\"showbackground\":true,\"ticks\":\"\",\"zerolinecolor\":\"white\",\"gridwidth\":2},\"yaxis\":{\"backgroundcolor\":\"#E5ECF6\",\"gridcolor\":\"white\",\"linecolor\":\"white\",\"showbackground\":true,\"ticks\":\"\",\"zerolinecolor\":\"white\",\"gridwidth\":2},\"zaxis\":{\"backgroundcolor\":\"#E5ECF6\",\"gridcolor\":\"white\",\"linecolor\":\"white\",\"showbackground\":true,\"ticks\":\"\",\"zerolinecolor\":\"white\",\"gridwidth\":2}},\"shapedefaults\":{\"line\":{\"color\":\"#2a3f5f\"}},\"annotationdefaults\":{\"arrowcolor\":\"#2a3f5f\",\"arrowhead\":0,\"arrowwidth\":1},\"geo\":{\"bgcolor\":\"white\",\"landcolor\":\"#E5ECF6\",\"subunitcolor\":\"white\",\"showland\":true,\"showlakes\":true,\"lakecolor\":\"white\"},\"title\":{\"x\":0.05},\"mapbox\":{\"style\":\"light\"}}}},                        {\"responsive\": true}                    ).then(function(){\n",
       "                            \n",
       "var gd = document.getElementById('44f9ffb8-5e41-4503-8b52-164da2aed511');\n",
       "var x = new MutationObserver(function (mutations, observer) {{\n",
       "        var display = window.getComputedStyle(gd).display;\n",
       "        if (!display || display === 'none') {{\n",
       "            console.log([gd, 'removed!']);\n",
       "            Plotly.purge(gd);\n",
       "            observer.disconnect();\n",
       "        }}\n",
       "}});\n",
       "\n",
       "// Listen for the removal of the full notebook cells\n",
       "var notebookContainer = gd.closest('#notebook-container');\n",
       "if (notebookContainer) {{\n",
       "    x.observe(notebookContainer, {childList: true});\n",
       "}}\n",
       "\n",
       "// Listen for the clearing of the current output cell\n",
       "var outputEl = gd.closest('.output');\n",
       "if (outputEl) {{\n",
       "    x.observe(outputEl, {childList: true});\n",
       "}}\n",
       "\n",
       "                        })                };                });            </script>        </div>"
      ]
     },
     "metadata": {},
     "output_type": "display_data"
    },
    {
     "name": "stdout",
     "output_type": "stream",
     "text": [
      "Dataset:  lex.mturk\n",
      "Max length:  9\n",
      "(len, count) (sorted by count): [('18', 24), ('30', 22), ('15', 22), ('24', 21), ('20', 21), ('25', 21), ('19', 21), ('23', 20), ('27', 19), ('17', 18), ('28', 17), ('22', 17), ('14', 17), ('16', 16), ('26', 15), ('31', 14), ('21', 13), ('13', 11), ('33', 11), ('29', 10), ('11', 9), ('12', 9), ('37', 9), ('10', 9), ('32', 9), ('39', 9), ('35', 7), ('36', 7), ('34', 7), ('38', 4), ('8', 4), ('44', 4), ('45', 4), ('47', 4), ('41', 4), ('40', 4), ('43', 4), ('42', 4), ('9', 4), ('49', 3), ('48', 3), ('58', 2), ('52', 2), ('54', 2), ('6', 2), ('46', 2), ('74', 2), ('60', 2), ('56', 1), ('78', 1), ('59', 1), ('50', 1), ('66', 1), ('57', 1), ('77', 1), ('73', 1), ('76', 1), ('55', 1), ('7', 1), ('64', 1), ('71', 1), ('51', 1), ('65', 1)]\n",
      "(len, count) (sorted by len):  [('78', 1), ('77', 1), ('76', 1), ('74', 2), ('73', 1), ('71', 1), ('66', 1), ('65', 1), ('64', 1), ('60', 2), ('59', 1), ('58', 2), ('57', 1), ('56', 1), ('55', 1), ('54', 2), ('52', 2), ('51', 1), ('50', 1), ('49', 3), ('48', 3), ('47', 4), ('46', 2), ('45', 4), ('44', 4), ('43', 4), ('42', 4), ('41', 4), ('40', 4), ('39', 9), ('38', 4), ('37', 9), ('36', 7), ('35', 7), ('34', 7), ('33', 11), ('32', 9), ('31', 14), ('30', 22), ('29', 10), ('28', 17), ('27', 19), ('26', 15), ('25', 21), ('24', 21), ('23', 20), ('22', 17), ('21', 13), ('20', 21), ('19', 21), ('18', 24), ('17', 18), ('16', 16), ('15', 22), ('14', 17), ('13', 11), ('12', 9), ('11', 9), ('10', 9), ('9', 4), ('8', 4), ('7', 1), ('6', 2)]\n"
     ]
    },
    {
     "data": {
      "application/vnd.plotly.v1+json": {
       "config": {
        "plotlyServerURL": "https://plot.ly"
       },
       "data": [
        {
         "orientation": "v",
         "type": "bar",
         "x": [
          "30",
          "25",
          "28",
          "24",
          "20",
          "15",
          "14",
          "26",
          "21",
          "22",
          "23",
          "31",
          "27",
          "12",
          "29",
          "10",
          "33",
          "35",
          "19",
          "42",
          "39",
          "17",
          "16",
          "43",
          "37",
          "18",
          "38",
          "32",
          "48",
          "45",
          "41",
          "8",
          "40",
          "11",
          "44",
          "46",
          "58",
          "34",
          "55",
          "49",
          "57",
          "36",
          "74",
          "65",
          "67",
          "13",
          "59",
          "50",
          "51",
          "78",
          "7",
          "66",
          "68"
         ],
         "y": [
          13,
          13,
          12,
          12,
          12,
          11,
          10,
          9,
          9,
          9,
          8,
          8,
          7,
          6,
          6,
          6,
          6,
          5,
          5,
          5,
          5,
          4,
          4,
          4,
          3,
          3,
          3,
          3,
          3,
          2,
          2,
          2,
          2,
          2,
          2,
          2,
          2,
          2,
          2,
          2,
          1,
          1,
          1,
          1,
          1,
          1,
          1,
          1,
          1,
          1,
          1,
          1,
          1
         ]
        }
       ],
       "layout": {
        "template": {
         "data": {
          "bar": [
           {
            "error_x": {
             "color": "#2a3f5f"
            },
            "error_y": {
             "color": "#2a3f5f"
            },
            "marker": {
             "line": {
              "color": "#E5ECF6",
              "width": 0.5
             },
             "pattern": {
              "fillmode": "overlay",
              "size": 10,
              "solidity": 0.2
             }
            },
            "type": "bar"
           }
          ],
          "barpolar": [
           {
            "marker": {
             "line": {
              "color": "#E5ECF6",
              "width": 0.5
             },
             "pattern": {
              "fillmode": "overlay",
              "size": 10,
              "solidity": 0.2
             }
            },
            "type": "barpolar"
           }
          ],
          "carpet": [
           {
            "aaxis": {
             "endlinecolor": "#2a3f5f",
             "gridcolor": "white",
             "linecolor": "white",
             "minorgridcolor": "white",
             "startlinecolor": "#2a3f5f"
            },
            "baxis": {
             "endlinecolor": "#2a3f5f",
             "gridcolor": "white",
             "linecolor": "white",
             "minorgridcolor": "white",
             "startlinecolor": "#2a3f5f"
            },
            "type": "carpet"
           }
          ],
          "choropleth": [
           {
            "colorbar": {
             "outlinewidth": 0,
             "ticks": ""
            },
            "type": "choropleth"
           }
          ],
          "contour": [
           {
            "colorbar": {
             "outlinewidth": 0,
             "ticks": ""
            },
            "colorscale": [
             [
              0,
              "#0d0887"
             ],
             [
              0.1111111111111111,
              "#46039f"
             ],
             [
              0.2222222222222222,
              "#7201a8"
             ],
             [
              0.3333333333333333,
              "#9c179e"
             ],
             [
              0.4444444444444444,
              "#bd3786"
             ],
             [
              0.5555555555555556,
              "#d8576b"
             ],
             [
              0.6666666666666666,
              "#ed7953"
             ],
             [
              0.7777777777777778,
              "#fb9f3a"
             ],
             [
              0.8888888888888888,
              "#fdca26"
             ],
             [
              1,
              "#f0f921"
             ]
            ],
            "type": "contour"
           }
          ],
          "contourcarpet": [
           {
            "colorbar": {
             "outlinewidth": 0,
             "ticks": ""
            },
            "type": "contourcarpet"
           }
          ],
          "heatmap": [
           {
            "colorbar": {
             "outlinewidth": 0,
             "ticks": ""
            },
            "colorscale": [
             [
              0,
              "#0d0887"
             ],
             [
              0.1111111111111111,
              "#46039f"
             ],
             [
              0.2222222222222222,
              "#7201a8"
             ],
             [
              0.3333333333333333,
              "#9c179e"
             ],
             [
              0.4444444444444444,
              "#bd3786"
             ],
             [
              0.5555555555555556,
              "#d8576b"
             ],
             [
              0.6666666666666666,
              "#ed7953"
             ],
             [
              0.7777777777777778,
              "#fb9f3a"
             ],
             [
              0.8888888888888888,
              "#fdca26"
             ],
             [
              1,
              "#f0f921"
             ]
            ],
            "type": "heatmap"
           }
          ],
          "heatmapgl": [
           {
            "colorbar": {
             "outlinewidth": 0,
             "ticks": ""
            },
            "colorscale": [
             [
              0,
              "#0d0887"
             ],
             [
              0.1111111111111111,
              "#46039f"
             ],
             [
              0.2222222222222222,
              "#7201a8"
             ],
             [
              0.3333333333333333,
              "#9c179e"
             ],
             [
              0.4444444444444444,
              "#bd3786"
             ],
             [
              0.5555555555555556,
              "#d8576b"
             ],
             [
              0.6666666666666666,
              "#ed7953"
             ],
             [
              0.7777777777777778,
              "#fb9f3a"
             ],
             [
              0.8888888888888888,
              "#fdca26"
             ],
             [
              1,
              "#f0f921"
             ]
            ],
            "type": "heatmapgl"
           }
          ],
          "histogram": [
           {
            "marker": {
             "pattern": {
              "fillmode": "overlay",
              "size": 10,
              "solidity": 0.2
             }
            },
            "type": "histogram"
           }
          ],
          "histogram2d": [
           {
            "colorbar": {
             "outlinewidth": 0,
             "ticks": ""
            },
            "colorscale": [
             [
              0,
              "#0d0887"
             ],
             [
              0.1111111111111111,
              "#46039f"
             ],
             [
              0.2222222222222222,
              "#7201a8"
             ],
             [
              0.3333333333333333,
              "#9c179e"
             ],
             [
              0.4444444444444444,
              "#bd3786"
             ],
             [
              0.5555555555555556,
              "#d8576b"
             ],
             [
              0.6666666666666666,
              "#ed7953"
             ],
             [
              0.7777777777777778,
              "#fb9f3a"
             ],
             [
              0.8888888888888888,
              "#fdca26"
             ],
             [
              1,
              "#f0f921"
             ]
            ],
            "type": "histogram2d"
           }
          ],
          "histogram2dcontour": [
           {
            "colorbar": {
             "outlinewidth": 0,
             "ticks": ""
            },
            "colorscale": [
             [
              0,
              "#0d0887"
             ],
             [
              0.1111111111111111,
              "#46039f"
             ],
             [
              0.2222222222222222,
              "#7201a8"
             ],
             [
              0.3333333333333333,
              "#9c179e"
             ],
             [
              0.4444444444444444,
              "#bd3786"
             ],
             [
              0.5555555555555556,
              "#d8576b"
             ],
             [
              0.6666666666666666,
              "#ed7953"
             ],
             [
              0.7777777777777778,
              "#fb9f3a"
             ],
             [
              0.8888888888888888,
              "#fdca26"
             ],
             [
              1,
              "#f0f921"
             ]
            ],
            "type": "histogram2dcontour"
           }
          ],
          "mesh3d": [
           {
            "colorbar": {
             "outlinewidth": 0,
             "ticks": ""
            },
            "type": "mesh3d"
           }
          ],
          "parcoords": [
           {
            "line": {
             "colorbar": {
              "outlinewidth": 0,
              "ticks": ""
             }
            },
            "type": "parcoords"
           }
          ],
          "pie": [
           {
            "automargin": true,
            "type": "pie"
           }
          ],
          "scatter": [
           {
            "fillpattern": {
             "fillmode": "overlay",
             "size": 10,
             "solidity": 0.2
            },
            "type": "scatter"
           }
          ],
          "scatter3d": [
           {
            "line": {
             "colorbar": {
              "outlinewidth": 0,
              "ticks": ""
             }
            },
            "marker": {
             "colorbar": {
              "outlinewidth": 0,
              "ticks": ""
             }
            },
            "type": "scatter3d"
           }
          ],
          "scattercarpet": [
           {
            "marker": {
             "colorbar": {
              "outlinewidth": 0,
              "ticks": ""
             }
            },
            "type": "scattercarpet"
           }
          ],
          "scattergeo": [
           {
            "marker": {
             "colorbar": {
              "outlinewidth": 0,
              "ticks": ""
             }
            },
            "type": "scattergeo"
           }
          ],
          "scattergl": [
           {
            "marker": {
             "colorbar": {
              "outlinewidth": 0,
              "ticks": ""
             }
            },
            "type": "scattergl"
           }
          ],
          "scattermapbox": [
           {
            "marker": {
             "colorbar": {
              "outlinewidth": 0,
              "ticks": ""
             }
            },
            "type": "scattermapbox"
           }
          ],
          "scatterpolar": [
           {
            "marker": {
             "colorbar": {
              "outlinewidth": 0,
              "ticks": ""
             }
            },
            "type": "scatterpolar"
           }
          ],
          "scatterpolargl": [
           {
            "marker": {
             "colorbar": {
              "outlinewidth": 0,
              "ticks": ""
             }
            },
            "type": "scatterpolargl"
           }
          ],
          "scatterternary": [
           {
            "marker": {
             "colorbar": {
              "outlinewidth": 0,
              "ticks": ""
             }
            },
            "type": "scatterternary"
           }
          ],
          "surface": [
           {
            "colorbar": {
             "outlinewidth": 0,
             "ticks": ""
            },
            "colorscale": [
             [
              0,
              "#0d0887"
             ],
             [
              0.1111111111111111,
              "#46039f"
             ],
             [
              0.2222222222222222,
              "#7201a8"
             ],
             [
              0.3333333333333333,
              "#9c179e"
             ],
             [
              0.4444444444444444,
              "#bd3786"
             ],
             [
              0.5555555555555556,
              "#d8576b"
             ],
             [
              0.6666666666666666,
              "#ed7953"
             ],
             [
              0.7777777777777778,
              "#fb9f3a"
             ],
             [
              0.8888888888888888,
              "#fdca26"
             ],
             [
              1,
              "#f0f921"
             ]
            ],
            "type": "surface"
           }
          ],
          "table": [
           {
            "cells": {
             "fill": {
              "color": "#EBF0F8"
             },
             "line": {
              "color": "white"
             }
            },
            "header": {
             "fill": {
              "color": "#C8D4E3"
             },
             "line": {
              "color": "white"
             }
            },
            "type": "table"
           }
          ]
         },
         "layout": {
          "annotationdefaults": {
           "arrowcolor": "#2a3f5f",
           "arrowhead": 0,
           "arrowwidth": 1
          },
          "autotypenumbers": "strict",
          "coloraxis": {
           "colorbar": {
            "outlinewidth": 0,
            "ticks": ""
           }
          },
          "colorscale": {
           "diverging": [
            [
             0,
             "#8e0152"
            ],
            [
             0.1,
             "#c51b7d"
            ],
            [
             0.2,
             "#de77ae"
            ],
            [
             0.3,
             "#f1b6da"
            ],
            [
             0.4,
             "#fde0ef"
            ],
            [
             0.5,
             "#f7f7f7"
            ],
            [
             0.6,
             "#e6f5d0"
            ],
            [
             0.7,
             "#b8e186"
            ],
            [
             0.8,
             "#7fbc41"
            ],
            [
             0.9,
             "#4d9221"
            ],
            [
             1,
             "#276419"
            ]
           ],
           "sequential": [
            [
             0,
             "#0d0887"
            ],
            [
             0.1111111111111111,
             "#46039f"
            ],
            [
             0.2222222222222222,
             "#7201a8"
            ],
            [
             0.3333333333333333,
             "#9c179e"
            ],
            [
             0.4444444444444444,
             "#bd3786"
            ],
            [
             0.5555555555555556,
             "#d8576b"
            ],
            [
             0.6666666666666666,
             "#ed7953"
            ],
            [
             0.7777777777777778,
             "#fb9f3a"
            ],
            [
             0.8888888888888888,
             "#fdca26"
            ],
            [
             1,
             "#f0f921"
            ]
           ],
           "sequentialminus": [
            [
             0,
             "#0d0887"
            ],
            [
             0.1111111111111111,
             "#46039f"
            ],
            [
             0.2222222222222222,
             "#7201a8"
            ],
            [
             0.3333333333333333,
             "#9c179e"
            ],
            [
             0.4444444444444444,
             "#bd3786"
            ],
            [
             0.5555555555555556,
             "#d8576b"
            ],
            [
             0.6666666666666666,
             "#ed7953"
            ],
            [
             0.7777777777777778,
             "#fb9f3a"
            ],
            [
             0.8888888888888888,
             "#fdca26"
            ],
            [
             1,
             "#f0f921"
            ]
           ]
          },
          "colorway": [
           "#636efa",
           "#EF553B",
           "#00cc96",
           "#ab63fa",
           "#FFA15A",
           "#19d3f3",
           "#FF6692",
           "#B6E880",
           "#FF97FF",
           "#FECB52"
          ],
          "font": {
           "color": "#2a3f5f"
          },
          "geo": {
           "bgcolor": "white",
           "lakecolor": "white",
           "landcolor": "#E5ECF6",
           "showlakes": true,
           "showland": true,
           "subunitcolor": "white"
          },
          "hoverlabel": {
           "align": "left"
          },
          "hovermode": "closest",
          "mapbox": {
           "style": "light"
          },
          "paper_bgcolor": "white",
          "plot_bgcolor": "#E5ECF6",
          "polar": {
           "angularaxis": {
            "gridcolor": "white",
            "linecolor": "white",
            "ticks": ""
           },
           "bgcolor": "#E5ECF6",
           "radialaxis": {
            "gridcolor": "white",
            "linecolor": "white",
            "ticks": ""
           }
          },
          "scene": {
           "xaxis": {
            "backgroundcolor": "#E5ECF6",
            "gridcolor": "white",
            "gridwidth": 2,
            "linecolor": "white",
            "showbackground": true,
            "ticks": "",
            "zerolinecolor": "white"
           },
           "yaxis": {
            "backgroundcolor": "#E5ECF6",
            "gridcolor": "white",
            "gridwidth": 2,
            "linecolor": "white",
            "showbackground": true,
            "ticks": "",
            "zerolinecolor": "white"
           },
           "zaxis": {
            "backgroundcolor": "#E5ECF6",
            "gridcolor": "white",
            "gridwidth": 2,
            "linecolor": "white",
            "showbackground": true,
            "ticks": "",
            "zerolinecolor": "white"
           }
          },
          "shapedefaults": {
           "line": {
            "color": "#2a3f5f"
           }
          },
          "ternary": {
           "aaxis": {
            "gridcolor": "white",
            "linecolor": "white",
            "ticks": ""
           },
           "baxis": {
            "gridcolor": "white",
            "linecolor": "white",
            "ticks": ""
           },
           "bgcolor": "#E5ECF6",
           "caxis": {
            "gridcolor": "white",
            "linecolor": "white",
            "ticks": ""
           }
          },
          "title": {
           "x": 0.05
          },
          "xaxis": {
           "automargin": true,
           "gridcolor": "white",
           "linecolor": "white",
           "ticks": "",
           "title": {
            "standoff": 15
           },
           "zerolinecolor": "white",
           "zerolinewidth": 2
          },
          "yaxis": {
           "automargin": true,
           "gridcolor": "white",
           "linecolor": "white",
           "ticks": "",
           "title": {
            "standoff": 15
           },
           "zerolinecolor": "white",
           "zerolinewidth": 2
          }
         }
        }
       }
      },
      "text/html": [
       "<div>                            <div id=\"d11790f4-6fdd-4bb7-9828-82e9c502eabd\" class=\"plotly-graph-div\" style=\"height:525px; width:100%;\"></div>            <script type=\"text/javascript\">                require([\"plotly\"], function(Plotly) {                    window.PLOTLYENV=window.PLOTLYENV || {};                                    if (document.getElementById(\"d11790f4-6fdd-4bb7-9828-82e9c502eabd\")) {                    Plotly.newPlot(                        \"d11790f4-6fdd-4bb7-9828-82e9c502eabd\",                        [{\"orientation\":\"v\",\"x\":[\"30\",\"25\",\"28\",\"24\",\"20\",\"15\",\"14\",\"26\",\"21\",\"22\",\"23\",\"31\",\"27\",\"12\",\"29\",\"10\",\"33\",\"35\",\"19\",\"42\",\"39\",\"17\",\"16\",\"43\",\"37\",\"18\",\"38\",\"32\",\"48\",\"45\",\"41\",\"8\",\"40\",\"11\",\"44\",\"46\",\"58\",\"34\",\"55\",\"49\",\"57\",\"36\",\"74\",\"65\",\"67\",\"13\",\"59\",\"50\",\"51\",\"78\",\"7\",\"66\",\"68\"],\"y\":[13,13,12,12,12,11,10,9,9,9,8,8,7,6,6,6,6,5,5,5,5,4,4,4,3,3,3,3,3,2,2,2,2,2,2,2,2,2,2,2,1,1,1,1,1,1,1,1,1,1,1,1,1],\"type\":\"bar\"}],                        {\"template\":{\"data\":{\"histogram2dcontour\":[{\"type\":\"histogram2dcontour\",\"colorbar\":{\"outlinewidth\":0,\"ticks\":\"\"},\"colorscale\":[[0.0,\"#0d0887\"],[0.1111111111111111,\"#46039f\"],[0.2222222222222222,\"#7201a8\"],[0.3333333333333333,\"#9c179e\"],[0.4444444444444444,\"#bd3786\"],[0.5555555555555556,\"#d8576b\"],[0.6666666666666666,\"#ed7953\"],[0.7777777777777778,\"#fb9f3a\"],[0.8888888888888888,\"#fdca26\"],[1.0,\"#f0f921\"]]}],\"choropleth\":[{\"type\":\"choropleth\",\"colorbar\":{\"outlinewidth\":0,\"ticks\":\"\"}}],\"histogram2d\":[{\"type\":\"histogram2d\",\"colorbar\":{\"outlinewidth\":0,\"ticks\":\"\"},\"colorscale\":[[0.0,\"#0d0887\"],[0.1111111111111111,\"#46039f\"],[0.2222222222222222,\"#7201a8\"],[0.3333333333333333,\"#9c179e\"],[0.4444444444444444,\"#bd3786\"],[0.5555555555555556,\"#d8576b\"],[0.6666666666666666,\"#ed7953\"],[0.7777777777777778,\"#fb9f3a\"],[0.8888888888888888,\"#fdca26\"],[1.0,\"#f0f921\"]]}],\"heatmap\":[{\"type\":\"heatmap\",\"colorbar\":{\"outlinewidth\":0,\"ticks\":\"\"},\"colorscale\":[[0.0,\"#0d0887\"],[0.1111111111111111,\"#46039f\"],[0.2222222222222222,\"#7201a8\"],[0.3333333333333333,\"#9c179e\"],[0.4444444444444444,\"#bd3786\"],[0.5555555555555556,\"#d8576b\"],[0.6666666666666666,\"#ed7953\"],[0.7777777777777778,\"#fb9f3a\"],[0.8888888888888888,\"#fdca26\"],[1.0,\"#f0f921\"]]}],\"heatmapgl\":[{\"type\":\"heatmapgl\",\"colorbar\":{\"outlinewidth\":0,\"ticks\":\"\"},\"colorscale\":[[0.0,\"#0d0887\"],[0.1111111111111111,\"#46039f\"],[0.2222222222222222,\"#7201a8\"],[0.3333333333333333,\"#9c179e\"],[0.4444444444444444,\"#bd3786\"],[0.5555555555555556,\"#d8576b\"],[0.6666666666666666,\"#ed7953\"],[0.7777777777777778,\"#fb9f3a\"],[0.8888888888888888,\"#fdca26\"],[1.0,\"#f0f921\"]]}],\"contourcarpet\":[{\"type\":\"contourcarpet\",\"colorbar\":{\"outlinewidth\":0,\"ticks\":\"\"}}],\"contour\":[{\"type\":\"contour\",\"colorbar\":{\"outlinewidth\":0,\"ticks\":\"\"},\"colorscale\":[[0.0,\"#0d0887\"],[0.1111111111111111,\"#46039f\"],[0.2222222222222222,\"#7201a8\"],[0.3333333333333333,\"#9c179e\"],[0.4444444444444444,\"#bd3786\"],[0.5555555555555556,\"#d8576b\"],[0.6666666666666666,\"#ed7953\"],[0.7777777777777778,\"#fb9f3a\"],[0.8888888888888888,\"#fdca26\"],[1.0,\"#f0f921\"]]}],\"surface\":[{\"type\":\"surface\",\"colorbar\":{\"outlinewidth\":0,\"ticks\":\"\"},\"colorscale\":[[0.0,\"#0d0887\"],[0.1111111111111111,\"#46039f\"],[0.2222222222222222,\"#7201a8\"],[0.3333333333333333,\"#9c179e\"],[0.4444444444444444,\"#bd3786\"],[0.5555555555555556,\"#d8576b\"],[0.6666666666666666,\"#ed7953\"],[0.7777777777777778,\"#fb9f3a\"],[0.8888888888888888,\"#fdca26\"],[1.0,\"#f0f921\"]]}],\"mesh3d\":[{\"type\":\"mesh3d\",\"colorbar\":{\"outlinewidth\":0,\"ticks\":\"\"}}],\"scatter\":[{\"fillpattern\":{\"fillmode\":\"overlay\",\"size\":10,\"solidity\":0.2},\"type\":\"scatter\"}],\"parcoords\":[{\"type\":\"parcoords\",\"line\":{\"colorbar\":{\"outlinewidth\":0,\"ticks\":\"\"}}}],\"scatterpolargl\":[{\"type\":\"scatterpolargl\",\"marker\":{\"colorbar\":{\"outlinewidth\":0,\"ticks\":\"\"}}}],\"bar\":[{\"error_x\":{\"color\":\"#2a3f5f\"},\"error_y\":{\"color\":\"#2a3f5f\"},\"marker\":{\"line\":{\"color\":\"#E5ECF6\",\"width\":0.5},\"pattern\":{\"fillmode\":\"overlay\",\"size\":10,\"solidity\":0.2}},\"type\":\"bar\"}],\"scattergeo\":[{\"type\":\"scattergeo\",\"marker\":{\"colorbar\":{\"outlinewidth\":0,\"ticks\":\"\"}}}],\"scatterpolar\":[{\"type\":\"scatterpolar\",\"marker\":{\"colorbar\":{\"outlinewidth\":0,\"ticks\":\"\"}}}],\"histogram\":[{\"marker\":{\"pattern\":{\"fillmode\":\"overlay\",\"size\":10,\"solidity\":0.2}},\"type\":\"histogram\"}],\"scattergl\":[{\"type\":\"scattergl\",\"marker\":{\"colorbar\":{\"outlinewidth\":0,\"ticks\":\"\"}}}],\"scatter3d\":[{\"type\":\"scatter3d\",\"line\":{\"colorbar\":{\"outlinewidth\":0,\"ticks\":\"\"}},\"marker\":{\"colorbar\":{\"outlinewidth\":0,\"ticks\":\"\"}}}],\"scattermapbox\":[{\"type\":\"scattermapbox\",\"marker\":{\"colorbar\":{\"outlinewidth\":0,\"ticks\":\"\"}}}],\"scatterternary\":[{\"type\":\"scatterternary\",\"marker\":{\"colorbar\":{\"outlinewidth\":0,\"ticks\":\"\"}}}],\"scattercarpet\":[{\"type\":\"scattercarpet\",\"marker\":{\"colorbar\":{\"outlinewidth\":0,\"ticks\":\"\"}}}],\"carpet\":[{\"aaxis\":{\"endlinecolor\":\"#2a3f5f\",\"gridcolor\":\"white\",\"linecolor\":\"white\",\"minorgridcolor\":\"white\",\"startlinecolor\":\"#2a3f5f\"},\"baxis\":{\"endlinecolor\":\"#2a3f5f\",\"gridcolor\":\"white\",\"linecolor\":\"white\",\"minorgridcolor\":\"white\",\"startlinecolor\":\"#2a3f5f\"},\"type\":\"carpet\"}],\"table\":[{\"cells\":{\"fill\":{\"color\":\"#EBF0F8\"},\"line\":{\"color\":\"white\"}},\"header\":{\"fill\":{\"color\":\"#C8D4E3\"},\"line\":{\"color\":\"white\"}},\"type\":\"table\"}],\"barpolar\":[{\"marker\":{\"line\":{\"color\":\"#E5ECF6\",\"width\":0.5},\"pattern\":{\"fillmode\":\"overlay\",\"size\":10,\"solidity\":0.2}},\"type\":\"barpolar\"}],\"pie\":[{\"automargin\":true,\"type\":\"pie\"}]},\"layout\":{\"autotypenumbers\":\"strict\",\"colorway\":[\"#636efa\",\"#EF553B\",\"#00cc96\",\"#ab63fa\",\"#FFA15A\",\"#19d3f3\",\"#FF6692\",\"#B6E880\",\"#FF97FF\",\"#FECB52\"],\"font\":{\"color\":\"#2a3f5f\"},\"hovermode\":\"closest\",\"hoverlabel\":{\"align\":\"left\"},\"paper_bgcolor\":\"white\",\"plot_bgcolor\":\"#E5ECF6\",\"polar\":{\"bgcolor\":\"#E5ECF6\",\"angularaxis\":{\"gridcolor\":\"white\",\"linecolor\":\"white\",\"ticks\":\"\"},\"radialaxis\":{\"gridcolor\":\"white\",\"linecolor\":\"white\",\"ticks\":\"\"}},\"ternary\":{\"bgcolor\":\"#E5ECF6\",\"aaxis\":{\"gridcolor\":\"white\",\"linecolor\":\"white\",\"ticks\":\"\"},\"baxis\":{\"gridcolor\":\"white\",\"linecolor\":\"white\",\"ticks\":\"\"},\"caxis\":{\"gridcolor\":\"white\",\"linecolor\":\"white\",\"ticks\":\"\"}},\"coloraxis\":{\"colorbar\":{\"outlinewidth\":0,\"ticks\":\"\"}},\"colorscale\":{\"sequential\":[[0.0,\"#0d0887\"],[0.1111111111111111,\"#46039f\"],[0.2222222222222222,\"#7201a8\"],[0.3333333333333333,\"#9c179e\"],[0.4444444444444444,\"#bd3786\"],[0.5555555555555556,\"#d8576b\"],[0.6666666666666666,\"#ed7953\"],[0.7777777777777778,\"#fb9f3a\"],[0.8888888888888888,\"#fdca26\"],[1.0,\"#f0f921\"]],\"sequentialminus\":[[0.0,\"#0d0887\"],[0.1111111111111111,\"#46039f\"],[0.2222222222222222,\"#7201a8\"],[0.3333333333333333,\"#9c179e\"],[0.4444444444444444,\"#bd3786\"],[0.5555555555555556,\"#d8576b\"],[0.6666666666666666,\"#ed7953\"],[0.7777777777777778,\"#fb9f3a\"],[0.8888888888888888,\"#fdca26\"],[1.0,\"#f0f921\"]],\"diverging\":[[0,\"#8e0152\"],[0.1,\"#c51b7d\"],[0.2,\"#de77ae\"],[0.3,\"#f1b6da\"],[0.4,\"#fde0ef\"],[0.5,\"#f7f7f7\"],[0.6,\"#e6f5d0\"],[0.7,\"#b8e186\"],[0.8,\"#7fbc41\"],[0.9,\"#4d9221\"],[1,\"#276419\"]]},\"xaxis\":{\"gridcolor\":\"white\",\"linecolor\":\"white\",\"ticks\":\"\",\"title\":{\"standoff\":15},\"zerolinecolor\":\"white\",\"automargin\":true,\"zerolinewidth\":2},\"yaxis\":{\"gridcolor\":\"white\",\"linecolor\":\"white\",\"ticks\":\"\",\"title\":{\"standoff\":15},\"zerolinecolor\":\"white\",\"automargin\":true,\"zerolinewidth\":2},\"scene\":{\"xaxis\":{\"backgroundcolor\":\"#E5ECF6\",\"gridcolor\":\"white\",\"linecolor\":\"white\",\"showbackground\":true,\"ticks\":\"\",\"zerolinecolor\":\"white\",\"gridwidth\":2},\"yaxis\":{\"backgroundcolor\":\"#E5ECF6\",\"gridcolor\":\"white\",\"linecolor\":\"white\",\"showbackground\":true,\"ticks\":\"\",\"zerolinecolor\":\"white\",\"gridwidth\":2},\"zaxis\":{\"backgroundcolor\":\"#E5ECF6\",\"gridcolor\":\"white\",\"linecolor\":\"white\",\"showbackground\":true,\"ticks\":\"\",\"zerolinecolor\":\"white\",\"gridwidth\":2}},\"shapedefaults\":{\"line\":{\"color\":\"#2a3f5f\"}},\"annotationdefaults\":{\"arrowcolor\":\"#2a3f5f\",\"arrowhead\":0,\"arrowwidth\":1},\"geo\":{\"bgcolor\":\"white\",\"landcolor\":\"#E5ECF6\",\"subunitcolor\":\"white\",\"showland\":true,\"showlakes\":true,\"lakecolor\":\"white\"},\"title\":{\"x\":0.05},\"mapbox\":{\"style\":\"light\"}}}},                        {\"responsive\": true}                    ).then(function(){\n",
       "                            \n",
       "var gd = document.getElementById('d11790f4-6fdd-4bb7-9828-82e9c502eabd');\n",
       "var x = new MutationObserver(function (mutations, observer) {{\n",
       "        var display = window.getComputedStyle(gd).display;\n",
       "        if (!display || display === 'none') {{\n",
       "            console.log([gd, 'removed!']);\n",
       "            Plotly.purge(gd);\n",
       "            observer.disconnect();\n",
       "        }}\n",
       "}});\n",
       "\n",
       "// Listen for the removal of the full notebook cells\n",
       "var notebookContainer = gd.closest('#notebook-container');\n",
       "if (notebookContainer) {{\n",
       "    x.observe(notebookContainer, {childList: true});\n",
       "}}\n",
       "\n",
       "// Listen for the clearing of the current output cell\n",
       "var outputEl = gd.closest('.output');\n",
       "if (outputEl) {{\n",
       "    x.observe(outputEl, {childList: true});\n",
       "}}\n",
       "\n",
       "                        })                };                });            </script>        </div>"
      ]
     },
     "metadata": {},
     "output_type": "display_data"
    },
    {
     "name": "stdout",
     "output_type": "stream",
     "text": [
      "Dataset:  NNSeval\n",
      "Max length:  8\n",
      "(len, count) (sorted by count): [('30', 13), ('25', 13), ('28', 12), ('24', 12), ('20', 12), ('15', 11), ('14', 10), ('26', 9), ('21', 9), ('22', 9), ('23', 8), ('31', 8), ('27', 7), ('12', 6), ('29', 6), ('10', 6), ('33', 6), ('35', 5), ('19', 5), ('42', 5), ('39', 5), ('17', 4), ('16', 4), ('43', 4), ('37', 3), ('18', 3), ('38', 3), ('32', 3), ('48', 3), ('45', 2), ('41', 2), ('8', 2), ('40', 2), ('11', 2), ('44', 2), ('46', 2), ('58', 2), ('34', 2), ('55', 2), ('49', 2), ('57', 1), ('36', 1), ('74', 1), ('65', 1), ('67', 1), ('13', 1), ('59', 1), ('50', 1), ('51', 1), ('78', 1), ('7', 1), ('66', 1), ('68', 1)]\n",
      "(len, count) (sorted by len):  [('78', 1), ('74', 1), ('68', 1), ('67', 1), ('66', 1), ('65', 1), ('59', 1), ('58', 2), ('57', 1), ('55', 2), ('51', 1), ('50', 1), ('49', 2), ('48', 3), ('46', 2), ('45', 2), ('44', 2), ('43', 4), ('42', 5), ('41', 2), ('40', 2), ('39', 5), ('38', 3), ('37', 3), ('36', 1), ('35', 5), ('34', 2), ('33', 6), ('32', 3), ('31', 8), ('30', 13), ('29', 6), ('28', 12), ('27', 7), ('26', 9), ('25', 13), ('24', 12), ('23', 8), ('22', 9), ('21', 9), ('20', 12), ('19', 5), ('18', 3), ('17', 4), ('16', 4), ('15', 11), ('14', 10), ('13', 1), ('12', 6), ('11', 2), ('10', 6), ('8', 2), ('7', 1)]\n"
     ]
    },
    {
     "data": {
      "application/vnd.plotly.v1+json": {
       "config": {
        "plotlyServerURL": "https://plot.ly"
       },
       "data": [
        {
         "orientation": "v",
         "type": "bar",
         "x": [
          "19",
          "17",
          "18",
          "20",
          "26",
          "32",
          "24",
          "25",
          "16",
          "21",
          "22",
          "29",
          "14",
          "15",
          "27",
          "30",
          "28",
          "23",
          "35",
          "33",
          "31",
          "11",
          "34",
          "13",
          "12",
          "36",
          "10",
          "39",
          "42",
          "40",
          "38",
          "37",
          "9",
          "46",
          "43",
          "41",
          "8",
          "49",
          "48",
          "44",
          "7",
          "45",
          "60",
          "51",
          "53",
          "58",
          "50",
          "47",
          "55",
          "62",
          "67",
          "56",
          "59",
          "52",
          "63",
          "54",
          "68",
          "57",
          "66",
          "6",
          "61",
          "79",
          "69",
          "70",
          "75",
          "71",
          "65",
          "76",
          "78",
          "72",
          "80",
          "92",
          "91",
          "77",
          "90",
          "64",
          "74",
          "5",
          "73"
         ],
         "y": [
          77,
          71,
          70,
          66,
          66,
          65,
          64,
          64,
          63,
          62,
          60,
          60,
          59,
          59,
          55,
          53,
          53,
          52,
          51,
          48,
          47,
          46,
          42,
          42,
          39,
          36,
          33,
          30,
          28,
          28,
          25,
          25,
          24,
          23,
          23,
          22,
          20,
          19,
          19,
          15,
          15,
          12,
          12,
          12,
          12,
          10,
          9,
          9,
          9,
          9,
          7,
          7,
          7,
          7,
          6,
          6,
          5,
          5,
          4,
          4,
          4,
          4,
          3,
          3,
          3,
          3,
          3,
          2,
          2,
          2,
          2,
          1,
          1,
          1,
          1,
          1,
          1,
          1,
          1
         ]
        }
       ],
       "layout": {
        "template": {
         "data": {
          "bar": [
           {
            "error_x": {
             "color": "#2a3f5f"
            },
            "error_y": {
             "color": "#2a3f5f"
            },
            "marker": {
             "line": {
              "color": "#E5ECF6",
              "width": 0.5
             },
             "pattern": {
              "fillmode": "overlay",
              "size": 10,
              "solidity": 0.2
             }
            },
            "type": "bar"
           }
          ],
          "barpolar": [
           {
            "marker": {
             "line": {
              "color": "#E5ECF6",
              "width": 0.5
             },
             "pattern": {
              "fillmode": "overlay",
              "size": 10,
              "solidity": 0.2
             }
            },
            "type": "barpolar"
           }
          ],
          "carpet": [
           {
            "aaxis": {
             "endlinecolor": "#2a3f5f",
             "gridcolor": "white",
             "linecolor": "white",
             "minorgridcolor": "white",
             "startlinecolor": "#2a3f5f"
            },
            "baxis": {
             "endlinecolor": "#2a3f5f",
             "gridcolor": "white",
             "linecolor": "white",
             "minorgridcolor": "white",
             "startlinecolor": "#2a3f5f"
            },
            "type": "carpet"
           }
          ],
          "choropleth": [
           {
            "colorbar": {
             "outlinewidth": 0,
             "ticks": ""
            },
            "type": "choropleth"
           }
          ],
          "contour": [
           {
            "colorbar": {
             "outlinewidth": 0,
             "ticks": ""
            },
            "colorscale": [
             [
              0,
              "#0d0887"
             ],
             [
              0.1111111111111111,
              "#46039f"
             ],
             [
              0.2222222222222222,
              "#7201a8"
             ],
             [
              0.3333333333333333,
              "#9c179e"
             ],
             [
              0.4444444444444444,
              "#bd3786"
             ],
             [
              0.5555555555555556,
              "#d8576b"
             ],
             [
              0.6666666666666666,
              "#ed7953"
             ],
             [
              0.7777777777777778,
              "#fb9f3a"
             ],
             [
              0.8888888888888888,
              "#fdca26"
             ],
             [
              1,
              "#f0f921"
             ]
            ],
            "type": "contour"
           }
          ],
          "contourcarpet": [
           {
            "colorbar": {
             "outlinewidth": 0,
             "ticks": ""
            },
            "type": "contourcarpet"
           }
          ],
          "heatmap": [
           {
            "colorbar": {
             "outlinewidth": 0,
             "ticks": ""
            },
            "colorscale": [
             [
              0,
              "#0d0887"
             ],
             [
              0.1111111111111111,
              "#46039f"
             ],
             [
              0.2222222222222222,
              "#7201a8"
             ],
             [
              0.3333333333333333,
              "#9c179e"
             ],
             [
              0.4444444444444444,
              "#bd3786"
             ],
             [
              0.5555555555555556,
              "#d8576b"
             ],
             [
              0.6666666666666666,
              "#ed7953"
             ],
             [
              0.7777777777777778,
              "#fb9f3a"
             ],
             [
              0.8888888888888888,
              "#fdca26"
             ],
             [
              1,
              "#f0f921"
             ]
            ],
            "type": "heatmap"
           }
          ],
          "heatmapgl": [
           {
            "colorbar": {
             "outlinewidth": 0,
             "ticks": ""
            },
            "colorscale": [
             [
              0,
              "#0d0887"
             ],
             [
              0.1111111111111111,
              "#46039f"
             ],
             [
              0.2222222222222222,
              "#7201a8"
             ],
             [
              0.3333333333333333,
              "#9c179e"
             ],
             [
              0.4444444444444444,
              "#bd3786"
             ],
             [
              0.5555555555555556,
              "#d8576b"
             ],
             [
              0.6666666666666666,
              "#ed7953"
             ],
             [
              0.7777777777777778,
              "#fb9f3a"
             ],
             [
              0.8888888888888888,
              "#fdca26"
             ],
             [
              1,
              "#f0f921"
             ]
            ],
            "type": "heatmapgl"
           }
          ],
          "histogram": [
           {
            "marker": {
             "pattern": {
              "fillmode": "overlay",
              "size": 10,
              "solidity": 0.2
             }
            },
            "type": "histogram"
           }
          ],
          "histogram2d": [
           {
            "colorbar": {
             "outlinewidth": 0,
             "ticks": ""
            },
            "colorscale": [
             [
              0,
              "#0d0887"
             ],
             [
              0.1111111111111111,
              "#46039f"
             ],
             [
              0.2222222222222222,
              "#7201a8"
             ],
             [
              0.3333333333333333,
              "#9c179e"
             ],
             [
              0.4444444444444444,
              "#bd3786"
             ],
             [
              0.5555555555555556,
              "#d8576b"
             ],
             [
              0.6666666666666666,
              "#ed7953"
             ],
             [
              0.7777777777777778,
              "#fb9f3a"
             ],
             [
              0.8888888888888888,
              "#fdca26"
             ],
             [
              1,
              "#f0f921"
             ]
            ],
            "type": "histogram2d"
           }
          ],
          "histogram2dcontour": [
           {
            "colorbar": {
             "outlinewidth": 0,
             "ticks": ""
            },
            "colorscale": [
             [
              0,
              "#0d0887"
             ],
             [
              0.1111111111111111,
              "#46039f"
             ],
             [
              0.2222222222222222,
              "#7201a8"
             ],
             [
              0.3333333333333333,
              "#9c179e"
             ],
             [
              0.4444444444444444,
              "#bd3786"
             ],
             [
              0.5555555555555556,
              "#d8576b"
             ],
             [
              0.6666666666666666,
              "#ed7953"
             ],
             [
              0.7777777777777778,
              "#fb9f3a"
             ],
             [
              0.8888888888888888,
              "#fdca26"
             ],
             [
              1,
              "#f0f921"
             ]
            ],
            "type": "histogram2dcontour"
           }
          ],
          "mesh3d": [
           {
            "colorbar": {
             "outlinewidth": 0,
             "ticks": ""
            },
            "type": "mesh3d"
           }
          ],
          "parcoords": [
           {
            "line": {
             "colorbar": {
              "outlinewidth": 0,
              "ticks": ""
             }
            },
            "type": "parcoords"
           }
          ],
          "pie": [
           {
            "automargin": true,
            "type": "pie"
           }
          ],
          "scatter": [
           {
            "fillpattern": {
             "fillmode": "overlay",
             "size": 10,
             "solidity": 0.2
            },
            "type": "scatter"
           }
          ],
          "scatter3d": [
           {
            "line": {
             "colorbar": {
              "outlinewidth": 0,
              "ticks": ""
             }
            },
            "marker": {
             "colorbar": {
              "outlinewidth": 0,
              "ticks": ""
             }
            },
            "type": "scatter3d"
           }
          ],
          "scattercarpet": [
           {
            "marker": {
             "colorbar": {
              "outlinewidth": 0,
              "ticks": ""
             }
            },
            "type": "scattercarpet"
           }
          ],
          "scattergeo": [
           {
            "marker": {
             "colorbar": {
              "outlinewidth": 0,
              "ticks": ""
             }
            },
            "type": "scattergeo"
           }
          ],
          "scattergl": [
           {
            "marker": {
             "colorbar": {
              "outlinewidth": 0,
              "ticks": ""
             }
            },
            "type": "scattergl"
           }
          ],
          "scattermapbox": [
           {
            "marker": {
             "colorbar": {
              "outlinewidth": 0,
              "ticks": ""
             }
            },
            "type": "scattermapbox"
           }
          ],
          "scatterpolar": [
           {
            "marker": {
             "colorbar": {
              "outlinewidth": 0,
              "ticks": ""
             }
            },
            "type": "scatterpolar"
           }
          ],
          "scatterpolargl": [
           {
            "marker": {
             "colorbar": {
              "outlinewidth": 0,
              "ticks": ""
             }
            },
            "type": "scatterpolargl"
           }
          ],
          "scatterternary": [
           {
            "marker": {
             "colorbar": {
              "outlinewidth": 0,
              "ticks": ""
             }
            },
            "type": "scatterternary"
           }
          ],
          "surface": [
           {
            "colorbar": {
             "outlinewidth": 0,
             "ticks": ""
            },
            "colorscale": [
             [
              0,
              "#0d0887"
             ],
             [
              0.1111111111111111,
              "#46039f"
             ],
             [
              0.2222222222222222,
              "#7201a8"
             ],
             [
              0.3333333333333333,
              "#9c179e"
             ],
             [
              0.4444444444444444,
              "#bd3786"
             ],
             [
              0.5555555555555556,
              "#d8576b"
             ],
             [
              0.6666666666666666,
              "#ed7953"
             ],
             [
              0.7777777777777778,
              "#fb9f3a"
             ],
             [
              0.8888888888888888,
              "#fdca26"
             ],
             [
              1,
              "#f0f921"
             ]
            ],
            "type": "surface"
           }
          ],
          "table": [
           {
            "cells": {
             "fill": {
              "color": "#EBF0F8"
             },
             "line": {
              "color": "white"
             }
            },
            "header": {
             "fill": {
              "color": "#C8D4E3"
             },
             "line": {
              "color": "white"
             }
            },
            "type": "table"
           }
          ]
         },
         "layout": {
          "annotationdefaults": {
           "arrowcolor": "#2a3f5f",
           "arrowhead": 0,
           "arrowwidth": 1
          },
          "autotypenumbers": "strict",
          "coloraxis": {
           "colorbar": {
            "outlinewidth": 0,
            "ticks": ""
           }
          },
          "colorscale": {
           "diverging": [
            [
             0,
             "#8e0152"
            ],
            [
             0.1,
             "#c51b7d"
            ],
            [
             0.2,
             "#de77ae"
            ],
            [
             0.3,
             "#f1b6da"
            ],
            [
             0.4,
             "#fde0ef"
            ],
            [
             0.5,
             "#f7f7f7"
            ],
            [
             0.6,
             "#e6f5d0"
            ],
            [
             0.7,
             "#b8e186"
            ],
            [
             0.8,
             "#7fbc41"
            ],
            [
             0.9,
             "#4d9221"
            ],
            [
             1,
             "#276419"
            ]
           ],
           "sequential": [
            [
             0,
             "#0d0887"
            ],
            [
             0.1111111111111111,
             "#46039f"
            ],
            [
             0.2222222222222222,
             "#7201a8"
            ],
            [
             0.3333333333333333,
             "#9c179e"
            ],
            [
             0.4444444444444444,
             "#bd3786"
            ],
            [
             0.5555555555555556,
             "#d8576b"
            ],
            [
             0.6666666666666666,
             "#ed7953"
            ],
            [
             0.7777777777777778,
             "#fb9f3a"
            ],
            [
             0.8888888888888888,
             "#fdca26"
            ],
            [
             1,
             "#f0f921"
            ]
           ],
           "sequentialminus": [
            [
             0,
             "#0d0887"
            ],
            [
             0.1111111111111111,
             "#46039f"
            ],
            [
             0.2222222222222222,
             "#7201a8"
            ],
            [
             0.3333333333333333,
             "#9c179e"
            ],
            [
             0.4444444444444444,
             "#bd3786"
            ],
            [
             0.5555555555555556,
             "#d8576b"
            ],
            [
             0.6666666666666666,
             "#ed7953"
            ],
            [
             0.7777777777777778,
             "#fb9f3a"
            ],
            [
             0.8888888888888888,
             "#fdca26"
            ],
            [
             1,
             "#f0f921"
            ]
           ]
          },
          "colorway": [
           "#636efa",
           "#EF553B",
           "#00cc96",
           "#ab63fa",
           "#FFA15A",
           "#19d3f3",
           "#FF6692",
           "#B6E880",
           "#FF97FF",
           "#FECB52"
          ],
          "font": {
           "color": "#2a3f5f"
          },
          "geo": {
           "bgcolor": "white",
           "lakecolor": "white",
           "landcolor": "#E5ECF6",
           "showlakes": true,
           "showland": true,
           "subunitcolor": "white"
          },
          "hoverlabel": {
           "align": "left"
          },
          "hovermode": "closest",
          "mapbox": {
           "style": "light"
          },
          "paper_bgcolor": "white",
          "plot_bgcolor": "#E5ECF6",
          "polar": {
           "angularaxis": {
            "gridcolor": "white",
            "linecolor": "white",
            "ticks": ""
           },
           "bgcolor": "#E5ECF6",
           "radialaxis": {
            "gridcolor": "white",
            "linecolor": "white",
            "ticks": ""
           }
          },
          "scene": {
           "xaxis": {
            "backgroundcolor": "#E5ECF6",
            "gridcolor": "white",
            "gridwidth": 2,
            "linecolor": "white",
            "showbackground": true,
            "ticks": "",
            "zerolinecolor": "white"
           },
           "yaxis": {
            "backgroundcolor": "#E5ECF6",
            "gridcolor": "white",
            "gridwidth": 2,
            "linecolor": "white",
            "showbackground": true,
            "ticks": "",
            "zerolinecolor": "white"
           },
           "zaxis": {
            "backgroundcolor": "#E5ECF6",
            "gridcolor": "white",
            "gridwidth": 2,
            "linecolor": "white",
            "showbackground": true,
            "ticks": "",
            "zerolinecolor": "white"
           }
          },
          "shapedefaults": {
           "line": {
            "color": "#2a3f5f"
           }
          },
          "ternary": {
           "aaxis": {
            "gridcolor": "white",
            "linecolor": "white",
            "ticks": ""
           },
           "baxis": {
            "gridcolor": "white",
            "linecolor": "white",
            "ticks": ""
           },
           "bgcolor": "#E5ECF6",
           "caxis": {
            "gridcolor": "white",
            "linecolor": "white",
            "ticks": ""
           }
          },
          "title": {
           "x": 0.05
          },
          "xaxis": {
           "automargin": true,
           "gridcolor": "white",
           "linecolor": "white",
           "ticks": "",
           "title": {
            "standoff": 15
           },
           "zerolinecolor": "white",
           "zerolinewidth": 2
          },
          "yaxis": {
           "automargin": true,
           "gridcolor": "white",
           "linecolor": "white",
           "ticks": "",
           "title": {
            "standoff": 15
           },
           "zerolinecolor": "white",
           "zerolinewidth": 2
          }
         }
        }
       }
      },
      "text/html": [
       "<div>                            <div id=\"46d000b3-f993-437e-9164-b759d7ee6a3b\" class=\"plotly-graph-div\" style=\"height:525px; width:100%;\"></div>            <script type=\"text/javascript\">                require([\"plotly\"], function(Plotly) {                    window.PLOTLYENV=window.PLOTLYENV || {};                                    if (document.getElementById(\"46d000b3-f993-437e-9164-b759d7ee6a3b\")) {                    Plotly.newPlot(                        \"46d000b3-f993-437e-9164-b759d7ee6a3b\",                        [{\"orientation\":\"v\",\"x\":[\"19\",\"17\",\"18\",\"20\",\"26\",\"32\",\"24\",\"25\",\"16\",\"21\",\"22\",\"29\",\"14\",\"15\",\"27\",\"30\",\"28\",\"23\",\"35\",\"33\",\"31\",\"11\",\"34\",\"13\",\"12\",\"36\",\"10\",\"39\",\"42\",\"40\",\"38\",\"37\",\"9\",\"46\",\"43\",\"41\",\"8\",\"49\",\"48\",\"44\",\"7\",\"45\",\"60\",\"51\",\"53\",\"58\",\"50\",\"47\",\"55\",\"62\",\"67\",\"56\",\"59\",\"52\",\"63\",\"54\",\"68\",\"57\",\"66\",\"6\",\"61\",\"79\",\"69\",\"70\",\"75\",\"71\",\"65\",\"76\",\"78\",\"72\",\"80\",\"92\",\"91\",\"77\",\"90\",\"64\",\"74\",\"5\",\"73\"],\"y\":[77,71,70,66,66,65,64,64,63,62,60,60,59,59,55,53,53,52,51,48,47,46,42,42,39,36,33,30,28,28,25,25,24,23,23,22,20,19,19,15,15,12,12,12,12,10,9,9,9,9,7,7,7,7,6,6,5,5,4,4,4,4,3,3,3,3,3,2,2,2,2,1,1,1,1,1,1,1,1],\"type\":\"bar\"}],                        {\"template\":{\"data\":{\"histogram2dcontour\":[{\"type\":\"histogram2dcontour\",\"colorbar\":{\"outlinewidth\":0,\"ticks\":\"\"},\"colorscale\":[[0.0,\"#0d0887\"],[0.1111111111111111,\"#46039f\"],[0.2222222222222222,\"#7201a8\"],[0.3333333333333333,\"#9c179e\"],[0.4444444444444444,\"#bd3786\"],[0.5555555555555556,\"#d8576b\"],[0.6666666666666666,\"#ed7953\"],[0.7777777777777778,\"#fb9f3a\"],[0.8888888888888888,\"#fdca26\"],[1.0,\"#f0f921\"]]}],\"choropleth\":[{\"type\":\"choropleth\",\"colorbar\":{\"outlinewidth\":0,\"ticks\":\"\"}}],\"histogram2d\":[{\"type\":\"histogram2d\",\"colorbar\":{\"outlinewidth\":0,\"ticks\":\"\"},\"colorscale\":[[0.0,\"#0d0887\"],[0.1111111111111111,\"#46039f\"],[0.2222222222222222,\"#7201a8\"],[0.3333333333333333,\"#9c179e\"],[0.4444444444444444,\"#bd3786\"],[0.5555555555555556,\"#d8576b\"],[0.6666666666666666,\"#ed7953\"],[0.7777777777777778,\"#fb9f3a\"],[0.8888888888888888,\"#fdca26\"],[1.0,\"#f0f921\"]]}],\"heatmap\":[{\"type\":\"heatmap\",\"colorbar\":{\"outlinewidth\":0,\"ticks\":\"\"},\"colorscale\":[[0.0,\"#0d0887\"],[0.1111111111111111,\"#46039f\"],[0.2222222222222222,\"#7201a8\"],[0.3333333333333333,\"#9c179e\"],[0.4444444444444444,\"#bd3786\"],[0.5555555555555556,\"#d8576b\"],[0.6666666666666666,\"#ed7953\"],[0.7777777777777778,\"#fb9f3a\"],[0.8888888888888888,\"#fdca26\"],[1.0,\"#f0f921\"]]}],\"heatmapgl\":[{\"type\":\"heatmapgl\",\"colorbar\":{\"outlinewidth\":0,\"ticks\":\"\"},\"colorscale\":[[0.0,\"#0d0887\"],[0.1111111111111111,\"#46039f\"],[0.2222222222222222,\"#7201a8\"],[0.3333333333333333,\"#9c179e\"],[0.4444444444444444,\"#bd3786\"],[0.5555555555555556,\"#d8576b\"],[0.6666666666666666,\"#ed7953\"],[0.7777777777777778,\"#fb9f3a\"],[0.8888888888888888,\"#fdca26\"],[1.0,\"#f0f921\"]]}],\"contourcarpet\":[{\"type\":\"contourcarpet\",\"colorbar\":{\"outlinewidth\":0,\"ticks\":\"\"}}],\"contour\":[{\"type\":\"contour\",\"colorbar\":{\"outlinewidth\":0,\"ticks\":\"\"},\"colorscale\":[[0.0,\"#0d0887\"],[0.1111111111111111,\"#46039f\"],[0.2222222222222222,\"#7201a8\"],[0.3333333333333333,\"#9c179e\"],[0.4444444444444444,\"#bd3786\"],[0.5555555555555556,\"#d8576b\"],[0.6666666666666666,\"#ed7953\"],[0.7777777777777778,\"#fb9f3a\"],[0.8888888888888888,\"#fdca26\"],[1.0,\"#f0f921\"]]}],\"surface\":[{\"type\":\"surface\",\"colorbar\":{\"outlinewidth\":0,\"ticks\":\"\"},\"colorscale\":[[0.0,\"#0d0887\"],[0.1111111111111111,\"#46039f\"],[0.2222222222222222,\"#7201a8\"],[0.3333333333333333,\"#9c179e\"],[0.4444444444444444,\"#bd3786\"],[0.5555555555555556,\"#d8576b\"],[0.6666666666666666,\"#ed7953\"],[0.7777777777777778,\"#fb9f3a\"],[0.8888888888888888,\"#fdca26\"],[1.0,\"#f0f921\"]]}],\"mesh3d\":[{\"type\":\"mesh3d\",\"colorbar\":{\"outlinewidth\":0,\"ticks\":\"\"}}],\"scatter\":[{\"fillpattern\":{\"fillmode\":\"overlay\",\"size\":10,\"solidity\":0.2},\"type\":\"scatter\"}],\"parcoords\":[{\"type\":\"parcoords\",\"line\":{\"colorbar\":{\"outlinewidth\":0,\"ticks\":\"\"}}}],\"scatterpolargl\":[{\"type\":\"scatterpolargl\",\"marker\":{\"colorbar\":{\"outlinewidth\":0,\"ticks\":\"\"}}}],\"bar\":[{\"error_x\":{\"color\":\"#2a3f5f\"},\"error_y\":{\"color\":\"#2a3f5f\"},\"marker\":{\"line\":{\"color\":\"#E5ECF6\",\"width\":0.5},\"pattern\":{\"fillmode\":\"overlay\",\"size\":10,\"solidity\":0.2}},\"type\":\"bar\"}],\"scattergeo\":[{\"type\":\"scattergeo\",\"marker\":{\"colorbar\":{\"outlinewidth\":0,\"ticks\":\"\"}}}],\"scatterpolar\":[{\"type\":\"scatterpolar\",\"marker\":{\"colorbar\":{\"outlinewidth\":0,\"ticks\":\"\"}}}],\"histogram\":[{\"marker\":{\"pattern\":{\"fillmode\":\"overlay\",\"size\":10,\"solidity\":0.2}},\"type\":\"histogram\"}],\"scattergl\":[{\"type\":\"scattergl\",\"marker\":{\"colorbar\":{\"outlinewidth\":0,\"ticks\":\"\"}}}],\"scatter3d\":[{\"type\":\"scatter3d\",\"line\":{\"colorbar\":{\"outlinewidth\":0,\"ticks\":\"\"}},\"marker\":{\"colorbar\":{\"outlinewidth\":0,\"ticks\":\"\"}}}],\"scattermapbox\":[{\"type\":\"scattermapbox\",\"marker\":{\"colorbar\":{\"outlinewidth\":0,\"ticks\":\"\"}}}],\"scatterternary\":[{\"type\":\"scatterternary\",\"marker\":{\"colorbar\":{\"outlinewidth\":0,\"ticks\":\"\"}}}],\"scattercarpet\":[{\"type\":\"scattercarpet\",\"marker\":{\"colorbar\":{\"outlinewidth\":0,\"ticks\":\"\"}}}],\"carpet\":[{\"aaxis\":{\"endlinecolor\":\"#2a3f5f\",\"gridcolor\":\"white\",\"linecolor\":\"white\",\"minorgridcolor\":\"white\",\"startlinecolor\":\"#2a3f5f\"},\"baxis\":{\"endlinecolor\":\"#2a3f5f\",\"gridcolor\":\"white\",\"linecolor\":\"white\",\"minorgridcolor\":\"white\",\"startlinecolor\":\"#2a3f5f\"},\"type\":\"carpet\"}],\"table\":[{\"cells\":{\"fill\":{\"color\":\"#EBF0F8\"},\"line\":{\"color\":\"white\"}},\"header\":{\"fill\":{\"color\":\"#C8D4E3\"},\"line\":{\"color\":\"white\"}},\"type\":\"table\"}],\"barpolar\":[{\"marker\":{\"line\":{\"color\":\"#E5ECF6\",\"width\":0.5},\"pattern\":{\"fillmode\":\"overlay\",\"size\":10,\"solidity\":0.2}},\"type\":\"barpolar\"}],\"pie\":[{\"automargin\":true,\"type\":\"pie\"}]},\"layout\":{\"autotypenumbers\":\"strict\",\"colorway\":[\"#636efa\",\"#EF553B\",\"#00cc96\",\"#ab63fa\",\"#FFA15A\",\"#19d3f3\",\"#FF6692\",\"#B6E880\",\"#FF97FF\",\"#FECB52\"],\"font\":{\"color\":\"#2a3f5f\"},\"hovermode\":\"closest\",\"hoverlabel\":{\"align\":\"left\"},\"paper_bgcolor\":\"white\",\"plot_bgcolor\":\"#E5ECF6\",\"polar\":{\"bgcolor\":\"#E5ECF6\",\"angularaxis\":{\"gridcolor\":\"white\",\"linecolor\":\"white\",\"ticks\":\"\"},\"radialaxis\":{\"gridcolor\":\"white\",\"linecolor\":\"white\",\"ticks\":\"\"}},\"ternary\":{\"bgcolor\":\"#E5ECF6\",\"aaxis\":{\"gridcolor\":\"white\",\"linecolor\":\"white\",\"ticks\":\"\"},\"baxis\":{\"gridcolor\":\"white\",\"linecolor\":\"white\",\"ticks\":\"\"},\"caxis\":{\"gridcolor\":\"white\",\"linecolor\":\"white\",\"ticks\":\"\"}},\"coloraxis\":{\"colorbar\":{\"outlinewidth\":0,\"ticks\":\"\"}},\"colorscale\":{\"sequential\":[[0.0,\"#0d0887\"],[0.1111111111111111,\"#46039f\"],[0.2222222222222222,\"#7201a8\"],[0.3333333333333333,\"#9c179e\"],[0.4444444444444444,\"#bd3786\"],[0.5555555555555556,\"#d8576b\"],[0.6666666666666666,\"#ed7953\"],[0.7777777777777778,\"#fb9f3a\"],[0.8888888888888888,\"#fdca26\"],[1.0,\"#f0f921\"]],\"sequentialminus\":[[0.0,\"#0d0887\"],[0.1111111111111111,\"#46039f\"],[0.2222222222222222,\"#7201a8\"],[0.3333333333333333,\"#9c179e\"],[0.4444444444444444,\"#bd3786\"],[0.5555555555555556,\"#d8576b\"],[0.6666666666666666,\"#ed7953\"],[0.7777777777777778,\"#fb9f3a\"],[0.8888888888888888,\"#fdca26\"],[1.0,\"#f0f921\"]],\"diverging\":[[0,\"#8e0152\"],[0.1,\"#c51b7d\"],[0.2,\"#de77ae\"],[0.3,\"#f1b6da\"],[0.4,\"#fde0ef\"],[0.5,\"#f7f7f7\"],[0.6,\"#e6f5d0\"],[0.7,\"#b8e186\"],[0.8,\"#7fbc41\"],[0.9,\"#4d9221\"],[1,\"#276419\"]]},\"xaxis\":{\"gridcolor\":\"white\",\"linecolor\":\"white\",\"ticks\":\"\",\"title\":{\"standoff\":15},\"zerolinecolor\":\"white\",\"automargin\":true,\"zerolinewidth\":2},\"yaxis\":{\"gridcolor\":\"white\",\"linecolor\":\"white\",\"ticks\":\"\",\"title\":{\"standoff\":15},\"zerolinecolor\":\"white\",\"automargin\":true,\"zerolinewidth\":2},\"scene\":{\"xaxis\":{\"backgroundcolor\":\"#E5ECF6\",\"gridcolor\":\"white\",\"linecolor\":\"white\",\"showbackground\":true,\"ticks\":\"\",\"zerolinecolor\":\"white\",\"gridwidth\":2},\"yaxis\":{\"backgroundcolor\":\"#E5ECF6\",\"gridcolor\":\"white\",\"linecolor\":\"white\",\"showbackground\":true,\"ticks\":\"\",\"zerolinecolor\":\"white\",\"gridwidth\":2},\"zaxis\":{\"backgroundcolor\":\"#E5ECF6\",\"gridcolor\":\"white\",\"linecolor\":\"white\",\"showbackground\":true,\"ticks\":\"\",\"zerolinecolor\":\"white\",\"gridwidth\":2}},\"shapedefaults\":{\"line\":{\"color\":\"#2a3f5f\"}},\"annotationdefaults\":{\"arrowcolor\":\"#2a3f5f\",\"arrowhead\":0,\"arrowwidth\":1},\"geo\":{\"bgcolor\":\"white\",\"landcolor\":\"#E5ECF6\",\"subunitcolor\":\"white\",\"showland\":true,\"showlakes\":true,\"lakecolor\":\"white\"},\"title\":{\"x\":0.05},\"mapbox\":{\"style\":\"light\"}}}},                        {\"responsive\": true}                    ).then(function(){\n",
       "                            \n",
       "var gd = document.getElementById('46d000b3-f993-437e-9164-b759d7ee6a3b');\n",
       "var x = new MutationObserver(function (mutations, observer) {{\n",
       "        var display = window.getComputedStyle(gd).display;\n",
       "        if (!display || display === 'none') {{\n",
       "            console.log([gd, 'removed!']);\n",
       "            Plotly.purge(gd);\n",
       "            observer.disconnect();\n",
       "        }}\n",
       "}});\n",
       "\n",
       "// Listen for the removal of the full notebook cells\n",
       "var notebookContainer = gd.closest('#notebook-container');\n",
       "if (notebookContainer) {{\n",
       "    x.observe(notebookContainer, {childList: true});\n",
       "}}\n",
       "\n",
       "// Listen for the clearing of the current output cell\n",
       "var outputEl = gd.closest('.output');\n",
       "if (outputEl) {{\n",
       "    x.observe(outputEl, {childList: true});\n",
       "}}\n",
       "\n",
       "                        })                };                });            </script>        </div>"
      ]
     },
     "metadata": {},
     "output_type": "display_data"
    },
    {
     "name": "stdout",
     "output_type": "stream",
     "text": [
      "Dataset:  semeval2012\n",
      "Max length:  92\n",
      "(len, count) (sorted by count): [('19', 77), ('17', 71), ('18', 70), ('20', 66), ('26', 66), ('32', 65), ('24', 64), ('25', 64), ('16', 63), ('21', 62), ('22', 60), ('29', 60), ('14', 59), ('15', 59), ('27', 55), ('30', 53), ('28', 53), ('23', 52), ('35', 51), ('33', 48), ('31', 47), ('11', 46), ('34', 42), ('13', 42), ('12', 39), ('36', 36), ('10', 33), ('39', 30), ('42', 28), ('40', 28), ('38', 25), ('37', 25), ('9', 24), ('46', 23), ('43', 23), ('41', 22), ('8', 20), ('49', 19), ('48', 19), ('44', 15), ('7', 15), ('45', 12), ('60', 12), ('51', 12), ('53', 12), ('58', 10), ('50', 9), ('47', 9), ('55', 9), ('62', 9), ('67', 7), ('56', 7), ('59', 7), ('52', 7), ('63', 6), ('54', 6), ('68', 5), ('57', 5), ('66', 4), ('6', 4), ('61', 4), ('79', 4), ('69', 3), ('70', 3), ('75', 3), ('71', 3), ('65', 3), ('76', 2), ('78', 2), ('72', 2), ('80', 2), ('92', 1), ('91', 1), ('77', 1), ('90', 1), ('64', 1), ('74', 1), ('5', 1), ('73', 1)]\n",
      "(len, count) (sorted by len):  [('92', 1), ('91', 1), ('90', 1), ('80', 2), ('79', 4), ('78', 2), ('77', 1), ('76', 2), ('75', 3), ('74', 1), ('73', 1), ('72', 2), ('71', 3), ('70', 3), ('69', 3), ('68', 5), ('67', 7), ('66', 4), ('65', 3), ('64', 1), ('63', 6), ('62', 9), ('61', 4), ('60', 12), ('59', 7), ('58', 10), ('57', 5), ('56', 7), ('55', 9), ('54', 6), ('53', 12), ('52', 7), ('51', 12), ('50', 9), ('49', 19), ('48', 19), ('47', 9), ('46', 23), ('45', 12), ('44', 15), ('43', 23), ('42', 28), ('41', 22), ('40', 28), ('39', 30), ('38', 25), ('37', 25), ('36', 36), ('35', 51), ('34', 42), ('33', 48), ('32', 65), ('31', 47), ('30', 53), ('29', 60), ('28', 53), ('27', 55), ('26', 66), ('25', 64), ('24', 64), ('23', 52), ('22', 60), ('21', 62), ('20', 66), ('19', 77), ('18', 70), ('17', 71), ('16', 63), ('15', 59), ('14', 59), ('13', 42), ('12', 39), ('11', 46), ('10', 33), ('9', 24), ('8', 20), ('7', 15), ('6', 4), ('5', 1)]\n"
     ]
    },
    {
     "data": {
      "application/vnd.plotly.v1+json": {
       "config": {
        "plotlyServerURL": "https://plot.ly"
       },
       "data": [
        {
         "orientation": "v",
         "type": "bar",
         "x": [
          "22",
          "29",
          "21",
          "30",
          "28",
          "37",
          "35",
          "20",
          "26",
          "19",
          "17",
          "40",
          "32",
          "24",
          "25",
          "15",
          "27",
          "41",
          "33",
          "18",
          "31",
          "23",
          "42",
          "16",
          "34",
          "14",
          "47",
          "36",
          "48",
          "43",
          "11",
          "13",
          "39",
          "9",
          "51",
          "38",
          "46",
          "50",
          "49",
          "83",
          "53",
          "61",
          "66",
          "52",
          "12",
          "63",
          "10",
          "56",
          "65",
          "78",
          "59",
          "6",
          "60",
          "62",
          "74",
          "58"
         ],
         "y": [
          23,
          19,
          16,
          15,
          15,
          15,
          15,
          14,
          14,
          13,
          13,
          13,
          12,
          11,
          11,
          10,
          9,
          9,
          9,
          9,
          8,
          8,
          8,
          7,
          7,
          6,
          6,
          6,
          5,
          5,
          5,
          4,
          4,
          4,
          4,
          3,
          3,
          3,
          2,
          2,
          2,
          2,
          2,
          2,
          2,
          1,
          1,
          1,
          1,
          1,
          1,
          1,
          1,
          1,
          1,
          1
         ]
        }
       ],
       "layout": {
        "template": {
         "data": {
          "bar": [
           {
            "error_x": {
             "color": "#2a3f5f"
            },
            "error_y": {
             "color": "#2a3f5f"
            },
            "marker": {
             "line": {
              "color": "#E5ECF6",
              "width": 0.5
             },
             "pattern": {
              "fillmode": "overlay",
              "size": 10,
              "solidity": 0.2
             }
            },
            "type": "bar"
           }
          ],
          "barpolar": [
           {
            "marker": {
             "line": {
              "color": "#E5ECF6",
              "width": 0.5
             },
             "pattern": {
              "fillmode": "overlay",
              "size": 10,
              "solidity": 0.2
             }
            },
            "type": "barpolar"
           }
          ],
          "carpet": [
           {
            "aaxis": {
             "endlinecolor": "#2a3f5f",
             "gridcolor": "white",
             "linecolor": "white",
             "minorgridcolor": "white",
             "startlinecolor": "#2a3f5f"
            },
            "baxis": {
             "endlinecolor": "#2a3f5f",
             "gridcolor": "white",
             "linecolor": "white",
             "minorgridcolor": "white",
             "startlinecolor": "#2a3f5f"
            },
            "type": "carpet"
           }
          ],
          "choropleth": [
           {
            "colorbar": {
             "outlinewidth": 0,
             "ticks": ""
            },
            "type": "choropleth"
           }
          ],
          "contour": [
           {
            "colorbar": {
             "outlinewidth": 0,
             "ticks": ""
            },
            "colorscale": [
             [
              0,
              "#0d0887"
             ],
             [
              0.1111111111111111,
              "#46039f"
             ],
             [
              0.2222222222222222,
              "#7201a8"
             ],
             [
              0.3333333333333333,
              "#9c179e"
             ],
             [
              0.4444444444444444,
              "#bd3786"
             ],
             [
              0.5555555555555556,
              "#d8576b"
             ],
             [
              0.6666666666666666,
              "#ed7953"
             ],
             [
              0.7777777777777778,
              "#fb9f3a"
             ],
             [
              0.8888888888888888,
              "#fdca26"
             ],
             [
              1,
              "#f0f921"
             ]
            ],
            "type": "contour"
           }
          ],
          "contourcarpet": [
           {
            "colorbar": {
             "outlinewidth": 0,
             "ticks": ""
            },
            "type": "contourcarpet"
           }
          ],
          "heatmap": [
           {
            "colorbar": {
             "outlinewidth": 0,
             "ticks": ""
            },
            "colorscale": [
             [
              0,
              "#0d0887"
             ],
             [
              0.1111111111111111,
              "#46039f"
             ],
             [
              0.2222222222222222,
              "#7201a8"
             ],
             [
              0.3333333333333333,
              "#9c179e"
             ],
             [
              0.4444444444444444,
              "#bd3786"
             ],
             [
              0.5555555555555556,
              "#d8576b"
             ],
             [
              0.6666666666666666,
              "#ed7953"
             ],
             [
              0.7777777777777778,
              "#fb9f3a"
             ],
             [
              0.8888888888888888,
              "#fdca26"
             ],
             [
              1,
              "#f0f921"
             ]
            ],
            "type": "heatmap"
           }
          ],
          "heatmapgl": [
           {
            "colorbar": {
             "outlinewidth": 0,
             "ticks": ""
            },
            "colorscale": [
             [
              0,
              "#0d0887"
             ],
             [
              0.1111111111111111,
              "#46039f"
             ],
             [
              0.2222222222222222,
              "#7201a8"
             ],
             [
              0.3333333333333333,
              "#9c179e"
             ],
             [
              0.4444444444444444,
              "#bd3786"
             ],
             [
              0.5555555555555556,
              "#d8576b"
             ],
             [
              0.6666666666666666,
              "#ed7953"
             ],
             [
              0.7777777777777778,
              "#fb9f3a"
             ],
             [
              0.8888888888888888,
              "#fdca26"
             ],
             [
              1,
              "#f0f921"
             ]
            ],
            "type": "heatmapgl"
           }
          ],
          "histogram": [
           {
            "marker": {
             "pattern": {
              "fillmode": "overlay",
              "size": 10,
              "solidity": 0.2
             }
            },
            "type": "histogram"
           }
          ],
          "histogram2d": [
           {
            "colorbar": {
             "outlinewidth": 0,
             "ticks": ""
            },
            "colorscale": [
             [
              0,
              "#0d0887"
             ],
             [
              0.1111111111111111,
              "#46039f"
             ],
             [
              0.2222222222222222,
              "#7201a8"
             ],
             [
              0.3333333333333333,
              "#9c179e"
             ],
             [
              0.4444444444444444,
              "#bd3786"
             ],
             [
              0.5555555555555556,
              "#d8576b"
             ],
             [
              0.6666666666666666,
              "#ed7953"
             ],
             [
              0.7777777777777778,
              "#fb9f3a"
             ],
             [
              0.8888888888888888,
              "#fdca26"
             ],
             [
              1,
              "#f0f921"
             ]
            ],
            "type": "histogram2d"
           }
          ],
          "histogram2dcontour": [
           {
            "colorbar": {
             "outlinewidth": 0,
             "ticks": ""
            },
            "colorscale": [
             [
              0,
              "#0d0887"
             ],
             [
              0.1111111111111111,
              "#46039f"
             ],
             [
              0.2222222222222222,
              "#7201a8"
             ],
             [
              0.3333333333333333,
              "#9c179e"
             ],
             [
              0.4444444444444444,
              "#bd3786"
             ],
             [
              0.5555555555555556,
              "#d8576b"
             ],
             [
              0.6666666666666666,
              "#ed7953"
             ],
             [
              0.7777777777777778,
              "#fb9f3a"
             ],
             [
              0.8888888888888888,
              "#fdca26"
             ],
             [
              1,
              "#f0f921"
             ]
            ],
            "type": "histogram2dcontour"
           }
          ],
          "mesh3d": [
           {
            "colorbar": {
             "outlinewidth": 0,
             "ticks": ""
            },
            "type": "mesh3d"
           }
          ],
          "parcoords": [
           {
            "line": {
             "colorbar": {
              "outlinewidth": 0,
              "ticks": ""
             }
            },
            "type": "parcoords"
           }
          ],
          "pie": [
           {
            "automargin": true,
            "type": "pie"
           }
          ],
          "scatter": [
           {
            "fillpattern": {
             "fillmode": "overlay",
             "size": 10,
             "solidity": 0.2
            },
            "type": "scatter"
           }
          ],
          "scatter3d": [
           {
            "line": {
             "colorbar": {
              "outlinewidth": 0,
              "ticks": ""
             }
            },
            "marker": {
             "colorbar": {
              "outlinewidth": 0,
              "ticks": ""
             }
            },
            "type": "scatter3d"
           }
          ],
          "scattercarpet": [
           {
            "marker": {
             "colorbar": {
              "outlinewidth": 0,
              "ticks": ""
             }
            },
            "type": "scattercarpet"
           }
          ],
          "scattergeo": [
           {
            "marker": {
             "colorbar": {
              "outlinewidth": 0,
              "ticks": ""
             }
            },
            "type": "scattergeo"
           }
          ],
          "scattergl": [
           {
            "marker": {
             "colorbar": {
              "outlinewidth": 0,
              "ticks": ""
             }
            },
            "type": "scattergl"
           }
          ],
          "scattermapbox": [
           {
            "marker": {
             "colorbar": {
              "outlinewidth": 0,
              "ticks": ""
             }
            },
            "type": "scattermapbox"
           }
          ],
          "scatterpolar": [
           {
            "marker": {
             "colorbar": {
              "outlinewidth": 0,
              "ticks": ""
             }
            },
            "type": "scatterpolar"
           }
          ],
          "scatterpolargl": [
           {
            "marker": {
             "colorbar": {
              "outlinewidth": 0,
              "ticks": ""
             }
            },
            "type": "scatterpolargl"
           }
          ],
          "scatterternary": [
           {
            "marker": {
             "colorbar": {
              "outlinewidth": 0,
              "ticks": ""
             }
            },
            "type": "scatterternary"
           }
          ],
          "surface": [
           {
            "colorbar": {
             "outlinewidth": 0,
             "ticks": ""
            },
            "colorscale": [
             [
              0,
              "#0d0887"
             ],
             [
              0.1111111111111111,
              "#46039f"
             ],
             [
              0.2222222222222222,
              "#7201a8"
             ],
             [
              0.3333333333333333,
              "#9c179e"
             ],
             [
              0.4444444444444444,
              "#bd3786"
             ],
             [
              0.5555555555555556,
              "#d8576b"
             ],
             [
              0.6666666666666666,
              "#ed7953"
             ],
             [
              0.7777777777777778,
              "#fb9f3a"
             ],
             [
              0.8888888888888888,
              "#fdca26"
             ],
             [
              1,
              "#f0f921"
             ]
            ],
            "type": "surface"
           }
          ],
          "table": [
           {
            "cells": {
             "fill": {
              "color": "#EBF0F8"
             },
             "line": {
              "color": "white"
             }
            },
            "header": {
             "fill": {
              "color": "#C8D4E3"
             },
             "line": {
              "color": "white"
             }
            },
            "type": "table"
           }
          ]
         },
         "layout": {
          "annotationdefaults": {
           "arrowcolor": "#2a3f5f",
           "arrowhead": 0,
           "arrowwidth": 1
          },
          "autotypenumbers": "strict",
          "coloraxis": {
           "colorbar": {
            "outlinewidth": 0,
            "ticks": ""
           }
          },
          "colorscale": {
           "diverging": [
            [
             0,
             "#8e0152"
            ],
            [
             0.1,
             "#c51b7d"
            ],
            [
             0.2,
             "#de77ae"
            ],
            [
             0.3,
             "#f1b6da"
            ],
            [
             0.4,
             "#fde0ef"
            ],
            [
             0.5,
             "#f7f7f7"
            ],
            [
             0.6,
             "#e6f5d0"
            ],
            [
             0.7,
             "#b8e186"
            ],
            [
             0.8,
             "#7fbc41"
            ],
            [
             0.9,
             "#4d9221"
            ],
            [
             1,
             "#276419"
            ]
           ],
           "sequential": [
            [
             0,
             "#0d0887"
            ],
            [
             0.1111111111111111,
             "#46039f"
            ],
            [
             0.2222222222222222,
             "#7201a8"
            ],
            [
             0.3333333333333333,
             "#9c179e"
            ],
            [
             0.4444444444444444,
             "#bd3786"
            ],
            [
             0.5555555555555556,
             "#d8576b"
            ],
            [
             0.6666666666666666,
             "#ed7953"
            ],
            [
             0.7777777777777778,
             "#fb9f3a"
            ],
            [
             0.8888888888888888,
             "#fdca26"
            ],
            [
             1,
             "#f0f921"
            ]
           ],
           "sequentialminus": [
            [
             0,
             "#0d0887"
            ],
            [
             0.1111111111111111,
             "#46039f"
            ],
            [
             0.2222222222222222,
             "#7201a8"
            ],
            [
             0.3333333333333333,
             "#9c179e"
            ],
            [
             0.4444444444444444,
             "#bd3786"
            ],
            [
             0.5555555555555556,
             "#d8576b"
            ],
            [
             0.6666666666666666,
             "#ed7953"
            ],
            [
             0.7777777777777778,
             "#fb9f3a"
            ],
            [
             0.8888888888888888,
             "#fdca26"
            ],
            [
             1,
             "#f0f921"
            ]
           ]
          },
          "colorway": [
           "#636efa",
           "#EF553B",
           "#00cc96",
           "#ab63fa",
           "#FFA15A",
           "#19d3f3",
           "#FF6692",
           "#B6E880",
           "#FF97FF",
           "#FECB52"
          ],
          "font": {
           "color": "#2a3f5f"
          },
          "geo": {
           "bgcolor": "white",
           "lakecolor": "white",
           "landcolor": "#E5ECF6",
           "showlakes": true,
           "showland": true,
           "subunitcolor": "white"
          },
          "hoverlabel": {
           "align": "left"
          },
          "hovermode": "closest",
          "mapbox": {
           "style": "light"
          },
          "paper_bgcolor": "white",
          "plot_bgcolor": "#E5ECF6",
          "polar": {
           "angularaxis": {
            "gridcolor": "white",
            "linecolor": "white",
            "ticks": ""
           },
           "bgcolor": "#E5ECF6",
           "radialaxis": {
            "gridcolor": "white",
            "linecolor": "white",
            "ticks": ""
           }
          },
          "scene": {
           "xaxis": {
            "backgroundcolor": "#E5ECF6",
            "gridcolor": "white",
            "gridwidth": 2,
            "linecolor": "white",
            "showbackground": true,
            "ticks": "",
            "zerolinecolor": "white"
           },
           "yaxis": {
            "backgroundcolor": "#E5ECF6",
            "gridcolor": "white",
            "gridwidth": 2,
            "linecolor": "white",
            "showbackground": true,
            "ticks": "",
            "zerolinecolor": "white"
           },
           "zaxis": {
            "backgroundcolor": "#E5ECF6",
            "gridcolor": "white",
            "gridwidth": 2,
            "linecolor": "white",
            "showbackground": true,
            "ticks": "",
            "zerolinecolor": "white"
           }
          },
          "shapedefaults": {
           "line": {
            "color": "#2a3f5f"
           }
          },
          "ternary": {
           "aaxis": {
            "gridcolor": "white",
            "linecolor": "white",
            "ticks": ""
           },
           "baxis": {
            "gridcolor": "white",
            "linecolor": "white",
            "ticks": ""
           },
           "bgcolor": "#E5ECF6",
           "caxis": {
            "gridcolor": "white",
            "linecolor": "white",
            "ticks": ""
           }
          },
          "title": {
           "x": 0.05
          },
          "xaxis": {
           "automargin": true,
           "gridcolor": "white",
           "linecolor": "white",
           "ticks": "",
           "title": {
            "standoff": 15
           },
           "zerolinecolor": "white",
           "zerolinewidth": 2
          },
          "yaxis": {
           "automargin": true,
           "gridcolor": "white",
           "linecolor": "white",
           "ticks": "",
           "title": {
            "standoff": 15
           },
           "zerolinecolor": "white",
           "zerolinewidth": 2
          }
         }
        }
       }
      },
      "text/html": [
       "<div>                            <div id=\"60896215-4349-4d5d-829d-91e6ac5c082c\" class=\"plotly-graph-div\" style=\"height:525px; width:100%;\"></div>            <script type=\"text/javascript\">                require([\"plotly\"], function(Plotly) {                    window.PLOTLYENV=window.PLOTLYENV || {};                                    if (document.getElementById(\"60896215-4349-4d5d-829d-91e6ac5c082c\")) {                    Plotly.newPlot(                        \"60896215-4349-4d5d-829d-91e6ac5c082c\",                        [{\"orientation\":\"v\",\"x\":[\"22\",\"29\",\"21\",\"30\",\"28\",\"37\",\"35\",\"20\",\"26\",\"19\",\"17\",\"40\",\"32\",\"24\",\"25\",\"15\",\"27\",\"41\",\"33\",\"18\",\"31\",\"23\",\"42\",\"16\",\"34\",\"14\",\"47\",\"36\",\"48\",\"43\",\"11\",\"13\",\"39\",\"9\",\"51\",\"38\",\"46\",\"50\",\"49\",\"83\",\"53\",\"61\",\"66\",\"52\",\"12\",\"63\",\"10\",\"56\",\"65\",\"78\",\"59\",\"6\",\"60\",\"62\",\"74\",\"58\"],\"y\":[23,19,16,15,15,15,15,14,14,13,13,13,12,11,11,10,9,9,9,9,8,8,8,7,7,6,6,6,5,5,5,4,4,4,4,3,3,3,2,2,2,2,2,2,2,1,1,1,1,1,1,1,1,1,1,1],\"type\":\"bar\"}],                        {\"template\":{\"data\":{\"histogram2dcontour\":[{\"type\":\"histogram2dcontour\",\"colorbar\":{\"outlinewidth\":0,\"ticks\":\"\"},\"colorscale\":[[0.0,\"#0d0887\"],[0.1111111111111111,\"#46039f\"],[0.2222222222222222,\"#7201a8\"],[0.3333333333333333,\"#9c179e\"],[0.4444444444444444,\"#bd3786\"],[0.5555555555555556,\"#d8576b\"],[0.6666666666666666,\"#ed7953\"],[0.7777777777777778,\"#fb9f3a\"],[0.8888888888888888,\"#fdca26\"],[1.0,\"#f0f921\"]]}],\"choropleth\":[{\"type\":\"choropleth\",\"colorbar\":{\"outlinewidth\":0,\"ticks\":\"\"}}],\"histogram2d\":[{\"type\":\"histogram2d\",\"colorbar\":{\"outlinewidth\":0,\"ticks\":\"\"},\"colorscale\":[[0.0,\"#0d0887\"],[0.1111111111111111,\"#46039f\"],[0.2222222222222222,\"#7201a8\"],[0.3333333333333333,\"#9c179e\"],[0.4444444444444444,\"#bd3786\"],[0.5555555555555556,\"#d8576b\"],[0.6666666666666666,\"#ed7953\"],[0.7777777777777778,\"#fb9f3a\"],[0.8888888888888888,\"#fdca26\"],[1.0,\"#f0f921\"]]}],\"heatmap\":[{\"type\":\"heatmap\",\"colorbar\":{\"outlinewidth\":0,\"ticks\":\"\"},\"colorscale\":[[0.0,\"#0d0887\"],[0.1111111111111111,\"#46039f\"],[0.2222222222222222,\"#7201a8\"],[0.3333333333333333,\"#9c179e\"],[0.4444444444444444,\"#bd3786\"],[0.5555555555555556,\"#d8576b\"],[0.6666666666666666,\"#ed7953\"],[0.7777777777777778,\"#fb9f3a\"],[0.8888888888888888,\"#fdca26\"],[1.0,\"#f0f921\"]]}],\"heatmapgl\":[{\"type\":\"heatmapgl\",\"colorbar\":{\"outlinewidth\":0,\"ticks\":\"\"},\"colorscale\":[[0.0,\"#0d0887\"],[0.1111111111111111,\"#46039f\"],[0.2222222222222222,\"#7201a8\"],[0.3333333333333333,\"#9c179e\"],[0.4444444444444444,\"#bd3786\"],[0.5555555555555556,\"#d8576b\"],[0.6666666666666666,\"#ed7953\"],[0.7777777777777778,\"#fb9f3a\"],[0.8888888888888888,\"#fdca26\"],[1.0,\"#f0f921\"]]}],\"contourcarpet\":[{\"type\":\"contourcarpet\",\"colorbar\":{\"outlinewidth\":0,\"ticks\":\"\"}}],\"contour\":[{\"type\":\"contour\",\"colorbar\":{\"outlinewidth\":0,\"ticks\":\"\"},\"colorscale\":[[0.0,\"#0d0887\"],[0.1111111111111111,\"#46039f\"],[0.2222222222222222,\"#7201a8\"],[0.3333333333333333,\"#9c179e\"],[0.4444444444444444,\"#bd3786\"],[0.5555555555555556,\"#d8576b\"],[0.6666666666666666,\"#ed7953\"],[0.7777777777777778,\"#fb9f3a\"],[0.8888888888888888,\"#fdca26\"],[1.0,\"#f0f921\"]]}],\"surface\":[{\"type\":\"surface\",\"colorbar\":{\"outlinewidth\":0,\"ticks\":\"\"},\"colorscale\":[[0.0,\"#0d0887\"],[0.1111111111111111,\"#46039f\"],[0.2222222222222222,\"#7201a8\"],[0.3333333333333333,\"#9c179e\"],[0.4444444444444444,\"#bd3786\"],[0.5555555555555556,\"#d8576b\"],[0.6666666666666666,\"#ed7953\"],[0.7777777777777778,\"#fb9f3a\"],[0.8888888888888888,\"#fdca26\"],[1.0,\"#f0f921\"]]}],\"mesh3d\":[{\"type\":\"mesh3d\",\"colorbar\":{\"outlinewidth\":0,\"ticks\":\"\"}}],\"scatter\":[{\"fillpattern\":{\"fillmode\":\"overlay\",\"size\":10,\"solidity\":0.2},\"type\":\"scatter\"}],\"parcoords\":[{\"type\":\"parcoords\",\"line\":{\"colorbar\":{\"outlinewidth\":0,\"ticks\":\"\"}}}],\"scatterpolargl\":[{\"type\":\"scatterpolargl\",\"marker\":{\"colorbar\":{\"outlinewidth\":0,\"ticks\":\"\"}}}],\"bar\":[{\"error_x\":{\"color\":\"#2a3f5f\"},\"error_y\":{\"color\":\"#2a3f5f\"},\"marker\":{\"line\":{\"color\":\"#E5ECF6\",\"width\":0.5},\"pattern\":{\"fillmode\":\"overlay\",\"size\":10,\"solidity\":0.2}},\"type\":\"bar\"}],\"scattergeo\":[{\"type\":\"scattergeo\",\"marker\":{\"colorbar\":{\"outlinewidth\":0,\"ticks\":\"\"}}}],\"scatterpolar\":[{\"type\":\"scatterpolar\",\"marker\":{\"colorbar\":{\"outlinewidth\":0,\"ticks\":\"\"}}}],\"histogram\":[{\"marker\":{\"pattern\":{\"fillmode\":\"overlay\",\"size\":10,\"solidity\":0.2}},\"type\":\"histogram\"}],\"scattergl\":[{\"type\":\"scattergl\",\"marker\":{\"colorbar\":{\"outlinewidth\":0,\"ticks\":\"\"}}}],\"scatter3d\":[{\"type\":\"scatter3d\",\"line\":{\"colorbar\":{\"outlinewidth\":0,\"ticks\":\"\"}},\"marker\":{\"colorbar\":{\"outlinewidth\":0,\"ticks\":\"\"}}}],\"scattermapbox\":[{\"type\":\"scattermapbox\",\"marker\":{\"colorbar\":{\"outlinewidth\":0,\"ticks\":\"\"}}}],\"scatterternary\":[{\"type\":\"scatterternary\",\"marker\":{\"colorbar\":{\"outlinewidth\":0,\"ticks\":\"\"}}}],\"scattercarpet\":[{\"type\":\"scattercarpet\",\"marker\":{\"colorbar\":{\"outlinewidth\":0,\"ticks\":\"\"}}}],\"carpet\":[{\"aaxis\":{\"endlinecolor\":\"#2a3f5f\",\"gridcolor\":\"white\",\"linecolor\":\"white\",\"minorgridcolor\":\"white\",\"startlinecolor\":\"#2a3f5f\"},\"baxis\":{\"endlinecolor\":\"#2a3f5f\",\"gridcolor\":\"white\",\"linecolor\":\"white\",\"minorgridcolor\":\"white\",\"startlinecolor\":\"#2a3f5f\"},\"type\":\"carpet\"}],\"table\":[{\"cells\":{\"fill\":{\"color\":\"#EBF0F8\"},\"line\":{\"color\":\"white\"}},\"header\":{\"fill\":{\"color\":\"#C8D4E3\"},\"line\":{\"color\":\"white\"}},\"type\":\"table\"}],\"barpolar\":[{\"marker\":{\"line\":{\"color\":\"#E5ECF6\",\"width\":0.5},\"pattern\":{\"fillmode\":\"overlay\",\"size\":10,\"solidity\":0.2}},\"type\":\"barpolar\"}],\"pie\":[{\"automargin\":true,\"type\":\"pie\"}]},\"layout\":{\"autotypenumbers\":\"strict\",\"colorway\":[\"#636efa\",\"#EF553B\",\"#00cc96\",\"#ab63fa\",\"#FFA15A\",\"#19d3f3\",\"#FF6692\",\"#B6E880\",\"#FF97FF\",\"#FECB52\"],\"font\":{\"color\":\"#2a3f5f\"},\"hovermode\":\"closest\",\"hoverlabel\":{\"align\":\"left\"},\"paper_bgcolor\":\"white\",\"plot_bgcolor\":\"#E5ECF6\",\"polar\":{\"bgcolor\":\"#E5ECF6\",\"angularaxis\":{\"gridcolor\":\"white\",\"linecolor\":\"white\",\"ticks\":\"\"},\"radialaxis\":{\"gridcolor\":\"white\",\"linecolor\":\"white\",\"ticks\":\"\"}},\"ternary\":{\"bgcolor\":\"#E5ECF6\",\"aaxis\":{\"gridcolor\":\"white\",\"linecolor\":\"white\",\"ticks\":\"\"},\"baxis\":{\"gridcolor\":\"white\",\"linecolor\":\"white\",\"ticks\":\"\"},\"caxis\":{\"gridcolor\":\"white\",\"linecolor\":\"white\",\"ticks\":\"\"}},\"coloraxis\":{\"colorbar\":{\"outlinewidth\":0,\"ticks\":\"\"}},\"colorscale\":{\"sequential\":[[0.0,\"#0d0887\"],[0.1111111111111111,\"#46039f\"],[0.2222222222222222,\"#7201a8\"],[0.3333333333333333,\"#9c179e\"],[0.4444444444444444,\"#bd3786\"],[0.5555555555555556,\"#d8576b\"],[0.6666666666666666,\"#ed7953\"],[0.7777777777777778,\"#fb9f3a\"],[0.8888888888888888,\"#fdca26\"],[1.0,\"#f0f921\"]],\"sequentialminus\":[[0.0,\"#0d0887\"],[0.1111111111111111,\"#46039f\"],[0.2222222222222222,\"#7201a8\"],[0.3333333333333333,\"#9c179e\"],[0.4444444444444444,\"#bd3786\"],[0.5555555555555556,\"#d8576b\"],[0.6666666666666666,\"#ed7953\"],[0.7777777777777778,\"#fb9f3a\"],[0.8888888888888888,\"#fdca26\"],[1.0,\"#f0f921\"]],\"diverging\":[[0,\"#8e0152\"],[0.1,\"#c51b7d\"],[0.2,\"#de77ae\"],[0.3,\"#f1b6da\"],[0.4,\"#fde0ef\"],[0.5,\"#f7f7f7\"],[0.6,\"#e6f5d0\"],[0.7,\"#b8e186\"],[0.8,\"#7fbc41\"],[0.9,\"#4d9221\"],[1,\"#276419\"]]},\"xaxis\":{\"gridcolor\":\"white\",\"linecolor\":\"white\",\"ticks\":\"\",\"title\":{\"standoff\":15},\"zerolinecolor\":\"white\",\"automargin\":true,\"zerolinewidth\":2},\"yaxis\":{\"gridcolor\":\"white\",\"linecolor\":\"white\",\"ticks\":\"\",\"title\":{\"standoff\":15},\"zerolinecolor\":\"white\",\"automargin\":true,\"zerolinewidth\":2},\"scene\":{\"xaxis\":{\"backgroundcolor\":\"#E5ECF6\",\"gridcolor\":\"white\",\"linecolor\":\"white\",\"showbackground\":true,\"ticks\":\"\",\"zerolinecolor\":\"white\",\"gridwidth\":2},\"yaxis\":{\"backgroundcolor\":\"#E5ECF6\",\"gridcolor\":\"white\",\"linecolor\":\"white\",\"showbackground\":true,\"ticks\":\"\",\"zerolinecolor\":\"white\",\"gridwidth\":2},\"zaxis\":{\"backgroundcolor\":\"#E5ECF6\",\"gridcolor\":\"white\",\"linecolor\":\"white\",\"showbackground\":true,\"ticks\":\"\",\"zerolinecolor\":\"white\",\"gridwidth\":2}},\"shapedefaults\":{\"line\":{\"color\":\"#2a3f5f\"}},\"annotationdefaults\":{\"arrowcolor\":\"#2a3f5f\",\"arrowhead\":0,\"arrowwidth\":1},\"geo\":{\"bgcolor\":\"white\",\"landcolor\":\"#E5ECF6\",\"subunitcolor\":\"white\",\"showland\":true,\"showlakes\":true,\"lakecolor\":\"white\"},\"title\":{\"x\":0.05},\"mapbox\":{\"style\":\"light\"}}}},                        {\"responsive\": true}                    ).then(function(){\n",
       "                            \n",
       "var gd = document.getElementById('60896215-4349-4d5d-829d-91e6ac5c082c');\n",
       "var x = new MutationObserver(function (mutations, observer) {{\n",
       "        var display = window.getComputedStyle(gd).display;\n",
       "        if (!display || display === 'none') {{\n",
       "            console.log([gd, 'removed!']);\n",
       "            Plotly.purge(gd);\n",
       "            observer.disconnect();\n",
       "        }}\n",
       "}});\n",
       "\n",
       "// Listen for the removal of the full notebook cells\n",
       "var notebookContainer = gd.closest('#notebook-container');\n",
       "if (notebookContainer) {{\n",
       "    x.observe(notebookContainer, {childList: true});\n",
       "}}\n",
       "\n",
       "// Listen for the clearing of the current output cell\n",
       "var outputEl = gd.closest('.output');\n",
       "if (outputEl) {{\n",
       "    x.observe(outputEl, {childList: true});\n",
       "}}\n",
       "\n",
       "                        })                };                });            </script>        </div>"
      ]
     },
     "metadata": {},
     "output_type": "display_data"
    },
    {
     "name": "stdout",
     "output_type": "stream",
     "text": [
      "Dataset:  tsar-en\n",
      "Max length:  9\n",
      "(len, count) (sorted by count): [('22', 23), ('29', 19), ('21', 16), ('30', 15), ('28', 15), ('37', 15), ('35', 15), ('20', 14), ('26', 14), ('19', 13), ('17', 13), ('40', 13), ('32', 12), ('24', 11), ('25', 11), ('15', 10), ('27', 9), ('41', 9), ('33', 9), ('18', 9), ('31', 8), ('23', 8), ('42', 8), ('16', 7), ('34', 7), ('14', 6), ('47', 6), ('36', 6), ('48', 5), ('43', 5), ('11', 5), ('13', 4), ('39', 4), ('9', 4), ('51', 4), ('38', 3), ('46', 3), ('50', 3), ('49', 2), ('83', 2), ('53', 2), ('61', 2), ('66', 2), ('52', 2), ('12', 2), ('63', 1), ('10', 1), ('56', 1), ('65', 1), ('78', 1), ('59', 1), ('6', 1), ('60', 1), ('62', 1), ('74', 1), ('58', 1)]\n",
      "(len, count) (sorted by len):  [('83', 2), ('78', 1), ('74', 1), ('66', 2), ('65', 1), ('63', 1), ('62', 1), ('61', 2), ('60', 1), ('59', 1), ('58', 1), ('56', 1), ('53', 2), ('52', 2), ('51', 4), ('50', 3), ('49', 2), ('48', 5), ('47', 6), ('46', 3), ('43', 5), ('42', 8), ('41', 9), ('40', 13), ('39', 4), ('38', 3), ('37', 15), ('36', 6), ('35', 15), ('34', 7), ('33', 9), ('32', 12), ('31', 8), ('30', 15), ('29', 19), ('28', 15), ('27', 9), ('26', 14), ('25', 11), ('24', 11), ('23', 8), ('22', 23), ('21', 16), ('20', 14), ('19', 13), ('18', 9), ('17', 13), ('16', 7), ('15', 10), ('14', 6), ('13', 4), ('12', 2), ('11', 5), ('10', 1), ('9', 4), ('6', 1)]\n"
     ]
    },
    {
     "data": {
      "application/vnd.plotly.v1+json": {
       "config": {
        "plotlyServerURL": "https://plot.ly"
       },
       "data": [
        {
         "orientation": "v",
         "type": "bar",
         "x": [
          "28",
          "38",
          "21",
          "42",
          "25",
          "16",
          "33",
          "37",
          "18",
          "31",
          "20",
          "35",
          "32",
          "23",
          "51",
          "30",
          "22",
          "47",
          "24",
          "15",
          "40",
          "34",
          "19",
          "26",
          "27",
          "54",
          "11",
          "9",
          "46",
          "29",
          "65",
          "43",
          "13",
          "44",
          "17",
          "48",
          "39",
          "66",
          "12",
          "64",
          "14",
          "49",
          "52",
          "45",
          "41",
          "115",
          "57",
          "80",
          "73",
          "70",
          "62",
          "106",
          "68",
          "7",
          "56",
          "36",
          "93",
          "61",
          "96",
          "78",
          "63",
          "75",
          "8",
          "72",
          "5",
          "50",
          "53",
          "138",
          "71",
          "10",
          "91",
          "100"
         ],
         "y": [
          25,
          16,
          15,
          14,
          13,
          12,
          11,
          11,
          11,
          10,
          10,
          10,
          9,
          9,
          8,
          8,
          8,
          8,
          7,
          7,
          7,
          7,
          7,
          7,
          7,
          6,
          6,
          6,
          5,
          5,
          5,
          4,
          4,
          4,
          4,
          4,
          4,
          4,
          4,
          3,
          3,
          3,
          3,
          3,
          3,
          3,
          3,
          3,
          2,
          2,
          2,
          2,
          2,
          2,
          2,
          2,
          1,
          1,
          1,
          1,
          1,
          1,
          1,
          1,
          1,
          1,
          1,
          1,
          1,
          1,
          1,
          1
         ]
        }
       ],
       "layout": {
        "template": {
         "data": {
          "bar": [
           {
            "error_x": {
             "color": "#2a3f5f"
            },
            "error_y": {
             "color": "#2a3f5f"
            },
            "marker": {
             "line": {
              "color": "#E5ECF6",
              "width": 0.5
             },
             "pattern": {
              "fillmode": "overlay",
              "size": 10,
              "solidity": 0.2
             }
            },
            "type": "bar"
           }
          ],
          "barpolar": [
           {
            "marker": {
             "line": {
              "color": "#E5ECF6",
              "width": 0.5
             },
             "pattern": {
              "fillmode": "overlay",
              "size": 10,
              "solidity": 0.2
             }
            },
            "type": "barpolar"
           }
          ],
          "carpet": [
           {
            "aaxis": {
             "endlinecolor": "#2a3f5f",
             "gridcolor": "white",
             "linecolor": "white",
             "minorgridcolor": "white",
             "startlinecolor": "#2a3f5f"
            },
            "baxis": {
             "endlinecolor": "#2a3f5f",
             "gridcolor": "white",
             "linecolor": "white",
             "minorgridcolor": "white",
             "startlinecolor": "#2a3f5f"
            },
            "type": "carpet"
           }
          ],
          "choropleth": [
           {
            "colorbar": {
             "outlinewidth": 0,
             "ticks": ""
            },
            "type": "choropleth"
           }
          ],
          "contour": [
           {
            "colorbar": {
             "outlinewidth": 0,
             "ticks": ""
            },
            "colorscale": [
             [
              0,
              "#0d0887"
             ],
             [
              0.1111111111111111,
              "#46039f"
             ],
             [
              0.2222222222222222,
              "#7201a8"
             ],
             [
              0.3333333333333333,
              "#9c179e"
             ],
             [
              0.4444444444444444,
              "#bd3786"
             ],
             [
              0.5555555555555556,
              "#d8576b"
             ],
             [
              0.6666666666666666,
              "#ed7953"
             ],
             [
              0.7777777777777778,
              "#fb9f3a"
             ],
             [
              0.8888888888888888,
              "#fdca26"
             ],
             [
              1,
              "#f0f921"
             ]
            ],
            "type": "contour"
           }
          ],
          "contourcarpet": [
           {
            "colorbar": {
             "outlinewidth": 0,
             "ticks": ""
            },
            "type": "contourcarpet"
           }
          ],
          "heatmap": [
           {
            "colorbar": {
             "outlinewidth": 0,
             "ticks": ""
            },
            "colorscale": [
             [
              0,
              "#0d0887"
             ],
             [
              0.1111111111111111,
              "#46039f"
             ],
             [
              0.2222222222222222,
              "#7201a8"
             ],
             [
              0.3333333333333333,
              "#9c179e"
             ],
             [
              0.4444444444444444,
              "#bd3786"
             ],
             [
              0.5555555555555556,
              "#d8576b"
             ],
             [
              0.6666666666666666,
              "#ed7953"
             ],
             [
              0.7777777777777778,
              "#fb9f3a"
             ],
             [
              0.8888888888888888,
              "#fdca26"
             ],
             [
              1,
              "#f0f921"
             ]
            ],
            "type": "heatmap"
           }
          ],
          "heatmapgl": [
           {
            "colorbar": {
             "outlinewidth": 0,
             "ticks": ""
            },
            "colorscale": [
             [
              0,
              "#0d0887"
             ],
             [
              0.1111111111111111,
              "#46039f"
             ],
             [
              0.2222222222222222,
              "#7201a8"
             ],
             [
              0.3333333333333333,
              "#9c179e"
             ],
             [
              0.4444444444444444,
              "#bd3786"
             ],
             [
              0.5555555555555556,
              "#d8576b"
             ],
             [
              0.6666666666666666,
              "#ed7953"
             ],
             [
              0.7777777777777778,
              "#fb9f3a"
             ],
             [
              0.8888888888888888,
              "#fdca26"
             ],
             [
              1,
              "#f0f921"
             ]
            ],
            "type": "heatmapgl"
           }
          ],
          "histogram": [
           {
            "marker": {
             "pattern": {
              "fillmode": "overlay",
              "size": 10,
              "solidity": 0.2
             }
            },
            "type": "histogram"
           }
          ],
          "histogram2d": [
           {
            "colorbar": {
             "outlinewidth": 0,
             "ticks": ""
            },
            "colorscale": [
             [
              0,
              "#0d0887"
             ],
             [
              0.1111111111111111,
              "#46039f"
             ],
             [
              0.2222222222222222,
              "#7201a8"
             ],
             [
              0.3333333333333333,
              "#9c179e"
             ],
             [
              0.4444444444444444,
              "#bd3786"
             ],
             [
              0.5555555555555556,
              "#d8576b"
             ],
             [
              0.6666666666666666,
              "#ed7953"
             ],
             [
              0.7777777777777778,
              "#fb9f3a"
             ],
             [
              0.8888888888888888,
              "#fdca26"
             ],
             [
              1,
              "#f0f921"
             ]
            ],
            "type": "histogram2d"
           }
          ],
          "histogram2dcontour": [
           {
            "colorbar": {
             "outlinewidth": 0,
             "ticks": ""
            },
            "colorscale": [
             [
              0,
              "#0d0887"
             ],
             [
              0.1111111111111111,
              "#46039f"
             ],
             [
              0.2222222222222222,
              "#7201a8"
             ],
             [
              0.3333333333333333,
              "#9c179e"
             ],
             [
              0.4444444444444444,
              "#bd3786"
             ],
             [
              0.5555555555555556,
              "#d8576b"
             ],
             [
              0.6666666666666666,
              "#ed7953"
             ],
             [
              0.7777777777777778,
              "#fb9f3a"
             ],
             [
              0.8888888888888888,
              "#fdca26"
             ],
             [
              1,
              "#f0f921"
             ]
            ],
            "type": "histogram2dcontour"
           }
          ],
          "mesh3d": [
           {
            "colorbar": {
             "outlinewidth": 0,
             "ticks": ""
            },
            "type": "mesh3d"
           }
          ],
          "parcoords": [
           {
            "line": {
             "colorbar": {
              "outlinewidth": 0,
              "ticks": ""
             }
            },
            "type": "parcoords"
           }
          ],
          "pie": [
           {
            "automargin": true,
            "type": "pie"
           }
          ],
          "scatter": [
           {
            "fillpattern": {
             "fillmode": "overlay",
             "size": 10,
             "solidity": 0.2
            },
            "type": "scatter"
           }
          ],
          "scatter3d": [
           {
            "line": {
             "colorbar": {
              "outlinewidth": 0,
              "ticks": ""
             }
            },
            "marker": {
             "colorbar": {
              "outlinewidth": 0,
              "ticks": ""
             }
            },
            "type": "scatter3d"
           }
          ],
          "scattercarpet": [
           {
            "marker": {
             "colorbar": {
              "outlinewidth": 0,
              "ticks": ""
             }
            },
            "type": "scattercarpet"
           }
          ],
          "scattergeo": [
           {
            "marker": {
             "colorbar": {
              "outlinewidth": 0,
              "ticks": ""
             }
            },
            "type": "scattergeo"
           }
          ],
          "scattergl": [
           {
            "marker": {
             "colorbar": {
              "outlinewidth": 0,
              "ticks": ""
             }
            },
            "type": "scattergl"
           }
          ],
          "scattermapbox": [
           {
            "marker": {
             "colorbar": {
              "outlinewidth": 0,
              "ticks": ""
             }
            },
            "type": "scattermapbox"
           }
          ],
          "scatterpolar": [
           {
            "marker": {
             "colorbar": {
              "outlinewidth": 0,
              "ticks": ""
             }
            },
            "type": "scatterpolar"
           }
          ],
          "scatterpolargl": [
           {
            "marker": {
             "colorbar": {
              "outlinewidth": 0,
              "ticks": ""
             }
            },
            "type": "scatterpolargl"
           }
          ],
          "scatterternary": [
           {
            "marker": {
             "colorbar": {
              "outlinewidth": 0,
              "ticks": ""
             }
            },
            "type": "scatterternary"
           }
          ],
          "surface": [
           {
            "colorbar": {
             "outlinewidth": 0,
             "ticks": ""
            },
            "colorscale": [
             [
              0,
              "#0d0887"
             ],
             [
              0.1111111111111111,
              "#46039f"
             ],
             [
              0.2222222222222222,
              "#7201a8"
             ],
             [
              0.3333333333333333,
              "#9c179e"
             ],
             [
              0.4444444444444444,
              "#bd3786"
             ],
             [
              0.5555555555555556,
              "#d8576b"
             ],
             [
              0.6666666666666666,
              "#ed7953"
             ],
             [
              0.7777777777777778,
              "#fb9f3a"
             ],
             [
              0.8888888888888888,
              "#fdca26"
             ],
             [
              1,
              "#f0f921"
             ]
            ],
            "type": "surface"
           }
          ],
          "table": [
           {
            "cells": {
             "fill": {
              "color": "#EBF0F8"
             },
             "line": {
              "color": "white"
             }
            },
            "header": {
             "fill": {
              "color": "#C8D4E3"
             },
             "line": {
              "color": "white"
             }
            },
            "type": "table"
           }
          ]
         },
         "layout": {
          "annotationdefaults": {
           "arrowcolor": "#2a3f5f",
           "arrowhead": 0,
           "arrowwidth": 1
          },
          "autotypenumbers": "strict",
          "coloraxis": {
           "colorbar": {
            "outlinewidth": 0,
            "ticks": ""
           }
          },
          "colorscale": {
           "diverging": [
            [
             0,
             "#8e0152"
            ],
            [
             0.1,
             "#c51b7d"
            ],
            [
             0.2,
             "#de77ae"
            ],
            [
             0.3,
             "#f1b6da"
            ],
            [
             0.4,
             "#fde0ef"
            ],
            [
             0.5,
             "#f7f7f7"
            ],
            [
             0.6,
             "#e6f5d0"
            ],
            [
             0.7,
             "#b8e186"
            ],
            [
             0.8,
             "#7fbc41"
            ],
            [
             0.9,
             "#4d9221"
            ],
            [
             1,
             "#276419"
            ]
           ],
           "sequential": [
            [
             0,
             "#0d0887"
            ],
            [
             0.1111111111111111,
             "#46039f"
            ],
            [
             0.2222222222222222,
             "#7201a8"
            ],
            [
             0.3333333333333333,
             "#9c179e"
            ],
            [
             0.4444444444444444,
             "#bd3786"
            ],
            [
             0.5555555555555556,
             "#d8576b"
            ],
            [
             0.6666666666666666,
             "#ed7953"
            ],
            [
             0.7777777777777778,
             "#fb9f3a"
            ],
            [
             0.8888888888888888,
             "#fdca26"
            ],
            [
             1,
             "#f0f921"
            ]
           ],
           "sequentialminus": [
            [
             0,
             "#0d0887"
            ],
            [
             0.1111111111111111,
             "#46039f"
            ],
            [
             0.2222222222222222,
             "#7201a8"
            ],
            [
             0.3333333333333333,
             "#9c179e"
            ],
            [
             0.4444444444444444,
             "#bd3786"
            ],
            [
             0.5555555555555556,
             "#d8576b"
            ],
            [
             0.6666666666666666,
             "#ed7953"
            ],
            [
             0.7777777777777778,
             "#fb9f3a"
            ],
            [
             0.8888888888888888,
             "#fdca26"
            ],
            [
             1,
             "#f0f921"
            ]
           ]
          },
          "colorway": [
           "#636efa",
           "#EF553B",
           "#00cc96",
           "#ab63fa",
           "#FFA15A",
           "#19d3f3",
           "#FF6692",
           "#B6E880",
           "#FF97FF",
           "#FECB52"
          ],
          "font": {
           "color": "#2a3f5f"
          },
          "geo": {
           "bgcolor": "white",
           "lakecolor": "white",
           "landcolor": "#E5ECF6",
           "showlakes": true,
           "showland": true,
           "subunitcolor": "white"
          },
          "hoverlabel": {
           "align": "left"
          },
          "hovermode": "closest",
          "mapbox": {
           "style": "light"
          },
          "paper_bgcolor": "white",
          "plot_bgcolor": "#E5ECF6",
          "polar": {
           "angularaxis": {
            "gridcolor": "white",
            "linecolor": "white",
            "ticks": ""
           },
           "bgcolor": "#E5ECF6",
           "radialaxis": {
            "gridcolor": "white",
            "linecolor": "white",
            "ticks": ""
           }
          },
          "scene": {
           "xaxis": {
            "backgroundcolor": "#E5ECF6",
            "gridcolor": "white",
            "gridwidth": 2,
            "linecolor": "white",
            "showbackground": true,
            "ticks": "",
            "zerolinecolor": "white"
           },
           "yaxis": {
            "backgroundcolor": "#E5ECF6",
            "gridcolor": "white",
            "gridwidth": 2,
            "linecolor": "white",
            "showbackground": true,
            "ticks": "",
            "zerolinecolor": "white"
           },
           "zaxis": {
            "backgroundcolor": "#E5ECF6",
            "gridcolor": "white",
            "gridwidth": 2,
            "linecolor": "white",
            "showbackground": true,
            "ticks": "",
            "zerolinecolor": "white"
           }
          },
          "shapedefaults": {
           "line": {
            "color": "#2a3f5f"
           }
          },
          "ternary": {
           "aaxis": {
            "gridcolor": "white",
            "linecolor": "white",
            "ticks": ""
           },
           "baxis": {
            "gridcolor": "white",
            "linecolor": "white",
            "ticks": ""
           },
           "bgcolor": "#E5ECF6",
           "caxis": {
            "gridcolor": "white",
            "linecolor": "white",
            "ticks": ""
           }
          },
          "title": {
           "x": 0.05
          },
          "xaxis": {
           "automargin": true,
           "gridcolor": "white",
           "linecolor": "white",
           "ticks": "",
           "title": {
            "standoff": 15
           },
           "zerolinecolor": "white",
           "zerolinewidth": 2
          },
          "yaxis": {
           "automargin": true,
           "gridcolor": "white",
           "linecolor": "white",
           "ticks": "",
           "title": {
            "standoff": 15
           },
           "zerolinecolor": "white",
           "zerolinewidth": 2
          }
         }
        }
       }
      },
      "text/html": [
       "<div>                            <div id=\"571684df-ee5d-4ccf-a7d4-c586c8af9e68\" class=\"plotly-graph-div\" style=\"height:525px; width:100%;\"></div>            <script type=\"text/javascript\">                require([\"plotly\"], function(Plotly) {                    window.PLOTLYENV=window.PLOTLYENV || {};                                    if (document.getElementById(\"571684df-ee5d-4ccf-a7d4-c586c8af9e68\")) {                    Plotly.newPlot(                        \"571684df-ee5d-4ccf-a7d4-c586c8af9e68\",                        [{\"orientation\":\"v\",\"x\":[\"28\",\"38\",\"21\",\"42\",\"25\",\"16\",\"33\",\"37\",\"18\",\"31\",\"20\",\"35\",\"32\",\"23\",\"51\",\"30\",\"22\",\"47\",\"24\",\"15\",\"40\",\"34\",\"19\",\"26\",\"27\",\"54\",\"11\",\"9\",\"46\",\"29\",\"65\",\"43\",\"13\",\"44\",\"17\",\"48\",\"39\",\"66\",\"12\",\"64\",\"14\",\"49\",\"52\",\"45\",\"41\",\"115\",\"57\",\"80\",\"73\",\"70\",\"62\",\"106\",\"68\",\"7\",\"56\",\"36\",\"93\",\"61\",\"96\",\"78\",\"63\",\"75\",\"8\",\"72\",\"5\",\"50\",\"53\",\"138\",\"71\",\"10\",\"91\",\"100\"],\"y\":[25,16,15,14,13,12,11,11,11,10,10,10,9,9,8,8,8,8,7,7,7,7,7,7,7,6,6,6,5,5,5,4,4,4,4,4,4,4,4,3,3,3,3,3,3,3,3,3,2,2,2,2,2,2,2,2,1,1,1,1,1,1,1,1,1,1,1,1,1,1,1,1],\"type\":\"bar\"}],                        {\"template\":{\"data\":{\"histogram2dcontour\":[{\"type\":\"histogram2dcontour\",\"colorbar\":{\"outlinewidth\":0,\"ticks\":\"\"},\"colorscale\":[[0.0,\"#0d0887\"],[0.1111111111111111,\"#46039f\"],[0.2222222222222222,\"#7201a8\"],[0.3333333333333333,\"#9c179e\"],[0.4444444444444444,\"#bd3786\"],[0.5555555555555556,\"#d8576b\"],[0.6666666666666666,\"#ed7953\"],[0.7777777777777778,\"#fb9f3a\"],[0.8888888888888888,\"#fdca26\"],[1.0,\"#f0f921\"]]}],\"choropleth\":[{\"type\":\"choropleth\",\"colorbar\":{\"outlinewidth\":0,\"ticks\":\"\"}}],\"histogram2d\":[{\"type\":\"histogram2d\",\"colorbar\":{\"outlinewidth\":0,\"ticks\":\"\"},\"colorscale\":[[0.0,\"#0d0887\"],[0.1111111111111111,\"#46039f\"],[0.2222222222222222,\"#7201a8\"],[0.3333333333333333,\"#9c179e\"],[0.4444444444444444,\"#bd3786\"],[0.5555555555555556,\"#d8576b\"],[0.6666666666666666,\"#ed7953\"],[0.7777777777777778,\"#fb9f3a\"],[0.8888888888888888,\"#fdca26\"],[1.0,\"#f0f921\"]]}],\"heatmap\":[{\"type\":\"heatmap\",\"colorbar\":{\"outlinewidth\":0,\"ticks\":\"\"},\"colorscale\":[[0.0,\"#0d0887\"],[0.1111111111111111,\"#46039f\"],[0.2222222222222222,\"#7201a8\"],[0.3333333333333333,\"#9c179e\"],[0.4444444444444444,\"#bd3786\"],[0.5555555555555556,\"#d8576b\"],[0.6666666666666666,\"#ed7953\"],[0.7777777777777778,\"#fb9f3a\"],[0.8888888888888888,\"#fdca26\"],[1.0,\"#f0f921\"]]}],\"heatmapgl\":[{\"type\":\"heatmapgl\",\"colorbar\":{\"outlinewidth\":0,\"ticks\":\"\"},\"colorscale\":[[0.0,\"#0d0887\"],[0.1111111111111111,\"#46039f\"],[0.2222222222222222,\"#7201a8\"],[0.3333333333333333,\"#9c179e\"],[0.4444444444444444,\"#bd3786\"],[0.5555555555555556,\"#d8576b\"],[0.6666666666666666,\"#ed7953\"],[0.7777777777777778,\"#fb9f3a\"],[0.8888888888888888,\"#fdca26\"],[1.0,\"#f0f921\"]]}],\"contourcarpet\":[{\"type\":\"contourcarpet\",\"colorbar\":{\"outlinewidth\":0,\"ticks\":\"\"}}],\"contour\":[{\"type\":\"contour\",\"colorbar\":{\"outlinewidth\":0,\"ticks\":\"\"},\"colorscale\":[[0.0,\"#0d0887\"],[0.1111111111111111,\"#46039f\"],[0.2222222222222222,\"#7201a8\"],[0.3333333333333333,\"#9c179e\"],[0.4444444444444444,\"#bd3786\"],[0.5555555555555556,\"#d8576b\"],[0.6666666666666666,\"#ed7953\"],[0.7777777777777778,\"#fb9f3a\"],[0.8888888888888888,\"#fdca26\"],[1.0,\"#f0f921\"]]}],\"surface\":[{\"type\":\"surface\",\"colorbar\":{\"outlinewidth\":0,\"ticks\":\"\"},\"colorscale\":[[0.0,\"#0d0887\"],[0.1111111111111111,\"#46039f\"],[0.2222222222222222,\"#7201a8\"],[0.3333333333333333,\"#9c179e\"],[0.4444444444444444,\"#bd3786\"],[0.5555555555555556,\"#d8576b\"],[0.6666666666666666,\"#ed7953\"],[0.7777777777777778,\"#fb9f3a\"],[0.8888888888888888,\"#fdca26\"],[1.0,\"#f0f921\"]]}],\"mesh3d\":[{\"type\":\"mesh3d\",\"colorbar\":{\"outlinewidth\":0,\"ticks\":\"\"}}],\"scatter\":[{\"fillpattern\":{\"fillmode\":\"overlay\",\"size\":10,\"solidity\":0.2},\"type\":\"scatter\"}],\"parcoords\":[{\"type\":\"parcoords\",\"line\":{\"colorbar\":{\"outlinewidth\":0,\"ticks\":\"\"}}}],\"scatterpolargl\":[{\"type\":\"scatterpolargl\",\"marker\":{\"colorbar\":{\"outlinewidth\":0,\"ticks\":\"\"}}}],\"bar\":[{\"error_x\":{\"color\":\"#2a3f5f\"},\"error_y\":{\"color\":\"#2a3f5f\"},\"marker\":{\"line\":{\"color\":\"#E5ECF6\",\"width\":0.5},\"pattern\":{\"fillmode\":\"overlay\",\"size\":10,\"solidity\":0.2}},\"type\":\"bar\"}],\"scattergeo\":[{\"type\":\"scattergeo\",\"marker\":{\"colorbar\":{\"outlinewidth\":0,\"ticks\":\"\"}}}],\"scatterpolar\":[{\"type\":\"scatterpolar\",\"marker\":{\"colorbar\":{\"outlinewidth\":0,\"ticks\":\"\"}}}],\"histogram\":[{\"marker\":{\"pattern\":{\"fillmode\":\"overlay\",\"size\":10,\"solidity\":0.2}},\"type\":\"histogram\"}],\"scattergl\":[{\"type\":\"scattergl\",\"marker\":{\"colorbar\":{\"outlinewidth\":0,\"ticks\":\"\"}}}],\"scatter3d\":[{\"type\":\"scatter3d\",\"line\":{\"colorbar\":{\"outlinewidth\":0,\"ticks\":\"\"}},\"marker\":{\"colorbar\":{\"outlinewidth\":0,\"ticks\":\"\"}}}],\"scattermapbox\":[{\"type\":\"scattermapbox\",\"marker\":{\"colorbar\":{\"outlinewidth\":0,\"ticks\":\"\"}}}],\"scatterternary\":[{\"type\":\"scatterternary\",\"marker\":{\"colorbar\":{\"outlinewidth\":0,\"ticks\":\"\"}}}],\"scattercarpet\":[{\"type\":\"scattercarpet\",\"marker\":{\"colorbar\":{\"outlinewidth\":0,\"ticks\":\"\"}}}],\"carpet\":[{\"aaxis\":{\"endlinecolor\":\"#2a3f5f\",\"gridcolor\":\"white\",\"linecolor\":\"white\",\"minorgridcolor\":\"white\",\"startlinecolor\":\"#2a3f5f\"},\"baxis\":{\"endlinecolor\":\"#2a3f5f\",\"gridcolor\":\"white\",\"linecolor\":\"white\",\"minorgridcolor\":\"white\",\"startlinecolor\":\"#2a3f5f\"},\"type\":\"carpet\"}],\"table\":[{\"cells\":{\"fill\":{\"color\":\"#EBF0F8\"},\"line\":{\"color\":\"white\"}},\"header\":{\"fill\":{\"color\":\"#C8D4E3\"},\"line\":{\"color\":\"white\"}},\"type\":\"table\"}],\"barpolar\":[{\"marker\":{\"line\":{\"color\":\"#E5ECF6\",\"width\":0.5},\"pattern\":{\"fillmode\":\"overlay\",\"size\":10,\"solidity\":0.2}},\"type\":\"barpolar\"}],\"pie\":[{\"automargin\":true,\"type\":\"pie\"}]},\"layout\":{\"autotypenumbers\":\"strict\",\"colorway\":[\"#636efa\",\"#EF553B\",\"#00cc96\",\"#ab63fa\",\"#FFA15A\",\"#19d3f3\",\"#FF6692\",\"#B6E880\",\"#FF97FF\",\"#FECB52\"],\"font\":{\"color\":\"#2a3f5f\"},\"hovermode\":\"closest\",\"hoverlabel\":{\"align\":\"left\"},\"paper_bgcolor\":\"white\",\"plot_bgcolor\":\"#E5ECF6\",\"polar\":{\"bgcolor\":\"#E5ECF6\",\"angularaxis\":{\"gridcolor\":\"white\",\"linecolor\":\"white\",\"ticks\":\"\"},\"radialaxis\":{\"gridcolor\":\"white\",\"linecolor\":\"white\",\"ticks\":\"\"}},\"ternary\":{\"bgcolor\":\"#E5ECF6\",\"aaxis\":{\"gridcolor\":\"white\",\"linecolor\":\"white\",\"ticks\":\"\"},\"baxis\":{\"gridcolor\":\"white\",\"linecolor\":\"white\",\"ticks\":\"\"},\"caxis\":{\"gridcolor\":\"white\",\"linecolor\":\"white\",\"ticks\":\"\"}},\"coloraxis\":{\"colorbar\":{\"outlinewidth\":0,\"ticks\":\"\"}},\"colorscale\":{\"sequential\":[[0.0,\"#0d0887\"],[0.1111111111111111,\"#46039f\"],[0.2222222222222222,\"#7201a8\"],[0.3333333333333333,\"#9c179e\"],[0.4444444444444444,\"#bd3786\"],[0.5555555555555556,\"#d8576b\"],[0.6666666666666666,\"#ed7953\"],[0.7777777777777778,\"#fb9f3a\"],[0.8888888888888888,\"#fdca26\"],[1.0,\"#f0f921\"]],\"sequentialminus\":[[0.0,\"#0d0887\"],[0.1111111111111111,\"#46039f\"],[0.2222222222222222,\"#7201a8\"],[0.3333333333333333,\"#9c179e\"],[0.4444444444444444,\"#bd3786\"],[0.5555555555555556,\"#d8576b\"],[0.6666666666666666,\"#ed7953\"],[0.7777777777777778,\"#fb9f3a\"],[0.8888888888888888,\"#fdca26\"],[1.0,\"#f0f921\"]],\"diverging\":[[0,\"#8e0152\"],[0.1,\"#c51b7d\"],[0.2,\"#de77ae\"],[0.3,\"#f1b6da\"],[0.4,\"#fde0ef\"],[0.5,\"#f7f7f7\"],[0.6,\"#e6f5d0\"],[0.7,\"#b8e186\"],[0.8,\"#7fbc41\"],[0.9,\"#4d9221\"],[1,\"#276419\"]]},\"xaxis\":{\"gridcolor\":\"white\",\"linecolor\":\"white\",\"ticks\":\"\",\"title\":{\"standoff\":15},\"zerolinecolor\":\"white\",\"automargin\":true,\"zerolinewidth\":2},\"yaxis\":{\"gridcolor\":\"white\",\"linecolor\":\"white\",\"ticks\":\"\",\"title\":{\"standoff\":15},\"zerolinecolor\":\"white\",\"automargin\":true,\"zerolinewidth\":2},\"scene\":{\"xaxis\":{\"backgroundcolor\":\"#E5ECF6\",\"gridcolor\":\"white\",\"linecolor\":\"white\",\"showbackground\":true,\"ticks\":\"\",\"zerolinecolor\":\"white\",\"gridwidth\":2},\"yaxis\":{\"backgroundcolor\":\"#E5ECF6\",\"gridcolor\":\"white\",\"linecolor\":\"white\",\"showbackground\":true,\"ticks\":\"\",\"zerolinecolor\":\"white\",\"gridwidth\":2},\"zaxis\":{\"backgroundcolor\":\"#E5ECF6\",\"gridcolor\":\"white\",\"linecolor\":\"white\",\"showbackground\":true,\"ticks\":\"\",\"zerolinecolor\":\"white\",\"gridwidth\":2}},\"shapedefaults\":{\"line\":{\"color\":\"#2a3f5f\"}},\"annotationdefaults\":{\"arrowcolor\":\"#2a3f5f\",\"arrowhead\":0,\"arrowwidth\":1},\"geo\":{\"bgcolor\":\"white\",\"landcolor\":\"#E5ECF6\",\"subunitcolor\":\"white\",\"showland\":true,\"showlakes\":true,\"lakecolor\":\"white\"},\"title\":{\"x\":0.05},\"mapbox\":{\"style\":\"light\"}}}},                        {\"responsive\": true}                    ).then(function(){\n",
       "                            \n",
       "var gd = document.getElementById('571684df-ee5d-4ccf-a7d4-c586c8af9e68');\n",
       "var x = new MutationObserver(function (mutations, observer) {{\n",
       "        var display = window.getComputedStyle(gd).display;\n",
       "        if (!display || display === 'none') {{\n",
       "            console.log([gd, 'removed!']);\n",
       "            Plotly.purge(gd);\n",
       "            observer.disconnect();\n",
       "        }}\n",
       "}});\n",
       "\n",
       "// Listen for the removal of the full notebook cells\n",
       "var notebookContainer = gd.closest('#notebook-container');\n",
       "if (notebookContainer) {{\n",
       "    x.observe(notebookContainer, {childList: true});\n",
       "}}\n",
       "\n",
       "// Listen for the clearing of the current output cell\n",
       "var outputEl = gd.closest('.output');\n",
       "if (outputEl) {{\n",
       "    x.observe(outputEl, {childList: true});\n",
       "}}\n",
       "\n",
       "                        })                };                });            </script>        </div>"
      ]
     },
     "metadata": {},
     "output_type": "display_data"
    },
    {
     "name": "stdout",
     "output_type": "stream",
     "text": [
      "Dataset:  tsar-es\n",
      "Max length:  96\n",
      "(len, count) (sorted by count): [('28', 25), ('38', 16), ('21', 15), ('42', 14), ('25', 13), ('16', 12), ('33', 11), ('37', 11), ('18', 11), ('31', 10), ('20', 10), ('35', 10), ('32', 9), ('23', 9), ('51', 8), ('30', 8), ('22', 8), ('47', 8), ('24', 7), ('15', 7), ('40', 7), ('34', 7), ('19', 7), ('26', 7), ('27', 7), ('54', 6), ('11', 6), ('9', 6), ('46', 5), ('29', 5), ('65', 5), ('43', 4), ('13', 4), ('44', 4), ('17', 4), ('48', 4), ('39', 4), ('66', 4), ('12', 4), ('64', 3), ('14', 3), ('49', 3), ('52', 3), ('45', 3), ('41', 3), ('115', 3), ('57', 3), ('80', 3), ('73', 2), ('70', 2), ('62', 2), ('106', 2), ('68', 2), ('7', 2), ('56', 2), ('36', 2), ('93', 1), ('61', 1), ('96', 1), ('78', 1), ('63', 1), ('75', 1), ('8', 1), ('72', 1), ('5', 1), ('50', 1), ('53', 1), ('138', 1), ('71', 1), ('10', 1), ('91', 1), ('100', 1)]\n",
      "(len, count) (sorted by len):  [('138', 1), ('115', 3), ('106', 2), ('100', 1), ('96', 1), ('93', 1), ('91', 1), ('80', 3), ('78', 1), ('75', 1), ('73', 2), ('72', 1), ('71', 1), ('70', 2), ('68', 2), ('66', 4), ('65', 5), ('64', 3), ('63', 1), ('62', 2), ('61', 1), ('57', 3), ('56', 2), ('54', 6), ('53', 1), ('52', 3), ('51', 8), ('50', 1), ('49', 3), ('48', 4), ('47', 8), ('46', 5), ('45', 3), ('44', 4), ('43', 4), ('42', 14), ('41', 3), ('40', 7), ('39', 4), ('38', 16), ('37', 11), ('36', 2), ('35', 10), ('34', 7), ('33', 11), ('32', 9), ('31', 10), ('30', 8), ('29', 5), ('28', 25), ('27', 7), ('26', 7), ('25', 13), ('24', 7), ('23', 9), ('22', 8), ('21', 15), ('20', 10), ('19', 7), ('18', 11), ('17', 4), ('16', 12), ('15', 7), ('14', 3), ('13', 4), ('12', 4), ('11', 6), ('10', 1), ('9', 6), ('8', 1), ('7', 2), ('5', 1)]\n"
     ]
    },
    {
     "data": {
      "application/vnd.plotly.v1+json": {
       "config": {
        "plotlyServerURL": "https://plot.ly"
       },
       "data": [
        {
         "orientation": "v",
         "type": "bar",
         "x": [
          "14",
          "19",
          "22",
          "25",
          "17",
          "15",
          "26",
          "21",
          "28",
          "27",
          "13",
          "18",
          "12",
          "11",
          "20",
          "16",
          "24",
          "34",
          "8",
          "32",
          "29",
          "10",
          "30",
          "33",
          "35",
          "31",
          "23",
          "36",
          "6",
          "37",
          "38",
          "39",
          "4",
          "40",
          "53",
          "5",
          "50",
          "49",
          "7",
          "3",
          "9",
          "42",
          "46",
          "55",
          "47",
          "41",
          "43",
          "44",
          "57"
         ],
         "y": [
          19,
          16,
          16,
          16,
          16,
          15,
          14,
          14,
          13,
          13,
          13,
          12,
          11,
          11,
          10,
          10,
          10,
          10,
          10,
          10,
          9,
          9,
          9,
          9,
          8,
          8,
          8,
          8,
          7,
          7,
          5,
          4,
          4,
          3,
          3,
          2,
          2,
          2,
          2,
          2,
          2,
          2,
          2,
          2,
          2,
          2,
          2,
          1,
          1
         ]
        }
       ],
       "layout": {
        "template": {
         "data": {
          "bar": [
           {
            "error_x": {
             "color": "#2a3f5f"
            },
            "error_y": {
             "color": "#2a3f5f"
            },
            "marker": {
             "line": {
              "color": "#E5ECF6",
              "width": 0.5
             },
             "pattern": {
              "fillmode": "overlay",
              "size": 10,
              "solidity": 0.2
             }
            },
            "type": "bar"
           }
          ],
          "barpolar": [
           {
            "marker": {
             "line": {
              "color": "#E5ECF6",
              "width": 0.5
             },
             "pattern": {
              "fillmode": "overlay",
              "size": 10,
              "solidity": 0.2
             }
            },
            "type": "barpolar"
           }
          ],
          "carpet": [
           {
            "aaxis": {
             "endlinecolor": "#2a3f5f",
             "gridcolor": "white",
             "linecolor": "white",
             "minorgridcolor": "white",
             "startlinecolor": "#2a3f5f"
            },
            "baxis": {
             "endlinecolor": "#2a3f5f",
             "gridcolor": "white",
             "linecolor": "white",
             "minorgridcolor": "white",
             "startlinecolor": "#2a3f5f"
            },
            "type": "carpet"
           }
          ],
          "choropleth": [
           {
            "colorbar": {
             "outlinewidth": 0,
             "ticks": ""
            },
            "type": "choropleth"
           }
          ],
          "contour": [
           {
            "colorbar": {
             "outlinewidth": 0,
             "ticks": ""
            },
            "colorscale": [
             [
              0,
              "#0d0887"
             ],
             [
              0.1111111111111111,
              "#46039f"
             ],
             [
              0.2222222222222222,
              "#7201a8"
             ],
             [
              0.3333333333333333,
              "#9c179e"
             ],
             [
              0.4444444444444444,
              "#bd3786"
             ],
             [
              0.5555555555555556,
              "#d8576b"
             ],
             [
              0.6666666666666666,
              "#ed7953"
             ],
             [
              0.7777777777777778,
              "#fb9f3a"
             ],
             [
              0.8888888888888888,
              "#fdca26"
             ],
             [
              1,
              "#f0f921"
             ]
            ],
            "type": "contour"
           }
          ],
          "contourcarpet": [
           {
            "colorbar": {
             "outlinewidth": 0,
             "ticks": ""
            },
            "type": "contourcarpet"
           }
          ],
          "heatmap": [
           {
            "colorbar": {
             "outlinewidth": 0,
             "ticks": ""
            },
            "colorscale": [
             [
              0,
              "#0d0887"
             ],
             [
              0.1111111111111111,
              "#46039f"
             ],
             [
              0.2222222222222222,
              "#7201a8"
             ],
             [
              0.3333333333333333,
              "#9c179e"
             ],
             [
              0.4444444444444444,
              "#bd3786"
             ],
             [
              0.5555555555555556,
              "#d8576b"
             ],
             [
              0.6666666666666666,
              "#ed7953"
             ],
             [
              0.7777777777777778,
              "#fb9f3a"
             ],
             [
              0.8888888888888888,
              "#fdca26"
             ],
             [
              1,
              "#f0f921"
             ]
            ],
            "type": "heatmap"
           }
          ],
          "heatmapgl": [
           {
            "colorbar": {
             "outlinewidth": 0,
             "ticks": ""
            },
            "colorscale": [
             [
              0,
              "#0d0887"
             ],
             [
              0.1111111111111111,
              "#46039f"
             ],
             [
              0.2222222222222222,
              "#7201a8"
             ],
             [
              0.3333333333333333,
              "#9c179e"
             ],
             [
              0.4444444444444444,
              "#bd3786"
             ],
             [
              0.5555555555555556,
              "#d8576b"
             ],
             [
              0.6666666666666666,
              "#ed7953"
             ],
             [
              0.7777777777777778,
              "#fb9f3a"
             ],
             [
              0.8888888888888888,
              "#fdca26"
             ],
             [
              1,
              "#f0f921"
             ]
            ],
            "type": "heatmapgl"
           }
          ],
          "histogram": [
           {
            "marker": {
             "pattern": {
              "fillmode": "overlay",
              "size": 10,
              "solidity": 0.2
             }
            },
            "type": "histogram"
           }
          ],
          "histogram2d": [
           {
            "colorbar": {
             "outlinewidth": 0,
             "ticks": ""
            },
            "colorscale": [
             [
              0,
              "#0d0887"
             ],
             [
              0.1111111111111111,
              "#46039f"
             ],
             [
              0.2222222222222222,
              "#7201a8"
             ],
             [
              0.3333333333333333,
              "#9c179e"
             ],
             [
              0.4444444444444444,
              "#bd3786"
             ],
             [
              0.5555555555555556,
              "#d8576b"
             ],
             [
              0.6666666666666666,
              "#ed7953"
             ],
             [
              0.7777777777777778,
              "#fb9f3a"
             ],
             [
              0.8888888888888888,
              "#fdca26"
             ],
             [
              1,
              "#f0f921"
             ]
            ],
            "type": "histogram2d"
           }
          ],
          "histogram2dcontour": [
           {
            "colorbar": {
             "outlinewidth": 0,
             "ticks": ""
            },
            "colorscale": [
             [
              0,
              "#0d0887"
             ],
             [
              0.1111111111111111,
              "#46039f"
             ],
             [
              0.2222222222222222,
              "#7201a8"
             ],
             [
              0.3333333333333333,
              "#9c179e"
             ],
             [
              0.4444444444444444,
              "#bd3786"
             ],
             [
              0.5555555555555556,
              "#d8576b"
             ],
             [
              0.6666666666666666,
              "#ed7953"
             ],
             [
              0.7777777777777778,
              "#fb9f3a"
             ],
             [
              0.8888888888888888,
              "#fdca26"
             ],
             [
              1,
              "#f0f921"
             ]
            ],
            "type": "histogram2dcontour"
           }
          ],
          "mesh3d": [
           {
            "colorbar": {
             "outlinewidth": 0,
             "ticks": ""
            },
            "type": "mesh3d"
           }
          ],
          "parcoords": [
           {
            "line": {
             "colorbar": {
              "outlinewidth": 0,
              "ticks": ""
             }
            },
            "type": "parcoords"
           }
          ],
          "pie": [
           {
            "automargin": true,
            "type": "pie"
           }
          ],
          "scatter": [
           {
            "fillpattern": {
             "fillmode": "overlay",
             "size": 10,
             "solidity": 0.2
            },
            "type": "scatter"
           }
          ],
          "scatter3d": [
           {
            "line": {
             "colorbar": {
              "outlinewidth": 0,
              "ticks": ""
             }
            },
            "marker": {
             "colorbar": {
              "outlinewidth": 0,
              "ticks": ""
             }
            },
            "type": "scatter3d"
           }
          ],
          "scattercarpet": [
           {
            "marker": {
             "colorbar": {
              "outlinewidth": 0,
              "ticks": ""
             }
            },
            "type": "scattercarpet"
           }
          ],
          "scattergeo": [
           {
            "marker": {
             "colorbar": {
              "outlinewidth": 0,
              "ticks": ""
             }
            },
            "type": "scattergeo"
           }
          ],
          "scattergl": [
           {
            "marker": {
             "colorbar": {
              "outlinewidth": 0,
              "ticks": ""
             }
            },
            "type": "scattergl"
           }
          ],
          "scattermapbox": [
           {
            "marker": {
             "colorbar": {
              "outlinewidth": 0,
              "ticks": ""
             }
            },
            "type": "scattermapbox"
           }
          ],
          "scatterpolar": [
           {
            "marker": {
             "colorbar": {
              "outlinewidth": 0,
              "ticks": ""
             }
            },
            "type": "scatterpolar"
           }
          ],
          "scatterpolargl": [
           {
            "marker": {
             "colorbar": {
              "outlinewidth": 0,
              "ticks": ""
             }
            },
            "type": "scatterpolargl"
           }
          ],
          "scatterternary": [
           {
            "marker": {
             "colorbar": {
              "outlinewidth": 0,
              "ticks": ""
             }
            },
            "type": "scatterternary"
           }
          ],
          "surface": [
           {
            "colorbar": {
             "outlinewidth": 0,
             "ticks": ""
            },
            "colorscale": [
             [
              0,
              "#0d0887"
             ],
             [
              0.1111111111111111,
              "#46039f"
             ],
             [
              0.2222222222222222,
              "#7201a8"
             ],
             [
              0.3333333333333333,
              "#9c179e"
             ],
             [
              0.4444444444444444,
              "#bd3786"
             ],
             [
              0.5555555555555556,
              "#d8576b"
             ],
             [
              0.6666666666666666,
              "#ed7953"
             ],
             [
              0.7777777777777778,
              "#fb9f3a"
             ],
             [
              0.8888888888888888,
              "#fdca26"
             ],
             [
              1,
              "#f0f921"
             ]
            ],
            "type": "surface"
           }
          ],
          "table": [
           {
            "cells": {
             "fill": {
              "color": "#EBF0F8"
             },
             "line": {
              "color": "white"
             }
            },
            "header": {
             "fill": {
              "color": "#C8D4E3"
             },
             "line": {
              "color": "white"
             }
            },
            "type": "table"
           }
          ]
         },
         "layout": {
          "annotationdefaults": {
           "arrowcolor": "#2a3f5f",
           "arrowhead": 0,
           "arrowwidth": 1
          },
          "autotypenumbers": "strict",
          "coloraxis": {
           "colorbar": {
            "outlinewidth": 0,
            "ticks": ""
           }
          },
          "colorscale": {
           "diverging": [
            [
             0,
             "#8e0152"
            ],
            [
             0.1,
             "#c51b7d"
            ],
            [
             0.2,
             "#de77ae"
            ],
            [
             0.3,
             "#f1b6da"
            ],
            [
             0.4,
             "#fde0ef"
            ],
            [
             0.5,
             "#f7f7f7"
            ],
            [
             0.6,
             "#e6f5d0"
            ],
            [
             0.7,
             "#b8e186"
            ],
            [
             0.8,
             "#7fbc41"
            ],
            [
             0.9,
             "#4d9221"
            ],
            [
             1,
             "#276419"
            ]
           ],
           "sequential": [
            [
             0,
             "#0d0887"
            ],
            [
             0.1111111111111111,
             "#46039f"
            ],
            [
             0.2222222222222222,
             "#7201a8"
            ],
            [
             0.3333333333333333,
             "#9c179e"
            ],
            [
             0.4444444444444444,
             "#bd3786"
            ],
            [
             0.5555555555555556,
             "#d8576b"
            ],
            [
             0.6666666666666666,
             "#ed7953"
            ],
            [
             0.7777777777777778,
             "#fb9f3a"
            ],
            [
             0.8888888888888888,
             "#fdca26"
            ],
            [
             1,
             "#f0f921"
            ]
           ],
           "sequentialminus": [
            [
             0,
             "#0d0887"
            ],
            [
             0.1111111111111111,
             "#46039f"
            ],
            [
             0.2222222222222222,
             "#7201a8"
            ],
            [
             0.3333333333333333,
             "#9c179e"
            ],
            [
             0.4444444444444444,
             "#bd3786"
            ],
            [
             0.5555555555555556,
             "#d8576b"
            ],
            [
             0.6666666666666666,
             "#ed7953"
            ],
            [
             0.7777777777777778,
             "#fb9f3a"
            ],
            [
             0.8888888888888888,
             "#fdca26"
            ],
            [
             1,
             "#f0f921"
            ]
           ]
          },
          "colorway": [
           "#636efa",
           "#EF553B",
           "#00cc96",
           "#ab63fa",
           "#FFA15A",
           "#19d3f3",
           "#FF6692",
           "#B6E880",
           "#FF97FF",
           "#FECB52"
          ],
          "font": {
           "color": "#2a3f5f"
          },
          "geo": {
           "bgcolor": "white",
           "lakecolor": "white",
           "landcolor": "#E5ECF6",
           "showlakes": true,
           "showland": true,
           "subunitcolor": "white"
          },
          "hoverlabel": {
           "align": "left"
          },
          "hovermode": "closest",
          "mapbox": {
           "style": "light"
          },
          "paper_bgcolor": "white",
          "plot_bgcolor": "#E5ECF6",
          "polar": {
           "angularaxis": {
            "gridcolor": "white",
            "linecolor": "white",
            "ticks": ""
           },
           "bgcolor": "#E5ECF6",
           "radialaxis": {
            "gridcolor": "white",
            "linecolor": "white",
            "ticks": ""
           }
          },
          "scene": {
           "xaxis": {
            "backgroundcolor": "#E5ECF6",
            "gridcolor": "white",
            "gridwidth": 2,
            "linecolor": "white",
            "showbackground": true,
            "ticks": "",
            "zerolinecolor": "white"
           },
           "yaxis": {
            "backgroundcolor": "#E5ECF6",
            "gridcolor": "white",
            "gridwidth": 2,
            "linecolor": "white",
            "showbackground": true,
            "ticks": "",
            "zerolinecolor": "white"
           },
           "zaxis": {
            "backgroundcolor": "#E5ECF6",
            "gridcolor": "white",
            "gridwidth": 2,
            "linecolor": "white",
            "showbackground": true,
            "ticks": "",
            "zerolinecolor": "white"
           }
          },
          "shapedefaults": {
           "line": {
            "color": "#2a3f5f"
           }
          },
          "ternary": {
           "aaxis": {
            "gridcolor": "white",
            "linecolor": "white",
            "ticks": ""
           },
           "baxis": {
            "gridcolor": "white",
            "linecolor": "white",
            "ticks": ""
           },
           "bgcolor": "#E5ECF6",
           "caxis": {
            "gridcolor": "white",
            "linecolor": "white",
            "ticks": ""
           }
          },
          "title": {
           "x": 0.05
          },
          "xaxis": {
           "automargin": true,
           "gridcolor": "white",
           "linecolor": "white",
           "ticks": "",
           "title": {
            "standoff": 15
           },
           "zerolinecolor": "white",
           "zerolinewidth": 2
          },
          "yaxis": {
           "automargin": true,
           "gridcolor": "white",
           "linecolor": "white",
           "ticks": "",
           "title": {
            "standoff": 15
           },
           "zerolinecolor": "white",
           "zerolinewidth": 2
          }
         }
        }
       }
      },
      "text/html": [
       "<div>                            <div id=\"cedfd918-6d4a-4185-8ccf-78e75fe663d0\" class=\"plotly-graph-div\" style=\"height:525px; width:100%;\"></div>            <script type=\"text/javascript\">                require([\"plotly\"], function(Plotly) {                    window.PLOTLYENV=window.PLOTLYENV || {};                                    if (document.getElementById(\"cedfd918-6d4a-4185-8ccf-78e75fe663d0\")) {                    Plotly.newPlot(                        \"cedfd918-6d4a-4185-8ccf-78e75fe663d0\",                        [{\"orientation\":\"v\",\"x\":[\"14\",\"19\",\"22\",\"25\",\"17\",\"15\",\"26\",\"21\",\"28\",\"27\",\"13\",\"18\",\"12\",\"11\",\"20\",\"16\",\"24\",\"34\",\"8\",\"32\",\"29\",\"10\",\"30\",\"33\",\"35\",\"31\",\"23\",\"36\",\"6\",\"37\",\"38\",\"39\",\"4\",\"40\",\"53\",\"5\",\"50\",\"49\",\"7\",\"3\",\"9\",\"42\",\"46\",\"55\",\"47\",\"41\",\"43\",\"44\",\"57\"],\"y\":[19,16,16,16,16,15,14,14,13,13,13,12,11,11,10,10,10,10,10,10,9,9,9,9,8,8,8,8,7,7,5,4,4,3,3,2,2,2,2,2,2,2,2,2,2,2,2,1,1],\"type\":\"bar\"}],                        {\"template\":{\"data\":{\"histogram2dcontour\":[{\"type\":\"histogram2dcontour\",\"colorbar\":{\"outlinewidth\":0,\"ticks\":\"\"},\"colorscale\":[[0.0,\"#0d0887\"],[0.1111111111111111,\"#46039f\"],[0.2222222222222222,\"#7201a8\"],[0.3333333333333333,\"#9c179e\"],[0.4444444444444444,\"#bd3786\"],[0.5555555555555556,\"#d8576b\"],[0.6666666666666666,\"#ed7953\"],[0.7777777777777778,\"#fb9f3a\"],[0.8888888888888888,\"#fdca26\"],[1.0,\"#f0f921\"]]}],\"choropleth\":[{\"type\":\"choropleth\",\"colorbar\":{\"outlinewidth\":0,\"ticks\":\"\"}}],\"histogram2d\":[{\"type\":\"histogram2d\",\"colorbar\":{\"outlinewidth\":0,\"ticks\":\"\"},\"colorscale\":[[0.0,\"#0d0887\"],[0.1111111111111111,\"#46039f\"],[0.2222222222222222,\"#7201a8\"],[0.3333333333333333,\"#9c179e\"],[0.4444444444444444,\"#bd3786\"],[0.5555555555555556,\"#d8576b\"],[0.6666666666666666,\"#ed7953\"],[0.7777777777777778,\"#fb9f3a\"],[0.8888888888888888,\"#fdca26\"],[1.0,\"#f0f921\"]]}],\"heatmap\":[{\"type\":\"heatmap\",\"colorbar\":{\"outlinewidth\":0,\"ticks\":\"\"},\"colorscale\":[[0.0,\"#0d0887\"],[0.1111111111111111,\"#46039f\"],[0.2222222222222222,\"#7201a8\"],[0.3333333333333333,\"#9c179e\"],[0.4444444444444444,\"#bd3786\"],[0.5555555555555556,\"#d8576b\"],[0.6666666666666666,\"#ed7953\"],[0.7777777777777778,\"#fb9f3a\"],[0.8888888888888888,\"#fdca26\"],[1.0,\"#f0f921\"]]}],\"heatmapgl\":[{\"type\":\"heatmapgl\",\"colorbar\":{\"outlinewidth\":0,\"ticks\":\"\"},\"colorscale\":[[0.0,\"#0d0887\"],[0.1111111111111111,\"#46039f\"],[0.2222222222222222,\"#7201a8\"],[0.3333333333333333,\"#9c179e\"],[0.4444444444444444,\"#bd3786\"],[0.5555555555555556,\"#d8576b\"],[0.6666666666666666,\"#ed7953\"],[0.7777777777777778,\"#fb9f3a\"],[0.8888888888888888,\"#fdca26\"],[1.0,\"#f0f921\"]]}],\"contourcarpet\":[{\"type\":\"contourcarpet\",\"colorbar\":{\"outlinewidth\":0,\"ticks\":\"\"}}],\"contour\":[{\"type\":\"contour\",\"colorbar\":{\"outlinewidth\":0,\"ticks\":\"\"},\"colorscale\":[[0.0,\"#0d0887\"],[0.1111111111111111,\"#46039f\"],[0.2222222222222222,\"#7201a8\"],[0.3333333333333333,\"#9c179e\"],[0.4444444444444444,\"#bd3786\"],[0.5555555555555556,\"#d8576b\"],[0.6666666666666666,\"#ed7953\"],[0.7777777777777778,\"#fb9f3a\"],[0.8888888888888888,\"#fdca26\"],[1.0,\"#f0f921\"]]}],\"surface\":[{\"type\":\"surface\",\"colorbar\":{\"outlinewidth\":0,\"ticks\":\"\"},\"colorscale\":[[0.0,\"#0d0887\"],[0.1111111111111111,\"#46039f\"],[0.2222222222222222,\"#7201a8\"],[0.3333333333333333,\"#9c179e\"],[0.4444444444444444,\"#bd3786\"],[0.5555555555555556,\"#d8576b\"],[0.6666666666666666,\"#ed7953\"],[0.7777777777777778,\"#fb9f3a\"],[0.8888888888888888,\"#fdca26\"],[1.0,\"#f0f921\"]]}],\"mesh3d\":[{\"type\":\"mesh3d\",\"colorbar\":{\"outlinewidth\":0,\"ticks\":\"\"}}],\"scatter\":[{\"fillpattern\":{\"fillmode\":\"overlay\",\"size\":10,\"solidity\":0.2},\"type\":\"scatter\"}],\"parcoords\":[{\"type\":\"parcoords\",\"line\":{\"colorbar\":{\"outlinewidth\":0,\"ticks\":\"\"}}}],\"scatterpolargl\":[{\"type\":\"scatterpolargl\",\"marker\":{\"colorbar\":{\"outlinewidth\":0,\"ticks\":\"\"}}}],\"bar\":[{\"error_x\":{\"color\":\"#2a3f5f\"},\"error_y\":{\"color\":\"#2a3f5f\"},\"marker\":{\"line\":{\"color\":\"#E5ECF6\",\"width\":0.5},\"pattern\":{\"fillmode\":\"overlay\",\"size\":10,\"solidity\":0.2}},\"type\":\"bar\"}],\"scattergeo\":[{\"type\":\"scattergeo\",\"marker\":{\"colorbar\":{\"outlinewidth\":0,\"ticks\":\"\"}}}],\"scatterpolar\":[{\"type\":\"scatterpolar\",\"marker\":{\"colorbar\":{\"outlinewidth\":0,\"ticks\":\"\"}}}],\"histogram\":[{\"marker\":{\"pattern\":{\"fillmode\":\"overlay\",\"size\":10,\"solidity\":0.2}},\"type\":\"histogram\"}],\"scattergl\":[{\"type\":\"scattergl\",\"marker\":{\"colorbar\":{\"outlinewidth\":0,\"ticks\":\"\"}}}],\"scatter3d\":[{\"type\":\"scatter3d\",\"line\":{\"colorbar\":{\"outlinewidth\":0,\"ticks\":\"\"}},\"marker\":{\"colorbar\":{\"outlinewidth\":0,\"ticks\":\"\"}}}],\"scattermapbox\":[{\"type\":\"scattermapbox\",\"marker\":{\"colorbar\":{\"outlinewidth\":0,\"ticks\":\"\"}}}],\"scatterternary\":[{\"type\":\"scatterternary\",\"marker\":{\"colorbar\":{\"outlinewidth\":0,\"ticks\":\"\"}}}],\"scattercarpet\":[{\"type\":\"scattercarpet\",\"marker\":{\"colorbar\":{\"outlinewidth\":0,\"ticks\":\"\"}}}],\"carpet\":[{\"aaxis\":{\"endlinecolor\":\"#2a3f5f\",\"gridcolor\":\"white\",\"linecolor\":\"white\",\"minorgridcolor\":\"white\",\"startlinecolor\":\"#2a3f5f\"},\"baxis\":{\"endlinecolor\":\"#2a3f5f\",\"gridcolor\":\"white\",\"linecolor\":\"white\",\"minorgridcolor\":\"white\",\"startlinecolor\":\"#2a3f5f\"},\"type\":\"carpet\"}],\"table\":[{\"cells\":{\"fill\":{\"color\":\"#EBF0F8\"},\"line\":{\"color\":\"white\"}},\"header\":{\"fill\":{\"color\":\"#C8D4E3\"},\"line\":{\"color\":\"white\"}},\"type\":\"table\"}],\"barpolar\":[{\"marker\":{\"line\":{\"color\":\"#E5ECF6\",\"width\":0.5},\"pattern\":{\"fillmode\":\"overlay\",\"size\":10,\"solidity\":0.2}},\"type\":\"barpolar\"}],\"pie\":[{\"automargin\":true,\"type\":\"pie\"}]},\"layout\":{\"autotypenumbers\":\"strict\",\"colorway\":[\"#636efa\",\"#EF553B\",\"#00cc96\",\"#ab63fa\",\"#FFA15A\",\"#19d3f3\",\"#FF6692\",\"#B6E880\",\"#FF97FF\",\"#FECB52\"],\"font\":{\"color\":\"#2a3f5f\"},\"hovermode\":\"closest\",\"hoverlabel\":{\"align\":\"left\"},\"paper_bgcolor\":\"white\",\"plot_bgcolor\":\"#E5ECF6\",\"polar\":{\"bgcolor\":\"#E5ECF6\",\"angularaxis\":{\"gridcolor\":\"white\",\"linecolor\":\"white\",\"ticks\":\"\"},\"radialaxis\":{\"gridcolor\":\"white\",\"linecolor\":\"white\",\"ticks\":\"\"}},\"ternary\":{\"bgcolor\":\"#E5ECF6\",\"aaxis\":{\"gridcolor\":\"white\",\"linecolor\":\"white\",\"ticks\":\"\"},\"baxis\":{\"gridcolor\":\"white\",\"linecolor\":\"white\",\"ticks\":\"\"},\"caxis\":{\"gridcolor\":\"white\",\"linecolor\":\"white\",\"ticks\":\"\"}},\"coloraxis\":{\"colorbar\":{\"outlinewidth\":0,\"ticks\":\"\"}},\"colorscale\":{\"sequential\":[[0.0,\"#0d0887\"],[0.1111111111111111,\"#46039f\"],[0.2222222222222222,\"#7201a8\"],[0.3333333333333333,\"#9c179e\"],[0.4444444444444444,\"#bd3786\"],[0.5555555555555556,\"#d8576b\"],[0.6666666666666666,\"#ed7953\"],[0.7777777777777778,\"#fb9f3a\"],[0.8888888888888888,\"#fdca26\"],[1.0,\"#f0f921\"]],\"sequentialminus\":[[0.0,\"#0d0887\"],[0.1111111111111111,\"#46039f\"],[0.2222222222222222,\"#7201a8\"],[0.3333333333333333,\"#9c179e\"],[0.4444444444444444,\"#bd3786\"],[0.5555555555555556,\"#d8576b\"],[0.6666666666666666,\"#ed7953\"],[0.7777777777777778,\"#fb9f3a\"],[0.8888888888888888,\"#fdca26\"],[1.0,\"#f0f921\"]],\"diverging\":[[0,\"#8e0152\"],[0.1,\"#c51b7d\"],[0.2,\"#de77ae\"],[0.3,\"#f1b6da\"],[0.4,\"#fde0ef\"],[0.5,\"#f7f7f7\"],[0.6,\"#e6f5d0\"],[0.7,\"#b8e186\"],[0.8,\"#7fbc41\"],[0.9,\"#4d9221\"],[1,\"#276419\"]]},\"xaxis\":{\"gridcolor\":\"white\",\"linecolor\":\"white\",\"ticks\":\"\",\"title\":{\"standoff\":15},\"zerolinecolor\":\"white\",\"automargin\":true,\"zerolinewidth\":2},\"yaxis\":{\"gridcolor\":\"white\",\"linecolor\":\"white\",\"ticks\":\"\",\"title\":{\"standoff\":15},\"zerolinecolor\":\"white\",\"automargin\":true,\"zerolinewidth\":2},\"scene\":{\"xaxis\":{\"backgroundcolor\":\"#E5ECF6\",\"gridcolor\":\"white\",\"linecolor\":\"white\",\"showbackground\":true,\"ticks\":\"\",\"zerolinecolor\":\"white\",\"gridwidth\":2},\"yaxis\":{\"backgroundcolor\":\"#E5ECF6\",\"gridcolor\":\"white\",\"linecolor\":\"white\",\"showbackground\":true,\"ticks\":\"\",\"zerolinecolor\":\"white\",\"gridwidth\":2},\"zaxis\":{\"backgroundcolor\":\"#E5ECF6\",\"gridcolor\":\"white\",\"linecolor\":\"white\",\"showbackground\":true,\"ticks\":\"\",\"zerolinecolor\":\"white\",\"gridwidth\":2}},\"shapedefaults\":{\"line\":{\"color\":\"#2a3f5f\"}},\"annotationdefaults\":{\"arrowcolor\":\"#2a3f5f\",\"arrowhead\":0,\"arrowwidth\":1},\"geo\":{\"bgcolor\":\"white\",\"landcolor\":\"#E5ECF6\",\"subunitcolor\":\"white\",\"showland\":true,\"showlakes\":true,\"lakecolor\":\"white\"},\"title\":{\"x\":0.05},\"mapbox\":{\"style\":\"light\"}}}},                        {\"responsive\": true}                    ).then(function(){\n",
       "                            \n",
       "var gd = document.getElementById('cedfd918-6d4a-4185-8ccf-78e75fe663d0');\n",
       "var x = new MutationObserver(function (mutations, observer) {{\n",
       "        var display = window.getComputedStyle(gd).display;\n",
       "        if (!display || display === 'none') {{\n",
       "            console.log([gd, 'removed!']);\n",
       "            Plotly.purge(gd);\n",
       "            observer.disconnect();\n",
       "        }}\n",
       "}});\n",
       "\n",
       "// Listen for the removal of the full notebook cells\n",
       "var notebookContainer = gd.closest('#notebook-container');\n",
       "if (notebookContainer) {{\n",
       "    x.observe(notebookContainer, {childList: true});\n",
       "}}\n",
       "\n",
       "// Listen for the clearing of the current output cell\n",
       "var outputEl = gd.closest('.output');\n",
       "if (outputEl) {{\n",
       "    x.observe(outputEl, {childList: true});\n",
       "}}\n",
       "\n",
       "                        })                };                });            </script>        </div>"
      ]
     },
     "metadata": {},
     "output_type": "display_data"
    },
    {
     "name": "stdout",
     "output_type": "stream",
     "text": [
      "Dataset:  tsar-pt\n",
      "Max length:  9\n",
      "(len, count) (sorted by count): [('14', 19), ('19', 16), ('22', 16), ('25', 16), ('17', 16), ('15', 15), ('26', 14), ('21', 14), ('28', 13), ('27', 13), ('13', 13), ('18', 12), ('12', 11), ('11', 11), ('20', 10), ('16', 10), ('24', 10), ('34', 10), ('8', 10), ('32', 10), ('29', 9), ('10', 9), ('30', 9), ('33', 9), ('35', 8), ('31', 8), ('23', 8), ('36', 8), ('6', 7), ('37', 7), ('38', 5), ('39', 4), ('4', 4), ('40', 3), ('53', 3), ('5', 2), ('50', 2), ('49', 2), ('7', 2), ('3', 2), ('9', 2), ('42', 2), ('46', 2), ('55', 2), ('47', 2), ('41', 2), ('43', 2), ('44', 1), ('57', 1)]\n",
      "(len, count) (sorted by len):  [('57', 1), ('55', 2), ('53', 3), ('50', 2), ('49', 2), ('47', 2), ('46', 2), ('44', 1), ('43', 2), ('42', 2), ('41', 2), ('40', 3), ('39', 4), ('38', 5), ('37', 7), ('36', 8), ('35', 8), ('34', 10), ('33', 9), ('32', 10), ('31', 8), ('30', 9), ('29', 9), ('28', 13), ('27', 13), ('26', 14), ('25', 16), ('24', 10), ('23', 8), ('22', 16), ('21', 14), ('20', 10), ('19', 16), ('18', 12), ('17', 16), ('16', 10), ('15', 15), ('14', 19), ('13', 13), ('12', 11), ('11', 11), ('10', 9), ('9', 2), ('8', 10), ('7', 2), ('6', 7), ('5', 2), ('4', 4), ('3', 2)]\n"
     ]
    }
   ],
   "source": [
    "for dataset in DATASETS:\n",
    "    plot_length_distibution(dataset)\n",
    "    "
   ]
  },
  {
   "attachments": {},
   "cell_type": "markdown",
   "metadata": {},
   "source": [
    "# Analyse sentence split"
   ]
  },
  {
   "cell_type": "code",
   "execution_count": 6,
   "metadata": {},
   "outputs": [
    {
     "name": "stderr",
     "output_type": "stream",
     "text": [
      "/home/kim/.pyenv/versions/3.7.5/envs/ConLS/lib/python3.7/site-packages/spacy/util.py:877: UserWarning: [W095] Model 'en_core_web_sm' (3.3.0) was trained with spaCy v3.3 and may not be 100% compatible with the current version (3.5.0). If you see errors or degraded performance, download a newer compatible model or retrain your custom model with the current spaCy version. For more details and available updates, run: python -m spacy validate\n",
      "  warnings.warn(warn_msg)\n"
     ]
    }
   ],
   "source": [
    "import spacy\n"
   ]
  },
  {
   "cell_type": "code",
   "execution_count": 16,
   "metadata": {},
   "outputs": [
    {
     "name": "stderr",
     "output_type": "stream",
     "text": [
      " 81%|████████  | 313/386 [00:03<00:00, 107.33it/s]"
     ]
    },
    {
     "name": "stdout",
     "output_type": "stream",
     "text": [
      "[companies must raise £28 trillion chinese sovereign wealth fund stops buying euro debt surprise weakening in china import and exports, spain nationalises bankia as euro crisis escalates germany warns greece 'no bailout agreement, no aid' bankia, in which the state is taking a 45pc stake as a crisis measure to save    it from crippling bad loans, had €37.5bn in exposure to the property sector    at the end of 2011.]\n"
     ]
    },
    {
     "name": "stderr",
     "output_type": "stream",
     "text": [
      "100%|██████████| 386/386 [00:03<00:00, 105.02it/s]\n"
     ]
    },
    {
     "name": "stdout",
     "output_type": "stream",
     "text": [
      "en: 1\n"
     ]
    },
    {
     "name": "stderr",
     "output_type": "stream",
     "text": [
      "  3%|▎         | 10/381 [00:00<00:03, 97.43it/s]"
     ]
    },
    {
     "name": "stdout",
     "output_type": "stream",
     "text": [
      "[), , fue un pianista y compositor folclórico, y figura fundamental en lo que a interpretación pianística del folclore argentino se refiere.]\n",
      "[así, fue creado \"\"p.t., barnum's great traveling museum, menagerie, caravan, and hippodrome\"\", que fue el verdadero principio del continuo funcionamiento de la encarnación actual del circo.]\n"
     ]
    },
    {
     "name": "stderr",
     "output_type": "stream",
     "text": [
      " 12%|█▏        | 44/381 [00:00<00:03, 105.86it/s]"
     ]
    },
    {
     "name": "stdout",
     "output_type": "stream",
     "text": [
      "[cabrini hizo su debut en el fútbol profesional con u.s., cremonese en la temporada de 1973-1974 de la serie c, totalizando 3 presencias y ganando el jersey de titular para la siguiente temporada de 1974-1975.]\n",
      "[castellanos debutó como el salvaje, después de haber sido entrenado por rey mysterio, sr., y su hermano, fobia; haciendo equipo con su hermano.]\n"
     ]
    },
    {
     "name": "stderr",
     "output_type": "stream",
     "text": [
      " 23%|██▎       | 89/381 [00:00<00:02, 106.87it/s]"
     ]
    },
    {
     "name": "stdout",
     "output_type": "stream",
     "text": [
      "[el 1 de enero de 1504, la guarnición francesa de gaeta presentó su capitulación ante fernández de córdoba y abandonó nápoles.]\n"
     ]
    },
    {
     "name": "stderr",
     "output_type": "stream",
     "text": [
      " 36%|███▌      | 138/381 [00:01<00:02, 111.31it/s]"
     ]
    },
    {
     "name": "stdout",
     "output_type": "stream",
     "text": [
      "[emilio uranga (ciudad de méxico; 1921 - ídem; 31 de octubre de 1988),, fue un filósofo mexicano que desarrolló los campos de reflexión acerca de la experiencia filosófica y de la realidad en que se sustenta.]\n",
      "[emilio uranga (ciudad de méxico; 1921 - ídem; 31 de octubre de 1988),, fue un filósofo mexicano que desarrolló los campos de reflexión acerca de la experiencia filosófica y de la realidad en que se sustenta.]\n",
      "[en 1902, con la edad de 10 años, y debe de abandonar la escuela rural (zemstvo) por tener que ayudar a la familia a subsistir, y con la muerte de su padre a los 31 años, poco después de volver éste de la guerra ruso-japonesa, se tiene que hacer cargo de su madre y de sus cinco hermanos, trabajando como pastor y mozo de cuadra.]\n"
     ]
    },
    {
     "name": "stderr",
     "output_type": "stream",
     "text": [
      " 61%|██████    | 233/381 [00:02<00:01, 112.35it/s]"
     ]
    },
    {
     "name": "stdout",
     "output_type": "stream",
     "text": [
      "[independiente del ingrediente pescado o carne, es muy general el empleo de conservación de los alimentos en secado (\"þurrkun\") mediante salazón (\"söltun\"), el ahumado (reyking), el marinado y en algunas ocasiones fermentando (\"kæsing\").]\n"
     ]
    },
    {
     "name": "stderr",
     "output_type": "stream",
     "text": [
      " 74%|███████▍  | 283/381 [00:02<00:00, 116.50it/s]"
     ]
    },
    {
     "name": "stdout",
     "output_type": "stream",
     "text": [
      "[los opositores al tirano dionisio i, se refugiaron en etna, que fue ocupada por el mencionado dionisio el 403 a. , c. que estableció allí un cuerpo de mercenarios de campania que antes había establecido en catania (catana).]\n",
      "[militante del pnv,, tras la escisión ocupó cargos políticos en eusko alkartasuna, para después retornar al partido matriz.]\n",
      "[no vuelve a ser mencionada hasta tiempos de agatocles cuando fue ocupada por éste, quien dejó allí una guarnición que fue expulsada el 309 a. , c. cuando el otirano estaba en áfrica.]\n"
     ]
    },
    {
     "name": "stderr",
     "output_type": "stream",
     "text": [
      " 84%|████████▍ | 320/381 [00:02<00:00, 111.62it/s]"
     ]
    },
    {
     "name": "stdout",
     "output_type": "stream",
     "text": [
      "[primer día del carnaval de herencia, aunque no dotado aún de carácter oficial por el ayuntamiento de la misma localidad,, este acto nace de la idea de crear un día en el que sus principales protagonistas son las peñas locales encargardas de animar el carnaval de principio a fin, especialmente en los pasacalles.]\n"
     ]
    },
    {
     "name": "stderr",
     "output_type": "stream",
     "text": [
      " 90%|█████████ | 344/381 [00:03<00:00, 111.46it/s]"
     ]
    },
    {
     "name": "stdout",
     "output_type": "stream",
     "text": [
      "[sin embargo, diferencias entre las autoridades y conflictos al interior de la iglesia ocasionaron que los líderes decidieran separar sus doctrinas con la división de la entonces única iglesia metodista pentecostal de chile en tres entidades: la iglesia metodista pentecostal de chile de derecho público, mantenida por el obispo cartes venegas y correspondiente a 300 iglesias a nivel nacional; la iglesia metodista pentecostal de chile con personalidad jurídica de derecho privado (también conocida por corporación iglesia metodista pentecostal de chile), lidearada por el pastor vicepresidente gobernante de la iglesia nueva san ramón rev., roberto lópez rojas, correspondiente a 62 iglesias; y la primera iglesia metodista pentecostal o catedral evangélica de chile, liderada por el pastor rev., eduardo durán castro, con 65 templos y locales.]\n"
     ]
    },
    {
     "name": "stderr",
     "output_type": "stream",
     "text": [
      "100%|██████████| 381/381 [00:03<00:00, 109.71it/s]\n"
     ]
    },
    {
     "name": "stdout",
     "output_type": "stream",
     "text": [
      "es: 14\n"
     ]
    },
    {
     "name": "stderr",
     "output_type": "stream",
     "text": [
      "  7%|▋         | 28/386 [00:00<00:02, 134.56it/s]"
     ]
    },
    {
     "name": "stdout",
     "output_type": "stream",
     "text": [
      "[blitze barreiras e operações em profusão, foram insuficientes para conter um crescimento de 1112 em relação a março de 2006]\n",
      "[o regente indiano zubin mehta um dos principais colaboradores do tenor, destacou que luciano tinha uma aura especial emanava sensações positivas]\n",
      "[começamos a encaminhar em novembro de 2005 e só na metade do ano passado acertamos tudo e eles começaram a confeccionar, o produto afirma a coordenadora]\n",
      "[depois de um dia de intensas negociações nos bastidores e de muitos telefonemas entre as delegações e seus respectivos países, o clima dentro do plenário do centro de convenções onde as delegações conversam era tranqüilo segundo um dos debatedores]\n"
     ]
    },
    {
     "name": "stderr",
     "output_type": "stream",
     "text": [
      " 18%|█▊        | 71/386 [00:00<00:02, 135.44it/s]"
     ]
    },
    {
     "name": "stdout",
     "output_type": "stream",
     "text": [
      "[blitze barreiras e operações em profusão, foram insuficientes para conter um crescimento de 1112 em relação a março de 2006]\n",
      "[apenas um dos parlamentares, a deputada jusmari de oliveira que deixou o dem e ingressou no pr trocou de legenda após 27 de março]\n",
      "[amanhã, pela manhã eles se encontrarão com o prefeito josé fogaça que prometeu apoio para a realização de obras de infraestrutura na área em que a arena será erguida]\n",
      "[gaúcha de porto alegre, tereza pinheiro, 63 anos vende há 10 anos suvenires de frei galvão na porta do mosteiro]\n"
     ]
    },
    {
     "name": "stderr",
     "output_type": "stream",
     "text": [
      " 26%|██▌       | 100/386 [00:00<00:02, 137.55it/s]"
     ]
    },
    {
     "name": "stdout",
     "output_type": "stream",
     "text": [
      "[de olhos vendados, três integrantes tiveram de percorrer em pedalinhos individuais um trecho do lago sob a orientação do apresentador e da matriarca da família]\n",
      "[por trás da mortandade de jovens no trânsito como as seis vítimas registradas no estado ao longo do final de semana, há um desafio para as campanhas de conscientização]\n"
     ]
    },
    {
     "name": "stderr",
     "output_type": "stream",
     "text": [
      " 41%|████      | 158/386 [00:01<00:01, 140.92it/s]"
     ]
    },
    {
     "name": "stdout",
     "output_type": "stream",
     "text": [
      "[somadas as indústrias do rio grande do sul, teriam capacidade para atender a quase metade do abastecimento nacional previsto para 2008 de 840 milhões de litros]\n",
      "[580, quando o número de presos no local atingir esses três dígitos será totalmente proibido o ingresso de novos apenados]\n",
      "[eliane beatriz guth que trabalha na panificadora, disse que não havia nenhum veículo estacionado em frente ao estabelecimento]\n"
     ]
    },
    {
     "name": "stderr",
     "output_type": "stream",
     "text": [
      " 56%|█████▋    | 218/386 [00:01<00:01, 139.19it/s]"
     ]
    },
    {
     "name": "stdout",
     "output_type": "stream",
     "text": [
      "[para viana, este é um passo importante para dar mais transparência ao legislativo]\n",
      "[o lar do pontífice em são paulo consiste de três salas contíguas no primeiro andar do mosteiro, cada uma com uma janela dando para os jardins do claustro]\n",
      "[a expectativa é de que a nova companhia adote uma gestão moderna com folha de salários mais enxuta para vencer a crise em que se envolveu com dívidas beirando, r 9 bilhões]\n",
      "[mais de 200 palestras integram a programação, muitas destinadas a usuários leigos em informática]\n",
      "[calma freqüentador do parque da redenção, o busto de santosdumont não foi furtado]\n",
      "[calma freqüentador do parque da redenção, o busto de santosdumont não foi furtado]\n"
     ]
    },
    {
     "name": "stderr",
     "output_type": "stream",
     "text": [
      " 64%|██████▍   | 248/386 [00:01<00:00, 138.84it/s]"
     ]
    },
    {
     "name": "stdout",
     "output_type": "stream",
     "text": [
      "[sem espaço sob pontes e viadutos moradores de rua, transformam calçadas em dormitórios e latrinas]\n",
      "[em 2007 25 milhões, foram infectadas]\n",
      "[a equipe liderada por yoshihiro kawaoka analisou amostras do h5 n1, o vírus influenza que em 1997 matou 6 das 18 pessoas infectadas em hong kong]\n"
     ]
    },
    {
     "name": "stderr",
     "output_type": "stream",
     "text": [
      " 79%|███████▉  | 304/386 [00:02<00:00, 133.30it/s]"
     ]
    },
    {
     "name": "stdout",
     "output_type": "stream",
     "text": [
      "[num trabalho aprovado para publicação na revista científica pnas wwwpnasorg, a equipe mostrou que o aparecimento da betaamilóide induz um acúmulo anormal de colesterol e ceramida]\n"
     ]
    },
    {
     "name": "stderr",
     "output_type": "stream",
     "text": [
      " 97%|█████████▋| 375/386 [00:02<00:00, 134.14it/s]"
     ]
    },
    {
     "name": "stdout",
     "output_type": "stream",
     "text": [
      "[para ele em condições ideais, o método funcionaria melhor em pacientes que tivessem um quadro estável com baixa contagem de vírus e forte presença de células de defesa]\n",
      "[para uma dupla de paleoantropólogos dos estados unidos, o elemento que deu a partida na evolução da linhagem humana se encontra alguns palmos debaixo da terra e ainda faz qualquer um salivar diante de um prato de batata ou mandioca frita]\n"
     ]
    },
    {
     "name": "stderr",
     "output_type": "stream",
     "text": [
      "100%|██████████| 386/386 [00:02<00:00, 135.42it/s]"
     ]
    },
    {
     "name": "stdout",
     "output_type": "stream",
     "text": [
      "pt: 25\n"
     ]
    },
    {
     "name": "stderr",
     "output_type": "stream",
     "text": [
      "\n"
     ]
    },
    {
     "ename": "",
     "evalue": "",
     "output_type": "error",
     "traceback": [
      "\u001b[1;31mThe Kernel crashed while executing code in the the current cell or a previous cell. Please review the code in the cell(s) to identify a possible cause of the failure. Click <a href='https://aka.ms/vscodeJupyterKernelCrash'>here</a> for more info. View Jupyter <a href='command:jupyter.viewOutput'>log</a> for further details."
     ]
    }
   ],
   "source": [
    "#en \n",
    "def count_sentence_split(model, data):\n",
    "    nlp = spacy.load(model)\n",
    "    count = 0\n",
    "    for row in tqdm(data.iloc, total=len(data)):\n",
    "        doc = nlp(row['text'])\n",
    "        sents = list(doc.sents)\n",
    "        if len(sents) > 1:\n",
    "            print(sents)\n",
    "            count += 1\n",
    "    return count\n",
    "print('en:', count_sentence_split('en_core_web_sm', data_tsar_en))\n",
    "print('es:', count_sentence_split('es_core_news_sm', data_tsar_es))\n",
    "print('pt:', count_sentence_split('pt_core_news_sm', data_tsar_pt))\n"
   ]
  },
  {
   "cell_type": "code",
   "execution_count": null,
   "metadata": {},
   "outputs": [],
   "source": []
  }
 ],
 "metadata": {
  "kernelspec": {
   "display_name": "ConLS",
   "language": "python",
   "name": "python3"
  },
  "language_info": {
   "codemirror_mode": {
    "name": "ipython",
    "version": 3
   },
   "file_extension": ".py",
   "mimetype": "text/x-python",
   "name": "python",
   "nbconvert_exporter": "python",
   "pygments_lexer": "ipython3",
   "version": "3.9.4"
  },
  "orig_nbformat": 4,
  "vscode": {
   "interpreter": {
    "hash": "774dfef66576c1bc5f6c5092ce4ace6ecc473aab9c3e9d99e780abb421ef3888"
   }
  }
 },
 "nbformat": 4,
 "nbformat_minor": 2
}
