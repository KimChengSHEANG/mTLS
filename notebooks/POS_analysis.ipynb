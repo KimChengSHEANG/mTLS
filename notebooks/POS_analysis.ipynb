{
 "cells": [
  {
   "cell_type": "markdown",
   "metadata": {},
   "source": [
    "# Import and Helper functions"
   ]
  },
  {
   "cell_type": "code",
   "execution_count": 1,
   "metadata": {
    "tags": []
   },
   "outputs": [
    {
     "name": "stderr",
     "output_type": "stream",
     "text": [
      "[nltk_data] Downloading package stopwords to /Users/kim/nltk_data...\n",
      "[nltk_data]   Package stopwords is already up-to-date!\n"
     ]
    }
   ],
   "source": [
    "# -- fix path --\n",
    "from pathlib import Path\n",
    "import sys\n",
    "sys.path.append(str(Path('..').resolve()))\n",
    "from source.resources import *\n",
    "from source.metrics import *\n",
    "from source.helper import *\n",
    "from source.preprocessor import *\n",
    "from source.constants import *\n",
    "import Levenshtein\n",
    "import wordfreq\n",
    "\n",
    "from nltk import word_tokenize\n",
    "from functools import lru_cache\n",
    "import unicodedata\n",
    "from collections import Counter\n",
    "# from nltk import word_tokenize\n",
    "import nltk\n",
    "import magic\n",
    "# nltk.download('punkt')\n",
    "# nltk.download('stopwords')\n",
    "from nltk.corpus import stopwords\n",
    "import spacy\n",
    "# from spacy.cli.download import download as spacy_download\n",
    "# nlp = spacy.load(\"en_core_web_sm\")\n",
    "\n",
    "# from joblib import Memory\n",
    "current_dir = Path('.')\n",
    "\n",
    "DATASETS = [Dataset.BenchLS, Dataset.LexMTurk, Dataset.NNSeval, Dataset.SemEval2012, Dataset.TSAR_EN]\n"
   ]
  },
  {
   "cell_type": "code",
   "execution_count": 2,
   "metadata": {},
   "outputs": [],
   "source": [
    "def load_spacy(lang='en'):\n",
    "    models = {'en': 'en_core_web_sm', 'es': 'es_core_news_sm', 'pt':'pt_core_news_sm', 'fr':'fr_core_news_sm'} #efficiency\n",
    "    # models = {'en': 'en_core_web_trf', 'es': 'es_dep_news_trf', 'pt':'pt_core_news_lg', 'fr':'fr_dep_news_trf'} #accuracy\n",
    "    spacy.prefer_gpu()\n",
    "    try:\n",
    "        # If not present, download 'en_core_web_sm'\n",
    "        return spacy.load(models[lang]) \n",
    "    except OSError:\n",
    "        from spacy.cli.download import download as spacy_download\n",
    "\n",
    "        spacy_download(models[lang])\n",
    "        return spacy.load(models[lang])"
   ]
  },
  {
   "attachments": {},
   "cell_type": "markdown",
   "metadata": {},
   "source": [
    "# Spanish"
   ]
  },
  {
   "cell_type": "code",
   "execution_count": 3,
   "metadata": {},
   "outputs": [
    {
     "data": {
      "text/html": [
       "<div>\n",
       "<style scoped>\n",
       "    .dataframe tbody tr th:only-of-type {\n",
       "        vertical-align: middle;\n",
       "    }\n",
       "\n",
       "    .dataframe tbody tr th {\n",
       "        vertical-align: top;\n",
       "    }\n",
       "\n",
       "    .dataframe thead th {\n",
       "        text-align: right;\n",
       "    }\n",
       "</style>\n",
       "<table border=\"1\" class=\"dataframe\">\n",
       "  <thead>\n",
       "    <tr style=\"text-align: right;\">\n",
       "      <th></th>\n",
       "      <th>text</th>\n",
       "      <th>complex_word</th>\n",
       "      <th>complex_word_index</th>\n",
       "      <th>candidates</th>\n",
       "    </tr>\n",
       "  </thead>\n",
       "  <tbody>\n",
       "    <tr>\n",
       "      <th>0</th>\n",
       "      <td>), fue un pianista y compositor folclórico, y ...</td>\n",
       "      <td>folclórico</td>\n",
       "      <td>7</td>\n",
       "      <td>[[\"tradicional\"], [\"pintoresco\", \"t\\u00edpico\"...</td>\n",
       "    </tr>\n",
       "    <tr>\n",
       "      <th>1</th>\n",
       "      <td>a comienzos de la década de 1980, se trasladó ...</td>\n",
       "      <td>labrarse</td>\n",
       "      <td>20</td>\n",
       "      <td>[[\"formarse\"], [\"construirse\", \"hacerse\"], [\"g...</td>\n",
       "    </tr>\n",
       "    <tr>\n",
       "      <th>2</th>\n",
       "      <td>a lo largo de sus más de veinte años de experi...</td>\n",
       "      <td>tertulias</td>\n",
       "      <td>33</td>\n",
       "      <td>[[\"charlas\"], [\"reuniones\"], [\"debates\"], [\"co...</td>\n",
       "    </tr>\n",
       "    <tr>\n",
       "      <th>3</th>\n",
       "      <td>a pesar de las pocas bajas (menos de 500 en to...</td>\n",
       "      <td>propiciado</td>\n",
       "      <td>38</td>\n",
       "      <td>[[\"provocado\"], [\"favorecido\", \"desencadenado\"...</td>\n",
       "    </tr>\n",
       "    <tr>\n",
       "      <th>4</th>\n",
       "      <td>a pesar de las pocas bajas (menos de 500 en to...</td>\n",
       "      <td>decadencia</td>\n",
       "      <td>40</td>\n",
       "      <td>[[\"ca\\u00edda\"], [\"debilitaci\\u00f3n\"], [\"caid...</td>\n",
       "    </tr>\n",
       "    <tr>\n",
       "      <th>...</th>\n",
       "      <td>...</td>\n",
       "      <td>...</td>\n",
       "      <td>...</td>\n",
       "      <td>...</td>\n",
       "    </tr>\n",
       "    <tr>\n",
       "      <th>376</th>\n",
       "      <td>una bomba peristáltica es un tipo de bomba hid...</td>\n",
       "      <td>hidráulica</td>\n",
       "      <td>8</td>\n",
       "      <td>[[\"hidr\\u00e1ulica\"], [\"hidromec\\u00e1nica\"], ...</td>\n",
       "    </tr>\n",
       "    <tr>\n",
       "      <th>377</th>\n",
       "      <td>una noche,un extraño personaje llamado dedo po...</td>\n",
       "      <td>secuaces</td>\n",
       "      <td>53</td>\n",
       "      <td>[[\"seguidores\"], [\"c\\u00f3mplices\"], [\"compa\\u...</td>\n",
       "    </tr>\n",
       "    <tr>\n",
       "      <th>378</th>\n",
       "      <td>utilizó el seudónimo \"etpa\" (ermelinda talea p...</td>\n",
       "      <td>seudónimo</td>\n",
       "      <td>2</td>\n",
       "      <td>[[\"alias\"], [\"apodo\", \"sobrenombre\"], [\"nombre...</td>\n",
       "    </tr>\n",
       "    <tr>\n",
       "      <th>379</th>\n",
       "      <td>villasequilla se llamó antes \"villaseca de val...</td>\n",
       "      <td>dependencia</td>\n",
       "      <td>18</td>\n",
       "      <td>[[\"vinculaci\\u00f3n\"], [\"subordinaci\\u00f3n\"],...</td>\n",
       "    </tr>\n",
       "    <tr>\n",
       "      <th>380</th>\n",
       "      <td>ya como alumna de ballet, gret palucca tenía u...</td>\n",
       "      <td>escéptica</td>\n",
       "      <td>11</td>\n",
       "      <td>[[\"incr\\u00e9dula\"], [\"desconfiada\", \"dudosa\"]...</td>\n",
       "    </tr>\n",
       "  </tbody>\n",
       "</table>\n",
       "<p>381 rows × 4 columns</p>\n",
       "</div>"
      ],
      "text/plain": [
       "                                                  text complex_word  \\\n",
       "0    ), fue un pianista y compositor folclórico, y ...   folclórico   \n",
       "1    a comienzos de la década de 1980, se trasladó ...     labrarse   \n",
       "2    a lo largo de sus más de veinte años de experi...    tertulias   \n",
       "3    a pesar de las pocas bajas (menos de 500 en to...   propiciado   \n",
       "4    a pesar de las pocas bajas (menos de 500 en to...   decadencia   \n",
       "..                                                 ...          ...   \n",
       "376  una bomba peristáltica es un tipo de bomba hid...   hidráulica   \n",
       "377  una noche,un extraño personaje llamado dedo po...     secuaces   \n",
       "378  utilizó el seudónimo \"etpa\" (ermelinda talea p...    seudónimo   \n",
       "379  villasequilla se llamó antes \"villaseca de val...  dependencia   \n",
       "380  ya como alumna de ballet, gret palucca tenía u...    escéptica   \n",
       "\n",
       "     complex_word_index                                         candidates  \n",
       "0                     7  [[\"tradicional\"], [\"pintoresco\", \"t\\u00edpico\"...  \n",
       "1                    20  [[\"formarse\"], [\"construirse\", \"hacerse\"], [\"g...  \n",
       "2                    33  [[\"charlas\"], [\"reuniones\"], [\"debates\"], [\"co...  \n",
       "3                    38  [[\"provocado\"], [\"favorecido\", \"desencadenado\"...  \n",
       "4                    40  [[\"ca\\u00edda\"], [\"debilitaci\\u00f3n\"], [\"caid...  \n",
       "..                  ...                                                ...  \n",
       "376                   8  [[\"hidr\\u00e1ulica\"], [\"hidromec\\u00e1nica\"], ...  \n",
       "377                  53  [[\"seguidores\"], [\"c\\u00f3mplices\"], [\"compa\\u...  \n",
       "378                   2  [[\"alias\"], [\"apodo\", \"sobrenombre\"], [\"nombre...  \n",
       "379                  18  [[\"vinculaci\\u00f3n\"], [\"subordinaci\\u00f3n\"],...  \n",
       "380                  11  [[\"incr\\u00e9dula\"], [\"desconfiada\", \"dudosa\"]...  \n",
       "\n",
       "[381 rows x 4 columns]"
      ]
     },
     "execution_count": 3,
     "metadata": {},
     "output_type": "execute_result"
    }
   ],
   "source": [
    "data = load_dataset(Dataset.TSAR_ES)\n",
    "data"
   ]
  },
  {
   "cell_type": "code",
   "execution_count": 4,
   "metadata": {},
   "outputs": [
    {
     "name": "stderr",
     "output_type": "stream",
     "text": [
      "100%|██████████| 381/381 [00:01<00:00, 314.00it/s]"
     ]
    },
    {
     "name": "stdout",
     "output_type": "stream",
     "text": [
      "{'ADJ': 77, 'VERB': 72, 'NOUN': 225, 'PROPN': 4, 'ADV': 4}\n"
     ]
    },
    {
     "name": "stderr",
     "output_type": "stream",
     "text": [
      "\n"
     ]
    }
   ],
   "source": [
    "pos_types = {}\n",
    "pos_types_words = {}\n",
    "nlp = load_spacy('es')\n",
    "for i in tqdm(range(len(data))):\n",
    "    row = data.iloc[i]\n",
    "    text = row['text']\n",
    "    # print(text)\n",
    "    complex_word = row['complex_word']\n",
    "    doc = nlp(text)\n",
    "    for token in doc:\n",
    "        # print(token.text, token.pos_)\n",
    "        if token.text == complex_word:\n",
    "            pos = token.pos_\n",
    "            # print(token.text, pos)\n",
    "            if pos in pos_types:\n",
    "                pos_types[pos] += 1 \n",
    "            else:\n",
    "                pos_types[pos] = 1\n",
    "            if pos in pos_types_words:\n",
    "                pos_types_words[pos].append(token.text)\n",
    "            else: \n",
    "                pos_types_words[pos] = [token.text]\n",
    "    # break \n",
    "\n",
    "print(pos_types)\n"
   ]
  },
  {
   "cell_type": "code",
   "execution_count": 5,
   "metadata": {},
   "outputs": [
    {
     "name": "stdout",
     "output_type": "stream",
     "text": [
      "ADJ folclórico, difunto, célebre, extinta, indispuesto, historiográfica, burlesca, homónimo, sobrenatural, mortífero, pictóricas, telúricos, monástico, empotrado, acreditada, ancestral, metafórica, épico, ovina, desacreditados, topónimo, feudos, robusto, estirpe, emblemáticos, anglosajón, divulgativo, interino, evangélicos, célebre, prominentes, adyacente, misericordioso, sarcástica, protagónicas, enchufados, reputada, sublevadas, versátiles, representativo, emblemáticos, inhabitual, encuadrada, datado, contestataria, malcriado, primordialmente, aleatorias, burguesas-conservadoras, burocráticas, larvas, arraigada, imputado, prolífico, irascible, profanos, incierta, calibrados, minimalista, rudimentarios, aristocrática, dotado, abruptas, sobrehumanas, vertiente, devastador, lírico, sincrónica, colmatado, reducidísimo, condecorado, homónimo, innato, desafortunado, hidráulica, secuaces, escéptica\n",
      "================================================================================\n",
      "VERB labrarse, propiciado, albergaba, mimetizar, cuchicheaban, debutó, propiciara, asumiendo, persuadió, reclutado, vedette, inculcado, marginaba, residido, ostentan, colapsó, mártir, rescindido, asoladas, epicentro, desplomaron, demolido, incorporaría, desemboca, simboliza, relocalizado, agudiza, consolidado, inaugurado, denostando, elogiando, conquistar, reconquistado, sustenta, secularizó, subsistir, establecerse, alistó, alistándose, aglutinó, compagina, recaló, coagular, sincretiza, militó, cosechó, compaginó, orquestando, instruyera, anhelaban, preconiza, discriminada, renombrar, dirimiéndose, procesionando, engrosar, especulaba, condecorado, masacrados, batieron, disputó, blasona, refundió, delegado, catalogue, reeditada, derrocó, obstaculizado, acogerse, disputando, sobreponerse, arrebatado\n",
      "================================================================================\n",
      "NOUN tertulias, decadencia, caseríos, postulados, recaudación, vecindario, remezclador, encarnación, presitigioso, islotes, pitorreo, guardaespaldas, debut, demarcación, apliques, municipio, repertorio, carisma, hechicero, substitución, foro, asiduidad, cúpula, disolución, protectorado, alfabetización, autonomía, convicción, cincelado, estanciero, clemencia, pedagogo, cúmulo, conspiraciones, nomarcas, hegemonía, agrietamiento, guarnición, legislatura, entronización, dimisión, cantautores, patrocinio, magnate, cuarteto, remake, prototipo, contragolpe, derrumbe, corsarios, comuna, auriga, domo, vaquería, comarca, pistoletazo, asentamiento, representativo, expiaciones, ateísmo, obsoletos, beneplácito, pretensiones, ornamentación, deidades, portero, filósofo, bula, señoríos, hostilidades, alférez, catedrático, damnificados, desbordamiento, escuadra, jubilación, galardonada, recio, reconfiguración, indemnización, elenco, avala, folletín, emplazamiento, liturgia, melismas, zagas, acepción, deidad, oligarquía, acepción, barrizal, artesonado, acosándolos, salubridad, dunas, vástagos, virilidad, catástrofes, seudónimos, hipocresía, emblematicos, alineación, apóstatas, conglomerado, desembocadura, jurisdicción, transmisiones, párvulos, comuna, alienígenas, arraigo, soberanía, desarrolladores, advocación, guarnición, periplo, repertorio, anónimos, calzada, narrativa, contusos, fisuras, homenaje, salazón, asignársele, monasterios, primordialmente, reconvirtiéndolo, abades, consagración, contracara, topónimo, jurisdicción, pedanía, fragmentos, vertientes, discográfica, escorrentía, turba, discriminación, precipitaciones, indumentaria, reanudación, hostilidades, sismicidad, balaustradas, transeúntes, milicia, opresión, facultades, paraje, paraje, aportaciones, suburbio, mercenarios, alquerías, cantautora, locutor, mecenas, anónimos, escisión, pionero, declive, acecha, aforamiento, supermodelo, repercusión, guarnición, encarcelamiento, escabrosidad, hondura, audacia, sanciones, amateurismo, comarca, defecciones, deserción, vertiente, extravagantes, gesta, bajorrelieves, pilonos, fusión, consecuentemente, versatilidad, tridente, desembocadura, estatismo, armisticio, cuádrigas, comarcas, cénit, perpetuidad, co-animadora, doctrinas, arrojadizo, datación, comarca, secuencia, acontecimientos, consagración, declive, feudo, enclave, coreografía, irrupción, prospecciones, pianola, zancada, pupilos, translitera, primogénito, acontecimientos, rescisión, pistoletazo, nomarcas, hegemonía, rendición, dispositivo, amuleto, oscilaciones, elongaciones, seudónimo, dependencia\n",
      "================================================================================\n",
      "PROPN dramaturgo, moméntum, manga, panteón\n",
      "================================================================================\n",
      "ADV colectivamente, primitivamente, mayoritariamente, terrateniente\n",
      "================================================================================\n"
     ]
    }
   ],
   "source": [
    "for key, values in pos_types_words.items():\n",
    "    print(key, ', '.join(values))\n",
    "    print('='*80)\n"
   ]
  },
  {
   "attachments": {},
   "cell_type": "markdown",
   "metadata": {},
   "source": [
    "# English"
   ]
  },
  {
   "cell_type": "code",
   "execution_count": 6,
   "metadata": {},
   "outputs": [
    {
     "data": {
      "text/html": [
       "<div>\n",
       "<style scoped>\n",
       "    .dataframe tbody tr th:only-of-type {\n",
       "        vertical-align: middle;\n",
       "    }\n",
       "\n",
       "    .dataframe tbody tr th {\n",
       "        vertical-align: top;\n",
       "    }\n",
       "\n",
       "    .dataframe thead th {\n",
       "        text-align: right;\n",
       "    }\n",
       "</style>\n",
       "<table border=\"1\" class=\"dataframe\">\n",
       "  <thead>\n",
       "    <tr style=\"text-align: right;\">\n",
       "      <th></th>\n",
       "      <th>text</th>\n",
       "      <th>complex_word</th>\n",
       "      <th>complex_word_index</th>\n",
       "      <th>candidates</th>\n",
       "    </tr>\n",
       "  </thead>\n",
       "  <tbody>\n",
       "    <tr>\n",
       "      <th>0</th>\n",
       "      <td>this discovery helped to establish yet another...</td>\n",
       "      <td>prototype</td>\n",
       "      <td>28</td>\n",
       "      <td>[[\"model\", \"sample\"], [\"prototype\"], [\"origina...</td>\n",
       "    </tr>\n",
       "    <tr>\n",
       "      <th>1</th>\n",
       "      <td>putin was expected to formally register later ...</td>\n",
       "      <td>authoritarian</td>\n",
       "      <td>29</td>\n",
       "      <td>[[\"dictatorial\"], [\"controlling\", \"authoritari...</td>\n",
       "    </tr>\n",
       "    <tr>\n",
       "      <th>2</th>\n",
       "      <td>#7-8 despite the fog, other flights are report...</td>\n",
       "      <td>collision</td>\n",
       "      <td>18</td>\n",
       "      <td>[[\"crash\"], [\"impact\", \"accident\"], [\"collisio...</td>\n",
       "    </tr>\n",
       "    <tr>\n",
       "      <th>3</th>\n",
       "      <td>the larva grows to about 120-130 mm , and pupa...</td>\n",
       "      <td>pupates</td>\n",
       "      <td>9</td>\n",
       "      <td>[[\"grows\"], [\"pupates\"], [\"develops\"], [\"matur...</td>\n",
       "    </tr>\n",
       "    <tr>\n",
       "      <th>4</th>\n",
       "      <td>gorbachev told the interfax news agency that a...</td>\n",
       "      <td>discontent</td>\n",
       "      <td>20</td>\n",
       "      <td>[[\"dissatisfaction\"], [\"unhappiness\"], [\"unres...</td>\n",
       "    </tr>\n",
       "    <tr>\n",
       "      <th>...</th>\n",
       "      <td>...</td>\n",
       "      <td>...</td>\n",
       "      <td>...</td>\n",
       "      <td>...</td>\n",
       "    </tr>\n",
       "    <tr>\n",
       "      <th>381</th>\n",
       "      <td>pearl s. buck died of lung cancer on march 6 ,...</td>\n",
       "      <td>interred</td>\n",
       "      <td>20</td>\n",
       "      <td>[[\"buried\"], [\"burried\"], [\"entombed\", \"inhume...</td>\n",
       "    </tr>\n",
       "    <tr>\n",
       "      <th>382</th>\n",
       "      <td>his satirical street art and subversive epigra...</td>\n",
       "      <td>epigrams</td>\n",
       "      <td>6</td>\n",
       "      <td>[[\"quips\", \"jokes\"], [\"gems\", \"puns\"], [\"jest\"...</td>\n",
       "    </tr>\n",
       "    <tr>\n",
       "      <th>383</th>\n",
       "      <td>brevard county was the scene of six homicides ...</td>\n",
       "      <td>homicides</td>\n",
       "      <td>7</td>\n",
       "      <td>[[\"murders\"], [\"killings\"], [\"assassinations\"]...</td>\n",
       "    </tr>\n",
       "    <tr>\n",
       "      <th>384</th>\n",
       "      <td>#5-4 northern mali was seized by islamic milit...</td>\n",
       "      <td>seized</td>\n",
       "      <td>5</td>\n",
       "      <td>[[\"captured\", \"grabbed\"], [\"taken\"], [\"overtak...</td>\n",
       "    </tr>\n",
       "    <tr>\n",
       "      <th>385</th>\n",
       "      <td>#30-19 \"we would have preferred a different so...</td>\n",
       "      <td>impugned</td>\n",
       "      <td>32</td>\n",
       "      <td>[[\"challenged\"], [\"disputed\", \"questioned\"], [...</td>\n",
       "    </tr>\n",
       "  </tbody>\n",
       "</table>\n",
       "<p>386 rows × 4 columns</p>\n",
       "</div>"
      ],
      "text/plain": [
       "                                                  text   complex_word  \\\n",
       "0    this discovery helped to establish yet another...      prototype   \n",
       "1    putin was expected to formally register later ...  authoritarian   \n",
       "2    #7-8 despite the fog, other flights are report...      collision   \n",
       "3    the larva grows to about 120-130 mm , and pupa...        pupates   \n",
       "4    gorbachev told the interfax news agency that a...     discontent   \n",
       "..                                                 ...            ...   \n",
       "381  pearl s. buck died of lung cancer on march 6 ,...       interred   \n",
       "382  his satirical street art and subversive epigra...       epigrams   \n",
       "383  brevard county was the scene of six homicides ...      homicides   \n",
       "384  #5-4 northern mali was seized by islamic milit...         seized   \n",
       "385  #30-19 \"we would have preferred a different so...       impugned   \n",
       "\n",
       "     complex_word_index                                         candidates  \n",
       "0                    28  [[\"model\", \"sample\"], [\"prototype\"], [\"origina...  \n",
       "1                    29  [[\"dictatorial\"], [\"controlling\", \"authoritari...  \n",
       "2                    18  [[\"crash\"], [\"impact\", \"accident\"], [\"collisio...  \n",
       "3                     9  [[\"grows\"], [\"pupates\"], [\"develops\"], [\"matur...  \n",
       "4                    20  [[\"dissatisfaction\"], [\"unhappiness\"], [\"unres...  \n",
       "..                  ...                                                ...  \n",
       "381                  20  [[\"buried\"], [\"burried\"], [\"entombed\", \"inhume...  \n",
       "382                   6  [[\"quips\", \"jokes\"], [\"gems\", \"puns\"], [\"jest\"...  \n",
       "383                   7  [[\"murders\"], [\"killings\"], [\"assassinations\"]...  \n",
       "384                   5  [[\"captured\", \"grabbed\"], [\"taken\"], [\"overtak...  \n",
       "385                  32  [[\"challenged\"], [\"disputed\", \"questioned\"], [...  \n",
       "\n",
       "[386 rows x 4 columns]"
      ]
     },
     "execution_count": 6,
     "metadata": {},
     "output_type": "execute_result"
    }
   ],
   "source": [
    "data = load_dataset(Dataset.TSAR_EN)\n",
    "data"
   ]
  },
  {
   "cell_type": "code",
   "execution_count": 7,
   "metadata": {},
   "outputs": [
    {
     "name": "stderr",
     "output_type": "stream",
     "text": [
      "100%|██████████| 386/386 [00:01<00:00, 330.60it/s]"
     ]
    },
    {
     "name": "stdout",
     "output_type": "stream",
     "text": [
      "{'NOUN': 177, 'ADJ': 60, 'VERB': 139, 'ADV': 12, 'PROPN': 2}\n"
     ]
    },
    {
     "name": "stderr",
     "output_type": "stream",
     "text": [
      "\n"
     ]
    }
   ],
   "source": [
    "pos_types = {}\n",
    "pos_types_words = {}\n",
    "nlp = load_spacy('en')\n",
    "for i in tqdm(range(len(data))):\n",
    "    row = data.iloc[i]\n",
    "    text = row['text']\n",
    "    # print(text)\n",
    "    complex_word = row['complex_word']\n",
    "    doc = nlp(text)\n",
    "    for token in doc:\n",
    "        # print(token.text, token.pos_)\n",
    "        if token.text == complex_word:\n",
    "            pos = token.pos_\n",
    "            # print(token.text, pos)\n",
    "            if pos in pos_types:\n",
    "                pos_types[pos] += 1 \n",
    "            else:\n",
    "                pos_types[pos] = 1\n",
    "            if pos in pos_types_words:\n",
    "                pos_types_words[pos].append(token.text)\n",
    "            else: \n",
    "                pos_types_words[pos] = [token.text]\n",
    "    # break \n",
    "\n",
    "print(pos_types)\n"
   ]
  },
  {
   "cell_type": "code",
   "execution_count": 8,
   "metadata": {},
   "outputs": [
    {
     "name": "stdout",
     "output_type": "stream",
     "text": [
      "NOUN prototype, collision, pupates, discontent, descent, offshoot, decree, deficit, canopy, condolences, scrutiny, regime, snipers, precautions, accolade, uprising, offender, encodes, residences, ringleaders, compound, exclusion, observers, toxins, authorities, monsters, detainees, scrutiny, replica, probe, aviator, repression, vulnerability, equipment, existence, proportion, motive, determination, bloodshed, credibility, exclusion, anonymity, indignation, troublemakers, abdomen, pursuit, inclusion, bombardment, colonies, segregation, residence, regulators, regulators, shrapnel, bureau, anonymity, enquiries, incident, incident, offender, anonymity, clemency, sanctuary, demonstrations, allege, bloodshed, adversary, renderings, nobility, colonies, militiamen, carnage, stint, atrocities, maniacs, candidacy, auctioneers, bloodshed, organisers, clearance, sympathy, composition, sanctions, flashpoint, assumption, casualties, acquisition, pedestal, regime, regime, demonstrations, sentiment, surveillance, plethora, concentration, acquisition, uprising, overt, probe, indication, impeachment, emissions, eligibility, bombardment, regime, offshoot, rendition, internship, tragedy, provisioning, tragedy, ouster, mainstream, surveillance, debris, sanctions, acquisition, pledges, debris, condolences, hostility, insurgents, authorities, regime, envisions, estimate, significance, neighbouring, insurgents, clemency, authorities, bespoke, instrument, insurgency, regime, exhibitions, prospects, surveillance, datum, legislation, dissidents, criteria, bole, operative, trophies, backlash, counteractions, impasse, defiance, departure, compound, enactment, evacuation, prediction, acquisition, conclusion, rebound, campaigning, credibility, outskirts, elite, subsidiaries, imprecise, resilience, vicinity, riposte, accumulation, allegations, monument, fatalities, indignation, falsifications, flashpoints, intentions, outskirts, epigrams, homicides\n",
      "================================================================================\n",
      "ADJ authoritarian, sectarian, sectarian, benchmark, auspicious, systemic, mythological, unprecedented, vicious, restive, adequate, craven, usher, diplomatic, confidential, intimidate, successive, unsanctioned, enigmatic, underlying, apparent, sustained, regrettable, preliminary, controversial, disgraceful, symphonic, ominous, infamous, electoral, crippling, authoritarian, skittish, suspicious, inaugural, ongoing, distinct, obscene, strategic, metropolitan, conservative, inadequate, eligible, problematic, definitive, crippling, unsanctioned, sole, unprecedented, vulnerable, obvious, sustained, integral, lunar, lunar, compulsory, barren, prejudiced, illegitimate, disruptive\n",
      "================================================================================\n",
      "VERB decomposes, detonating, established, anchored, bulging, romanized, recognized, nominated, erring, harassing, conflicting, announced, cementing, unleashing, originated, discredits, strained, enacted, primed, acquiring, stemming, emerged, detained, disguised, acquire, threatened, sought, acclaimed, commissioned, scrapped, degenerate, touted, purifying, announced, residing, plundering, enduring, alleged, alleged, evaluated, surpassed, asserted, erupted, deployed, repossessed, investigating, introduced, disputed, relinquish, indicating, executed, executed, appealed, qualify, prevailing, imposing, dominated, authorized, slated, summonsed, implemented, outlining, instilled, herald, attributed, annul, disassociate, mandated, morph, authorized, monitoring, downplayed, prohibits, prevailing, obliged, appealing, cooperated, sought, impeach, unleashed, incurred, quelled, detained, defected, emerge, emerge, ensued, unearthed, preoccupied, documented, awoken, challenging, assassinated, roamed, conjure, commemorating, deploy, ingested, compiled, traumatised, ignited, pertaining, collaborated, implied, marred, enacted, investigate, slumped, ambushed, diagnosed, boycott, assassinated, detonated, clamoring, reaffirmed, harassed, harassed, safeguarding, surged, repealing, revert, vacationing, homicides, underscores, annul, deployed, revered, evade, alleged, lingering, incubated, conferred, alighting, extend, detained, commenced, interred, seized, impugned\n",
      "================================================================================\n",
      "ADV suspiciously, suspiciously, genuinely, attentively, partially, warily, adamantly, initially, approximately, critically, diplomatically, subsequently\n",
      "================================================================================\n",
      "PROPN sanctions, pinnacle\n",
      "================================================================================\n"
     ]
    }
   ],
   "source": [
    "for key, values in pos_types_words.items():\n",
    "    print(key, ', '.join(values))\n",
    "    print('='*80)\n"
   ]
  },
  {
   "attachments": {},
   "cell_type": "markdown",
   "metadata": {},
   "source": [
    "# Portuguese"
   ]
  },
  {
   "cell_type": "code",
   "execution_count": 9,
   "metadata": {},
   "outputs": [
    {
     "data": {
      "text/html": [
       "<div>\n",
       "<style scoped>\n",
       "    .dataframe tbody tr th:only-of-type {\n",
       "        vertical-align: middle;\n",
       "    }\n",
       "\n",
       "    .dataframe tbody tr th {\n",
       "        vertical-align: top;\n",
       "    }\n",
       "\n",
       "    .dataframe thead th {\n",
       "        text-align: right;\n",
       "    }\n",
       "</style>\n",
       "<table border=\"1\" class=\"dataframe\">\n",
       "  <thead>\n",
       "    <tr style=\"text-align: right;\">\n",
       "      <th></th>\n",
       "      <th>text</th>\n",
       "      <th>complex_word</th>\n",
       "      <th>complex_word_index</th>\n",
       "      <th>candidates</th>\n",
       "    </tr>\n",
       "  </thead>\n",
       "  <tbody>\n",
       "    <tr>\n",
       "      <th>0</th>\n",
       "      <td>ao prever a distribuição gratuita de uniforme ...</td>\n",
       "      <td>controvérsia</td>\n",
       "      <td>20</td>\n",
       "      <td>[[\"pol\\u00eamica\"], [\"contradi\\u00e7\\u00e3o\"],...</td>\n",
       "    </tr>\n",
       "    <tr>\n",
       "      <th>1</th>\n",
       "      <td>a matéria ainda precisa passar pela câmara dos...</td>\n",
       "      <td>matéria</td>\n",
       "      <td>1</td>\n",
       "      <td>[[\"assunto\", \"lei\"], [\"proposta\", \"conte\\u00fa...</td>\n",
       "    </tr>\n",
       "    <tr>\n",
       "      <th>2</th>\n",
       "      <td>o acessório polêmico entrou no projeto de auto...</td>\n",
       "      <td>polêmico</td>\n",
       "      <td>2</td>\n",
       "      <td>[[\"controverso\"], [\"discut\\u00edvel\"], [\"duvid...</td>\n",
       "    </tr>\n",
       "    <tr>\n",
       "      <th>3</th>\n",
       "      <td>toda a operação teria sido armada para vingar ...</td>\n",
       "      <td>armada</td>\n",
       "      <td>5</td>\n",
       "      <td>[[\"criada\"], [\"planejada\"], [\"organizada\", \"pr...</td>\n",
       "    </tr>\n",
       "    <tr>\n",
       "      <th>4</th>\n",
       "      <td>blitze barreiras e operações em profusão foram...</td>\n",
       "      <td>profusão</td>\n",
       "      <td>5</td>\n",
       "      <td>[[\"abund\\u00e2ncia\"], [\"fartura\", \"quantidade\"...</td>\n",
       "    </tr>\n",
       "    <tr>\n",
       "      <th>...</th>\n",
       "      <td>...</td>\n",
       "      <td>...</td>\n",
       "      <td>...</td>\n",
       "      <td>...</td>\n",
       "    </tr>\n",
       "    <tr>\n",
       "      <th>381</th>\n",
       "      <td>para provar a idéia os pesquisadores compilara...</td>\n",
       "      <td>compilaram</td>\n",
       "      <td>6</td>\n",
       "      <td>[[\"reuniram\"], [\"juntaram\"], [\"selecionaram\"],...</td>\n",
       "    </tr>\n",
       "    <tr>\n",
       "      <th>382</th>\n",
       "      <td>o estudo estará numa edição futura do periódic...</td>\n",
       "      <td>científico</td>\n",
       "      <td>8</td>\n",
       "      <td>[[\"tecnol\\u00f3gico\", \"t\\u00e9cnico\"], [\"mestr...</td>\n",
       "    </tr>\n",
       "    <tr>\n",
       "      <th>383</th>\n",
       "      <td>cremos que elas seriam mais eficientes que os ...</td>\n",
       "      <td>inibir</td>\n",
       "      <td>11</td>\n",
       "      <td>[[\"impedir\"], [\"diminuir\"], [\"impossibilitar\"]...</td>\n",
       "    </tr>\n",
       "    <tr>\n",
       "      <th>384</th>\n",
       "      <td>a ficção científica americana na forma de livr...</td>\n",
       "      <td>fascinada</td>\n",
       "      <td>12</td>\n",
       "      <td>[[\"encantada\", \"apaixonada\"], [\"deslumbrado\"],...</td>\n",
       "    </tr>\n",
       "    <tr>\n",
       "      <th>385</th>\n",
       "      <td>a universidade de tóquio desenvolveu uma pele ...</td>\n",
       "      <td>significativa</td>\n",
       "      <td>14</td>\n",
       "      <td>[[\"importante\"], [\"consider\\u00e1vel\"], [\"gran...</td>\n",
       "    </tr>\n",
       "  </tbody>\n",
       "</table>\n",
       "<p>386 rows × 4 columns</p>\n",
       "</div>"
      ],
      "text/plain": [
       "                                                  text   complex_word  \\\n",
       "0    ao prever a distribuição gratuita de uniforme ...   controvérsia   \n",
       "1    a matéria ainda precisa passar pela câmara dos...        matéria   \n",
       "2    o acessório polêmico entrou no projeto de auto...       polêmico   \n",
       "3    toda a operação teria sido armada para vingar ...         armada   \n",
       "4    blitze barreiras e operações em profusão foram...       profusão   \n",
       "..                                                 ...            ...   \n",
       "381  para provar a idéia os pesquisadores compilara...     compilaram   \n",
       "382  o estudo estará numa edição futura do periódic...     científico   \n",
       "383  cremos que elas seriam mais eficientes que os ...         inibir   \n",
       "384  a ficção científica americana na forma de livr...      fascinada   \n",
       "385  a universidade de tóquio desenvolveu uma pele ...  significativa   \n",
       "\n",
       "     complex_word_index                                         candidates  \n",
       "0                    20  [[\"pol\\u00eamica\"], [\"contradi\\u00e7\\u00e3o\"],...  \n",
       "1                     1  [[\"assunto\", \"lei\"], [\"proposta\", \"conte\\u00fa...  \n",
       "2                     2  [[\"controverso\"], [\"discut\\u00edvel\"], [\"duvid...  \n",
       "3                     5  [[\"criada\"], [\"planejada\"], [\"organizada\", \"pr...  \n",
       "4                     5  [[\"abund\\u00e2ncia\"], [\"fartura\", \"quantidade\"...  \n",
       "..                  ...                                                ...  \n",
       "381                   6  [[\"reuniram\"], [\"juntaram\"], [\"selecionaram\"],...  \n",
       "382                   8  [[\"tecnol\\u00f3gico\", \"t\\u00e9cnico\"], [\"mestr...  \n",
       "383                  11  [[\"impedir\"], [\"diminuir\"], [\"impossibilitar\"]...  \n",
       "384                  12  [[\"encantada\", \"apaixonada\"], [\"deslumbrado\"],...  \n",
       "385                  14  [[\"importante\"], [\"consider\\u00e1vel\"], [\"gran...  \n",
       "\n",
       "[386 rows x 4 columns]"
      ]
     },
     "execution_count": 9,
     "metadata": {},
     "output_type": "execute_result"
    }
   ],
   "source": [
    "data = load_dataset(Dataset.TSAR_PT)\n",
    "data"
   ]
  },
  {
   "cell_type": "code",
   "execution_count": 10,
   "metadata": {},
   "outputs": [
    {
     "name": "stderr",
     "output_type": "stream",
     "text": [
      "100%|██████████| 386/386 [00:00<00:00, 439.37it/s]"
     ]
    },
    {
     "name": "stdout",
     "output_type": "stream",
     "text": [
      "{'NOUN': 197, 'ADJ': 61, 'VERB': 120, 'ADP': 1, 'ADV': 9}\n"
     ]
    },
    {
     "name": "stderr",
     "output_type": "stream",
     "text": [
      "\n"
     ]
    }
   ],
   "source": [
    "pos_types = {}\n",
    "pos_types_words = {}\n",
    "nlp = load_spacy('pt')\n",
    "for i in tqdm(range(len(data))):\n",
    "    row = data.iloc[i]\n",
    "    text = row['text']\n",
    "    # print(text)\n",
    "    complex_word = row['complex_word']\n",
    "    doc = nlp(text)\n",
    "    for token in doc:\n",
    "        # print(token.text, token.pos_)\n",
    "        if token.text == complex_word:\n",
    "            pos = token.pos_\n",
    "            # print(token.text, pos)\n",
    "            if pos in pos_types:\n",
    "                pos_types[pos] += 1 \n",
    "            else:\n",
    "                pos_types[pos] = 1\n",
    "            if pos in pos_types_words:\n",
    "                pos_types_words[pos].append(token.text)\n",
    "            else: \n",
    "                pos_types_words[pos] = [token.text]\n",
    "    # break \n",
    "\n",
    "print(pos_types)\n"
   ]
  },
  {
   "cell_type": "code",
   "execution_count": 11,
   "metadata": {},
   "outputs": [
    {
     "name": "stdout",
     "output_type": "stream",
     "text": [
      "NOUN controvérsia, matéria, profusão, incremento, contenção, ocupantes, espectadores, desgaste, depredação, celebração, delegações, delegações, pontífice, rentabilidade, postulante, melancolia, ferroadas, reivindicações, prudência, divergência, conduta, premier, confinamento, fiscalização, pleitos, questão, grupo, funcionários, abrasador, conjecturas, aparelho, legenda, luminosidade, resolução, matriarca, quitutes, reflexão, rigor, mortandade, escalões, delegação, escalões, emissário, restrito, restrição, transferência, formatação, procedimentos, fundação, degradação, adesão, patrulha, eqüinos, pluralidade, itens, sanções, mordomias, mordomias, correção, turbulência, correções, malentendido, apenados, subordinação, colisão, notificação, assimetria, concretização, restrições, abastecimento, chancela, abastecimento, controvérsias, armazenamento, determinação, apenados, panificadora, panificadora, ampliação, descrença, proprietária, praga, expedição, detritos, segmento, precaução, impacto, percurso, rodízio, adeptos, rodízio, contusão, paradoxo, dispositivo, andanças, parlamentares, parlamentares, transparência, restrito, bobagens, sondagem, declínio, concorrência, calefação, gestão, diversidade, diversidade, busto, pedestal, busto, parlamentares, parlamentares, redutos, latrinas, vias, indignação, sonoridade, particularidades, indignação, seqüela, decorrência, patamar, entretenimento, localismo, conferência, luminosidade, colapso, evidência, expedição, endosso, escassez, artefatos, estimativas, transparência, notificação, notificados, destroços, lampejos, implicações, evidências, aparecimento, aparecimento, flutuações, acúmulo, diagnóstico, antivirais, reparos, inspeção, armazenamento, parceiros, sensores, relatos, lacuna, antídotos, sensores, imitações, sensores, alheia, estimativa, escassez, colapso, simulações, primórdios, cronista, fragmentos, conversão, experimentos, amostra, amostra, fragmentos, impacto, destroços, parceria, matador, linhagem, linhagem, experimento, vanguarda, conferência, amostras, punhado, evidências, advento, aparecimento, contagem, sedimentos, cepas, assimetria, apreensão, reparos, manutenção, colaboradores, concentração, ressalva, eficiência, linhagem, ancestrais\n",
      "================================================================================\n",
      "ADJ polêmico, fruto, cautelosos, desvincular, pujante, turbulentas, compulsório, incondicional, branda, parlamentar, progressiva, maçantes, suvenires, apetitosas, gastrointestinais, letárgico, etária, indelével, insólito, melancólico, legítimos, subumanas, simultâneas, efetiva, inabalável, alcoolizado, sofisticado, turbulenta, restritas, inviável, solucione, propícia, impecáveis, contíguas, ilustre, crucial, leigos, acessório, contraditório, montada, efêmera, pesarosa, propício, predatória, maciça, previsíveis, cardíaco, amostras, abranja, mariscos, mero, genética, clínicas, maciças, debilitado, convencionais, relevantes, vulnerável, protuberantes, científico, significativa\n",
      "================================================================================\n",
      "VERB armada, desgaste, revisar, cadastrados, proporcionar, emanava, ressalta, confeccionar, argumentam, intervir, espreitam, reduzir, verter, institui, ressuscitar, inquietam, blitze, desarticular, migrando, revista, oscilam, revezados, restringiu, erguida, constatar, interditada, assegura, sussurrando, desaparecidos, enquadrada, restringe, precipitada, rechaçada, fermentou, terraplenado, arregimentados, arregimentada, beneficiadas, ensombrecendo, apearam, miscigenada, estimado, encaminhado, argumenta, requereu, impetrada, persistem, despencaram, afligem, esgotar, alarmado, trafegava, contrariam, alastrar, fracassado, decorrem, inflamado, expropriar, expandir, despistado, comercializar, frear, integrado, coordenam, travado, equiparar, custear, postergado, desengonçado, protagonizam, ratificado, redobrada, escrivaninha, conferido, descontraído, debatidas, furtado, infectadas, infectados, motivou, aperfeiçoou, infectadas, estimam, constatar, aferir, associado, orbitando, selecionado, regulamentar, intensificam, estimar, infectam, monitorar, elucidar, triturar, vasculhar, minimizado, coordenado, rastreou, constataram, submetido, computando, financiado, liderada, infectou, noticiados, capitaneados, retendo, dissiparia, sequenciar, liderados, estruturada, superem, escalados, danificar, efetuada, submetida, compilaram, inibir, fascinada\n",
      "================================================================================\n",
      "ADP sigla\n",
      "================================================================================\n",
      "ADV atualmente, aparentemente, constantemente, requinte, exorbitante, atualmente, possivelmente, isoladamente, principalmente\n",
      "================================================================================\n"
     ]
    }
   ],
   "source": [
    "for key, values in pos_types_words.items():\n",
    "    print(key, ', '.join(values))\n",
    "    print('='*80)\n"
   ]
  },
  {
   "cell_type": "code",
   "execution_count": null,
   "metadata": {},
   "outputs": [],
   "source": []
  },
  {
   "cell_type": "code",
   "execution_count": null,
   "metadata": {},
   "outputs": [],
   "source": []
  }
 ],
 "metadata": {
  "kernelspec": {
   "display_name": "ConLS",
   "language": "python",
   "name": "python3"
  },
  "language_info": {
   "codemirror_mode": {
    "name": "ipython",
    "version": 3
   },
   "file_extension": ".py",
   "mimetype": "text/x-python",
   "name": "python",
   "nbconvert_exporter": "python",
   "pygments_lexer": "ipython3",
   "version": "3.9.4"
  },
  "orig_nbformat": 4,
  "vscode": {
   "interpreter": {
    "hash": "bcb0fdbb4bab7a793cb658b61a89aefc53dc0fcc7ce5cd3b0ea3da15cbf2b0a6"
   }
  }
 },
 "nbformat": 4,
 "nbformat_minor": 2
}
